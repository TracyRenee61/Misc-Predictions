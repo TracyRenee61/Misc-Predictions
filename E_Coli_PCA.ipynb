{
  "nbformat": 4,
  "nbformat_minor": 0,
  "metadata": {
    "colab": {
      "name": "E-Coli - PCA.ipynb",
      "provenance": []
    },
    "kernelspec": {
      "name": "python3",
      "display_name": "Python 3"
    }
  },
  "cells": [
    {
      "cell_type": "markdown",
      "metadata": {
        "id": "5y0J8sjxbuA_"
      },
      "source": [
        "The E Coli Imbalanced Dataset\n",
        "\n",
        "The dataset describes the problem of classifying E.coli proteins using their amino acid sequences in their cell localization sites. That is, predicting how a protein will bind to a cell based on the chemical composition of the protein before it is folded.\n",
        "\n",
        "The dataset is credited to Kenta Nakai and was developed into its current form by Paul Horton and Kenta Nakai in their 1996 paper titled “A Probabilistic Classification System For Predicting The Cellular Localization Sites Of Proteins.” In it, they achieved a classification accuracy of 81%.\n",
        "\n",
        "The dataset is comprised of 336 examples of E.coli proteins and each example is described using seven input variables calculated from the proteins amino acid sequence.\n",
        "\n",
        "Ignoring the sequence name, the input features are described as follows:\n",
        "\n",
        "mcg: McGeoch’s method for signal sequence recognition.\n",
        "\n",
        "gvh: von Heijne’s method for signal sequence recognition.\n",
        "\n",
        "lip: von Heijne’s Signal Peptidase II consensus sequence score.\n",
        "\n",
        "chg: Presence of charge on N-terminus of predicted lipoproteins.\n",
        "\n",
        "aac: score of discriminant analysis of the amino acid content of outer membrane and periplasmic proteins.\n",
        "\n",
        "alm1: score of the ALOM membrane-spanning region prediction program.\n",
        "\n",
        "alm2: score of ALOM program after excluding putative cleavable signal regions from the sequence.\n",
        "\n",
        "There are eight classes described as follows:\n",
        "\n",
        "cp: cytoplasm\n",
        "\n",
        "im: inner membrane without signal sequence\n",
        "\n",
        "pp: periplasm\n",
        "\n",
        "imU: inner membrane, non cleavable signal sequence\n",
        "\n",
        "om: outer membrane\n",
        "\n",
        "omL: outer membrane lipoprotein\n",
        "\n",
        "imL: inner membrane lipoprotein\n",
        "\n",
        "imS: inner membrane, cleavable signal sequence\n",
        "\n"
      ]
    },
    {
      "cell_type": "markdown",
      "metadata": {
        "id": "Ip34kQ-Jqjj_"
      },
      "source": [
        "Load libraries"
      ]
    },
    {
      "cell_type": "code",
      "metadata": {
        "id": "wIYpYF1Jpiql"
      },
      "source": [
        "#import libraries\n",
        "import pandas as pd\n",
        "import numpy as np\n",
        "import matplotlib.pyplot as plt\n",
        "%matplotlib inline\n",
        "import seaborn as sns"
      ],
      "execution_count": null,
      "outputs": []
    },
    {
      "cell_type": "markdown",
      "metadata": {
        "id": "sf1ETkFrqo5i"
      },
      "source": [
        "Load datasets"
      ]
    },
    {
      "cell_type": "code",
      "metadata": {
        "id": "ujZgjI15qxC3"
      },
      "source": [
        "#Load datasets\n",
        "train=pd.read_csv(\"https://raw.githubusercontent.com/jbrownlee/Datasets/master/ecoli.csv\")\n",
        "train.columns = ['mcg','gvh', 'lip','chg','aac','alm1','alm2', 'result']"
      ],
      "execution_count": null,
      "outputs": []
    },
    {
      "cell_type": "code",
      "metadata": {
        "id": "8oyz7qMurSqE",
        "colab": {
          "base_uri": "https://localhost:8080/",
          "height": 406
        },
        "outputId": "55ad30cb-12b7-4ba5-93b6-f20ac7fbc03a"
      },
      "source": [
        "train"
      ],
      "execution_count": null,
      "outputs": [
        {
          "output_type": "execute_result",
          "data": {
            "text/html": [
              "<div>\n",
              "<style scoped>\n",
              "    .dataframe tbody tr th:only-of-type {\n",
              "        vertical-align: middle;\n",
              "    }\n",
              "\n",
              "    .dataframe tbody tr th {\n",
              "        vertical-align: top;\n",
              "    }\n",
              "\n",
              "    .dataframe thead th {\n",
              "        text-align: right;\n",
              "    }\n",
              "</style>\n",
              "<table border=\"1\" class=\"dataframe\">\n",
              "  <thead>\n",
              "    <tr style=\"text-align: right;\">\n",
              "      <th></th>\n",
              "      <th>mcg</th>\n",
              "      <th>gvh</th>\n",
              "      <th>lip</th>\n",
              "      <th>chg</th>\n",
              "      <th>aac</th>\n",
              "      <th>alm1</th>\n",
              "      <th>alm2</th>\n",
              "      <th>result</th>\n",
              "    </tr>\n",
              "  </thead>\n",
              "  <tbody>\n",
              "    <tr>\n",
              "      <th>0</th>\n",
              "      <td>0.07</td>\n",
              "      <td>0.40</td>\n",
              "      <td>0.48</td>\n",
              "      <td>0.5</td>\n",
              "      <td>0.54</td>\n",
              "      <td>0.35</td>\n",
              "      <td>0.44</td>\n",
              "      <td>cp</td>\n",
              "    </tr>\n",
              "    <tr>\n",
              "      <th>1</th>\n",
              "      <td>0.56</td>\n",
              "      <td>0.40</td>\n",
              "      <td>0.48</td>\n",
              "      <td>0.5</td>\n",
              "      <td>0.49</td>\n",
              "      <td>0.37</td>\n",
              "      <td>0.46</td>\n",
              "      <td>cp</td>\n",
              "    </tr>\n",
              "    <tr>\n",
              "      <th>2</th>\n",
              "      <td>0.59</td>\n",
              "      <td>0.49</td>\n",
              "      <td>0.48</td>\n",
              "      <td>0.5</td>\n",
              "      <td>0.52</td>\n",
              "      <td>0.45</td>\n",
              "      <td>0.36</td>\n",
              "      <td>cp</td>\n",
              "    </tr>\n",
              "    <tr>\n",
              "      <th>3</th>\n",
              "      <td>0.23</td>\n",
              "      <td>0.32</td>\n",
              "      <td>0.48</td>\n",
              "      <td>0.5</td>\n",
              "      <td>0.55</td>\n",
              "      <td>0.25</td>\n",
              "      <td>0.35</td>\n",
              "      <td>cp</td>\n",
              "    </tr>\n",
              "    <tr>\n",
              "      <th>4</th>\n",
              "      <td>0.67</td>\n",
              "      <td>0.39</td>\n",
              "      <td>0.48</td>\n",
              "      <td>0.5</td>\n",
              "      <td>0.36</td>\n",
              "      <td>0.38</td>\n",
              "      <td>0.46</td>\n",
              "      <td>cp</td>\n",
              "    </tr>\n",
              "    <tr>\n",
              "      <th>...</th>\n",
              "      <td>...</td>\n",
              "      <td>...</td>\n",
              "      <td>...</td>\n",
              "      <td>...</td>\n",
              "      <td>...</td>\n",
              "      <td>...</td>\n",
              "      <td>...</td>\n",
              "      <td>...</td>\n",
              "    </tr>\n",
              "    <tr>\n",
              "      <th>330</th>\n",
              "      <td>0.74</td>\n",
              "      <td>0.56</td>\n",
              "      <td>0.48</td>\n",
              "      <td>0.5</td>\n",
              "      <td>0.47</td>\n",
              "      <td>0.68</td>\n",
              "      <td>0.30</td>\n",
              "      <td>pp</td>\n",
              "    </tr>\n",
              "    <tr>\n",
              "      <th>331</th>\n",
              "      <td>0.71</td>\n",
              "      <td>0.57</td>\n",
              "      <td>0.48</td>\n",
              "      <td>0.5</td>\n",
              "      <td>0.48</td>\n",
              "      <td>0.35</td>\n",
              "      <td>0.32</td>\n",
              "      <td>pp</td>\n",
              "    </tr>\n",
              "    <tr>\n",
              "      <th>332</th>\n",
              "      <td>0.61</td>\n",
              "      <td>0.60</td>\n",
              "      <td>0.48</td>\n",
              "      <td>0.5</td>\n",
              "      <td>0.44</td>\n",
              "      <td>0.39</td>\n",
              "      <td>0.38</td>\n",
              "      <td>pp</td>\n",
              "    </tr>\n",
              "    <tr>\n",
              "      <th>333</th>\n",
              "      <td>0.59</td>\n",
              "      <td>0.61</td>\n",
              "      <td>0.48</td>\n",
              "      <td>0.5</td>\n",
              "      <td>0.42</td>\n",
              "      <td>0.42</td>\n",
              "      <td>0.37</td>\n",
              "      <td>pp</td>\n",
              "    </tr>\n",
              "    <tr>\n",
              "      <th>334</th>\n",
              "      <td>0.74</td>\n",
              "      <td>0.74</td>\n",
              "      <td>0.48</td>\n",
              "      <td>0.5</td>\n",
              "      <td>0.31</td>\n",
              "      <td>0.53</td>\n",
              "      <td>0.52</td>\n",
              "      <td>pp</td>\n",
              "    </tr>\n",
              "  </tbody>\n",
              "</table>\n",
              "<p>335 rows × 8 columns</p>\n",
              "</div>"
            ],
            "text/plain": [
              "      mcg   gvh   lip  chg   aac  alm1  alm2 result\n",
              "0    0.07  0.40  0.48  0.5  0.54  0.35  0.44     cp\n",
              "1    0.56  0.40  0.48  0.5  0.49  0.37  0.46     cp\n",
              "2    0.59  0.49  0.48  0.5  0.52  0.45  0.36     cp\n",
              "3    0.23  0.32  0.48  0.5  0.55  0.25  0.35     cp\n",
              "4    0.67  0.39  0.48  0.5  0.36  0.38  0.46     cp\n",
              "..    ...   ...   ...  ...   ...   ...   ...    ...\n",
              "330  0.74  0.56  0.48  0.5  0.47  0.68  0.30     pp\n",
              "331  0.71  0.57  0.48  0.5  0.48  0.35  0.32     pp\n",
              "332  0.61  0.60  0.48  0.5  0.44  0.39  0.38     pp\n",
              "333  0.59  0.61  0.48  0.5  0.42  0.42  0.37     pp\n",
              "334  0.74  0.74  0.48  0.5  0.31  0.53  0.52     pp\n",
              "\n",
              "[335 rows x 8 columns]"
            ]
          },
          "metadata": {
            "tags": []
          },
          "execution_count": 40
        }
      ]
    },
    {
      "cell_type": "markdown",
      "metadata": {
        "id": "PpeywPghsYhw"
      },
      "source": [
        "Check for null values"
      ]
    },
    {
      "cell_type": "code",
      "metadata": {
        "id": "U9BVsDafsbSR",
        "colab": {
          "base_uri": "https://localhost:8080/"
        },
        "outputId": "0ffc43e9-d9f1-44ea-d7fe-a3be52f373cd"
      },
      "source": [
        "train.isnull().sum()"
      ],
      "execution_count": null,
      "outputs": [
        {
          "output_type": "execute_result",
          "data": {
            "text/plain": [
              "mcg       0\n",
              "gvh       0\n",
              "lip       0\n",
              "chg       0\n",
              "aac       0\n",
              "alm1      0\n",
              "alm2      0\n",
              "result    0\n",
              "dtype: int64"
            ]
          },
          "metadata": {
            "tags": []
          },
          "execution_count": 41
        }
      ]
    },
    {
      "cell_type": "markdown",
      "metadata": {
        "id": "fhCyD3srPVx3"
      },
      "source": [
        "Counter"
      ]
    },
    {
      "cell_type": "code",
      "metadata": {
        "colab": {
          "base_uri": "https://localhost:8080/"
        },
        "id": "hXTesKwSPapt",
        "outputId": "11c7167d-8989-42d5-b9ed-8f47fef66a17"
      },
      "source": [
        "import collections\r\n",
        "from collections import Counter\r\n",
        "\r\n",
        "counter = Counter(train.result)\r\n",
        "for k,v in counter.items():\r\n",
        "\tper = v / len(train.result) * 100\r\n",
        "\tprint('Class=%s, Count=%d, Percentage=%.3f%%' % (k, v, per))"
      ],
      "execution_count": null,
      "outputs": [
        {
          "output_type": "stream",
          "text": [
            "Class=cp, Count=142, Percentage=42.388%\n",
            "Class=im, Count=77, Percentage=22.985%\n",
            "Class=imS, Count=2, Percentage=0.597%\n",
            "Class=imL, Count=2, Percentage=0.597%\n",
            "Class=imU, Count=35, Percentage=10.448%\n",
            "Class=om, Count=20, Percentage=5.970%\n",
            "Class=omL, Count=5, Percentage=1.493%\n",
            "Class=pp, Count=52, Percentage=15.522%\n"
          ],
          "name": "stdout"
        }
      ]
    },
    {
      "cell_type": "markdown",
      "metadata": {
        "id": "lEXBFAlCKGKR"
      },
      "source": [
        "Define features"
      ]
    },
    {
      "cell_type": "code",
      "metadata": {
        "colab": {
          "base_uri": "https://localhost:8080/"
        },
        "id": "y3Rs5D3pKKrc",
        "outputId": "309cc437-0291-4be3-f381-6def2b0d1573"
      },
      "source": [
        "features = train.columns\r\n",
        "features"
      ],
      "execution_count": null,
      "outputs": [
        {
          "output_type": "execute_result",
          "data": {
            "text/plain": [
              "Index(['mcg', 'gvh', 'lip', 'chg', 'aac', 'alm1', 'alm2', 'result'], dtype='object')"
            ]
          },
          "metadata": {
            "tags": []
          },
          "execution_count": 43
        }
      ]
    },
    {
      "cell_type": "markdown",
      "metadata": {
        "id": "EjMxhoUAIctz"
      },
      "source": [
        "Define X and Scaler"
      ]
    },
    {
      "cell_type": "code",
      "metadata": {
        "colab": {
          "base_uri": "https://localhost:8080/"
        },
        "id": "m3S-v6veIcOv",
        "outputId": "ffea428e-57f1-4042-e0d0-d9567000f52c"
      },
      "source": [
        "from sklearn.preprocessing import StandardScaler\r\n",
        "\r\n",
        "X = train.drop(['result'], axis=1).values\r\n",
        "X = StandardScaler().fit_transform(X) # normalizing the features\r\n",
        "X.shape"
      ],
      "execution_count": null,
      "outputs": [
        {
          "output_type": "execute_result",
          "data": {
            "text/plain": [
              "(335, 7)"
            ]
          },
          "metadata": {
            "tags": []
          },
          "execution_count": 44
        }
      ]
    },
    {
      "cell_type": "code",
      "metadata": {
        "colab": {
          "base_uri": "https://localhost:8080/"
        },
        "id": "0so0AqTTJZAA",
        "outputId": "8e412e5a-31f5-4c1f-ef33-a4d593504673"
      },
      "source": [
        "np.mean(X),np.std(X)"
      ],
      "execution_count": null,
      "outputs": [
        {
          "output_type": "execute_result",
          "data": {
            "text/plain": [
              "(1.7877194631064355e-16, 1.0)"
            ]
          },
          "metadata": {
            "tags": []
          },
          "execution_count": 45
        }
      ]
    },
    {
      "cell_type": "code",
      "metadata": {
        "colab": {
          "base_uri": "https://localhost:8080/"
        },
        "id": "i8Ww_LWIK-pV",
        "outputId": "cb33946e-d612-4b20-cce7-ff8711b97c85"
      },
      "source": [
        "feat_cols = ['feature'+str(i) for i in range(X.shape[1])]\r\n",
        "feat_cols"
      ],
      "execution_count": null,
      "outputs": [
        {
          "output_type": "execute_result",
          "data": {
            "text/plain": [
              "['feature0',\n",
              " 'feature1',\n",
              " 'feature2',\n",
              " 'feature3',\n",
              " 'feature4',\n",
              " 'feature5',\n",
              " 'feature6']"
            ]
          },
          "metadata": {
            "tags": []
          },
          "execution_count": 46
        }
      ]
    },
    {
      "cell_type": "code",
      "metadata": {
        "colab": {
          "base_uri": "https://localhost:8080/",
          "height": 406
        },
        "id": "ybmW_3kJLMgD",
        "outputId": "69f7053c-81e2-49e4-8dca-734afed82914"
      },
      "source": [
        "normalised = pd.DataFrame(X,columns=feat_cols)\r\n",
        "normalised"
      ],
      "execution_count": null,
      "outputs": [
        {
          "output_type": "execute_result",
          "data": {
            "text/html": [
              "<div>\n",
              "<style scoped>\n",
              "    .dataframe tbody tr th:only-of-type {\n",
              "        vertical-align: middle;\n",
              "    }\n",
              "\n",
              "    .dataframe tbody tr th {\n",
              "        vertical-align: top;\n",
              "    }\n",
              "\n",
              "    .dataframe thead th {\n",
              "        text-align: right;\n",
              "    }\n",
              "</style>\n",
              "<table border=\"1\" class=\"dataframe\">\n",
              "  <thead>\n",
              "    <tr style=\"text-align: right;\">\n",
              "      <th></th>\n",
              "      <th>feature0</th>\n",
              "      <th>feature1</th>\n",
              "      <th>feature2</th>\n",
              "      <th>feature3</th>\n",
              "      <th>feature4</th>\n",
              "      <th>feature5</th>\n",
              "      <th>feature6</th>\n",
              "    </tr>\n",
              "  </thead>\n",
              "  <tbody>\n",
              "    <tr>\n",
              "      <th>0</th>\n",
              "      <td>-2.209744</td>\n",
              "      <td>-0.681243</td>\n",
              "      <td>-0.175412</td>\n",
              "      <td>-0.054718</td>\n",
              "      <td>0.328200</td>\n",
              "      <td>-0.701201</td>\n",
              "      <td>-0.287594</td>\n",
              "    </tr>\n",
              "    <tr>\n",
              "      <th>1</th>\n",
              "      <td>0.307812</td>\n",
              "      <td>-0.681243</td>\n",
              "      <td>-0.175412</td>\n",
              "      <td>-0.054718</td>\n",
              "      <td>-0.080525</td>\n",
              "      <td>-0.608299</td>\n",
              "      <td>-0.192015</td>\n",
              "    </tr>\n",
              "    <tr>\n",
              "      <th>2</th>\n",
              "      <td>0.461948</td>\n",
              "      <td>-0.071944</td>\n",
              "      <td>-0.175412</td>\n",
              "      <td>-0.054718</td>\n",
              "      <td>0.164710</td>\n",
              "      <td>-0.236692</td>\n",
              "      <td>-0.669911</td>\n",
              "    </tr>\n",
              "    <tr>\n",
              "      <th>3</th>\n",
              "      <td>-1.387685</td>\n",
              "      <td>-1.222843</td>\n",
              "      <td>-0.175412</td>\n",
              "      <td>-0.054718</td>\n",
              "      <td>0.409945</td>\n",
              "      <td>-1.165709</td>\n",
              "      <td>-0.717701</td>\n",
              "    </tr>\n",
              "    <tr>\n",
              "      <th>4</th>\n",
              "      <td>0.872978</td>\n",
              "      <td>-0.748943</td>\n",
              "      <td>-0.175412</td>\n",
              "      <td>-0.054718</td>\n",
              "      <td>-1.143209</td>\n",
              "      <td>-0.561848</td>\n",
              "      <td>-0.192015</td>\n",
              "    </tr>\n",
              "    <tr>\n",
              "      <th>...</th>\n",
              "      <td>...</td>\n",
              "      <td>...</td>\n",
              "      <td>...</td>\n",
              "      <td>...</td>\n",
              "      <td>...</td>\n",
              "      <td>...</td>\n",
              "      <td>...</td>\n",
              "    </tr>\n",
              "    <tr>\n",
              "      <th>330</th>\n",
              "      <td>1.232629</td>\n",
              "      <td>0.401956</td>\n",
              "      <td>-0.175412</td>\n",
              "      <td>-0.054718</td>\n",
              "      <td>-0.244015</td>\n",
              "      <td>0.831679</td>\n",
              "      <td>-0.956650</td>\n",
              "    </tr>\n",
              "    <tr>\n",
              "      <th>331</th>\n",
              "      <td>1.078493</td>\n",
              "      <td>0.469656</td>\n",
              "      <td>-0.175412</td>\n",
              "      <td>-0.054718</td>\n",
              "      <td>-0.162270</td>\n",
              "      <td>-0.701201</td>\n",
              "      <td>-0.861070</td>\n",
              "    </tr>\n",
              "    <tr>\n",
              "      <th>332</th>\n",
              "      <td>0.564706</td>\n",
              "      <td>0.672756</td>\n",
              "      <td>-0.175412</td>\n",
              "      <td>-0.054718</td>\n",
              "      <td>-0.489250</td>\n",
              "      <td>-0.515397</td>\n",
              "      <td>-0.574332</td>\n",
              "    </tr>\n",
              "    <tr>\n",
              "      <th>333</th>\n",
              "      <td>0.461948</td>\n",
              "      <td>0.740456</td>\n",
              "      <td>-0.175412</td>\n",
              "      <td>-0.054718</td>\n",
              "      <td>-0.652739</td>\n",
              "      <td>-0.376044</td>\n",
              "      <td>-0.622122</td>\n",
              "    </tr>\n",
              "    <tr>\n",
              "      <th>334</th>\n",
              "      <td>1.232629</td>\n",
              "      <td>1.620555</td>\n",
              "      <td>-0.175412</td>\n",
              "      <td>-0.054718</td>\n",
              "      <td>-1.551934</td>\n",
              "      <td>0.134916</td>\n",
              "      <td>0.094723</td>\n",
              "    </tr>\n",
              "  </tbody>\n",
              "</table>\n",
              "<p>335 rows × 7 columns</p>\n",
              "</div>"
            ],
            "text/plain": [
              "     feature0  feature1  feature2  feature3  feature4  feature5  feature6\n",
              "0   -2.209744 -0.681243 -0.175412 -0.054718  0.328200 -0.701201 -0.287594\n",
              "1    0.307812 -0.681243 -0.175412 -0.054718 -0.080525 -0.608299 -0.192015\n",
              "2    0.461948 -0.071944 -0.175412 -0.054718  0.164710 -0.236692 -0.669911\n",
              "3   -1.387685 -1.222843 -0.175412 -0.054718  0.409945 -1.165709 -0.717701\n",
              "4    0.872978 -0.748943 -0.175412 -0.054718 -1.143209 -0.561848 -0.192015\n",
              "..        ...       ...       ...       ...       ...       ...       ...\n",
              "330  1.232629  0.401956 -0.175412 -0.054718 -0.244015  0.831679 -0.956650\n",
              "331  1.078493  0.469656 -0.175412 -0.054718 -0.162270 -0.701201 -0.861070\n",
              "332  0.564706  0.672756 -0.175412 -0.054718 -0.489250 -0.515397 -0.574332\n",
              "333  0.461948  0.740456 -0.175412 -0.054718 -0.652739 -0.376044 -0.622122\n",
              "334  1.232629  1.620555 -0.175412 -0.054718 -1.551934  0.134916  0.094723\n",
              "\n",
              "[335 rows x 7 columns]"
            ]
          },
          "metadata": {
            "tags": []
          },
          "execution_count": 47
        }
      ]
    },
    {
      "cell_type": "markdown",
      "metadata": {
        "id": "dDK-ctKILgx-"
      },
      "source": [
        "Create model 2D model"
      ]
    },
    {
      "cell_type": "code",
      "metadata": {
        "id": "D0AIwxvXLjDl"
      },
      "source": [
        "from sklearn.decomposition import PCA\r\n",
        "\r\n",
        "pca_coli = PCA(n_components=2)\r\n",
        "principalComponents_coli = pca_coli.fit_transform(X)"
      ],
      "execution_count": null,
      "outputs": []
    },
    {
      "cell_type": "code",
      "metadata": {
        "colab": {
          "base_uri": "https://localhost:8080/",
          "height": 406
        },
        "id": "Z1r2yNRPLy-y",
        "outputId": "8374fb69-4b07-45cb-e494-7b1d7fccd533"
      },
      "source": [
        "principal_coli_Df = pd.DataFrame(data = principalComponents_coli\r\n",
        "             , columns = ['principal component 1', 'principal component 2'])\r\n",
        "principal_coli_Df"
      ],
      "execution_count": null,
      "outputs": [
        {
          "output_type": "execute_result",
          "data": {
            "text/html": [
              "<div>\n",
              "<style scoped>\n",
              "    .dataframe tbody tr th:only-of-type {\n",
              "        vertical-align: middle;\n",
              "    }\n",
              "\n",
              "    .dataframe tbody tr th {\n",
              "        vertical-align: top;\n",
              "    }\n",
              "\n",
              "    .dataframe thead th {\n",
              "        text-align: right;\n",
              "    }\n",
              "</style>\n",
              "<table border=\"1\" class=\"dataframe\">\n",
              "  <thead>\n",
              "    <tr style=\"text-align: right;\">\n",
              "      <th></th>\n",
              "      <th>principal component 1</th>\n",
              "      <th>principal component 2</th>\n",
              "    </tr>\n",
              "  </thead>\n",
              "  <tbody>\n",
              "    <tr>\n",
              "      <th>0</th>\n",
              "      <td>-1.585839</td>\n",
              "      <td>-1.041989</td>\n",
              "    </tr>\n",
              "    <tr>\n",
              "      <th>1</th>\n",
              "      <td>-0.533184</td>\n",
              "      <td>-0.133471</td>\n",
              "    </tr>\n",
              "    <tr>\n",
              "      <th>2</th>\n",
              "      <td>-0.265328</td>\n",
              "      <td>0.339697</td>\n",
              "    </tr>\n",
              "    <tr>\n",
              "      <th>3</th>\n",
              "      <td>-1.823605</td>\n",
              "      <td>-0.739828</td>\n",
              "    </tr>\n",
              "    <tr>\n",
              "      <th>4</th>\n",
              "      <td>-0.645138</td>\n",
              "      <td>0.086833</td>\n",
              "    </tr>\n",
              "    <tr>\n",
              "      <th>...</th>\n",
              "      <td>...</td>\n",
              "      <td>...</td>\n",
              "    </tr>\n",
              "    <tr>\n",
              "      <th>330</th>\n",
              "      <td>0.532650</td>\n",
              "      <td>0.815624</td>\n",
              "    </tr>\n",
              "    <tr>\n",
              "      <th>331</th>\n",
              "      <td>-0.372226</td>\n",
              "      <td>0.998859</td>\n",
              "    </tr>\n",
              "    <tr>\n",
              "      <th>332</th>\n",
              "      <td>-0.403855</td>\n",
              "      <td>0.767901</td>\n",
              "    </tr>\n",
              "    <tr>\n",
              "      <th>333</th>\n",
              "      <td>-0.430099</td>\n",
              "      <td>0.765754</td>\n",
              "    </tr>\n",
              "    <tr>\n",
              "      <th>334</th>\n",
              "      <td>0.462420</td>\n",
              "      <td>1.132721</td>\n",
              "    </tr>\n",
              "  </tbody>\n",
              "</table>\n",
              "<p>335 rows × 2 columns</p>\n",
              "</div>"
            ],
            "text/plain": [
              "     principal component 1  principal component 2\n",
              "0                -1.585839              -1.041989\n",
              "1                -0.533184              -0.133471\n",
              "2                -0.265328               0.339697\n",
              "3                -1.823605              -0.739828\n",
              "4                -0.645138               0.086833\n",
              "..                     ...                    ...\n",
              "330               0.532650               0.815624\n",
              "331              -0.372226               0.998859\n",
              "332              -0.403855               0.767901\n",
              "333              -0.430099               0.765754\n",
              "334               0.462420               1.132721\n",
              "\n",
              "[335 rows x 2 columns]"
            ]
          },
          "metadata": {
            "tags": []
          },
          "execution_count": 49
        }
      ]
    },
    {
      "cell_type": "code",
      "metadata": {
        "colab": {
          "base_uri": "https://localhost:8080/"
        },
        "id": "vis4mWQnMF9x",
        "outputId": "00f88b67-511c-41a0-a07a-ce16678c4288"
      },
      "source": [
        "print('Explained variation per principal component: {}'.format(pca_coli.explained_variance_ratio_))"
      ],
      "execution_count": null,
      "outputs": [
        {
          "output_type": "stream",
          "text": [
            "Explained variation per principal component: [0.31513592 0.2090622 ]\n"
          ],
          "name": "stdout"
        }
      ]
    },
    {
      "cell_type": "code",
      "metadata": {
        "colab": {
          "base_uri": "https://localhost:8080/",
          "height": 674
        },
        "id": "BMTh2Ln4MWfs",
        "outputId": "3b91b8ae-b26e-4557-8ab4-8a61f98b5076"
      },
      "source": [
        "import matplotlib.pyplot as plt\r\n",
        "\r\n",
        "plt.figure()\r\n",
        "plt.figure(figsize=(10,10))\r\n",
        "plt.xticks(fontsize=12)\r\n",
        "plt.yticks(fontsize=14)\r\n",
        "plt.xlabel('Principal Component - 1',fontsize=20)\r\n",
        "plt.ylabel('Principal Component - 2',fontsize=20)\r\n",
        "plt.title(\"Principal Component Analysis of E.Coli Dataset\",fontsize=20)\r\n",
        "targets = ['cp', 'im', 'pp', 'imU', 'om', 'omL', 'imL', 'imS']\r\n",
        "colors = ['r', 'g', 'b', 'black', 'y', 'grey', 'purple', 'maroon']\r\n",
        "for target, color in zip(targets,colors):\r\n",
        "    indicesToKeep = train['result'] == target\r\n",
        "    plt.scatter(principal_coli_Df.loc[indicesToKeep, 'principal component 1'], principal_coli_Df.loc[indicesToKeep, 'principal component 2'], c = color, s = 50)\r\n",
        "\r\n",
        "plt.legend(targets,prop={'size': 15})"
      ],
      "execution_count": null,
      "outputs": [
        {
          "output_type": "execute_result",
          "data": {
            "text/plain": [
              "<matplotlib.legend.Legend at 0x7f00b3e8e198>"
            ]
          },
          "metadata": {
            "tags": []
          },
          "execution_count": 51
        },
        {
          "output_type": "display_data",
          "data": {
            "text/plain": [
              "<Figure size 432x288 with 0 Axes>"
            ]
          },
          "metadata": {
            "tags": []
          }
        },
        {
          "output_type": "display_data",
          "data": {
            "image/png": "[encoded data removed]",
            "text/plain": [
              "<Figure size 720x720 with 1 Axes>"
            ]
          },
          "metadata": {
            "tags": [],
            "needs_background": "light"
          }
        }
      ]
    },
    {
      "cell_type": "markdown",
      "metadata": {
        "id": "FQWlbPD0RHny"
      },
      "source": [
        "Create 3D model"
      ]
    },
    {
      "cell_type": "code",
      "metadata": {
        "colab": {
          "base_uri": "https://localhost:8080/",
          "height": 463
        },
        "id": "7JxhcjVVRnWU",
        "outputId": "1c18848f-e3cf-456b-9394-9e878ab9d480"
      },
      "source": [
        "import numpy as np\r\n",
        "import matplotlib.pyplot as plt\r\n",
        "from mpl_toolkits.mplot3d import Axes3D\r\n",
        "from sklearn import decomposition\r\n",
        "from sklearn import preprocessing\r\n",
        "\r\n",
        "le = preprocessing.LabelEncoder()\r\n",
        "\r\n",
        "y = train.result\r\n",
        "\r\n",
        "y = le.fit_transform(y)\r\n",
        "\r\n",
        "fig = plt.figure(1, figsize=(8, 6))\r\n",
        "plt.clf()\r\n",
        "ax = Axes3D(fig, rect=[0, 0, .95, 1], elev=48, azim=134)\r\n",
        "\r\n",
        "plt.cla()\r\n",
        "pca = decomposition.PCA(n_components=3)\r\n",
        "pca.fit(X)\r\n",
        "X = pca.transform(X)\r\n",
        "\r\n",
        "for name, label in [('cp', 0), ('im', 1), ('pp', 2), ('imU', 3), ('om', 4), ('omL', 5), ('imL', 6), ('imS', 7)]:\r\n",
        "    ax.text3D(X[y == label, 0].mean(),\r\n",
        "              X[y == label, 1].mean() + 1.5,\r\n",
        "              X[y == label, 2].mean(),name,\r\n",
        "              horizontalalignment='center',\r\n",
        "              bbox=dict(alpha=.5, edgecolor='w', facecolor='w'))\r\n",
        "# Reorder the labels to have colors matching the cluster results\r\n",
        "y = np.choose(y, [1, 2, 0, 3, 4, 5, 6, 7]).astype(np.float)\r\n",
        "ax.scatter(X[:, 0], X[:, 1], X[:, 2], c=y, cmap=plt.cm.nipy_spectral,\r\n",
        "           edgecolor='k')\r\n",
        "\r\n",
        "ax.w_xaxis.set_ticklabels([])\r\n",
        "ax.w_yaxis.set_ticklabels([])\r\n",
        "ax.w_zaxis.set_ticklabels([])\r\n",
        "\r\n",
        "plt.show()"
      ],
      "execution_count": null,
      "outputs": [
        {
          "output_type": "display_data",
          "data": {
            "image/png": "[encoded data removed]",
            "text/plain": [
              "<Figure size 576x432 with 1 Axes>"
            ]
          },
          "metadata": {
            "tags": [],
            "needs_background": "light"
          }
        }
      ]
    }
  ]
}