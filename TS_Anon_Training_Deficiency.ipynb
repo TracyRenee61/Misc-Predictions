{
  "nbformat": 4,
  "nbformat_minor": 0,
  "metadata": {
    "colab": {
      "name": "TS Anon Training Deficiency.ipynb",
      "provenance": []
    },
    "kernelspec": {
      "name": "python3",
      "display_name": "Python 3"
    }
  },
  "cells": [
    {
      "cell_type": "markdown",
      "metadata": {
        "id": "dek3CcDlrxqO"
      },
      "source": [
        "Problem Statement\n",
        "\n",
        "Training deficiencies for an anonymous department in an organisation have been collected from 2016 to 2020. It is worth noting that the COV19 pandemic started in early 2020 and this would have an effect on the training deficiencies.\n",
        "\n",
        "The task is to analyse this data to look for trends."
      ]
    },
    {
      "cell_type": "markdown",
      "metadata": {
        "id": "RjjxQvPUsIrB"
      },
      "source": [
        "Load libraries"
      ]
    },
    {
      "cell_type": "code",
      "metadata": {
        "id": "dEXK74DIrsH3"
      },
      "source": [
        "import pandas as pd\n",
        "import numpy as np"
      ],
      "execution_count": 780,
      "outputs": []
    },
    {
      "cell_type": "markdown",
      "metadata": {
        "id": "ftYCfX1-sgkv"
      },
      "source": [
        "Import csv file"
      ]
    },
    {
      "cell_type": "code",
      "metadata": {
        "id": "mlxnuOQYstTw",
        "outputId": "a8dd85f9-4fa5-4261-fa87-3a8e593371ec",
        "colab": {
          "base_uri": "https://localhost:8080/",
          "height": 1000
        }
      },
      "source": [
        "df = pd.read_csv('https://raw.githubusercontent.com/TracyRenee61/Misc-Predictions/main/Anon%20Training%20Deficiency%20-%20Anon%20Training%20Deficiency%20(1).csv',parse_dates=['Month Year'], index_col=['Month Year'])\n",
        "df\n"
      ],
      "execution_count": 781,
      "outputs": [
        {
          "output_type": "execute_result",
          "data": {
            "text/html": [
              "<div>\n",
              "<style scoped>\n",
              "    .dataframe tbody tr th:only-of-type {\n",
              "        vertical-align: middle;\n",
              "    }\n",
              "\n",
              "    .dataframe tbody tr th {\n",
              "        vertical-align: top;\n",
              "    }\n",
              "\n",
              "    .dataframe thead th {\n",
              "        text-align: right;\n",
              "    }\n",
              "</style>\n",
              "<table border=\"1\" class=\"dataframe\">\n",
              "  <thead>\n",
              "    <tr style=\"text-align: right;\">\n",
              "      <th></th>\n",
              "      <th>Training Deficiency</th>\n",
              "    </tr>\n",
              "    <tr>\n",
              "      <th>Month Year</th>\n",
              "      <th></th>\n",
              "    </tr>\n",
              "  </thead>\n",
              "  <tbody>\n",
              "    <tr>\n",
              "      <th>Jun-16</th>\n",
              "      <td>111</td>\n",
              "    </tr>\n",
              "    <tr>\n",
              "      <th>Jul-16</th>\n",
              "      <td>124</td>\n",
              "    </tr>\n",
              "    <tr>\n",
              "      <th>Aug-16</th>\n",
              "      <td>133</td>\n",
              "    </tr>\n",
              "    <tr>\n",
              "      <th>Sep-16</th>\n",
              "      <td>139</td>\n",
              "    </tr>\n",
              "    <tr>\n",
              "      <th>Oct-16</th>\n",
              "      <td>131</td>\n",
              "    </tr>\n",
              "    <tr>\n",
              "      <th>Nov-16</th>\n",
              "      <td>149</td>\n",
              "    </tr>\n",
              "    <tr>\n",
              "      <th>Dec-16</th>\n",
              "      <td>171</td>\n",
              "    </tr>\n",
              "    <tr>\n",
              "      <th>Jan-17</th>\n",
              "      <td>189</td>\n",
              "    </tr>\n",
              "    <tr>\n",
              "      <th>Feb-17</th>\n",
              "      <td>207</td>\n",
              "    </tr>\n",
              "    <tr>\n",
              "      <th>Mar-17</th>\n",
              "      <td>210</td>\n",
              "    </tr>\n",
              "    <tr>\n",
              "      <th>Apr-17</th>\n",
              "      <td>195</td>\n",
              "    </tr>\n",
              "    <tr>\n",
              "      <th>May-17</th>\n",
              "      <td>190</td>\n",
              "    </tr>\n",
              "    <tr>\n",
              "      <th>Jun-17</th>\n",
              "      <td>204</td>\n",
              "    </tr>\n",
              "    <tr>\n",
              "      <th>Jul-17</th>\n",
              "      <td>136</td>\n",
              "    </tr>\n",
              "    <tr>\n",
              "      <th>Aug-17</th>\n",
              "      <td>139</td>\n",
              "    </tr>\n",
              "    <tr>\n",
              "      <th>Sep-17</th>\n",
              "      <td>152</td>\n",
              "    </tr>\n",
              "    <tr>\n",
              "      <th>Oct-17</th>\n",
              "      <td>147</td>\n",
              "    </tr>\n",
              "    <tr>\n",
              "      <th>Nov-17</th>\n",
              "      <td>107</td>\n",
              "    </tr>\n",
              "    <tr>\n",
              "      <th>Dec-17</th>\n",
              "      <td>105</td>\n",
              "    </tr>\n",
              "    <tr>\n",
              "      <th>Jan-18</th>\n",
              "      <td>112</td>\n",
              "    </tr>\n",
              "    <tr>\n",
              "      <th>Feb-18</th>\n",
              "      <td>117</td>\n",
              "    </tr>\n",
              "    <tr>\n",
              "      <th>Mar-18</th>\n",
              "      <td>143</td>\n",
              "    </tr>\n",
              "    <tr>\n",
              "      <th>Apr-18</th>\n",
              "      <td>146</td>\n",
              "    </tr>\n",
              "    <tr>\n",
              "      <th>May-18</th>\n",
              "      <td>156</td>\n",
              "    </tr>\n",
              "    <tr>\n",
              "      <th>Jun-18</th>\n",
              "      <td>142</td>\n",
              "    </tr>\n",
              "    <tr>\n",
              "      <th>Jul-18</th>\n",
              "      <td>143</td>\n",
              "    </tr>\n",
              "    <tr>\n",
              "      <th>Aug-18</th>\n",
              "      <td>135</td>\n",
              "    </tr>\n",
              "    <tr>\n",
              "      <th>Sep-18</th>\n",
              "      <td>131</td>\n",
              "    </tr>\n",
              "    <tr>\n",
              "      <th>Oct-18</th>\n",
              "      <td>128</td>\n",
              "    </tr>\n",
              "    <tr>\n",
              "      <th>Nov-18</th>\n",
              "      <td>103</td>\n",
              "    </tr>\n",
              "    <tr>\n",
              "      <th>Dec-18</th>\n",
              "      <td>93</td>\n",
              "    </tr>\n",
              "    <tr>\n",
              "      <th>Jan-19</th>\n",
              "      <td>89</td>\n",
              "    </tr>\n",
              "    <tr>\n",
              "      <th>Feb-19</th>\n",
              "      <td>81</td>\n",
              "    </tr>\n",
              "    <tr>\n",
              "      <th>Mar-19</th>\n",
              "      <td>80</td>\n",
              "    </tr>\n",
              "    <tr>\n",
              "      <th>Apr-19</th>\n",
              "      <td>123</td>\n",
              "    </tr>\n",
              "    <tr>\n",
              "      <th>May-19</th>\n",
              "      <td>135</td>\n",
              "    </tr>\n",
              "    <tr>\n",
              "      <th>Jun-19</th>\n",
              "      <td>133</td>\n",
              "    </tr>\n",
              "    <tr>\n",
              "      <th>Jul 19</th>\n",
              "      <td>140</td>\n",
              "    </tr>\n",
              "    <tr>\n",
              "      <th>Aug 19</th>\n",
              "      <td>148</td>\n",
              "    </tr>\n",
              "    <tr>\n",
              "      <th>Sep-19</th>\n",
              "      <td>156</td>\n",
              "    </tr>\n",
              "    <tr>\n",
              "      <th>Oct-19</th>\n",
              "      <td>157</td>\n",
              "    </tr>\n",
              "    <tr>\n",
              "      <th>Nov-19</th>\n",
              "      <td>152</td>\n",
              "    </tr>\n",
              "    <tr>\n",
              "      <th>Dec-19</th>\n",
              "      <td>130</td>\n",
              "    </tr>\n",
              "    <tr>\n",
              "      <th>Jan-20</th>\n",
              "      <td>130</td>\n",
              "    </tr>\n",
              "    <tr>\n",
              "      <th>Feb-20</th>\n",
              "      <td>160</td>\n",
              "    </tr>\n",
              "    <tr>\n",
              "      <th>Mar-20</th>\n",
              "      <td>171</td>\n",
              "    </tr>\n",
              "    <tr>\n",
              "      <th>Apr-20</th>\n",
              "      <td>169</td>\n",
              "    </tr>\n",
              "    <tr>\n",
              "      <th>May-20</th>\n",
              "      <td>177</td>\n",
              "    </tr>\n",
              "    <tr>\n",
              "      <th>Jun-20</th>\n",
              "      <td>219</td>\n",
              "    </tr>\n",
              "    <tr>\n",
              "      <th>Jul-20</th>\n",
              "      <td>200</td>\n",
              "    </tr>\n",
              "    <tr>\n",
              "      <th>Aug-20</th>\n",
              "      <td>202</td>\n",
              "    </tr>\n",
              "    <tr>\n",
              "      <th>Sep-20</th>\n",
              "      <td>192</td>\n",
              "    </tr>\n",
              "    <tr>\n",
              "      <th>Oct-20</th>\n",
              "      <td>198</td>\n",
              "    </tr>\n",
              "  </tbody>\n",
              "</table>\n",
              "</div>"
            ],
            "text/plain": [
              "            Training Deficiency\n",
              "Month Year                     \n",
              "Jun-16                      111\n",
              "Jul-16                      124\n",
              "Aug-16                      133\n",
              "Sep-16                      139\n",
              "Oct-16                      131\n",
              "Nov-16                      149\n",
              "Dec-16                      171\n",
              "Jan-17                      189\n",
              "Feb-17                      207\n",
              "Mar-17                      210\n",
              "Apr-17                      195\n",
              "May-17                      190\n",
              "Jun-17                      204\n",
              "Jul-17                      136\n",
              "Aug-17                      139\n",
              "Sep-17                      152\n",
              "Oct-17                      147\n",
              "Nov-17                      107\n",
              "Dec-17                      105\n",
              "Jan-18                      112\n",
              "Feb-18                      117\n",
              "Mar-18                      143\n",
              "Apr-18                      146\n",
              "May-18                      156\n",
              "Jun-18                      142\n",
              "Jul-18                      143\n",
              "Aug-18                      135\n",
              "Sep-18                      131\n",
              "Oct-18                      128\n",
              "Nov-18                      103\n",
              "Dec-18                       93\n",
              "Jan-19                       89\n",
              "Feb-19                       81\n",
              "Mar-19                       80\n",
              "Apr-19                      123\n",
              "May-19                      135\n",
              "Jun-19                      133\n",
              "Jul 19                      140\n",
              "Aug 19                      148\n",
              "Sep-19                      156\n",
              "Oct-19                      157\n",
              "Nov-19                      152\n",
              "Dec-19                      130\n",
              "Jan-20                      130\n",
              "Feb-20                      160\n",
              "Mar-20                      171\n",
              "Apr-20                      169\n",
              "May-20                      177\n",
              "Jun-20                      219\n",
              "Jul-20                      200\n",
              "Aug-20                      202\n",
              "Sep-20                      192\n",
              "Oct-20                      198"
            ]
          },
          "metadata": {
            "tags": []
          },
          "execution_count": 781
        }
      ]
    },
    {
      "cell_type": "markdown",
      "metadata": {
        "id": "pGbYi18CutUv"
      },
      "source": [
        "Visualise time series"
      ]
    },
    {
      "cell_type": "code",
      "metadata": {
        "id": "iasdax4hu28i",
        "outputId": "0c775947-3cad-4480-d9f7-d10c9b6c1404",
        "colab": {
          "base_uri": "https://localhost:8080/",
          "height": 455
        }
      },
      "source": [
        "import matplotlib.pyplot as plt\n",
        "\n",
        "def plot_df(df, x, y, title=\"\", xlabel='Month Year', ylabel='Training Deficiency', dpi=100):\n",
        "    plt.figure(figsize=(16,5), dpi=dpi)\n",
        "    plt.plot(x, y, color='tab:red')\n",
        "    plt.gca().set(title=title, xlabel=xlabel, ylabel=ylabel)\n",
        "    plt.show()\n",
        "\n",
        "plot_df(df, x=df.index, y=df['Training Deficiency'], title='Training Deficiencies from 2016 to 2020') "
      ],
      "execution_count": 782,
      "outputs": [
        {
          "output_type": "display_data",
          "data": {
            "image/png": "[encoded data removed]",
            "text/plain": [
              "<Figure size 1600x500 with 1 Axes>"
            ]
          },
          "metadata": {
            "tags": [],
            "needs_background": "light"
          }
        }
      ]
    },
    {
      "cell_type": "markdown",
      "metadata": {
        "id": "ddQQa2aAvwi4"
      },
      "source": [
        "Show both sides of y axis"
      ]
    },
    {
      "cell_type": "code",
      "metadata": {
        "id": "YdCgB1yNv0No",
        "outputId": "23304071-8d92-4bd8-9a55-9387170f9153",
        "colab": {
          "base_uri": "https://localhost:8080/",
          "height": 442
        }
      },
      "source": [
        "x = df.index.values\n",
        "y1 = df['Training Deficiency'].values\n",
        "\n",
        "# Plot\n",
        "fig, ax = plt.subplots(1, 1, figsize=(16,5), dpi= 120)\n",
        "plt.fill_between(x, y1=y1, y2=-y1, alpha=0.5, linewidth=2, color='seagreen')\n",
        "plt.ylim(-800, 800)\n",
        "plt.title('Training Deficiencies (Two Side View)', fontsize=16)\n",
        "plt.hlines(y=0, xmin=np.min(df.index), xmax=np.max(df.index), linewidth=.5)\n",
        "plt.show()"
      ],
      "execution_count": 783,
      "outputs": [
        {
          "output_type": "display_data",
          "data": {
            "image/png": "[encoded data removed]",
            "text/plain": [
              "<Figure size 1920x600 with 1 Axes>"
            ]
          },
          "metadata": {
            "tags": [],
            "needs_background": "light"
          }
        }
      ]
    },
    {
      "cell_type": "markdown",
      "metadata": {
        "id": "9xe0PZcAUDPF"
      },
      "source": [
        "Define X and y variables"
      ]
    },
    {
      "cell_type": "code",
      "metadata": {
        "id": "1WB_BnGWUIhx"
      },
      "source": [
        "X = df.index.factorize()[0].reshape(-1,1) \n",
        "y = df['Training Deficiency'].values"
      ],
      "execution_count": 784,
      "outputs": []
    },
    {
      "cell_type": "markdown",
      "metadata": {
        "id": "3-aC1QB3WX_V"
      },
      "source": [
        "Split dataset for training and testing"
      ]
    },
    {
      "cell_type": "code",
      "metadata": {
        "id": "z8S1Y30JWIEC",
        "outputId": "285d7eae-0d21-40af-ae77-56bd4342b434",
        "colab": {
          "base_uri": "https://localhost:8080/"
        }
      },
      "source": [
        "from sklearn.model_selection import train_test_split\n",
        "\n",
        "X_train, X_val, y_train, y_val = train_test_split(X, y, test_size=.3, random_state=0)\n",
        "X_train.shape, y_train.shape, X_val.shape, y_val.shape"
      ],
      "execution_count": 785,
      "outputs": [
        {
          "output_type": "execute_result",
          "data": {
            "text/plain": [
              "((37, 1), (37,), (16, 1), (16,))"
            ]
          },
          "metadata": {
            "tags": []
          },
          "execution_count": 785
        }
      ]
    },
    {
      "cell_type": "markdown",
      "metadata": {
        "id": "tfSMVNp6XvnJ"
      },
      "source": [
        "Define model"
      ]
    },
    {
      "cell_type": "markdown",
      "metadata": {
        "id": "VlmoJl5EbOG9"
      },
      "source": [
        "Linear Regression"
      ]
    },
    {
      "cell_type": "code",
      "metadata": {
        "id": "JjpcFiipXy4W",
        "outputId": "97e5872a-aa1a-4be2-d41e-08e2b68507eb",
        "colab": {
          "base_uri": "https://localhost:8080/"
        }
      },
      "source": [
        "from sklearn import linear_model\n",
        "\n",
        "model = linear_model.LinearRegression().fit(X_train, y_train)\n",
        "print(model.score(X_train, y_train))"
      ],
      "execution_count": 786,
      "outputs": [
        {
          "output_type": "stream",
          "text": [
            "0.08999402407396373\n"
          ],
          "name": "stdout"
        }
      ]
    },
    {
      "cell_type": "code",
      "metadata": {
        "id": "DL_1qnFSZLR8",
        "outputId": "8c31c9d6-501b-4feb-abfc-fa3fb7cf08cb",
        "colab": {
          "base_uri": "https://localhost:8080/"
        }
      },
      "source": [
        "y_pred=model.predict(X_val)\n",
        "print(model.score(X_val, y_val))"
      ],
      "execution_count": 787,
      "outputs": [
        {
          "output_type": "stream",
          "text": [
            "-0.46414397253235395\n"
          ],
          "name": "stdout"
        }
      ]
    },
    {
      "cell_type": "code",
      "metadata": {
        "id": "OEgyNUz7ZvvQ",
        "outputId": "44b0d686-fae1-44a8-9a22-f774ebbb37b9",
        "colab": {
          "base_uri": "https://localhost:8080/",
          "height": 545
        }
      },
      "source": [
        "df_val=pd.DataFrame({'Actual': y_val, 'Predicted': y_pred})\n",
        "df_val"
      ],
      "execution_count": 788,
      "outputs": [
        {
          "output_type": "execute_result",
          "data": {
            "text/html": [
              "<div>\n",
              "<style scoped>\n",
              "    .dataframe tbody tr th:only-of-type {\n",
              "        vertical-align: middle;\n",
              "    }\n",
              "\n",
              "    .dataframe tbody tr th {\n",
              "        vertical-align: top;\n",
              "    }\n",
              "\n",
              "    .dataframe thead th {\n",
              "        text-align: right;\n",
              "    }\n",
              "</style>\n",
              "<table border=\"1\" class=\"dataframe\">\n",
              "  <thead>\n",
              "    <tr style=\"text-align: right;\">\n",
              "      <th></th>\n",
              "      <th>Actual</th>\n",
              "      <th>Predicted</th>\n",
              "    </tr>\n",
              "  </thead>\n",
              "  <tbody>\n",
              "    <tr>\n",
              "      <th>0</th>\n",
              "      <td>130</td>\n",
              "      <td>164.617361</td>\n",
              "    </tr>\n",
              "    <tr>\n",
              "      <th>1</th>\n",
              "      <td>81</td>\n",
              "      <td>158.110129</td>\n",
              "    </tr>\n",
              "    <tr>\n",
              "      <th>2</th>\n",
              "      <td>148</td>\n",
              "      <td>161.659528</td>\n",
              "    </tr>\n",
              "    <tr>\n",
              "      <th>3</th>\n",
              "      <td>80</td>\n",
              "      <td>158.701695</td>\n",
              "    </tr>\n",
              "    <tr>\n",
              "      <th>4</th>\n",
              "      <td>190</td>\n",
              "      <td>145.687231</td>\n",
              "    </tr>\n",
              "    <tr>\n",
              "      <th>5</th>\n",
              "      <td>133</td>\n",
              "      <td>140.363133</td>\n",
              "    </tr>\n",
              "    <tr>\n",
              "      <th>6</th>\n",
              "      <td>89</td>\n",
              "      <td>157.518562</td>\n",
              "    </tr>\n",
              "    <tr>\n",
              "      <th>7</th>\n",
              "      <td>152</td>\n",
              "      <td>163.434228</td>\n",
              "    </tr>\n",
              "    <tr>\n",
              "      <th>8</th>\n",
              "      <td>103</td>\n",
              "      <td>156.335429</td>\n",
              "    </tr>\n",
              "    <tr>\n",
              "      <th>9</th>\n",
              "      <td>135</td>\n",
              "      <td>154.560730</td>\n",
              "    </tr>\n",
              "    <tr>\n",
              "      <th>10</th>\n",
              "      <td>131</td>\n",
              "      <td>141.546266</td>\n",
              "    </tr>\n",
              "    <tr>\n",
              "      <th>11</th>\n",
              "      <td>195</td>\n",
              "      <td>145.095665</td>\n",
              "    </tr>\n",
              "    <tr>\n",
              "      <th>12</th>\n",
              "      <td>131</td>\n",
              "      <td>155.152296</td>\n",
              "    </tr>\n",
              "    <tr>\n",
              "      <th>13</th>\n",
              "      <td>198</td>\n",
              "      <td>169.941460</td>\n",
              "    </tr>\n",
              "    <tr>\n",
              "      <th>14</th>\n",
              "      <td>93</td>\n",
              "      <td>156.926996</td>\n",
              "    </tr>\n",
              "    <tr>\n",
              "      <th>15</th>\n",
              "      <td>140</td>\n",
              "      <td>161.067962</td>\n",
              "    </tr>\n",
              "  </tbody>\n",
              "</table>\n",
              "</div>"
            ],
            "text/plain": [
              "    Actual   Predicted\n",
              "0      130  164.617361\n",
              "1       81  158.110129\n",
              "2      148  161.659528\n",
              "3       80  158.701695\n",
              "4      190  145.687231\n",
              "5      133  140.363133\n",
              "6       89  157.518562\n",
              "7      152  163.434228\n",
              "8      103  156.335429\n",
              "9      135  154.560730\n",
              "10     131  141.546266\n",
              "11     195  145.095665\n",
              "12     131  155.152296\n",
              "13     198  169.941460\n",
              "14      93  156.926996\n",
              "15     140  161.067962"
            ]
          },
          "metadata": {
            "tags": []
          },
          "execution_count": 788
        }
      ]
    },
    {
      "cell_type": "code",
      "metadata": {
        "id": "Iv0kvp0ZmuR7",
        "outputId": "e339cf68-8e33-4cf7-e36b-be3ff7a05165",
        "colab": {
          "base_uri": "https://localhost:8080/",
          "height": 265
        }
      },
      "source": [
        "# plot predictions and expected results\n",
        "from matplotlib import pyplot\n",
        "\n",
        "pyplot.plot(y_train)\n",
        "pyplot.plot([None for i in y_train] + [x for x in y_val])\n",
        "pyplot.plot([None for i in y_train] + [x for x in y_pred])\n",
        "pyplot.show()"
      ],
      "execution_count": 789,
      "outputs": [
        {
          "output_type": "display_data",
          "data": {
            "image/png": "[encoded data removed]",
            "text/plain": [
              "<Figure size 432x288 with 1 Axes>"
            ]
          },
          "metadata": {
            "tags": [],
            "needs_background": "light"
          }
        }
      ]
    },
    {
      "cell_type": "markdown",
      "metadata": {
        "id": "36_xJMjjbSR1"
      },
      "source": [
        "Ridge"
      ]
    },
    {
      "cell_type": "code",
      "metadata": {
        "id": "c07MxzzabkFX",
        "outputId": "626db7d2-030e-4b40-bb83-edabda27710d",
        "colab": {
          "base_uri": "https://localhost:8080/"
        }
      },
      "source": [
        "from sklearn.linear_model import Ridge\n",
        "\n",
        "model = Ridge().fit(X_train, y_train)\n",
        "print(model.score(X_train, y_train))"
      ],
      "execution_count": 790,
      "outputs": [
        {
          "output_type": "stream",
          "text": [
            "0.08999402302141413\n"
          ],
          "name": "stdout"
        }
      ]
    },
    {
      "cell_type": "code",
      "metadata": {
        "id": "eyr8aOVXcJ6r",
        "outputId": "7c030ba1-6ada-45e9-b3a1-fe10c9d8f11d",
        "colab": {
          "base_uri": "https://localhost:8080/"
        }
      },
      "source": [
        "y_pred=model.predict(X_val)\n",
        "print(model.score(X_val, y_val))"
      ],
      "execution_count": 791,
      "outputs": [
        {
          "output_type": "stream",
          "text": [
            "-0.46412313759975343\n"
          ],
          "name": "stdout"
        }
      ]
    },
    {
      "cell_type": "code",
      "metadata": {
        "id": "Wn0Kg1rvcQy5",
        "outputId": "67e535f9-7755-497f-eb23-c912407456bf",
        "colab": {
          "base_uri": "https://localhost:8080/",
          "height": 545
        }
      },
      "source": [
        "df_val=pd.DataFrame({'Actual': y_val, 'Predicted': y_pred})\n",
        "df_val"
      ],
      "execution_count": 792,
      "outputs": [
        {
          "output_type": "execute_result",
          "data": {
            "text/html": [
              "<div>\n",
              "<style scoped>\n",
              "    .dataframe tbody tr th:only-of-type {\n",
              "        vertical-align: middle;\n",
              "    }\n",
              "\n",
              "    .dataframe tbody tr th {\n",
              "        vertical-align: top;\n",
              "    }\n",
              "\n",
              "    .dataframe thead th {\n",
              "        text-align: right;\n",
              "    }\n",
              "</style>\n",
              "<table border=\"1\" class=\"dataframe\">\n",
              "  <thead>\n",
              "    <tr style=\"text-align: right;\">\n",
              "      <th></th>\n",
              "      <th>Actual</th>\n",
              "      <th>Predicted</th>\n",
              "    </tr>\n",
              "  </thead>\n",
              "  <tbody>\n",
              "    <tr>\n",
              "      <th>0</th>\n",
              "      <td>130</td>\n",
              "      <td>164.616221</td>\n",
              "    </tr>\n",
              "    <tr>\n",
              "      <th>1</th>\n",
              "      <td>81</td>\n",
              "      <td>158.109693</td>\n",
              "    </tr>\n",
              "    <tr>\n",
              "      <th>2</th>\n",
              "      <td>148</td>\n",
              "      <td>161.658709</td>\n",
              "    </tr>\n",
              "    <tr>\n",
              "      <th>3</th>\n",
              "      <td>80</td>\n",
              "      <td>158.701196</td>\n",
              "    </tr>\n",
              "    <tr>\n",
              "      <th>4</th>\n",
              "      <td>190</td>\n",
              "      <td>145.688139</td>\n",
              "    </tr>\n",
              "    <tr>\n",
              "      <th>5</th>\n",
              "      <td>133</td>\n",
              "      <td>140.364616</td>\n",
              "    </tr>\n",
              "    <tr>\n",
              "      <th>6</th>\n",
              "      <td>89</td>\n",
              "      <td>157.518191</td>\n",
              "    </tr>\n",
              "    <tr>\n",
              "      <th>7</th>\n",
              "      <td>152</td>\n",
              "      <td>163.433216</td>\n",
              "    </tr>\n",
              "    <tr>\n",
              "      <th>8</th>\n",
              "      <td>103</td>\n",
              "      <td>156.335185</td>\n",
              "    </tr>\n",
              "    <tr>\n",
              "      <th>9</th>\n",
              "      <td>135</td>\n",
              "      <td>154.560678</td>\n",
              "    </tr>\n",
              "    <tr>\n",
              "      <th>10</th>\n",
              "      <td>131</td>\n",
              "      <td>141.547621</td>\n",
              "    </tr>\n",
              "    <tr>\n",
              "      <th>11</th>\n",
              "      <td>195</td>\n",
              "      <td>145.096637</td>\n",
              "    </tr>\n",
              "    <tr>\n",
              "      <th>12</th>\n",
              "      <td>131</td>\n",
              "      <td>155.152180</td>\n",
              "    </tr>\n",
              "    <tr>\n",
              "      <th>13</th>\n",
              "      <td>198</td>\n",
              "      <td>169.939745</td>\n",
              "    </tr>\n",
              "    <tr>\n",
              "      <th>14</th>\n",
              "      <td>93</td>\n",
              "      <td>156.926688</td>\n",
              "    </tr>\n",
              "    <tr>\n",
              "      <th>15</th>\n",
              "      <td>140</td>\n",
              "      <td>161.067206</td>\n",
              "    </tr>\n",
              "  </tbody>\n",
              "</table>\n",
              "</div>"
            ],
            "text/plain": [
              "    Actual   Predicted\n",
              "0      130  164.616221\n",
              "1       81  158.109693\n",
              "2      148  161.658709\n",
              "3       80  158.701196\n",
              "4      190  145.688139\n",
              "5      133  140.364616\n",
              "6       89  157.518191\n",
              "7      152  163.433216\n",
              "8      103  156.335185\n",
              "9      135  154.560678\n",
              "10     131  141.547621\n",
              "11     195  145.096637\n",
              "12     131  155.152180\n",
              "13     198  169.939745\n",
              "14      93  156.926688\n",
              "15     140  161.067206"
            ]
          },
          "metadata": {
            "tags": []
          },
          "execution_count": 792
        }
      ]
    },
    {
      "cell_type": "code",
      "metadata": {
        "id": "L5s_Yb_gm97p",
        "outputId": "6631685e-0c98-4850-958a-43205886b8a7",
        "colab": {
          "base_uri": "https://localhost:8080/",
          "height": 265
        }
      },
      "source": [
        "# plot predictions and expected results\n",
        "from matplotlib import pyplot\n",
        "\n",
        "pyplot.plot(y_train)\n",
        "pyplot.plot([None for i in y_train] + [x for x in y_val])\n",
        "pyplot.plot([None for i in y_train] + [x for x in y_pred])\n",
        "pyplot.show()"
      ],
      "execution_count": 793,
      "outputs": [
        {
          "output_type": "display_data",
          "data": {
            "image/png": "[encoded data removed]",
            "text/plain": [
              "<Figure size 432x288 with 1 Axes>"
            ]
          },
          "metadata": {
            "tags": [],
            "needs_background": "light"
          }
        }
      ]
    },
    {
      "cell_type": "markdown",
      "metadata": {
        "id": "QuaWGFiVcV7H"
      },
      "source": [
        "Lasso"
      ]
    },
    {
      "cell_type": "code",
      "metadata": {
        "id": "4XtNRF9uckVr",
        "outputId": "de9f428d-9b63-44d8-8a83-d70c60c5e763",
        "colab": {
          "base_uri": "https://localhost:8080/"
        }
      },
      "source": [
        "from sklearn import linear_model\n",
        "\n",
        "model = linear_model.Lasso(alpha=.1).fit(X_train, y_train)\n",
        "print(model.score(X_train, y_train))"
      ],
      "execution_count": 794,
      "outputs": [
        {
          "output_type": "stream",
          "text": [
            "0.08999398288957772\n"
          ],
          "name": "stdout"
        }
      ]
    },
    {
      "cell_type": "code",
      "metadata": {
        "id": "z66UzIAac5k8",
        "outputId": "289bf373-f829-489b-9d67-42a9b4cb8036",
        "colab": {
          "base_uri": "https://localhost:8080/"
        }
      },
      "source": [
        "y_pred=model.predict(X_val)\n",
        "print(model.score(X_val, y_val))"
      ],
      "execution_count": 795,
      "outputs": [
        {
          "output_type": "stream",
          "text": [
            "-0.46401366428044755\n"
          ],
          "name": "stdout"
        }
      ]
    },
    {
      "cell_type": "code",
      "metadata": {
        "id": "j4DUEOPIdCnL",
        "outputId": "58c9681b-ccbf-425c-ef55-e165b7c8a817",
        "colab": {
          "base_uri": "https://localhost:8080/",
          "height": 545
        }
      },
      "source": [
        "df_val=pd.DataFrame({'Actual': y_val, 'Predicted': y_pred})\n",
        "df_val"
      ],
      "execution_count": 796,
      "outputs": [
        {
          "output_type": "execute_result",
          "data": {
            "text/html": [
              "<div>\n",
              "<style scoped>\n",
              "    .dataframe tbody tr th:only-of-type {\n",
              "        vertical-align: middle;\n",
              "    }\n",
              "\n",
              "    .dataframe tbody tr th {\n",
              "        vertical-align: top;\n",
              "    }\n",
              "\n",
              "    .dataframe thead th {\n",
              "        text-align: right;\n",
              "    }\n",
              "</style>\n",
              "<table border=\"1\" class=\"dataframe\">\n",
              "  <thead>\n",
              "    <tr style=\"text-align: right;\">\n",
              "      <th></th>\n",
              "      <th>Actual</th>\n",
              "      <th>Predicted</th>\n",
              "    </tr>\n",
              "  </thead>\n",
              "  <tbody>\n",
              "    <tr>\n",
              "      <th>0</th>\n",
              "      <td>130</td>\n",
              "      <td>164.610233</td>\n",
              "    </tr>\n",
              "    <tr>\n",
              "      <th>1</th>\n",
              "      <td>81</td>\n",
              "      <td>158.107403</td>\n",
              "    </tr>\n",
              "    <tr>\n",
              "      <th>2</th>\n",
              "      <td>148</td>\n",
              "      <td>161.654401</td>\n",
              "    </tr>\n",
              "    <tr>\n",
              "      <th>3</th>\n",
              "      <td>80</td>\n",
              "      <td>158.698570</td>\n",
              "    </tr>\n",
              "    <tr>\n",
              "      <th>4</th>\n",
              "      <td>190</td>\n",
              "      <td>145.692910</td>\n",
              "    </tr>\n",
              "    <tr>\n",
              "      <th>5</th>\n",
              "      <td>133</td>\n",
              "      <td>140.372413</td>\n",
              "    </tr>\n",
              "    <tr>\n",
              "      <th>6</th>\n",
              "      <td>89</td>\n",
              "      <td>157.516237</td>\n",
              "    </tr>\n",
              "    <tr>\n",
              "      <th>7</th>\n",
              "      <td>152</td>\n",
              "      <td>163.427901</td>\n",
              "    </tr>\n",
              "    <tr>\n",
              "      <th>8</th>\n",
              "      <td>103</td>\n",
              "      <td>156.333904</td>\n",
              "    </tr>\n",
              "    <tr>\n",
              "      <th>9</th>\n",
              "      <td>135</td>\n",
              "      <td>154.560405</td>\n",
              "    </tr>\n",
              "    <tr>\n",
              "      <th>10</th>\n",
              "      <td>131</td>\n",
              "      <td>141.554745</td>\n",
              "    </tr>\n",
              "    <tr>\n",
              "      <th>11</th>\n",
              "      <td>195</td>\n",
              "      <td>145.101743</td>\n",
              "    </tr>\n",
              "    <tr>\n",
              "      <th>12</th>\n",
              "      <td>131</td>\n",
              "      <td>155.151572</td>\n",
              "    </tr>\n",
              "    <tr>\n",
              "      <th>13</th>\n",
              "      <td>198</td>\n",
              "      <td>169.930731</td>\n",
              "    </tr>\n",
              "    <tr>\n",
              "      <th>14</th>\n",
              "      <td>93</td>\n",
              "      <td>156.925071</td>\n",
              "    </tr>\n",
              "    <tr>\n",
              "      <th>15</th>\n",
              "      <td>140</td>\n",
              "      <td>161.063235</td>\n",
              "    </tr>\n",
              "  </tbody>\n",
              "</table>\n",
              "</div>"
            ],
            "text/plain": [
              "    Actual   Predicted\n",
              "0      130  164.610233\n",
              "1       81  158.107403\n",
              "2      148  161.654401\n",
              "3       80  158.698570\n",
              "4      190  145.692910\n",
              "5      133  140.372413\n",
              "6       89  157.516237\n",
              "7      152  163.427901\n",
              "8      103  156.333904\n",
              "9      135  154.560405\n",
              "10     131  141.554745\n",
              "11     195  145.101743\n",
              "12     131  155.151572\n",
              "13     198  169.930731\n",
              "14      93  156.925071\n",
              "15     140  161.063235"
            ]
          },
          "metadata": {
            "tags": []
          },
          "execution_count": 796
        }
      ]
    },
    {
      "cell_type": "code",
      "metadata": {
        "id": "kdcOJI0ZnIFG",
        "outputId": "42a5fd5c-189a-4b36-c85d-35baaf346153",
        "colab": {
          "base_uri": "https://localhost:8080/",
          "height": 265
        }
      },
      "source": [
        "# plot predictions and expected results\n",
        "from matplotlib import pyplot\n",
        "\n",
        "pyplot.plot(y_train)\n",
        "pyplot.plot([None for i in y_train] + [x for x in y_val])\n",
        "pyplot.plot([None for i in y_train] + [x for x in y_pred])\n",
        "pyplot.show()"
      ],
      "execution_count": 797,
      "outputs": [
        {
          "output_type": "display_data",
          "data": {
            "image/png": "[encoded data removed]",
            "text/plain": [
              "<Figure size 432x288 with 1 Axes>"
            ]
          },
          "metadata": {
            "tags": [],
            "needs_background": "light"
          }
        }
      ]
    },
    {
      "cell_type": "markdown",
      "metadata": {
        "id": "wOJIXFhdnJV-"
      },
      "source": [
        "ElastiNet"
      ]
    },
    {
      "cell_type": "code",
      "metadata": {
        "id": "aEN3H_gBdkvv",
        "outputId": "ae241efb-767a-4966-ad16-e3382cc454ba",
        "colab": {
          "base_uri": "https://localhost:8080/"
        }
      },
      "source": [
        "from sklearn.linear_model import ElasticNet\n",
        "\n",
        "model = ElasticNet(random_state=0).fit(X_train, y_train)\n",
        "print(model.score(X_train, y_train))"
      ],
      "execution_count": 798,
      "outputs": [
        {
          "output_type": "stream",
          "text": [
            "0.08999142639213953\n"
          ],
          "name": "stdout"
        }
      ]
    },
    {
      "cell_type": "code",
      "metadata": {
        "id": "zvVjwrmjd3a7",
        "outputId": "13c88317-bc36-40ad-8a6c-482c3dc1277a",
        "colab": {
          "base_uri": "https://localhost:8080/"
        }
      },
      "source": [
        "y_pred=model.predict(X_val)\n",
        "print(model.score(X_val, y_val))"
      ],
      "execution_count": 799,
      "outputs": [
        {
          "output_type": "stream",
          "text": [
            "-0.46311035726993754\n"
          ],
          "name": "stdout"
        }
      ]
    },
    {
      "cell_type": "code",
      "metadata": {
        "id": "nww6OvPTd4kl",
        "outputId": "f73b95df-c0fc-4ccd-a25b-e21f246a9ffc",
        "colab": {
          "base_uri": "https://localhost:8080/",
          "height": 545
        }
      },
      "source": [
        "df_val=pd.DataFrame({'Actual': y_val, 'Predicted': y_pred})\n",
        "df_val"
      ],
      "execution_count": 800,
      "outputs": [
        {
          "output_type": "execute_result",
          "data": {
            "text/html": [
              "<div>\n",
              "<style scoped>\n",
              "    .dataframe tbody tr th:only-of-type {\n",
              "        vertical-align: middle;\n",
              "    }\n",
              "\n",
              "    .dataframe tbody tr th {\n",
              "        vertical-align: top;\n",
              "    }\n",
              "\n",
              "    .dataframe thead th {\n",
              "        text-align: right;\n",
              "    }\n",
              "</style>\n",
              "<table border=\"1\" class=\"dataframe\">\n",
              "  <thead>\n",
              "    <tr style=\"text-align: right;\">\n",
              "      <th></th>\n",
              "      <th>Actual</th>\n",
              "      <th>Predicted</th>\n",
              "    </tr>\n",
              "  </thead>\n",
              "  <tbody>\n",
              "    <tr>\n",
              "      <th>0</th>\n",
              "      <td>130</td>\n",
              "      <td>164.560753</td>\n",
              "    </tr>\n",
              "    <tr>\n",
              "      <th>1</th>\n",
              "      <td>81</td>\n",
              "      <td>158.088482</td>\n",
              "    </tr>\n",
              "    <tr>\n",
              "      <th>2</th>\n",
              "      <td>148</td>\n",
              "      <td>161.618812</td>\n",
              "    </tr>\n",
              "    <tr>\n",
              "      <th>3</th>\n",
              "      <td>80</td>\n",
              "      <td>158.676871</td>\n",
              "    </tr>\n",
              "    <tr>\n",
              "      <th>4</th>\n",
              "      <td>190</td>\n",
              "      <td>145.732328</td>\n",
              "    </tr>\n",
              "    <tr>\n",
              "      <th>5</th>\n",
              "      <td>133</td>\n",
              "      <td>140.436834</td>\n",
              "    </tr>\n",
              "    <tr>\n",
              "      <th>6</th>\n",
              "      <td>89</td>\n",
              "      <td>157.500094</td>\n",
              "    </tr>\n",
              "    <tr>\n",
              "      <th>7</th>\n",
              "      <td>152</td>\n",
              "      <td>163.383977</td>\n",
              "    </tr>\n",
              "    <tr>\n",
              "      <th>8</th>\n",
              "      <td>103</td>\n",
              "      <td>156.323318</td>\n",
              "    </tr>\n",
              "    <tr>\n",
              "      <th>9</th>\n",
              "      <td>135</td>\n",
              "      <td>154.558153</td>\n",
              "    </tr>\n",
              "    <tr>\n",
              "      <th>10</th>\n",
              "      <td>131</td>\n",
              "      <td>141.613610</td>\n",
              "    </tr>\n",
              "    <tr>\n",
              "      <th>11</th>\n",
              "      <td>195</td>\n",
              "      <td>145.143940</td>\n",
              "    </tr>\n",
              "    <tr>\n",
              "      <th>12</th>\n",
              "      <td>131</td>\n",
              "      <td>155.146541</td>\n",
              "    </tr>\n",
              "    <tr>\n",
              "      <th>13</th>\n",
              "      <td>198</td>\n",
              "      <td>169.856248</td>\n",
              "    </tr>\n",
              "    <tr>\n",
              "      <th>14</th>\n",
              "      <td>93</td>\n",
              "      <td>156.911706</td>\n",
              "    </tr>\n",
              "    <tr>\n",
              "      <th>15</th>\n",
              "      <td>140</td>\n",
              "      <td>161.030424</td>\n",
              "    </tr>\n",
              "  </tbody>\n",
              "</table>\n",
              "</div>"
            ],
            "text/plain": [
              "    Actual   Predicted\n",
              "0      130  164.560753\n",
              "1       81  158.088482\n",
              "2      148  161.618812\n",
              "3       80  158.676871\n",
              "4      190  145.732328\n",
              "5      133  140.436834\n",
              "6       89  157.500094\n",
              "7      152  163.383977\n",
              "8      103  156.323318\n",
              "9      135  154.558153\n",
              "10     131  141.613610\n",
              "11     195  145.143940\n",
              "12     131  155.146541\n",
              "13     198  169.856248\n",
              "14      93  156.911706\n",
              "15     140  161.030424"
            ]
          },
          "metadata": {
            "tags": []
          },
          "execution_count": 800
        }
      ]
    },
    {
      "cell_type": "code",
      "metadata": {
        "id": "Z4NLfVqgnW4T",
        "outputId": "7c77ef50-ee2d-4de0-e2e9-fa434f81369b",
        "colab": {
          "base_uri": "https://localhost:8080/",
          "height": 265
        }
      },
      "source": [
        "# plot predictions and expected results\n",
        "from matplotlib import pyplot\n",
        "\n",
        "pyplot.plot(y_train)\n",
        "pyplot.plot([None for i in y_train] + [x for x in y_val])\n",
        "pyplot.plot([None for i in y_train] + [x for x in y_pred])\n",
        "pyplot.show()"
      ],
      "execution_count": 801,
      "outputs": [
        {
          "output_type": "display_data",
          "data": {
            "image/png": "[encoded data removed]",
            "text/plain": [
              "<Figure size 432x288 with 1 Axes>"
            ]
          },
          "metadata": {
            "tags": [],
            "needs_background": "light"
          }
        }
      ]
    },
    {
      "cell_type": "markdown",
      "metadata": {
        "id": "HGZMGpGCeF7B"
      },
      "source": [
        "Create lagged dataset"
      ]
    },
    {
      "cell_type": "code",
      "metadata": {
        "id": "JiLe_zuzeJQM",
        "outputId": "30d2e80f-88ac-407a-de7b-8b845a4774fb",
        "colab": {
          "base_uri": "https://localhost:8080/"
        }
      },
      "source": [
        "# Create lagged dataset\n",
        "from pandas import DataFrame\n",
        "from pandas import concat\n",
        "\n",
        "values = DataFrame(df.values)\n",
        "dataframe = concat([values.shift(1), values], axis=1)\n",
        "dataframe.columns = ['t-1', 't+1']\n",
        "print(dataframe)"
      ],
      "execution_count": 802,
      "outputs": [
        {
          "output_type": "stream",
          "text": [
            "      t-1  t+1\n",
            "0     NaN  111\n",
            "1   111.0  124\n",
            "2   124.0  133\n",
            "3   133.0  139\n",
            "4   139.0  131\n",
            "5   131.0  149\n",
            "6   149.0  171\n",
            "7   171.0  189\n",
            "8   189.0  207\n",
            "9   207.0  210\n",
            "10  210.0  195\n",
            "11  195.0  190\n",
            "12  190.0  204\n",
            "13  204.0  136\n",
            "14  136.0  139\n",
            "15  139.0  152\n",
            "16  152.0  147\n",
            "17  147.0  107\n",
            "18  107.0  105\n",
            "19  105.0  112\n",
            "20  112.0  117\n",
            "21  117.0  143\n",
            "22  143.0  146\n",
            "23  146.0  156\n",
            "24  156.0  142\n",
            "25  142.0  143\n",
            "26  143.0  135\n",
            "27  135.0  131\n",
            "28  131.0  128\n",
            "29  128.0  103\n",
            "30  103.0   93\n",
            "31   93.0   89\n",
            "32   89.0   81\n",
            "33   81.0   80\n",
            "34   80.0  123\n",
            "35  123.0  135\n",
            "36  135.0  133\n",
            "37  133.0  140\n",
            "38  140.0  148\n",
            "39  148.0  156\n",
            "40  156.0  157\n",
            "41  157.0  152\n",
            "42  152.0  130\n",
            "43  130.0  130\n",
            "44  130.0  160\n",
            "45  160.0  171\n",
            "46  171.0  169\n",
            "47  169.0  177\n",
            "48  177.0  219\n",
            "49  219.0  200\n",
            "50  200.0  202\n",
            "51  202.0  192\n",
            "52  192.0  198\n"
          ],
          "name": "stdout"
        }
      ]
    },
    {
      "cell_type": "code",
      "metadata": {
        "id": "qktheOWMrgIU"
      },
      "source": [
        "X = dataframe.values\n",
        "train_size = int(len(X) * 0.66)\n",
        "train, test = X[1:train_size], X[train_size:]\n",
        "train_X, train_y = train[:,0], train[:,1]\n",
        "test_X, test_y = test[:,0], test[:,1]"
      ],
      "execution_count": 803,
      "outputs": []
    },
    {
      "cell_type": "code",
      "metadata": {
        "id": "x3xzVg2BeuPk"
      },
      "source": [
        "# persistence model\n",
        "def model_persistence(x):\n",
        "\treturn x"
      ],
      "execution_count": 804,
      "outputs": []
    },
    {
      "cell_type": "code",
      "metadata": {
        "id": "MGBcXUUce0fC",
        "outputId": "8bc8b869-1848-49b3-b086-b5ac80b2edcc",
        "colab": {
          "base_uri": "https://localhost:8080/"
        }
      },
      "source": [
        "# walk-forward validation\n",
        "from sklearn.metrics import mean_squared_error\n",
        "\n",
        "predictions = list()\n",
        "for x in test_X:\n",
        "\tyhat = model_persistence(x)\n",
        "\tpredictions.append(yhat)\n",
        "test_score = mean_squared_error(test_y, predictions)\n",
        "print('Test MSE: %.3f' % test_score)"
      ],
      "execution_count": 805,
      "outputs": [
        {
          "output_type": "stream",
          "text": [
            "Test MSE: 317.789\n"
          ],
          "name": "stdout"
        }
      ]
    },
    {
      "cell_type": "code",
      "metadata": {
        "id": "Gvw6QNLkklO2",
        "outputId": "7ab52fad-5352-4b4e-bc1c-eed6d6ee0494",
        "colab": {
          "base_uri": "https://localhost:8080/"
        }
      },
      "source": [
        "predictions"
      ],
      "execution_count": 806,
      "outputs": [
        {
          "output_type": "execute_result",
          "data": {
            "text/plain": [
              "[80.0,\n",
              " 123.0,\n",
              " 135.0,\n",
              " 133.0,\n",
              " 140.0,\n",
              " 148.0,\n",
              " 156.0,\n",
              " 157.0,\n",
              " 152.0,\n",
              " 130.0,\n",
              " 130.0,\n",
              " 160.0,\n",
              " 171.0,\n",
              " 169.0,\n",
              " 177.0,\n",
              " 219.0,\n",
              " 200.0,\n",
              " 202.0,\n",
              " 192.0]"
            ]
          },
          "metadata": {
            "tags": []
          },
          "execution_count": 806
        }
      ]
    },
    {
      "cell_type": "code",
      "metadata": {
        "id": "l-MIh7gifdB8",
        "outputId": "cfc13905-b960-4ec2-f079-97753e46f514",
        "colab": {
          "base_uri": "https://localhost:8080/"
        }
      },
      "source": [
        "print(model.score(test_y.reshape(-1,1),predictions))"
      ],
      "execution_count": 807,
      "outputs": [
        {
          "output_type": "stream",
          "text": [
            "-5.3330806936136845\n"
          ],
          "name": "stdout"
        }
      ]
    },
    {
      "cell_type": "code",
      "metadata": {
        "id": "psyZ069sfOfE",
        "outputId": "66f16e00-3aa5-4669-ac0e-6a7d903e3f00",
        "colab": {
          "base_uri": "https://localhost:8080/",
          "height": 638
        }
      },
      "source": [
        "df_val=pd.DataFrame({'Actual': test_y, 'Predicted': predictions})\n",
        "df_val"
      ],
      "execution_count": 808,
      "outputs": [
        {
          "output_type": "execute_result",
          "data": {
            "text/html": [
              "<div>\n",
              "<style scoped>\n",
              "    .dataframe tbody tr th:only-of-type {\n",
              "        vertical-align: middle;\n",
              "    }\n",
              "\n",
              "    .dataframe tbody tr th {\n",
              "        vertical-align: top;\n",
              "    }\n",
              "\n",
              "    .dataframe thead th {\n",
              "        text-align: right;\n",
              "    }\n",
              "</style>\n",
              "<table border=\"1\" class=\"dataframe\">\n",
              "  <thead>\n",
              "    <tr style=\"text-align: right;\">\n",
              "      <th></th>\n",
              "      <th>Actual</th>\n",
              "      <th>Predicted</th>\n",
              "    </tr>\n",
              "  </thead>\n",
              "  <tbody>\n",
              "    <tr>\n",
              "      <th>0</th>\n",
              "      <td>123.0</td>\n",
              "      <td>80.0</td>\n",
              "    </tr>\n",
              "    <tr>\n",
              "      <th>1</th>\n",
              "      <td>135.0</td>\n",
              "      <td>123.0</td>\n",
              "    </tr>\n",
              "    <tr>\n",
              "      <th>2</th>\n",
              "      <td>133.0</td>\n",
              "      <td>135.0</td>\n",
              "    </tr>\n",
              "    <tr>\n",
              "      <th>3</th>\n",
              "      <td>140.0</td>\n",
              "      <td>133.0</td>\n",
              "    </tr>\n",
              "    <tr>\n",
              "      <th>4</th>\n",
              "      <td>148.0</td>\n",
              "      <td>140.0</td>\n",
              "    </tr>\n",
              "    <tr>\n",
              "      <th>5</th>\n",
              "      <td>156.0</td>\n",
              "      <td>148.0</td>\n",
              "    </tr>\n",
              "    <tr>\n",
              "      <th>6</th>\n",
              "      <td>157.0</td>\n",
              "      <td>156.0</td>\n",
              "    </tr>\n",
              "    <tr>\n",
              "      <th>7</th>\n",
              "      <td>152.0</td>\n",
              "      <td>157.0</td>\n",
              "    </tr>\n",
              "    <tr>\n",
              "      <th>8</th>\n",
              "      <td>130.0</td>\n",
              "      <td>152.0</td>\n",
              "    </tr>\n",
              "    <tr>\n",
              "      <th>9</th>\n",
              "      <td>130.0</td>\n",
              "      <td>130.0</td>\n",
              "    </tr>\n",
              "    <tr>\n",
              "      <th>10</th>\n",
              "      <td>160.0</td>\n",
              "      <td>130.0</td>\n",
              "    </tr>\n",
              "    <tr>\n",
              "      <th>11</th>\n",
              "      <td>171.0</td>\n",
              "      <td>160.0</td>\n",
              "    </tr>\n",
              "    <tr>\n",
              "      <th>12</th>\n",
              "      <td>169.0</td>\n",
              "      <td>171.0</td>\n",
              "    </tr>\n",
              "    <tr>\n",
              "      <th>13</th>\n",
              "      <td>177.0</td>\n",
              "      <td>169.0</td>\n",
              "    </tr>\n",
              "    <tr>\n",
              "      <th>14</th>\n",
              "      <td>219.0</td>\n",
              "      <td>177.0</td>\n",
              "    </tr>\n",
              "    <tr>\n",
              "      <th>15</th>\n",
              "      <td>200.0</td>\n",
              "      <td>219.0</td>\n",
              "    </tr>\n",
              "    <tr>\n",
              "      <th>16</th>\n",
              "      <td>202.0</td>\n",
              "      <td>200.0</td>\n",
              "    </tr>\n",
              "    <tr>\n",
              "      <th>17</th>\n",
              "      <td>192.0</td>\n",
              "      <td>202.0</td>\n",
              "    </tr>\n",
              "    <tr>\n",
              "      <th>18</th>\n",
              "      <td>198.0</td>\n",
              "      <td>192.0</td>\n",
              "    </tr>\n",
              "  </tbody>\n",
              "</table>\n",
              "</div>"
            ],
            "text/plain": [
              "    Actual  Predicted\n",
              "0    123.0       80.0\n",
              "1    135.0      123.0\n",
              "2    133.0      135.0\n",
              "3    140.0      133.0\n",
              "4    148.0      140.0\n",
              "5    156.0      148.0\n",
              "6    157.0      156.0\n",
              "7    152.0      157.0\n",
              "8    130.0      152.0\n",
              "9    130.0      130.0\n",
              "10   160.0      130.0\n",
              "11   171.0      160.0\n",
              "12   169.0      171.0\n",
              "13   177.0      169.0\n",
              "14   219.0      177.0\n",
              "15   200.0      219.0\n",
              "16   202.0      200.0\n",
              "17   192.0      202.0\n",
              "18   198.0      192.0"
            ]
          },
          "metadata": {
            "tags": []
          },
          "execution_count": 808
        }
      ]
    },
    {
      "cell_type": "code",
      "metadata": {
        "id": "SrrYplXumFR2",
        "outputId": "2449c1a5-adef-4148-db0a-fc892ddb2ad6",
        "colab": {
          "base_uri": "https://localhost:8080/",
          "height": 265
        }
      },
      "source": [
        "# plot predictions and expected results\n",
        "from matplotlib import pyplot\n",
        "\n",
        "pyplot.plot(y_train)\n",
        "pyplot.plot([None for i in y_train] + [x for x in y_val])\n",
        "pyplot.plot([None for i in y_train] + [x for x in predictions])\n",
        "pyplot.show()"
      ],
      "execution_count": 809,
      "outputs": [
        {
          "output_type": "display_data",
          "data": {
            "image/png": "[encoded data removed]",
            "text/plain": [
              "<Figure size 432x288 with 1 Axes>"
            ]
          },
          "metadata": {
            "tags": [],
            "needs_background": "light"
          }
        }
      ]
    },
    {
      "cell_type": "markdown",
      "metadata": {
        "id": "EusPXkwDjbwO"
      },
      "source": [
        "Polynomial Regression 4th degree"
      ]
    },
    {
      "cell_type": "code",
      "metadata": {
        "id": "55oPU-oQj3Su",
        "outputId": "0de9ca72-ccf4-42bf-aea7-d319e38360fb",
        "colab": {
          "base_uri": "https://localhost:8080/"
        }
      },
      "source": [
        "from sklearn.preprocessing import PolynomialFeatures\n",
        "from sklearn.pipeline import make_pipeline\n",
        "from sklearn.linear_model import LinearRegression\n",
        "\n",
        "degree = 4\n",
        "model = make_pipeline(PolynomialFeatures(degree), LinearRegression())\n",
        "model.fit(X_train, y_train)\n",
        "print(model.score(X_train, y_train))"
      ],
      "execution_count": 810,
      "outputs": [
        {
          "output_type": "stream",
          "text": [
            "0.57495166507664\n"
          ],
          "name": "stdout"
        }
      ]
    },
    {
      "cell_type": "code",
      "metadata": {
        "id": "CV89VLC_lfL6",
        "outputId": "365be12a-b6c4-485e-a984-fd520d0d6777",
        "colab": {
          "base_uri": "https://localhost:8080/"
        }
      },
      "source": [
        "y_pred=model.predict(X_val)\n",
        "print(model.score(X_val, y_val))"
      ],
      "execution_count": 811,
      "outputs": [
        {
          "output_type": "stream",
          "text": [
            "0.6042833523881839\n"
          ],
          "name": "stdout"
        }
      ]
    },
    {
      "cell_type": "code",
      "metadata": {
        "id": "-1jl1ddrlpWj",
        "outputId": "a80a5f32-d295-4bfc-c1dd-091fa73afe8a",
        "colab": {
          "base_uri": "https://localhost:8080/",
          "height": 545
        }
      },
      "source": [
        "df_val=pd.DataFrame({'Actual': y_val, 'Predicted': y_pred})\n",
        "df_val"
      ],
      "execution_count": 812,
      "outputs": [
        {
          "output_type": "execute_result",
          "data": {
            "text/html": [
              "<div>\n",
              "<style scoped>\n",
              "    .dataframe tbody tr th:only-of-type {\n",
              "        vertical-align: middle;\n",
              "    }\n",
              "\n",
              "    .dataframe tbody tr th {\n",
              "        vertical-align: top;\n",
              "    }\n",
              "\n",
              "    .dataframe thead th {\n",
              "        text-align: right;\n",
              "    }\n",
              "</style>\n",
              "<table border=\"1\" class=\"dataframe\">\n",
              "  <thead>\n",
              "    <tr style=\"text-align: right;\">\n",
              "      <th></th>\n",
              "      <th>Actual</th>\n",
              "      <th>Predicted</th>\n",
              "    </tr>\n",
              "  </thead>\n",
              "  <tbody>\n",
              "    <tr>\n",
              "      <th>0</th>\n",
              "      <td>130</td>\n",
              "      <td>166.126210</td>\n",
              "    </tr>\n",
              "    <tr>\n",
              "      <th>1</th>\n",
              "      <td>81</td>\n",
              "      <td>120.435198</td>\n",
              "    </tr>\n",
              "    <tr>\n",
              "      <th>2</th>\n",
              "      <td>148</td>\n",
              "      <td>140.421614</td>\n",
              "    </tr>\n",
              "    <tr>\n",
              "      <th>3</th>\n",
              "      <td>80</td>\n",
              "      <td>122.541234</td>\n",
              "    </tr>\n",
              "    <tr>\n",
              "      <th>4</th>\n",
              "      <td>190</td>\n",
              "      <td>169.632704</td>\n",
              "    </tr>\n",
              "    <tr>\n",
              "      <th>5</th>\n",
              "      <td>133</td>\n",
              "      <td>141.350794</td>\n",
              "    </tr>\n",
              "    <tr>\n",
              "      <th>6</th>\n",
              "      <td>89</td>\n",
              "      <td>118.881272</td>\n",
              "    </tr>\n",
              "    <tr>\n",
              "      <th>7</th>\n",
              "      <td>152</td>\n",
              "      <td>155.421782</td>\n",
              "    </tr>\n",
              "    <tr>\n",
              "      <th>8</th>\n",
              "      <td>103</td>\n",
              "      <td>117.471179</td>\n",
              "    </tr>\n",
              "    <tr>\n",
              "      <th>9</th>\n",
              "      <td>135</td>\n",
              "      <td>119.566165</td>\n",
              "    </tr>\n",
              "    <tr>\n",
              "      <th>10</th>\n",
              "      <td>131</td>\n",
              "      <td>158.486386</td>\n",
              "    </tr>\n",
              "    <tr>\n",
              "      <th>11</th>\n",
              "      <td>195</td>\n",
              "      <td>171.357595</td>\n",
              "    </tr>\n",
              "    <tr>\n",
              "      <th>12</th>\n",
              "      <td>131</td>\n",
              "      <td>118.321573</td>\n",
              "    </tr>\n",
              "    <tr>\n",
              "      <th>13</th>\n",
              "      <td>198</td>\n",
              "      <td>198.433423</td>\n",
              "    </tr>\n",
              "    <tr>\n",
              "      <th>14</th>\n",
              "      <td>93</td>\n",
              "      <td>117.891619</td>\n",
              "    </tr>\n",
              "    <tr>\n",
              "      <th>15</th>\n",
              "      <td>140</td>\n",
              "      <td>135.990340</td>\n",
              "    </tr>\n",
              "  </tbody>\n",
              "</table>\n",
              "</div>"
            ],
            "text/plain": [
              "    Actual   Predicted\n",
              "0      130  166.126210\n",
              "1       81  120.435198\n",
              "2      148  140.421614\n",
              "3       80  122.541234\n",
              "4      190  169.632704\n",
              "5      133  141.350794\n",
              "6       89  118.881272\n",
              "7      152  155.421782\n",
              "8      103  117.471179\n",
              "9      135  119.566165\n",
              "10     131  158.486386\n",
              "11     195  171.357595\n",
              "12     131  118.321573\n",
              "13     198  198.433423\n",
              "14      93  117.891619\n",
              "15     140  135.990340"
            ]
          },
          "metadata": {
            "tags": []
          },
          "execution_count": 812
        }
      ]
    },
    {
      "cell_type": "code",
      "metadata": {
        "id": "lQO5XmIFmAPf",
        "outputId": "c7385cfc-51ef-48e3-dc8b-dd1d2a7d06ed",
        "colab": {
          "base_uri": "https://localhost:8080/",
          "height": 265
        }
      },
      "source": [
        "# plot predictions and expected results\n",
        "from matplotlib import pyplot\n",
        "\n",
        "pyplot.plot(y_train)\n",
        "pyplot.plot([None for i in y_train] + [x for x in y_val])\n",
        "pyplot.plot([None for i in y_train] + [x for x in y_pred])\n",
        "pyplot.show()"
      ],
      "execution_count": 813,
      "outputs": [
        {
          "output_type": "display_data",
          "data": {
            "image/png": "[encoded data removed]",
            "text/plain": [
              "<Figure size 432x288 with 1 Axes>"
            ]
          },
          "metadata": {
            "tags": [],
            "needs_background": "light"
          }
        }
      ]
    },
    {
      "cell_type": "markdown",
      "metadata": {
        "id": "c5P_5PASnhWN"
      },
      "source": [
        "Polynomial Regression 10th degree"
      ]
    },
    {
      "cell_type": "code",
      "metadata": {
        "id": "09fEU6Xbnpbq",
        "outputId": "a5c3d824-f539-41b7-c900-e8692d9199ef",
        "colab": {
          "base_uri": "https://localhost:8080/"
        }
      },
      "source": [
        "from sklearn.preprocessing import PolynomialFeatures\n",
        "from sklearn.pipeline import make_pipeline\n",
        "from sklearn.linear_model import LinearRegression\n",
        "\n",
        "degree = 10\n",
        "model = make_pipeline(PolynomialFeatures(degree), LinearRegression())\n",
        "model.fit(X_train, y_train)\n",
        "print(model.score(X_train, y_train))"
      ],
      "execution_count": 814,
      "outputs": [
        {
          "output_type": "stream",
          "text": [
            "0.8259507072093207\n"
          ],
          "name": "stdout"
        }
      ]
    },
    {
      "cell_type": "code",
      "metadata": {
        "id": "woS8ICDRn0Dz",
        "outputId": "0c50cdce-7f3c-4fc1-f152-16b766fd43aa",
        "colab": {
          "base_uri": "https://localhost:8080/"
        }
      },
      "source": [
        "y_pred=model.predict(X_val)\n",
        "print(model.score(X_val, y_val))"
      ],
      "execution_count": 815,
      "outputs": [
        {
          "output_type": "stream",
          "text": [
            "0.018132311694823877\n"
          ],
          "name": "stdout"
        }
      ]
    },
    {
      "cell_type": "code",
      "metadata": {
        "id": "Dz7a75pkn6A6",
        "outputId": "a3d3307f-5ac9-4865-8295-c44ee04515af",
        "colab": {
          "base_uri": "https://localhost:8080/",
          "height": 545
        }
      },
      "source": [
        "df_val=pd.DataFrame({'Actual': y_val, 'Predicted': y_pred})\n",
        "df_val"
      ],
      "execution_count": 816,
      "outputs": [
        {
          "output_type": "execute_result",
          "data": {
            "text/html": [
              "<div>\n",
              "<style scoped>\n",
              "    .dataframe tbody tr th:only-of-type {\n",
              "        vertical-align: middle;\n",
              "    }\n",
              "\n",
              "    .dataframe tbody tr th {\n",
              "        vertical-align: top;\n",
              "    }\n",
              "\n",
              "    .dataframe thead th {\n",
              "        text-align: right;\n",
              "    }\n",
              "</style>\n",
              "<table border=\"1\" class=\"dataframe\">\n",
              "  <thead>\n",
              "    <tr style=\"text-align: right;\">\n",
              "      <th></th>\n",
              "      <th>Actual</th>\n",
              "      <th>Predicted</th>\n",
              "    </tr>\n",
              "  </thead>\n",
              "  <tbody>\n",
              "    <tr>\n",
              "      <th>0</th>\n",
              "      <td>130</td>\n",
              "      <td>156.891839</td>\n",
              "    </tr>\n",
              "    <tr>\n",
              "      <th>1</th>\n",
              "      <td>81</td>\n",
              "      <td>129.875047</td>\n",
              "    </tr>\n",
              "    <tr>\n",
              "      <th>2</th>\n",
              "      <td>148</td>\n",
              "      <td>140.604966</td>\n",
              "    </tr>\n",
              "    <tr>\n",
              "      <th>3</th>\n",
              "      <td>80</td>\n",
              "      <td>128.097873</td>\n",
              "    </tr>\n",
              "    <tr>\n",
              "      <th>4</th>\n",
              "      <td>190</td>\n",
              "      <td>185.954960</td>\n",
              "    </tr>\n",
              "    <tr>\n",
              "      <th>5</th>\n",
              "      <td>133</td>\n",
              "      <td>120.468722</td>\n",
              "    </tr>\n",
              "    <tr>\n",
              "      <th>6</th>\n",
              "      <td>89</td>\n",
              "      <td>132.820030</td>\n",
              "    </tr>\n",
              "    <tr>\n",
              "      <th>7</th>\n",
              "      <td>152</td>\n",
              "      <td>152.611091</td>\n",
              "    </tr>\n",
              "    <tr>\n",
              "      <th>8</th>\n",
              "      <td>103</td>\n",
              "      <td>140.120174</td>\n",
              "    </tr>\n",
              "    <tr>\n",
              "      <th>9</th>\n",
              "      <td>135</td>\n",
              "      <td>145.998972</td>\n",
              "    </tr>\n",
              "    <tr>\n",
              "      <th>10</th>\n",
              "      <td>131</td>\n",
              "      <td>149.881827</td>\n",
              "    </tr>\n",
              "    <tr>\n",
              "      <th>11</th>\n",
              "      <td>195</td>\n",
              "      <td>194.948932</td>\n",
              "    </tr>\n",
              "    <tr>\n",
              "      <th>12</th>\n",
              "      <td>131</td>\n",
              "      <td>145.365515</td>\n",
              "    </tr>\n",
              "    <tr>\n",
              "      <th>13</th>\n",
              "      <td>198</td>\n",
              "      <td>98.064241</td>\n",
              "    </tr>\n",
              "    <tr>\n",
              "      <th>14</th>\n",
              "      <td>93</td>\n",
              "      <td>136.433006</td>\n",
              "    </tr>\n",
              "    <tr>\n",
              "      <th>15</th>\n",
              "      <td>140</td>\n",
              "      <td>135.991702</td>\n",
              "    </tr>\n",
              "  </tbody>\n",
              "</table>\n",
              "</div>"
            ],
            "text/plain": [
              "    Actual   Predicted\n",
              "0      130  156.891839\n",
              "1       81  129.875047\n",
              "2      148  140.604966\n",
              "3       80  128.097873\n",
              "4      190  185.954960\n",
              "5      133  120.468722\n",
              "6       89  132.820030\n",
              "7      152  152.611091\n",
              "8      103  140.120174\n",
              "9      135  145.998972\n",
              "10     131  149.881827\n",
              "11     195  194.948932\n",
              "12     131  145.365515\n",
              "13     198   98.064241\n",
              "14      93  136.433006\n",
              "15     140  135.991702"
            ]
          },
          "metadata": {
            "tags": []
          },
          "execution_count": 816
        }
      ]
    },
    {
      "cell_type": "code",
      "metadata": {
        "id": "W-Y2xVtan-8Q",
        "outputId": "ab7434fe-9f96-459b-de66-6124d8a486bc",
        "colab": {
          "base_uri": "https://localhost:8080/",
          "height": 265
        }
      },
      "source": [
        "# plot predictions and expected results\n",
        "from matplotlib import pyplot\n",
        "\n",
        "pyplot.plot(y_train)\n",
        "pyplot.plot([None for i in y_train] + [x for x in y_val])\n",
        "pyplot.plot([None for i in y_train] + [x for x in y_pred])\n",
        "pyplot.show()"
      ],
      "execution_count": 817,
      "outputs": [
        {
          "output_type": "display_data",
          "data": {
            "image/png": "[encoded data removed]",
            "text/plain": [
              "<Figure size 432x288 with 1 Axes>"
            ]
          },
          "metadata": {
            "tags": [],
            "needs_background": "light"
          }
        }
      ]
    },
    {
      "cell_type": "markdown",
      "metadata": {
        "id": "WbsVnlexqNtO"
      },
      "source": [
        "Numpy Polyfit"
      ]
    },
    {
      "cell_type": "code",
      "metadata": {
        "id": "YMxnVZaLrdS4",
        "outputId": "b2364b66-712d-4697-8666-9fe9e1b21f5f",
        "colab": {
          "base_uri": "https://localhost:8080/",
          "height": 1000
        }
      },
      "source": [
        "df = pd.read_csv('https://raw.githubusercontent.com/TracyRenee61/Misc-Predictions/main/Anon%20Training%20Deficiency%20-%20Anon%20Training%20Deficiency%20(1).csv',parse_dates=['Month Year'])\n",
        "df"
      ],
      "execution_count": 818,
      "outputs": [
        {
          "output_type": "execute_result",
          "data": {
            "text/html": [
              "<div>\n",
              "<style scoped>\n",
              "    .dataframe tbody tr th:only-of-type {\n",
              "        vertical-align: middle;\n",
              "    }\n",
              "\n",
              "    .dataframe tbody tr th {\n",
              "        vertical-align: top;\n",
              "    }\n",
              "\n",
              "    .dataframe thead th {\n",
              "        text-align: right;\n",
              "    }\n",
              "</style>\n",
              "<table border=\"1\" class=\"dataframe\">\n",
              "  <thead>\n",
              "    <tr style=\"text-align: right;\">\n",
              "      <th></th>\n",
              "      <th>Month Year</th>\n",
              "      <th>Training Deficiency</th>\n",
              "    </tr>\n",
              "  </thead>\n",
              "  <tbody>\n",
              "    <tr>\n",
              "      <th>0</th>\n",
              "      <td>Jun-16</td>\n",
              "      <td>111</td>\n",
              "    </tr>\n",
              "    <tr>\n",
              "      <th>1</th>\n",
              "      <td>Jul-16</td>\n",
              "      <td>124</td>\n",
              "    </tr>\n",
              "    <tr>\n",
              "      <th>2</th>\n",
              "      <td>Aug-16</td>\n",
              "      <td>133</td>\n",
              "    </tr>\n",
              "    <tr>\n",
              "      <th>3</th>\n",
              "      <td>Sep-16</td>\n",
              "      <td>139</td>\n",
              "    </tr>\n",
              "    <tr>\n",
              "      <th>4</th>\n",
              "      <td>Oct-16</td>\n",
              "      <td>131</td>\n",
              "    </tr>\n",
              "    <tr>\n",
              "      <th>5</th>\n",
              "      <td>Nov-16</td>\n",
              "      <td>149</td>\n",
              "    </tr>\n",
              "    <tr>\n",
              "      <th>6</th>\n",
              "      <td>Dec-16</td>\n",
              "      <td>171</td>\n",
              "    </tr>\n",
              "    <tr>\n",
              "      <th>7</th>\n",
              "      <td>Jan-17</td>\n",
              "      <td>189</td>\n",
              "    </tr>\n",
              "    <tr>\n",
              "      <th>8</th>\n",
              "      <td>Feb-17</td>\n",
              "      <td>207</td>\n",
              "    </tr>\n",
              "    <tr>\n",
              "      <th>9</th>\n",
              "      <td>Mar-17</td>\n",
              "      <td>210</td>\n",
              "    </tr>\n",
              "    <tr>\n",
              "      <th>10</th>\n",
              "      <td>Apr-17</td>\n",
              "      <td>195</td>\n",
              "    </tr>\n",
              "    <tr>\n",
              "      <th>11</th>\n",
              "      <td>May-17</td>\n",
              "      <td>190</td>\n",
              "    </tr>\n",
              "    <tr>\n",
              "      <th>12</th>\n",
              "      <td>Jun-17</td>\n",
              "      <td>204</td>\n",
              "    </tr>\n",
              "    <tr>\n",
              "      <th>13</th>\n",
              "      <td>Jul-17</td>\n",
              "      <td>136</td>\n",
              "    </tr>\n",
              "    <tr>\n",
              "      <th>14</th>\n",
              "      <td>Aug-17</td>\n",
              "      <td>139</td>\n",
              "    </tr>\n",
              "    <tr>\n",
              "      <th>15</th>\n",
              "      <td>Sep-17</td>\n",
              "      <td>152</td>\n",
              "    </tr>\n",
              "    <tr>\n",
              "      <th>16</th>\n",
              "      <td>Oct-17</td>\n",
              "      <td>147</td>\n",
              "    </tr>\n",
              "    <tr>\n",
              "      <th>17</th>\n",
              "      <td>Nov-17</td>\n",
              "      <td>107</td>\n",
              "    </tr>\n",
              "    <tr>\n",
              "      <th>18</th>\n",
              "      <td>Dec-17</td>\n",
              "      <td>105</td>\n",
              "    </tr>\n",
              "    <tr>\n",
              "      <th>19</th>\n",
              "      <td>Jan-18</td>\n",
              "      <td>112</td>\n",
              "    </tr>\n",
              "    <tr>\n",
              "      <th>20</th>\n",
              "      <td>Feb-18</td>\n",
              "      <td>117</td>\n",
              "    </tr>\n",
              "    <tr>\n",
              "      <th>21</th>\n",
              "      <td>Mar-18</td>\n",
              "      <td>143</td>\n",
              "    </tr>\n",
              "    <tr>\n",
              "      <th>22</th>\n",
              "      <td>Apr-18</td>\n",
              "      <td>146</td>\n",
              "    </tr>\n",
              "    <tr>\n",
              "      <th>23</th>\n",
              "      <td>May-18</td>\n",
              "      <td>156</td>\n",
              "    </tr>\n",
              "    <tr>\n",
              "      <th>24</th>\n",
              "      <td>Jun-18</td>\n",
              "      <td>142</td>\n",
              "    </tr>\n",
              "    <tr>\n",
              "      <th>25</th>\n",
              "      <td>Jul-18</td>\n",
              "      <td>143</td>\n",
              "    </tr>\n",
              "    <tr>\n",
              "      <th>26</th>\n",
              "      <td>Aug-18</td>\n",
              "      <td>135</td>\n",
              "    </tr>\n",
              "    <tr>\n",
              "      <th>27</th>\n",
              "      <td>Sep-18</td>\n",
              "      <td>131</td>\n",
              "    </tr>\n",
              "    <tr>\n",
              "      <th>28</th>\n",
              "      <td>Oct-18</td>\n",
              "      <td>128</td>\n",
              "    </tr>\n",
              "    <tr>\n",
              "      <th>29</th>\n",
              "      <td>Nov-18</td>\n",
              "      <td>103</td>\n",
              "    </tr>\n",
              "    <tr>\n",
              "      <th>30</th>\n",
              "      <td>Dec-18</td>\n",
              "      <td>93</td>\n",
              "    </tr>\n",
              "    <tr>\n",
              "      <th>31</th>\n",
              "      <td>Jan-19</td>\n",
              "      <td>89</td>\n",
              "    </tr>\n",
              "    <tr>\n",
              "      <th>32</th>\n",
              "      <td>Feb-19</td>\n",
              "      <td>81</td>\n",
              "    </tr>\n",
              "    <tr>\n",
              "      <th>33</th>\n",
              "      <td>Mar-19</td>\n",
              "      <td>80</td>\n",
              "    </tr>\n",
              "    <tr>\n",
              "      <th>34</th>\n",
              "      <td>Apr-19</td>\n",
              "      <td>123</td>\n",
              "    </tr>\n",
              "    <tr>\n",
              "      <th>35</th>\n",
              "      <td>May-19</td>\n",
              "      <td>135</td>\n",
              "    </tr>\n",
              "    <tr>\n",
              "      <th>36</th>\n",
              "      <td>Jun-19</td>\n",
              "      <td>133</td>\n",
              "    </tr>\n",
              "    <tr>\n",
              "      <th>37</th>\n",
              "      <td>Jul 19</td>\n",
              "      <td>140</td>\n",
              "    </tr>\n",
              "    <tr>\n",
              "      <th>38</th>\n",
              "      <td>Aug 19</td>\n",
              "      <td>148</td>\n",
              "    </tr>\n",
              "    <tr>\n",
              "      <th>39</th>\n",
              "      <td>Sep-19</td>\n",
              "      <td>156</td>\n",
              "    </tr>\n",
              "    <tr>\n",
              "      <th>40</th>\n",
              "      <td>Oct-19</td>\n",
              "      <td>157</td>\n",
              "    </tr>\n",
              "    <tr>\n",
              "      <th>41</th>\n",
              "      <td>Nov-19</td>\n",
              "      <td>152</td>\n",
              "    </tr>\n",
              "    <tr>\n",
              "      <th>42</th>\n",
              "      <td>Dec-19</td>\n",
              "      <td>130</td>\n",
              "    </tr>\n",
              "    <tr>\n",
              "      <th>43</th>\n",
              "      <td>Jan-20</td>\n",
              "      <td>130</td>\n",
              "    </tr>\n",
              "    <tr>\n",
              "      <th>44</th>\n",
              "      <td>Feb-20</td>\n",
              "      <td>160</td>\n",
              "    </tr>\n",
              "    <tr>\n",
              "      <th>45</th>\n",
              "      <td>Mar-20</td>\n",
              "      <td>171</td>\n",
              "    </tr>\n",
              "    <tr>\n",
              "      <th>46</th>\n",
              "      <td>Apr-20</td>\n",
              "      <td>169</td>\n",
              "    </tr>\n",
              "    <tr>\n",
              "      <th>47</th>\n",
              "      <td>May-20</td>\n",
              "      <td>177</td>\n",
              "    </tr>\n",
              "    <tr>\n",
              "      <th>48</th>\n",
              "      <td>Jun-20</td>\n",
              "      <td>219</td>\n",
              "    </tr>\n",
              "    <tr>\n",
              "      <th>49</th>\n",
              "      <td>Jul-20</td>\n",
              "      <td>200</td>\n",
              "    </tr>\n",
              "    <tr>\n",
              "      <th>50</th>\n",
              "      <td>Aug-20</td>\n",
              "      <td>202</td>\n",
              "    </tr>\n",
              "    <tr>\n",
              "      <th>51</th>\n",
              "      <td>Sep-20</td>\n",
              "      <td>192</td>\n",
              "    </tr>\n",
              "    <tr>\n",
              "      <th>52</th>\n",
              "      <td>Oct-20</td>\n",
              "      <td>198</td>\n",
              "    </tr>\n",
              "  </tbody>\n",
              "</table>\n",
              "</div>"
            ],
            "text/plain": [
              "   Month Year  Training Deficiency\n",
              "0      Jun-16                  111\n",
              "1      Jul-16                  124\n",
              "2      Aug-16                  133\n",
              "3      Sep-16                  139\n",
              "4      Oct-16                  131\n",
              "5      Nov-16                  149\n",
              "6      Dec-16                  171\n",
              "7      Jan-17                  189\n",
              "8      Feb-17                  207\n",
              "9      Mar-17                  210\n",
              "10     Apr-17                  195\n",
              "11     May-17                  190\n",
              "12     Jun-17                  204\n",
              "13     Jul-17                  136\n",
              "14     Aug-17                  139\n",
              "15     Sep-17                  152\n",
              "16     Oct-17                  147\n",
              "17     Nov-17                  107\n",
              "18     Dec-17                  105\n",
              "19     Jan-18                  112\n",
              "20     Feb-18                  117\n",
              "21     Mar-18                  143\n",
              "22     Apr-18                  146\n",
              "23     May-18                  156\n",
              "24     Jun-18                  142\n",
              "25     Jul-18                  143\n",
              "26     Aug-18                  135\n",
              "27     Sep-18                  131\n",
              "28     Oct-18                  128\n",
              "29     Nov-18                  103\n",
              "30     Dec-18                   93\n",
              "31     Jan-19                   89\n",
              "32     Feb-19                   81\n",
              "33     Mar-19                   80\n",
              "34     Apr-19                  123\n",
              "35     May-19                  135\n",
              "36     Jun-19                  133\n",
              "37     Jul 19                  140\n",
              "38     Aug 19                  148\n",
              "39     Sep-19                  156\n",
              "40     Oct-19                  157\n",
              "41     Nov-19                  152\n",
              "42     Dec-19                  130\n",
              "43     Jan-20                  130\n",
              "44     Feb-20                  160\n",
              "45     Mar-20                  171\n",
              "46     Apr-20                  169\n",
              "47     May-20                  177\n",
              "48     Jun-20                  219\n",
              "49     Jul-20                  200\n",
              "50     Aug-20                  202\n",
              "51     Sep-20                  192\n",
              "52     Oct-20                  198"
            ]
          },
          "metadata": {
            "tags": []
          },
          "execution_count": 818
        }
      ]
    },
    {
      "cell_type": "code",
      "metadata": {
        "id": "TkGPWlngqPnv",
        "outputId": "ce615ebc-da14-4759-81a0-f05f1f002c65",
        "colab": {
          "base_uri": "https://localhost:8080/",
          "height": 281
        }
      },
      "source": [
        "X = df.index\n",
        "y = df['Training Deficiency']\n",
        "degree = 12\n",
        "\n",
        "coefs = np.polyfit(X, y, degree)\n",
        "\n",
        "plt.figure()\n",
        "plt.plot(X, np.polyval(coefs, X),color=\"black\")\n",
        "plt.title(\"Polyfit degree \" + str(degree))\n",
        "plt.scatter(X,y)\n",
        "plt.show()"
      ],
      "execution_count": 819,
      "outputs": [
        {
          "output_type": "display_data",
          "data": {
            "image/png": "[encoded data removed]",
            "text/plain": [
              "<Figure size 432x288 with 1 Axes>"
            ]
          },
          "metadata": {
            "tags": [],
            "needs_background": "light"
          }
        }
      ]
    }
  ]
}