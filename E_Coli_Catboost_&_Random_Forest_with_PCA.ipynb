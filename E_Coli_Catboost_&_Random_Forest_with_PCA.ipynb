{
  "nbformat": 4,
  "nbformat_minor": 0,
  "metadata": {
    "colab": {
      "name": "E-Coli - Catboost & Random Forest with PCA.ipynb",
      "provenance": []
    },
    "kernelspec": {
      "name": "python3",
      "display_name": "Python 3"
    }
  },
  "cells": [
    {
      "cell_type": "markdown",
      "metadata": {
        "id": "5y0J8sjxbuA_"
      },
      "source": [
        "The E Coli Imbalanced Dataset\n",
        "\n",
        "The dataset describes the problem of classifying E.coli proteins using their amino acid sequences in their cell localization sites. That is, predicting how a protein will bind to a cell based on the chemical composition of the protein before it is folded.\n",
        "\n",
        "The dataset is credited to Kenta Nakai and was developed into its current form by Paul Horton and Kenta Nakai in their 1996 paper titled “A Probabilistic Classification System For Predicting The Cellular Localization Sites Of Proteins.” In it, they achieved a classification accuracy of 81%.\n",
        "\n",
        "The dataset is comprised of 336 examples of E.coli proteins and each example is described using seven input variables calculated from the proteins amino acid sequence.\n",
        "\n",
        "Ignoring the sequence name, the input features are described as follows:\n",
        "\n",
        "mcg: McGeoch’s method for signal sequence recognition.\n",
        "\n",
        "gvh: von Heijne’s method for signal sequence recognition.\n",
        "\n",
        "lip: von Heijne’s Signal Peptidase II consensus sequence score.\n",
        "\n",
        "chg: Presence of charge on N-terminus of predicted lipoproteins.\n",
        "\n",
        "aac: score of discriminant analysis of the amino acid content of outer membrane and periplasmic proteins.\n",
        "\n",
        "alm1: score of the ALOM membrane-spanning region prediction program.\n",
        "\n",
        "alm2: score of ALOM program after excluding putative cleavable signal regions from the sequence.\n",
        "\n",
        "There are eight classes described as follows:\n",
        "\n",
        "cp: cytoplasm\n",
        "\n",
        "im: inner membrane without signal sequence\n",
        "\n",
        "pp: periplasm\n",
        "\n",
        "imU: inner membrane, non cleavable signal sequence\n",
        "\n",
        "om: outer membrane\n",
        "\n",
        "omL: outer membrane lipoprotein\n",
        "\n",
        "imL: inner membrane lipoprotein\n",
        "\n",
        "imS: inner membrane, cleavable signal sequence\n",
        "\n"
      ]
    },
    {
      "cell_type": "markdown",
      "metadata": {
        "id": "Ip34kQ-Jqjj_"
      },
      "source": [
        "Load libraries"
      ]
    },
    {
      "cell_type": "code",
      "metadata": {
        "id": "wIYpYF1Jpiql"
      },
      "source": [
        "#import libraries\n",
        "import pandas as pd\n",
        "import numpy as np\n",
        "import matplotlib.pyplot as plt\n",
        "%matplotlib inline\n",
        "import seaborn as sns"
      ],
      "execution_count": 542,
      "outputs": []
    },
    {
      "cell_type": "markdown",
      "metadata": {
        "id": "sf1ETkFrqo5i"
      },
      "source": [
        "Load datasets"
      ]
    },
    {
      "cell_type": "code",
      "metadata": {
        "id": "ujZgjI15qxC3"
      },
      "source": [
        "#Load datasets\n",
        "train=pd.read_csv(\"https://raw.githubusercontent.com/jbrownlee/Datasets/master/ecoli.csv\")\n",
        "train.columns = ['mcg','gvh', 'lip','chg','aac','alm1','alm2', 'result']"
      ],
      "execution_count": 543,
      "outputs": []
    },
    {
      "cell_type": "code",
      "metadata": {
        "id": "8oyz7qMurSqE",
        "colab": {
          "base_uri": "https://localhost:8080/",
          "height": 415
        },
        "outputId": "1982227d-c714-407d-b6ca-87a425399360"
      },
      "source": [
        "train"
      ],
      "execution_count": 544,
      "outputs": [
        {
          "output_type": "execute_result",
          "data": {
            "text/html": [
              "<div>\n",
              "<style scoped>\n",
              "    .dataframe tbody tr th:only-of-type {\n",
              "        vertical-align: middle;\n",
              "    }\n",
              "\n",
              "    .dataframe tbody tr th {\n",
              "        vertical-align: top;\n",
              "    }\n",
              "\n",
              "    .dataframe thead th {\n",
              "        text-align: right;\n",
              "    }\n",
              "</style>\n",
              "<table border=\"1\" class=\"dataframe\">\n",
              "  <thead>\n",
              "    <tr style=\"text-align: right;\">\n",
              "      <th></th>\n",
              "      <th>mcg</th>\n",
              "      <th>gvh</th>\n",
              "      <th>lip</th>\n",
              "      <th>chg</th>\n",
              "      <th>aac</th>\n",
              "      <th>alm1</th>\n",
              "      <th>alm2</th>\n",
              "      <th>result</th>\n",
              "    </tr>\n",
              "  </thead>\n",
              "  <tbody>\n",
              "    <tr>\n",
              "      <th>0</th>\n",
              "      <td>0.07</td>\n",
              "      <td>0.40</td>\n",
              "      <td>0.48</td>\n",
              "      <td>0.5</td>\n",
              "      <td>0.54</td>\n",
              "      <td>0.35</td>\n",
              "      <td>0.44</td>\n",
              "      <td>cp</td>\n",
              "    </tr>\n",
              "    <tr>\n",
              "      <th>1</th>\n",
              "      <td>0.56</td>\n",
              "      <td>0.40</td>\n",
              "      <td>0.48</td>\n",
              "      <td>0.5</td>\n",
              "      <td>0.49</td>\n",
              "      <td>0.37</td>\n",
              "      <td>0.46</td>\n",
              "      <td>cp</td>\n",
              "    </tr>\n",
              "    <tr>\n",
              "      <th>2</th>\n",
              "      <td>0.59</td>\n",
              "      <td>0.49</td>\n",
              "      <td>0.48</td>\n",
              "      <td>0.5</td>\n",
              "      <td>0.52</td>\n",
              "      <td>0.45</td>\n",
              "      <td>0.36</td>\n",
              "      <td>cp</td>\n",
              "    </tr>\n",
              "    <tr>\n",
              "      <th>3</th>\n",
              "      <td>0.23</td>\n",
              "      <td>0.32</td>\n",
              "      <td>0.48</td>\n",
              "      <td>0.5</td>\n",
              "      <td>0.55</td>\n",
              "      <td>0.25</td>\n",
              "      <td>0.35</td>\n",
              "      <td>cp</td>\n",
              "    </tr>\n",
              "    <tr>\n",
              "      <th>4</th>\n",
              "      <td>0.67</td>\n",
              "      <td>0.39</td>\n",
              "      <td>0.48</td>\n",
              "      <td>0.5</td>\n",
              "      <td>0.36</td>\n",
              "      <td>0.38</td>\n",
              "      <td>0.46</td>\n",
              "      <td>cp</td>\n",
              "    </tr>\n",
              "    <tr>\n",
              "      <th>...</th>\n",
              "      <td>...</td>\n",
              "      <td>...</td>\n",
              "      <td>...</td>\n",
              "      <td>...</td>\n",
              "      <td>...</td>\n",
              "      <td>...</td>\n",
              "      <td>...</td>\n",
              "      <td>...</td>\n",
              "    </tr>\n",
              "    <tr>\n",
              "      <th>330</th>\n",
              "      <td>0.74</td>\n",
              "      <td>0.56</td>\n",
              "      <td>0.48</td>\n",
              "      <td>0.5</td>\n",
              "      <td>0.47</td>\n",
              "      <td>0.68</td>\n",
              "      <td>0.30</td>\n",
              "      <td>pp</td>\n",
              "    </tr>\n",
              "    <tr>\n",
              "      <th>331</th>\n",
              "      <td>0.71</td>\n",
              "      <td>0.57</td>\n",
              "      <td>0.48</td>\n",
              "      <td>0.5</td>\n",
              "      <td>0.48</td>\n",
              "      <td>0.35</td>\n",
              "      <td>0.32</td>\n",
              "      <td>pp</td>\n",
              "    </tr>\n",
              "    <tr>\n",
              "      <th>332</th>\n",
              "      <td>0.61</td>\n",
              "      <td>0.60</td>\n",
              "      <td>0.48</td>\n",
              "      <td>0.5</td>\n",
              "      <td>0.44</td>\n",
              "      <td>0.39</td>\n",
              "      <td>0.38</td>\n",
              "      <td>pp</td>\n",
              "    </tr>\n",
              "    <tr>\n",
              "      <th>333</th>\n",
              "      <td>0.59</td>\n",
              "      <td>0.61</td>\n",
              "      <td>0.48</td>\n",
              "      <td>0.5</td>\n",
              "      <td>0.42</td>\n",
              "      <td>0.42</td>\n",
              "      <td>0.37</td>\n",
              "      <td>pp</td>\n",
              "    </tr>\n",
              "    <tr>\n",
              "      <th>334</th>\n",
              "      <td>0.74</td>\n",
              "      <td>0.74</td>\n",
              "      <td>0.48</td>\n",
              "      <td>0.5</td>\n",
              "      <td>0.31</td>\n",
              "      <td>0.53</td>\n",
              "      <td>0.52</td>\n",
              "      <td>pp</td>\n",
              "    </tr>\n",
              "  </tbody>\n",
              "</table>\n",
              "<p>335 rows × 8 columns</p>\n",
              "</div>"
            ],
            "text/plain": [
              "      mcg   gvh   lip  chg   aac  alm1  alm2 result\n",
              "0    0.07  0.40  0.48  0.5  0.54  0.35  0.44     cp\n",
              "1    0.56  0.40  0.48  0.5  0.49  0.37  0.46     cp\n",
              "2    0.59  0.49  0.48  0.5  0.52  0.45  0.36     cp\n",
              "3    0.23  0.32  0.48  0.5  0.55  0.25  0.35     cp\n",
              "4    0.67  0.39  0.48  0.5  0.36  0.38  0.46     cp\n",
              "..    ...   ...   ...  ...   ...   ...   ...    ...\n",
              "330  0.74  0.56  0.48  0.5  0.47  0.68  0.30     pp\n",
              "331  0.71  0.57  0.48  0.5  0.48  0.35  0.32     pp\n",
              "332  0.61  0.60  0.48  0.5  0.44  0.39  0.38     pp\n",
              "333  0.59  0.61  0.48  0.5  0.42  0.42  0.37     pp\n",
              "334  0.74  0.74  0.48  0.5  0.31  0.53  0.52     pp\n",
              "\n",
              "[335 rows x 8 columns]"
            ]
          },
          "metadata": {
            "tags": []
          },
          "execution_count": 544
        }
      ]
    },
    {
      "cell_type": "markdown",
      "metadata": {
        "id": "PpeywPghsYhw"
      },
      "source": [
        "Check for null values"
      ]
    },
    {
      "cell_type": "code",
      "metadata": {
        "id": "U9BVsDafsbSR",
        "colab": {
          "base_uri": "https://localhost:8080/"
        },
        "outputId": "cc4274c4-db3e-4749-ffea-f10dd6fae0fb"
      },
      "source": [
        "train.isnull().sum()"
      ],
      "execution_count": 545,
      "outputs": [
        {
          "output_type": "execute_result",
          "data": {
            "text/plain": [
              "mcg       0\n",
              "gvh       0\n",
              "lip       0\n",
              "chg       0\n",
              "aac       0\n",
              "alm1      0\n",
              "alm2      0\n",
              "result    0\n",
              "dtype: int64"
            ]
          },
          "metadata": {
            "tags": []
          },
          "execution_count": 545
        }
      ]
    },
    {
      "cell_type": "markdown",
      "metadata": {
        "id": "vXRTwxdxtJuM"
      },
      "source": [
        "Compare result with independant variables"
      ]
    },
    {
      "cell_type": "code",
      "metadata": {
        "id": "cRUflpZ7tRVU",
        "colab": {
          "base_uri": "https://localhost:8080/",
          "height": 294
        },
        "outputId": "17e120b2-9371-4955-8389-b5aa8aeb0606"
      },
      "source": [
        "result = train.groupby(by=(\"result\")).sum().reset_index()\n",
        "result"
      ],
      "execution_count": 546,
      "outputs": [
        {
          "output_type": "execute_result",
          "data": {
            "text/html": [
              "<div>\n",
              "<style scoped>\n",
              "    .dataframe tbody tr th:only-of-type {\n",
              "        vertical-align: middle;\n",
              "    }\n",
              "\n",
              "    .dataframe tbody tr th {\n",
              "        vertical-align: top;\n",
              "    }\n",
              "\n",
              "    .dataframe thead th {\n",
              "        text-align: right;\n",
              "    }\n",
              "</style>\n",
              "<table border=\"1\" class=\"dataframe\">\n",
              "  <thead>\n",
              "    <tr style=\"text-align: right;\">\n",
              "      <th></th>\n",
              "      <th>result</th>\n",
              "      <th>mcg</th>\n",
              "      <th>gvh</th>\n",
              "      <th>lip</th>\n",
              "      <th>chg</th>\n",
              "      <th>aac</th>\n",
              "      <th>alm1</th>\n",
              "      <th>alm2</th>\n",
              "    </tr>\n",
              "  </thead>\n",
              "  <tbody>\n",
              "    <tr>\n",
              "      <th>0</th>\n",
              "      <td>cp</td>\n",
              "      <td>51.50</td>\n",
              "      <td>58.30</td>\n",
              "      <td>68.16</td>\n",
              "      <td>71.0</td>\n",
              "      <td>64.43</td>\n",
              "      <td>44.47</td>\n",
              "      <td>56.17</td>\n",
              "    </tr>\n",
              "    <tr>\n",
              "      <th>1</th>\n",
              "      <td>im</td>\n",
              "      <td>36.84</td>\n",
              "      <td>38.24</td>\n",
              "      <td>37.48</td>\n",
              "      <td>38.5</td>\n",
              "      <td>41.28</td>\n",
              "      <td>58.33</td>\n",
              "      <td>56.24</td>\n",
              "    </tr>\n",
              "    <tr>\n",
              "      <th>2</th>\n",
              "      <td>imL</td>\n",
              "      <td>1.45</td>\n",
              "      <td>0.94</td>\n",
              "      <td>2.00</td>\n",
              "      <td>1.5</td>\n",
              "      <td>0.91</td>\n",
              "      <td>1.29</td>\n",
              "      <td>1.14</td>\n",
              "    </tr>\n",
              "    <tr>\n",
              "      <th>3</th>\n",
              "      <td>imS</td>\n",
              "      <td>1.48</td>\n",
              "      <td>1.02</td>\n",
              "      <td>0.96</td>\n",
              "      <td>1.0</td>\n",
              "      <td>1.07</td>\n",
              "      <td>1.28</td>\n",
              "      <td>1.14</td>\n",
              "    </tr>\n",
              "    <tr>\n",
              "      <th>4</th>\n",
              "      <td>imU</td>\n",
              "      <td>25.41</td>\n",
              "      <td>16.06</td>\n",
              "      <td>17.32</td>\n",
              "      <td>17.5</td>\n",
              "      <td>19.56</td>\n",
              "      <td>26.04</td>\n",
              "      <td>26.18</td>\n",
              "    </tr>\n",
              "    <tr>\n",
              "      <th>5</th>\n",
              "      <td>om</td>\n",
              "      <td>13.45</td>\n",
              "      <td>14.20</td>\n",
              "      <td>10.12</td>\n",
              "      <td>10.0</td>\n",
              "      <td>14.78</td>\n",
              "      <td>9.25</td>\n",
              "      <td>6.11</td>\n",
              "    </tr>\n",
              "    <tr>\n",
              "      <th>6</th>\n",
              "      <td>omL</td>\n",
              "      <td>3.49</td>\n",
              "      <td>2.56</td>\n",
              "      <td>5.00</td>\n",
              "      <td>2.5</td>\n",
              "      <td>2.71</td>\n",
              "      <td>2.82</td>\n",
              "      <td>1.11</td>\n",
              "    </tr>\n",
              "    <tr>\n",
              "      <th>7</th>\n",
              "      <td>pp</td>\n",
              "      <td>33.91</td>\n",
              "      <td>36.39</td>\n",
              "      <td>24.96</td>\n",
              "      <td>26.0</td>\n",
              "      <td>22.71</td>\n",
              "      <td>24.34</td>\n",
              "      <td>19.47</td>\n",
              "    </tr>\n",
              "  </tbody>\n",
              "</table>\n",
              "</div>"
            ],
            "text/plain": [
              "  result    mcg    gvh    lip   chg    aac   alm1   alm2\n",
              "0     cp  51.50  58.30  68.16  71.0  64.43  44.47  56.17\n",
              "1     im  36.84  38.24  37.48  38.5  41.28  58.33  56.24\n",
              "2    imL   1.45   0.94   2.00   1.5   0.91   1.29   1.14\n",
              "3    imS   1.48   1.02   0.96   1.0   1.07   1.28   1.14\n",
              "4    imU  25.41  16.06  17.32  17.5  19.56  26.04  26.18\n",
              "5     om  13.45  14.20  10.12  10.0  14.78   9.25   6.11\n",
              "6    omL   3.49   2.56   5.00   2.5   2.71   2.82   1.11\n",
              "7     pp  33.91  36.39  24.96  26.0  22.71  24.34  19.47"
            ]
          },
          "metadata": {
            "tags": []
          },
          "execution_count": 546
        }
      ]
    },
    {
      "cell_type": "markdown",
      "metadata": {
        "id": "hcWq23gPCklx"
      },
      "source": [
        "Label Encode result"
      ]
    },
    {
      "cell_type": "code",
      "metadata": {
        "id": "ebJVqqPoI8uF",
        "colab": {
          "base_uri": "https://localhost:8080/"
        },
        "outputId": "23fd4ab4-f4e3-4c45-957d-d03fa54c3301"
      },
      "source": [
        "train.info()"
      ],
      "execution_count": 547,
      "outputs": [
        {
          "output_type": "stream",
          "text": [
            "<class 'pandas.core.frame.DataFrame'>\n",
            "RangeIndex: 335 entries, 0 to 334\n",
            "Data columns (total 8 columns):\n",
            " #   Column  Non-Null Count  Dtype  \n",
            "---  ------  --------------  -----  \n",
            " 0   mcg     335 non-null    float64\n",
            " 1   gvh     335 non-null    float64\n",
            " 2   lip     335 non-null    float64\n",
            " 3   chg     335 non-null    float64\n",
            " 4   aac     335 non-null    float64\n",
            " 5   alm1    335 non-null    float64\n",
            " 6   alm2    335 non-null    float64\n",
            " 7   result  335 non-null    object \n",
            "dtypes: float64(7), object(1)\n",
            "memory usage: 21.1+ KB\n"
          ],
          "name": "stdout"
        }
      ]
    },
    {
      "cell_type": "code",
      "metadata": {
        "id": "exO-v91udhvo",
        "colab": {
          "base_uri": "https://localhost:8080/",
          "height": 505
        },
        "outputId": "fa0801bc-f6c7-45c8-f206-dd176e4aae9b"
      },
      "source": [
        "plt.figure(figsize=(10,8))\n",
        "sns.heatmap(train.corr(), annot=True)"
      ],
      "execution_count": 548,
      "outputs": [
        {
          "output_type": "execute_result",
          "data": {
            "text/plain": [
              "<matplotlib.axes._subplots.AxesSubplot at 0x7f2ca08456d8>"
            ]
          },
          "metadata": {
            "tags": []
          },
          "execution_count": 548
        },
        {
          "output_type": "display_data",
          "data": {
            "image/png": "[encoded data removed]",
            "text/plain": [
              "<Figure size 720x576 with 2 Axes>"
            ]
          },
          "metadata": {
            "tags": [],
            "needs_background": "light"
          }
        }
      ]
    },
    {
      "cell_type": "markdown",
      "metadata": {
        "id": "9WupGGsLt_fs"
      },
      "source": [
        "Count each class"
      ]
    },
    {
      "cell_type": "code",
      "metadata": {
        "id": "ZmkLvkB1b-4L",
        "colab": {
          "base_uri": "https://localhost:8080/"
        },
        "outputId": "6e5ef833-e3ba-4358-aefb-28cfb4971775"
      },
      "source": [
        "import collections\n",
        "from collections import Counter\n",
        "\n",
        "counter = Counter(train.result)\n",
        "for k,v in counter.items():\n",
        "\tper = v / len(train.result) * 100\n",
        "\tprint('Class=%s, Count=%d, Percentage=%.3f%%' % (k, v, per))"
      ],
      "execution_count": 549,
      "outputs": [
        {
          "output_type": "stream",
          "text": [
            "Class=cp, Count=142, Percentage=42.388%\n",
            "Class=im, Count=77, Percentage=22.985%\n",
            "Class=imS, Count=2, Percentage=0.597%\n",
            "Class=imL, Count=2, Percentage=0.597%\n",
            "Class=imU, Count=35, Percentage=10.448%\n",
            "Class=om, Count=20, Percentage=5.970%\n",
            "Class=omL, Count=5, Percentage=1.493%\n",
            "Class=pp, Count=52, Percentage=15.522%\n"
          ],
          "name": "stdout"
        }
      ]
    },
    {
      "cell_type": "code",
      "metadata": {
        "colab": {
          "base_uri": "https://localhost:8080/"
        },
        "id": "uS1elXeM8uzm",
        "outputId": "a81ec370-c1e4-4f6f-884b-6f840eb5ccd7"
      },
      "source": [
        "result = train.groupby('result')['result'].count()\n",
        "result/len(train)*100"
      ],
      "execution_count": 550,
      "outputs": [
        {
          "output_type": "execute_result",
          "data": {
            "text/plain": [
              "result\n",
              "cp     42.388060\n",
              "im     22.985075\n",
              "imL     0.597015\n",
              "imS     0.597015\n",
              "imU    10.447761\n",
              "om      5.970149\n",
              "omL     1.492537\n",
              "pp     15.522388\n",
              "Name: result, dtype: float64"
            ]
          },
          "metadata": {
            "tags": []
          },
          "execution_count": 550
        }
      ]
    },
    {
      "cell_type": "code",
      "metadata": {
        "id": "6zuzU1kruCL8",
        "colab": {
          "base_uri": "https://localhost:8080/",
          "height": 294
        },
        "outputId": "aa4943de-ccb1-43ff-d21a-17d3e23469db"
      },
      "source": [
        "result1=train.groupby(\"result\").count().reset_index()\n",
        "result1"
      ],
      "execution_count": 551,
      "outputs": [
        {
          "output_type": "execute_result",
          "data": {
            "text/html": [
              "<div>\n",
              "<style scoped>\n",
              "    .dataframe tbody tr th:only-of-type {\n",
              "        vertical-align: middle;\n",
              "    }\n",
              "\n",
              "    .dataframe tbody tr th {\n",
              "        vertical-align: top;\n",
              "    }\n",
              "\n",
              "    .dataframe thead th {\n",
              "        text-align: right;\n",
              "    }\n",
              "</style>\n",
              "<table border=\"1\" class=\"dataframe\">\n",
              "  <thead>\n",
              "    <tr style=\"text-align: right;\">\n",
              "      <th></th>\n",
              "      <th>result</th>\n",
              "      <th>mcg</th>\n",
              "      <th>gvh</th>\n",
              "      <th>lip</th>\n",
              "      <th>chg</th>\n",
              "      <th>aac</th>\n",
              "      <th>alm1</th>\n",
              "      <th>alm2</th>\n",
              "    </tr>\n",
              "  </thead>\n",
              "  <tbody>\n",
              "    <tr>\n",
              "      <th>0</th>\n",
              "      <td>cp</td>\n",
              "      <td>142</td>\n",
              "      <td>142</td>\n",
              "      <td>142</td>\n",
              "      <td>142</td>\n",
              "      <td>142</td>\n",
              "      <td>142</td>\n",
              "      <td>142</td>\n",
              "    </tr>\n",
              "    <tr>\n",
              "      <th>1</th>\n",
              "      <td>im</td>\n",
              "      <td>77</td>\n",
              "      <td>77</td>\n",
              "      <td>77</td>\n",
              "      <td>77</td>\n",
              "      <td>77</td>\n",
              "      <td>77</td>\n",
              "      <td>77</td>\n",
              "    </tr>\n",
              "    <tr>\n",
              "      <th>2</th>\n",
              "      <td>imL</td>\n",
              "      <td>2</td>\n",
              "      <td>2</td>\n",
              "      <td>2</td>\n",
              "      <td>2</td>\n",
              "      <td>2</td>\n",
              "      <td>2</td>\n",
              "      <td>2</td>\n",
              "    </tr>\n",
              "    <tr>\n",
              "      <th>3</th>\n",
              "      <td>imS</td>\n",
              "      <td>2</td>\n",
              "      <td>2</td>\n",
              "      <td>2</td>\n",
              "      <td>2</td>\n",
              "      <td>2</td>\n",
              "      <td>2</td>\n",
              "      <td>2</td>\n",
              "    </tr>\n",
              "    <tr>\n",
              "      <th>4</th>\n",
              "      <td>imU</td>\n",
              "      <td>35</td>\n",
              "      <td>35</td>\n",
              "      <td>35</td>\n",
              "      <td>35</td>\n",
              "      <td>35</td>\n",
              "      <td>35</td>\n",
              "      <td>35</td>\n",
              "    </tr>\n",
              "    <tr>\n",
              "      <th>5</th>\n",
              "      <td>om</td>\n",
              "      <td>20</td>\n",
              "      <td>20</td>\n",
              "      <td>20</td>\n",
              "      <td>20</td>\n",
              "      <td>20</td>\n",
              "      <td>20</td>\n",
              "      <td>20</td>\n",
              "    </tr>\n",
              "    <tr>\n",
              "      <th>6</th>\n",
              "      <td>omL</td>\n",
              "      <td>5</td>\n",
              "      <td>5</td>\n",
              "      <td>5</td>\n",
              "      <td>5</td>\n",
              "      <td>5</td>\n",
              "      <td>5</td>\n",
              "      <td>5</td>\n",
              "    </tr>\n",
              "    <tr>\n",
              "      <th>7</th>\n",
              "      <td>pp</td>\n",
              "      <td>52</td>\n",
              "      <td>52</td>\n",
              "      <td>52</td>\n",
              "      <td>52</td>\n",
              "      <td>52</td>\n",
              "      <td>52</td>\n",
              "      <td>52</td>\n",
              "    </tr>\n",
              "  </tbody>\n",
              "</table>\n",
              "</div>"
            ],
            "text/plain": [
              "  result  mcg  gvh  lip  chg  aac  alm1  alm2\n",
              "0     cp  142  142  142  142  142   142   142\n",
              "1     im   77   77   77   77   77    77    77\n",
              "2    imL    2    2    2    2    2     2     2\n",
              "3    imS    2    2    2    2    2     2     2\n",
              "4    imU   35   35   35   35   35    35    35\n",
              "5     om   20   20   20   20   20    20    20\n",
              "6    omL    5    5    5    5    5     5     5\n",
              "7     pp   52   52   52   52   52    52    52"
            ]
          },
          "metadata": {
            "tags": []
          },
          "execution_count": 551
        }
      ]
    },
    {
      "cell_type": "markdown",
      "metadata": {
        "id": "uuBVOhmEteJC"
      },
      "source": [
        "Percentage of result"
      ]
    },
    {
      "cell_type": "code",
      "metadata": {
        "id": "d1QUuEF9tc10",
        "colab": {
          "base_uri": "https://localhost:8080/",
          "height": 325
        },
        "outputId": "63239e6c-7caa-4ea0-d718-707db6a2a804"
      },
      "source": [
        "result2=train.groupby(\"result\").count()/len(train)*100\n",
        "result2"
      ],
      "execution_count": 552,
      "outputs": [
        {
          "output_type": "execute_result",
          "data": {
            "text/html": [
              "<div>\n",
              "<style scoped>\n",
              "    .dataframe tbody tr th:only-of-type {\n",
              "        vertical-align: middle;\n",
              "    }\n",
              "\n",
              "    .dataframe tbody tr th {\n",
              "        vertical-align: top;\n",
              "    }\n",
              "\n",
              "    .dataframe thead th {\n",
              "        text-align: right;\n",
              "    }\n",
              "</style>\n",
              "<table border=\"1\" class=\"dataframe\">\n",
              "  <thead>\n",
              "    <tr style=\"text-align: right;\">\n",
              "      <th></th>\n",
              "      <th>mcg</th>\n",
              "      <th>gvh</th>\n",
              "      <th>lip</th>\n",
              "      <th>chg</th>\n",
              "      <th>aac</th>\n",
              "      <th>alm1</th>\n",
              "      <th>alm2</th>\n",
              "    </tr>\n",
              "    <tr>\n",
              "      <th>result</th>\n",
              "      <th></th>\n",
              "      <th></th>\n",
              "      <th></th>\n",
              "      <th></th>\n",
              "      <th></th>\n",
              "      <th></th>\n",
              "      <th></th>\n",
              "    </tr>\n",
              "  </thead>\n",
              "  <tbody>\n",
              "    <tr>\n",
              "      <th>cp</th>\n",
              "      <td>42.388060</td>\n",
              "      <td>42.388060</td>\n",
              "      <td>42.388060</td>\n",
              "      <td>42.388060</td>\n",
              "      <td>42.388060</td>\n",
              "      <td>42.388060</td>\n",
              "      <td>42.388060</td>\n",
              "    </tr>\n",
              "    <tr>\n",
              "      <th>im</th>\n",
              "      <td>22.985075</td>\n",
              "      <td>22.985075</td>\n",
              "      <td>22.985075</td>\n",
              "      <td>22.985075</td>\n",
              "      <td>22.985075</td>\n",
              "      <td>22.985075</td>\n",
              "      <td>22.985075</td>\n",
              "    </tr>\n",
              "    <tr>\n",
              "      <th>imL</th>\n",
              "      <td>0.597015</td>\n",
              "      <td>0.597015</td>\n",
              "      <td>0.597015</td>\n",
              "      <td>0.597015</td>\n",
              "      <td>0.597015</td>\n",
              "      <td>0.597015</td>\n",
              "      <td>0.597015</td>\n",
              "    </tr>\n",
              "    <tr>\n",
              "      <th>imS</th>\n",
              "      <td>0.597015</td>\n",
              "      <td>0.597015</td>\n",
              "      <td>0.597015</td>\n",
              "      <td>0.597015</td>\n",
              "      <td>0.597015</td>\n",
              "      <td>0.597015</td>\n",
              "      <td>0.597015</td>\n",
              "    </tr>\n",
              "    <tr>\n",
              "      <th>imU</th>\n",
              "      <td>10.447761</td>\n",
              "      <td>10.447761</td>\n",
              "      <td>10.447761</td>\n",
              "      <td>10.447761</td>\n",
              "      <td>10.447761</td>\n",
              "      <td>10.447761</td>\n",
              "      <td>10.447761</td>\n",
              "    </tr>\n",
              "    <tr>\n",
              "      <th>om</th>\n",
              "      <td>5.970149</td>\n",
              "      <td>5.970149</td>\n",
              "      <td>5.970149</td>\n",
              "      <td>5.970149</td>\n",
              "      <td>5.970149</td>\n",
              "      <td>5.970149</td>\n",
              "      <td>5.970149</td>\n",
              "    </tr>\n",
              "    <tr>\n",
              "      <th>omL</th>\n",
              "      <td>1.492537</td>\n",
              "      <td>1.492537</td>\n",
              "      <td>1.492537</td>\n",
              "      <td>1.492537</td>\n",
              "      <td>1.492537</td>\n",
              "      <td>1.492537</td>\n",
              "      <td>1.492537</td>\n",
              "    </tr>\n",
              "    <tr>\n",
              "      <th>pp</th>\n",
              "      <td>15.522388</td>\n",
              "      <td>15.522388</td>\n",
              "      <td>15.522388</td>\n",
              "      <td>15.522388</td>\n",
              "      <td>15.522388</td>\n",
              "      <td>15.522388</td>\n",
              "      <td>15.522388</td>\n",
              "    </tr>\n",
              "  </tbody>\n",
              "</table>\n",
              "</div>"
            ],
            "text/plain": [
              "              mcg        gvh        lip  ...        aac       alm1       alm2\n",
              "result                                   ...                                 \n",
              "cp      42.388060  42.388060  42.388060  ...  42.388060  42.388060  42.388060\n",
              "im      22.985075  22.985075  22.985075  ...  22.985075  22.985075  22.985075\n",
              "imL      0.597015   0.597015   0.597015  ...   0.597015   0.597015   0.597015\n",
              "imS      0.597015   0.597015   0.597015  ...   0.597015   0.597015   0.597015\n",
              "imU     10.447761  10.447761  10.447761  ...  10.447761  10.447761  10.447761\n",
              "om       5.970149   5.970149   5.970149  ...   5.970149   5.970149   5.970149\n",
              "omL      1.492537   1.492537   1.492537  ...   1.492537   1.492537   1.492537\n",
              "pp      15.522388  15.522388  15.522388  ...  15.522388  15.522388  15.522388\n",
              "\n",
              "[8 rows x 7 columns]"
            ]
          },
          "metadata": {
            "tags": []
          },
          "execution_count": 552
        }
      ]
    },
    {
      "cell_type": "markdown",
      "metadata": {
        "id": "dQm2AuofCx5i"
      },
      "source": [
        "Graphical representation of result"
      ]
    },
    {
      "cell_type": "code",
      "metadata": {
        "id": "5iLuze7TcHQ8",
        "colab": {
          "base_uri": "https://localhost:8080/",
          "height": 281
        },
        "outputId": "1fb83930-e038-4b64-dfc5-2abb3c732dd1"
      },
      "source": [
        "#create histograms of classes\n",
        "# create histograms of all variables\n",
        "from pandas import read_csv\n",
        "from matplotlib import pyplot\n",
        "\n",
        "# create a histogram plot of each variable\n",
        "train.hist(bins=25)\n",
        "# show the plot\n",
        "pyplot.show()"
      ],
      "execution_count": 553,
      "outputs": [
        {
          "output_type": "display_data",
          "data": {
            "image/png": "[encoded data removed]",
            "text/plain": [
              "<Figure size 432x288 with 9 Axes>"
            ]
          },
          "metadata": {
            "tags": [],
            "needs_background": "light"
          }
        }
      ]
    },
    {
      "cell_type": "markdown",
      "metadata": {
        "id": "WJjJ0f7rDWXi"
      },
      "source": [
        "Assign X and y variables"
      ]
    },
    {
      "cell_type": "code",
      "metadata": {
        "id": "3KTPdBsbDalz",
        "colab": {
          "base_uri": "https://localhost:8080/"
        },
        "outputId": "18133d20-57dd-462f-93d2-28453f683546"
      },
      "source": [
        "y = train.result\n",
        "X = train.drop(['result'], axis = 1)\n",
        "\n",
        "X.shape, y.shape"
      ],
      "execution_count": 554,
      "outputs": [
        {
          "output_type": "execute_result",
          "data": {
            "text/plain": [
              "((335, 7), (335,))"
            ]
          },
          "metadata": {
            "tags": []
          },
          "execution_count": 554
        }
      ]
    },
    {
      "cell_type": "markdown",
      "metadata": {
        "id": "E5yJhxV9D6CZ"
      },
      "source": [
        "Split training set up for training and validation"
      ]
    },
    {
      "cell_type": "code",
      "metadata": {
        "id": "mMoj1MiuEIDF",
        "colab": {
          "base_uri": "https://localhost:8080/"
        },
        "outputId": "2cc683f9-696b-4765-8848-c0335c2b41e4"
      },
      "source": [
        "#split training set for training and testing\n",
        "from sklearn.model_selection import train_test_split\n",
        "\n",
        "X_train, X_val, y_train, y_val = train_test_split(X, y, random_state=0, test_size=0.50, stratify=y, shuffle=True)\n",
        "#check shapes of testing data\n",
        "X_train.shape, X_val.shape, y_train.shape, y_val.shape"
      ],
      "execution_count": 555,
      "outputs": [
        {
          "output_type": "execute_result",
          "data": {
            "text/plain": [
              "((167, 7), (168, 7), (167,), (168,))"
            ]
          },
          "metadata": {
            "tags": []
          },
          "execution_count": 555
        }
      ]
    },
    {
      "cell_type": "markdown",
      "metadata": {
        "id": "SuNjtglfcaoH"
      },
      "source": [
        "Scaler"
      ]
    },
    {
      "cell_type": "code",
      "metadata": {
        "id": "aZi_9X5vcZmO"
      },
      "source": [
        "# Import `StandardScaler` from `sklearn.preprocessing`\n",
        "from sklearn.preprocessing import StandardScaler\n",
        "\n",
        "# Define the scaler \n",
        "scaler = StandardScaler().fit(X_train)\n",
        "# Scale the train set\n",
        "X_train = scaler.transform(X_train)\n",
        "# Scale the test set\n",
        "X_val = scaler.transform(X_val)"
      ],
      "execution_count": 556,
      "outputs": []
    },
    {
      "cell_type": "markdown",
      "metadata": {
        "id": "xJmzgjreWNEG"
      },
      "source": [
        "Apply PCA"
      ]
    },
    {
      "cell_type": "code",
      "metadata": {
        "id": "-YdP3ncDWPq3"
      },
      "source": [
        "from sklearn.decomposition import PCA\r\n",
        "\r\n",
        "pca = PCA(n_components=7)\r\n",
        "\r\n",
        "X_train = pca.fit_transform(X_train)\r\n",
        "X_val = pca.transform(X_val)"
      ],
      "execution_count": 557,
      "outputs": []
    },
    {
      "cell_type": "code",
      "metadata": {
        "colab": {
          "base_uri": "https://localhost:8080/"
        },
        "id": "6Eqbmat5Wfl4",
        "outputId": "7a61ffad-2313-4d99-bf9d-176a58602b32"
      },
      "source": [
        "explained_variance = pca.explained_variance_ratio_\r\n",
        "explained_variance"
      ],
      "execution_count": 558,
      "outputs": [
        {
          "output_type": "execute_result",
          "data": {
            "text/plain": [
              "array([0.32019653, 0.22424219, 0.17311048, 0.1131709 , 0.08809501,\n",
              "       0.06275314, 0.01843176])"
            ]
          },
          "metadata": {
            "tags": []
          },
          "execution_count": 558
        }
      ]
    },
    {
      "cell_type": "markdown",
      "metadata": {
        "id": "q7YTwCwXERIu"
      },
      "source": [
        "Count values in validation set"
      ]
    },
    {
      "cell_type": "code",
      "metadata": {
        "id": "biMeBa0VEc-X",
        "colab": {
          "base_uri": "https://localhost:8080/"
        },
        "outputId": "ea1b9c23-d895-4873-e30f-edbe1ca78577"
      },
      "source": [
        "from collections import Counter\n",
        "\n",
        "print(Counter(y_val))"
      ],
      "execution_count": 559,
      "outputs": [
        {
          "output_type": "stream",
          "text": [
            "Counter({'cp': 71, 'im': 39, 'pp': 26, 'imU': 18, 'om': 10, 'omL': 2, 'imS': 1, 'imL': 1})\n"
          ],
          "name": "stdout"
        }
      ]
    },
    {
      "cell_type": "markdown",
      "metadata": {
        "id": "_iY_Pomucl21"
      },
      "source": [
        "Class weights"
      ]
    },
    {
      "cell_type": "code",
      "metadata": {
        "id": "LLBvWLzlckvP"
      },
      "source": [
        "from sklearn.utils import class_weight\n",
        "\n",
        "class_weights = dict(zip(np.unique(y_train), class_weight.compute_class_weight('balanced',np.unique(y_train), y_train))) "
      ],
      "execution_count": 560,
      "outputs": []
    },
    {
      "cell_type": "markdown",
      "metadata": {
        "id": "wNDSxQfvaabZ"
      },
      "source": [
        "Define model"
      ]
    },
    {
      "cell_type": "markdown",
      "metadata": {
        "id": "8OaJwVy99Mg3"
      },
      "source": [
        "CatBoost"
      ]
    },
    {
      "cell_type": "code",
      "metadata": {
        "colab": {
          "base_uri": "https://localhost:8080/"
        },
        "id": "5ttw8nl39PBo",
        "outputId": "1e99f7ed-acd4-44ef-c031-fe3e8f9e9ca9"
      },
      "source": [
        "!pip install catboost"
      ],
      "execution_count": 561,
      "outputs": [
        {
          "output_type": "stream",
          "text": [
            "Requirement already satisfied: catboost in /usr/local/lib/python3.6/dist-packages (0.24.3)\n",
            "Requirement already satisfied: numpy>=1.16.0 in /usr/local/lib/python3.6/dist-packages (from catboost) (1.18.5)\n",
            "Requirement already satisfied: matplotlib in /usr/local/lib/python3.6/dist-packages (from catboost) (3.2.2)\n",
            "Requirement already satisfied: six in /usr/local/lib/python3.6/dist-packages (from catboost) (1.15.0)\n",
            "Requirement already satisfied: plotly in /usr/local/lib/python3.6/dist-packages (from catboost) (4.4.1)\n",
            "Requirement already satisfied: scipy in /usr/local/lib/python3.6/dist-packages (from catboost) (1.4.1)\n",
            "Requirement already satisfied: graphviz in /usr/local/lib/python3.6/dist-packages (from catboost) (0.10.1)\n",
            "Requirement already satisfied: pandas>=0.24.0 in /usr/local/lib/python3.6/dist-packages (from catboost) (1.1.4)\n",
            "Requirement already satisfied: pyparsing!=2.0.4,!=2.1.2,!=2.1.6,>=2.0.1 in /usr/local/lib/python3.6/dist-packages (from matplotlib->catboost) (2.4.7)\n",
            "Requirement already satisfied: kiwisolver>=1.0.1 in /usr/local/lib/python3.6/dist-packages (from matplotlib->catboost) (1.3.1)\n",
            "Requirement already satisfied: cycler>=0.10 in /usr/local/lib/python3.6/dist-packages (from matplotlib->catboost) (0.10.0)\n",
            "Requirement already satisfied: python-dateutil>=2.1 in /usr/local/lib/python3.6/dist-packages (from matplotlib->catboost) (2.8.1)\n",
            "Requirement already satisfied: retrying>=1.3.3 in /usr/local/lib/python3.6/dist-packages (from plotly->catboost) (1.3.3)\n",
            "Requirement already satisfied: pytz>=2017.2 in /usr/local/lib/python3.6/dist-packages (from pandas>=0.24.0->catboost) (2018.9)\n"
          ],
          "name": "stdout"
        }
      ]
    },
    {
      "cell_type": "code",
      "metadata": {
        "colab": {
          "base_uri": "https://localhost:8080/"
        },
        "id": "LopZmzXv9nNi",
        "outputId": "353b8b98-519e-496a-8322-2aa878f3aef4"
      },
      "source": [
        "from catboost import CatBoostClassifier\n",
        "\n",
        "ct_model = CatBoostClassifier(loss_function='MultiClass', class_weights= [.58, .77, .9, .99, .90, .94, .99, .84], iterations=300, depth=5, random_state=1).fit(X_train, y_train)\n",
        "print(ct_model.score(X_train, y_train))"
      ],
      "execution_count": 562,
      "outputs": [
        {
          "output_type": "stream",
          "text": [
            "Learning rate set to 0.199763\n",
            "0:\tlearn: 1.7117921\ttotal: 5.75ms\tremaining: 1.72s\n",
            "1:\tlearn: 1.5230632\ttotal: 10.1ms\tremaining: 1.51s\n",
            "2:\tlearn: 1.3754949\ttotal: 14.8ms\tremaining: 1.47s\n",
            "3:\tlearn: 1.2293165\ttotal: 19ms\tremaining: 1.41s\n",
            "4:\tlearn: 1.1263759\ttotal: 23.2ms\tremaining: 1.37s\n",
            "5:\tlearn: 1.0264761\ttotal: 27.5ms\tremaining: 1.34s\n",
            "6:\tlearn: 0.9664764\ttotal: 31.7ms\tremaining: 1.33s\n",
            "7:\tlearn: 0.9119221\ttotal: 35.9ms\tremaining: 1.31s\n",
            "8:\tlearn: 0.8660882\ttotal: 40.1ms\tremaining: 1.29s\n",
            "9:\tlearn: 0.8149693\ttotal: 44.2ms\tremaining: 1.28s\n",
            "10:\tlearn: 0.7740270\ttotal: 48.5ms\tremaining: 1.27s\n",
            "11:\tlearn: 0.7366528\ttotal: 52.7ms\tremaining: 1.26s\n",
            "12:\tlearn: 0.7015292\ttotal: 56.8ms\tremaining: 1.25s\n",
            "13:\tlearn: 0.6732461\ttotal: 61.2ms\tremaining: 1.25s\n",
            "14:\tlearn: 0.6471852\ttotal: 65.4ms\tremaining: 1.24s\n",
            "15:\tlearn: 0.6180455\ttotal: 69.6ms\tremaining: 1.23s\n",
            "16:\tlearn: 0.5969999\ttotal: 73.9ms\tremaining: 1.23s\n",
            "17:\tlearn: 0.5698686\ttotal: 78.1ms\tremaining: 1.22s\n",
            "18:\tlearn: 0.5513397\ttotal: 82.3ms\tremaining: 1.22s\n",
            "19:\tlearn: 0.5351601\ttotal: 86.8ms\tremaining: 1.22s\n",
            "20:\tlearn: 0.5184816\ttotal: 91ms\tremaining: 1.21s\n",
            "21:\tlearn: 0.5023617\ttotal: 95.2ms\tremaining: 1.2s\n",
            "22:\tlearn: 0.4851238\ttotal: 99.4ms\tremaining: 1.2s\n",
            "23:\tlearn: 0.4711981\ttotal: 104ms\tremaining: 1.19s\n",
            "24:\tlearn: 0.4582801\ttotal: 108ms\tremaining: 1.19s\n",
            "25:\tlearn: 0.4455329\ttotal: 112ms\tremaining: 1.18s\n",
            "26:\tlearn: 0.4370579\ttotal: 116ms\tremaining: 1.17s\n",
            "27:\tlearn: 0.4250892\ttotal: 120ms\tremaining: 1.17s\n",
            "28:\tlearn: 0.4169169\ttotal: 124ms\tremaining: 1.16s\n",
            "29:\tlearn: 0.4052730\ttotal: 128ms\tremaining: 1.16s\n",
            "30:\tlearn: 0.3955013\ttotal: 133ms\tremaining: 1.15s\n",
            "31:\tlearn: 0.3856617\ttotal: 137ms\tremaining: 1.15s\n",
            "32:\tlearn: 0.3782223\ttotal: 141ms\tremaining: 1.14s\n",
            "33:\tlearn: 0.3743466\ttotal: 145ms\tremaining: 1.13s\n",
            "34:\tlearn: 0.3666594\ttotal: 149ms\tremaining: 1.13s\n",
            "35:\tlearn: 0.3588740\ttotal: 153ms\tremaining: 1.12s\n",
            "36:\tlearn: 0.3499856\ttotal: 158ms\tremaining: 1.12s\n",
            "37:\tlearn: 0.3425837\ttotal: 162ms\tremaining: 1.12s\n",
            "38:\tlearn: 0.3345402\ttotal: 167ms\tremaining: 1.11s\n",
            "39:\tlearn: 0.3274209\ttotal: 171ms\tremaining: 1.11s\n",
            "40:\tlearn: 0.3215392\ttotal: 175ms\tremaining: 1.11s\n",
            "41:\tlearn: 0.3155843\ttotal: 179ms\tremaining: 1.1s\n",
            "42:\tlearn: 0.3126586\ttotal: 184ms\tremaining: 1.1s\n",
            "43:\tlearn: 0.3043665\ttotal: 188ms\tremaining: 1.09s\n",
            "44:\tlearn: 0.3000212\ttotal: 196ms\tremaining: 1.11s\n",
            "45:\tlearn: 0.2968237\ttotal: 201ms\tremaining: 1.11s\n",
            "46:\tlearn: 0.2912315\ttotal: 205ms\tremaining: 1.1s\n",
            "47:\tlearn: 0.2839879\ttotal: 210ms\tremaining: 1.1s\n",
            "48:\tlearn: 0.2805772\ttotal: 214ms\tremaining: 1.09s\n",
            "49:\tlearn: 0.2756170\ttotal: 218ms\tremaining: 1.09s\n",
            "50:\tlearn: 0.2699646\ttotal: 223ms\tremaining: 1.09s\n",
            "51:\tlearn: 0.2658043\ttotal: 228ms\tremaining: 1.09s\n",
            "52:\tlearn: 0.2623496\ttotal: 233ms\tremaining: 1.08s\n",
            "53:\tlearn: 0.2600270\ttotal: 237ms\tremaining: 1.08s\n",
            "54:\tlearn: 0.2581343\ttotal: 241ms\tremaining: 1.07s\n",
            "55:\tlearn: 0.2543234\ttotal: 246ms\tremaining: 1.07s\n",
            "56:\tlearn: 0.2480733\ttotal: 250ms\tremaining: 1.07s\n",
            "57:\tlearn: 0.2444365\ttotal: 255ms\tremaining: 1.06s\n",
            "58:\tlearn: 0.2409072\ttotal: 259ms\tremaining: 1.06s\n",
            "59:\tlearn: 0.2389985\ttotal: 263ms\tremaining: 1.05s\n",
            "60:\tlearn: 0.2378953\ttotal: 267ms\tremaining: 1.05s\n",
            "61:\tlearn: 0.2350475\ttotal: 272ms\tremaining: 1.04s\n",
            "62:\tlearn: 0.2313759\ttotal: 276ms\tremaining: 1.04s\n",
            "63:\tlearn: 0.2283887\ttotal: 282ms\tremaining: 1.04s\n",
            "64:\tlearn: 0.2244248\ttotal: 290ms\tremaining: 1.05s\n",
            "65:\tlearn: 0.2208486\ttotal: 296ms\tremaining: 1.05s\n",
            "66:\tlearn: 0.2171804\ttotal: 302ms\tremaining: 1.05s\n",
            "67:\tlearn: 0.2133581\ttotal: 307ms\tremaining: 1.05s\n",
            "68:\tlearn: 0.2114567\ttotal: 311ms\tremaining: 1.04s\n",
            "69:\tlearn: 0.2077606\ttotal: 315ms\tremaining: 1.04s\n",
            "70:\tlearn: 0.2069753\ttotal: 320ms\tremaining: 1.03s\n",
            "71:\tlearn: 0.2045912\ttotal: 324ms\tremaining: 1.02s\n",
            "72:\tlearn: 0.2022736\ttotal: 328ms\tremaining: 1.02s\n",
            "73:\tlearn: 0.2005882\ttotal: 333ms\tremaining: 1.01s\n",
            "74:\tlearn: 0.1963884\ttotal: 337ms\tremaining: 1.01s\n",
            "75:\tlearn: 0.1949218\ttotal: 341ms\tremaining: 1s\n",
            "76:\tlearn: 0.1922080\ttotal: 345ms\tremaining: 1000ms\n",
            "77:\tlearn: 0.1909190\ttotal: 349ms\tremaining: 994ms\n",
            "78:\tlearn: 0.1875260\ttotal: 353ms\tremaining: 989ms\n",
            "79:\tlearn: 0.1860739\ttotal: 358ms\tremaining: 984ms\n",
            "80:\tlearn: 0.1841361\ttotal: 362ms\tremaining: 978ms\n",
            "81:\tlearn: 0.1813733\ttotal: 366ms\tremaining: 974ms\n",
            "82:\tlearn: 0.1788065\ttotal: 372ms\tremaining: 973ms\n",
            "83:\tlearn: 0.1772591\ttotal: 377ms\tremaining: 968ms\n",
            "84:\tlearn: 0.1755856\ttotal: 381ms\tremaining: 963ms\n",
            "85:\tlearn: 0.1744643\ttotal: 385ms\tremaining: 958ms\n",
            "86:\tlearn: 0.1720527\ttotal: 391ms\tremaining: 958ms\n",
            "87:\tlearn: 0.1701471\ttotal: 396ms\tremaining: 955ms\n",
            "88:\tlearn: 0.1682509\ttotal: 400ms\tremaining: 949ms\n",
            "89:\tlearn: 0.1666990\ttotal: 404ms\tremaining: 944ms\n",
            "90:\tlearn: 0.1653852\ttotal: 409ms\tremaining: 940ms\n",
            "91:\tlearn: 0.1623431\ttotal: 413ms\tremaining: 935ms\n",
            "92:\tlearn: 0.1604097\ttotal: 418ms\tremaining: 929ms\n",
            "93:\tlearn: 0.1579304\ttotal: 422ms\tremaining: 925ms\n",
            "94:\tlearn: 0.1555921\ttotal: 426ms\tremaining: 920ms\n",
            "95:\tlearn: 0.1538034\ttotal: 431ms\tremaining: 915ms\n",
            "96:\tlearn: 0.1522419\ttotal: 435ms\tremaining: 909ms\n",
            "97:\tlearn: 0.1490079\ttotal: 439ms\tremaining: 905ms\n",
            "98:\tlearn: 0.1474429\ttotal: 443ms\tremaining: 900ms\n",
            "99:\tlearn: 0.1460199\ttotal: 447ms\tremaining: 895ms\n",
            "100:\tlearn: 0.1441335\ttotal: 452ms\tremaining: 890ms\n",
            "101:\tlearn: 0.1430601\ttotal: 456ms\tremaining: 885ms\n",
            "102:\tlearn: 0.1419598\ttotal: 460ms\tremaining: 879ms\n",
            "103:\tlearn: 0.1410473\ttotal: 464ms\tremaining: 874ms\n",
            "104:\tlearn: 0.1385933\ttotal: 468ms\tremaining: 870ms\n",
            "105:\tlearn: 0.1369223\ttotal: 473ms\tremaining: 865ms\n",
            "106:\tlearn: 0.1358030\ttotal: 477ms\tremaining: 860ms\n",
            "107:\tlearn: 0.1346697\ttotal: 481ms\tremaining: 855ms\n",
            "108:\tlearn: 0.1332429\ttotal: 485ms\tremaining: 851ms\n",
            "109:\tlearn: 0.1312930\ttotal: 490ms\tremaining: 846ms\n",
            "110:\tlearn: 0.1303342\ttotal: 494ms\tremaining: 841ms\n",
            "111:\tlearn: 0.1278233\ttotal: 498ms\tremaining: 836ms\n",
            "112:\tlearn: 0.1272355\ttotal: 502ms\tremaining: 831ms\n",
            "113:\tlearn: 0.1255254\ttotal: 506ms\tremaining: 826ms\n",
            "114:\tlearn: 0.1236028\ttotal: 510ms\tremaining: 821ms\n",
            "115:\tlearn: 0.1225324\ttotal: 515ms\tremaining: 816ms\n",
            "116:\tlearn: 0.1211271\ttotal: 519ms\tremaining: 812ms\n",
            "117:\tlearn: 0.1197292\ttotal: 523ms\tremaining: 807ms\n",
            "118:\tlearn: 0.1185458\ttotal: 528ms\tremaining: 803ms\n",
            "119:\tlearn: 0.1168737\ttotal: 532ms\tremaining: 798ms\n",
            "120:\tlearn: 0.1154825\ttotal: 536ms\tremaining: 793ms\n",
            "121:\tlearn: 0.1141475\ttotal: 540ms\tremaining: 788ms\n",
            "122:\tlearn: 0.1132276\ttotal: 545ms\tremaining: 784ms\n",
            "123:\tlearn: 0.1114866\ttotal: 549ms\tremaining: 779ms\n",
            "124:\tlearn: 0.1101939\ttotal: 553ms\tremaining: 774ms\n",
            "125:\tlearn: 0.1095003\ttotal: 557ms\tremaining: 769ms\n",
            "126:\tlearn: 0.1085872\ttotal: 561ms\tremaining: 764ms\n",
            "127:\tlearn: 0.1074839\ttotal: 565ms\tremaining: 759ms\n",
            "128:\tlearn: 0.1055436\ttotal: 569ms\tremaining: 755ms\n",
            "129:\tlearn: 0.1046960\ttotal: 573ms\tremaining: 750ms\n",
            "130:\tlearn: 0.1041883\ttotal: 578ms\tremaining: 745ms\n",
            "131:\tlearn: 0.1036281\ttotal: 582ms\tremaining: 740ms\n",
            "132:\tlearn: 0.1027423\ttotal: 588ms\tremaining: 739ms\n",
            "133:\tlearn: 0.1019194\ttotal: 593ms\tremaining: 734ms\n",
            "134:\tlearn: 0.1013299\ttotal: 597ms\tremaining: 729ms\n",
            "135:\tlearn: 0.1006270\ttotal: 601ms\tremaining: 724ms\n",
            "136:\tlearn: 0.0997897\ttotal: 605ms\tremaining: 719ms\n",
            "137:\tlearn: 0.0992657\ttotal: 609ms\tremaining: 714ms\n",
            "138:\tlearn: 0.0985777\ttotal: 613ms\tremaining: 710ms\n",
            "139:\tlearn: 0.0976987\ttotal: 617ms\tremaining: 705ms\n",
            "140:\tlearn: 0.0973525\ttotal: 621ms\tremaining: 700ms\n",
            "141:\tlearn: 0.0964971\ttotal: 625ms\tremaining: 695ms\n",
            "142:\tlearn: 0.0955203\ttotal: 629ms\tremaining: 690ms\n",
            "143:\tlearn: 0.0948011\ttotal: 633ms\tremaining: 686ms\n",
            "144:\tlearn: 0.0941420\ttotal: 637ms\tremaining: 681ms\n",
            "145:\tlearn: 0.0938818\ttotal: 641ms\tremaining: 676ms\n",
            "146:\tlearn: 0.0930259\ttotal: 646ms\tremaining: 672ms\n",
            "147:\tlearn: 0.0923273\ttotal: 650ms\tremaining: 667ms\n",
            "148:\tlearn: 0.0916260\ttotal: 654ms\tremaining: 663ms\n",
            "149:\tlearn: 0.0903180\ttotal: 659ms\tremaining: 659ms\n",
            "150:\tlearn: 0.0893273\ttotal: 663ms\tremaining: 654ms\n",
            "151:\tlearn: 0.0882508\ttotal: 667ms\tremaining: 650ms\n",
            "152:\tlearn: 0.0875526\ttotal: 671ms\tremaining: 645ms\n",
            "153:\tlearn: 0.0869296\ttotal: 676ms\tremaining: 641ms\n",
            "154:\tlearn: 0.0862180\ttotal: 680ms\tremaining: 636ms\n",
            "155:\tlearn: 0.0851855\ttotal: 684ms\tremaining: 632ms\n",
            "156:\tlearn: 0.0846418\ttotal: 688ms\tremaining: 627ms\n",
            "157:\tlearn: 0.0837338\ttotal: 693ms\tremaining: 623ms\n",
            "158:\tlearn: 0.0826102\ttotal: 697ms\tremaining: 618ms\n",
            "159:\tlearn: 0.0821062\ttotal: 701ms\tremaining: 613ms\n",
            "160:\tlearn: 0.0814276\ttotal: 705ms\tremaining: 609ms\n",
            "161:\tlearn: 0.0809843\ttotal: 709ms\tremaining: 604ms\n",
            "162:\tlearn: 0.0802107\ttotal: 714ms\tremaining: 600ms\n",
            "163:\tlearn: 0.0797829\ttotal: 718ms\tremaining: 595ms\n",
            "164:\tlearn: 0.0792369\ttotal: 722ms\tremaining: 590ms\n",
            "165:\tlearn: 0.0788813\ttotal: 725ms\tremaining: 586ms\n",
            "166:\tlearn: 0.0784260\ttotal: 729ms\tremaining: 581ms\n",
            "167:\tlearn: 0.0778932\ttotal: 733ms\tremaining: 576ms\n",
            "168:\tlearn: 0.0772273\ttotal: 737ms\tremaining: 572ms\n",
            "169:\tlearn: 0.0764495\ttotal: 742ms\tremaining: 567ms\n",
            "170:\tlearn: 0.0757253\ttotal: 746ms\tremaining: 562ms\n",
            "171:\tlearn: 0.0752375\ttotal: 750ms\tremaining: 558ms\n",
            "172:\tlearn: 0.0748508\ttotal: 754ms\tremaining: 553ms\n",
            "173:\tlearn: 0.0746123\ttotal: 758ms\tremaining: 549ms\n",
            "174:\tlearn: 0.0743563\ttotal: 762ms\tremaining: 544ms\n",
            "175:\tlearn: 0.0741056\ttotal: 766ms\tremaining: 539ms\n",
            "176:\tlearn: 0.0736785\ttotal: 770ms\tremaining: 535ms\n",
            "177:\tlearn: 0.0734827\ttotal: 779ms\tremaining: 534ms\n",
            "178:\tlearn: 0.0730600\ttotal: 784ms\tremaining: 530ms\n",
            "179:\tlearn: 0.0728396\ttotal: 786ms\tremaining: 524ms\n",
            "180:\tlearn: 0.0723008\ttotal: 790ms\tremaining: 520ms\n",
            "181:\tlearn: 0.0719057\ttotal: 794ms\tremaining: 515ms\n",
            "182:\tlearn: 0.0713610\ttotal: 798ms\tremaining: 510ms\n",
            "183:\tlearn: 0.0711862\ttotal: 803ms\tremaining: 506ms\n",
            "184:\tlearn: 0.0709827\ttotal: 807ms\tremaining: 501ms\n",
            "185:\tlearn: 0.0703149\ttotal: 811ms\tremaining: 497ms\n",
            "186:\tlearn: 0.0698909\ttotal: 815ms\tremaining: 493ms\n",
            "187:\tlearn: 0.0693104\ttotal: 819ms\tremaining: 488ms\n",
            "188:\tlearn: 0.0690811\ttotal: 823ms\tremaining: 484ms\n",
            "189:\tlearn: 0.0687733\ttotal: 828ms\tremaining: 479ms\n",
            "190:\tlearn: 0.0684689\ttotal: 832ms\tremaining: 475ms\n",
            "191:\tlearn: 0.0678332\ttotal: 836ms\tremaining: 470ms\n",
            "192:\tlearn: 0.0674827\ttotal: 840ms\tremaining: 466ms\n",
            "193:\tlearn: 0.0673150\ttotal: 844ms\tremaining: 461ms\n",
            "194:\tlearn: 0.0667506\ttotal: 848ms\tremaining: 457ms\n",
            "195:\tlearn: 0.0664219\ttotal: 852ms\tremaining: 452ms\n",
            "196:\tlearn: 0.0663401\ttotal: 856ms\tremaining: 448ms\n",
            "197:\tlearn: 0.0659772\ttotal: 860ms\tremaining: 443ms\n",
            "198:\tlearn: 0.0652181\ttotal: 864ms\tremaining: 439ms\n",
            "199:\tlearn: 0.0649035\ttotal: 868ms\tremaining: 434ms\n",
            "200:\tlearn: 0.0643378\ttotal: 872ms\tremaining: 430ms\n",
            "201:\tlearn: 0.0640874\ttotal: 876ms\tremaining: 425ms\n",
            "202:\tlearn: 0.0637416\ttotal: 880ms\tremaining: 421ms\n",
            "203:\tlearn: 0.0635102\ttotal: 884ms\tremaining: 416ms\n",
            "204:\tlearn: 0.0630518\ttotal: 888ms\tremaining: 412ms\n",
            "205:\tlearn: 0.0625631\ttotal: 893ms\tremaining: 407ms\n",
            "206:\tlearn: 0.0619183\ttotal: 897ms\tremaining: 403ms\n",
            "207:\tlearn: 0.0613314\ttotal: 901ms\tremaining: 399ms\n",
            "208:\tlearn: 0.0608291\ttotal: 905ms\tremaining: 394ms\n",
            "209:\tlearn: 0.0605213\ttotal: 909ms\tremaining: 390ms\n",
            "210:\tlearn: 0.0602612\ttotal: 913ms\tremaining: 385ms\n",
            "211:\tlearn: 0.0599655\ttotal: 918ms\tremaining: 381ms\n",
            "212:\tlearn: 0.0596588\ttotal: 922ms\tremaining: 376ms\n",
            "213:\tlearn: 0.0593570\ttotal: 926ms\tremaining: 372ms\n",
            "214:\tlearn: 0.0589408\ttotal: 930ms\tremaining: 368ms\n",
            "215:\tlearn: 0.0585815\ttotal: 934ms\tremaining: 363ms\n",
            "216:\tlearn: 0.0583705\ttotal: 938ms\tremaining: 359ms\n",
            "217:\tlearn: 0.0580929\ttotal: 942ms\tremaining: 354ms\n",
            "218:\tlearn: 0.0578329\ttotal: 946ms\tremaining: 350ms\n",
            "219:\tlearn: 0.0573675\ttotal: 950ms\tremaining: 346ms\n",
            "220:\tlearn: 0.0569295\ttotal: 955ms\tremaining: 341ms\n",
            "221:\tlearn: 0.0564842\ttotal: 960ms\tremaining: 337ms\n",
            "222:\tlearn: 0.0562604\ttotal: 964ms\tremaining: 333ms\n",
            "223:\tlearn: 0.0559907\ttotal: 969ms\tremaining: 329ms\n",
            "224:\tlearn: 0.0556770\ttotal: 978ms\tremaining: 326ms\n",
            "225:\tlearn: 0.0555402\ttotal: 982ms\tremaining: 322ms\n",
            "226:\tlearn: 0.0552176\ttotal: 986ms\tremaining: 317ms\n",
            "227:\tlearn: 0.0549538\ttotal: 990ms\tremaining: 313ms\n",
            "228:\tlearn: 0.0545718\ttotal: 995ms\tremaining: 308ms\n",
            "229:\tlearn: 0.0542212\ttotal: 999ms\tremaining: 304ms\n",
            "230:\tlearn: 0.0540626\ttotal: 1s\tremaining: 300ms\n",
            "231:\tlearn: 0.0539502\ttotal: 1.01s\tremaining: 295ms\n",
            "232:\tlearn: 0.0537122\ttotal: 1.01s\tremaining: 291ms\n",
            "233:\tlearn: 0.0534630\ttotal: 1.01s\tremaining: 286ms\n",
            "234:\tlearn: 0.0530073\ttotal: 1.02s\tremaining: 282ms\n",
            "235:\tlearn: 0.0527567\ttotal: 1.02s\tremaining: 278ms\n",
            "236:\tlearn: 0.0523083\ttotal: 1.03s\tremaining: 273ms\n",
            "237:\tlearn: 0.0518575\ttotal: 1.03s\tremaining: 269ms\n",
            "238:\tlearn: 0.0514898\ttotal: 1.04s\tremaining: 265ms\n",
            "239:\tlearn: 0.0511791\ttotal: 1.04s\tremaining: 260ms\n",
            "240:\tlearn: 0.0509950\ttotal: 1.04s\tremaining: 256ms\n",
            "241:\tlearn: 0.0506391\ttotal: 1.05s\tremaining: 251ms\n",
            "242:\tlearn: 0.0503891\ttotal: 1.05s\tremaining: 247ms\n",
            "243:\tlearn: 0.0501338\ttotal: 1.06s\tremaining: 243ms\n",
            "244:\tlearn: 0.0498196\ttotal: 1.06s\tremaining: 238ms\n",
            "245:\tlearn: 0.0494579\ttotal: 1.06s\tremaining: 234ms\n",
            "246:\tlearn: 0.0491185\ttotal: 1.07s\tremaining: 230ms\n",
            "247:\tlearn: 0.0488320\ttotal: 1.07s\tremaining: 225ms\n",
            "248:\tlearn: 0.0486245\ttotal: 1.08s\tremaining: 221ms\n",
            "249:\tlearn: 0.0483560\ttotal: 1.08s\tremaining: 216ms\n",
            "250:\tlearn: 0.0482850\ttotal: 1.09s\tremaining: 212ms\n",
            "251:\tlearn: 0.0479373\ttotal: 1.09s\tremaining: 208ms\n",
            "252:\tlearn: 0.0477224\ttotal: 1.09s\tremaining: 203ms\n",
            "253:\tlearn: 0.0474486\ttotal: 1.1s\tremaining: 199ms\n",
            "254:\tlearn: 0.0471293\ttotal: 1.1s\tremaining: 195ms\n",
            "255:\tlearn: 0.0468936\ttotal: 1.11s\tremaining: 190ms\n",
            "256:\tlearn: 0.0466426\ttotal: 1.11s\tremaining: 186ms\n",
            "257:\tlearn: 0.0465448\ttotal: 1.11s\tremaining: 181ms\n",
            "258:\tlearn: 0.0464396\ttotal: 1.12s\tremaining: 177ms\n",
            "259:\tlearn: 0.0462713\ttotal: 1.12s\tremaining: 173ms\n",
            "260:\tlearn: 0.0461211\ttotal: 1.13s\tremaining: 168ms\n",
            "261:\tlearn: 0.0458835\ttotal: 1.13s\tremaining: 164ms\n",
            "262:\tlearn: 0.0456363\ttotal: 1.14s\tremaining: 160ms\n",
            "263:\tlearn: 0.0453896\ttotal: 1.14s\tremaining: 155ms\n",
            "264:\tlearn: 0.0452058\ttotal: 1.14s\tremaining: 151ms\n",
            "265:\tlearn: 0.0448594\ttotal: 1.15s\tremaining: 147ms\n",
            "266:\tlearn: 0.0446321\ttotal: 1.15s\tremaining: 142ms\n",
            "267:\tlearn: 0.0445341\ttotal: 1.16s\tremaining: 138ms\n",
            "268:\tlearn: 0.0443212\ttotal: 1.16s\tremaining: 134ms\n",
            "269:\tlearn: 0.0439881\ttotal: 1.16s\tremaining: 129ms\n",
            "270:\tlearn: 0.0438379\ttotal: 1.17s\tremaining: 125ms\n",
            "271:\tlearn: 0.0437379\ttotal: 1.18s\tremaining: 121ms\n",
            "272:\tlearn: 0.0434530\ttotal: 1.18s\tremaining: 117ms\n",
            "273:\tlearn: 0.0431905\ttotal: 1.18s\tremaining: 112ms\n",
            "274:\tlearn: 0.0430058\ttotal: 1.19s\tremaining: 108ms\n",
            "275:\tlearn: 0.0427969\ttotal: 1.19s\tremaining: 104ms\n",
            "276:\tlearn: 0.0426270\ttotal: 1.2s\tremaining: 99.4ms\n",
            "277:\tlearn: 0.0422286\ttotal: 1.2s\tremaining: 95ms\n",
            "278:\tlearn: 0.0420545\ttotal: 1.2s\tremaining: 90.7ms\n",
            "279:\tlearn: 0.0419328\ttotal: 1.21s\tremaining: 86.3ms\n",
            "280:\tlearn: 0.0418026\ttotal: 1.21s\tremaining: 82ms\n",
            "281:\tlearn: 0.0415597\ttotal: 1.22s\tremaining: 77.7ms\n",
            "282:\tlearn: 0.0413541\ttotal: 1.22s\tremaining: 73.4ms\n",
            "283:\tlearn: 0.0410303\ttotal: 1.23s\tremaining: 69ms\n",
            "284:\tlearn: 0.0409155\ttotal: 1.23s\tremaining: 64.7ms\n",
            "285:\tlearn: 0.0406843\ttotal: 1.23s\tremaining: 60.4ms\n",
            "286:\tlearn: 0.0404693\ttotal: 1.24s\tremaining: 56.1ms\n",
            "287:\tlearn: 0.0402533\ttotal: 1.24s\tremaining: 51.7ms\n",
            "288:\tlearn: 0.0401963\ttotal: 1.25s\tremaining: 47.4ms\n",
            "289:\tlearn: 0.0400356\ttotal: 1.25s\tremaining: 43.3ms\n",
            "290:\tlearn: 0.0399452\ttotal: 1.26s\tremaining: 39ms\n",
            "291:\tlearn: 0.0398610\ttotal: 1.26s\tremaining: 34.6ms\n",
            "292:\tlearn: 0.0396766\ttotal: 1.27s\tremaining: 30.3ms\n",
            "293:\tlearn: 0.0395232\ttotal: 1.27s\tremaining: 25.9ms\n",
            "294:\tlearn: 0.0393159\ttotal: 1.27s\tremaining: 21.6ms\n",
            "295:\tlearn: 0.0390769\ttotal: 1.28s\tremaining: 17.3ms\n",
            "296:\tlearn: 0.0387357\ttotal: 1.28s\tremaining: 13ms\n",
            "297:\tlearn: 0.0385321\ttotal: 1.29s\tremaining: 8.63ms\n",
            "298:\tlearn: 0.0384221\ttotal: 1.29s\tremaining: 4.31ms\n",
            "299:\tlearn: 0.0383092\ttotal: 1.29s\tremaining: 0us\n",
            "1.0\n"
          ],
          "name": "stdout"
        }
      ]
    },
    {
      "cell_type": "code",
      "metadata": {
        "colab": {
          "base_uri": "https://localhost:8080/"
        },
        "id": "xJLhp_yg_c-d",
        "outputId": "86454c9a-073f-4603-92bc-bddb3c5404ec"
      },
      "source": [
        "ct_pred = ct_model.predict(X_val)\n",
        "print(ct_model.score(X_val, y_val))"
      ],
      "execution_count": 563,
      "outputs": [
        {
          "output_type": "stream",
          "text": [
            "0.8809523809523809\n"
          ],
          "name": "stdout"
        }
      ]
    },
    {
      "cell_type": "code",
      "metadata": {
        "colab": {
          "base_uri": "https://localhost:8080/"
        },
        "id": "cz6V2v5t_tqr",
        "outputId": "bab69965-217f-4771-c30b-fb14babc2632"
      },
      "source": [
        "print(Counter(ct_pred[:,0]))"
      ],
      "execution_count": 564,
      "outputs": [
        {
          "output_type": "stream",
          "text": [
            "Counter({'cp': 75, 'im': 42, 'pp': 26, 'imU': 14, 'om': 9, 'omL': 2})\n"
          ],
          "name": "stdout"
        }
      ]
    },
    {
      "cell_type": "code",
      "metadata": {
        "colab": {
          "base_uri": "https://localhost:8080/"
        },
        "id": "oq8xkuhh_5f-",
        "outputId": "53743fdc-01ff-4c80-f2cb-7d3cd1c11155"
      },
      "source": [
        "#Create a confusion matrix\n",
        "from sklearn.metrics import confusion_matrix\n",
        "\n",
        "#y_test as first argument and the preds as second argument \n",
        "confusion_matrix(y_val, ct_pred)"
      ],
      "execution_count": 565,
      "outputs": [
        {
          "output_type": "execute_result",
          "data": {
            "text/plain": [
              "array([[71,  0,  0,  0,  0,  0,  0,  0],\n",
              "       [ 2, 32,  0,  0,  4,  0,  0,  1],\n",
              "       [ 0,  1,  0,  0,  0,  0,  0,  0],\n",
              "       [ 0,  1,  0,  0,  0,  0,  0,  0],\n",
              "       [ 1,  7,  0,  0, 10,  0,  0,  0],\n",
              "       [ 0,  0,  0,  0,  0,  9,  0,  1],\n",
              "       [ 0,  0,  0,  0,  0,  0,  2,  0],\n",
              "       [ 1,  1,  0,  0,  0,  0,  0, 24]])"
            ]
          },
          "metadata": {
            "tags": []
          },
          "execution_count": 565
        }
      ]
    },
    {
      "cell_type": "code",
      "metadata": {
        "colab": {
          "base_uri": "https://localhost:8080/"
        },
        "id": "glBxdMFhAXiP",
        "outputId": "129ffa4d-cc64-454c-eea5-7d90c2d30873"
      },
      "source": [
        "import collections\n",
        "from collections import Counter\n",
        "\n",
        "counter = Counter(ct_pred[:,0])\n",
        "for k,v in counter.items():\n",
        "\tper = v / len(ct_pred) * 100\n",
        "\tprint('Class=%s, Count=%d, Percentage=%.3f%%' % (k, v, per))"
      ],
      "execution_count": 567,
      "outputs": [
        {
          "output_type": "stream",
          "text": [
            "Class=pp, Count=26, Percentage=15.476%\n",
            "Class=cp, Count=75, Percentage=44.643%\n",
            "Class=im, Count=42, Percentage=25.000%\n",
            "Class=omL, Count=2, Percentage=1.190%\n",
            "Class=imU, Count=14, Percentage=8.333%\n",
            "Class=om, Count=9, Percentage=5.357%\n"
          ],
          "name": "stdout"
        }
      ]
    },
    {
      "cell_type": "markdown",
      "metadata": {
        "id": "-QFwevv_SSFj"
      },
      "source": [
        "Random Forest"
      ]
    },
    {
      "cell_type": "code",
      "metadata": {
        "colab": {
          "base_uri": "https://localhost:8080/"
        },
        "id": "6wYrMpVNSZU-",
        "outputId": "0e28adb2-de36-4a02-e31b-5edfdccbdd1b"
      },
      "source": [
        "from sklearn.ensemble import RandomForestClassifier\n",
        "\n",
        "rf_model = RandomForestClassifier(class_weight='balanced', n_estimators=500, max_depth=10, random_state=1).fit(X_train, y_train)\n",
        "print(rf_model.score(X_train, y_train))"
      ],
      "execution_count": 568,
      "outputs": [
        {
          "output_type": "stream",
          "text": [
            "1.0\n"
          ],
          "name": "stdout"
        }
      ]
    },
    {
      "cell_type": "code",
      "metadata": {
        "colab": {
          "base_uri": "https://localhost:8080/"
        },
        "id": "howaoPwDTWld",
        "outputId": "c2b3ad4d-78d2-4fed-b4b7-5d5918efe0da"
      },
      "source": [
        "rf_pred = rf_model.predict(X_val)\n",
        "print(rf_model.score(X_val, y_val))"
      ],
      "execution_count": 569,
      "outputs": [
        {
          "output_type": "stream",
          "text": [
            "0.8869047619047619\n"
          ],
          "name": "stdout"
        }
      ]
    },
    {
      "cell_type": "code",
      "metadata": {
        "colab": {
          "base_uri": "https://localhost:8080/"
        },
        "id": "J1Fd12pDThSx",
        "outputId": "ac2038f5-1e90-441a-d67b-0552904a5897"
      },
      "source": [
        "print(Counter(rf_pred))"
      ],
      "execution_count": 570,
      "outputs": [
        {
          "output_type": "stream",
          "text": [
            "Counter({'cp': 74, 'im': 42, 'pp': 29, 'imU': 14, 'om': 7, 'omL': 2})\n"
          ],
          "name": "stdout"
        }
      ]
    },
    {
      "cell_type": "code",
      "metadata": {
        "colab": {
          "base_uri": "https://localhost:8080/"
        },
        "id": "3ZhCdk4UTpdz",
        "outputId": "d695dd8b-b089-40c4-e82d-f53ade66bf2d"
      },
      "source": [
        "#Create a confusion matrix\n",
        "from sklearn.metrics import confusion_matrix\n",
        "\n",
        "#y_test as first argument and the preds as second argument \n",
        "confusion_matrix(y_val, rf_pred)"
      ],
      "execution_count": 571,
      "outputs": [
        {
          "output_type": "execute_result",
          "data": {
            "text/plain": [
              "array([[71,  0,  0,  0,  0,  0,  0,  0],\n",
              "       [ 2, 33,  0,  0,  3,  0,  0,  1],\n",
              "       [ 0,  1,  0,  0,  0,  0,  0,  0],\n",
              "       [ 0,  1,  0,  0,  0,  0,  0,  0],\n",
              "       [ 1,  6,  0,  0, 11,  0,  0,  0],\n",
              "       [ 0,  0,  0,  0,  0,  7,  0,  3],\n",
              "       [ 0,  0,  0,  0,  0,  0,  2,  0],\n",
              "       [ 0,  1,  0,  0,  0,  0,  0, 25]])"
            ]
          },
          "metadata": {
            "tags": []
          },
          "execution_count": 571
        }
      ]
    },
    {
      "cell_type": "code",
      "metadata": {
        "id": "H5qKOpXqT0fW"
      },
      "source": [
        "#sns.distplot(rf_pred)"
      ],
      "execution_count": 572,
      "outputs": []
    },
    {
      "cell_type": "code",
      "metadata": {
        "colab": {
          "base_uri": "https://localhost:8080/"
        },
        "id": "FBQLu5PXT5gm",
        "outputId": "d39f033e-df21-4c92-c7eb-8f74e986f5b7"
      },
      "source": [
        "import collections\n",
        "from collections import Counter\n",
        "\n",
        "counter = Counter(rf_pred)\n",
        "for k,v in counter.items():\n",
        "\tper = v / len(rf_pred) * 100\n",
        "\tprint('Class=%s, Count=%d, Percentage=%.3f%%' % (k, v, per))"
      ],
      "execution_count": 573,
      "outputs": [
        {
          "output_type": "stream",
          "text": [
            "Class=pp, Count=29, Percentage=17.262%\n",
            "Class=cp, Count=74, Percentage=44.048%\n",
            "Class=im, Count=42, Percentage=25.000%\n",
            "Class=omL, Count=2, Percentage=1.190%\n",
            "Class=imU, Count=14, Percentage=8.333%\n",
            "Class=om, Count=7, Percentage=4.167%\n"
          ],
          "name": "stdout"
        }
      ]
    }
  ]
}