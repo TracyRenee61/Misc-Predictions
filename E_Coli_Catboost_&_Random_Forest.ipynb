{
  "nbformat": 4,
  "nbformat_minor": 0,
  "metadata": {
    "colab": {
      "name": "E-Coli - Catboost & Random Forest.ipynb",
      "provenance": []
    },
    "kernelspec": {
      "name": "python3",
      "display_name": "Python 3"
    }
  },
  "cells": [
    {
      "cell_type": "markdown",
      "metadata": {
        "id": "5y0J8sjxbuA_"
      },
      "source": [
        "The E Coli Imbalanced Dataset\n",
        "\n",
        "The dataset describes the problem of classifying E.coli proteins using their amino acid sequences in their cell localization sites. That is, predicting how a protein will bind to a cell based on the chemical composition of the protein before it is folded.\n",
        "\n",
        "The dataset is credited to Kenta Nakai and was developed into its current form by Paul Horton and Kenta Nakai in their 1996 paper titled “A Probabilistic Classification System For Predicting The Cellular Localization Sites Of Proteins.” In it, they achieved a classification accuracy of 81%.\n",
        "\n",
        "The dataset is comprised of 336 examples of E.coli proteins and each example is described using seven input variables calculated from the proteins amino acid sequence.\n",
        "\n",
        "Ignoring the sequence name, the input features are described as follows:\n",
        "\n",
        "mcg: McGeoch’s method for signal sequence recognition.\n",
        "\n",
        "gvh: von Heijne’s method for signal sequence recognition.\n",
        "\n",
        "lip: von Heijne’s Signal Peptidase II consensus sequence score.\n",
        "\n",
        "chg: Presence of charge on N-terminus of predicted lipoproteins.\n",
        "\n",
        "aac: score of discriminant analysis of the amino acid content of outer membrane and periplasmic proteins.\n",
        "\n",
        "alm1: score of the ALOM membrane-spanning region prediction program.\n",
        "\n",
        "alm2: score of ALOM program after excluding putative cleavable signal regions from the sequence.\n",
        "\n",
        "There are eight classes described as follows:\n",
        "\n",
        "cp: cytoplasm\n",
        "\n",
        "im: inner membrane without signal sequence\n",
        "\n",
        "pp: periplasm\n",
        "\n",
        "imU: inner membrane, non cleavable signal sequence\n",
        "\n",
        "om: outer membrane\n",
        "\n",
        "omL: outer membrane lipoprotein\n",
        "\n",
        "imL: inner membrane lipoprotein\n",
        "\n",
        "imS: inner membrane, cleavable signal sequence\n",
        "\n"
      ]
    },
    {
      "cell_type": "markdown",
      "metadata": {
        "id": "Ip34kQ-Jqjj_"
      },
      "source": [
        "Load libraries"
      ]
    },
    {
      "cell_type": "code",
      "metadata": {
        "id": "wIYpYF1Jpiql"
      },
      "source": [
        "#import libraries\n",
        "import pandas as pd\n",
        "import numpy as np\n",
        "import matplotlib.pyplot as plt\n",
        "%matplotlib inline\n",
        "import seaborn as sns"
      ],
      "execution_count": 79,
      "outputs": []
    },
    {
      "cell_type": "markdown",
      "metadata": {
        "id": "sf1ETkFrqo5i"
      },
      "source": [
        "Load datasets"
      ]
    },
    {
      "cell_type": "code",
      "metadata": {
        "id": "ujZgjI15qxC3"
      },
      "source": [
        "#Load datasets\n",
        "train=pd.read_csv(\"https://raw.githubusercontent.com/jbrownlee/Datasets/master/ecoli.csv\")\n",
        "train.columns = ['mcg','gvh', 'lip','chg','aac','alm1','alm2', 'result']"
      ],
      "execution_count": 80,
      "outputs": []
    },
    {
      "cell_type": "code",
      "metadata": {
        "id": "8oyz7qMurSqE",
        "colab": {
          "base_uri": "https://localhost:8080/",
          "height": 406
        },
        "outputId": "dc4b9cea-bd52-442a-af81-1e46e5cbe0ac"
      },
      "source": [
        "train"
      ],
      "execution_count": 81,
      "outputs": [
        {
          "output_type": "execute_result",
          "data": {
            "text/html": [
              "<div>\n",
              "<style scoped>\n",
              "    .dataframe tbody tr th:only-of-type {\n",
              "        vertical-align: middle;\n",
              "    }\n",
              "\n",
              "    .dataframe tbody tr th {\n",
              "        vertical-align: top;\n",
              "    }\n",
              "\n",
              "    .dataframe thead th {\n",
              "        text-align: right;\n",
              "    }\n",
              "</style>\n",
              "<table border=\"1\" class=\"dataframe\">\n",
              "  <thead>\n",
              "    <tr style=\"text-align: right;\">\n",
              "      <th></th>\n",
              "      <th>mcg</th>\n",
              "      <th>gvh</th>\n",
              "      <th>lip</th>\n",
              "      <th>chg</th>\n",
              "      <th>aac</th>\n",
              "      <th>alm1</th>\n",
              "      <th>alm2</th>\n",
              "      <th>result</th>\n",
              "    </tr>\n",
              "  </thead>\n",
              "  <tbody>\n",
              "    <tr>\n",
              "      <th>0</th>\n",
              "      <td>0.07</td>\n",
              "      <td>0.40</td>\n",
              "      <td>0.48</td>\n",
              "      <td>0.5</td>\n",
              "      <td>0.54</td>\n",
              "      <td>0.35</td>\n",
              "      <td>0.44</td>\n",
              "      <td>cp</td>\n",
              "    </tr>\n",
              "    <tr>\n",
              "      <th>1</th>\n",
              "      <td>0.56</td>\n",
              "      <td>0.40</td>\n",
              "      <td>0.48</td>\n",
              "      <td>0.5</td>\n",
              "      <td>0.49</td>\n",
              "      <td>0.37</td>\n",
              "      <td>0.46</td>\n",
              "      <td>cp</td>\n",
              "    </tr>\n",
              "    <tr>\n",
              "      <th>2</th>\n",
              "      <td>0.59</td>\n",
              "      <td>0.49</td>\n",
              "      <td>0.48</td>\n",
              "      <td>0.5</td>\n",
              "      <td>0.52</td>\n",
              "      <td>0.45</td>\n",
              "      <td>0.36</td>\n",
              "      <td>cp</td>\n",
              "    </tr>\n",
              "    <tr>\n",
              "      <th>3</th>\n",
              "      <td>0.23</td>\n",
              "      <td>0.32</td>\n",
              "      <td>0.48</td>\n",
              "      <td>0.5</td>\n",
              "      <td>0.55</td>\n",
              "      <td>0.25</td>\n",
              "      <td>0.35</td>\n",
              "      <td>cp</td>\n",
              "    </tr>\n",
              "    <tr>\n",
              "      <th>4</th>\n",
              "      <td>0.67</td>\n",
              "      <td>0.39</td>\n",
              "      <td>0.48</td>\n",
              "      <td>0.5</td>\n",
              "      <td>0.36</td>\n",
              "      <td>0.38</td>\n",
              "      <td>0.46</td>\n",
              "      <td>cp</td>\n",
              "    </tr>\n",
              "    <tr>\n",
              "      <th>...</th>\n",
              "      <td>...</td>\n",
              "      <td>...</td>\n",
              "      <td>...</td>\n",
              "      <td>...</td>\n",
              "      <td>...</td>\n",
              "      <td>...</td>\n",
              "      <td>...</td>\n",
              "      <td>...</td>\n",
              "    </tr>\n",
              "    <tr>\n",
              "      <th>330</th>\n",
              "      <td>0.74</td>\n",
              "      <td>0.56</td>\n",
              "      <td>0.48</td>\n",
              "      <td>0.5</td>\n",
              "      <td>0.47</td>\n",
              "      <td>0.68</td>\n",
              "      <td>0.30</td>\n",
              "      <td>pp</td>\n",
              "    </tr>\n",
              "    <tr>\n",
              "      <th>331</th>\n",
              "      <td>0.71</td>\n",
              "      <td>0.57</td>\n",
              "      <td>0.48</td>\n",
              "      <td>0.5</td>\n",
              "      <td>0.48</td>\n",
              "      <td>0.35</td>\n",
              "      <td>0.32</td>\n",
              "      <td>pp</td>\n",
              "    </tr>\n",
              "    <tr>\n",
              "      <th>332</th>\n",
              "      <td>0.61</td>\n",
              "      <td>0.60</td>\n",
              "      <td>0.48</td>\n",
              "      <td>0.5</td>\n",
              "      <td>0.44</td>\n",
              "      <td>0.39</td>\n",
              "      <td>0.38</td>\n",
              "      <td>pp</td>\n",
              "    </tr>\n",
              "    <tr>\n",
              "      <th>333</th>\n",
              "      <td>0.59</td>\n",
              "      <td>0.61</td>\n",
              "      <td>0.48</td>\n",
              "      <td>0.5</td>\n",
              "      <td>0.42</td>\n",
              "      <td>0.42</td>\n",
              "      <td>0.37</td>\n",
              "      <td>pp</td>\n",
              "    </tr>\n",
              "    <tr>\n",
              "      <th>334</th>\n",
              "      <td>0.74</td>\n",
              "      <td>0.74</td>\n",
              "      <td>0.48</td>\n",
              "      <td>0.5</td>\n",
              "      <td>0.31</td>\n",
              "      <td>0.53</td>\n",
              "      <td>0.52</td>\n",
              "      <td>pp</td>\n",
              "    </tr>\n",
              "  </tbody>\n",
              "</table>\n",
              "<p>335 rows × 8 columns</p>\n",
              "</div>"
            ],
            "text/plain": [
              "      mcg   gvh   lip  chg   aac  alm1  alm2 result\n",
              "0    0.07  0.40  0.48  0.5  0.54  0.35  0.44     cp\n",
              "1    0.56  0.40  0.48  0.5  0.49  0.37  0.46     cp\n",
              "2    0.59  0.49  0.48  0.5  0.52  0.45  0.36     cp\n",
              "3    0.23  0.32  0.48  0.5  0.55  0.25  0.35     cp\n",
              "4    0.67  0.39  0.48  0.5  0.36  0.38  0.46     cp\n",
              "..    ...   ...   ...  ...   ...   ...   ...    ...\n",
              "330  0.74  0.56  0.48  0.5  0.47  0.68  0.30     pp\n",
              "331  0.71  0.57  0.48  0.5  0.48  0.35  0.32     pp\n",
              "332  0.61  0.60  0.48  0.5  0.44  0.39  0.38     pp\n",
              "333  0.59  0.61  0.48  0.5  0.42  0.42  0.37     pp\n",
              "334  0.74  0.74  0.48  0.5  0.31  0.53  0.52     pp\n",
              "\n",
              "[335 rows x 8 columns]"
            ]
          },
          "metadata": {
            "tags": []
          },
          "execution_count": 81
        }
      ]
    },
    {
      "cell_type": "markdown",
      "metadata": {
        "id": "PpeywPghsYhw"
      },
      "source": [
        "Check for null values"
      ]
    },
    {
      "cell_type": "code",
      "metadata": {
        "id": "U9BVsDafsbSR",
        "colab": {
          "base_uri": "https://localhost:8080/"
        },
        "outputId": "2b1e9778-b2fe-4f90-a4ac-bed7a9689b36"
      },
      "source": [
        "train.isnull().sum()"
      ],
      "execution_count": 82,
      "outputs": [
        {
          "output_type": "execute_result",
          "data": {
            "text/plain": [
              "mcg       0\n",
              "gvh       0\n",
              "lip       0\n",
              "chg       0\n",
              "aac       0\n",
              "alm1      0\n",
              "alm2      0\n",
              "result    0\n",
              "dtype: int64"
            ]
          },
          "metadata": {
            "tags": []
          },
          "execution_count": 82
        }
      ]
    },
    {
      "cell_type": "markdown",
      "metadata": {
        "id": "vXRTwxdxtJuM"
      },
      "source": [
        "Compare result with independant variables"
      ]
    },
    {
      "cell_type": "code",
      "metadata": {
        "id": "cRUflpZ7tRVU",
        "colab": {
          "base_uri": "https://localhost:8080/",
          "height": 287
        },
        "outputId": "952cb87a-6e10-4761-bb25-2e82a3d727dc"
      },
      "source": [
        "result = train.groupby(by=(\"result\")).sum().reset_index()\n",
        "result"
      ],
      "execution_count": 83,
      "outputs": [
        {
          "output_type": "execute_result",
          "data": {
            "text/html": [
              "<div>\n",
              "<style scoped>\n",
              "    .dataframe tbody tr th:only-of-type {\n",
              "        vertical-align: middle;\n",
              "    }\n",
              "\n",
              "    .dataframe tbody tr th {\n",
              "        vertical-align: top;\n",
              "    }\n",
              "\n",
              "    .dataframe thead th {\n",
              "        text-align: right;\n",
              "    }\n",
              "</style>\n",
              "<table border=\"1\" class=\"dataframe\">\n",
              "  <thead>\n",
              "    <tr style=\"text-align: right;\">\n",
              "      <th></th>\n",
              "      <th>result</th>\n",
              "      <th>mcg</th>\n",
              "      <th>gvh</th>\n",
              "      <th>lip</th>\n",
              "      <th>chg</th>\n",
              "      <th>aac</th>\n",
              "      <th>alm1</th>\n",
              "      <th>alm2</th>\n",
              "    </tr>\n",
              "  </thead>\n",
              "  <tbody>\n",
              "    <tr>\n",
              "      <th>0</th>\n",
              "      <td>cp</td>\n",
              "      <td>51.50</td>\n",
              "      <td>58.30</td>\n",
              "      <td>68.16</td>\n",
              "      <td>71.0</td>\n",
              "      <td>64.43</td>\n",
              "      <td>44.47</td>\n",
              "      <td>56.17</td>\n",
              "    </tr>\n",
              "    <tr>\n",
              "      <th>1</th>\n",
              "      <td>im</td>\n",
              "      <td>36.84</td>\n",
              "      <td>38.24</td>\n",
              "      <td>37.48</td>\n",
              "      <td>38.5</td>\n",
              "      <td>41.28</td>\n",
              "      <td>58.33</td>\n",
              "      <td>56.24</td>\n",
              "    </tr>\n",
              "    <tr>\n",
              "      <th>2</th>\n",
              "      <td>imL</td>\n",
              "      <td>1.45</td>\n",
              "      <td>0.94</td>\n",
              "      <td>2.00</td>\n",
              "      <td>1.5</td>\n",
              "      <td>0.91</td>\n",
              "      <td>1.29</td>\n",
              "      <td>1.14</td>\n",
              "    </tr>\n",
              "    <tr>\n",
              "      <th>3</th>\n",
              "      <td>imS</td>\n",
              "      <td>1.48</td>\n",
              "      <td>1.02</td>\n",
              "      <td>0.96</td>\n",
              "      <td>1.0</td>\n",
              "      <td>1.07</td>\n",
              "      <td>1.28</td>\n",
              "      <td>1.14</td>\n",
              "    </tr>\n",
              "    <tr>\n",
              "      <th>4</th>\n",
              "      <td>imU</td>\n",
              "      <td>25.41</td>\n",
              "      <td>16.06</td>\n",
              "      <td>17.32</td>\n",
              "      <td>17.5</td>\n",
              "      <td>19.56</td>\n",
              "      <td>26.04</td>\n",
              "      <td>26.18</td>\n",
              "    </tr>\n",
              "    <tr>\n",
              "      <th>5</th>\n",
              "      <td>om</td>\n",
              "      <td>13.45</td>\n",
              "      <td>14.20</td>\n",
              "      <td>10.12</td>\n",
              "      <td>10.0</td>\n",
              "      <td>14.78</td>\n",
              "      <td>9.25</td>\n",
              "      <td>6.11</td>\n",
              "    </tr>\n",
              "    <tr>\n",
              "      <th>6</th>\n",
              "      <td>omL</td>\n",
              "      <td>3.49</td>\n",
              "      <td>2.56</td>\n",
              "      <td>5.00</td>\n",
              "      <td>2.5</td>\n",
              "      <td>2.71</td>\n",
              "      <td>2.82</td>\n",
              "      <td>1.11</td>\n",
              "    </tr>\n",
              "    <tr>\n",
              "      <th>7</th>\n",
              "      <td>pp</td>\n",
              "      <td>33.91</td>\n",
              "      <td>36.39</td>\n",
              "      <td>24.96</td>\n",
              "      <td>26.0</td>\n",
              "      <td>22.71</td>\n",
              "      <td>24.34</td>\n",
              "      <td>19.47</td>\n",
              "    </tr>\n",
              "  </tbody>\n",
              "</table>\n",
              "</div>"
            ],
            "text/plain": [
              "  result    mcg    gvh    lip   chg    aac   alm1   alm2\n",
              "0     cp  51.50  58.30  68.16  71.0  64.43  44.47  56.17\n",
              "1     im  36.84  38.24  37.48  38.5  41.28  58.33  56.24\n",
              "2    imL   1.45   0.94   2.00   1.5   0.91   1.29   1.14\n",
              "3    imS   1.48   1.02   0.96   1.0   1.07   1.28   1.14\n",
              "4    imU  25.41  16.06  17.32  17.5  19.56  26.04  26.18\n",
              "5     om  13.45  14.20  10.12  10.0  14.78   9.25   6.11\n",
              "6    omL   3.49   2.56   5.00   2.5   2.71   2.82   1.11\n",
              "7     pp  33.91  36.39  24.96  26.0  22.71  24.34  19.47"
            ]
          },
          "metadata": {
            "tags": []
          },
          "execution_count": 83
        }
      ]
    },
    {
      "cell_type": "markdown",
      "metadata": {
        "id": "hcWq23gPCklx"
      },
      "source": [
        "Label Encode result"
      ]
    },
    {
      "cell_type": "code",
      "metadata": {
        "id": "ebJVqqPoI8uF",
        "colab": {
          "base_uri": "https://localhost:8080/"
        },
        "outputId": "d0943450-446e-4a8f-f242-c85cf3f88003"
      },
      "source": [
        "train.info()"
      ],
      "execution_count": 84,
      "outputs": [
        {
          "output_type": "stream",
          "text": [
            "<class 'pandas.core.frame.DataFrame'>\n",
            "RangeIndex: 335 entries, 0 to 334\n",
            "Data columns (total 8 columns):\n",
            " #   Column  Non-Null Count  Dtype  \n",
            "---  ------  --------------  -----  \n",
            " 0   mcg     335 non-null    float64\n",
            " 1   gvh     335 non-null    float64\n",
            " 2   lip     335 non-null    float64\n",
            " 3   chg     335 non-null    float64\n",
            " 4   aac     335 non-null    float64\n",
            " 5   alm1    335 non-null    float64\n",
            " 6   alm2    335 non-null    float64\n",
            " 7   result  335 non-null    object \n",
            "dtypes: float64(7), object(1)\n",
            "memory usage: 21.1+ KB\n"
          ],
          "name": "stdout"
        }
      ]
    },
    {
      "cell_type": "code",
      "metadata": {
        "id": "MhpNxfAbCojl",
        "colab": {
          "base_uri": "https://localhost:8080/"
        },
        "outputId": "08e1e70f-9917-44cf-d243-1f051601647b"
      },
      "source": [
        "from sklearn import preprocessing\n",
        "le = preprocessing.LabelEncoder()\n",
        "\n",
        "train.result = le.fit_transform(train.result)\n",
        "train.result"
      ],
      "execution_count": 85,
      "outputs": [
        {
          "output_type": "execute_result",
          "data": {
            "text/plain": [
              "0      0\n",
              "1      0\n",
              "2      0\n",
              "3      0\n",
              "4      0\n",
              "      ..\n",
              "330    7\n",
              "331    7\n",
              "332    7\n",
              "333    7\n",
              "334    7\n",
              "Name: result, Length: 335, dtype: int64"
            ]
          },
          "metadata": {
            "tags": []
          },
          "execution_count": 85
        }
      ]
    },
    {
      "cell_type": "code",
      "metadata": {
        "id": "exO-v91udhvo",
        "colab": {
          "base_uri": "https://localhost:8080/",
          "height": 504
        },
        "outputId": "f02a78bd-0749-491f-ace6-44783eef5e87"
      },
      "source": [
        "plt.figure(figsize=(10,8))\n",
        "sns.heatmap(train.corr(), annot=True)"
      ],
      "execution_count": 86,
      "outputs": [
        {
          "output_type": "execute_result",
          "data": {
            "text/plain": [
              "<matplotlib.axes._subplots.AxesSubplot at 0x7fb4a2bc2d68>"
            ]
          },
          "metadata": {
            "tags": []
          },
          "execution_count": 86
        },
        {
          "output_type": "display_data",
          "data": {
            "image/png": "[encoded data removed]",
            "text/plain": [
              "<Figure size 720x576 with 2 Axes>"
            ]
          },
          "metadata": {
            "tags": [],
            "needs_background": "light"
          }
        }
      ]
    },
    {
      "cell_type": "markdown",
      "metadata": {
        "id": "9WupGGsLt_fs"
      },
      "source": [
        "Count each class"
      ]
    },
    {
      "cell_type": "code",
      "metadata": {
        "id": "ZmkLvkB1b-4L",
        "colab": {
          "base_uri": "https://localhost:8080/"
        },
        "outputId": "1e13e7ab-ca77-472f-c4a4-41b79cb0e12c"
      },
      "source": [
        "import collections\n",
        "from collections import Counter\n",
        "\n",
        "counter = Counter(train.result)\n",
        "for k,v in counter.items():\n",
        "\tper = v / len(train.result) * 100\n",
        "\tprint('Class=%s, Count=%d, Percentage=%.3f%%' % (k, v, per))"
      ],
      "execution_count": 87,
      "outputs": [
        {
          "output_type": "stream",
          "text": [
            "Class=0, Count=142, Percentage=42.388%\n",
            "Class=1, Count=77, Percentage=22.985%\n",
            "Class=3, Count=2, Percentage=0.597%\n",
            "Class=2, Count=2, Percentage=0.597%\n",
            "Class=4, Count=35, Percentage=10.448%\n",
            "Class=5, Count=20, Percentage=5.970%\n",
            "Class=6, Count=5, Percentage=1.493%\n",
            "Class=7, Count=52, Percentage=15.522%\n"
          ],
          "name": "stdout"
        }
      ]
    },
    {
      "cell_type": "code",
      "metadata": {
        "colab": {
          "base_uri": "https://localhost:8080/"
        },
        "id": "uS1elXeM8uzm",
        "outputId": "a552a14c-9de4-4702-9032-97d0cdb12d10"
      },
      "source": [
        "result = train.groupby('result')['result'].count()\n",
        "result/len(train)*100"
      ],
      "execution_count": 88,
      "outputs": [
        {
          "output_type": "execute_result",
          "data": {
            "text/plain": [
              "result\n",
              "0    42.388060\n",
              "1    22.985075\n",
              "2     0.597015\n",
              "3     0.597015\n",
              "4    10.447761\n",
              "5     5.970149\n",
              "6     1.492537\n",
              "7    15.522388\n",
              "Name: result, dtype: float64"
            ]
          },
          "metadata": {
            "tags": []
          },
          "execution_count": 88
        }
      ]
    },
    {
      "cell_type": "code",
      "metadata": {
        "id": "6zuzU1kruCL8",
        "colab": {
          "base_uri": "https://localhost:8080/",
          "height": 287
        },
        "outputId": "ad798f90-e46e-4e44-c1f4-17afae7d4b6d"
      },
      "source": [
        "result1=train.groupby(\"result\").count().reset_index()\n",
        "result1"
      ],
      "execution_count": 89,
      "outputs": [
        {
          "output_type": "execute_result",
          "data": {
            "text/html": [
              "<div>\n",
              "<style scoped>\n",
              "    .dataframe tbody tr th:only-of-type {\n",
              "        vertical-align: middle;\n",
              "    }\n",
              "\n",
              "    .dataframe tbody tr th {\n",
              "        vertical-align: top;\n",
              "    }\n",
              "\n",
              "    .dataframe thead th {\n",
              "        text-align: right;\n",
              "    }\n",
              "</style>\n",
              "<table border=\"1\" class=\"dataframe\">\n",
              "  <thead>\n",
              "    <tr style=\"text-align: right;\">\n",
              "      <th></th>\n",
              "      <th>result</th>\n",
              "      <th>mcg</th>\n",
              "      <th>gvh</th>\n",
              "      <th>lip</th>\n",
              "      <th>chg</th>\n",
              "      <th>aac</th>\n",
              "      <th>alm1</th>\n",
              "      <th>alm2</th>\n",
              "    </tr>\n",
              "  </thead>\n",
              "  <tbody>\n",
              "    <tr>\n",
              "      <th>0</th>\n",
              "      <td>0</td>\n",
              "      <td>142</td>\n",
              "      <td>142</td>\n",
              "      <td>142</td>\n",
              "      <td>142</td>\n",
              "      <td>142</td>\n",
              "      <td>142</td>\n",
              "      <td>142</td>\n",
              "    </tr>\n",
              "    <tr>\n",
              "      <th>1</th>\n",
              "      <td>1</td>\n",
              "      <td>77</td>\n",
              "      <td>77</td>\n",
              "      <td>77</td>\n",
              "      <td>77</td>\n",
              "      <td>77</td>\n",
              "      <td>77</td>\n",
              "      <td>77</td>\n",
              "    </tr>\n",
              "    <tr>\n",
              "      <th>2</th>\n",
              "      <td>2</td>\n",
              "      <td>2</td>\n",
              "      <td>2</td>\n",
              "      <td>2</td>\n",
              "      <td>2</td>\n",
              "      <td>2</td>\n",
              "      <td>2</td>\n",
              "      <td>2</td>\n",
              "    </tr>\n",
              "    <tr>\n",
              "      <th>3</th>\n",
              "      <td>3</td>\n",
              "      <td>2</td>\n",
              "      <td>2</td>\n",
              "      <td>2</td>\n",
              "      <td>2</td>\n",
              "      <td>2</td>\n",
              "      <td>2</td>\n",
              "      <td>2</td>\n",
              "    </tr>\n",
              "    <tr>\n",
              "      <th>4</th>\n",
              "      <td>4</td>\n",
              "      <td>35</td>\n",
              "      <td>35</td>\n",
              "      <td>35</td>\n",
              "      <td>35</td>\n",
              "      <td>35</td>\n",
              "      <td>35</td>\n",
              "      <td>35</td>\n",
              "    </tr>\n",
              "    <tr>\n",
              "      <th>5</th>\n",
              "      <td>5</td>\n",
              "      <td>20</td>\n",
              "      <td>20</td>\n",
              "      <td>20</td>\n",
              "      <td>20</td>\n",
              "      <td>20</td>\n",
              "      <td>20</td>\n",
              "      <td>20</td>\n",
              "    </tr>\n",
              "    <tr>\n",
              "      <th>6</th>\n",
              "      <td>6</td>\n",
              "      <td>5</td>\n",
              "      <td>5</td>\n",
              "      <td>5</td>\n",
              "      <td>5</td>\n",
              "      <td>5</td>\n",
              "      <td>5</td>\n",
              "      <td>5</td>\n",
              "    </tr>\n",
              "    <tr>\n",
              "      <th>7</th>\n",
              "      <td>7</td>\n",
              "      <td>52</td>\n",
              "      <td>52</td>\n",
              "      <td>52</td>\n",
              "      <td>52</td>\n",
              "      <td>52</td>\n",
              "      <td>52</td>\n",
              "      <td>52</td>\n",
              "    </tr>\n",
              "  </tbody>\n",
              "</table>\n",
              "</div>"
            ],
            "text/plain": [
              "   result  mcg  gvh  lip  chg  aac  alm1  alm2\n",
              "0       0  142  142  142  142  142   142   142\n",
              "1       1   77   77   77   77   77    77    77\n",
              "2       2    2    2    2    2    2     2     2\n",
              "3       3    2    2    2    2    2     2     2\n",
              "4       4   35   35   35   35   35    35    35\n",
              "5       5   20   20   20   20   20    20    20\n",
              "6       6    5    5    5    5    5     5     5\n",
              "7       7   52   52   52   52   52    52    52"
            ]
          },
          "metadata": {
            "tags": []
          },
          "execution_count": 89
        }
      ]
    },
    {
      "cell_type": "markdown",
      "metadata": {
        "id": "uuBVOhmEteJC"
      },
      "source": [
        "Percentage of result"
      ]
    },
    {
      "cell_type": "code",
      "metadata": {
        "id": "d1QUuEF9tc10",
        "colab": {
          "base_uri": "https://localhost:8080/",
          "height": 317
        },
        "outputId": "edee5a91-c326-4417-da5f-b92c987f6c92"
      },
      "source": [
        "result2=train.groupby(\"result\").count()/len(train)*100\n",
        "result2"
      ],
      "execution_count": 90,
      "outputs": [
        {
          "output_type": "execute_result",
          "data": {
            "text/html": [
              "<div>\n",
              "<style scoped>\n",
              "    .dataframe tbody tr th:only-of-type {\n",
              "        vertical-align: middle;\n",
              "    }\n",
              "\n",
              "    .dataframe tbody tr th {\n",
              "        vertical-align: top;\n",
              "    }\n",
              "\n",
              "    .dataframe thead th {\n",
              "        text-align: right;\n",
              "    }\n",
              "</style>\n",
              "<table border=\"1\" class=\"dataframe\">\n",
              "  <thead>\n",
              "    <tr style=\"text-align: right;\">\n",
              "      <th></th>\n",
              "      <th>mcg</th>\n",
              "      <th>gvh</th>\n",
              "      <th>lip</th>\n",
              "      <th>chg</th>\n",
              "      <th>aac</th>\n",
              "      <th>alm1</th>\n",
              "      <th>alm2</th>\n",
              "    </tr>\n",
              "    <tr>\n",
              "      <th>result</th>\n",
              "      <th></th>\n",
              "      <th></th>\n",
              "      <th></th>\n",
              "      <th></th>\n",
              "      <th></th>\n",
              "      <th></th>\n",
              "      <th></th>\n",
              "    </tr>\n",
              "  </thead>\n",
              "  <tbody>\n",
              "    <tr>\n",
              "      <th>0</th>\n",
              "      <td>42.388060</td>\n",
              "      <td>42.388060</td>\n",
              "      <td>42.388060</td>\n",
              "      <td>42.388060</td>\n",
              "      <td>42.388060</td>\n",
              "      <td>42.388060</td>\n",
              "      <td>42.388060</td>\n",
              "    </tr>\n",
              "    <tr>\n",
              "      <th>1</th>\n",
              "      <td>22.985075</td>\n",
              "      <td>22.985075</td>\n",
              "      <td>22.985075</td>\n",
              "      <td>22.985075</td>\n",
              "      <td>22.985075</td>\n",
              "      <td>22.985075</td>\n",
              "      <td>22.985075</td>\n",
              "    </tr>\n",
              "    <tr>\n",
              "      <th>2</th>\n",
              "      <td>0.597015</td>\n",
              "      <td>0.597015</td>\n",
              "      <td>0.597015</td>\n",
              "      <td>0.597015</td>\n",
              "      <td>0.597015</td>\n",
              "      <td>0.597015</td>\n",
              "      <td>0.597015</td>\n",
              "    </tr>\n",
              "    <tr>\n",
              "      <th>3</th>\n",
              "      <td>0.597015</td>\n",
              "      <td>0.597015</td>\n",
              "      <td>0.597015</td>\n",
              "      <td>0.597015</td>\n",
              "      <td>0.597015</td>\n",
              "      <td>0.597015</td>\n",
              "      <td>0.597015</td>\n",
              "    </tr>\n",
              "    <tr>\n",
              "      <th>4</th>\n",
              "      <td>10.447761</td>\n",
              "      <td>10.447761</td>\n",
              "      <td>10.447761</td>\n",
              "      <td>10.447761</td>\n",
              "      <td>10.447761</td>\n",
              "      <td>10.447761</td>\n",
              "      <td>10.447761</td>\n",
              "    </tr>\n",
              "    <tr>\n",
              "      <th>5</th>\n",
              "      <td>5.970149</td>\n",
              "      <td>5.970149</td>\n",
              "      <td>5.970149</td>\n",
              "      <td>5.970149</td>\n",
              "      <td>5.970149</td>\n",
              "      <td>5.970149</td>\n",
              "      <td>5.970149</td>\n",
              "    </tr>\n",
              "    <tr>\n",
              "      <th>6</th>\n",
              "      <td>1.492537</td>\n",
              "      <td>1.492537</td>\n",
              "      <td>1.492537</td>\n",
              "      <td>1.492537</td>\n",
              "      <td>1.492537</td>\n",
              "      <td>1.492537</td>\n",
              "      <td>1.492537</td>\n",
              "    </tr>\n",
              "    <tr>\n",
              "      <th>7</th>\n",
              "      <td>15.522388</td>\n",
              "      <td>15.522388</td>\n",
              "      <td>15.522388</td>\n",
              "      <td>15.522388</td>\n",
              "      <td>15.522388</td>\n",
              "      <td>15.522388</td>\n",
              "      <td>15.522388</td>\n",
              "    </tr>\n",
              "  </tbody>\n",
              "</table>\n",
              "</div>"
            ],
            "text/plain": [
              "              mcg        gvh        lip  ...        aac       alm1       alm2\n",
              "result                                   ...                                 \n",
              "0       42.388060  42.388060  42.388060  ...  42.388060  42.388060  42.388060\n",
              "1       22.985075  22.985075  22.985075  ...  22.985075  22.985075  22.985075\n",
              "2        0.597015   0.597015   0.597015  ...   0.597015   0.597015   0.597015\n",
              "3        0.597015   0.597015   0.597015  ...   0.597015   0.597015   0.597015\n",
              "4       10.447761  10.447761  10.447761  ...  10.447761  10.447761  10.447761\n",
              "5        5.970149   5.970149   5.970149  ...   5.970149   5.970149   5.970149\n",
              "6        1.492537   1.492537   1.492537  ...   1.492537   1.492537   1.492537\n",
              "7       15.522388  15.522388  15.522388  ...  15.522388  15.522388  15.522388\n",
              "\n",
              "[8 rows x 7 columns]"
            ]
          },
          "metadata": {
            "tags": []
          },
          "execution_count": 90
        }
      ]
    },
    {
      "cell_type": "markdown",
      "metadata": {
        "id": "dQm2AuofCx5i"
      },
      "source": [
        "Graphical representation of result"
      ]
    },
    {
      "cell_type": "code",
      "metadata": {
        "id": "u8HYGz8Htcvc",
        "colab": {
          "base_uri": "https://localhost:8080/",
          "height": 352
        },
        "outputId": "16139477-72c3-4a43-fb3e-8d6fe991ea51"
      },
      "source": [
        "sns.distplot(train['result'])"
      ],
      "execution_count": 91,
      "outputs": [
        {
          "output_type": "stream",
          "text": [
            "/usr/local/lib/python3.6/dist-packages/seaborn/distributions.py:2551: FutureWarning: `distplot` is a deprecated function and will be removed in a future version. Please adapt your code to use either `displot` (a figure-level function with similar flexibility) or `histplot` (an axes-level function for histograms).\n",
            "  warnings.warn(msg, FutureWarning)\n"
          ],
          "name": "stderr"
        },
        {
          "output_type": "execute_result",
          "data": {
            "text/plain": [
              "<matplotlib.axes._subplots.AxesSubplot at 0x7fb4945c0ef0>"
            ]
          },
          "metadata": {
            "tags": []
          },
          "execution_count": 91
        },
        {
          "output_type": "display_data",
          "data": {
            "image/png": "[encoded data removed]",
            "text/plain": [
              "<Figure size 432x288 with 1 Axes>"
            ]
          },
          "metadata": {
            "tags": [],
            "needs_background": "light"
          }
        }
      ]
    },
    {
      "cell_type": "code",
      "metadata": {
        "id": "5iLuze7TcHQ8",
        "colab": {
          "base_uri": "https://localhost:8080/",
          "height": 281
        },
        "outputId": "879b1303-8739-46be-86d3-359ed2115478"
      },
      "source": [
        "#create histograms of classes\n",
        "# create histograms of all variables\n",
        "from pandas import read_csv\n",
        "from matplotlib import pyplot\n",
        "\n",
        "# create a histogram plot of each variable\n",
        "train.hist(bins=25)\n",
        "# show the plot\n",
        "pyplot.show()"
      ],
      "execution_count": 92,
      "outputs": [
        {
          "output_type": "display_data",
          "data": {
            "image/png": "[encoded data removed]",
            "text/plain": [
              "<Figure size 432x288 with 9 Axes>"
            ]
          },
          "metadata": {
            "tags": [],
            "needs_background": "light"
          }
        }
      ]
    },
    {
      "cell_type": "markdown",
      "metadata": {
        "id": "WJjJ0f7rDWXi"
      },
      "source": [
        "Assign X and y variables"
      ]
    },
    {
      "cell_type": "code",
      "metadata": {
        "id": "3KTPdBsbDalz",
        "colab": {
          "base_uri": "https://localhost:8080/"
        },
        "outputId": "f720732e-47e4-45e9-8acd-4aacc89e3379"
      },
      "source": [
        "y = train.result\n",
        "X = train.drop(['result'], axis = 1)\n",
        "\n",
        "X.shape, y.shape"
      ],
      "execution_count": 93,
      "outputs": [
        {
          "output_type": "execute_result",
          "data": {
            "text/plain": [
              "((335, 7), (335,))"
            ]
          },
          "metadata": {
            "tags": []
          },
          "execution_count": 93
        }
      ]
    },
    {
      "cell_type": "markdown",
      "metadata": {
        "id": "E5yJhxV9D6CZ"
      },
      "source": [
        "Split training set up for training and validation"
      ]
    },
    {
      "cell_type": "code",
      "metadata": {
        "id": "mMoj1MiuEIDF",
        "colab": {
          "base_uri": "https://localhost:8080/"
        },
        "outputId": "08a1a9d4-89ee-4055-895d-a3f0aa7b59c4"
      },
      "source": [
        "#split training set for training and testing\n",
        "from sklearn.model_selection import train_test_split\n",
        "\n",
        "X_train, X_val, y_train, y_val = train_test_split(X, y, random_state=0, test_size=0.50, stratify=y)\n",
        "#check shapes of testing data\n",
        "X_train.shape, X_val.shape, y_train.shape, y_val.shape"
      ],
      "execution_count": 94,
      "outputs": [
        {
          "output_type": "execute_result",
          "data": {
            "text/plain": [
              "((167, 7), (168, 7), (167,), (168,))"
            ]
          },
          "metadata": {
            "tags": []
          },
          "execution_count": 94
        }
      ]
    },
    {
      "cell_type": "markdown",
      "metadata": {
        "id": "SuNjtglfcaoH"
      },
      "source": [
        "Scaler"
      ]
    },
    {
      "cell_type": "code",
      "metadata": {
        "id": "aZi_9X5vcZmO"
      },
      "source": [
        "# Import `StandardScaler` from `sklearn.preprocessing`\n",
        "from sklearn.preprocessing import StandardScaler\n",
        "\n",
        "# Define the scaler \n",
        "scaler = StandardScaler().fit(X_train)\n",
        "# Scale the train set\n",
        "X_train = scaler.transform(X_train)\n",
        "# Scale the test set\n",
        "X_val = scaler.transform(X_val)"
      ],
      "execution_count": 95,
      "outputs": []
    },
    {
      "cell_type": "markdown",
      "metadata": {
        "id": "q7YTwCwXERIu"
      },
      "source": [
        "Count values in validation set"
      ]
    },
    {
      "cell_type": "code",
      "metadata": {
        "id": "biMeBa0VEc-X",
        "colab": {
          "base_uri": "https://localhost:8080/"
        },
        "outputId": "f394ff6c-fb12-41e8-b40e-dd383a4c0c12"
      },
      "source": [
        "from collections import Counter\n",
        "\n",
        "print(Counter(y_val))"
      ],
      "execution_count": 96,
      "outputs": [
        {
          "output_type": "stream",
          "text": [
            "Counter({0: 71, 1: 39, 7: 26, 4: 18, 5: 10, 6: 2, 3: 1, 2: 1})\n"
          ],
          "name": "stdout"
        }
      ]
    },
    {
      "cell_type": "markdown",
      "metadata": {
        "id": "_iY_Pomucl21"
      },
      "source": [
        "Class weights"
      ]
    },
    {
      "cell_type": "code",
      "metadata": {
        "id": "LLBvWLzlckvP"
      },
      "source": [
        "from sklearn.utils import class_weight\n",
        "\n",
        "class_weights = dict(zip(np.unique(y_train), class_weight.compute_class_weight('balanced',np.unique(y_train), y_train))) "
      ],
      "execution_count": 97,
      "outputs": []
    },
    {
      "cell_type": "code",
      "metadata": {
        "id": "5xJqi-AfGufX",
        "colab": {
          "base_uri": "https://localhost:8080/",
          "height": 352
        },
        "outputId": "3bd171f7-01e1-492f-b431-31adcd494725"
      },
      "source": [
        "sns.distplot(y_val)"
      ],
      "execution_count": 98,
      "outputs": [
        {
          "output_type": "stream",
          "text": [
            "/usr/local/lib/python3.6/dist-packages/seaborn/distributions.py:2551: FutureWarning: `distplot` is a deprecated function and will be removed in a future version. Please adapt your code to use either `displot` (a figure-level function with similar flexibility) or `histplot` (an axes-level function for histograms).\n",
            "  warnings.warn(msg, FutureWarning)\n"
          ],
          "name": "stderr"
        },
        {
          "output_type": "execute_result",
          "data": {
            "text/plain": [
              "<matplotlib.axes._subplots.AxesSubplot at 0x7fb4a2e41d68>"
            ]
          },
          "metadata": {
            "tags": []
          },
          "execution_count": 98
        },
        {
          "output_type": "display_data",
          "data": {
            "image/png": "[encoded data removed]",
            "text/plain": [
              "<Figure size 432x288 with 1 Axes>"
            ]
          },
          "metadata": {
            "tags": [],
            "needs_background": "light"
          }
        }
      ]
    },
    {
      "cell_type": "markdown",
      "metadata": {
        "id": "wNDSxQfvaabZ"
      },
      "source": [
        "Define model"
      ]
    },
    {
      "cell_type": "markdown",
      "metadata": {
        "id": "8OaJwVy99Mg3"
      },
      "source": [
        "CatBoost"
      ]
    },
    {
      "cell_type": "code",
      "metadata": {
        "colab": {
          "base_uri": "https://localhost:8080/"
        },
        "id": "5ttw8nl39PBo",
        "outputId": "0696e8fc-d0bc-4b81-9cb9-23803561c20a"
      },
      "source": [
        "!pip install catboost"
      ],
      "execution_count": 99,
      "outputs": [
        {
          "output_type": "stream",
          "text": [
            "Requirement already satisfied: catboost in /usr/local/lib/python3.6/dist-packages (0.24.3)\n",
            "Requirement already satisfied: scipy in /usr/local/lib/python3.6/dist-packages (from catboost) (1.4.1)\n",
            "Requirement already satisfied: pandas>=0.24.0 in /usr/local/lib/python3.6/dist-packages (from catboost) (1.1.4)\n",
            "Requirement already satisfied: matplotlib in /usr/local/lib/python3.6/dist-packages (from catboost) (3.2.2)\n",
            "Requirement already satisfied: graphviz in /usr/local/lib/python3.6/dist-packages (from catboost) (0.10.1)\n",
            "Requirement already satisfied: numpy>=1.16.0 in /usr/local/lib/python3.6/dist-packages (from catboost) (1.18.5)\n",
            "Requirement already satisfied: plotly in /usr/local/lib/python3.6/dist-packages (from catboost) (4.4.1)\n",
            "Requirement already satisfied: six in /usr/local/lib/python3.6/dist-packages (from catboost) (1.15.0)\n",
            "Requirement already satisfied: pytz>=2017.2 in /usr/local/lib/python3.6/dist-packages (from pandas>=0.24.0->catboost) (2018.9)\n",
            "Requirement already satisfied: python-dateutil>=2.7.3 in /usr/local/lib/python3.6/dist-packages (from pandas>=0.24.0->catboost) (2.8.1)\n",
            "Requirement already satisfied: kiwisolver>=1.0.1 in /usr/local/lib/python3.6/dist-packages (from matplotlib->catboost) (1.3.1)\n",
            "Requirement already satisfied: pyparsing!=2.0.4,!=2.1.2,!=2.1.6,>=2.0.1 in /usr/local/lib/python3.6/dist-packages (from matplotlib->catboost) (2.4.7)\n",
            "Requirement already satisfied: cycler>=0.10 in /usr/local/lib/python3.6/dist-packages (from matplotlib->catboost) (0.10.0)\n",
            "Requirement already satisfied: retrying>=1.3.3 in /usr/local/lib/python3.6/dist-packages (from plotly->catboost) (1.3.3)\n"
          ],
          "name": "stdout"
        }
      ]
    },
    {
      "cell_type": "code",
      "metadata": {
        "colab": {
          "base_uri": "https://localhost:8080/"
        },
        "id": "LopZmzXv9nNi",
        "outputId": "86ef20f2-bc57-46c2-effe-e1d21d569bb9"
      },
      "source": [
        "from catboost import CatBoostClassifier\n",
        "\n",
        "ct_model = CatBoostClassifier(loss_function='MultiClass', class_weights= [.58, .77, .9, .99, .90, .94, .99, .84], iterations=300, depth=5, random_state=1).fit(X_train, y_train)\n",
        "print(ct_model.score(X_train, y_train))"
      ],
      "execution_count": 100,
      "outputs": [
        {
          "output_type": "stream",
          "text": [
            "Learning rate set to 0.199763\n",
            "0:\tlearn: 1.7309146\ttotal: 1.9ms\tremaining: 568ms\n",
            "1:\tlearn: 1.4842680\ttotal: 3.43ms\tremaining: 511ms\n",
            "2:\tlearn: 1.2768309\ttotal: 4.78ms\tremaining: 473ms\n",
            "3:\tlearn: 1.1236396\ttotal: 6.2ms\tremaining: 459ms\n",
            "4:\tlearn: 1.0204026\ttotal: 7.63ms\tremaining: 450ms\n",
            "5:\tlearn: 0.9333688\ttotal: 9.06ms\tremaining: 444ms\n",
            "6:\tlearn: 0.8667159\ttotal: 10.5ms\tremaining: 439ms\n",
            "7:\tlearn: 0.8033225\ttotal: 11.9ms\tremaining: 434ms\n",
            "8:\tlearn: 0.7541111\ttotal: 13.3ms\tremaining: 431ms\n",
            "9:\tlearn: 0.7186030\ttotal: 14.7ms\tremaining: 427ms\n",
            "10:\tlearn: 0.6796510\ttotal: 16.1ms\tremaining: 423ms\n",
            "11:\tlearn: 0.6437524\ttotal: 17.5ms\tremaining: 419ms\n",
            "12:\tlearn: 0.6172752\ttotal: 18.9ms\tremaining: 416ms\n",
            "13:\tlearn: 0.5896271\ttotal: 20.3ms\tremaining: 414ms\n",
            "14:\tlearn: 0.5622365\ttotal: 21.7ms\tremaining: 412ms\n",
            "15:\tlearn: 0.5445196\ttotal: 23.1ms\tremaining: 409ms\n",
            "16:\tlearn: 0.5262694\ttotal: 24.5ms\tremaining: 407ms\n",
            "17:\tlearn: 0.5113435\ttotal: 26.6ms\tremaining: 417ms\n",
            "18:\tlearn: 0.4934563\ttotal: 28.1ms\tremaining: 415ms\n",
            "19:\tlearn: 0.4761681\ttotal: 29.5ms\tremaining: 413ms\n",
            "20:\tlearn: 0.4635677\ttotal: 31ms\tremaining: 412ms\n",
            "21:\tlearn: 0.4470736\ttotal: 32.5ms\tremaining: 410ms\n",
            "22:\tlearn: 0.4344538\ttotal: 33.8ms\tremaining: 407ms\n",
            "23:\tlearn: 0.4259064\ttotal: 35.2ms\tremaining: 405ms\n",
            "24:\tlearn: 0.4180154\ttotal: 36.6ms\tremaining: 403ms\n",
            "25:\tlearn: 0.4113337\ttotal: 38ms\tremaining: 401ms\n",
            "26:\tlearn: 0.4031679\ttotal: 39.4ms\tremaining: 398ms\n",
            "27:\tlearn: 0.3931049\ttotal: 40.8ms\tremaining: 396ms\n",
            "28:\tlearn: 0.3840165\ttotal: 42.3ms\tremaining: 395ms\n",
            "29:\tlearn: 0.3752867\ttotal: 43.8ms\tremaining: 394ms\n",
            "30:\tlearn: 0.3680118\ttotal: 45.3ms\tremaining: 393ms\n",
            "31:\tlearn: 0.3625442\ttotal: 46.8ms\tremaining: 392ms\n",
            "32:\tlearn: 0.3533334\ttotal: 48.4ms\tremaining: 392ms\n",
            "33:\tlearn: 0.3435207\ttotal: 49.9ms\tremaining: 391ms\n",
            "34:\tlearn: 0.3361470\ttotal: 51.5ms\tremaining: 390ms\n",
            "35:\tlearn: 0.3305384\ttotal: 53ms\tremaining: 389ms\n",
            "36:\tlearn: 0.3246509\ttotal: 54.6ms\tremaining: 388ms\n",
            "37:\tlearn: 0.3148964\ttotal: 56.1ms\tremaining: 387ms\n",
            "38:\tlearn: 0.3093261\ttotal: 57.6ms\tremaining: 385ms\n",
            "39:\tlearn: 0.3030128\ttotal: 59ms\tremaining: 384ms\n",
            "40:\tlearn: 0.2988331\ttotal: 60.7ms\tremaining: 383ms\n",
            "41:\tlearn: 0.2945431\ttotal: 62.2ms\tremaining: 382ms\n",
            "42:\tlearn: 0.2901887\ttotal: 63.7ms\tremaining: 381ms\n",
            "43:\tlearn: 0.2859016\ttotal: 65.2ms\tremaining: 379ms\n",
            "44:\tlearn: 0.2825990\ttotal: 66.9ms\tremaining: 379ms\n",
            "45:\tlearn: 0.2775204\ttotal: 68.3ms\tremaining: 377ms\n",
            "46:\tlearn: 0.2730669\ttotal: 69.8ms\tremaining: 376ms\n",
            "47:\tlearn: 0.2694715\ttotal: 71.7ms\tremaining: 376ms\n",
            "48:\tlearn: 0.2654232\ttotal: 73.2ms\tremaining: 375ms\n",
            "49:\tlearn: 0.2606035\ttotal: 74.7ms\tremaining: 374ms\n",
            "50:\tlearn: 0.2586035\ttotal: 76.1ms\tremaining: 372ms\n",
            "51:\tlearn: 0.2542327\ttotal: 77.8ms\tremaining: 371ms\n",
            "52:\tlearn: 0.2497105\ttotal: 79.4ms\tremaining: 370ms\n",
            "53:\tlearn: 0.2477919\ttotal: 80.9ms\tremaining: 369ms\n",
            "54:\tlearn: 0.2449418\ttotal: 82.6ms\tremaining: 368ms\n",
            "55:\tlearn: 0.2387555\ttotal: 84.2ms\tremaining: 367ms\n",
            "56:\tlearn: 0.2352527\ttotal: 85.7ms\tremaining: 365ms\n",
            "57:\tlearn: 0.2305302\ttotal: 87.1ms\tremaining: 364ms\n",
            "58:\tlearn: 0.2265610\ttotal: 88.6ms\tremaining: 362ms\n",
            "59:\tlearn: 0.2233992\ttotal: 90ms\tremaining: 360ms\n",
            "60:\tlearn: 0.2208753\ttotal: 91.6ms\tremaining: 359ms\n",
            "61:\tlearn: 0.2183419\ttotal: 92.9ms\tremaining: 357ms\n",
            "62:\tlearn: 0.2159254\ttotal: 94.3ms\tremaining: 355ms\n",
            "63:\tlearn: 0.2114301\ttotal: 96ms\tremaining: 354ms\n",
            "64:\tlearn: 0.2091336\ttotal: 97.7ms\tremaining: 353ms\n",
            "65:\tlearn: 0.2055461\ttotal: 99.3ms\tremaining: 352ms\n",
            "66:\tlearn: 0.2027947\ttotal: 101ms\tremaining: 351ms\n",
            "67:\tlearn: 0.2004370\ttotal: 102ms\tremaining: 349ms\n",
            "68:\tlearn: 0.1979258\ttotal: 104ms\tremaining: 348ms\n",
            "69:\tlearn: 0.1957048\ttotal: 105ms\tremaining: 346ms\n",
            "70:\tlearn: 0.1930429\ttotal: 107ms\tremaining: 345ms\n",
            "71:\tlearn: 0.1906182\ttotal: 109ms\tremaining: 344ms\n",
            "72:\tlearn: 0.1877361\ttotal: 110ms\tremaining: 343ms\n",
            "73:\tlearn: 0.1848430\ttotal: 112ms\tremaining: 341ms\n",
            "74:\tlearn: 0.1810691\ttotal: 113ms\tremaining: 339ms\n",
            "75:\tlearn: 0.1795614\ttotal: 115ms\tremaining: 338ms\n",
            "76:\tlearn: 0.1770730\ttotal: 116ms\tremaining: 336ms\n",
            "77:\tlearn: 0.1750881\ttotal: 117ms\tremaining: 334ms\n",
            "78:\tlearn: 0.1724705\ttotal: 119ms\tremaining: 332ms\n",
            "79:\tlearn: 0.1702857\ttotal: 120ms\tremaining: 330ms\n",
            "80:\tlearn: 0.1695469\ttotal: 122ms\tremaining: 329ms\n",
            "81:\tlearn: 0.1681042\ttotal: 123ms\tremaining: 327ms\n",
            "82:\tlearn: 0.1663106\ttotal: 124ms\tremaining: 325ms\n",
            "83:\tlearn: 0.1642602\ttotal: 126ms\tremaining: 323ms\n",
            "84:\tlearn: 0.1628921\ttotal: 127ms\tremaining: 322ms\n",
            "85:\tlearn: 0.1611525\ttotal: 129ms\tremaining: 320ms\n",
            "86:\tlearn: 0.1586971\ttotal: 130ms\tremaining: 318ms\n",
            "87:\tlearn: 0.1573351\ttotal: 131ms\tremaining: 316ms\n",
            "88:\tlearn: 0.1557000\ttotal: 133ms\tremaining: 315ms\n",
            "89:\tlearn: 0.1538426\ttotal: 134ms\tremaining: 313ms\n",
            "90:\tlearn: 0.1511955\ttotal: 135ms\tremaining: 311ms\n",
            "91:\tlearn: 0.1501725\ttotal: 137ms\tremaining: 309ms\n",
            "92:\tlearn: 0.1475384\ttotal: 138ms\tremaining: 308ms\n",
            "93:\tlearn: 0.1451805\ttotal: 140ms\tremaining: 307ms\n",
            "94:\tlearn: 0.1436661\ttotal: 141ms\tremaining: 305ms\n",
            "95:\tlearn: 0.1422281\ttotal: 143ms\tremaining: 304ms\n",
            "96:\tlearn: 0.1407299\ttotal: 144ms\tremaining: 302ms\n",
            "97:\tlearn: 0.1392425\ttotal: 146ms\tremaining: 300ms\n",
            "98:\tlearn: 0.1381847\ttotal: 147ms\tremaining: 299ms\n",
            "99:\tlearn: 0.1371144\ttotal: 149ms\tremaining: 297ms\n",
            "100:\tlearn: 0.1343890\ttotal: 150ms\tremaining: 296ms\n",
            "101:\tlearn: 0.1326136\ttotal: 151ms\tremaining: 294ms\n",
            "102:\tlearn: 0.1313692\ttotal: 153ms\tremaining: 293ms\n",
            "103:\tlearn: 0.1301888\ttotal: 154ms\tremaining: 291ms\n",
            "104:\tlearn: 0.1283631\ttotal: 156ms\tremaining: 289ms\n",
            "105:\tlearn: 0.1273452\ttotal: 157ms\tremaining: 288ms\n",
            "106:\tlearn: 0.1262524\ttotal: 159ms\tremaining: 286ms\n",
            "107:\tlearn: 0.1250240\ttotal: 160ms\tremaining: 285ms\n",
            "108:\tlearn: 0.1231891\ttotal: 161ms\tremaining: 283ms\n",
            "109:\tlearn: 0.1215007\ttotal: 163ms\tremaining: 281ms\n",
            "110:\tlearn: 0.1196121\ttotal: 164ms\tremaining: 280ms\n",
            "111:\tlearn: 0.1179003\ttotal: 166ms\tremaining: 278ms\n",
            "112:\tlearn: 0.1167327\ttotal: 167ms\tremaining: 276ms\n",
            "113:\tlearn: 0.1153636\ttotal: 168ms\tremaining: 275ms\n",
            "114:\tlearn: 0.1141906\ttotal: 170ms\tremaining: 273ms\n",
            "115:\tlearn: 0.1130724\ttotal: 171ms\tremaining: 271ms\n",
            "116:\tlearn: 0.1115619\ttotal: 172ms\tremaining: 270ms\n",
            "117:\tlearn: 0.1104839\ttotal: 174ms\tremaining: 268ms\n",
            "118:\tlearn: 0.1096345\ttotal: 175ms\tremaining: 266ms\n",
            "119:\tlearn: 0.1090085\ttotal: 177ms\tremaining: 265ms\n",
            "120:\tlearn: 0.1081069\ttotal: 178ms\tremaining: 263ms\n",
            "121:\tlearn: 0.1068975\ttotal: 179ms\tremaining: 262ms\n",
            "122:\tlearn: 0.1061177\ttotal: 181ms\tremaining: 260ms\n",
            "123:\tlearn: 0.1050677\ttotal: 182ms\tremaining: 258ms\n",
            "124:\tlearn: 0.1037100\ttotal: 193ms\tremaining: 270ms\n",
            "125:\tlearn: 0.1029952\ttotal: 195ms\tremaining: 269ms\n",
            "126:\tlearn: 0.1023056\ttotal: 197ms\tremaining: 268ms\n",
            "127:\tlearn: 0.1014243\ttotal: 198ms\tremaining: 266ms\n",
            "128:\tlearn: 0.1002455\ttotal: 200ms\tremaining: 265ms\n",
            "129:\tlearn: 0.0995126\ttotal: 201ms\tremaining: 263ms\n",
            "130:\tlearn: 0.0988641\ttotal: 202ms\tremaining: 261ms\n",
            "131:\tlearn: 0.0982608\ttotal: 204ms\tremaining: 259ms\n",
            "132:\tlearn: 0.0977857\ttotal: 205ms\tremaining: 258ms\n",
            "133:\tlearn: 0.0965419\ttotal: 206ms\tremaining: 256ms\n",
            "134:\tlearn: 0.0954677\ttotal: 208ms\tremaining: 254ms\n",
            "135:\tlearn: 0.0944913\ttotal: 209ms\tremaining: 252ms\n",
            "136:\tlearn: 0.0933388\ttotal: 211ms\tremaining: 251ms\n",
            "137:\tlearn: 0.0924100\ttotal: 212ms\tremaining: 249ms\n",
            "138:\tlearn: 0.0915987\ttotal: 213ms\tremaining: 247ms\n",
            "139:\tlearn: 0.0906229\ttotal: 215ms\tremaining: 245ms\n",
            "140:\tlearn: 0.0897164\ttotal: 216ms\tremaining: 244ms\n",
            "141:\tlearn: 0.0889822\ttotal: 218ms\tremaining: 242ms\n",
            "142:\tlearn: 0.0884954\ttotal: 219ms\tremaining: 241ms\n",
            "143:\tlearn: 0.0875802\ttotal: 220ms\tremaining: 239ms\n",
            "144:\tlearn: 0.0867111\ttotal: 222ms\tremaining: 237ms\n",
            "145:\tlearn: 0.0859165\ttotal: 223ms\tremaining: 235ms\n",
            "146:\tlearn: 0.0851647\ttotal: 224ms\tremaining: 234ms\n",
            "147:\tlearn: 0.0843243\ttotal: 226ms\tremaining: 232ms\n",
            "148:\tlearn: 0.0837057\ttotal: 227ms\tremaining: 230ms\n",
            "149:\tlearn: 0.0829809\ttotal: 229ms\tremaining: 229ms\n",
            "150:\tlearn: 0.0821649\ttotal: 230ms\tremaining: 227ms\n",
            "151:\tlearn: 0.0820007\ttotal: 231ms\tremaining: 225ms\n",
            "152:\tlearn: 0.0814313\ttotal: 233ms\tremaining: 224ms\n",
            "153:\tlearn: 0.0810509\ttotal: 234ms\tremaining: 222ms\n",
            "154:\tlearn: 0.0803449\ttotal: 235ms\tremaining: 220ms\n",
            "155:\tlearn: 0.0797078\ttotal: 237ms\tremaining: 219ms\n",
            "156:\tlearn: 0.0790441\ttotal: 238ms\tremaining: 217ms\n",
            "157:\tlearn: 0.0786358\ttotal: 240ms\tremaining: 215ms\n",
            "158:\tlearn: 0.0782940\ttotal: 241ms\tremaining: 214ms\n",
            "159:\tlearn: 0.0778014\ttotal: 242ms\tremaining: 212ms\n",
            "160:\tlearn: 0.0774534\ttotal: 244ms\tremaining: 210ms\n",
            "161:\tlearn: 0.0769737\ttotal: 245ms\tremaining: 209ms\n",
            "162:\tlearn: 0.0764094\ttotal: 247ms\tremaining: 207ms\n",
            "163:\tlearn: 0.0758246\ttotal: 248ms\tremaining: 206ms\n",
            "164:\tlearn: 0.0754053\ttotal: 249ms\tremaining: 204ms\n",
            "165:\tlearn: 0.0746656\ttotal: 251ms\tremaining: 202ms\n",
            "166:\tlearn: 0.0741643\ttotal: 252ms\tremaining: 201ms\n",
            "167:\tlearn: 0.0738132\ttotal: 253ms\tremaining: 199ms\n",
            "168:\tlearn: 0.0734610\ttotal: 255ms\tremaining: 197ms\n",
            "169:\tlearn: 0.0728574\ttotal: 256ms\tremaining: 196ms\n",
            "170:\tlearn: 0.0724089\ttotal: 258ms\tremaining: 194ms\n",
            "171:\tlearn: 0.0715290\ttotal: 259ms\tremaining: 193ms\n",
            "172:\tlearn: 0.0710733\ttotal: 260ms\tremaining: 191ms\n",
            "173:\tlearn: 0.0707232\ttotal: 262ms\tremaining: 189ms\n",
            "174:\tlearn: 0.0699496\ttotal: 263ms\tremaining: 188ms\n",
            "175:\tlearn: 0.0695854\ttotal: 264ms\tremaining: 186ms\n",
            "176:\tlearn: 0.0690898\ttotal: 266ms\tremaining: 185ms\n",
            "177:\tlearn: 0.0687437\ttotal: 267ms\tremaining: 183ms\n",
            "178:\tlearn: 0.0681124\ttotal: 269ms\tremaining: 182ms\n",
            "179:\tlearn: 0.0676407\ttotal: 270ms\tremaining: 180ms\n",
            "180:\tlearn: 0.0671364\ttotal: 271ms\tremaining: 178ms\n",
            "181:\tlearn: 0.0665774\ttotal: 273ms\tremaining: 177ms\n",
            "182:\tlearn: 0.0660244\ttotal: 276ms\tremaining: 176ms\n",
            "183:\tlearn: 0.0655675\ttotal: 278ms\tremaining: 175ms\n",
            "184:\tlearn: 0.0651169\ttotal: 280ms\tremaining: 174ms\n",
            "185:\tlearn: 0.0647891\ttotal: 283ms\tremaining: 173ms\n",
            "186:\tlearn: 0.0647012\ttotal: 284ms\tremaining: 172ms\n",
            "187:\tlearn: 0.0643850\ttotal: 286ms\tremaining: 170ms\n",
            "188:\tlearn: 0.0639563\ttotal: 287ms\tremaining: 169ms\n",
            "189:\tlearn: 0.0634064\ttotal: 290ms\tremaining: 168ms\n",
            "190:\tlearn: 0.0629451\ttotal: 292ms\tremaining: 167ms\n",
            "191:\tlearn: 0.0625183\ttotal: 293ms\tremaining: 165ms\n",
            "192:\tlearn: 0.0620957\ttotal: 295ms\tremaining: 164ms\n",
            "193:\tlearn: 0.0617100\ttotal: 297ms\tremaining: 162ms\n",
            "194:\tlearn: 0.0613028\ttotal: 298ms\tremaining: 160ms\n",
            "195:\tlearn: 0.0608901\ttotal: 300ms\tremaining: 159ms\n",
            "196:\tlearn: 0.0605941\ttotal: 301ms\tremaining: 157ms\n",
            "197:\tlearn: 0.0601361\ttotal: 302ms\tremaining: 156ms\n",
            "198:\tlearn: 0.0598030\ttotal: 304ms\tremaining: 154ms\n",
            "199:\tlearn: 0.0594344\ttotal: 305ms\tremaining: 153ms\n",
            "200:\tlearn: 0.0592258\ttotal: 307ms\tremaining: 151ms\n",
            "201:\tlearn: 0.0588551\ttotal: 308ms\tremaining: 150ms\n",
            "202:\tlearn: 0.0585069\ttotal: 310ms\tremaining: 148ms\n",
            "203:\tlearn: 0.0578806\ttotal: 311ms\tremaining: 147ms\n",
            "204:\tlearn: 0.0575955\ttotal: 313ms\tremaining: 145ms\n",
            "205:\tlearn: 0.0573050\ttotal: 314ms\tremaining: 143ms\n",
            "206:\tlearn: 0.0570764\ttotal: 316ms\tremaining: 142ms\n",
            "207:\tlearn: 0.0566938\ttotal: 318ms\tremaining: 140ms\n",
            "208:\tlearn: 0.0563156\ttotal: 319ms\tremaining: 139ms\n",
            "209:\tlearn: 0.0559824\ttotal: 321ms\tremaining: 137ms\n",
            "210:\tlearn: 0.0558993\ttotal: 322ms\tremaining: 136ms\n",
            "211:\tlearn: 0.0557178\ttotal: 323ms\tremaining: 134ms\n",
            "212:\tlearn: 0.0555880\ttotal: 325ms\tremaining: 133ms\n",
            "213:\tlearn: 0.0552581\ttotal: 326ms\tremaining: 131ms\n",
            "214:\tlearn: 0.0549293\ttotal: 328ms\tremaining: 130ms\n",
            "215:\tlearn: 0.0546157\ttotal: 330ms\tremaining: 128ms\n",
            "216:\tlearn: 0.0543693\ttotal: 331ms\tremaining: 127ms\n",
            "217:\tlearn: 0.0540268\ttotal: 333ms\tremaining: 125ms\n",
            "218:\tlearn: 0.0535770\ttotal: 334ms\tremaining: 124ms\n",
            "219:\tlearn: 0.0535004\ttotal: 336ms\tremaining: 122ms\n",
            "220:\tlearn: 0.0534131\ttotal: 337ms\tremaining: 121ms\n",
            "221:\tlearn: 0.0532488\ttotal: 339ms\tremaining: 119ms\n",
            "222:\tlearn: 0.0529778\ttotal: 341ms\tremaining: 118ms\n",
            "223:\tlearn: 0.0527448\ttotal: 342ms\tremaining: 116ms\n",
            "224:\tlearn: 0.0522156\ttotal: 344ms\tremaining: 115ms\n",
            "225:\tlearn: 0.0519878\ttotal: 345ms\tremaining: 113ms\n",
            "226:\tlearn: 0.0518531\ttotal: 347ms\tremaining: 111ms\n",
            "227:\tlearn: 0.0516902\ttotal: 348ms\tremaining: 110ms\n",
            "228:\tlearn: 0.0514848\ttotal: 350ms\tremaining: 108ms\n",
            "229:\tlearn: 0.0511689\ttotal: 351ms\tremaining: 107ms\n",
            "230:\tlearn: 0.0509180\ttotal: 353ms\tremaining: 105ms\n",
            "231:\tlearn: 0.0506088\ttotal: 354ms\tremaining: 104ms\n",
            "232:\tlearn: 0.0503514\ttotal: 355ms\tremaining: 102ms\n",
            "233:\tlearn: 0.0500425\ttotal: 357ms\tremaining: 101ms\n",
            "234:\tlearn: 0.0497950\ttotal: 358ms\tremaining: 99.1ms\n",
            "235:\tlearn: 0.0495320\ttotal: 360ms\tremaining: 97.5ms\n",
            "236:\tlearn: 0.0492542\ttotal: 361ms\tremaining: 96ms\n",
            "237:\tlearn: 0.0490682\ttotal: 362ms\tremaining: 94.4ms\n",
            "238:\tlearn: 0.0488577\ttotal: 364ms\tremaining: 92.9ms\n",
            "239:\tlearn: 0.0485267\ttotal: 365ms\tremaining: 91.3ms\n",
            "240:\tlearn: 0.0483066\ttotal: 367ms\tremaining: 89.8ms\n",
            "241:\tlearn: 0.0480475\ttotal: 368ms\tremaining: 88.2ms\n",
            "242:\tlearn: 0.0477397\ttotal: 370ms\tremaining: 86.7ms\n",
            "243:\tlearn: 0.0474434\ttotal: 371ms\tremaining: 85.1ms\n",
            "244:\tlearn: 0.0472290\ttotal: 372ms\tremaining: 83.6ms\n",
            "245:\tlearn: 0.0470177\ttotal: 374ms\tremaining: 82ms\n",
            "246:\tlearn: 0.0468063\ttotal: 375ms\tremaining: 80.5ms\n",
            "247:\tlearn: 0.0465965\ttotal: 376ms\tremaining: 78.9ms\n",
            "248:\tlearn: 0.0463005\ttotal: 379ms\tremaining: 77.5ms\n",
            "249:\tlearn: 0.0460593\ttotal: 381ms\tremaining: 76.1ms\n",
            "250:\tlearn: 0.0458378\ttotal: 383ms\tremaining: 74.8ms\n",
            "251:\tlearn: 0.0455161\ttotal: 386ms\tremaining: 73.5ms\n",
            "252:\tlearn: 0.0452380\ttotal: 387ms\tremaining: 71.9ms\n",
            "253:\tlearn: 0.0450714\ttotal: 388ms\tremaining: 70.3ms\n",
            "254:\tlearn: 0.0447883\ttotal: 390ms\tremaining: 68.8ms\n",
            "255:\tlearn: 0.0446127\ttotal: 391ms\tremaining: 67.2ms\n",
            "256:\tlearn: 0.0444639\ttotal: 393ms\tremaining: 65.7ms\n",
            "257:\tlearn: 0.0442872\ttotal: 394ms\tremaining: 64.1ms\n",
            "258:\tlearn: 0.0440818\ttotal: 395ms\tremaining: 62.6ms\n",
            "259:\tlearn: 0.0438083\ttotal: 397ms\tremaining: 61ms\n",
            "260:\tlearn: 0.0436233\ttotal: 398ms\tremaining: 59.5ms\n",
            "261:\tlearn: 0.0433367\ttotal: 400ms\tremaining: 58ms\n",
            "262:\tlearn: 0.0432275\ttotal: 401ms\tremaining: 56.4ms\n",
            "263:\tlearn: 0.0430079\ttotal: 402ms\tremaining: 54.9ms\n",
            "264:\tlearn: 0.0428262\ttotal: 404ms\tremaining: 53.3ms\n",
            "265:\tlearn: 0.0425514\ttotal: 405ms\tremaining: 51.8ms\n",
            "266:\tlearn: 0.0423637\ttotal: 407ms\tremaining: 50.3ms\n",
            "267:\tlearn: 0.0422084\ttotal: 408ms\tremaining: 48.7ms\n",
            "268:\tlearn: 0.0419705\ttotal: 409ms\tremaining: 47.2ms\n",
            "269:\tlearn: 0.0417749\ttotal: 411ms\tremaining: 45.6ms\n",
            "270:\tlearn: 0.0416200\ttotal: 412ms\tremaining: 44.1ms\n",
            "271:\tlearn: 0.0413692\ttotal: 414ms\tremaining: 42.6ms\n",
            "272:\tlearn: 0.0413058\ttotal: 415ms\tremaining: 41ms\n",
            "273:\tlearn: 0.0410471\ttotal: 416ms\tremaining: 39.5ms\n",
            "274:\tlearn: 0.0409308\ttotal: 418ms\tremaining: 38ms\n",
            "275:\tlearn: 0.0407193\ttotal: 419ms\tremaining: 36.4ms\n",
            "276:\tlearn: 0.0406239\ttotal: 420ms\tremaining: 34.9ms\n",
            "277:\tlearn: 0.0404556\ttotal: 422ms\tremaining: 33.4ms\n",
            "278:\tlearn: 0.0403176\ttotal: 423ms\tremaining: 31.9ms\n",
            "279:\tlearn: 0.0401418\ttotal: 425ms\tremaining: 30.3ms\n",
            "280:\tlearn: 0.0399401\ttotal: 426ms\tremaining: 28.8ms\n",
            "281:\tlearn: 0.0398173\ttotal: 427ms\tremaining: 27.3ms\n",
            "282:\tlearn: 0.0396260\ttotal: 429ms\tremaining: 25.8ms\n",
            "283:\tlearn: 0.0395407\ttotal: 430ms\tremaining: 24.2ms\n",
            "284:\tlearn: 0.0393377\ttotal: 431ms\tremaining: 22.7ms\n",
            "285:\tlearn: 0.0392164\ttotal: 433ms\tremaining: 21.2ms\n",
            "286:\tlearn: 0.0391157\ttotal: 434ms\tremaining: 19.7ms\n",
            "287:\tlearn: 0.0388820\ttotal: 435ms\tremaining: 18.1ms\n",
            "288:\tlearn: 0.0387449\ttotal: 437ms\tremaining: 16.6ms\n",
            "289:\tlearn: 0.0385267\ttotal: 438ms\tremaining: 15.1ms\n",
            "290:\tlearn: 0.0383161\ttotal: 440ms\tremaining: 13.6ms\n",
            "291:\tlearn: 0.0381674\ttotal: 441ms\tremaining: 12.1ms\n",
            "292:\tlearn: 0.0379754\ttotal: 442ms\tremaining: 10.6ms\n",
            "293:\tlearn: 0.0377831\ttotal: 444ms\tremaining: 9.05ms\n",
            "294:\tlearn: 0.0376700\ttotal: 445ms\tremaining: 7.54ms\n",
            "295:\tlearn: 0.0374651\ttotal: 446ms\tremaining: 6.03ms\n",
            "296:\tlearn: 0.0372820\ttotal: 448ms\tremaining: 4.52ms\n",
            "297:\tlearn: 0.0371270\ttotal: 449ms\tremaining: 3.01ms\n",
            "298:\tlearn: 0.0369352\ttotal: 450ms\tremaining: 1.51ms\n",
            "299:\tlearn: 0.0367457\ttotal: 453ms\tremaining: 0us\n",
            "1.0\n"
          ],
          "name": "stdout"
        }
      ]
    },
    {
      "cell_type": "code",
      "metadata": {
        "colab": {
          "base_uri": "https://localhost:8080/"
        },
        "id": "xJLhp_yg_c-d",
        "outputId": "4e6fd974-c9f1-4276-8439-9084ca882b32"
      },
      "source": [
        "ct_pred = bc_model.predict(X_val)\n",
        "print(ct_model.score(X_val, y_val))"
      ],
      "execution_count": 101,
      "outputs": [
        {
          "output_type": "stream",
          "text": [
            "0.8809523809523809\n"
          ],
          "name": "stdout"
        }
      ]
    },
    {
      "cell_type": "code",
      "metadata": {
        "colab": {
          "base_uri": "https://localhost:8080/"
        },
        "id": "cz6V2v5t_tqr",
        "outputId": "b91bc924-1c42-47e8-9542-4a3bb29682bb"
      },
      "source": [
        "print(Counter(bc_pred))"
      ],
      "execution_count": 102,
      "outputs": [
        {
          "output_type": "stream",
          "text": [
            "Counter({0: 73, 1: 38, 6: 26, 3: 17, 4: 11, 5: 2, 2: 1})\n"
          ],
          "name": "stdout"
        }
      ]
    },
    {
      "cell_type": "code",
      "metadata": {
        "colab": {
          "base_uri": "https://localhost:8080/"
        },
        "id": "oq8xkuhh_5f-",
        "outputId": "6a597499-7b19-41ed-a9d3-12fddbdf58b9"
      },
      "source": [
        "#Create a confusion matrix\n",
        "from sklearn.metrics import confusion_matrix\n",
        "\n",
        "#y_test as first argument and the preds as second argument \n",
        "confusion_matrix(y_val, ct_pred)"
      ],
      "execution_count": 103,
      "outputs": [
        {
          "output_type": "execute_result",
          "data": {
            "text/plain": [
              "array([[71,  0,  0,  0,  0,  0,  0,  0],\n",
              "       [ 2, 31,  0,  4,  1,  0,  1,  0],\n",
              "       [ 0,  1,  0,  0,  0,  0,  0,  0],\n",
              "       [ 0,  1,  0,  0,  0,  0,  0,  0],\n",
              "       [ 0,  4,  0, 13,  1,  0,  0,  0],\n",
              "       [ 0,  0,  0,  0,  9,  0,  1,  0],\n",
              "       [ 0,  0,  0,  0,  0,  2,  0,  0],\n",
              "       [ 0,  1,  1,  0,  0,  0, 24,  0]])"
            ]
          },
          "metadata": {
            "tags": []
          },
          "execution_count": 103
        }
      ]
    },
    {
      "cell_type": "code",
      "metadata": {
        "colab": {
          "base_uri": "https://localhost:8080/",
          "height": 337
        },
        "id": "2LNxpffWAGWL",
        "outputId": "f93ff828-221c-4d91-9a75-11eeb8cb0652"
      },
      "source": [
        "sns.distplot(bc_pred)"
      ],
      "execution_count": 104,
      "outputs": [
        {
          "output_type": "stream",
          "text": [
            "/usr/local/lib/python3.6/dist-packages/seaborn/distributions.py:2551: FutureWarning: `distplot` is a deprecated function and will be removed in a future version. Please adapt your code to use either `displot` (a figure-level function with similar flexibility) or `histplot` (an axes-level function for histograms).\n",
            "  warnings.warn(msg, FutureWarning)\n"
          ],
          "name": "stderr"
        },
        {
          "output_type": "execute_result",
          "data": {
            "text/plain": [
              "<matplotlib.axes._subplots.AxesSubplot at 0x7fb4940c3f98>"
            ]
          },
          "metadata": {
            "tags": []
          },
          "execution_count": 104
        },
        {
          "output_type": "display_data",
          "data": {
            "image/png": "[encoded data removed]",
            "text/plain": [
              "<Figure size 432x288 with 1 Axes>"
            ]
          },
          "metadata": {
            "tags": [],
            "needs_background": "light"
          }
        }
      ]
    },
    {
      "cell_type": "code",
      "metadata": {
        "colab": {
          "base_uri": "https://localhost:8080/"
        },
        "id": "glBxdMFhAXiP",
        "outputId": "ce886d7d-642b-4882-c5d0-f602bf9c9772"
      },
      "source": [
        "import collections\n",
        "from collections import Counter\n",
        "\n",
        "counter = Counter(ct_pred)\n",
        "for k,v in counter.items():\n",
        "\tper = v / len(ct_pred) * 100\n",
        "\tprint('Class=%s, Count=%d, Percentage=%.3f%%' % (k, v, per))"
      ],
      "execution_count": 105,
      "outputs": [
        {
          "output_type": "stream",
          "text": [
            "Class=6, Count=26, Percentage=15.476%\n",
            "Class=0, Count=73, Percentage=43.452%\n",
            "Class=1, Count=38, Percentage=22.619%\n",
            "Class=5, Count=2, Percentage=1.190%\n",
            "Class=3, Count=17, Percentage=10.119%\n",
            "Class=4, Count=11, Percentage=6.548%\n",
            "Class=2, Count=1, Percentage=0.595%\n"
          ],
          "name": "stdout"
        }
      ]
    },
    {
      "cell_type": "markdown",
      "metadata": {
        "id": "-QFwevv_SSFj"
      },
      "source": [
        "Random Forest"
      ]
    },
    {
      "cell_type": "code",
      "metadata": {
        "colab": {
          "base_uri": "https://localhost:8080/"
        },
        "id": "6wYrMpVNSZU-",
        "outputId": "114b0b84-25a7-47f8-dfc8-3e942fc1b3dd"
      },
      "source": [
        "from sklearn.ensemble import RandomForestClassifier\n",
        "\n",
        "rf_model = RandomForestClassifier(class_weight='balanced', n_estimators=500, max_depth=10, random_state=1).fit(X_train, y_train)\n",
        "print(rf_model.score(X_train, y_train))"
      ],
      "execution_count": 106,
      "outputs": [
        {
          "output_type": "stream",
          "text": [
            "1.0\n"
          ],
          "name": "stdout"
        }
      ]
    },
    {
      "cell_type": "code",
      "metadata": {
        "colab": {
          "base_uri": "https://localhost:8080/"
        },
        "id": "howaoPwDTWld",
        "outputId": "d0cc8f3e-d768-44b1-df91-fd722426471d"
      },
      "source": [
        "rf_pred = bc_model.predict(X_val)\n",
        "print(rf_model.score(X_val, y_val))"
      ],
      "execution_count": 107,
      "outputs": [
        {
          "output_type": "stream",
          "text": [
            "0.8571428571428571\n"
          ],
          "name": "stdout"
        }
      ]
    },
    {
      "cell_type": "code",
      "metadata": {
        "colab": {
          "base_uri": "https://localhost:8080/"
        },
        "id": "J1Fd12pDThSx",
        "outputId": "10cc0352-2ef8-4ecb-d9a6-e7342e55cbf1"
      },
      "source": [
        "print(Counter(rf_pred))"
      ],
      "execution_count": 108,
      "outputs": [
        {
          "output_type": "stream",
          "text": [
            "Counter({0: 73, 1: 38, 6: 26, 3: 17, 4: 11, 5: 2, 2: 1})\n"
          ],
          "name": "stdout"
        }
      ]
    },
    {
      "cell_type": "code",
      "metadata": {
        "colab": {
          "base_uri": "https://localhost:8080/"
        },
        "id": "3ZhCdk4UTpdz",
        "outputId": "aa57e19c-1b3d-4450-f06d-8fe4f7a09359"
      },
      "source": [
        "#Create a confusion matrix\n",
        "from sklearn.metrics import confusion_matrix\n",
        "\n",
        "#y_test as first argument and the preds as second argument \n",
        "confusion_matrix(y_val, rf_pred)"
      ],
      "execution_count": 109,
      "outputs": [
        {
          "output_type": "execute_result",
          "data": {
            "text/plain": [
              "array([[71,  0,  0,  0,  0,  0,  0,  0],\n",
              "       [ 2, 31,  0,  4,  1,  0,  1,  0],\n",
              "       [ 0,  1,  0,  0,  0,  0,  0,  0],\n",
              "       [ 0,  1,  0,  0,  0,  0,  0,  0],\n",
              "       [ 0,  4,  0, 13,  1,  0,  0,  0],\n",
              "       [ 0,  0,  0,  0,  9,  0,  1,  0],\n",
              "       [ 0,  0,  0,  0,  0,  2,  0,  0],\n",
              "       [ 0,  1,  1,  0,  0,  0, 24,  0]])"
            ]
          },
          "metadata": {
            "tags": []
          },
          "execution_count": 109
        }
      ]
    },
    {
      "cell_type": "code",
      "metadata": {
        "colab": {
          "base_uri": "https://localhost:8080/",
          "height": 337
        },
        "id": "H5qKOpXqT0fW",
        "outputId": "033595df-89a8-4d2b-b90d-8e939f5a4201"
      },
      "source": [
        "sns.distplot(rf_pred)"
      ],
      "execution_count": 110,
      "outputs": [
        {
          "output_type": "stream",
          "text": [
            "/usr/local/lib/python3.6/dist-packages/seaborn/distributions.py:2551: FutureWarning: `distplot` is a deprecated function and will be removed in a future version. Please adapt your code to use either `displot` (a figure-level function with similar flexibility) or `histplot` (an axes-level function for histograms).\n",
            "  warnings.warn(msg, FutureWarning)\n"
          ],
          "name": "stderr"
        },
        {
          "output_type": "execute_result",
          "data": {
            "text/plain": [
              "<matplotlib.axes._subplots.AxesSubplot at 0x7fb49443a748>"
            ]
          },
          "metadata": {
            "tags": []
          },
          "execution_count": 110
        },
        {
          "output_type": "display_data",
          "data": {
            "image/png": "[encoded data removed]",
            "text/plain": [
              "<Figure size 432x288 with 1 Axes>"
            ]
          },
          "metadata": {
            "tags": [],
            "needs_background": "light"
          }
        }
      ]
    },
    {
      "cell_type": "code",
      "metadata": {
        "colab": {
          "base_uri": "https://localhost:8080/"
        },
        "id": "FBQLu5PXT5gm",
        "outputId": "b40ca23e-e1b6-40ad-9696-c5da9b0a2309"
      },
      "source": [
        "import collections\n",
        "from collections import Counter\n",
        "\n",
        "counter = Counter(rf_pred)\n",
        "for k,v in counter.items():\n",
        "\tper = v / len(rf_pred) * 100\n",
        "\tprint('Class=%s, Count=%d, Percentage=%.3f%%' % (k, v, per))"
      ],
      "execution_count": 111,
      "outputs": [
        {
          "output_type": "stream",
          "text": [
            "Class=6, Count=26, Percentage=15.476%\n",
            "Class=0, Count=73, Percentage=43.452%\n",
            "Class=1, Count=38, Percentage=22.619%\n",
            "Class=5, Count=2, Percentage=1.190%\n",
            "Class=3, Count=17, Percentage=10.119%\n",
            "Class=4, Count=11, Percentage=6.548%\n",
            "Class=2, Count=1, Percentage=0.595%\n"
          ],
          "name": "stdout"
        }
      ]
    }
  ]
}