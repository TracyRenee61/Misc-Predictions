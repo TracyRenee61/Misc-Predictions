{
  "nbformat": 4,
  "nbformat_minor": 0,
  "metadata": {
    "colab": {
      "name": "E-Coli - sklearn & statsmodels.ipynb",
      "provenance": []
    },
    "kernelspec": {
      "name": "python3",
      "display_name": "Python 3"
    }
  },
  "cells": [
    {
      "cell_type": "markdown",
      "metadata": {
        "id": "5y0J8sjxbuA_"
      },
      "source": [
        "The E Coli Imbalanced Dataset\n",
        "\n",
        "The dataset describes the problem of classifying E.coli proteins using their amino acid sequences in their cell localization sites. That is, predicting how a protein will bind to a cell based on the chemical composition of the protein before it is folded.\n",
        "\n",
        "The dataset is credited to Kenta Nakai and was developed into its current form by Paul Horton and Kenta Nakai in their 1996 paper titled “A Probabilistic Classification System For Predicting The Cellular Localization Sites Of Proteins.” In it, they achieved a classification accuracy of 81%.\n",
        "\n",
        "The dataset is comprised of 336 examples of E.coli proteins and each example is described using seven input variables calculated from the proteins amino acid sequence.\n",
        "\n",
        "Ignoring the sequence name, the input features are described as follows:\n",
        "\n",
        "mcg: McGeoch’s method for signal sequence recognition.\n",
        "\n",
        "gvh: von Heijne’s method for signal sequence recognition.\n",
        "\n",
        "lip: von Heijne’s Signal Peptidase II consensus sequence score.\n",
        "\n",
        "chg: Presence of charge on N-terminus of predicted lipoproteins.\n",
        "\n",
        "aac: score of discriminant analysis of the amino acid content of outer membrane and periplasmic proteins.\n",
        "\n",
        "alm1: score of the ALOM membrane-spanning region prediction program.\n",
        "\n",
        "alm2: score of ALOM program after excluding putative cleavable signal regions from the sequence.\n",
        "\n",
        "There are eight classes described as follows:\n",
        "\n",
        "cp: cytoplasm\n",
        "\n",
        "im: inner membrane without signal sequence\n",
        "\n",
        "pp: periplasm\n",
        "\n",
        "imU: inner membrane, non cleavable signal sequence\n",
        "\n",
        "om: outer membrane\n",
        "\n",
        "omL: outer membrane lipoprotein\n",
        "\n",
        "imL: inner membrane lipoprotein\n",
        "\n",
        "imS: inner membrane, cleavable signal sequence\n",
        "\n"
      ]
    },
    {
      "cell_type": "markdown",
      "metadata": {
        "id": "Ip34kQ-Jqjj_"
      },
      "source": [
        "Load libraries"
      ]
    },
    {
      "cell_type": "code",
      "metadata": {
        "id": "wIYpYF1Jpiql"
      },
      "source": [
        "#import libraries\n",
        "import pandas as pd\n",
        "import numpy as np\n",
        "import matplotlib.pyplot as plt\n",
        "%matplotlib inline\n",
        "import seaborn as sns"
      ],
      "execution_count": 1,
      "outputs": []
    },
    {
      "cell_type": "markdown",
      "metadata": {
        "id": "sf1ETkFrqo5i"
      },
      "source": [
        "Load datasets"
      ]
    },
    {
      "cell_type": "code",
      "metadata": {
        "id": "ujZgjI15qxC3"
      },
      "source": [
        "#Load datasets\n",
        "train=pd.read_csv(\"https://raw.githubusercontent.com/jbrownlee/Datasets/master/ecoli.csv\")\n",
        "train.columns = ['mcg','gvh', 'lip','chg','aac','alm1','alm2', 'result']"
      ],
      "execution_count": 2,
      "outputs": []
    },
    {
      "cell_type": "code",
      "metadata": {
        "id": "8oyz7qMurSqE",
        "colab": {
          "base_uri": "https://localhost:8080/",
          "height": 407
        },
        "outputId": "29b56f7e-43f8-492f-c7b6-85c3ef60da72"
      },
      "source": [
        "train"
      ],
      "execution_count": 3,
      "outputs": [
        {
          "output_type": "execute_result",
          "data": {
            "text/html": [
              "<div>\n",
              "<style scoped>\n",
              "    .dataframe tbody tr th:only-of-type {\n",
              "        vertical-align: middle;\n",
              "    }\n",
              "\n",
              "    .dataframe tbody tr th {\n",
              "        vertical-align: top;\n",
              "    }\n",
              "\n",
              "    .dataframe thead th {\n",
              "        text-align: right;\n",
              "    }\n",
              "</style>\n",
              "<table border=\"1\" class=\"dataframe\">\n",
              "  <thead>\n",
              "    <tr style=\"text-align: right;\">\n",
              "      <th></th>\n",
              "      <th>mcg</th>\n",
              "      <th>gvh</th>\n",
              "      <th>lip</th>\n",
              "      <th>chg</th>\n",
              "      <th>aac</th>\n",
              "      <th>alm1</th>\n",
              "      <th>alm2</th>\n",
              "      <th>result</th>\n",
              "    </tr>\n",
              "  </thead>\n",
              "  <tbody>\n",
              "    <tr>\n",
              "      <th>0</th>\n",
              "      <td>0.07</td>\n",
              "      <td>0.40</td>\n",
              "      <td>0.48</td>\n",
              "      <td>0.5</td>\n",
              "      <td>0.54</td>\n",
              "      <td>0.35</td>\n",
              "      <td>0.44</td>\n",
              "      <td>cp</td>\n",
              "    </tr>\n",
              "    <tr>\n",
              "      <th>1</th>\n",
              "      <td>0.56</td>\n",
              "      <td>0.40</td>\n",
              "      <td>0.48</td>\n",
              "      <td>0.5</td>\n",
              "      <td>0.49</td>\n",
              "      <td>0.37</td>\n",
              "      <td>0.46</td>\n",
              "      <td>cp</td>\n",
              "    </tr>\n",
              "    <tr>\n",
              "      <th>2</th>\n",
              "      <td>0.59</td>\n",
              "      <td>0.49</td>\n",
              "      <td>0.48</td>\n",
              "      <td>0.5</td>\n",
              "      <td>0.52</td>\n",
              "      <td>0.45</td>\n",
              "      <td>0.36</td>\n",
              "      <td>cp</td>\n",
              "    </tr>\n",
              "    <tr>\n",
              "      <th>3</th>\n",
              "      <td>0.23</td>\n",
              "      <td>0.32</td>\n",
              "      <td>0.48</td>\n",
              "      <td>0.5</td>\n",
              "      <td>0.55</td>\n",
              "      <td>0.25</td>\n",
              "      <td>0.35</td>\n",
              "      <td>cp</td>\n",
              "    </tr>\n",
              "    <tr>\n",
              "      <th>4</th>\n",
              "      <td>0.67</td>\n",
              "      <td>0.39</td>\n",
              "      <td>0.48</td>\n",
              "      <td>0.5</td>\n",
              "      <td>0.36</td>\n",
              "      <td>0.38</td>\n",
              "      <td>0.46</td>\n",
              "      <td>cp</td>\n",
              "    </tr>\n",
              "    <tr>\n",
              "      <th>...</th>\n",
              "      <td>...</td>\n",
              "      <td>...</td>\n",
              "      <td>...</td>\n",
              "      <td>...</td>\n",
              "      <td>...</td>\n",
              "      <td>...</td>\n",
              "      <td>...</td>\n",
              "      <td>...</td>\n",
              "    </tr>\n",
              "    <tr>\n",
              "      <th>330</th>\n",
              "      <td>0.74</td>\n",
              "      <td>0.56</td>\n",
              "      <td>0.48</td>\n",
              "      <td>0.5</td>\n",
              "      <td>0.47</td>\n",
              "      <td>0.68</td>\n",
              "      <td>0.30</td>\n",
              "      <td>pp</td>\n",
              "    </tr>\n",
              "    <tr>\n",
              "      <th>331</th>\n",
              "      <td>0.71</td>\n",
              "      <td>0.57</td>\n",
              "      <td>0.48</td>\n",
              "      <td>0.5</td>\n",
              "      <td>0.48</td>\n",
              "      <td>0.35</td>\n",
              "      <td>0.32</td>\n",
              "      <td>pp</td>\n",
              "    </tr>\n",
              "    <tr>\n",
              "      <th>332</th>\n",
              "      <td>0.61</td>\n",
              "      <td>0.60</td>\n",
              "      <td>0.48</td>\n",
              "      <td>0.5</td>\n",
              "      <td>0.44</td>\n",
              "      <td>0.39</td>\n",
              "      <td>0.38</td>\n",
              "      <td>pp</td>\n",
              "    </tr>\n",
              "    <tr>\n",
              "      <th>333</th>\n",
              "      <td>0.59</td>\n",
              "      <td>0.61</td>\n",
              "      <td>0.48</td>\n",
              "      <td>0.5</td>\n",
              "      <td>0.42</td>\n",
              "      <td>0.42</td>\n",
              "      <td>0.37</td>\n",
              "      <td>pp</td>\n",
              "    </tr>\n",
              "    <tr>\n",
              "      <th>334</th>\n",
              "      <td>0.74</td>\n",
              "      <td>0.74</td>\n",
              "      <td>0.48</td>\n",
              "      <td>0.5</td>\n",
              "      <td>0.31</td>\n",
              "      <td>0.53</td>\n",
              "      <td>0.52</td>\n",
              "      <td>pp</td>\n",
              "    </tr>\n",
              "  </tbody>\n",
              "</table>\n",
              "<p>335 rows × 8 columns</p>\n",
              "</div>"
            ],
            "text/plain": [
              "      mcg   gvh   lip  chg   aac  alm1  alm2 result\n",
              "0    0.07  0.40  0.48  0.5  0.54  0.35  0.44     cp\n",
              "1    0.56  0.40  0.48  0.5  0.49  0.37  0.46     cp\n",
              "2    0.59  0.49  0.48  0.5  0.52  0.45  0.36     cp\n",
              "3    0.23  0.32  0.48  0.5  0.55  0.25  0.35     cp\n",
              "4    0.67  0.39  0.48  0.5  0.36  0.38  0.46     cp\n",
              "..    ...   ...   ...  ...   ...   ...   ...    ...\n",
              "330  0.74  0.56  0.48  0.5  0.47  0.68  0.30     pp\n",
              "331  0.71  0.57  0.48  0.5  0.48  0.35  0.32     pp\n",
              "332  0.61  0.60  0.48  0.5  0.44  0.39  0.38     pp\n",
              "333  0.59  0.61  0.48  0.5  0.42  0.42  0.37     pp\n",
              "334  0.74  0.74  0.48  0.5  0.31  0.53  0.52     pp\n",
              "\n",
              "[335 rows x 8 columns]"
            ]
          },
          "metadata": {
            "tags": []
          },
          "execution_count": 3
        }
      ]
    },
    {
      "cell_type": "markdown",
      "metadata": {
        "id": "PpeywPghsYhw"
      },
      "source": [
        "Check for null values"
      ]
    },
    {
      "cell_type": "code",
      "metadata": {
        "id": "U9BVsDafsbSR",
        "colab": {
          "base_uri": "https://localhost:8080/"
        },
        "outputId": "ff0a50ff-25b8-4028-ad89-6a4210f1fb6a"
      },
      "source": [
        "train.isnull().sum()"
      ],
      "execution_count": 4,
      "outputs": [
        {
          "output_type": "execute_result",
          "data": {
            "text/plain": [
              "mcg       0\n",
              "gvh       0\n",
              "lip       0\n",
              "chg       0\n",
              "aac       0\n",
              "alm1      0\n",
              "alm2      0\n",
              "result    0\n",
              "dtype: int64"
            ]
          },
          "metadata": {
            "tags": []
          },
          "execution_count": 4
        }
      ]
    },
    {
      "cell_type": "markdown",
      "metadata": {
        "id": "6rCsMOZjsjCq"
      },
      "source": [
        "Graphical representation of data"
      ]
    },
    {
      "cell_type": "markdown",
      "metadata": {
        "id": "vXRTwxdxtJuM"
      },
      "source": [
        "Compare result with independant variables"
      ]
    },
    {
      "cell_type": "code",
      "metadata": {
        "id": "cRUflpZ7tRVU",
        "colab": {
          "base_uri": "https://localhost:8080/",
          "height": 287
        },
        "outputId": "693edccd-8d2b-4685-fb5c-0ac420b0e5ee"
      },
      "source": [
        "result = train.groupby(by=(\"result\")).sum().reset_index()\n",
        "result"
      ],
      "execution_count": 5,
      "outputs": [
        {
          "output_type": "execute_result",
          "data": {
            "text/html": [
              "<div>\n",
              "<style scoped>\n",
              "    .dataframe tbody tr th:only-of-type {\n",
              "        vertical-align: middle;\n",
              "    }\n",
              "\n",
              "    .dataframe tbody tr th {\n",
              "        vertical-align: top;\n",
              "    }\n",
              "\n",
              "    .dataframe thead th {\n",
              "        text-align: right;\n",
              "    }\n",
              "</style>\n",
              "<table border=\"1\" class=\"dataframe\">\n",
              "  <thead>\n",
              "    <tr style=\"text-align: right;\">\n",
              "      <th></th>\n",
              "      <th>result</th>\n",
              "      <th>mcg</th>\n",
              "      <th>gvh</th>\n",
              "      <th>lip</th>\n",
              "      <th>chg</th>\n",
              "      <th>aac</th>\n",
              "      <th>alm1</th>\n",
              "      <th>alm2</th>\n",
              "    </tr>\n",
              "  </thead>\n",
              "  <tbody>\n",
              "    <tr>\n",
              "      <th>0</th>\n",
              "      <td>cp</td>\n",
              "      <td>51.50</td>\n",
              "      <td>58.30</td>\n",
              "      <td>68.16</td>\n",
              "      <td>71.0</td>\n",
              "      <td>64.43</td>\n",
              "      <td>44.47</td>\n",
              "      <td>56.17</td>\n",
              "    </tr>\n",
              "    <tr>\n",
              "      <th>1</th>\n",
              "      <td>im</td>\n",
              "      <td>36.84</td>\n",
              "      <td>38.24</td>\n",
              "      <td>37.48</td>\n",
              "      <td>38.5</td>\n",
              "      <td>41.28</td>\n",
              "      <td>58.33</td>\n",
              "      <td>56.24</td>\n",
              "    </tr>\n",
              "    <tr>\n",
              "      <th>2</th>\n",
              "      <td>imL</td>\n",
              "      <td>1.45</td>\n",
              "      <td>0.94</td>\n",
              "      <td>2.00</td>\n",
              "      <td>1.5</td>\n",
              "      <td>0.91</td>\n",
              "      <td>1.29</td>\n",
              "      <td>1.14</td>\n",
              "    </tr>\n",
              "    <tr>\n",
              "      <th>3</th>\n",
              "      <td>imS</td>\n",
              "      <td>1.48</td>\n",
              "      <td>1.02</td>\n",
              "      <td>0.96</td>\n",
              "      <td>1.0</td>\n",
              "      <td>1.07</td>\n",
              "      <td>1.28</td>\n",
              "      <td>1.14</td>\n",
              "    </tr>\n",
              "    <tr>\n",
              "      <th>4</th>\n",
              "      <td>imU</td>\n",
              "      <td>25.41</td>\n",
              "      <td>16.06</td>\n",
              "      <td>17.32</td>\n",
              "      <td>17.5</td>\n",
              "      <td>19.56</td>\n",
              "      <td>26.04</td>\n",
              "      <td>26.18</td>\n",
              "    </tr>\n",
              "    <tr>\n",
              "      <th>5</th>\n",
              "      <td>om</td>\n",
              "      <td>13.45</td>\n",
              "      <td>14.20</td>\n",
              "      <td>10.12</td>\n",
              "      <td>10.0</td>\n",
              "      <td>14.78</td>\n",
              "      <td>9.25</td>\n",
              "      <td>6.11</td>\n",
              "    </tr>\n",
              "    <tr>\n",
              "      <th>6</th>\n",
              "      <td>omL</td>\n",
              "      <td>3.49</td>\n",
              "      <td>2.56</td>\n",
              "      <td>5.00</td>\n",
              "      <td>2.5</td>\n",
              "      <td>2.71</td>\n",
              "      <td>2.82</td>\n",
              "      <td>1.11</td>\n",
              "    </tr>\n",
              "    <tr>\n",
              "      <th>7</th>\n",
              "      <td>pp</td>\n",
              "      <td>33.91</td>\n",
              "      <td>36.39</td>\n",
              "      <td>24.96</td>\n",
              "      <td>26.0</td>\n",
              "      <td>22.71</td>\n",
              "      <td>24.34</td>\n",
              "      <td>19.47</td>\n",
              "    </tr>\n",
              "  </tbody>\n",
              "</table>\n",
              "</div>"
            ],
            "text/plain": [
              "  result    mcg    gvh    lip   chg    aac   alm1   alm2\n",
              "0     cp  51.50  58.30  68.16  71.0  64.43  44.47  56.17\n",
              "1     im  36.84  38.24  37.48  38.5  41.28  58.33  56.24\n",
              "2    imL   1.45   0.94   2.00   1.5   0.91   1.29   1.14\n",
              "3    imS   1.48   1.02   0.96   1.0   1.07   1.28   1.14\n",
              "4    imU  25.41  16.06  17.32  17.5  19.56  26.04  26.18\n",
              "5     om  13.45  14.20  10.12  10.0  14.78   9.25   6.11\n",
              "6    omL   3.49   2.56   5.00   2.5   2.71   2.82   1.11\n",
              "7     pp  33.91  36.39  24.96  26.0  22.71  24.34  19.47"
            ]
          },
          "metadata": {
            "tags": []
          },
          "execution_count": 5
        }
      ]
    },
    {
      "cell_type": "markdown",
      "metadata": {
        "id": "hcWq23gPCklx"
      },
      "source": [
        "Label Encode result"
      ]
    },
    {
      "cell_type": "code",
      "metadata": {
        "id": "ebJVqqPoI8uF",
        "colab": {
          "base_uri": "https://localhost:8080/"
        },
        "outputId": "85316172-cf42-4aff-f497-af5aed038437"
      },
      "source": [
        "train.info()"
      ],
      "execution_count": 6,
      "outputs": [
        {
          "output_type": "stream",
          "text": [
            "<class 'pandas.core.frame.DataFrame'>\n",
            "RangeIndex: 335 entries, 0 to 334\n",
            "Data columns (total 8 columns):\n",
            " #   Column  Non-Null Count  Dtype  \n",
            "---  ------  --------------  -----  \n",
            " 0   mcg     335 non-null    float64\n",
            " 1   gvh     335 non-null    float64\n",
            " 2   lip     335 non-null    float64\n",
            " 3   chg     335 non-null    float64\n",
            " 4   aac     335 non-null    float64\n",
            " 5   alm1    335 non-null    float64\n",
            " 6   alm2    335 non-null    float64\n",
            " 7   result  335 non-null    object \n",
            "dtypes: float64(7), object(1)\n",
            "memory usage: 21.1+ KB\n"
          ],
          "name": "stdout"
        }
      ]
    },
    {
      "cell_type": "code",
      "metadata": {
        "id": "MhpNxfAbCojl",
        "colab": {
          "base_uri": "https://localhost:8080/"
        },
        "outputId": "d1d412de-55a0-43e9-ffa5-44b7b613d59c"
      },
      "source": [
        "from sklearn import preprocessing\n",
        "le = preprocessing.LabelEncoder()\n",
        "\n",
        "train.result = le.fit_transform(train.result)\n",
        "train.result"
      ],
      "execution_count": 7,
      "outputs": [
        {
          "output_type": "execute_result",
          "data": {
            "text/plain": [
              "0      0\n",
              "1      0\n",
              "2      0\n",
              "3      0\n",
              "4      0\n",
              "      ..\n",
              "330    7\n",
              "331    7\n",
              "332    7\n",
              "333    7\n",
              "334    7\n",
              "Name: result, Length: 335, dtype: int64"
            ]
          },
          "metadata": {
            "tags": []
          },
          "execution_count": 7
        }
      ]
    },
    {
      "cell_type": "code",
      "metadata": {
        "id": "mpLnOaeqgEY6",
        "colab": {
          "base_uri": "https://localhost:8080/",
          "height": 503
        },
        "outputId": "6a08d046-2729-4102-9dc3-7e6bd46808f6"
      },
      "source": [
        "plt.figure(figsize=(10,8))\n",
        "sns.heatmap(train.corr(), annot=True)"
      ],
      "execution_count": 8,
      "outputs": [
        {
          "output_type": "execute_result",
          "data": {
            "text/plain": [
              "<matplotlib.axes._subplots.AxesSubplot at 0x7fe3f8280208>"
            ]
          },
          "metadata": {
            "tags": []
          },
          "execution_count": 8
        },
        {
          "output_type": "display_data",
          "data": {
            "image/png": "[encoded data removed]",
            "text/plain": [
              "<Figure size 720x576 with 2 Axes>"
            ]
          },
          "metadata": {
            "tags": [],
            "needs_background": "light"
          }
        }
      ]
    },
    {
      "cell_type": "markdown",
      "metadata": {
        "id": "9WupGGsLt_fs"
      },
      "source": [
        "Count each class"
      ]
    },
    {
      "cell_type": "code",
      "metadata": {
        "id": "ZmkLvkB1b-4L",
        "colab": {
          "base_uri": "https://localhost:8080/"
        },
        "outputId": "3ff8b5d5-8b6c-4bc3-e45e-8605a5825a6a"
      },
      "source": [
        "import collections\n",
        "from collections import Counter\n",
        "\n",
        "counter = Counter(train.result)\n",
        "for k,v in counter.items():\n",
        "\tper = v / len(train.result) * 100\n",
        "\tprint('Class=%s, Count=%d, Percentage=%.3f%%' % (k, v, per))"
      ],
      "execution_count": 9,
      "outputs": [
        {
          "output_type": "stream",
          "text": [
            "Class=0, Count=142, Percentage=42.388%\n",
            "Class=1, Count=77, Percentage=22.985%\n",
            "Class=3, Count=2, Percentage=0.597%\n",
            "Class=2, Count=2, Percentage=0.597%\n",
            "Class=4, Count=35, Percentage=10.448%\n",
            "Class=5, Count=20, Percentage=5.970%\n",
            "Class=6, Count=5, Percentage=1.493%\n",
            "Class=7, Count=52, Percentage=15.522%\n"
          ],
          "name": "stdout"
        }
      ]
    },
    {
      "cell_type": "code",
      "metadata": {
        "id": "6zuzU1kruCL8",
        "colab": {
          "base_uri": "https://localhost:8080/",
          "height": 287
        },
        "outputId": "621ed6df-720f-485f-c38c-3994750d21e6"
      },
      "source": [
        "result1=train.groupby(\"result\").count().reset_index()\n",
        "result1"
      ],
      "execution_count": 10,
      "outputs": [
        {
          "output_type": "execute_result",
          "data": {
            "text/html": [
              "<div>\n",
              "<style scoped>\n",
              "    .dataframe tbody tr th:only-of-type {\n",
              "        vertical-align: middle;\n",
              "    }\n",
              "\n",
              "    .dataframe tbody tr th {\n",
              "        vertical-align: top;\n",
              "    }\n",
              "\n",
              "    .dataframe thead th {\n",
              "        text-align: right;\n",
              "    }\n",
              "</style>\n",
              "<table border=\"1\" class=\"dataframe\">\n",
              "  <thead>\n",
              "    <tr style=\"text-align: right;\">\n",
              "      <th></th>\n",
              "      <th>result</th>\n",
              "      <th>mcg</th>\n",
              "      <th>gvh</th>\n",
              "      <th>lip</th>\n",
              "      <th>chg</th>\n",
              "      <th>aac</th>\n",
              "      <th>alm1</th>\n",
              "      <th>alm2</th>\n",
              "    </tr>\n",
              "  </thead>\n",
              "  <tbody>\n",
              "    <tr>\n",
              "      <th>0</th>\n",
              "      <td>0</td>\n",
              "      <td>142</td>\n",
              "      <td>142</td>\n",
              "      <td>142</td>\n",
              "      <td>142</td>\n",
              "      <td>142</td>\n",
              "      <td>142</td>\n",
              "      <td>142</td>\n",
              "    </tr>\n",
              "    <tr>\n",
              "      <th>1</th>\n",
              "      <td>1</td>\n",
              "      <td>77</td>\n",
              "      <td>77</td>\n",
              "      <td>77</td>\n",
              "      <td>77</td>\n",
              "      <td>77</td>\n",
              "      <td>77</td>\n",
              "      <td>77</td>\n",
              "    </tr>\n",
              "    <tr>\n",
              "      <th>2</th>\n",
              "      <td>2</td>\n",
              "      <td>2</td>\n",
              "      <td>2</td>\n",
              "      <td>2</td>\n",
              "      <td>2</td>\n",
              "      <td>2</td>\n",
              "      <td>2</td>\n",
              "      <td>2</td>\n",
              "    </tr>\n",
              "    <tr>\n",
              "      <th>3</th>\n",
              "      <td>3</td>\n",
              "      <td>2</td>\n",
              "      <td>2</td>\n",
              "      <td>2</td>\n",
              "      <td>2</td>\n",
              "      <td>2</td>\n",
              "      <td>2</td>\n",
              "      <td>2</td>\n",
              "    </tr>\n",
              "    <tr>\n",
              "      <th>4</th>\n",
              "      <td>4</td>\n",
              "      <td>35</td>\n",
              "      <td>35</td>\n",
              "      <td>35</td>\n",
              "      <td>35</td>\n",
              "      <td>35</td>\n",
              "      <td>35</td>\n",
              "      <td>35</td>\n",
              "    </tr>\n",
              "    <tr>\n",
              "      <th>5</th>\n",
              "      <td>5</td>\n",
              "      <td>20</td>\n",
              "      <td>20</td>\n",
              "      <td>20</td>\n",
              "      <td>20</td>\n",
              "      <td>20</td>\n",
              "      <td>20</td>\n",
              "      <td>20</td>\n",
              "    </tr>\n",
              "    <tr>\n",
              "      <th>6</th>\n",
              "      <td>6</td>\n",
              "      <td>5</td>\n",
              "      <td>5</td>\n",
              "      <td>5</td>\n",
              "      <td>5</td>\n",
              "      <td>5</td>\n",
              "      <td>5</td>\n",
              "      <td>5</td>\n",
              "    </tr>\n",
              "    <tr>\n",
              "      <th>7</th>\n",
              "      <td>7</td>\n",
              "      <td>52</td>\n",
              "      <td>52</td>\n",
              "      <td>52</td>\n",
              "      <td>52</td>\n",
              "      <td>52</td>\n",
              "      <td>52</td>\n",
              "      <td>52</td>\n",
              "    </tr>\n",
              "  </tbody>\n",
              "</table>\n",
              "</div>"
            ],
            "text/plain": [
              "   result  mcg  gvh  lip  chg  aac  alm1  alm2\n",
              "0       0  142  142  142  142  142   142   142\n",
              "1       1   77   77   77   77   77    77    77\n",
              "2       2    2    2    2    2    2     2     2\n",
              "3       3    2    2    2    2    2     2     2\n",
              "4       4   35   35   35   35   35    35    35\n",
              "5       5   20   20   20   20   20    20    20\n",
              "6       6    5    5    5    5    5     5     5\n",
              "7       7   52   52   52   52   52    52    52"
            ]
          },
          "metadata": {
            "tags": []
          },
          "execution_count": 10
        }
      ]
    },
    {
      "cell_type": "markdown",
      "metadata": {
        "id": "uuBVOhmEteJC"
      },
      "source": [
        "Percentage of result"
      ]
    },
    {
      "cell_type": "code",
      "metadata": {
        "id": "d1QUuEF9tc10",
        "colab": {
          "base_uri": "https://localhost:8080/",
          "height": 317
        },
        "outputId": "a784f529-6cc6-40cd-f784-d34cb7027559"
      },
      "source": [
        "result2=train.groupby(\"result\").count()/len(train)*100\n",
        "result2"
      ],
      "execution_count": 11,
      "outputs": [
        {
          "output_type": "execute_result",
          "data": {
            "text/html": [
              "<div>\n",
              "<style scoped>\n",
              "    .dataframe tbody tr th:only-of-type {\n",
              "        vertical-align: middle;\n",
              "    }\n",
              "\n",
              "    .dataframe tbody tr th {\n",
              "        vertical-align: top;\n",
              "    }\n",
              "\n",
              "    .dataframe thead th {\n",
              "        text-align: right;\n",
              "    }\n",
              "</style>\n",
              "<table border=\"1\" class=\"dataframe\">\n",
              "  <thead>\n",
              "    <tr style=\"text-align: right;\">\n",
              "      <th></th>\n",
              "      <th>mcg</th>\n",
              "      <th>gvh</th>\n",
              "      <th>lip</th>\n",
              "      <th>chg</th>\n",
              "      <th>aac</th>\n",
              "      <th>alm1</th>\n",
              "      <th>alm2</th>\n",
              "    </tr>\n",
              "    <tr>\n",
              "      <th>result</th>\n",
              "      <th></th>\n",
              "      <th></th>\n",
              "      <th></th>\n",
              "      <th></th>\n",
              "      <th></th>\n",
              "      <th></th>\n",
              "      <th></th>\n",
              "    </tr>\n",
              "  </thead>\n",
              "  <tbody>\n",
              "    <tr>\n",
              "      <th>0</th>\n",
              "      <td>42.388060</td>\n",
              "      <td>42.388060</td>\n",
              "      <td>42.388060</td>\n",
              "      <td>42.388060</td>\n",
              "      <td>42.388060</td>\n",
              "      <td>42.388060</td>\n",
              "      <td>42.388060</td>\n",
              "    </tr>\n",
              "    <tr>\n",
              "      <th>1</th>\n",
              "      <td>22.985075</td>\n",
              "      <td>22.985075</td>\n",
              "      <td>22.985075</td>\n",
              "      <td>22.985075</td>\n",
              "      <td>22.985075</td>\n",
              "      <td>22.985075</td>\n",
              "      <td>22.985075</td>\n",
              "    </tr>\n",
              "    <tr>\n",
              "      <th>2</th>\n",
              "      <td>0.597015</td>\n",
              "      <td>0.597015</td>\n",
              "      <td>0.597015</td>\n",
              "      <td>0.597015</td>\n",
              "      <td>0.597015</td>\n",
              "      <td>0.597015</td>\n",
              "      <td>0.597015</td>\n",
              "    </tr>\n",
              "    <tr>\n",
              "      <th>3</th>\n",
              "      <td>0.597015</td>\n",
              "      <td>0.597015</td>\n",
              "      <td>0.597015</td>\n",
              "      <td>0.597015</td>\n",
              "      <td>0.597015</td>\n",
              "      <td>0.597015</td>\n",
              "      <td>0.597015</td>\n",
              "    </tr>\n",
              "    <tr>\n",
              "      <th>4</th>\n",
              "      <td>10.447761</td>\n",
              "      <td>10.447761</td>\n",
              "      <td>10.447761</td>\n",
              "      <td>10.447761</td>\n",
              "      <td>10.447761</td>\n",
              "      <td>10.447761</td>\n",
              "      <td>10.447761</td>\n",
              "    </tr>\n",
              "    <tr>\n",
              "      <th>5</th>\n",
              "      <td>5.970149</td>\n",
              "      <td>5.970149</td>\n",
              "      <td>5.970149</td>\n",
              "      <td>5.970149</td>\n",
              "      <td>5.970149</td>\n",
              "      <td>5.970149</td>\n",
              "      <td>5.970149</td>\n",
              "    </tr>\n",
              "    <tr>\n",
              "      <th>6</th>\n",
              "      <td>1.492537</td>\n",
              "      <td>1.492537</td>\n",
              "      <td>1.492537</td>\n",
              "      <td>1.492537</td>\n",
              "      <td>1.492537</td>\n",
              "      <td>1.492537</td>\n",
              "      <td>1.492537</td>\n",
              "    </tr>\n",
              "    <tr>\n",
              "      <th>7</th>\n",
              "      <td>15.522388</td>\n",
              "      <td>15.522388</td>\n",
              "      <td>15.522388</td>\n",
              "      <td>15.522388</td>\n",
              "      <td>15.522388</td>\n",
              "      <td>15.522388</td>\n",
              "      <td>15.522388</td>\n",
              "    </tr>\n",
              "  </tbody>\n",
              "</table>\n",
              "</div>"
            ],
            "text/plain": [
              "              mcg        gvh        lip  ...        aac       alm1       alm2\n",
              "result                                   ...                                 \n",
              "0       42.388060  42.388060  42.388060  ...  42.388060  42.388060  42.388060\n",
              "1       22.985075  22.985075  22.985075  ...  22.985075  22.985075  22.985075\n",
              "2        0.597015   0.597015   0.597015  ...   0.597015   0.597015   0.597015\n",
              "3        0.597015   0.597015   0.597015  ...   0.597015   0.597015   0.597015\n",
              "4       10.447761  10.447761  10.447761  ...  10.447761  10.447761  10.447761\n",
              "5        5.970149   5.970149   5.970149  ...   5.970149   5.970149   5.970149\n",
              "6        1.492537   1.492537   1.492537  ...   1.492537   1.492537   1.492537\n",
              "7       15.522388  15.522388  15.522388  ...  15.522388  15.522388  15.522388\n",
              "\n",
              "[8 rows x 7 columns]"
            ]
          },
          "metadata": {
            "tags": []
          },
          "execution_count": 11
        }
      ]
    },
    {
      "cell_type": "markdown",
      "metadata": {
        "id": "dQm2AuofCx5i"
      },
      "source": [
        "Graphical representation of result"
      ]
    },
    {
      "cell_type": "code",
      "metadata": {
        "id": "u8HYGz8Htcvc",
        "colab": {
          "base_uri": "https://localhost:8080/",
          "height": 349
        },
        "outputId": "ee472bcc-6587-4459-e2f6-ebb0d0b4f9c7"
      },
      "source": [
        "sns.distplot(train['result'])"
      ],
      "execution_count": 12,
      "outputs": [
        {
          "output_type": "stream",
          "text": [
            "/usr/local/lib/python3.6/dist-packages/seaborn/distributions.py:2551: FutureWarning: `distplot` is a deprecated function and will be removed in a future version. Please adapt your code to use either `displot` (a figure-level function with similar flexibility) or `histplot` (an axes-level function for histograms).\n",
            "  warnings.warn(msg, FutureWarning)\n"
          ],
          "name": "stderr"
        },
        {
          "output_type": "execute_result",
          "data": {
            "text/plain": [
              "<matplotlib.axes._subplots.AxesSubplot at 0x7fe3f474a4a8>"
            ]
          },
          "metadata": {
            "tags": []
          },
          "execution_count": 12
        },
        {
          "output_type": "display_data",
          "data": {
            "image/png": "[encoded data removed]",
            "text/plain": [
              "<Figure size 432x288 with 1 Axes>"
            ]
          },
          "metadata": {
            "tags": [],
            "needs_background": "light"
          }
        }
      ]
    },
    {
      "cell_type": "code",
      "metadata": {
        "id": "5iLuze7TcHQ8",
        "colab": {
          "base_uri": "https://localhost:8080/",
          "height": 281
        },
        "outputId": "87151a7d-d991-4a1c-997f-1f4a70a3d58b"
      },
      "source": [
        "#create histograms of classes\n",
        "# create histograms of all variables\n",
        "from pandas import read_csv\n",
        "from matplotlib import pyplot\n",
        "\n",
        "# create a histogram plot of each variable\n",
        "train.hist(bins=25)\n",
        "# show the plot\n",
        "pyplot.show()"
      ],
      "execution_count": 13,
      "outputs": [
        {
          "output_type": "display_data",
          "data": {
            "image/png": "[encoded data removed]",
            "text/plain": [
              "<Figure size 432x288 with 9 Axes>"
            ]
          },
          "metadata": {
            "tags": [],
            "needs_background": "light"
          }
        }
      ]
    },
    {
      "cell_type": "markdown",
      "metadata": {
        "id": "WJjJ0f7rDWXi"
      },
      "source": [
        "Assign X and y variables"
      ]
    },
    {
      "cell_type": "code",
      "metadata": {
        "id": "3KTPdBsbDalz",
        "colab": {
          "base_uri": "https://localhost:8080/"
        },
        "outputId": "024f72a8-dca2-4942-a195-5345244ebbe7"
      },
      "source": [
        "y = train.result\n",
        "X = train.drop(['result'], axis = 1)\n",
        "\n",
        "X.shape, y.shape"
      ],
      "execution_count": 14,
      "outputs": [
        {
          "output_type": "execute_result",
          "data": {
            "text/plain": [
              "((335, 7), (335,))"
            ]
          },
          "metadata": {
            "tags": []
          },
          "execution_count": 14
        }
      ]
    },
    {
      "cell_type": "markdown",
      "metadata": {
        "id": "E5yJhxV9D6CZ"
      },
      "source": [
        "Split training set up for training and validation"
      ]
    },
    {
      "cell_type": "code",
      "metadata": {
        "id": "mMoj1MiuEIDF",
        "colab": {
          "base_uri": "https://localhost:8080/"
        },
        "outputId": "f55dc025-ec08-4c40-c804-999c68f91c74"
      },
      "source": [
        "#split training set for training and testing\n",
        "from sklearn.model_selection import train_test_split\n",
        "\n",
        "X_train, X_val, y_train, y_val = train_test_split(X, y, random_state=27, test_size=0.50, stratify=y)\n",
        "#check shapes of testing data\n",
        "X_train.shape, X_val.shape, y_train.shape, y_val.shape"
      ],
      "execution_count": 15,
      "outputs": [
        {
          "output_type": "execute_result",
          "data": {
            "text/plain": [
              "((167, 7), (168, 7), (167,), (168,))"
            ]
          },
          "metadata": {
            "tags": []
          },
          "execution_count": 15
        }
      ]
    },
    {
      "cell_type": "markdown",
      "metadata": {
        "id": "SuNjtglfcaoH"
      },
      "source": [
        "Scaler"
      ]
    },
    {
      "cell_type": "code",
      "metadata": {
        "id": "aZi_9X5vcZmO"
      },
      "source": [
        "# Import `StandardScaler` from `sklearn.preprocessing`\n",
        "from sklearn.preprocessing import StandardScaler\n",
        "\n",
        "# Define the scaler \n",
        "scaler = StandardScaler().fit(X_train)\n",
        "# Scale the train set\n",
        "X_train = scaler.transform(X_train)\n",
        "# Scale the test set\n",
        "X_val = scaler.transform(X_val)"
      ],
      "execution_count": 16,
      "outputs": []
    },
    {
      "cell_type": "markdown",
      "metadata": {
        "id": "q7YTwCwXERIu"
      },
      "source": [
        "Count values in validation set"
      ]
    },
    {
      "cell_type": "code",
      "metadata": {
        "id": "biMeBa0VEc-X",
        "colab": {
          "base_uri": "https://localhost:8080/"
        },
        "outputId": "cbdb8816-eeff-4ab8-f3bd-45f12253c42c"
      },
      "source": [
        "from collections import Counter\n",
        "\n",
        "print(Counter(y_val))\n"
      ],
      "execution_count": 17,
      "outputs": [
        {
          "output_type": "stream",
          "text": [
            "Counter({0: 71, 1: 39, 7: 26, 4: 18, 5: 10, 6: 2, 3: 1, 2: 1})\n"
          ],
          "name": "stdout"
        }
      ]
    },
    {
      "cell_type": "markdown",
      "metadata": {
        "id": "_iY_Pomucl21"
      },
      "source": [
        "Class weights"
      ]
    },
    {
      "cell_type": "code",
      "metadata": {
        "id": "LLBvWLzlckvP"
      },
      "source": [
        "from sklearn.utils import class_weight\n",
        "class_weights = dict(zip(np.unique(y_train), class_weight.compute_class_weight('balanced',np.unique(y_train), y_train))) "
      ],
      "execution_count": 18,
      "outputs": []
    },
    {
      "cell_type": "code",
      "metadata": {
        "id": "5xJqi-AfGufX",
        "colab": {
          "base_uri": "https://localhost:8080/",
          "height": 349
        },
        "outputId": "81e1309f-efbd-4618-b34f-2fc726abb3ea"
      },
      "source": [
        "sns.distplot(y_val)"
      ],
      "execution_count": 19,
      "outputs": [
        {
          "output_type": "stream",
          "text": [
            "/usr/local/lib/python3.6/dist-packages/seaborn/distributions.py:2551: FutureWarning: `distplot` is a deprecated function and will be removed in a future version. Please adapt your code to use either `displot` (a figure-level function with similar flexibility) or `histplot` (an axes-level function for histograms).\n",
            "  warnings.warn(msg, FutureWarning)\n"
          ],
          "name": "stderr"
        },
        {
          "output_type": "execute_result",
          "data": {
            "text/plain": [
              "<matplotlib.axes._subplots.AxesSubplot at 0x7fe3f41d3400>"
            ]
          },
          "metadata": {
            "tags": []
          },
          "execution_count": 19
        },
        {
          "output_type": "display_data",
          "data": {
            "image/png": "[encoded data removed]",
            "text/plain": [
              "<Figure size 432x288 with 1 Axes>"
            ]
          },
          "metadata": {
            "tags": [],
            "needs_background": "light"
          }
        }
      ]
    },
    {
      "cell_type": "markdown",
      "metadata": {
        "id": "wNDSxQfvaabZ"
      },
      "source": [
        "Define model"
      ]
    },
    {
      "cell_type": "markdown",
      "metadata": {
        "id": "ADns1d-CaeXE"
      },
      "source": [
        "Logistic Regression"
      ]
    },
    {
      "cell_type": "code",
      "metadata": {
        "id": "qYy-9naIadqV",
        "colab": {
          "base_uri": "https://localhost:8080/"
        },
        "outputId": "8442c059-6175-4dd6-a416-7bba0874ee89"
      },
      "source": [
        "#Multi Logistic Regression\n",
        "from sklearn.linear_model import LogisticRegression\n",
        "\n",
        "lr_model = LogisticRegression(random_state=0, multi_class='multinomial', penalty='none', \n",
        "                           solver='saga', class_weight= class_weights, max_iter=2000, C=100).fit(X_train, y_train)\n",
        "print(lr_model.score(X_train, y_train))"
      ],
      "execution_count": 20,
      "outputs": [
        {
          "output_type": "stream",
          "text": [
            "/usr/local/lib/python3.6/dist-packages/sklearn/linear_model/_logistic.py:1505: UserWarning: Setting penalty='none' will ignore the C and l1_ratio parameters\n",
            "  \"Setting penalty='none' will ignore the C and l1_ratio \"\n"
          ],
          "name": "stderr"
        },
        {
          "output_type": "stream",
          "text": [
            "0.8982035928143712\n"
          ],
          "name": "stdout"
        },
        {
          "output_type": "stream",
          "text": [
            "/usr/local/lib/python3.6/dist-packages/sklearn/linear_model/_sag.py:330: ConvergenceWarning: The max_iter was reached which means the coef_ did not converge\n",
            "  \"the coef_ did not converge\", ConvergenceWarning)\n"
          ],
          "name": "stderr"
        }
      ]
    },
    {
      "cell_type": "code",
      "metadata": {
        "id": "EsWC7J6XbXhd",
        "colab": {
          "base_uri": "https://localhost:8080/"
        },
        "outputId": "fbc9ce0b-de07-4007-92c1-9da22ba4de05"
      },
      "source": [
        "lr_pred = lr_model.predict(X_val)\n",
        "print(lr_model.score(X_val, y_val))"
      ],
      "execution_count": 21,
      "outputs": [
        {
          "output_type": "stream",
          "text": [
            "0.7678571428571429\n"
          ],
          "name": "stdout"
        }
      ]
    },
    {
      "cell_type": "code",
      "metadata": {
        "id": "RTKw8HA_0dsS",
        "colab": {
          "base_uri": "https://localhost:8080/"
        },
        "outputId": "3eb181c6-19a4-4adf-ba36-005b6d9a9111"
      },
      "source": [
        "print(Counter(lr_pred))"
      ],
      "execution_count": 22,
      "outputs": [
        {
          "output_type": "stream",
          "text": [
            "Counter({0: 66, 7: 30, 1: 27, 4: 19, 5: 11, 3: 10, 6: 5})\n"
          ],
          "name": "stdout"
        }
      ]
    },
    {
      "cell_type": "code",
      "metadata": {
        "id": "jv4gGYRKbqyJ",
        "colab": {
          "base_uri": "https://localhost:8080/"
        },
        "outputId": "31814b39-f5b5-4ba2-e0ee-bbc4593a8460"
      },
      "source": [
        "#Create a confusion matrix\n",
        "from sklearn.metrics import confusion_matrix\n",
        "\n",
        "#y_test as first argument and the preds as second argument \n",
        "confusion_matrix(y_val, lr_pred)"
      ],
      "execution_count": 23,
      "outputs": [
        {
          "output_type": "execute_result",
          "data": {
            "text/plain": [
              "array([[63,  5,  0,  0,  0,  0,  0,  3],\n",
              "       [ 0, 21,  0,  7,  7,  0,  1,  3],\n",
              "       [ 0,  0,  0,  0,  0,  0,  1,  0],\n",
              "       [ 0,  0,  0,  0,  0,  0,  0,  1],\n",
              "       [ 0,  1,  0,  3, 12,  1,  1,  0],\n",
              "       [ 0,  0,  0,  0,  0,  9,  0,  1],\n",
              "       [ 0,  0,  0,  0,  0,  0,  2,  0],\n",
              "       [ 3,  0,  0,  0,  0,  1,  0, 22]])"
            ]
          },
          "metadata": {
            "tags": []
          },
          "execution_count": 23
        }
      ]
    },
    {
      "cell_type": "code",
      "metadata": {
        "id": "sj8yAhHEfZ43",
        "colab": {
          "base_uri": "https://localhost:8080/",
          "height": 335
        },
        "outputId": "5faf750b-6e9b-4e6b-c92a-eace08787c66"
      },
      "source": [
        "sns.distplot(lr_pred)"
      ],
      "execution_count": 24,
      "outputs": [
        {
          "output_type": "stream",
          "text": [
            "/usr/local/lib/python3.6/dist-packages/seaborn/distributions.py:2551: FutureWarning: `distplot` is a deprecated function and will be removed in a future version. Please adapt your code to use either `displot` (a figure-level function with similar flexibility) or `histplot` (an axes-level function for histograms).\n",
            "  warnings.warn(msg, FutureWarning)\n"
          ],
          "name": "stderr"
        },
        {
          "output_type": "execute_result",
          "data": {
            "text/plain": [
              "<matplotlib.axes._subplots.AxesSubplot at 0x7fe3f3aebf60>"
            ]
          },
          "metadata": {
            "tags": []
          },
          "execution_count": 24
        },
        {
          "output_type": "display_data",
          "data": {
            "image/png": "[encoded data removed]",
            "text/plain": [
              "<Figure size 432x288 with 1 Axes>"
            ]
          },
          "metadata": {
            "tags": [],
            "needs_background": "light"
          }
        }
      ]
    },
    {
      "cell_type": "markdown",
      "metadata": {
        "id": "zdk3gbdyrRoP"
      },
      "source": [
        "Statsmodels Logit"
      ]
    },
    {
      "cell_type": "code",
      "metadata": {
        "colab": {
          "base_uri": "https://localhost:8080/"
        },
        "id": "vBGsdOl7rUpf",
        "outputId": "40012598-9856-4f3f-d9d1-7df48a201c0a"
      },
      "source": [
        "import statsmodels.discrete.discrete_model as sm\r\n",
        "\r\n",
        "logit = sm.MNLogit(y_train, X_train).fit(method='bfgs', maxiter=1000)"
      ],
      "execution_count": 25,
      "outputs": [
        {
          "output_type": "stream",
          "text": [
            "/usr/local/lib/python3.6/dist-packages/statsmodels/tools/_testing.py:19: FutureWarning: pandas.util.testing is deprecated. Use the functions in the public API at pandas.testing instead.\n",
            "  import pandas.util.testing as tm\n"
          ],
          "name": "stderr"
        },
        {
          "output_type": "stream",
          "text": [
            "Warning: Desired error not necessarily achieved due to precision loss.\n",
            "         Current function value: nan\n",
            "         Iterations: 298\n",
            "         Function evaluations: 316\n",
            "         Gradient evaluations: 316\n"
          ],
          "name": "stdout"
        },
        {
          "output_type": "stream",
          "text": [
            "/usr/local/lib/python3.6/dist-packages/statsmodels/discrete/discrete_model.py:2227: RuntimeWarning: divide by zero encountered in log\n",
            "  logprob = np.log(self.cdf(np.dot(self.exog,params)))\n",
            "/usr/local/lib/python3.6/dist-packages/statsmodels/discrete/discrete_model.py:2228: RuntimeWarning: invalid value encountered in multiply\n",
            "  return np.sum(d * logprob)\n",
            "/usr/local/lib/python3.6/dist-packages/statsmodels/discrete/discrete_model.py:2227: RuntimeWarning: divide by zero encountered in log\n",
            "  logprob = np.log(self.cdf(np.dot(self.exog,params)))\n",
            "/usr/local/lib/python3.6/dist-packages/statsmodels/discrete/discrete_model.py:2228: RuntimeWarning: invalid value encountered in multiply\n",
            "  return np.sum(d * logprob)\n",
            "/usr/local/lib/python3.6/dist-packages/statsmodels/base/model.py:492: HessianInversionWarning: Inverting hessian failed, no bse or cov_params available\n",
            "  'available', HessianInversionWarning)\n",
            "/usr/local/lib/python3.6/dist-packages/statsmodels/base/model.py:512: ConvergenceWarning: Maximum Likelihood optimization failed to converge. Check mle_retvals\n",
            "  \"Check mle_retvals\", ConvergenceWarning)\n"
          ],
          "name": "stderr"
        }
      ]
    },
    {
      "cell_type": "code",
      "metadata": {
        "colab": {
          "base_uri": "https://localhost:8080/",
          "height": 257
        },
        "id": "5km6dAYGMEly",
        "outputId": "c2d91265-5a36-4110-e370-a70dbb5c294d"
      },
      "source": [
        "X.corr()"
      ],
      "execution_count": 26,
      "outputs": [
        {
          "output_type": "execute_result",
          "data": {
            "text/html": [
              "<div>\n",
              "<style scoped>\n",
              "    .dataframe tbody tr th:only-of-type {\n",
              "        vertical-align: middle;\n",
              "    }\n",
              "\n",
              "    .dataframe tbody tr th {\n",
              "        vertical-align: top;\n",
              "    }\n",
              "\n",
              "    .dataframe thead th {\n",
              "        text-align: right;\n",
              "    }\n",
              "</style>\n",
              "<table border=\"1\" class=\"dataframe\">\n",
              "  <thead>\n",
              "    <tr style=\"text-align: right;\">\n",
              "      <th></th>\n",
              "      <th>mcg</th>\n",
              "      <th>gvh</th>\n",
              "      <th>lip</th>\n",
              "      <th>chg</th>\n",
              "      <th>aac</th>\n",
              "      <th>alm1</th>\n",
              "      <th>alm2</th>\n",
              "    </tr>\n",
              "  </thead>\n",
              "  <tbody>\n",
              "    <tr>\n",
              "      <th>mcg</th>\n",
              "      <td>1.000000</td>\n",
              "      <td>0.455961</td>\n",
              "      <td>0.146822</td>\n",
              "      <td>0.070258</td>\n",
              "      <td>0.220855</td>\n",
              "      <td>0.397660</td>\n",
              "      <td>0.167104</td>\n",
              "    </tr>\n",
              "    <tr>\n",
              "      <th>gvh</th>\n",
              "      <td>0.455961</td>\n",
              "      <td>1.000000</td>\n",
              "      <td>0.043194</td>\n",
              "      <td>0.018290</td>\n",
              "      <td>0.072147</td>\n",
              "      <td>0.169252</td>\n",
              "      <td>-0.123701</td>\n",
              "    </tr>\n",
              "    <tr>\n",
              "      <th>lip</th>\n",
              "      <td>0.146822</td>\n",
              "      <td>0.043194</td>\n",
              "      <td>1.000000</td>\n",
              "      <td>0.311938</td>\n",
              "      <td>0.070475</td>\n",
              "      <td>0.095368</td>\n",
              "      <td>-0.057992</td>\n",
              "    </tr>\n",
              "    <tr>\n",
              "      <th>chg</th>\n",
              "      <td>0.070258</td>\n",
              "      <td>0.018290</td>\n",
              "      <td>0.311938</td>\n",
              "      <td>1.000000</td>\n",
              "      <td>-0.044662</td>\n",
              "      <td>-0.007868</td>\n",
              "      <td>-0.052346</td>\n",
              "    </tr>\n",
              "    <tr>\n",
              "      <th>aac</th>\n",
              "      <td>0.220855</td>\n",
              "      <td>0.072147</td>\n",
              "      <td>0.070475</td>\n",
              "      <td>-0.044662</td>\n",
              "      <td>1.000000</td>\n",
              "      <td>0.281967</td>\n",
              "      <td>0.254009</td>\n",
              "    </tr>\n",
              "    <tr>\n",
              "      <th>alm1</th>\n",
              "      <td>0.397660</td>\n",
              "      <td>0.169252</td>\n",
              "      <td>0.095368</td>\n",
              "      <td>-0.007868</td>\n",
              "      <td>0.281967</td>\n",
              "      <td>1.000000</td>\n",
              "      <td>0.809124</td>\n",
              "    </tr>\n",
              "    <tr>\n",
              "      <th>alm2</th>\n",
              "      <td>0.167104</td>\n",
              "      <td>-0.123701</td>\n",
              "      <td>-0.057992</td>\n",
              "      <td>-0.052346</td>\n",
              "      <td>0.254009</td>\n",
              "      <td>0.809124</td>\n",
              "      <td>1.000000</td>\n",
              "    </tr>\n",
              "  </tbody>\n",
              "</table>\n",
              "</div>"
            ],
            "text/plain": [
              "           mcg       gvh       lip       chg       aac      alm1      alm2\n",
              "mcg   1.000000  0.455961  0.146822  0.070258  0.220855  0.397660  0.167104\n",
              "gvh   0.455961  1.000000  0.043194  0.018290  0.072147  0.169252 -0.123701\n",
              "lip   0.146822  0.043194  1.000000  0.311938  0.070475  0.095368 -0.057992\n",
              "chg   0.070258  0.018290  0.311938  1.000000 -0.044662 -0.007868 -0.052346\n",
              "aac   0.220855  0.072147  0.070475 -0.044662  1.000000  0.281967  0.254009\n",
              "alm1  0.397660  0.169252  0.095368 -0.007868  0.281967  1.000000  0.809124\n",
              "alm2  0.167104 -0.123701 -0.057992 -0.052346  0.254009  0.809124  1.000000"
            ]
          },
          "metadata": {
            "tags": []
          },
          "execution_count": 26
        }
      ]
    },
    {
      "cell_type": "code",
      "metadata": {
        "id": "Qm4nUEbVsODU"
      },
      "source": [
        "yhat = logit.predict(X_val) \r\n",
        "pred = list(map(np.round, yhat)) \r\n",
        "pred = np.array(pred, dtype=np.int64)"
      ],
      "execution_count": 27,
      "outputs": []
    },
    {
      "cell_type": "code",
      "metadata": {
        "colab": {
          "base_uri": "https://localhost:8080/"
        },
        "id": "GX8zb6JfNtt6",
        "outputId": "edf7780c-538c-43a3-b82e-6b9031b41fe7"
      },
      "source": [
        "pred = np.argmax(pred, axis=1)\r\n",
        "pred[1]"
      ],
      "execution_count": 28,
      "outputs": [
        {
          "output_type": "execute_result",
          "data": {
            "text/plain": [
              "0"
            ]
          },
          "metadata": {
            "tags": []
          },
          "execution_count": 28
        }
      ]
    },
    {
      "cell_type": "code",
      "metadata": {
        "colab": {
          "base_uri": "https://localhost:8080/"
        },
        "id": "AUlffFm2sV5P",
        "outputId": "ae8e86da-e524-4886-e5a7-f2638f9b8a2b"
      },
      "source": [
        "from sklearn.metrics import (confusion_matrix, accuracy_score) \r\n",
        "\r\n",
        "print('Test accuracy = ', accuracy_score(y_val, pred))"
      ],
      "execution_count": 29,
      "outputs": [
        {
          "output_type": "stream",
          "text": [
            "Test accuracy =  0.8035714285714286\n"
          ],
          "name": "stdout"
        }
      ]
    },
    {
      "cell_type": "code",
      "metadata": {
        "colab": {
          "base_uri": "https://localhost:8080/",
          "height": 335
        },
        "id": "PNfM2Gv-wVli",
        "outputId": "6bb727e0-4b31-424c-f4f5-159e7389ac35"
      },
      "source": [
        "sns.distplot(pred)"
      ],
      "execution_count": 30,
      "outputs": [
        {
          "output_type": "stream",
          "text": [
            "/usr/local/lib/python3.6/dist-packages/seaborn/distributions.py:2551: FutureWarning: `distplot` is a deprecated function and will be removed in a future version. Please adapt your code to use either `displot` (a figure-level function with similar flexibility) or `histplot` (an axes-level function for histograms).\n",
            "  warnings.warn(msg, FutureWarning)\n"
          ],
          "name": "stderr"
        },
        {
          "output_type": "execute_result",
          "data": {
            "text/plain": [
              "<matplotlib.axes._subplots.AxesSubplot at 0x7fe3ecbbc518>"
            ]
          },
          "metadata": {
            "tags": []
          },
          "execution_count": 30
        },
        {
          "output_type": "display_data",
          "data": {
            "image/png": "[encoded data removed]",
            "text/plain": [
              "<Figure size 432x288 with 1 Axes>"
            ]
          },
          "metadata": {
            "tags": [],
            "needs_background": "light"
          }
        }
      ]
    },
    {
      "cell_type": "code",
      "metadata": {
        "colab": {
          "base_uri": "https://localhost:8080/"
        },
        "id": "-76SoUltsc4E",
        "outputId": "38cdeb63-7829-4911-ba6d-52e87730bb9d"
      },
      "source": [
        "print(Counter(pred))"
      ],
      "execution_count": 31,
      "outputs": [
        {
          "output_type": "stream",
          "text": [
            "Counter({0: 68, 1: 35, 7: 29, 4: 19, 5: 14, 6: 3})\n"
          ],
          "name": "stdout"
        }
      ]
    },
    {
      "cell_type": "code",
      "metadata": {
        "id": "TJA6y3IexTFh",
        "colab": {
          "base_uri": "https://localhost:8080/"
        },
        "outputId": "796cf590-a3e7-4ea1-9c2e-9660f1bb72f6"
      },
      "source": [
        "#Create a confusion matrix\r\n",
        "from sklearn.metrics import confusion_matrix\r\n",
        "\r\n",
        "#y_test as first argument and the preds as second argument \r\n",
        "confusion_matrix(y_val, pred)"
      ],
      "execution_count": 32,
      "outputs": [
        {
          "output_type": "execute_result",
          "data": {
            "text/plain": [
              "array([[64,  4,  0,  0,  0,  1,  0,  2],\n",
              "       [ 1, 26,  0,  0,  7,  2,  0,  3],\n",
              "       [ 0,  0,  0,  0,  0,  0,  1,  0],\n",
              "       [ 0,  0,  0,  0,  0,  0,  0,  1],\n",
              "       [ 0,  5,  0,  0, 12,  1,  0,  0],\n",
              "       [ 0,  0,  0,  0,  0,  9,  0,  1],\n",
              "       [ 0,  0,  0,  0,  0,  0,  2,  0],\n",
              "       [ 3,  0,  0,  0,  0,  1,  0, 22]])"
            ]
          },
          "metadata": {
            "tags": []
          },
          "execution_count": 32
        }
      ]
    },
    {
      "cell_type": "code",
      "metadata": {
        "colab": {
          "base_uri": "https://localhost:8080/",
          "height": 407
        },
        "id": "YZ9b0WuDst1C",
        "outputId": "1fc8f7e8-d54f-47c0-be8a-696fb3a7d31d"
      },
      "source": [
        "df=pd.DataFrame({'Actual': y_val, 'Predicted':pred})\r\n",
        "df"
      ],
      "execution_count": 34,
      "outputs": [
        {
          "output_type": "execute_result",
          "data": {
            "text/html": [
              "<div>\n",
              "<style scoped>\n",
              "    .dataframe tbody tr th:only-of-type {\n",
              "        vertical-align: middle;\n",
              "    }\n",
              "\n",
              "    .dataframe tbody tr th {\n",
              "        vertical-align: top;\n",
              "    }\n",
              "\n",
              "    .dataframe thead th {\n",
              "        text-align: right;\n",
              "    }\n",
              "</style>\n",
              "<table border=\"1\" class=\"dataframe\">\n",
              "  <thead>\n",
              "    <tr style=\"text-align: right;\">\n",
              "      <th></th>\n",
              "      <th>Actual</th>\n",
              "      <th>Predicted</th>\n",
              "    </tr>\n",
              "  </thead>\n",
              "  <tbody>\n",
              "    <tr>\n",
              "      <th>61</th>\n",
              "      <td>0</td>\n",
              "      <td>0</td>\n",
              "    </tr>\n",
              "    <tr>\n",
              "      <th>93</th>\n",
              "      <td>0</td>\n",
              "      <td>0</td>\n",
              "    </tr>\n",
              "    <tr>\n",
              "      <th>98</th>\n",
              "      <td>0</td>\n",
              "      <td>0</td>\n",
              "    </tr>\n",
              "    <tr>\n",
              "      <th>333</th>\n",
              "      <td>7</td>\n",
              "      <td>7</td>\n",
              "    </tr>\n",
              "    <tr>\n",
              "      <th>100</th>\n",
              "      <td>0</td>\n",
              "      <td>5</td>\n",
              "    </tr>\n",
              "    <tr>\n",
              "      <th>...</th>\n",
              "      <td>...</td>\n",
              "      <td>...</td>\n",
              "    </tr>\n",
              "    <tr>\n",
              "      <th>298</th>\n",
              "      <td>7</td>\n",
              "      <td>7</td>\n",
              "    </tr>\n",
              "    <tr>\n",
              "      <th>222</th>\n",
              "      <td>2</td>\n",
              "      <td>6</td>\n",
              "    </tr>\n",
              "    <tr>\n",
              "      <th>334</th>\n",
              "      <td>7</td>\n",
              "      <td>7</td>\n",
              "    </tr>\n",
              "    <tr>\n",
              "      <th>23</th>\n",
              "      <td>0</td>\n",
              "      <td>0</td>\n",
              "    </tr>\n",
              "    <tr>\n",
              "      <th>186</th>\n",
              "      <td>1</td>\n",
              "      <td>1</td>\n",
              "    </tr>\n",
              "  </tbody>\n",
              "</table>\n",
              "<p>168 rows × 2 columns</p>\n",
              "</div>"
            ],
            "text/plain": [
              "     Actual  Predicted\n",
              "61        0          0\n",
              "93        0          0\n",
              "98        0          0\n",
              "333       7          7\n",
              "100       0          5\n",
              "..      ...        ...\n",
              "298       7          7\n",
              "222       2          6\n",
              "334       7          7\n",
              "23        0          0\n",
              "186       1          1\n",
              "\n",
              "[168 rows x 2 columns]"
            ]
          },
          "metadata": {
            "tags": []
          },
          "execution_count": 34
        }
      ]
    },
    {
      "cell_type": "markdown",
      "metadata": {
        "id": "Kkxym44MceFl"
      },
      "source": [
        "Random Forest Classifier"
      ]
    },
    {
      "cell_type": "code",
      "metadata": {
        "id": "w8PBPcGJf-CJ",
        "colab": {
          "base_uri": "https://localhost:8080/"
        },
        "outputId": "dd2778cd-6451-4a36-c610-7e8adc1c02c0"
      },
      "source": [
        "#Random Forest Classifier\n",
        "from sklearn.ensemble import RandomForestClassifier\n",
        "\n",
        "rf_model = RandomForestClassifier(n_estimators=50, random_state=0, class_weight= class_weights).fit(X_train, y_train)\n",
        "print(rf_model.score(X_train, y_train))"
      ],
      "execution_count": 35,
      "outputs": [
        {
          "output_type": "stream",
          "text": [
            "1.0\n"
          ],
          "name": "stdout"
        }
      ]
    },
    {
      "cell_type": "code",
      "metadata": {
        "id": "ou2iHqnJgCRu",
        "colab": {
          "base_uri": "https://localhost:8080/"
        },
        "outputId": "57655b9f-6c01-40a0-862d-abd1026f4f46"
      },
      "source": [
        "rf_pred = rf_model.predict(X_val)\n",
        "print(rf_model.score(X_val, y_val))"
      ],
      "execution_count": 36,
      "outputs": [
        {
          "output_type": "stream",
          "text": [
            "0.8392857142857143\n"
          ],
          "name": "stdout"
        }
      ]
    },
    {
      "cell_type": "code",
      "metadata": {
        "id": "5ZDXBDpQsB4S",
        "colab": {
          "base_uri": "https://localhost:8080/"
        },
        "outputId": "1de42848-7251-40ed-f5c0-b37b0bd6822b"
      },
      "source": [
        "print(Counter(rf_pred))"
      ],
      "execution_count": 37,
      "outputs": [
        {
          "output_type": "stream",
          "text": [
            "Counter({0: 71, 1: 42, 7: 28, 4: 17, 5: 8, 6: 2})\n"
          ],
          "name": "stdout"
        }
      ]
    },
    {
      "cell_type": "code",
      "metadata": {
        "id": "lqFC8f5dgGM7",
        "colab": {
          "base_uri": "https://localhost:8080/"
        },
        "outputId": "3dab9db1-9c05-4a81-d713-d07b2dbc99ee"
      },
      "source": [
        "#Create a confusion matrix\n",
        "from sklearn.metrics import confusion_matrix\n",
        "\n",
        "#y_test as first argument and the preds as second argument \n",
        "confusion_matrix(y_val, rf_pred)"
      ],
      "execution_count": 38,
      "outputs": [
        {
          "output_type": "execute_result",
          "data": {
            "text/plain": [
              "array([[67,  1,  0,  0,  0,  0,  0,  3],\n",
              "       [ 0, 32,  0,  0,  7,  0,  0,  0],\n",
              "       [ 0,  0,  0,  0,  1,  0,  0,  0],\n",
              "       [ 0,  0,  0,  0,  0,  0,  0,  1],\n",
              "       [ 0,  9,  0,  0,  9,  0,  0,  0],\n",
              "       [ 1,  0,  0,  0,  0,  8,  0,  1],\n",
              "       [ 0,  0,  0,  0,  0,  0,  2,  0],\n",
              "       [ 3,  0,  0,  0,  0,  0,  0, 23]])"
            ]
          },
          "metadata": {
            "tags": []
          },
          "execution_count": 38
        }
      ]
    },
    {
      "cell_type": "code",
      "metadata": {
        "id": "d4w5FqsD0ujb",
        "colab": {
          "base_uri": "https://localhost:8080/",
          "height": 337
        },
        "outputId": "5c7dea38-bfef-467f-ee19-07ef19d1bb15"
      },
      "source": [
        "sns.distplot(rf_pred)"
      ],
      "execution_count": 39,
      "outputs": [
        {
          "output_type": "stream",
          "text": [
            "/usr/local/lib/python3.6/dist-packages/seaborn/distributions.py:2551: FutureWarning: `distplot` is a deprecated function and will be removed in a future version. Please adapt your code to use either `displot` (a figure-level function with similar flexibility) or `histplot` (an axes-level function for histograms).\n",
            "  warnings.warn(msg, FutureWarning)\n"
          ],
          "name": "stderr"
        },
        {
          "output_type": "execute_result",
          "data": {
            "text/plain": [
              "<matplotlib.axes._subplots.AxesSubplot at 0x7fe3ea67e7b8>"
            ]
          },
          "metadata": {
            "tags": []
          },
          "execution_count": 39
        },
        {
          "output_type": "display_data",
          "data": {
            "image/png": "[encoded data removed]",
            "text/plain": [
              "<Figure size 432x288 with 1 Axes>"
            ]
          },
          "metadata": {
            "tags": [],
            "needs_background": "light"
          }
        }
      ]
    },
    {
      "cell_type": "markdown",
      "metadata": {
        "id": "JFAm4p_3goxg"
      },
      "source": [
        "Decision Tree Classifier"
      ]
    },
    {
      "cell_type": "code",
      "metadata": {
        "id": "yQVIwpg9grgw",
        "colab": {
          "base_uri": "https://localhost:8080/"
        },
        "outputId": "bc2697e1-8ef6-4328-f5cc-fd171326b6bd"
      },
      "source": [
        "#decision tree classifier\n",
        "from sklearn.tree import DecisionTreeClassifier\n",
        "\n",
        "dt_model = DecisionTreeClassifier(random_state=0, class_weight=class_weights).fit(X_train, y_train)\n",
        "print(dt_model.score(X_train, y_train))"
      ],
      "execution_count": 40,
      "outputs": [
        {
          "output_type": "stream",
          "text": [
            "1.0\n"
          ],
          "name": "stdout"
        }
      ]
    },
    {
      "cell_type": "code",
      "metadata": {
        "id": "Qql2_skCh3c0",
        "colab": {
          "base_uri": "https://localhost:8080/"
        },
        "outputId": "c8fdb1ca-ee44-4ddf-fbeb-bebd9369d659"
      },
      "source": [
        "dt_pred = dt_model.predict(X_val)\n",
        "print(dt_model.score(X_val, y_val))"
      ],
      "execution_count": 41,
      "outputs": [
        {
          "output_type": "stream",
          "text": [
            "0.7678571428571429\n"
          ],
          "name": "stdout"
        }
      ]
    },
    {
      "cell_type": "code",
      "metadata": {
        "id": "rHf9pb9asL7S",
        "colab": {
          "base_uri": "https://localhost:8080/"
        },
        "outputId": "afd08136-b1e1-4cc1-b337-53ffa9e1414d"
      },
      "source": [
        "print(Counter(dt_pred))"
      ],
      "execution_count": 42,
      "outputs": [
        {
          "output_type": "stream",
          "text": [
            "Counter({0: 70, 1: 37, 7: 31, 4: 15, 5: 7, 6: 5, 3: 3})\n"
          ],
          "name": "stdout"
        }
      ]
    },
    {
      "cell_type": "code",
      "metadata": {
        "id": "-3gOe99fiEH8",
        "colab": {
          "base_uri": "https://localhost:8080/"
        },
        "outputId": "5495fcbe-378b-4a77-a610-de0e3aacdb00"
      },
      "source": [
        "#Create a confusion matrix\n",
        "from sklearn.metrics import confusion_matrix\n",
        "\n",
        "#y_test as first argument and the preds as second argument \n",
        "confusion_matrix(y_val, dt_pred)"
      ],
      "execution_count": 43,
      "outputs": [
        {
          "output_type": "execute_result",
          "data": {
            "text/plain": [
              "array([[66,  3,  0,  0,  0,  0,  0,  2],\n",
              "       [ 0, 25,  0,  2,  8,  0,  1,  3],\n",
              "       [ 0,  0,  0,  0,  0,  0,  1,  0],\n",
              "       [ 0,  0,  0,  0,  0,  0,  0,  1],\n",
              "       [ 0,  9,  0,  1,  7,  0,  1,  0],\n",
              "       [ 0,  0,  0,  0,  0,  7,  0,  3],\n",
              "       [ 0,  0,  0,  0,  0,  0,  2,  0],\n",
              "       [ 4,  0,  0,  0,  0,  0,  0, 22]])"
            ]
          },
          "metadata": {
            "tags": []
          },
          "execution_count": 43
        }
      ]
    },
    {
      "cell_type": "code",
      "metadata": {
        "id": "EqUlUW28fpEr",
        "colab": {
          "base_uri": "https://localhost:8080/",
          "height": 335
        },
        "outputId": "f502b07d-9012-40c6-a13e-dd3e5a85a084"
      },
      "source": [
        "sns.distplot(dt_pred)"
      ],
      "execution_count": 44,
      "outputs": [
        {
          "output_type": "stream",
          "text": [
            "/usr/local/lib/python3.6/dist-packages/seaborn/distributions.py:2551: FutureWarning: `distplot` is a deprecated function and will be removed in a future version. Please adapt your code to use either `displot` (a figure-level function with similar flexibility) or `histplot` (an axes-level function for histograms).\n",
            "  warnings.warn(msg, FutureWarning)\n"
          ],
          "name": "stderr"
        },
        {
          "output_type": "execute_result",
          "data": {
            "text/plain": [
              "<matplotlib.axes._subplots.AxesSubplot at 0x7fe3ea60d518>"
            ]
          },
          "metadata": {
            "tags": []
          },
          "execution_count": 44
        },
        {
          "output_type": "display_data",
          "data": {
            "image/png": "[encoded data removed]",
            "text/plain": [
              "<Figure size 432x288 with 1 Axes>"
            ]
          },
          "metadata": {
            "tags": [],
            "needs_background": "light"
          }
        }
      ]
    },
    {
      "cell_type": "markdown",
      "metadata": {
        "id": "CwS38F1HjTE1"
      },
      "source": [
        "Extra Trees"
      ]
    },
    {
      "cell_type": "code",
      "metadata": {
        "id": "NnxS6sS6jWm3",
        "colab": {
          "base_uri": "https://localhost:8080/"
        },
        "outputId": "9d703296-be1f-417c-ba0e-57d946ca1ad1"
      },
      "source": [
        "#extra trees\n",
        "from sklearn.ensemble import ExtraTreesClassifier\n",
        "\n",
        "et_model = ExtraTreesClassifier(random_state=0, class_weight=class_weights).fit(X_train, y_train)\n",
        "print(et_model.score(X_train, y_train))"
      ],
      "execution_count": 45,
      "outputs": [
        {
          "output_type": "stream",
          "text": [
            "1.0\n"
          ],
          "name": "stdout"
        }
      ]
    },
    {
      "cell_type": "code",
      "metadata": {
        "id": "NOkc6HVwkHam",
        "colab": {
          "base_uri": "https://localhost:8080/"
        },
        "outputId": "79e333f0-77c8-4eae-f98b-489b3bf45ae4"
      },
      "source": [
        "et_pred = et_model.predict(X_val)\n",
        "print(et_model.score(X_val, y_val))"
      ],
      "execution_count": 46,
      "outputs": [
        {
          "output_type": "stream",
          "text": [
            "0.8511904761904762\n"
          ],
          "name": "stdout"
        }
      ]
    },
    {
      "cell_type": "code",
      "metadata": {
        "id": "YA-YeTKCsZv9",
        "colab": {
          "base_uri": "https://localhost:8080/"
        },
        "outputId": "fbff9342-9184-4230-ff73-ef087a5673f3"
      },
      "source": [
        "print(Counter(et_pred))"
      ],
      "execution_count": 47,
      "outputs": [
        {
          "output_type": "stream",
          "text": [
            "Counter({0: 71, 1: 38, 7: 28, 4: 17, 5: 10, 6: 4})\n"
          ],
          "name": "stdout"
        }
      ]
    },
    {
      "cell_type": "code",
      "metadata": {
        "id": "OS3mk2_LkOZP",
        "colab": {
          "base_uri": "https://localhost:8080/"
        },
        "outputId": "77869c9b-f4da-446a-f332-6475026900ed"
      },
      "source": [
        "#Create a confusion matrix\n",
        "from sklearn.metrics import confusion_matrix\n",
        "\n",
        "#y_test as first argument and the preds as second argument \n",
        "confusion_matrix(y_val, et_pred)"
      ],
      "execution_count": 48,
      "outputs": [
        {
          "output_type": "execute_result",
          "data": {
            "text/plain": [
              "array([[68,  0,  0,  0,  0,  0,  0,  3],\n",
              "       [ 0, 31,  0,  0,  7,  0,  1,  0],\n",
              "       [ 0,  0,  0,  0,  0,  0,  1,  0],\n",
              "       [ 0,  0,  0,  0,  0,  0,  0,  1],\n",
              "       [ 0,  7,  0,  0, 10,  1,  0,  0],\n",
              "       [ 0,  0,  0,  0,  0,  9,  0,  1],\n",
              "       [ 0,  0,  0,  0,  0,  0,  2,  0],\n",
              "       [ 3,  0,  0,  0,  0,  0,  0, 23]])"
            ]
          },
          "metadata": {
            "tags": []
          },
          "execution_count": 48
        }
      ]
    },
    {
      "cell_type": "code",
      "metadata": {
        "id": "mHK7A2GTf02K",
        "colab": {
          "base_uri": "https://localhost:8080/",
          "height": 335
        },
        "outputId": "2dc22038-4c7b-433f-95ba-42d195d1f8e2"
      },
      "source": [
        "sns.distplot(et_pred)"
      ],
      "execution_count": 49,
      "outputs": [
        {
          "output_type": "stream",
          "text": [
            "/usr/local/lib/python3.6/dist-packages/seaborn/distributions.py:2551: FutureWarning: `distplot` is a deprecated function and will be removed in a future version. Please adapt your code to use either `displot` (a figure-level function with similar flexibility) or `histplot` (an axes-level function for histograms).\n",
            "  warnings.warn(msg, FutureWarning)\n"
          ],
          "name": "stderr"
        },
        {
          "output_type": "execute_result",
          "data": {
            "text/plain": [
              "<matplotlib.axes._subplots.AxesSubplot at 0x7fe3f45ad278>"
            ]
          },
          "metadata": {
            "tags": []
          },
          "execution_count": 49
        },
        {
          "output_type": "display_data",
          "data": {
            "image/png": "[encoded data removed]",
            "text/plain": [
              "<Figure size 432x288 with 1 Axes>"
            ]
          },
          "metadata": {
            "tags": [],
            "needs_background": "light"
          }
        }
      ]
    },
    {
      "cell_type": "markdown",
      "metadata": {
        "id": "S0YJHLI-lCAS"
      },
      "source": [
        "Gradient Boost Classifier"
      ]
    },
    {
      "cell_type": "code",
      "metadata": {
        "id": "WjtMozF2lLlk",
        "colab": {
          "base_uri": "https://localhost:8080/"
        },
        "outputId": "17c88d59-8b08-4a45-bf45-62f8e4cb414d"
      },
      "source": [
        "#gradient boost classifier\n",
        "from sklearn.ensemble import GradientBoostingClassifier\n",
        "\n",
        "gb_model = GradientBoostingClassifier(random_state=0).fit(X_train, y_train)\n",
        "print(gb_model.score(X_train, y_train))"
      ],
      "execution_count": 50,
      "outputs": [
        {
          "output_type": "stream",
          "text": [
            "1.0\n"
          ],
          "name": "stdout"
        }
      ]
    },
    {
      "cell_type": "code",
      "metadata": {
        "id": "WHhdXdb_lm39",
        "colab": {
          "base_uri": "https://localhost:8080/"
        },
        "outputId": "9dd91df9-e1ee-4080-97c5-57c676289d68"
      },
      "source": [
        "gb_pred = gb_model.predict(X_val)\n",
        "print(gb_model.score(X_val, y_val))"
      ],
      "execution_count": 51,
      "outputs": [
        {
          "output_type": "stream",
          "text": [
            "0.7976190476190477\n"
          ],
          "name": "stdout"
        }
      ]
    },
    {
      "cell_type": "code",
      "metadata": {
        "id": "k-6UTDhKsjbi",
        "colab": {
          "base_uri": "https://localhost:8080/"
        },
        "outputId": "45ca4589-6b13-4485-99be-45f4a38990e7"
      },
      "source": [
        "print(Counter(gb_pred))"
      ],
      "execution_count": 52,
      "outputs": [
        {
          "output_type": "stream",
          "text": [
            "Counter({0: 69, 1: 38, 7: 31, 4: 13, 5: 10, 6: 4, 3: 3})\n"
          ],
          "name": "stdout"
        }
      ]
    },
    {
      "cell_type": "code",
      "metadata": {
        "id": "e-4mMHbJlus_",
        "colab": {
          "base_uri": "https://localhost:8080/"
        },
        "outputId": "0086d100-9703-4b66-813a-24541f21309a"
      },
      "source": [
        "#Create a confusion matrix\n",
        "from sklearn.metrics import confusion_matrix\n",
        "\n",
        "#y_test as first argument and the preds as second argument \n",
        "confusion_matrix(y_val, gb_pred)"
      ],
      "execution_count": 53,
      "outputs": [
        {
          "output_type": "execute_result",
          "data": {
            "text/plain": [
              "array([[66,  2,  0,  0,  0,  0,  0,  3],\n",
              "       [ 0, 28,  0,  1,  6,  1,  1,  2],\n",
              "       [ 0,  0,  0,  0,  0,  0,  1,  0],\n",
              "       [ 0,  0,  0,  0,  0,  0,  0,  1],\n",
              "       [ 0,  8,  0,  2,  7,  1,  0,  0],\n",
              "       [ 0,  0,  0,  0,  0,  8,  0,  2],\n",
              "       [ 0,  0,  0,  0,  0,  0,  2,  0],\n",
              "       [ 3,  0,  0,  0,  0,  0,  0, 23]])"
            ]
          },
          "metadata": {
            "tags": []
          },
          "execution_count": 53
        }
      ]
    },
    {
      "cell_type": "code",
      "metadata": {
        "id": "h7cKluVef_mX",
        "colab": {
          "base_uri": "https://localhost:8080/",
          "height": 335
        },
        "outputId": "ec818f1d-1a55-4529-d59e-9c8da59e1042"
      },
      "source": [
        "sns.distplot(gb_pred)"
      ],
      "execution_count": 54,
      "outputs": [
        {
          "output_type": "stream",
          "text": [
            "/usr/local/lib/python3.6/dist-packages/seaborn/distributions.py:2551: FutureWarning: `distplot` is a deprecated function and will be removed in a future version. Please adapt your code to use either `displot` (a figure-level function with similar flexibility) or `histplot` (an axes-level function for histograms).\n",
            "  warnings.warn(msg, FutureWarning)\n"
          ],
          "name": "stderr"
        },
        {
          "output_type": "execute_result",
          "data": {
            "text/plain": [
              "<matplotlib.axes._subplots.AxesSubplot at 0x7fe3f42e89e8>"
            ]
          },
          "metadata": {
            "tags": []
          },
          "execution_count": 54
        },
        {
          "output_type": "display_data",
          "data": {
            "image/png": "[encoded data removed]",
            "text/plain": [
              "<Figure size 432x288 with 1 Axes>"
            ]
          },
          "metadata": {
            "tags": [],
            "needs_background": "light"
          }
        }
      ]
    },
    {
      "cell_type": "markdown",
      "metadata": {
        "id": "SHOkKxZumtot"
      },
      "source": [
        "ADA Boost Classifier"
      ]
    },
    {
      "cell_type": "code",
      "metadata": {
        "id": "QId2PyXxm09E",
        "colab": {
          "base_uri": "https://localhost:8080/"
        },
        "outputId": "fb3b5701-abc9-41a8-a05f-47483a42433e"
      },
      "source": [
        "#Ada Boost Classifier\n",
        "from sklearn.ensemble import AdaBoostClassifier\n",
        "\n",
        "ada_model = AdaBoostClassifier(base_estimator=RandomForestClassifier(n_estimators=100, random_state=0, class_weight=class_weights),\n",
        "                               learning_rate=0.01, random_state=0).fit(X_train, y_train)\n",
        "print(ada_model.score(X_train, y_train))"
      ],
      "execution_count": 55,
      "outputs": [
        {
          "output_type": "stream",
          "text": [
            "1.0\n"
          ],
          "name": "stdout"
        }
      ]
    },
    {
      "cell_type": "code",
      "metadata": {
        "id": "hbfC62TMnEJZ",
        "colab": {
          "base_uri": "https://localhost:8080/"
        },
        "outputId": "de657823-dbba-4515-9522-05ea68b83a9d"
      },
      "source": [
        "ada_pred = ada_model.predict(X_val)\n",
        "print(ada_model.score(X_val, y_val))"
      ],
      "execution_count": 56,
      "outputs": [
        {
          "output_type": "stream",
          "text": [
            "0.8630952380952381\n"
          ],
          "name": "stdout"
        }
      ]
    },
    {
      "cell_type": "code",
      "metadata": {
        "id": "4YdYZmYosrhe",
        "colab": {
          "base_uri": "https://localhost:8080/"
        },
        "outputId": "5bfdc8d8-ae9d-49b4-aec8-450f2ec6b8f6"
      },
      "source": [
        "print(Counter(ada_pred))"
      ],
      "execution_count": 57,
      "outputs": [
        {
          "output_type": "stream",
          "text": [
            "Counter({0: 73, 1: 37, 7: 27, 4: 21, 5: 8, 6: 2})\n"
          ],
          "name": "stdout"
        }
      ]
    },
    {
      "cell_type": "code",
      "metadata": {
        "id": "Vh5zhtu9nINH",
        "colab": {
          "base_uri": "https://localhost:8080/"
        },
        "outputId": "4537700d-abe2-426a-9482-6e04463bdefb"
      },
      "source": [
        "#Create a confusion matrix\n",
        "from sklearn.metrics import confusion_matrix\n",
        "\n",
        "#y_test as first argument and the preds as second argument \n",
        "confusion_matrix(y_val, ada_pred)"
      ],
      "execution_count": 58,
      "outputs": [
        {
          "output_type": "execute_result",
          "data": {
            "text/plain": [
              "array([[69,  0,  0,  0,  0,  0,  0,  2],\n",
              "       [ 0, 31,  0,  0,  8,  0,  0,  0],\n",
              "       [ 0,  0,  0,  0,  1,  0,  0,  0],\n",
              "       [ 0,  0,  0,  0,  0,  0,  0,  1],\n",
              "       [ 0,  6,  0,  0, 12,  0,  0,  0],\n",
              "       [ 1,  0,  0,  0,  0,  8,  0,  1],\n",
              "       [ 0,  0,  0,  0,  0,  0,  2,  0],\n",
              "       [ 3,  0,  0,  0,  0,  0,  0, 23]])"
            ]
          },
          "metadata": {
            "tags": []
          },
          "execution_count": 58
        }
      ]
    },
    {
      "cell_type": "code",
      "metadata": {
        "id": "QLt_sOJDgGaC",
        "colab": {
          "base_uri": "https://localhost:8080/",
          "height": 335
        },
        "outputId": "f8c1f690-14df-479c-e654-5e6832ba9b47"
      },
      "source": [
        "sns.distplot(ada_pred)"
      ],
      "execution_count": 59,
      "outputs": [
        {
          "output_type": "stream",
          "text": [
            "/usr/local/lib/python3.6/dist-packages/seaborn/distributions.py:2551: FutureWarning: `distplot` is a deprecated function and will be removed in a future version. Please adapt your code to use either `displot` (a figure-level function with similar flexibility) or `histplot` (an axes-level function for histograms).\n",
            "  warnings.warn(msg, FutureWarning)\n"
          ],
          "name": "stderr"
        },
        {
          "output_type": "execute_result",
          "data": {
            "text/plain": [
              "<matplotlib.axes._subplots.AxesSubplot at 0x7fe3f429c518>"
            ]
          },
          "metadata": {
            "tags": []
          },
          "execution_count": 59
        },
        {
          "output_type": "display_data",
          "data": {
            "image/png": "[encoded data removed]",
            "text/plain": [
              "<Figure size 432x288 with 1 Axes>"
            ]
          },
          "metadata": {
            "tags": [],
            "needs_background": "light"
          }
        }
      ]
    },
    {
      "cell_type": "markdown",
      "metadata": {
        "id": "RovV6bbynm4Y"
      },
      "source": [
        "MLP Classifier"
      ]
    },
    {
      "cell_type": "code",
      "metadata": {
        "id": "Y1iKi4bmnr2w",
        "colab": {
          "base_uri": "https://localhost:8080/"
        },
        "outputId": "baf45b63-69da-4e0d-8b2b-929f66320260"
      },
      "source": [
        "#mlpclassifier\n",
        "from sklearn.neural_network import MLPClassifier\n",
        "\n",
        "mlp_model = MLPClassifier(random_state=0, max_iter=2000).fit(X_train, y_train)\n",
        "print(mlp_model.score(X_train, y_train))"
      ],
      "execution_count": 60,
      "outputs": [
        {
          "output_type": "stream",
          "text": [
            "0.9820359281437125\n"
          ],
          "name": "stdout"
        }
      ]
    },
    {
      "cell_type": "code",
      "metadata": {
        "id": "QVTAgpQzoWiP",
        "colab": {
          "base_uri": "https://localhost:8080/"
        },
        "outputId": "373856af-95f8-4cd3-eb71-10a2efbb260a"
      },
      "source": [
        "mlp_pred = mlp_model.predict(X_val)\n",
        "print(mlp_model.score(X_val, y_val))"
      ],
      "execution_count": 61,
      "outputs": [
        {
          "output_type": "stream",
          "text": [
            "0.7916666666666666\n"
          ],
          "name": "stdout"
        }
      ]
    },
    {
      "cell_type": "code",
      "metadata": {
        "id": "i7QMLvwHs4Ea",
        "colab": {
          "base_uri": "https://localhost:8080/"
        },
        "outputId": "96e85fe3-513c-4510-c21f-b99573ac97cb"
      },
      "source": [
        "print(Counter(mlp_pred))"
      ],
      "execution_count": 62,
      "outputs": [
        {
          "output_type": "stream",
          "text": [
            "Counter({0: 69, 1: 41, 7: 27, 4: 16, 5: 10, 6: 5})\n"
          ],
          "name": "stdout"
        }
      ]
    },
    {
      "cell_type": "code",
      "metadata": {
        "id": "Tu8IlGF3od-D",
        "colab": {
          "base_uri": "https://localhost:8080/"
        },
        "outputId": "f91721f7-ecdb-44fc-b5d1-322f0451fa19"
      },
      "source": [
        "#Create a confusion matrix\n",
        "from sklearn.metrics import confusion_matrix\n",
        "\n",
        "#y_test as first argument and the preds as second argument \n",
        "confusion_matrix(y_val, mlp_pred)"
      ],
      "execution_count": 63,
      "outputs": [
        {
          "output_type": "execute_result",
          "data": {
            "text/plain": [
              "array([[66,  2,  0,  0,  0,  0,  0,  3],\n",
              "       [ 0, 28,  0,  0, 10,  0,  1,  0],\n",
              "       [ 0,  0,  0,  0,  0,  0,  1,  0],\n",
              "       [ 0,  0,  0,  0,  0,  0,  0,  1],\n",
              "       [ 0, 11,  0,  0,  6,  0,  1,  0],\n",
              "       [ 0,  0,  0,  0,  0,  9,  0,  1],\n",
              "       [ 0,  0,  0,  0,  0,  0,  2,  0],\n",
              "       [ 3,  0,  0,  0,  0,  1,  0, 22]])"
            ]
          },
          "metadata": {
            "tags": []
          },
          "execution_count": 63
        }
      ]
    },
    {
      "cell_type": "code",
      "metadata": {
        "id": "HVuOh4xVgP4Q",
        "colab": {
          "base_uri": "https://localhost:8080/",
          "height": 335
        },
        "outputId": "95d031d9-5e23-461e-9f08-26ffbd281aed"
      },
      "source": [
        "sns.distplot(mlp_pred)"
      ],
      "execution_count": 64,
      "outputs": [
        {
          "output_type": "stream",
          "text": [
            "/usr/local/lib/python3.6/dist-packages/seaborn/distributions.py:2551: FutureWarning: `distplot` is a deprecated function and will be removed in a future version. Please adapt your code to use either `displot` (a figure-level function with similar flexibility) or `histplot` (an axes-level function for histograms).\n",
            "  warnings.warn(msg, FutureWarning)\n"
          ],
          "name": "stderr"
        },
        {
          "output_type": "execute_result",
          "data": {
            "text/plain": [
              "<matplotlib.axes._subplots.AxesSubplot at 0x7fe3f46fcb38>"
            ]
          },
          "metadata": {
            "tags": []
          },
          "execution_count": 64
        },
        {
          "output_type": "display_data",
          "data": {
            "image/png": "[encoded data removed]",
            "text/plain": [
              "<Figure size 432x288 with 1 Axes>"
            ]
          },
          "metadata": {
            "tags": [],
            "needs_background": "light"
          }
        }
      ]
    },
    {
      "cell_type": "markdown",
      "metadata": {
        "id": "ye0C-wx6rNo6"
      },
      "source": [
        "Bagging Classifier"
      ]
    },
    {
      "cell_type": "code",
      "metadata": {
        "id": "UJFmUbrbrQwR",
        "colab": {
          "base_uri": "https://localhost:8080/"
        },
        "outputId": "a3171234-3b0d-4429-ccf7-30b219b8b298"
      },
      "source": [
        "#bagging classifier\n",
        "from sklearn.svm import SVC\n",
        "from sklearn.ensemble import BaggingClassifier\n",
        "bc_model = BaggingClassifier(base_estimator=SVC(class_weight=class_weights), n_estimators=10, random_state=0).fit(X_train, y_train)\n",
        "print(bc_model.score(X_train, y_train))"
      ],
      "execution_count": 65,
      "outputs": [
        {
          "output_type": "stream",
          "text": [
            "0.8502994011976048\n"
          ],
          "name": "stdout"
        }
      ]
    },
    {
      "cell_type": "code",
      "metadata": {
        "id": "tJgagttErzC0",
        "colab": {
          "base_uri": "https://localhost:8080/"
        },
        "outputId": "67357e41-c046-4dfd-d111-ce0bfbbb32f0"
      },
      "source": [
        "bc_pred = bc_model.predict(X_val)\n",
        "print(bc_model.score(X_val, y_val))"
      ],
      "execution_count": 66,
      "outputs": [
        {
          "output_type": "stream",
          "text": [
            "0.8035714285714286\n"
          ],
          "name": "stdout"
        }
      ]
    },
    {
      "cell_type": "code",
      "metadata": {
        "id": "prvJW-K7s-aE",
        "colab": {
          "base_uri": "https://localhost:8080/"
        },
        "outputId": "e8e5a664-679e-4980-e88e-91b33532e0b4"
      },
      "source": [
        "print(Counter(bc_pred))"
      ],
      "execution_count": 67,
      "outputs": [
        {
          "output_type": "stream",
          "text": [
            "Counter({0: 71, 1: 29, 7: 26, 4: 13, 5: 11, 3: 9, 2: 7, 6: 2})\n"
          ],
          "name": "stdout"
        }
      ]
    },
    {
      "cell_type": "code",
      "metadata": {
        "id": "daol8sNyr6g6",
        "colab": {
          "base_uri": "https://localhost:8080/"
        },
        "outputId": "3d4f09cb-8e7a-4f50-cd79-607554d84227"
      },
      "source": [
        "#Create a confusion matrix\n",
        "from sklearn.metrics import confusion_matrix\n",
        "\n",
        "#y_test as first argument and the preds as second argument \n",
        "confusion_matrix(y_val, bc_pred)"
      ],
      "execution_count": 68,
      "outputs": [
        {
          "output_type": "execute_result",
          "data": {
            "text/plain": [
              "array([[68,  1,  0,  0,  0,  0,  0,  2],\n",
              "       [ 0, 24,  6,  6,  3,  0,  0,  0],\n",
              "       [ 0,  1,  0,  0,  0,  0,  0,  0],\n",
              "       [ 0,  0,  0,  0,  0,  0,  0,  1],\n",
              "       [ 0,  3,  1,  3, 10,  1,  0,  0],\n",
              "       [ 0,  0,  0,  0,  0,  9,  0,  1],\n",
              "       [ 0,  0,  0,  0,  0,  0,  2,  0],\n",
              "       [ 3,  0,  0,  0,  0,  1,  0, 22]])"
            ]
          },
          "metadata": {
            "tags": []
          },
          "execution_count": 68
        }
      ]
    },
    {
      "cell_type": "code",
      "metadata": {
        "id": "qpjWiG72gX2L",
        "colab": {
          "base_uri": "https://localhost:8080/",
          "height": 335
        },
        "outputId": "92cf697b-3cad-4c38-c4e8-ba0abbede038"
      },
      "source": [
        "sns.distplot(bc_pred)"
      ],
      "execution_count": 69,
      "outputs": [
        {
          "output_type": "stream",
          "text": [
            "/usr/local/lib/python3.6/dist-packages/seaborn/distributions.py:2551: FutureWarning: `distplot` is a deprecated function and will be removed in a future version. Please adapt your code to use either `displot` (a figure-level function with similar flexibility) or `histplot` (an axes-level function for histograms).\n",
            "  warnings.warn(msg, FutureWarning)\n"
          ],
          "name": "stderr"
        },
        {
          "output_type": "execute_result",
          "data": {
            "text/plain": [
              "<matplotlib.axes._subplots.AxesSubplot at 0x7fe3f7f85978>"
            ]
          },
          "metadata": {
            "tags": []
          },
          "execution_count": 69
        },
        {
          "output_type": "display_data",
          "data": {
            "image/png": "[encoded data removed]",
            "text/plain": [
              "<Figure size 432x288 with 1 Axes>"
            ]
          },
          "metadata": {
            "tags": [],
            "needs_background": "light"
          }
        }
      ]
    },
    {
      "cell_type": "markdown",
      "metadata": {
        "id": "ypBeektlvoDQ"
      },
      "source": [
        "GaussianNB"
      ]
    },
    {
      "cell_type": "code",
      "metadata": {
        "id": "B_brTaGKvsnI",
        "colab": {
          "base_uri": "https://localhost:8080/"
        },
        "outputId": "24dd4f9d-b866-48bb-c36e-5762eeee399d"
      },
      "source": [
        "#GaussianNB\n",
        "from sklearn.naive_bayes import GaussianNB\n",
        "\n",
        "gnb_model = GaussianNB().fit(X_train, y_train)\n",
        "print(gnb_model.score(X_train, y_train))"
      ],
      "execution_count": 70,
      "outputs": [
        {
          "output_type": "stream",
          "text": [
            "0.8682634730538922\n"
          ],
          "name": "stdout"
        }
      ]
    },
    {
      "cell_type": "code",
      "metadata": {
        "id": "PixRi4-5wXD5",
        "colab": {
          "base_uri": "https://localhost:8080/"
        },
        "outputId": "78790b39-f49c-4990-cb22-e1caa143494c"
      },
      "source": [
        "gnb_pred = gnb_model.predict(X_val)\n",
        "print(gnb_model.score(X_val, y_val))"
      ],
      "execution_count": 71,
      "outputs": [
        {
          "output_type": "stream",
          "text": [
            "0.8095238095238095\n"
          ],
          "name": "stdout"
        }
      ]
    },
    {
      "cell_type": "code",
      "metadata": {
        "id": "VS3VZhF5tEbR",
        "colab": {
          "base_uri": "https://localhost:8080/"
        },
        "outputId": "55f0d472-6769-4d47-c987-5bebaa9cbb30"
      },
      "source": [
        "print(Counter(gnb_pred))"
      ],
      "execution_count": 72,
      "outputs": [
        {
          "output_type": "stream",
          "text": [
            "Counter({0: 71, 7: 31, 1: 29, 4: 29, 5: 6, 6: 2})\n"
          ],
          "name": "stdout"
        }
      ]
    },
    {
      "cell_type": "code",
      "metadata": {
        "id": "Ag8fhL1pwezc",
        "colab": {
          "base_uri": "https://localhost:8080/"
        },
        "outputId": "c9fd24f6-28d2-4587-90e3-8235c8994757"
      },
      "source": [
        "#Create a confusion matrix\n",
        "from sklearn.metrics import confusion_matrix\n",
        "\n",
        "#y_test as first argument and the preds as second argument \n",
        "confusion_matrix(y_val, gnb_pred)"
      ],
      "execution_count": 73,
      "outputs": [
        {
          "output_type": "execute_result",
          "data": {
            "text/plain": [
              "array([[67,  2,  0,  0,  0,  0,  0,  2],\n",
              "       [ 0, 25,  0,  0, 13,  1,  0,  0],\n",
              "       [ 0,  0,  0,  0,  0,  1,  0,  0],\n",
              "       [ 0,  0,  0,  0,  0,  0,  0,  1],\n",
              "       [ 0,  1,  0,  0, 16,  1,  0,  0],\n",
              "       [ 1,  1,  0,  0,  0,  3,  0,  5],\n",
              "       [ 0,  0,  0,  0,  0,  0,  2,  0],\n",
              "       [ 3,  0,  0,  0,  0,  0,  0, 23]])"
            ]
          },
          "metadata": {
            "tags": []
          },
          "execution_count": 73
        }
      ]
    },
    {
      "cell_type": "code",
      "metadata": {
        "id": "8fYeySMKgngE",
        "colab": {
          "base_uri": "https://localhost:8080/",
          "height": 335
        },
        "outputId": "7d9f2aed-4002-440b-fc93-f28aeced2829"
      },
      "source": [
        "sns.distplot(gnb_pred)"
      ],
      "execution_count": 74,
      "outputs": [
        {
          "output_type": "stream",
          "text": [
            "/usr/local/lib/python3.6/dist-packages/seaborn/distributions.py:2551: FutureWarning: `distplot` is a deprecated function and will be removed in a future version. Please adapt your code to use either `displot` (a figure-level function with similar flexibility) or `histplot` (an axes-level function for histograms).\n",
            "  warnings.warn(msg, FutureWarning)\n"
          ],
          "name": "stderr"
        },
        {
          "output_type": "execute_result",
          "data": {
            "text/plain": [
              "<matplotlib.axes._subplots.AxesSubplot at 0x7fe3f45771d0>"
            ]
          },
          "metadata": {
            "tags": []
          },
          "execution_count": 74
        },
        {
          "output_type": "display_data",
          "data": {
            "image/png": "[encoded data removed]",
            "text/plain": [
              "<Figure size 432x288 with 1 Axes>"
            ]
          },
          "metadata": {
            "tags": [],
            "needs_background": "light"
          }
        }
      ]
    },
    {
      "cell_type": "markdown",
      "metadata": {
        "id": "WdSzbiS8ytx9"
      },
      "source": [
        "XGB Classifier"
      ]
    },
    {
      "cell_type": "code",
      "metadata": {
        "id": "hWs51T7BywKX",
        "colab": {
          "base_uri": "https://localhost:8080/"
        },
        "outputId": "759e9b91-dc05-45d4-a177-86d5718e3896"
      },
      "source": [
        "#xgb classifier\n",
        "import xgboost as xgb\n",
        "from xgboost import XGBClassifier\n",
        "\n",
        "xgb_model = XGBClassifier().fit(X_train, y_train)\n",
        "print(xgb_model.score(X_train, y_train))"
      ],
      "execution_count": 75,
      "outputs": [
        {
          "output_type": "stream",
          "text": [
            "1.0\n"
          ],
          "name": "stdout"
        }
      ]
    },
    {
      "cell_type": "code",
      "metadata": {
        "id": "300OPO17zSeC",
        "colab": {
          "base_uri": "https://localhost:8080/"
        },
        "outputId": "e20fea43-6824-463f-d2ee-d841a34b40aa"
      },
      "source": [
        "xgb_pred = xgb_model.predict(X_val)\n",
        "print(xgb_model.score(X_val, y_val))"
      ],
      "execution_count": 76,
      "outputs": [
        {
          "output_type": "stream",
          "text": [
            "0.8214285714285714\n"
          ],
          "name": "stdout"
        }
      ]
    },
    {
      "cell_type": "code",
      "metadata": {
        "id": "2VvlJUg2tLgO",
        "colab": {
          "base_uri": "https://localhost:8080/"
        },
        "outputId": "03a0cf4d-f60e-4eba-ebb9-7971344ef235"
      },
      "source": [
        "print(Counter(xgb_pred))"
      ],
      "execution_count": 77,
      "outputs": [
        {
          "output_type": "stream",
          "text": [
            "Counter({0: 69, 1: 36, 7: 32, 4: 20, 5: 9, 6: 2})\n"
          ],
          "name": "stdout"
        }
      ]
    },
    {
      "cell_type": "code",
      "metadata": {
        "id": "Y2tAgB37zanR",
        "colab": {
          "base_uri": "https://localhost:8080/"
        },
        "outputId": "d6556e77-7d90-490e-f9de-7e2f3bafa735"
      },
      "source": [
        "#Create a confusion matrix\n",
        "from sklearn.metrics import confusion_matrix\n",
        "\n",
        "#y_test as first argument and the preds as second argument \n",
        "confusion_matrix(y_val, xgb_pred)"
      ],
      "execution_count": 78,
      "outputs": [
        {
          "output_type": "execute_result",
          "data": {
            "text/plain": [
              "array([[66,  1,  0,  0,  0,  0,  0,  4],\n",
              "       [ 0, 28,  0,  0,  8,  1,  0,  2],\n",
              "       [ 0,  0,  0,  0,  1,  0,  0,  0],\n",
              "       [ 0,  0,  0,  0,  0,  0,  0,  1],\n",
              "       [ 0,  7,  0,  0, 11,  0,  0,  0],\n",
              "       [ 0,  0,  0,  0,  0,  8,  0,  2],\n",
              "       [ 0,  0,  0,  0,  0,  0,  2,  0],\n",
              "       [ 3,  0,  0,  0,  0,  0,  0, 23]])"
            ]
          },
          "metadata": {
            "tags": []
          },
          "execution_count": 78
        }
      ]
    },
    {
      "cell_type": "code",
      "metadata": {
        "id": "JZkZ6J2bgyG1",
        "colab": {
          "base_uri": "https://localhost:8080/",
          "height": 335
        },
        "outputId": "08529833-24ac-4480-ed4c-f2aeb8d8ec6a"
      },
      "source": [
        "sns.distplot(xgb_pred)"
      ],
      "execution_count": 79,
      "outputs": [
        {
          "output_type": "stream",
          "text": [
            "/usr/local/lib/python3.6/dist-packages/seaborn/distributions.py:2551: FutureWarning: `distplot` is a deprecated function and will be removed in a future version. Please adapt your code to use either `displot` (a figure-level function with similar flexibility) or `histplot` (an axes-level function for histograms).\n",
            "  warnings.warn(msg, FutureWarning)\n"
          ],
          "name": "stderr"
        },
        {
          "output_type": "execute_result",
          "data": {
            "text/plain": [
              "<matplotlib.axes._subplots.AxesSubplot at 0x7fe3f45a3cf8>"
            ]
          },
          "metadata": {
            "tags": []
          },
          "execution_count": 79
        },
        {
          "output_type": "display_data",
          "data": {
            "image/png": "[encoded data removed]",
            "text/plain": [
              "<Figure size 432x288 with 1 Axes>"
            ]
          },
          "metadata": {
            "tags": [],
            "needs_background": "light"
          }
        }
      ]
    }
  ]
}