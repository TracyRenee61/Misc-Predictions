{
  "nbformat": 4,
  "nbformat_minor": 0,
  "metadata": {
    "colab": {
      "name": "Food Demand - HistGradientBoosrRegressor.ipynb",
      "provenance": [],
      "collapsed_sections": []
    },
    "kernelspec": {
      "name": "python3",
      "display_name": "Python 3"
    }
  },
  "cells": [
    {
      "cell_type": "markdown",
      "metadata": {
        "id": "XVWJR_tYrwp2"
      },
      "source": [
        "Problem Statement\n",
        "\n",
        "Your client is a meal delivery company which operates in multiple cities. They have various fulfillment centers in these cities for dispatching meal orders to their customers. The client wants you to help these centers with demand forecasting for upcoming weeks so that these centers will plan the stock of raw materials accordingly.\n",
        "\n",
        "The replenishment of majority of raw materials is done on weekly basis and since the raw material is perishable, the procurement planning is of utmost importance. Secondly, staffing of the centers is also one area wherein accurate demand forecasts are really helpful. Given the following information, the task is to predict the demand for the next 10 weeks (Weeks: 146-155) for the center-meal combinations in the test set:  \n",
        "\n",
        "Historical data of demand for a product-center combination (Weeks: 1 to 145)\n",
        "Product(Meal) features such as category, sub-category, current price and discount\n",
        "Information for fulfillment center like center area, city information etc.\n"
      ]
    },
    {
      "cell_type": "markdown",
      "metadata": {
        "id": "f9fw0saYr-jN"
      },
      "source": [
        "Import Libraries"
      ]
    },
    {
      "cell_type": "code",
      "metadata": {
        "id": "gtQLncBLpsRb"
      },
      "source": [
        "#import libraries\n",
        "import numpy as np\n",
        "import pandas as pd\n",
        "import matplotlib.pyplot as plt\n",
        "%matplotlib inline\n",
        "import seaborn as sns"
      ],
      "execution_count": 161,
      "outputs": []
    },
    {
      "cell_type": "markdown",
      "metadata": {
        "id": "UV0XHkafsCv1"
      },
      "source": [
        "Load Datasets"
      ]
    },
    {
      "cell_type": "code",
      "metadata": {
        "id": "2Eu3L7ZTqTBq"
      },
      "source": [
        "#Load datasets\n",
        "train=pd.read_csv(\"/content/drive/My Drive/Colab Notebooks/food_train.csv\")\n",
        "test=pd.read_csv(\"/content/drive/My Drive/Colab Notebooks/food_test.csv\")\n",
        "sample_sub=pd.read_csv(\"/content/drive/My Drive/Colab Notebooks/food_sample_submission.csv\")\n",
        "fulfilment=pd.read_csv(\"/content/drive/My Drive/Colab Notebooks/food_fulfilment_center_info.csv\")\n",
        "meal=pd.read_csv(\"/content/drive/My Drive/Colab Notebooks/food_meal.csv\")"
      ],
      "execution_count": 162,
      "outputs": []
    },
    {
      "cell_type": "code",
      "metadata": {
        "id": "HjyYrfzTqjsa",
        "outputId": "f6bc4528-420c-4a1b-9e1c-7dbd3ce08251",
        "colab": {
          "base_uri": "https://localhost:8080/",
          "height": 419
        }
      },
      "source": [
        "train"
      ],
      "execution_count": 163,
      "outputs": [
        {
          "output_type": "execute_result",
          "data": {
            "text/html": [
              "<div>\n",
              "<style scoped>\n",
              "    .dataframe tbody tr th:only-of-type {\n",
              "        vertical-align: middle;\n",
              "    }\n",
              "\n",
              "    .dataframe tbody tr th {\n",
              "        vertical-align: top;\n",
              "    }\n",
              "\n",
              "    .dataframe thead th {\n",
              "        text-align: right;\n",
              "    }\n",
              "</style>\n",
              "<table border=\"1\" class=\"dataframe\">\n",
              "  <thead>\n",
              "    <tr style=\"text-align: right;\">\n",
              "      <th></th>\n",
              "      <th>id</th>\n",
              "      <th>week</th>\n",
              "      <th>center_id</th>\n",
              "      <th>meal_id</th>\n",
              "      <th>checkout_price</th>\n",
              "      <th>base_price</th>\n",
              "      <th>emailer_for_promotion</th>\n",
              "      <th>homepage_featured</th>\n",
              "      <th>num_orders</th>\n",
              "    </tr>\n",
              "  </thead>\n",
              "  <tbody>\n",
              "    <tr>\n",
              "      <th>0</th>\n",
              "      <td>1379560</td>\n",
              "      <td>1</td>\n",
              "      <td>55</td>\n",
              "      <td>1885</td>\n",
              "      <td>136.83</td>\n",
              "      <td>152.29</td>\n",
              "      <td>0</td>\n",
              "      <td>0</td>\n",
              "      <td>177</td>\n",
              "    </tr>\n",
              "    <tr>\n",
              "      <th>1</th>\n",
              "      <td>1466964</td>\n",
              "      <td>1</td>\n",
              "      <td>55</td>\n",
              "      <td>1993</td>\n",
              "      <td>136.83</td>\n",
              "      <td>135.83</td>\n",
              "      <td>0</td>\n",
              "      <td>0</td>\n",
              "      <td>270</td>\n",
              "    </tr>\n",
              "    <tr>\n",
              "      <th>2</th>\n",
              "      <td>1346989</td>\n",
              "      <td>1</td>\n",
              "      <td>55</td>\n",
              "      <td>2539</td>\n",
              "      <td>134.86</td>\n",
              "      <td>135.86</td>\n",
              "      <td>0</td>\n",
              "      <td>0</td>\n",
              "      <td>189</td>\n",
              "    </tr>\n",
              "    <tr>\n",
              "      <th>3</th>\n",
              "      <td>1338232</td>\n",
              "      <td>1</td>\n",
              "      <td>55</td>\n",
              "      <td>2139</td>\n",
              "      <td>339.50</td>\n",
              "      <td>437.53</td>\n",
              "      <td>0</td>\n",
              "      <td>0</td>\n",
              "      <td>54</td>\n",
              "    </tr>\n",
              "    <tr>\n",
              "      <th>4</th>\n",
              "      <td>1448490</td>\n",
              "      <td>1</td>\n",
              "      <td>55</td>\n",
              "      <td>2631</td>\n",
              "      <td>243.50</td>\n",
              "      <td>242.50</td>\n",
              "      <td>0</td>\n",
              "      <td>0</td>\n",
              "      <td>40</td>\n",
              "    </tr>\n",
              "    <tr>\n",
              "      <th>...</th>\n",
              "      <td>...</td>\n",
              "      <td>...</td>\n",
              "      <td>...</td>\n",
              "      <td>...</td>\n",
              "      <td>...</td>\n",
              "      <td>...</td>\n",
              "      <td>...</td>\n",
              "      <td>...</td>\n",
              "      <td>...</td>\n",
              "    </tr>\n",
              "    <tr>\n",
              "      <th>456543</th>\n",
              "      <td>1271326</td>\n",
              "      <td>145</td>\n",
              "      <td>61</td>\n",
              "      <td>1543</td>\n",
              "      <td>484.09</td>\n",
              "      <td>484.09</td>\n",
              "      <td>0</td>\n",
              "      <td>0</td>\n",
              "      <td>68</td>\n",
              "    </tr>\n",
              "    <tr>\n",
              "      <th>456544</th>\n",
              "      <td>1062036</td>\n",
              "      <td>145</td>\n",
              "      <td>61</td>\n",
              "      <td>2304</td>\n",
              "      <td>482.09</td>\n",
              "      <td>482.09</td>\n",
              "      <td>0</td>\n",
              "      <td>0</td>\n",
              "      <td>42</td>\n",
              "    </tr>\n",
              "    <tr>\n",
              "      <th>456545</th>\n",
              "      <td>1110849</td>\n",
              "      <td>145</td>\n",
              "      <td>61</td>\n",
              "      <td>2664</td>\n",
              "      <td>237.68</td>\n",
              "      <td>321.07</td>\n",
              "      <td>0</td>\n",
              "      <td>0</td>\n",
              "      <td>501</td>\n",
              "    </tr>\n",
              "    <tr>\n",
              "      <th>456546</th>\n",
              "      <td>1147725</td>\n",
              "      <td>145</td>\n",
              "      <td>61</td>\n",
              "      <td>2569</td>\n",
              "      <td>243.50</td>\n",
              "      <td>313.34</td>\n",
              "      <td>0</td>\n",
              "      <td>0</td>\n",
              "      <td>729</td>\n",
              "    </tr>\n",
              "    <tr>\n",
              "      <th>456547</th>\n",
              "      <td>1361984</td>\n",
              "      <td>145</td>\n",
              "      <td>61</td>\n",
              "      <td>2490</td>\n",
              "      <td>292.03</td>\n",
              "      <td>290.03</td>\n",
              "      <td>0</td>\n",
              "      <td>0</td>\n",
              "      <td>162</td>\n",
              "    </tr>\n",
              "  </tbody>\n",
              "</table>\n",
              "<p>456548 rows × 9 columns</p>\n",
              "</div>"
            ],
            "text/plain": [
              "             id  week  ...  homepage_featured  num_orders\n",
              "0       1379560     1  ...                  0         177\n",
              "1       1466964     1  ...                  0         270\n",
              "2       1346989     1  ...                  0         189\n",
              "3       1338232     1  ...                  0          54\n",
              "4       1448490     1  ...                  0          40\n",
              "...         ...   ...  ...                ...         ...\n",
              "456543  1271326   145  ...                  0          68\n",
              "456544  1062036   145  ...                  0          42\n",
              "456545  1110849   145  ...                  0         501\n",
              "456546  1147725   145  ...                  0         729\n",
              "456547  1361984   145  ...                  0         162\n",
              "\n",
              "[456548 rows x 9 columns]"
            ]
          },
          "metadata": {
            "tags": []
          },
          "execution_count": 163
        }
      ]
    },
    {
      "cell_type": "code",
      "metadata": {
        "id": "vkk061mFqmxp",
        "outputId": "dc768183-8f9e-48d3-b8b0-fddd9ecf45bc",
        "colab": {
          "base_uri": "https://localhost:8080/",
          "height": 419
        }
      },
      "source": [
        "test"
      ],
      "execution_count": 164,
      "outputs": [
        {
          "output_type": "execute_result",
          "data": {
            "text/html": [
              "<div>\n",
              "<style scoped>\n",
              "    .dataframe tbody tr th:only-of-type {\n",
              "        vertical-align: middle;\n",
              "    }\n",
              "\n",
              "    .dataframe tbody tr th {\n",
              "        vertical-align: top;\n",
              "    }\n",
              "\n",
              "    .dataframe thead th {\n",
              "        text-align: right;\n",
              "    }\n",
              "</style>\n",
              "<table border=\"1\" class=\"dataframe\">\n",
              "  <thead>\n",
              "    <tr style=\"text-align: right;\">\n",
              "      <th></th>\n",
              "      <th>id</th>\n",
              "      <th>week</th>\n",
              "      <th>center_id</th>\n",
              "      <th>meal_id</th>\n",
              "      <th>checkout_price</th>\n",
              "      <th>base_price</th>\n",
              "      <th>emailer_for_promotion</th>\n",
              "      <th>homepage_featured</th>\n",
              "    </tr>\n",
              "  </thead>\n",
              "  <tbody>\n",
              "    <tr>\n",
              "      <th>0</th>\n",
              "      <td>1028232</td>\n",
              "      <td>146</td>\n",
              "      <td>55</td>\n",
              "      <td>1885</td>\n",
              "      <td>158.11</td>\n",
              "      <td>159.11</td>\n",
              "      <td>0</td>\n",
              "      <td>0</td>\n",
              "    </tr>\n",
              "    <tr>\n",
              "      <th>1</th>\n",
              "      <td>1127204</td>\n",
              "      <td>146</td>\n",
              "      <td>55</td>\n",
              "      <td>1993</td>\n",
              "      <td>160.11</td>\n",
              "      <td>159.11</td>\n",
              "      <td>0</td>\n",
              "      <td>0</td>\n",
              "    </tr>\n",
              "    <tr>\n",
              "      <th>2</th>\n",
              "      <td>1212707</td>\n",
              "      <td>146</td>\n",
              "      <td>55</td>\n",
              "      <td>2539</td>\n",
              "      <td>157.14</td>\n",
              "      <td>159.14</td>\n",
              "      <td>0</td>\n",
              "      <td>0</td>\n",
              "    </tr>\n",
              "    <tr>\n",
              "      <th>3</th>\n",
              "      <td>1082698</td>\n",
              "      <td>146</td>\n",
              "      <td>55</td>\n",
              "      <td>2631</td>\n",
              "      <td>162.02</td>\n",
              "      <td>162.02</td>\n",
              "      <td>0</td>\n",
              "      <td>0</td>\n",
              "    </tr>\n",
              "    <tr>\n",
              "      <th>4</th>\n",
              "      <td>1400926</td>\n",
              "      <td>146</td>\n",
              "      <td>55</td>\n",
              "      <td>1248</td>\n",
              "      <td>163.93</td>\n",
              "      <td>163.93</td>\n",
              "      <td>0</td>\n",
              "      <td>0</td>\n",
              "    </tr>\n",
              "    <tr>\n",
              "      <th>...</th>\n",
              "      <td>...</td>\n",
              "      <td>...</td>\n",
              "      <td>...</td>\n",
              "      <td>...</td>\n",
              "      <td>...</td>\n",
              "      <td>...</td>\n",
              "      <td>...</td>\n",
              "      <td>...</td>\n",
              "    </tr>\n",
              "    <tr>\n",
              "      <th>32568</th>\n",
              "      <td>1250239</td>\n",
              "      <td>155</td>\n",
              "      <td>61</td>\n",
              "      <td>1543</td>\n",
              "      <td>482.09</td>\n",
              "      <td>484.09</td>\n",
              "      <td>0</td>\n",
              "      <td>0</td>\n",
              "    </tr>\n",
              "    <tr>\n",
              "      <th>32569</th>\n",
              "      <td>1039516</td>\n",
              "      <td>155</td>\n",
              "      <td>61</td>\n",
              "      <td>2304</td>\n",
              "      <td>483.09</td>\n",
              "      <td>483.09</td>\n",
              "      <td>0</td>\n",
              "      <td>0</td>\n",
              "    </tr>\n",
              "    <tr>\n",
              "      <th>32570</th>\n",
              "      <td>1158107</td>\n",
              "      <td>155</td>\n",
              "      <td>61</td>\n",
              "      <td>2664</td>\n",
              "      <td>322.07</td>\n",
              "      <td>323.07</td>\n",
              "      <td>0</td>\n",
              "      <td>0</td>\n",
              "    </tr>\n",
              "    <tr>\n",
              "      <th>32571</th>\n",
              "      <td>1444235</td>\n",
              "      <td>155</td>\n",
              "      <td>61</td>\n",
              "      <td>2569</td>\n",
              "      <td>322.07</td>\n",
              "      <td>323.07</td>\n",
              "      <td>0</td>\n",
              "      <td>0</td>\n",
              "    </tr>\n",
              "    <tr>\n",
              "      <th>32572</th>\n",
              "      <td>1291286</td>\n",
              "      <td>155</td>\n",
              "      <td>61</td>\n",
              "      <td>2490</td>\n",
              "      <td>276.45</td>\n",
              "      <td>276.45</td>\n",
              "      <td>0</td>\n",
              "      <td>0</td>\n",
              "    </tr>\n",
              "  </tbody>\n",
              "</table>\n",
              "<p>32573 rows × 8 columns</p>\n",
              "</div>"
            ],
            "text/plain": [
              "            id  week  ...  emailer_for_promotion  homepage_featured\n",
              "0      1028232   146  ...                      0                  0\n",
              "1      1127204   146  ...                      0                  0\n",
              "2      1212707   146  ...                      0                  0\n",
              "3      1082698   146  ...                      0                  0\n",
              "4      1400926   146  ...                      0                  0\n",
              "...        ...   ...  ...                    ...                ...\n",
              "32568  1250239   155  ...                      0                  0\n",
              "32569  1039516   155  ...                      0                  0\n",
              "32570  1158107   155  ...                      0                  0\n",
              "32571  1444235   155  ...                      0                  0\n",
              "32572  1291286   155  ...                      0                  0\n",
              "\n",
              "[32573 rows x 8 columns]"
            ]
          },
          "metadata": {
            "tags": []
          },
          "execution_count": 164
        }
      ]
    },
    {
      "cell_type": "code",
      "metadata": {
        "id": "L-Cd9m4fqzij",
        "outputId": "a2e894e9-6620-4b28-d2a9-c4eb5e248023",
        "colab": {
          "base_uri": "https://localhost:8080/",
          "height": 419
        }
      },
      "source": [
        "fulfilment"
      ],
      "execution_count": 165,
      "outputs": [
        {
          "output_type": "execute_result",
          "data": {
            "text/html": [
              "<div>\n",
              "<style scoped>\n",
              "    .dataframe tbody tr th:only-of-type {\n",
              "        vertical-align: middle;\n",
              "    }\n",
              "\n",
              "    .dataframe tbody tr th {\n",
              "        vertical-align: top;\n",
              "    }\n",
              "\n",
              "    .dataframe thead th {\n",
              "        text-align: right;\n",
              "    }\n",
              "</style>\n",
              "<table border=\"1\" class=\"dataframe\">\n",
              "  <thead>\n",
              "    <tr style=\"text-align: right;\">\n",
              "      <th></th>\n",
              "      <th>center_id</th>\n",
              "      <th>city_code</th>\n",
              "      <th>region_code</th>\n",
              "      <th>center_type</th>\n",
              "      <th>op_area</th>\n",
              "    </tr>\n",
              "  </thead>\n",
              "  <tbody>\n",
              "    <tr>\n",
              "      <th>0</th>\n",
              "      <td>11</td>\n",
              "      <td>679</td>\n",
              "      <td>56</td>\n",
              "      <td>TYPE_A</td>\n",
              "      <td>3.7</td>\n",
              "    </tr>\n",
              "    <tr>\n",
              "      <th>1</th>\n",
              "      <td>13</td>\n",
              "      <td>590</td>\n",
              "      <td>56</td>\n",
              "      <td>TYPE_B</td>\n",
              "      <td>6.7</td>\n",
              "    </tr>\n",
              "    <tr>\n",
              "      <th>2</th>\n",
              "      <td>124</td>\n",
              "      <td>590</td>\n",
              "      <td>56</td>\n",
              "      <td>TYPE_C</td>\n",
              "      <td>4.0</td>\n",
              "    </tr>\n",
              "    <tr>\n",
              "      <th>3</th>\n",
              "      <td>66</td>\n",
              "      <td>648</td>\n",
              "      <td>34</td>\n",
              "      <td>TYPE_A</td>\n",
              "      <td>4.1</td>\n",
              "    </tr>\n",
              "    <tr>\n",
              "      <th>4</th>\n",
              "      <td>94</td>\n",
              "      <td>632</td>\n",
              "      <td>34</td>\n",
              "      <td>TYPE_C</td>\n",
              "      <td>3.6</td>\n",
              "    </tr>\n",
              "    <tr>\n",
              "      <th>...</th>\n",
              "      <td>...</td>\n",
              "      <td>...</td>\n",
              "      <td>...</td>\n",
              "      <td>...</td>\n",
              "      <td>...</td>\n",
              "    </tr>\n",
              "    <tr>\n",
              "      <th>72</th>\n",
              "      <td>53</td>\n",
              "      <td>590</td>\n",
              "      <td>56</td>\n",
              "      <td>TYPE_A</td>\n",
              "      <td>3.8</td>\n",
              "    </tr>\n",
              "    <tr>\n",
              "      <th>73</th>\n",
              "      <td>30</td>\n",
              "      <td>604</td>\n",
              "      <td>56</td>\n",
              "      <td>TYPE_A</td>\n",
              "      <td>3.5</td>\n",
              "    </tr>\n",
              "    <tr>\n",
              "      <th>74</th>\n",
              "      <td>76</td>\n",
              "      <td>614</td>\n",
              "      <td>85</td>\n",
              "      <td>TYPE_A</td>\n",
              "      <td>3.0</td>\n",
              "    </tr>\n",
              "    <tr>\n",
              "      <th>75</th>\n",
              "      <td>68</td>\n",
              "      <td>676</td>\n",
              "      <td>34</td>\n",
              "      <td>TYPE_B</td>\n",
              "      <td>4.1</td>\n",
              "    </tr>\n",
              "    <tr>\n",
              "      <th>76</th>\n",
              "      <td>51</td>\n",
              "      <td>638</td>\n",
              "      <td>56</td>\n",
              "      <td>TYPE_A</td>\n",
              "      <td>7.0</td>\n",
              "    </tr>\n",
              "  </tbody>\n",
              "</table>\n",
              "<p>77 rows × 5 columns</p>\n",
              "</div>"
            ],
            "text/plain": [
              "    center_id  city_code  region_code center_type  op_area\n",
              "0          11        679           56      TYPE_A      3.7\n",
              "1          13        590           56      TYPE_B      6.7\n",
              "2         124        590           56      TYPE_C      4.0\n",
              "3          66        648           34      TYPE_A      4.1\n",
              "4          94        632           34      TYPE_C      3.6\n",
              "..        ...        ...          ...         ...      ...\n",
              "72         53        590           56      TYPE_A      3.8\n",
              "73         30        604           56      TYPE_A      3.5\n",
              "74         76        614           85      TYPE_A      3.0\n",
              "75         68        676           34      TYPE_B      4.1\n",
              "76         51        638           56      TYPE_A      7.0\n",
              "\n",
              "[77 rows x 5 columns]"
            ]
          },
          "metadata": {
            "tags": []
          },
          "execution_count": 165
        }
      ]
    },
    {
      "cell_type": "code",
      "metadata": {
        "id": "JITpoQGxq5O4",
        "outputId": "e5203a28-76f1-430f-da8d-6f71138585c5",
        "colab": {
          "base_uri": "https://localhost:8080/",
          "height": 1000
        }
      },
      "source": [
        "meal"
      ],
      "execution_count": 166,
      "outputs": [
        {
          "output_type": "execute_result",
          "data": {
            "text/html": [
              "<div>\n",
              "<style scoped>\n",
              "    .dataframe tbody tr th:only-of-type {\n",
              "        vertical-align: middle;\n",
              "    }\n",
              "\n",
              "    .dataframe tbody tr th {\n",
              "        vertical-align: top;\n",
              "    }\n",
              "\n",
              "    .dataframe thead th {\n",
              "        text-align: right;\n",
              "    }\n",
              "</style>\n",
              "<table border=\"1\" class=\"dataframe\">\n",
              "  <thead>\n",
              "    <tr style=\"text-align: right;\">\n",
              "      <th></th>\n",
              "      <th>meal_id</th>\n",
              "      <th>category</th>\n",
              "      <th>cuisine</th>\n",
              "    </tr>\n",
              "  </thead>\n",
              "  <tbody>\n",
              "    <tr>\n",
              "      <th>0</th>\n",
              "      <td>1885</td>\n",
              "      <td>Beverages</td>\n",
              "      <td>Thai</td>\n",
              "    </tr>\n",
              "    <tr>\n",
              "      <th>1</th>\n",
              "      <td>1993</td>\n",
              "      <td>Beverages</td>\n",
              "      <td>Thai</td>\n",
              "    </tr>\n",
              "    <tr>\n",
              "      <th>2</th>\n",
              "      <td>2539</td>\n",
              "      <td>Beverages</td>\n",
              "      <td>Thai</td>\n",
              "    </tr>\n",
              "    <tr>\n",
              "      <th>3</th>\n",
              "      <td>1248</td>\n",
              "      <td>Beverages</td>\n",
              "      <td>Indian</td>\n",
              "    </tr>\n",
              "    <tr>\n",
              "      <th>4</th>\n",
              "      <td>2631</td>\n",
              "      <td>Beverages</td>\n",
              "      <td>Indian</td>\n",
              "    </tr>\n",
              "    <tr>\n",
              "      <th>5</th>\n",
              "      <td>1311</td>\n",
              "      <td>Extras</td>\n",
              "      <td>Thai</td>\n",
              "    </tr>\n",
              "    <tr>\n",
              "      <th>6</th>\n",
              "      <td>1062</td>\n",
              "      <td>Beverages</td>\n",
              "      <td>Italian</td>\n",
              "    </tr>\n",
              "    <tr>\n",
              "      <th>7</th>\n",
              "      <td>1778</td>\n",
              "      <td>Beverages</td>\n",
              "      <td>Italian</td>\n",
              "    </tr>\n",
              "    <tr>\n",
              "      <th>8</th>\n",
              "      <td>1803</td>\n",
              "      <td>Extras</td>\n",
              "      <td>Thai</td>\n",
              "    </tr>\n",
              "    <tr>\n",
              "      <th>9</th>\n",
              "      <td>1198</td>\n",
              "      <td>Extras</td>\n",
              "      <td>Thai</td>\n",
              "    </tr>\n",
              "    <tr>\n",
              "      <th>10</th>\n",
              "      <td>2707</td>\n",
              "      <td>Beverages</td>\n",
              "      <td>Italian</td>\n",
              "    </tr>\n",
              "    <tr>\n",
              "      <th>11</th>\n",
              "      <td>1847</td>\n",
              "      <td>Soup</td>\n",
              "      <td>Thai</td>\n",
              "    </tr>\n",
              "    <tr>\n",
              "      <th>12</th>\n",
              "      <td>1438</td>\n",
              "      <td>Soup</td>\n",
              "      <td>Thai</td>\n",
              "    </tr>\n",
              "    <tr>\n",
              "      <th>13</th>\n",
              "      <td>2494</td>\n",
              "      <td>Soup</td>\n",
              "      <td>Thai</td>\n",
              "    </tr>\n",
              "    <tr>\n",
              "      <th>14</th>\n",
              "      <td>2760</td>\n",
              "      <td>Other Snacks</td>\n",
              "      <td>Thai</td>\n",
              "    </tr>\n",
              "    <tr>\n",
              "      <th>15</th>\n",
              "      <td>2490</td>\n",
              "      <td>Salad</td>\n",
              "      <td>Italian</td>\n",
              "    </tr>\n",
              "    <tr>\n",
              "      <th>16</th>\n",
              "      <td>1109</td>\n",
              "      <td>Rice Bowl</td>\n",
              "      <td>Indian</td>\n",
              "    </tr>\n",
              "    <tr>\n",
              "      <th>17</th>\n",
              "      <td>2290</td>\n",
              "      <td>Rice Bowl</td>\n",
              "      <td>Indian</td>\n",
              "    </tr>\n",
              "    <tr>\n",
              "      <th>18</th>\n",
              "      <td>1525</td>\n",
              "      <td>Other Snacks</td>\n",
              "      <td>Thai</td>\n",
              "    </tr>\n",
              "    <tr>\n",
              "      <th>19</th>\n",
              "      <td>2704</td>\n",
              "      <td>Other Snacks</td>\n",
              "      <td>Thai</td>\n",
              "    </tr>\n",
              "    <tr>\n",
              "      <th>20</th>\n",
              "      <td>1878</td>\n",
              "      <td>Starters</td>\n",
              "      <td>Thai</td>\n",
              "    </tr>\n",
              "    <tr>\n",
              "      <th>21</th>\n",
              "      <td>2640</td>\n",
              "      <td>Starters</td>\n",
              "      <td>Thai</td>\n",
              "    </tr>\n",
              "    <tr>\n",
              "      <th>22</th>\n",
              "      <td>2577</td>\n",
              "      <td>Starters</td>\n",
              "      <td>Thai</td>\n",
              "    </tr>\n",
              "    <tr>\n",
              "      <th>23</th>\n",
              "      <td>1754</td>\n",
              "      <td>Sandwich</td>\n",
              "      <td>Italian</td>\n",
              "    </tr>\n",
              "    <tr>\n",
              "      <th>24</th>\n",
              "      <td>1971</td>\n",
              "      <td>Sandwich</td>\n",
              "      <td>Italian</td>\n",
              "    </tr>\n",
              "    <tr>\n",
              "      <th>25</th>\n",
              "      <td>2306</td>\n",
              "      <td>Pasta</td>\n",
              "      <td>Italian</td>\n",
              "    </tr>\n",
              "    <tr>\n",
              "      <th>26</th>\n",
              "      <td>2139</td>\n",
              "      <td>Beverages</td>\n",
              "      <td>Indian</td>\n",
              "    </tr>\n",
              "    <tr>\n",
              "      <th>27</th>\n",
              "      <td>2826</td>\n",
              "      <td>Sandwich</td>\n",
              "      <td>Italian</td>\n",
              "    </tr>\n",
              "    <tr>\n",
              "      <th>28</th>\n",
              "      <td>2664</td>\n",
              "      <td>Salad</td>\n",
              "      <td>Italian</td>\n",
              "    </tr>\n",
              "    <tr>\n",
              "      <th>29</th>\n",
              "      <td>2569</td>\n",
              "      <td>Salad</td>\n",
              "      <td>Italian</td>\n",
              "    </tr>\n",
              "    <tr>\n",
              "      <th>30</th>\n",
              "      <td>1230</td>\n",
              "      <td>Beverages</td>\n",
              "      <td>Continental</td>\n",
              "    </tr>\n",
              "    <tr>\n",
              "      <th>31</th>\n",
              "      <td>1207</td>\n",
              "      <td>Beverages</td>\n",
              "      <td>Continental</td>\n",
              "    </tr>\n",
              "    <tr>\n",
              "      <th>32</th>\n",
              "      <td>2322</td>\n",
              "      <td>Beverages</td>\n",
              "      <td>Continental</td>\n",
              "    </tr>\n",
              "    <tr>\n",
              "      <th>33</th>\n",
              "      <td>2492</td>\n",
              "      <td>Desert</td>\n",
              "      <td>Indian</td>\n",
              "    </tr>\n",
              "    <tr>\n",
              "      <th>34</th>\n",
              "      <td>1216</td>\n",
              "      <td>Pasta</td>\n",
              "      <td>Italian</td>\n",
              "    </tr>\n",
              "    <tr>\n",
              "      <th>35</th>\n",
              "      <td>1727</td>\n",
              "      <td>Rice Bowl</td>\n",
              "      <td>Indian</td>\n",
              "    </tr>\n",
              "    <tr>\n",
              "      <th>36</th>\n",
              "      <td>1902</td>\n",
              "      <td>Biryani</td>\n",
              "      <td>Indian</td>\n",
              "    </tr>\n",
              "    <tr>\n",
              "      <th>37</th>\n",
              "      <td>1247</td>\n",
              "      <td>Biryani</td>\n",
              "      <td>Indian</td>\n",
              "    </tr>\n",
              "    <tr>\n",
              "      <th>38</th>\n",
              "      <td>2304</td>\n",
              "      <td>Desert</td>\n",
              "      <td>Indian</td>\n",
              "    </tr>\n",
              "    <tr>\n",
              "      <th>39</th>\n",
              "      <td>1543</td>\n",
              "      <td>Desert</td>\n",
              "      <td>Indian</td>\n",
              "    </tr>\n",
              "    <tr>\n",
              "      <th>40</th>\n",
              "      <td>1770</td>\n",
              "      <td>Biryani</td>\n",
              "      <td>Indian</td>\n",
              "    </tr>\n",
              "    <tr>\n",
              "      <th>41</th>\n",
              "      <td>2126</td>\n",
              "      <td>Pasta</td>\n",
              "      <td>Italian</td>\n",
              "    </tr>\n",
              "    <tr>\n",
              "      <th>42</th>\n",
              "      <td>1558</td>\n",
              "      <td>Pizza</td>\n",
              "      <td>Continental</td>\n",
              "    </tr>\n",
              "    <tr>\n",
              "      <th>43</th>\n",
              "      <td>2581</td>\n",
              "      <td>Pizza</td>\n",
              "      <td>Continental</td>\n",
              "    </tr>\n",
              "    <tr>\n",
              "      <th>44</th>\n",
              "      <td>1962</td>\n",
              "      <td>Pizza</td>\n",
              "      <td>Continental</td>\n",
              "    </tr>\n",
              "    <tr>\n",
              "      <th>45</th>\n",
              "      <td>1571</td>\n",
              "      <td>Fish</td>\n",
              "      <td>Continental</td>\n",
              "    </tr>\n",
              "    <tr>\n",
              "      <th>46</th>\n",
              "      <td>2956</td>\n",
              "      <td>Fish</td>\n",
              "      <td>Continental</td>\n",
              "    </tr>\n",
              "    <tr>\n",
              "      <th>47</th>\n",
              "      <td>2104</td>\n",
              "      <td>Fish</td>\n",
              "      <td>Continental</td>\n",
              "    </tr>\n",
              "    <tr>\n",
              "      <th>48</th>\n",
              "      <td>2444</td>\n",
              "      <td>Seafood</td>\n",
              "      <td>Continental</td>\n",
              "    </tr>\n",
              "    <tr>\n",
              "      <th>49</th>\n",
              "      <td>2867</td>\n",
              "      <td>Seafood</td>\n",
              "      <td>Continental</td>\n",
              "    </tr>\n",
              "    <tr>\n",
              "      <th>50</th>\n",
              "      <td>1445</td>\n",
              "      <td>Seafood</td>\n",
              "      <td>Continental</td>\n",
              "    </tr>\n",
              "  </tbody>\n",
              "</table>\n",
              "</div>"
            ],
            "text/plain": [
              "    meal_id      category      cuisine\n",
              "0      1885     Beverages         Thai\n",
              "1      1993     Beverages         Thai\n",
              "2      2539     Beverages         Thai\n",
              "3      1248     Beverages       Indian\n",
              "4      2631     Beverages       Indian\n",
              "5      1311        Extras         Thai\n",
              "6      1062     Beverages      Italian\n",
              "7      1778     Beverages      Italian\n",
              "8      1803        Extras         Thai\n",
              "9      1198        Extras         Thai\n",
              "10     2707     Beverages      Italian\n",
              "11     1847          Soup         Thai\n",
              "12     1438          Soup         Thai\n",
              "13     2494          Soup         Thai\n",
              "14     2760  Other Snacks         Thai\n",
              "15     2490         Salad      Italian\n",
              "16     1109     Rice Bowl       Indian\n",
              "17     2290     Rice Bowl       Indian\n",
              "18     1525  Other Snacks         Thai\n",
              "19     2704  Other Snacks         Thai\n",
              "20     1878      Starters         Thai\n",
              "21     2640      Starters         Thai\n",
              "22     2577      Starters         Thai\n",
              "23     1754      Sandwich      Italian\n",
              "24     1971      Sandwich      Italian\n",
              "25     2306         Pasta      Italian\n",
              "26     2139     Beverages       Indian\n",
              "27     2826      Sandwich      Italian\n",
              "28     2664         Salad      Italian\n",
              "29     2569         Salad      Italian\n",
              "30     1230     Beverages  Continental\n",
              "31     1207     Beverages  Continental\n",
              "32     2322     Beverages  Continental\n",
              "33     2492        Desert       Indian\n",
              "34     1216         Pasta      Italian\n",
              "35     1727     Rice Bowl       Indian\n",
              "36     1902       Biryani       Indian\n",
              "37     1247       Biryani       Indian\n",
              "38     2304        Desert       Indian\n",
              "39     1543        Desert       Indian\n",
              "40     1770       Biryani       Indian\n",
              "41     2126         Pasta      Italian\n",
              "42     1558         Pizza  Continental\n",
              "43     2581         Pizza  Continental\n",
              "44     1962         Pizza  Continental\n",
              "45     1571          Fish  Continental\n",
              "46     2956          Fish  Continental\n",
              "47     2104          Fish  Continental\n",
              "48     2444       Seafood  Continental\n",
              "49     2867       Seafood  Continental\n",
              "50     1445       Seafood  Continental"
            ]
          },
          "metadata": {
            "tags": []
          },
          "execution_count": 166
        }
      ]
    },
    {
      "cell_type": "code",
      "metadata": {
        "id": "969-b57iq-Jg",
        "outputId": "a8a8560c-4b1e-449d-e8ba-764d7960f5e9",
        "colab": {
          "base_uri": "https://localhost:8080/",
          "height": 419
        }
      },
      "source": [
        "sample_sub"
      ],
      "execution_count": 167,
      "outputs": [
        {
          "output_type": "execute_result",
          "data": {
            "text/html": [
              "<div>\n",
              "<style scoped>\n",
              "    .dataframe tbody tr th:only-of-type {\n",
              "        vertical-align: middle;\n",
              "    }\n",
              "\n",
              "    .dataframe tbody tr th {\n",
              "        vertical-align: top;\n",
              "    }\n",
              "\n",
              "    .dataframe thead th {\n",
              "        text-align: right;\n",
              "    }\n",
              "</style>\n",
              "<table border=\"1\" class=\"dataframe\">\n",
              "  <thead>\n",
              "    <tr style=\"text-align: right;\">\n",
              "      <th></th>\n",
              "      <th>id</th>\n",
              "      <th>num_orders</th>\n",
              "    </tr>\n",
              "  </thead>\n",
              "  <tbody>\n",
              "    <tr>\n",
              "      <th>0</th>\n",
              "      <td>1028232</td>\n",
              "      <td>0</td>\n",
              "    </tr>\n",
              "    <tr>\n",
              "      <th>1</th>\n",
              "      <td>1127204</td>\n",
              "      <td>0</td>\n",
              "    </tr>\n",
              "    <tr>\n",
              "      <th>2</th>\n",
              "      <td>1212707</td>\n",
              "      <td>0</td>\n",
              "    </tr>\n",
              "    <tr>\n",
              "      <th>3</th>\n",
              "      <td>1082698</td>\n",
              "      <td>0</td>\n",
              "    </tr>\n",
              "    <tr>\n",
              "      <th>4</th>\n",
              "      <td>1400926</td>\n",
              "      <td>0</td>\n",
              "    </tr>\n",
              "    <tr>\n",
              "      <th>...</th>\n",
              "      <td>...</td>\n",
              "      <td>...</td>\n",
              "    </tr>\n",
              "    <tr>\n",
              "      <th>32568</th>\n",
              "      <td>1250239</td>\n",
              "      <td>0</td>\n",
              "    </tr>\n",
              "    <tr>\n",
              "      <th>32569</th>\n",
              "      <td>1039516</td>\n",
              "      <td>0</td>\n",
              "    </tr>\n",
              "    <tr>\n",
              "      <th>32570</th>\n",
              "      <td>1158107</td>\n",
              "      <td>0</td>\n",
              "    </tr>\n",
              "    <tr>\n",
              "      <th>32571</th>\n",
              "      <td>1444235</td>\n",
              "      <td>0</td>\n",
              "    </tr>\n",
              "    <tr>\n",
              "      <th>32572</th>\n",
              "      <td>1291286</td>\n",
              "      <td>0</td>\n",
              "    </tr>\n",
              "  </tbody>\n",
              "</table>\n",
              "<p>32573 rows × 2 columns</p>\n",
              "</div>"
            ],
            "text/plain": [
              "            id  num_orders\n",
              "0      1028232           0\n",
              "1      1127204           0\n",
              "2      1212707           0\n",
              "3      1082698           0\n",
              "4      1400926           0\n",
              "...        ...         ...\n",
              "32568  1250239           0\n",
              "32569  1039516           0\n",
              "32570  1158107           0\n",
              "32571  1444235           0\n",
              "32572  1291286           0\n",
              "\n",
              "[32573 rows x 2 columns]"
            ]
          },
          "metadata": {
            "tags": []
          },
          "execution_count": 167
        }
      ]
    },
    {
      "cell_type": "markdown",
      "metadata": {
        "id": "ktmZvGWvsI2I"
      },
      "source": [
        "Merge datasets"
      ]
    },
    {
      "cell_type": "code",
      "metadata": {
        "id": "JqmaMi8rtJy3",
        "outputId": "58cbb7c0-92c4-45d7-d720-51deb28777dd",
        "colab": {
          "base_uri": "https://localhost:8080/",
          "height": 439
        }
      },
      "source": [
        "#merge datasets\n",
        "data_train = train.merge(fulfilment, on='center_id', how='left').merge(meal, on='meal_id', how='left')\n",
        "data_train"
      ],
      "execution_count": 168,
      "outputs": [
        {
          "output_type": "execute_result",
          "data": {
            "text/html": [
              "<div>\n",
              "<style scoped>\n",
              "    .dataframe tbody tr th:only-of-type {\n",
              "        vertical-align: middle;\n",
              "    }\n",
              "\n",
              "    .dataframe tbody tr th {\n",
              "        vertical-align: top;\n",
              "    }\n",
              "\n",
              "    .dataframe thead th {\n",
              "        text-align: right;\n",
              "    }\n",
              "</style>\n",
              "<table border=\"1\" class=\"dataframe\">\n",
              "  <thead>\n",
              "    <tr style=\"text-align: right;\">\n",
              "      <th></th>\n",
              "      <th>id</th>\n",
              "      <th>week</th>\n",
              "      <th>center_id</th>\n",
              "      <th>meal_id</th>\n",
              "      <th>checkout_price</th>\n",
              "      <th>base_price</th>\n",
              "      <th>emailer_for_promotion</th>\n",
              "      <th>homepage_featured</th>\n",
              "      <th>num_orders</th>\n",
              "      <th>city_code</th>\n",
              "      <th>region_code</th>\n",
              "      <th>center_type</th>\n",
              "      <th>op_area</th>\n",
              "      <th>category</th>\n",
              "      <th>cuisine</th>\n",
              "    </tr>\n",
              "  </thead>\n",
              "  <tbody>\n",
              "    <tr>\n",
              "      <th>0</th>\n",
              "      <td>1379560</td>\n",
              "      <td>1</td>\n",
              "      <td>55</td>\n",
              "      <td>1885</td>\n",
              "      <td>136.83</td>\n",
              "      <td>152.29</td>\n",
              "      <td>0</td>\n",
              "      <td>0</td>\n",
              "      <td>177</td>\n",
              "      <td>647</td>\n",
              "      <td>56</td>\n",
              "      <td>TYPE_C</td>\n",
              "      <td>2.0</td>\n",
              "      <td>Beverages</td>\n",
              "      <td>Thai</td>\n",
              "    </tr>\n",
              "    <tr>\n",
              "      <th>1</th>\n",
              "      <td>1466964</td>\n",
              "      <td>1</td>\n",
              "      <td>55</td>\n",
              "      <td>1993</td>\n",
              "      <td>136.83</td>\n",
              "      <td>135.83</td>\n",
              "      <td>0</td>\n",
              "      <td>0</td>\n",
              "      <td>270</td>\n",
              "      <td>647</td>\n",
              "      <td>56</td>\n",
              "      <td>TYPE_C</td>\n",
              "      <td>2.0</td>\n",
              "      <td>Beverages</td>\n",
              "      <td>Thai</td>\n",
              "    </tr>\n",
              "    <tr>\n",
              "      <th>2</th>\n",
              "      <td>1346989</td>\n",
              "      <td>1</td>\n",
              "      <td>55</td>\n",
              "      <td>2539</td>\n",
              "      <td>134.86</td>\n",
              "      <td>135.86</td>\n",
              "      <td>0</td>\n",
              "      <td>0</td>\n",
              "      <td>189</td>\n",
              "      <td>647</td>\n",
              "      <td>56</td>\n",
              "      <td>TYPE_C</td>\n",
              "      <td>2.0</td>\n",
              "      <td>Beverages</td>\n",
              "      <td>Thai</td>\n",
              "    </tr>\n",
              "    <tr>\n",
              "      <th>3</th>\n",
              "      <td>1338232</td>\n",
              "      <td>1</td>\n",
              "      <td>55</td>\n",
              "      <td>2139</td>\n",
              "      <td>339.50</td>\n",
              "      <td>437.53</td>\n",
              "      <td>0</td>\n",
              "      <td>0</td>\n",
              "      <td>54</td>\n",
              "      <td>647</td>\n",
              "      <td>56</td>\n",
              "      <td>TYPE_C</td>\n",
              "      <td>2.0</td>\n",
              "      <td>Beverages</td>\n",
              "      <td>Indian</td>\n",
              "    </tr>\n",
              "    <tr>\n",
              "      <th>4</th>\n",
              "      <td>1448490</td>\n",
              "      <td>1</td>\n",
              "      <td>55</td>\n",
              "      <td>2631</td>\n",
              "      <td>243.50</td>\n",
              "      <td>242.50</td>\n",
              "      <td>0</td>\n",
              "      <td>0</td>\n",
              "      <td>40</td>\n",
              "      <td>647</td>\n",
              "      <td>56</td>\n",
              "      <td>TYPE_C</td>\n",
              "      <td>2.0</td>\n",
              "      <td>Beverages</td>\n",
              "      <td>Indian</td>\n",
              "    </tr>\n",
              "    <tr>\n",
              "      <th>...</th>\n",
              "      <td>...</td>\n",
              "      <td>...</td>\n",
              "      <td>...</td>\n",
              "      <td>...</td>\n",
              "      <td>...</td>\n",
              "      <td>...</td>\n",
              "      <td>...</td>\n",
              "      <td>...</td>\n",
              "      <td>...</td>\n",
              "      <td>...</td>\n",
              "      <td>...</td>\n",
              "      <td>...</td>\n",
              "      <td>...</td>\n",
              "      <td>...</td>\n",
              "      <td>...</td>\n",
              "    </tr>\n",
              "    <tr>\n",
              "      <th>456543</th>\n",
              "      <td>1271326</td>\n",
              "      <td>145</td>\n",
              "      <td>61</td>\n",
              "      <td>1543</td>\n",
              "      <td>484.09</td>\n",
              "      <td>484.09</td>\n",
              "      <td>0</td>\n",
              "      <td>0</td>\n",
              "      <td>68</td>\n",
              "      <td>473</td>\n",
              "      <td>77</td>\n",
              "      <td>TYPE_A</td>\n",
              "      <td>4.5</td>\n",
              "      <td>Desert</td>\n",
              "      <td>Indian</td>\n",
              "    </tr>\n",
              "    <tr>\n",
              "      <th>456544</th>\n",
              "      <td>1062036</td>\n",
              "      <td>145</td>\n",
              "      <td>61</td>\n",
              "      <td>2304</td>\n",
              "      <td>482.09</td>\n",
              "      <td>482.09</td>\n",
              "      <td>0</td>\n",
              "      <td>0</td>\n",
              "      <td>42</td>\n",
              "      <td>473</td>\n",
              "      <td>77</td>\n",
              "      <td>TYPE_A</td>\n",
              "      <td>4.5</td>\n",
              "      <td>Desert</td>\n",
              "      <td>Indian</td>\n",
              "    </tr>\n",
              "    <tr>\n",
              "      <th>456545</th>\n",
              "      <td>1110849</td>\n",
              "      <td>145</td>\n",
              "      <td>61</td>\n",
              "      <td>2664</td>\n",
              "      <td>237.68</td>\n",
              "      <td>321.07</td>\n",
              "      <td>0</td>\n",
              "      <td>0</td>\n",
              "      <td>501</td>\n",
              "      <td>473</td>\n",
              "      <td>77</td>\n",
              "      <td>TYPE_A</td>\n",
              "      <td>4.5</td>\n",
              "      <td>Salad</td>\n",
              "      <td>Italian</td>\n",
              "    </tr>\n",
              "    <tr>\n",
              "      <th>456546</th>\n",
              "      <td>1147725</td>\n",
              "      <td>145</td>\n",
              "      <td>61</td>\n",
              "      <td>2569</td>\n",
              "      <td>243.50</td>\n",
              "      <td>313.34</td>\n",
              "      <td>0</td>\n",
              "      <td>0</td>\n",
              "      <td>729</td>\n",
              "      <td>473</td>\n",
              "      <td>77</td>\n",
              "      <td>TYPE_A</td>\n",
              "      <td>4.5</td>\n",
              "      <td>Salad</td>\n",
              "      <td>Italian</td>\n",
              "    </tr>\n",
              "    <tr>\n",
              "      <th>456547</th>\n",
              "      <td>1361984</td>\n",
              "      <td>145</td>\n",
              "      <td>61</td>\n",
              "      <td>2490</td>\n",
              "      <td>292.03</td>\n",
              "      <td>290.03</td>\n",
              "      <td>0</td>\n",
              "      <td>0</td>\n",
              "      <td>162</td>\n",
              "      <td>473</td>\n",
              "      <td>77</td>\n",
              "      <td>TYPE_A</td>\n",
              "      <td>4.5</td>\n",
              "      <td>Salad</td>\n",
              "      <td>Italian</td>\n",
              "    </tr>\n",
              "  </tbody>\n",
              "</table>\n",
              "<p>456548 rows × 15 columns</p>\n",
              "</div>"
            ],
            "text/plain": [
              "             id  week  center_id  ...  op_area   category  cuisine\n",
              "0       1379560     1         55  ...      2.0  Beverages     Thai\n",
              "1       1466964     1         55  ...      2.0  Beverages     Thai\n",
              "2       1346989     1         55  ...      2.0  Beverages     Thai\n",
              "3       1338232     1         55  ...      2.0  Beverages   Indian\n",
              "4       1448490     1         55  ...      2.0  Beverages   Indian\n",
              "...         ...   ...        ...  ...      ...        ...      ...\n",
              "456543  1271326   145         61  ...      4.5     Desert   Indian\n",
              "456544  1062036   145         61  ...      4.5     Desert   Indian\n",
              "456545  1110849   145         61  ...      4.5      Salad  Italian\n",
              "456546  1147725   145         61  ...      4.5      Salad  Italian\n",
              "456547  1361984   145         61  ...      4.5      Salad  Italian\n",
              "\n",
              "[456548 rows x 15 columns]"
            ]
          },
          "metadata": {
            "tags": []
          },
          "execution_count": 168
        }
      ]
    },
    {
      "cell_type": "code",
      "metadata": {
        "id": "k5eZtBwyuTLk",
        "outputId": "778088ce-9fa8-422c-90d3-fdaf5a6d6e14",
        "colab": {
          "base_uri": "https://localhost:8080/",
          "height": 439
        }
      },
      "source": [
        "data_test = test.merge(fulfilment, on='center_id', how='left').merge(meal, on='meal_id', how='left')\n",
        "data_test"
      ],
      "execution_count": 169,
      "outputs": [
        {
          "output_type": "execute_result",
          "data": {
            "text/html": [
              "<div>\n",
              "<style scoped>\n",
              "    .dataframe tbody tr th:only-of-type {\n",
              "        vertical-align: middle;\n",
              "    }\n",
              "\n",
              "    .dataframe tbody tr th {\n",
              "        vertical-align: top;\n",
              "    }\n",
              "\n",
              "    .dataframe thead th {\n",
              "        text-align: right;\n",
              "    }\n",
              "</style>\n",
              "<table border=\"1\" class=\"dataframe\">\n",
              "  <thead>\n",
              "    <tr style=\"text-align: right;\">\n",
              "      <th></th>\n",
              "      <th>id</th>\n",
              "      <th>week</th>\n",
              "      <th>center_id</th>\n",
              "      <th>meal_id</th>\n",
              "      <th>checkout_price</th>\n",
              "      <th>base_price</th>\n",
              "      <th>emailer_for_promotion</th>\n",
              "      <th>homepage_featured</th>\n",
              "      <th>city_code</th>\n",
              "      <th>region_code</th>\n",
              "      <th>center_type</th>\n",
              "      <th>op_area</th>\n",
              "      <th>category</th>\n",
              "      <th>cuisine</th>\n",
              "    </tr>\n",
              "  </thead>\n",
              "  <tbody>\n",
              "    <tr>\n",
              "      <th>0</th>\n",
              "      <td>1028232</td>\n",
              "      <td>146</td>\n",
              "      <td>55</td>\n",
              "      <td>1885</td>\n",
              "      <td>158.11</td>\n",
              "      <td>159.11</td>\n",
              "      <td>0</td>\n",
              "      <td>0</td>\n",
              "      <td>647</td>\n",
              "      <td>56</td>\n",
              "      <td>TYPE_C</td>\n",
              "      <td>2.0</td>\n",
              "      <td>Beverages</td>\n",
              "      <td>Thai</td>\n",
              "    </tr>\n",
              "    <tr>\n",
              "      <th>1</th>\n",
              "      <td>1127204</td>\n",
              "      <td>146</td>\n",
              "      <td>55</td>\n",
              "      <td>1993</td>\n",
              "      <td>160.11</td>\n",
              "      <td>159.11</td>\n",
              "      <td>0</td>\n",
              "      <td>0</td>\n",
              "      <td>647</td>\n",
              "      <td>56</td>\n",
              "      <td>TYPE_C</td>\n",
              "      <td>2.0</td>\n",
              "      <td>Beverages</td>\n",
              "      <td>Thai</td>\n",
              "    </tr>\n",
              "    <tr>\n",
              "      <th>2</th>\n",
              "      <td>1212707</td>\n",
              "      <td>146</td>\n",
              "      <td>55</td>\n",
              "      <td>2539</td>\n",
              "      <td>157.14</td>\n",
              "      <td>159.14</td>\n",
              "      <td>0</td>\n",
              "      <td>0</td>\n",
              "      <td>647</td>\n",
              "      <td>56</td>\n",
              "      <td>TYPE_C</td>\n",
              "      <td>2.0</td>\n",
              "      <td>Beverages</td>\n",
              "      <td>Thai</td>\n",
              "    </tr>\n",
              "    <tr>\n",
              "      <th>3</th>\n",
              "      <td>1082698</td>\n",
              "      <td>146</td>\n",
              "      <td>55</td>\n",
              "      <td>2631</td>\n",
              "      <td>162.02</td>\n",
              "      <td>162.02</td>\n",
              "      <td>0</td>\n",
              "      <td>0</td>\n",
              "      <td>647</td>\n",
              "      <td>56</td>\n",
              "      <td>TYPE_C</td>\n",
              "      <td>2.0</td>\n",
              "      <td>Beverages</td>\n",
              "      <td>Indian</td>\n",
              "    </tr>\n",
              "    <tr>\n",
              "      <th>4</th>\n",
              "      <td>1400926</td>\n",
              "      <td>146</td>\n",
              "      <td>55</td>\n",
              "      <td>1248</td>\n",
              "      <td>163.93</td>\n",
              "      <td>163.93</td>\n",
              "      <td>0</td>\n",
              "      <td>0</td>\n",
              "      <td>647</td>\n",
              "      <td>56</td>\n",
              "      <td>TYPE_C</td>\n",
              "      <td>2.0</td>\n",
              "      <td>Beverages</td>\n",
              "      <td>Indian</td>\n",
              "    </tr>\n",
              "    <tr>\n",
              "      <th>...</th>\n",
              "      <td>...</td>\n",
              "      <td>...</td>\n",
              "      <td>...</td>\n",
              "      <td>...</td>\n",
              "      <td>...</td>\n",
              "      <td>...</td>\n",
              "      <td>...</td>\n",
              "      <td>...</td>\n",
              "      <td>...</td>\n",
              "      <td>...</td>\n",
              "      <td>...</td>\n",
              "      <td>...</td>\n",
              "      <td>...</td>\n",
              "      <td>...</td>\n",
              "    </tr>\n",
              "    <tr>\n",
              "      <th>32568</th>\n",
              "      <td>1250239</td>\n",
              "      <td>155</td>\n",
              "      <td>61</td>\n",
              "      <td>1543</td>\n",
              "      <td>482.09</td>\n",
              "      <td>484.09</td>\n",
              "      <td>0</td>\n",
              "      <td>0</td>\n",
              "      <td>473</td>\n",
              "      <td>77</td>\n",
              "      <td>TYPE_A</td>\n",
              "      <td>4.5</td>\n",
              "      <td>Desert</td>\n",
              "      <td>Indian</td>\n",
              "    </tr>\n",
              "    <tr>\n",
              "      <th>32569</th>\n",
              "      <td>1039516</td>\n",
              "      <td>155</td>\n",
              "      <td>61</td>\n",
              "      <td>2304</td>\n",
              "      <td>483.09</td>\n",
              "      <td>483.09</td>\n",
              "      <td>0</td>\n",
              "      <td>0</td>\n",
              "      <td>473</td>\n",
              "      <td>77</td>\n",
              "      <td>TYPE_A</td>\n",
              "      <td>4.5</td>\n",
              "      <td>Desert</td>\n",
              "      <td>Indian</td>\n",
              "    </tr>\n",
              "    <tr>\n",
              "      <th>32570</th>\n",
              "      <td>1158107</td>\n",
              "      <td>155</td>\n",
              "      <td>61</td>\n",
              "      <td>2664</td>\n",
              "      <td>322.07</td>\n",
              "      <td>323.07</td>\n",
              "      <td>0</td>\n",
              "      <td>0</td>\n",
              "      <td>473</td>\n",
              "      <td>77</td>\n",
              "      <td>TYPE_A</td>\n",
              "      <td>4.5</td>\n",
              "      <td>Salad</td>\n",
              "      <td>Italian</td>\n",
              "    </tr>\n",
              "    <tr>\n",
              "      <th>32571</th>\n",
              "      <td>1444235</td>\n",
              "      <td>155</td>\n",
              "      <td>61</td>\n",
              "      <td>2569</td>\n",
              "      <td>322.07</td>\n",
              "      <td>323.07</td>\n",
              "      <td>0</td>\n",
              "      <td>0</td>\n",
              "      <td>473</td>\n",
              "      <td>77</td>\n",
              "      <td>TYPE_A</td>\n",
              "      <td>4.5</td>\n",
              "      <td>Salad</td>\n",
              "      <td>Italian</td>\n",
              "    </tr>\n",
              "    <tr>\n",
              "      <th>32572</th>\n",
              "      <td>1291286</td>\n",
              "      <td>155</td>\n",
              "      <td>61</td>\n",
              "      <td>2490</td>\n",
              "      <td>276.45</td>\n",
              "      <td>276.45</td>\n",
              "      <td>0</td>\n",
              "      <td>0</td>\n",
              "      <td>473</td>\n",
              "      <td>77</td>\n",
              "      <td>TYPE_A</td>\n",
              "      <td>4.5</td>\n",
              "      <td>Salad</td>\n",
              "      <td>Italian</td>\n",
              "    </tr>\n",
              "  </tbody>\n",
              "</table>\n",
              "<p>32573 rows × 14 columns</p>\n",
              "</div>"
            ],
            "text/plain": [
              "            id  week  center_id  ...  op_area   category  cuisine\n",
              "0      1028232   146         55  ...      2.0  Beverages     Thai\n",
              "1      1127204   146         55  ...      2.0  Beverages     Thai\n",
              "2      1212707   146         55  ...      2.0  Beverages     Thai\n",
              "3      1082698   146         55  ...      2.0  Beverages   Indian\n",
              "4      1400926   146         55  ...      2.0  Beverages   Indian\n",
              "...        ...   ...        ...  ...      ...        ...      ...\n",
              "32568  1250239   155         61  ...      4.5     Desert   Indian\n",
              "32569  1039516   155         61  ...      4.5     Desert   Indian\n",
              "32570  1158107   155         61  ...      4.5      Salad  Italian\n",
              "32571  1444235   155         61  ...      4.5      Salad  Italian\n",
              "32572  1291286   155         61  ...      4.5      Salad  Italian\n",
              "\n",
              "[32573 rows x 14 columns]"
            ]
          },
          "metadata": {
            "tags": []
          },
          "execution_count": 169
        }
      ]
    },
    {
      "cell_type": "markdown",
      "metadata": {
        "id": "Zzebk3tGVipl"
      },
      "source": [
        "Check for Null values"
      ]
    },
    {
      "cell_type": "code",
      "metadata": {
        "id": "e06JKPmgVkDs",
        "outputId": "a9614b3a-71d5-42e0-afef-21f2ac7ae7fe",
        "colab": {
          "base_uri": "https://localhost:8080/"
        }
      },
      "source": [
        "data_train.isnull().sum(), data_test.isnull().sum()"
      ],
      "execution_count": 170,
      "outputs": [
        {
          "output_type": "execute_result",
          "data": {
            "text/plain": [
              "(id                       0\n",
              " week                     0\n",
              " center_id                0\n",
              " meal_id                  0\n",
              " checkout_price           0\n",
              " base_price               0\n",
              " emailer_for_promotion    0\n",
              " homepage_featured        0\n",
              " num_orders               0\n",
              " city_code                0\n",
              " region_code              0\n",
              " center_type              0\n",
              " op_area                  0\n",
              " category                 0\n",
              " cuisine                  0\n",
              " dtype: int64, id                       0\n",
              " week                     0\n",
              " center_id                0\n",
              " meal_id                  0\n",
              " checkout_price           0\n",
              " base_price               0\n",
              " emailer_for_promotion    0\n",
              " homepage_featured        0\n",
              " city_code                0\n",
              " region_code              0\n",
              " center_type              0\n",
              " op_area                  0\n",
              " category                 0\n",
              " cuisine                  0\n",
              " dtype: int64)"
            ]
          },
          "metadata": {
            "tags": []
          },
          "execution_count": 170
        }
      ]
    },
    {
      "cell_type": "markdown",
      "metadata": {
        "id": "f5x-Bo_tVznh"
      },
      "source": [
        "Graphically represent target"
      ]
    },
    {
      "cell_type": "code",
      "metadata": {
        "id": "bSQBAKDiY50E",
        "outputId": "078a400a-d189-4b8e-96a6-bfcd4c60f805",
        "colab": {
          "base_uri": "https://localhost:8080/",
          "height": 351
        }
      },
      "source": [
        "sns.distplot(data_train['num_orders'])"
      ],
      "execution_count": 171,
      "outputs": [
        {
          "output_type": "stream",
          "text": [
            "/usr/local/lib/python3.6/dist-packages/seaborn/distributions.py:2551: FutureWarning: `distplot` is a deprecated function and will be removed in a future version. Please adapt your code to use either `displot` (a figure-level function with similar flexibility) or `histplot` (an axes-level function for histograms).\n",
            "  warnings.warn(msg, FutureWarning)\n"
          ],
          "name": "stderr"
        },
        {
          "output_type": "execute_result",
          "data": {
            "text/plain": [
              "<matplotlib.axes._subplots.AxesSubplot at 0x7fedd1937dd8>"
            ]
          },
          "metadata": {
            "tags": []
          },
          "execution_count": 171
        },
        {
          "output_type": "display_data",
          "data": {
            "image/png": "[encoded data removed]",
            "text/plain": [
              "<Figure size 432x288 with 1 Axes>"
            ]
          },
          "metadata": {
            "tags": [],
            "needs_background": "light"
          }
        }
      ]
    },
    {
      "cell_type": "markdown",
      "metadata": {
        "id": "6ayhbo5eD96H"
      },
      "source": [
        "Ordinal encode independant variables"
      ]
    },
    {
      "cell_type": "code",
      "metadata": {
        "id": "XgRgXM4y451w"
      },
      "source": [
        "#label encoder\n",
        "from sklearn import preprocessing\n",
        "enc = preprocessing.OrdinalEncoder()\n",
        "\n",
        "data_train.center_type=enc.fit_transform(data_train.center_type.values.reshape(-1,1))\n",
        "data_train.category=enc.fit_transform(data_train.category.values.reshape(-1,1))\n",
        "data_train.cuisine=enc.fit_transform(data_train.cuisine.values.reshape(-1,1))\n",
        "\n",
        "data_test.center_type=enc.fit_transform(data_test.center_type.values.reshape(-1,1))\n",
        "data_test.category=enc.fit_transform(data_test.category.values.reshape(-1,1))\n",
        "data_test.cuisine=enc.fit_transform(data_test.cuisine.values.reshape(-1,1))"
      ],
      "execution_count": 172,
      "outputs": []
    },
    {
      "cell_type": "markdown",
      "metadata": {
        "id": "BztCVsqmFdFZ"
      },
      "source": [
        "Graphically represent independant variables"
      ]
    },
    {
      "cell_type": "code",
      "metadata": {
        "id": "eC1qmFfz_PGw",
        "outputId": "4f6e4f28-cd34-4482-94b2-f92a2935de22",
        "colab": {
          "base_uri": "https://localhost:8080/",
          "height": 389
        }
      },
      "source": [
        "#create a heatmap to correlate survival\n",
        "plt.figure(figsize=(6,4))\n",
        "cmap=train.corr()\n",
        "sns.heatmap(cmap)\n"
      ],
      "execution_count": 173,
      "outputs": [
        {
          "output_type": "execute_result",
          "data": {
            "text/plain": [
              "<matplotlib.axes._subplots.AxesSubplot at 0x7fedbe0ba978>"
            ]
          },
          "metadata": {
            "tags": []
          },
          "execution_count": 173
        },
        {
          "output_type": "display_data",
          "data": {
            "image/png": "[encoded data removed]",
            "text/plain": [
              "<Figure size 432x288 with 2 Axes>"
            ]
          },
          "metadata": {
            "tags": [],
            "needs_background": "light"
          }
        }
      ]
    },
    {
      "cell_type": "markdown",
      "metadata": {
        "id": "bYZ1IaBA-5az"
      },
      "source": [
        "Define X, y and X_test"
      ]
    },
    {
      "cell_type": "code",
      "metadata": {
        "id": "X5tqg39G-79u"
      },
      "source": [
        "y = train[\"num_orders\"]\n",
        "X = train.drop(['id', 'num_orders'], axis=1)\n",
        "X_test = test.drop(['id'], axis=1)"
      ],
      "execution_count": 174,
      "outputs": []
    },
    {
      "cell_type": "markdown",
      "metadata": {
        "id": "XWWeEckpAR9u"
      },
      "source": [
        "Split dataset for training and testing"
      ]
    },
    {
      "cell_type": "code",
      "metadata": {
        "id": "c6aYhrEoAP9X",
        "outputId": "ab43b3a7-be74-4661-98a1-0643cc64457f",
        "colab": {
          "base_uri": "https://localhost:8080/"
        }
      },
      "source": [
        "#split train set for testing\n",
        "from sklearn.model_selection import train_test_split\n",
        "\n",
        "X_train, X_val, Y_train, Y_val = train_test_split(X, y, test_size=0.10, random_state=1)\n",
        "X_train.shape, X_val.shape, Y_train.shape, Y_val.shape"
      ],
      "execution_count": 175,
      "outputs": [
        {
          "output_type": "execute_result",
          "data": {
            "text/plain": [
              "((410893, 7), (45655, 7), (410893,), (45655,))"
            ]
          },
          "metadata": {
            "tags": []
          },
          "execution_count": 175
        }
      ]
    },
    {
      "cell_type": "markdown",
      "metadata": {
        "id": "VtWndvviHC3m"
      },
      "source": [
        "Scaler"
      ]
    },
    {
      "cell_type": "code",
      "metadata": {
        "id": "ArCxS0ogD24M"
      },
      "source": [
        "# Import `StandardScaler` from `sklearn.preprocessing`\n",
        "from sklearn.preprocessing import StandardScaler, MinMaxScaler\n",
        "\n",
        "# Define the scaler \n",
        "scaler = StandardScaler().fit(X_train)\n",
        "# Scale the train set\n",
        "X_train = scaler.transform(X_train)\n",
        "# Scale the validation set\n",
        "X_val = scaler.transform(X_val)\n",
        "# Scale the test set\n",
        "X_test = scaler.transform(X_test)"
      ],
      "execution_count": 176,
      "outputs": []
    },
    {
      "cell_type": "markdown",
      "metadata": {
        "id": "oF4KJHdECXMe"
      },
      "source": [
        "Model selection"
      ]
    },
    {
      "cell_type": "code",
      "metadata": {
        "id": "6JJZ-vyhreFp",
        "outputId": "bbcf26fd-a3aa-4ea0-8848-e7be5ca89890",
        "colab": {
          "base_uri": "https://localhost:8080/"
        }
      },
      "source": [
        "#gradient boosting\n",
        "from sklearn.inspection import permutation_importance\n",
        "from sklearn.metrics import mean_squared_error\n",
        "from sklearn import ensemble\n",
        "from sklearn.experimental import enable_hist_gradient_boosting  \n",
        "from sklearn.ensemble import HistGradientBoostingRegressor\n",
        "\n",
        "model = HistGradientBoostingRegressor(max_iter=2000, learning_rate=.01).fit(X_train, Y_train)\n",
        "model.score(X_train, Y_train)"
      ],
      "execution_count": 177,
      "outputs": [
        {
          "output_type": "execute_result",
          "data": {
            "text/plain": [
              "0.8033726896946414"
            ]
          },
          "metadata": {
            "tags": []
          },
          "execution_count": 177
        }
      ]
    },
    {
      "cell_type": "code",
      "metadata": {
        "id": "AECmjf-xVSnO",
        "outputId": "512d4a7b-068a-4ae0-84db-dfd186b06407",
        "colab": {
          "base_uri": "https://localhost:8080/"
        }
      },
      "source": [
        "mse = mean_squared_error(Y_val, model.predict(X_val))\n",
        "print(\"The mean squared error (MSE) on test set: {:.4f}\".format(mse))"
      ],
      "execution_count": 178,
      "outputs": [
        {
          "output_type": "stream",
          "text": [
            "The mean squared error (MSE) on test set: 36934.3801\n"
          ],
          "name": "stdout"
        }
      ]
    },
    {
      "cell_type": "code",
      "metadata": {
        "id": "E0UjWDkem436",
        "outputId": "0f9d7c3a-ba61-435a-9be0-b8a687abb404",
        "colab": {
          "base_uri": "https://localhost:8080/"
        }
      },
      "source": [
        "y_pred = model.predict(X_val)\n",
        "y_pred[y_pred < 0] = 0\n",
        "y_pred"
      ],
      "execution_count": 179,
      "outputs": [
        {
          "output_type": "execute_result",
          "data": {
            "text/plain": [
              "array([ 56.61549718, 317.14228257,  72.17815143, ..., 119.92909678,\n",
              "        45.18801916, 202.43835947])"
            ]
          },
          "metadata": {
            "tags": []
          },
          "execution_count": 179
        }
      ]
    },
    {
      "cell_type": "code",
      "metadata": {
        "id": "0uBJZv-XocgS",
        "outputId": "90376ed9-277c-4865-976b-8e5ad92987ba",
        "colab": {
          "base_uri": "https://localhost:8080/"
        }
      },
      "source": [
        "#accuracy\n",
        "accuracy = round(model.score(X_val, Y_val) * 100,2)\n",
        "print(accuracy)"
      ],
      "execution_count": 180,
      "outputs": [
        {
          "output_type": "stream",
          "text": [
            "78.19\n"
          ],
          "name": "stdout"
        }
      ]
    },
    {
      "cell_type": "markdown",
      "metadata": {
        "id": "D-J8HAM-QCNg"
      },
      "source": [
        "Make predictions"
      ]
    },
    {
      "cell_type": "code",
      "metadata": {
        "id": "Yj-dcNCjUkAH",
        "outputId": "de91dbde-f1ce-4848-e136-e7f43e1ea232",
        "colab": {
          "base_uri": "https://localhost:8080/"
        }
      },
      "source": [
        "from sklearn.metrics import mean_squared_log_error\n",
        "\n",
        "np.sqrt(mean_squared_log_error( Y_val, y_pred )) * 100"
      ],
      "execution_count": 181,
      "outputs": [
        {
          "output_type": "execute_result",
          "data": {
            "text/plain": [
              "78.69391376813284"
            ]
          },
          "metadata": {
            "tags": []
          },
          "execution_count": 181
        }
      ]
    },
    {
      "cell_type": "code",
      "metadata": {
        "id": "JcGV79LWKEJp",
        "outputId": "50b3cc03-c34e-4d62-a489-d2f0847e2226",
        "colab": {
          "base_uri": "https://localhost:8080/",
          "height": 419
        }
      },
      "source": [
        "df=pd.DataFrame({'Actual': Y_val, 'Predicted':y_pred})\n",
        "df"
      ],
      "execution_count": 182,
      "outputs": [
        {
          "output_type": "execute_result",
          "data": {
            "text/html": [
              "<div>\n",
              "<style scoped>\n",
              "    .dataframe tbody tr th:only-of-type {\n",
              "        vertical-align: middle;\n",
              "    }\n",
              "\n",
              "    .dataframe tbody tr th {\n",
              "        vertical-align: top;\n",
              "    }\n",
              "\n",
              "    .dataframe thead th {\n",
              "        text-align: right;\n",
              "    }\n",
              "</style>\n",
              "<table border=\"1\" class=\"dataframe\">\n",
              "  <thead>\n",
              "    <tr style=\"text-align: right;\">\n",
              "      <th></th>\n",
              "      <th>Actual</th>\n",
              "      <th>Predicted</th>\n",
              "    </tr>\n",
              "  </thead>\n",
              "  <tbody>\n",
              "    <tr>\n",
              "      <th>230730</th>\n",
              "      <td>42</td>\n",
              "      <td>56.615497</td>\n",
              "    </tr>\n",
              "    <tr>\n",
              "      <th>394065</th>\n",
              "      <td>364</td>\n",
              "      <td>317.142283</td>\n",
              "    </tr>\n",
              "    <tr>\n",
              "      <th>149461</th>\n",
              "      <td>94</td>\n",
              "      <td>72.178151</td>\n",
              "    </tr>\n",
              "    <tr>\n",
              "      <th>1551</th>\n",
              "      <td>82</td>\n",
              "      <td>75.553978</td>\n",
              "    </tr>\n",
              "    <tr>\n",
              "      <th>79572</th>\n",
              "      <td>94</td>\n",
              "      <td>97.287047</td>\n",
              "    </tr>\n",
              "    <tr>\n",
              "      <th>...</th>\n",
              "      <td>...</td>\n",
              "      <td>...</td>\n",
              "    </tr>\n",
              "    <tr>\n",
              "      <th>319294</th>\n",
              "      <td>310</td>\n",
              "      <td>153.135986</td>\n",
              "    </tr>\n",
              "    <tr>\n",
              "      <th>71949</th>\n",
              "      <td>215</td>\n",
              "      <td>360.813282</td>\n",
              "    </tr>\n",
              "    <tr>\n",
              "      <th>75625</th>\n",
              "      <td>68</td>\n",
              "      <td>119.929097</td>\n",
              "    </tr>\n",
              "    <tr>\n",
              "      <th>411675</th>\n",
              "      <td>80</td>\n",
              "      <td>45.188019</td>\n",
              "    </tr>\n",
              "    <tr>\n",
              "      <th>432671</th>\n",
              "      <td>94</td>\n",
              "      <td>202.438359</td>\n",
              "    </tr>\n",
              "  </tbody>\n",
              "</table>\n",
              "<p>45655 rows × 2 columns</p>\n",
              "</div>"
            ],
            "text/plain": [
              "        Actual   Predicted\n",
              "230730      42   56.615497\n",
              "394065     364  317.142283\n",
              "149461      94   72.178151\n",
              "1551        82   75.553978\n",
              "79572       94   97.287047\n",
              "...        ...         ...\n",
              "319294     310  153.135986\n",
              "71949      215  360.813282\n",
              "75625       68  119.929097\n",
              "411675      80   45.188019\n",
              "432671      94  202.438359\n",
              "\n",
              "[45655 rows x 2 columns]"
            ]
          },
          "metadata": {
            "tags": []
          },
          "execution_count": 182
        }
      ]
    },
    {
      "cell_type": "code",
      "metadata": {
        "id": "PZKIiSz8LjHq",
        "outputId": "d9ab4bbc-2ba8-4c16-aa9e-dc0c25cd1a22",
        "colab": {
          "base_uri": "https://localhost:8080/"
        }
      },
      "source": [
        "test_pred=model.predict(X_test)\n",
        "test_pred[test_pred < 0] = 0\n",
        "test_pred"
      ],
      "execution_count": 183,
      "outputs": [
        {
          "output_type": "execute_result",
          "data": {
            "text/plain": [
              "array([384.5331316 , 210.65879804, 163.87669744, ..., 300.62137839,\n",
              "       281.86865426, 240.08969102])"
            ]
          },
          "metadata": {
            "tags": []
          },
          "execution_count": 183
        }
      ]
    },
    {
      "cell_type": "markdown",
      "metadata": {
        "id": "TU3EQaL_QUMk"
      },
      "source": [
        "Make submission"
      ]
    },
    {
      "cell_type": "code",
      "metadata": {
        "id": "9TEOogELQTcB",
        "outputId": "dc02d499-704f-4a7c-b4ae-c88664544076",
        "colab": {
          "base_uri": "https://localhost:8080/"
        }
      },
      "source": [
        "output = pd.DataFrame({'id': test.id, 'num_orders': test_pred})\n",
        "output.to_csv('my_submission.csv', index=False)\n",
        "print(\"Your submission was successfully saved!\")"
      ],
      "execution_count": 184,
      "outputs": [
        {
          "output_type": "stream",
          "text": [
            "Your submission was successfully saved!\n"
          ],
          "name": "stdout"
        }
      ]
    },
    {
      "cell_type": "code",
      "metadata": {
        "id": "Vf0QqvIWRQLH",
        "outputId": "7f2b3ccb-e218-4719-ed4a-ee5ee20fe736",
        "colab": {
          "base_uri": "https://localhost:8080/",
          "height": 419
        }
      },
      "source": [
        "#upload submission\n",
        "my_submission = pd.read_csv(\"my_submission.csv\")\n",
        "my_submission"
      ],
      "execution_count": 185,
      "outputs": [
        {
          "output_type": "execute_result",
          "data": {
            "text/html": [
              "<div>\n",
              "<style scoped>\n",
              "    .dataframe tbody tr th:only-of-type {\n",
              "        vertical-align: middle;\n",
              "    }\n",
              "\n",
              "    .dataframe tbody tr th {\n",
              "        vertical-align: top;\n",
              "    }\n",
              "\n",
              "    .dataframe thead th {\n",
              "        text-align: right;\n",
              "    }\n",
              "</style>\n",
              "<table border=\"1\" class=\"dataframe\">\n",
              "  <thead>\n",
              "    <tr style=\"text-align: right;\">\n",
              "      <th></th>\n",
              "      <th>id</th>\n",
              "      <th>num_orders</th>\n",
              "    </tr>\n",
              "  </thead>\n",
              "  <tbody>\n",
              "    <tr>\n",
              "      <th>0</th>\n",
              "      <td>1028232</td>\n",
              "      <td>384.533132</td>\n",
              "    </tr>\n",
              "    <tr>\n",
              "      <th>1</th>\n",
              "      <td>1127204</td>\n",
              "      <td>210.658798</td>\n",
              "    </tr>\n",
              "    <tr>\n",
              "      <th>2</th>\n",
              "      <td>1212707</td>\n",
              "      <td>163.876697</td>\n",
              "    </tr>\n",
              "    <tr>\n",
              "      <th>3</th>\n",
              "      <td>1082698</td>\n",
              "      <td>12.603870</td>\n",
              "    </tr>\n",
              "    <tr>\n",
              "      <th>4</th>\n",
              "      <td>1400926</td>\n",
              "      <td>49.327747</td>\n",
              "    </tr>\n",
              "    <tr>\n",
              "      <th>...</th>\n",
              "      <td>...</td>\n",
              "      <td>...</td>\n",
              "    </tr>\n",
              "    <tr>\n",
              "      <th>32568</th>\n",
              "      <td>1250239</td>\n",
              "      <td>64.537881</td>\n",
              "    </tr>\n",
              "    <tr>\n",
              "      <th>32569</th>\n",
              "      <td>1039516</td>\n",
              "      <td>48.992206</td>\n",
              "    </tr>\n",
              "    <tr>\n",
              "      <th>32570</th>\n",
              "      <td>1158107</td>\n",
              "      <td>300.621378</td>\n",
              "    </tr>\n",
              "    <tr>\n",
              "      <th>32571</th>\n",
              "      <td>1444235</td>\n",
              "      <td>281.868654</td>\n",
              "    </tr>\n",
              "    <tr>\n",
              "      <th>32572</th>\n",
              "      <td>1291286</td>\n",
              "      <td>240.089691</td>\n",
              "    </tr>\n",
              "  </tbody>\n",
              "</table>\n",
              "<p>32573 rows × 2 columns</p>\n",
              "</div>"
            ],
            "text/plain": [
              "            id  num_orders\n",
              "0      1028232  384.533132\n",
              "1      1127204  210.658798\n",
              "2      1212707  163.876697\n",
              "3      1082698   12.603870\n",
              "4      1400926   49.327747\n",
              "...        ...         ...\n",
              "32568  1250239   64.537881\n",
              "32569  1039516   48.992206\n",
              "32570  1158107  300.621378\n",
              "32571  1444235  281.868654\n",
              "32572  1291286  240.089691\n",
              "\n",
              "[32573 rows x 2 columns]"
            ]
          },
          "metadata": {
            "tags": []
          },
          "execution_count": 185
        }
      ]
    }
  ]
}