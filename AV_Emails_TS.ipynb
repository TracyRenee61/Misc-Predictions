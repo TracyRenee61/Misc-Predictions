{
  "nbformat": 4,
  "nbformat_minor": 0,
  "metadata": {
    "colab": {
      "name": "AV Emails TS",
      "provenance": []
    },
    "kernelspec": {
      "display_name": "Python 3",
      "name": "python3"
    }
  },
  "cells": [
    {
      "cell_type": "markdown",
      "metadata": {
        "id": "br1n2keX8Dlu"
      },
      "source": [
        "Problem statement\n",
        "\n",
        "Email Marketing is still the most successful marketing channel and the essential element of any digital marketing strategy. Marketers spend a lot of time in writing that perfect email, labouring over each word, catchy layouts on multiple devices to get them best in-industry open rates & click rates.\n",
        "\n",
        "How can I build my campaign to increase the click-through rates of email? - a question that is often heard when marketers are creating their email marketing plans.\n",
        "\n",
        "Can we optimize our email marketing campaigns with Data Science?\n",
        "\n",
        "It's time to unlock marketing potential and build some exceptional data-science products for email marketing.\n",
        "\n",
        "Analytics Vidhya sends out marketing emailers for various events such as conferences, hackathons, etc. We have provided a sample of user-email interaction data from July 2017 to December 2017. You are required to predict the click probability of links inside a mailer for email campaigns from January 2018 to March 2018."
      ]
    },
    {
      "cell_type": "markdown",
      "metadata": {
        "id": "ReMZgeu78NO7"
      },
      "source": [
        "Import libraries"
      ]
    },
    {
      "cell_type": "code",
      "metadata": {
        "id": "5jgoS5fh7sBF"
      },
      "source": [
        "import pandas as pd\n",
        "import numpy as np\n",
        "import matplotlib.pyplot as plt\n",
        "import seaborn as sns"
      ],
      "execution_count": 81,
      "outputs": []
    },
    {
      "cell_type": "markdown",
      "metadata": {
        "id": "nM0oZEvX8n8v"
      },
      "source": [
        "Load files"
      ]
    },
    {
      "cell_type": "code",
      "metadata": {
        "id": "5-S9uyvK9Ih8"
      },
      "source": [
        "#read files\n",
        "#Reading train file:\n",
        "train = pd.read_csv('/content/drive/MyDrive/Colab Notebooks/email_train.csv')\n",
        "#Reading test file:\n",
        "test = pd.read_csv('/content/drive/MyDrive/Colab Notebooks/email_test.csv')\n",
        "#Reading sample submission file:\n",
        "sample = pd.read_csv('/content/drive/MyDrive/Colab Notebooks/email_sample.csv')\n",
        "#Reading data file:\n",
        "data = pd.read_csv('/content/drive/MyDrive/Colab Notebooks/email_campaign_data.csv')"
      ],
      "execution_count": 82,
      "outputs": []
    },
    {
      "cell_type": "code",
      "metadata": {
        "colab": {
          "base_uri": "https://localhost:8080/",
          "height": 406
        },
        "id": "Qj6refTV-M5N",
        "outputId": "e2402b18-a42c-4be5-9d8a-773817a1b7f9"
      },
      "source": [
        "train"
      ],
      "execution_count": 83,
      "outputs": [
        {
          "output_type": "execute_result",
          "data": {
            "text/html": [
              "<div>\n",
              "<style scoped>\n",
              "    .dataframe tbody tr th:only-of-type {\n",
              "        vertical-align: middle;\n",
              "    }\n",
              "\n",
              "    .dataframe tbody tr th {\n",
              "        vertical-align: top;\n",
              "    }\n",
              "\n",
              "    .dataframe thead th {\n",
              "        text-align: right;\n",
              "    }\n",
              "</style>\n",
              "<table border=\"1\" class=\"dataframe\">\n",
              "  <thead>\n",
              "    <tr style=\"text-align: right;\">\n",
              "      <th></th>\n",
              "      <th>id</th>\n",
              "      <th>user_id</th>\n",
              "      <th>campaign_id</th>\n",
              "      <th>send_date</th>\n",
              "      <th>is_open</th>\n",
              "      <th>is_click</th>\n",
              "    </tr>\n",
              "  </thead>\n",
              "  <tbody>\n",
              "    <tr>\n",
              "      <th>0</th>\n",
              "      <td>42_14051</td>\n",
              "      <td>14051</td>\n",
              "      <td>42</td>\n",
              "      <td>01-09-2017 19:55</td>\n",
              "      <td>0</td>\n",
              "      <td>0</td>\n",
              "    </tr>\n",
              "    <tr>\n",
              "      <th>1</th>\n",
              "      <td>52_134438</td>\n",
              "      <td>134438</td>\n",
              "      <td>52</td>\n",
              "      <td>02-11-2017 12:53</td>\n",
              "      <td>0</td>\n",
              "      <td>0</td>\n",
              "    </tr>\n",
              "    <tr>\n",
              "      <th>2</th>\n",
              "      <td>33_181789</td>\n",
              "      <td>181789</td>\n",
              "      <td>33</td>\n",
              "      <td>24-07-2017 15:15</td>\n",
              "      <td>0</td>\n",
              "      <td>0</td>\n",
              "    </tr>\n",
              "    <tr>\n",
              "      <th>3</th>\n",
              "      <td>44_231448</td>\n",
              "      <td>231448</td>\n",
              "      <td>44</td>\n",
              "      <td>05-09-2017 11:36</td>\n",
              "      <td>0</td>\n",
              "      <td>0</td>\n",
              "    </tr>\n",
              "    <tr>\n",
              "      <th>4</th>\n",
              "      <td>29_185580</td>\n",
              "      <td>185580</td>\n",
              "      <td>29</td>\n",
              "      <td>01-07-2017 18:01</td>\n",
              "      <td>0</td>\n",
              "      <td>0</td>\n",
              "    </tr>\n",
              "    <tr>\n",
              "      <th>...</th>\n",
              "      <td>...</td>\n",
              "      <td>...</td>\n",
              "      <td>...</td>\n",
              "      <td>...</td>\n",
              "      <td>...</td>\n",
              "      <td>...</td>\n",
              "    </tr>\n",
              "    <tr>\n",
              "      <th>1023186</th>\n",
              "      <td>29_232613</td>\n",
              "      <td>232613</td>\n",
              "      <td>29</td>\n",
              "      <td>01-07-2017 18:04</td>\n",
              "      <td>0</td>\n",
              "      <td>0</td>\n",
              "    </tr>\n",
              "    <tr>\n",
              "      <th>1023187</th>\n",
              "      <td>48_119204</td>\n",
              "      <td>119204</td>\n",
              "      <td>48</td>\n",
              "      <td>02-10-2017 10:23</td>\n",
              "      <td>1</td>\n",
              "      <td>0</td>\n",
              "    </tr>\n",
              "    <tr>\n",
              "      <th>1023188</th>\n",
              "      <td>33_235406</td>\n",
              "      <td>235406</td>\n",
              "      <td>33</td>\n",
              "      <td>26-07-2017 09:37</td>\n",
              "      <td>1</td>\n",
              "      <td>1</td>\n",
              "    </tr>\n",
              "    <tr>\n",
              "      <th>1023189</th>\n",
              "      <td>53_183424</td>\n",
              "      <td>183424</td>\n",
              "      <td>53</td>\n",
              "      <td>06-11-2017 22:53</td>\n",
              "      <td>0</td>\n",
              "      <td>0</td>\n",
              "    </tr>\n",
              "    <tr>\n",
              "      <th>1023190</th>\n",
              "      <td>54_89219</td>\n",
              "      <td>89219</td>\n",
              "      <td>54</td>\n",
              "      <td>01-12-2017 20:20</td>\n",
              "      <td>0</td>\n",
              "      <td>0</td>\n",
              "    </tr>\n",
              "  </tbody>\n",
              "</table>\n",
              "<p>1023191 rows × 6 columns</p>\n",
              "</div>"
            ],
            "text/plain": [
              "                id  user_id  campaign_id         send_date  is_open  is_click\n",
              "0         42_14051    14051           42  01-09-2017 19:55        0         0\n",
              "1        52_134438   134438           52  02-11-2017 12:53        0         0\n",
              "2        33_181789   181789           33  24-07-2017 15:15        0         0\n",
              "3        44_231448   231448           44  05-09-2017 11:36        0         0\n",
              "4        29_185580   185580           29  01-07-2017 18:01        0         0\n",
              "...            ...      ...          ...               ...      ...       ...\n",
              "1023186  29_232613   232613           29  01-07-2017 18:04        0         0\n",
              "1023187  48_119204   119204           48  02-10-2017 10:23        1         0\n",
              "1023188  33_235406   235406           33  26-07-2017 09:37        1         1\n",
              "1023189  53_183424   183424           53  06-11-2017 22:53        0         0\n",
              "1023190   54_89219    89219           54  01-12-2017 20:20        0         0\n",
              "\n",
              "[1023191 rows x 6 columns]"
            ]
          },
          "metadata": {
            "tags": []
          },
          "execution_count": 83
        }
      ]
    },
    {
      "cell_type": "code",
      "metadata": {
        "colab": {
          "base_uri": "https://localhost:8080/",
          "height": 406
        },
        "id": "puEl9Y5p-N7e",
        "outputId": "35c4da26-7242-4980-b9b3-fdb5d2a79da3"
      },
      "source": [
        "test"
      ],
      "execution_count": 84,
      "outputs": [
        {
          "output_type": "execute_result",
          "data": {
            "text/html": [
              "<div>\n",
              "<style scoped>\n",
              "    .dataframe tbody tr th:only-of-type {\n",
              "        vertical-align: middle;\n",
              "    }\n",
              "\n",
              "    .dataframe tbody tr th {\n",
              "        vertical-align: top;\n",
              "    }\n",
              "\n",
              "    .dataframe thead th {\n",
              "        text-align: right;\n",
              "    }\n",
              "</style>\n",
              "<table border=\"1\" class=\"dataframe\">\n",
              "  <thead>\n",
              "    <tr style=\"text-align: right;\">\n",
              "      <th></th>\n",
              "      <th>id</th>\n",
              "      <th>campaign_id</th>\n",
              "      <th>user_id</th>\n",
              "      <th>send_date</th>\n",
              "    </tr>\n",
              "  </thead>\n",
              "  <tbody>\n",
              "    <tr>\n",
              "      <th>0</th>\n",
              "      <td>63_122715</td>\n",
              "      <td>63</td>\n",
              "      <td>122715</td>\n",
              "      <td>01-02-2018 22:35</td>\n",
              "    </tr>\n",
              "    <tr>\n",
              "      <th>1</th>\n",
              "      <td>56_76206</td>\n",
              "      <td>56</td>\n",
              "      <td>76206</td>\n",
              "      <td>02-01-2018 08:15</td>\n",
              "    </tr>\n",
              "    <tr>\n",
              "      <th>2</th>\n",
              "      <td>57_96189</td>\n",
              "      <td>57</td>\n",
              "      <td>96189</td>\n",
              "      <td>05-01-2018 18:25</td>\n",
              "    </tr>\n",
              "    <tr>\n",
              "      <th>3</th>\n",
              "      <td>56_166917</td>\n",
              "      <td>56</td>\n",
              "      <td>166917</td>\n",
              "      <td>02-01-2018 08:15</td>\n",
              "    </tr>\n",
              "    <tr>\n",
              "      <th>4</th>\n",
              "      <td>56_172838</td>\n",
              "      <td>56</td>\n",
              "      <td>172838</td>\n",
              "      <td>02-01-2018 08:12</td>\n",
              "    </tr>\n",
              "    <tr>\n",
              "      <th>...</th>\n",
              "      <td>...</td>\n",
              "      <td>...</td>\n",
              "      <td>...</td>\n",
              "      <td>...</td>\n",
              "    </tr>\n",
              "    <tr>\n",
              "      <th>773853</th>\n",
              "      <td>74_202929</td>\n",
              "      <td>74</td>\n",
              "      <td>202929</td>\n",
              "      <td>01-03-2018 21:19</td>\n",
              "    </tr>\n",
              "    <tr>\n",
              "      <th>773854</th>\n",
              "      <td>56_95437</td>\n",
              "      <td>56</td>\n",
              "      <td>95437</td>\n",
              "      <td>02-01-2018 08:10</td>\n",
              "    </tr>\n",
              "    <tr>\n",
              "      <th>773855</th>\n",
              "      <td>63_11063</td>\n",
              "      <td>63</td>\n",
              "      <td>11063</td>\n",
              "      <td>01-02-2018 22:55</td>\n",
              "    </tr>\n",
              "    <tr>\n",
              "      <th>773856</th>\n",
              "      <td>72_144182</td>\n",
              "      <td>72</td>\n",
              "      <td>144182</td>\n",
              "      <td>22-02-2018 16:10</td>\n",
              "    </tr>\n",
              "    <tr>\n",
              "      <th>773857</th>\n",
              "      <td>57_226299</td>\n",
              "      <td>57</td>\n",
              "      <td>226299</td>\n",
              "      <td>05-01-2018 18:03</td>\n",
              "    </tr>\n",
              "  </tbody>\n",
              "</table>\n",
              "<p>773858 rows × 4 columns</p>\n",
              "</div>"
            ],
            "text/plain": [
              "               id  campaign_id  user_id         send_date\n",
              "0       63_122715           63   122715  01-02-2018 22:35\n",
              "1        56_76206           56    76206  02-01-2018 08:15\n",
              "2        57_96189           57    96189  05-01-2018 18:25\n",
              "3       56_166917           56   166917  02-01-2018 08:15\n",
              "4       56_172838           56   172838  02-01-2018 08:12\n",
              "...           ...          ...      ...               ...\n",
              "773853  74_202929           74   202929  01-03-2018 21:19\n",
              "773854   56_95437           56    95437  02-01-2018 08:10\n",
              "773855   63_11063           63    11063  01-02-2018 22:55\n",
              "773856  72_144182           72   144182  22-02-2018 16:10\n",
              "773857  57_226299           57   226299  05-01-2018 18:03\n",
              "\n",
              "[773858 rows x 4 columns]"
            ]
          },
          "metadata": {
            "tags": []
          },
          "execution_count": 84
        }
      ]
    },
    {
      "cell_type": "code",
      "metadata": {
        "colab": {
          "base_uri": "https://localhost:8080/",
          "height": 406
        },
        "id": "pa4Qlvbm-O_k",
        "outputId": "bd5cb414-3465-4dd4-bc6e-1650f2acad65"
      },
      "source": [
        "sample"
      ],
      "execution_count": 85,
      "outputs": [
        {
          "output_type": "execute_result",
          "data": {
            "text/html": [
              "<div>\n",
              "<style scoped>\n",
              "    .dataframe tbody tr th:only-of-type {\n",
              "        vertical-align: middle;\n",
              "    }\n",
              "\n",
              "    .dataframe tbody tr th {\n",
              "        vertical-align: top;\n",
              "    }\n",
              "\n",
              "    .dataframe thead th {\n",
              "        text-align: right;\n",
              "    }\n",
              "</style>\n",
              "<table border=\"1\" class=\"dataframe\">\n",
              "  <thead>\n",
              "    <tr style=\"text-align: right;\">\n",
              "      <th></th>\n",
              "      <th>id</th>\n",
              "      <th>is_click</th>\n",
              "    </tr>\n",
              "  </thead>\n",
              "  <tbody>\n",
              "    <tr>\n",
              "      <th>0</th>\n",
              "      <td>63_122715</td>\n",
              "      <td>0</td>\n",
              "    </tr>\n",
              "    <tr>\n",
              "      <th>1</th>\n",
              "      <td>56_76206</td>\n",
              "      <td>0</td>\n",
              "    </tr>\n",
              "    <tr>\n",
              "      <th>2</th>\n",
              "      <td>57_96189</td>\n",
              "      <td>0</td>\n",
              "    </tr>\n",
              "    <tr>\n",
              "      <th>3</th>\n",
              "      <td>56_166917</td>\n",
              "      <td>0</td>\n",
              "    </tr>\n",
              "    <tr>\n",
              "      <th>4</th>\n",
              "      <td>56_172838</td>\n",
              "      <td>0</td>\n",
              "    </tr>\n",
              "    <tr>\n",
              "      <th>...</th>\n",
              "      <td>...</td>\n",
              "      <td>...</td>\n",
              "    </tr>\n",
              "    <tr>\n",
              "      <th>773853</th>\n",
              "      <td>74_202929</td>\n",
              "      <td>0</td>\n",
              "    </tr>\n",
              "    <tr>\n",
              "      <th>773854</th>\n",
              "      <td>56_95437</td>\n",
              "      <td>0</td>\n",
              "    </tr>\n",
              "    <tr>\n",
              "      <th>773855</th>\n",
              "      <td>63_11063</td>\n",
              "      <td>0</td>\n",
              "    </tr>\n",
              "    <tr>\n",
              "      <th>773856</th>\n",
              "      <td>72_144182</td>\n",
              "      <td>0</td>\n",
              "    </tr>\n",
              "    <tr>\n",
              "      <th>773857</th>\n",
              "      <td>57_226299</td>\n",
              "      <td>0</td>\n",
              "    </tr>\n",
              "  </tbody>\n",
              "</table>\n",
              "<p>773858 rows × 2 columns</p>\n",
              "</div>"
            ],
            "text/plain": [
              "               id  is_click\n",
              "0       63_122715         0\n",
              "1        56_76206         0\n",
              "2        57_96189         0\n",
              "3       56_166917         0\n",
              "4       56_172838         0\n",
              "...           ...       ...\n",
              "773853  74_202929         0\n",
              "773854   56_95437         0\n",
              "773855   63_11063         0\n",
              "773856  72_144182         0\n",
              "773857  57_226299         0\n",
              "\n",
              "[773858 rows x 2 columns]"
            ]
          },
          "metadata": {
            "tags": []
          },
          "execution_count": 85
        }
      ]
    },
    {
      "cell_type": "code",
      "metadata": {
        "colab": {
          "base_uri": "https://localhost:8080/",
          "height": 1000
        },
        "id": "UsqfC98g-RnL",
        "outputId": "223df92f-56f8-4ece-8f10-85688dde8d5a"
      },
      "source": [
        "data"
      ],
      "execution_count": 86,
      "outputs": [
        {
          "output_type": "execute_result",
          "data": {
            "text/html": [
              "<div>\n",
              "<style scoped>\n",
              "    .dataframe tbody tr th:only-of-type {\n",
              "        vertical-align: middle;\n",
              "    }\n",
              "\n",
              "    .dataframe tbody tr th {\n",
              "        vertical-align: top;\n",
              "    }\n",
              "\n",
              "    .dataframe thead th {\n",
              "        text-align: right;\n",
              "    }\n",
              "</style>\n",
              "<table border=\"1\" class=\"dataframe\">\n",
              "  <thead>\n",
              "    <tr style=\"text-align: right;\">\n",
              "      <th></th>\n",
              "      <th>campaign_id</th>\n",
              "      <th>communication_type</th>\n",
              "      <th>total_links</th>\n",
              "      <th>no_of_internal_links</th>\n",
              "      <th>no_of_images</th>\n",
              "      <th>no_of_sections</th>\n",
              "      <th>email_body</th>\n",
              "      <th>subject</th>\n",
              "      <th>email_url</th>\n",
              "    </tr>\n",
              "  </thead>\n",
              "  <tbody>\n",
              "    <tr>\n",
              "      <th>0</th>\n",
              "      <td>29</td>\n",
              "      <td>Newsletter</td>\n",
              "      <td>67</td>\n",
              "      <td>61</td>\n",
              "      <td>12</td>\n",
              "      <td>3</td>\n",
              "      <td>Dear AVians,\\r\\n \\r\\nWe are shaping up a super...</td>\n",
              "      <td>Sneak Peek: A look at the emerging data scienc...</td>\n",
              "      <td>http://r.newsletters.analyticsvidhya.com/7um44...</td>\n",
              "    </tr>\n",
              "    <tr>\n",
              "      <th>1</th>\n",
              "      <td>30</td>\n",
              "      <td>Upcoming Events</td>\n",
              "      <td>18</td>\n",
              "      <td>14</td>\n",
              "      <td>7</td>\n",
              "      <td>1</td>\n",
              "      <td>Dear AVians,\\r\\n \\r\\nAre your eager to know wh...</td>\n",
              "      <td>[July] Data Science Expert Meetups &amp; Competiti...</td>\n",
              "      <td>http://r.newsletters.analyticsvidhya.com/7up0e...</td>\n",
              "    </tr>\n",
              "    <tr>\n",
              "      <th>2</th>\n",
              "      <td>31</td>\n",
              "      <td>Conference</td>\n",
              "      <td>15</td>\n",
              "      <td>13</td>\n",
              "      <td>5</td>\n",
              "      <td>1</td>\n",
              "      <td>Early Bird Pricing Till August 07  Save upto ...</td>\n",
              "      <td>Last chance to convince your boss before the E...</td>\n",
              "      <td>http://r.newsletters.analyticsvidhya.com/7usym...</td>\n",
              "    </tr>\n",
              "    <tr>\n",
              "      <th>3</th>\n",
              "      <td>32</td>\n",
              "      <td>Conference</td>\n",
              "      <td>24</td>\n",
              "      <td>19</td>\n",
              "      <td>7</td>\n",
              "      <td>1</td>\n",
              "      <td>\\r\\n \\r\\nHi ?\\r\\n \\r\\nBefore I dive into why y...</td>\n",
              "      <td>A.I. &amp; Machine Learning: 5 reasons why you sho...</td>\n",
              "      <td>http://r.newsletters.analyticsvidhya.com/7uthl...</td>\n",
              "    </tr>\n",
              "    <tr>\n",
              "      <th>4</th>\n",
              "      <td>33</td>\n",
              "      <td>Others</td>\n",
              "      <td>7</td>\n",
              "      <td>3</td>\n",
              "      <td>1</td>\n",
              "      <td>1</td>\n",
              "      <td>Fireside Chat with DJ Patil - the master is he...</td>\n",
              "      <td>[Delhi NCR] Fireside Chat with DJ Patil, Forme...</td>\n",
              "      <td>http://r.newsletters.analyticsvidhya.com/7uvlg...</td>\n",
              "    </tr>\n",
              "    <tr>\n",
              "      <th>5</th>\n",
              "      <td>34</td>\n",
              "      <td>Newsletter</td>\n",
              "      <td>75</td>\n",
              "      <td>64</td>\n",
              "      <td>12</td>\n",
              "      <td>4</td>\n",
              "      <td>\\r\\nAugust Newsletter\\r\\n \\r\\nDear AVians,\\r\\n...</td>\n",
              "      <td>[AV Newsletter] Fireside Chat with DJ Patil, D...</td>\n",
              "      <td>http://r.newsletters.analyticsvidhya.com/7uwwu...</td>\n",
              "    </tr>\n",
              "    <tr>\n",
              "      <th>6</th>\n",
              "      <td>35</td>\n",
              "      <td>Others</td>\n",
              "      <td>9</td>\n",
              "      <td>2</td>\n",
              "      <td>1</td>\n",
              "      <td>1</td>\n",
              "      <td>Fireside Chat with DJ Patil - Watch Live!\\r\\n ...</td>\n",
              "      <td>Watch Live: Fireside Chat with DJ Patil</td>\n",
              "      <td>http://r.newsletters.analyticsvidhya.com/7ux6c...</td>\n",
              "    </tr>\n",
              "    <tr>\n",
              "      <th>7</th>\n",
              "      <td>36</td>\n",
              "      <td>Conference</td>\n",
              "      <td>13</td>\n",
              "      <td>11</td>\n",
              "      <td>2</td>\n",
              "      <td>1</td>\n",
              "      <td>Announcing Dr. Kirk Borne as Keynote Speaker\\r...</td>\n",
              "      <td>Dr Kirk Borne of Booz Allen Hamilton, to keyno...</td>\n",
              "      <td>http://r.newsletters.analyticsvidhya.com/7uxpa...</td>\n",
              "    </tr>\n",
              "    <tr>\n",
              "      <th>8</th>\n",
              "      <td>37</td>\n",
              "      <td>Conference</td>\n",
              "      <td>9</td>\n",
              "      <td>7</td>\n",
              "      <td>3</td>\n",
              "      <td>1</td>\n",
              "      <td>Last day to save maximum on tickets\\r\\n \\r\\n15...</td>\n",
              "      <td>[Last Day] Early Bird Offer on conference pass...</td>\n",
              "      <td>http://r.newsletters.analyticsvidhya.com/7uyr8...</td>\n",
              "    </tr>\n",
              "    <tr>\n",
              "      <th>9</th>\n",
              "      <td>38</td>\n",
              "      <td>Conference</td>\n",
              "      <td>28</td>\n",
              "      <td>26</td>\n",
              "      <td>12</td>\n",
              "      <td>3</td>\n",
              "      <td>Early Bird Pricing expires on August 07\\r\\n \\r...</td>\n",
              "      <td>Early Bird offer expires in 2 Days. Save your ...</td>\n",
              "      <td>http://r.newsletters.analyticsvidhya.com/7uz0p...</td>\n",
              "    </tr>\n",
              "    <tr>\n",
              "      <th>10</th>\n",
              "      <td>39</td>\n",
              "      <td>Webinar</td>\n",
              "      <td>9</td>\n",
              "      <td>4</td>\n",
              "      <td>2</td>\n",
              "      <td>1</td>\n",
              "      <td>Analytics Vidhya &amp; UpX Academy presents \\r\\n\\r...</td>\n",
              "      <td>[New Webinar] Can non programmers join Big Dat...</td>\n",
              "      <td>http://r.newsletters.analyticsvidhya.com/7uza6...</td>\n",
              "    </tr>\n",
              "    <tr>\n",
              "      <th>11</th>\n",
              "      <td>40</td>\n",
              "      <td>Conference</td>\n",
              "      <td>10</td>\n",
              "      <td>8</td>\n",
              "      <td>2</td>\n",
              "      <td>1</td>\n",
              "      <td>Machine learning algorithms are considered bla...</td>\n",
              "      <td>Visualizing Machine Learning with Anand S, CEO...</td>\n",
              "      <td>http://r.newsletters.analyticsvidhya.com/7v1x0...</td>\n",
              "    </tr>\n",
              "    <tr>\n",
              "      <th>12</th>\n",
              "      <td>41</td>\n",
              "      <td>Corporate</td>\n",
              "      <td>14</td>\n",
              "      <td>10</td>\n",
              "      <td>2</td>\n",
              "      <td>1</td>\n",
              "      <td>Step into the Future of Artificial Intelligenc...</td>\n",
              "      <td>Participate at DataHack Summit 2017 - India's ...</td>\n",
              "      <td>http://r.newsletters.analyticsvidhya.com/7v3hw...</td>\n",
              "    </tr>\n",
              "    <tr>\n",
              "      <th>13</th>\n",
              "      <td>42</td>\n",
              "      <td>Newsletter</td>\n",
              "      <td>88</td>\n",
              "      <td>79</td>\n",
              "      <td>13</td>\n",
              "      <td>4</td>\n",
              "      <td>September Newsletter\\r\\n \\r\\nDear AVians,\\r\\n ...</td>\n",
              "      <td>[September] Exciting days ahead with DataHack ...</td>\n",
              "      <td>http://r.newsletters.analyticsvidhya.com/7v3rd...</td>\n",
              "    </tr>\n",
              "    <tr>\n",
              "      <th>14</th>\n",
              "      <td>43</td>\n",
              "      <td>Corporate</td>\n",
              "      <td>11</td>\n",
              "      <td>7</td>\n",
              "      <td>3</td>\n",
              "      <td>1</td>\n",
              "      <td>\\r\\nHosted Your Corporate Hackathon Yet?\\r\\n \\...</td>\n",
              "      <td>Innovate and grow your business through Data H...</td>\n",
              "      <td>http://r.newsletters.analyticsvidhya.com/7v4ta...</td>\n",
              "    </tr>\n",
              "    <tr>\n",
              "      <th>15</th>\n",
              "      <td>44</td>\n",
              "      <td>Upcoming Events</td>\n",
              "      <td>60</td>\n",
              "      <td>56</td>\n",
              "      <td>19</td>\n",
              "      <td>6</td>\n",
              "      <td>[September Events]\\r\\n \\r\\nDear AVians,\\r\\n \\r...</td>\n",
              "      <td>[September] Data Science Hackathons, Meetups a...</td>\n",
              "      <td>http://r.newsletters.analyticsvidhya.com/7veam...</td>\n",
              "    </tr>\n",
              "    <tr>\n",
              "      <th>16</th>\n",
              "      <td>45</td>\n",
              "      <td>Hackathon</td>\n",
              "      <td>7</td>\n",
              "      <td>3</td>\n",
              "      <td>2</td>\n",
              "      <td>1</td>\n",
              "      <td>Click Prediction\\r\\nData Science Hackathon\\r\\n...</td>\n",
              "      <td>Click Prediction | Data Science Hackathon | Wi...</td>\n",
              "      <td>http://r.newsletters.analyticsvidhya.com/7vgeh...</td>\n",
              "    </tr>\n",
              "    <tr>\n",
              "      <th>17</th>\n",
              "      <td>46</td>\n",
              "      <td>Hackathon</td>\n",
              "      <td>7</td>\n",
              "      <td>3</td>\n",
              "      <td>2</td>\n",
              "      <td>1</td>\n",
              "      <td>Click Prediction\\r\\nData Science Hackathon\\r\\n...</td>\n",
              "      <td>[Starts Tonight] Click Prediction Hackathon | ...</td>\n",
              "      <td>http://r.newsletters.analyticsvidhya.com/7vj1a...</td>\n",
              "    </tr>\n",
              "    <tr>\n",
              "      <th>18</th>\n",
              "      <td>47</td>\n",
              "      <td>Hackathon</td>\n",
              "      <td>8</td>\n",
              "      <td>4</td>\n",
              "      <td>2</td>\n",
              "      <td>1</td>\n",
              "      <td>\\r\\nCodeFest by IIT BHU\\r\\n[Coding Festival]  ...</td>\n",
              "      <td>[New Hackathon] CodeFest by IIT BHU | Win Priz...</td>\n",
              "      <td>http://r.newsletters.analyticsvidhya.com/7vkvo...</td>\n",
              "    </tr>\n",
              "    <tr>\n",
              "      <th>19</th>\n",
              "      <td>48</td>\n",
              "      <td>Newsletter</td>\n",
              "      <td>203</td>\n",
              "      <td>191</td>\n",
              "      <td>12</td>\n",
              "      <td>4</td>\n",
              "      <td>\\r\\nOctober Newsletter\\r\\n \\r\\nDear AVians,\\r\\...</td>\n",
              "      <td>[October 2017] - Just a month to go! DataHack ...</td>\n",
              "      <td>http://r.newsletters.analyticsvidhya.com/7vlxl...</td>\n",
              "    </tr>\n",
              "    <tr>\n",
              "      <th>20</th>\n",
              "      <td>49</td>\n",
              "      <td>Conference</td>\n",
              "      <td>119</td>\n",
              "      <td>117</td>\n",
              "      <td>16</td>\n",
              "      <td>1</td>\n",
              "      <td>Dear Patron,\\r\\n \\r\\nAnalytics Vidhya is on a ...</td>\n",
              "      <td>Register @ DataHack Summit 2017 - India's Larg...</td>\n",
              "      <td>http://r.newsletters.analyticsvidhya.com/o7ohw...</td>\n",
              "    </tr>\n",
              "    <tr>\n",
              "      <th>21</th>\n",
              "      <td>50</td>\n",
              "      <td>Upcoming Events</td>\n",
              "      <td>109</td>\n",
              "      <td>105</td>\n",
              "      <td>17</td>\n",
              "      <td>6</td>\n",
              "      <td>[October Hackathons, Meetups, Events, Webinars...</td>\n",
              "      <td>[October] Data Science Hackathons, Meetups and...</td>\n",
              "      <td>http://r.newsletters.analyticsvidhya.com/7voke...</td>\n",
              "    </tr>\n",
              "    <tr>\n",
              "      <th>22</th>\n",
              "      <td>51</td>\n",
              "      <td>Hackathon</td>\n",
              "      <td>8</td>\n",
              "      <td>4</td>\n",
              "      <td>2</td>\n",
              "      <td>1</td>\n",
              "      <td>Upcoming Hackathons\\r\\n[Machine Learning]  \\r\\...</td>\n",
              "      <td>[Data Science Hackathons] Cross -Sell &amp; Churn ...</td>\n",
              "      <td>http://r.newsletters.analyticsvidhya.com/7vs95...</td>\n",
              "    </tr>\n",
              "    <tr>\n",
              "      <th>23</th>\n",
              "      <td>52</td>\n",
              "      <td>Newsletter</td>\n",
              "      <td>67</td>\n",
              "      <td>62</td>\n",
              "      <td>10</td>\n",
              "      <td>4</td>\n",
              "      <td>November Newsletter\\r\\n \\r\\nDear AVians,\\r\\n \\...</td>\n",
              "      <td>[Newsletter] Stage for DataHack Summit 2017 is...</td>\n",
              "      <td>http://r.newsletters.analyticsvidhya.com/7vtb2...</td>\n",
              "    </tr>\n",
              "    <tr>\n",
              "      <th>24</th>\n",
              "      <td>53</td>\n",
              "      <td>Conference</td>\n",
              "      <td>104</td>\n",
              "      <td>100</td>\n",
              "      <td>13</td>\n",
              "      <td>1</td>\n",
              "      <td>3 DAYS | 30 TALKS | 10 HACK SESSIONS | 6 WORKS...</td>\n",
              "      <td>[Register Now] Just 2 days to go for India's b...</td>\n",
              "      <td>http://r.newsletters.analyticsvidhya.com/7vv5g...</td>\n",
              "    </tr>\n",
              "    <tr>\n",
              "      <th>25</th>\n",
              "      <td>54</td>\n",
              "      <td>Newsletter</td>\n",
              "      <td>63</td>\n",
              "      <td>58</td>\n",
              "      <td>8</td>\n",
              "      <td>4</td>\n",
              "      <td>December Newsletter\\r\\n \\r\\nDear AVians,\\r\\n \\...</td>\n",
              "      <td>[November Updates] - Announcing DataFest 2018,...</td>\n",
              "      <td>http://r.newsletters.analyticsvidhya.com/7vzmm...</td>\n",
              "    </tr>\n",
              "    <tr>\n",
              "      <th>26</th>\n",
              "      <td>55</td>\n",
              "      <td>Corporate</td>\n",
              "      <td>11</td>\n",
              "      <td>7</td>\n",
              "      <td>5</td>\n",
              "      <td>1</td>\n",
              "      <td>Do you know? You can identify and hire the bes...</td>\n",
              "      <td>Hire Top Data Scientists In Less Than 24 Hours</td>\n",
              "      <td>http://r.newsletters.analyticsvidhya.com/7w2se...</td>\n",
              "    </tr>\n",
              "    <tr>\n",
              "      <th>27</th>\n",
              "      <td>56</td>\n",
              "      <td>Newsletter</td>\n",
              "      <td>42</td>\n",
              "      <td>38</td>\n",
              "      <td>10</td>\n",
              "      <td>4</td>\n",
              "      <td>\\r\\nJanuary 2018 Newsletter\\r\\n \\r\\nDear AVian...</td>\n",
              "      <td>[January] Year 2018 - Bigger &amp; Exciting challe...</td>\n",
              "      <td>http://r.newsletters.analyticsvidhya.com/7w3uc...</td>\n",
              "    </tr>\n",
              "    <tr>\n",
              "      <th>28</th>\n",
              "      <td>57</td>\n",
              "      <td>Upcoming Events</td>\n",
              "      <td>40</td>\n",
              "      <td>36</td>\n",
              "      <td>15</td>\n",
              "      <td>4</td>\n",
              "      <td>[January - Hiring Hackathons, LearnUps, Contes...</td>\n",
              "      <td>[January 2018] Upcoming Hiring Hackathons, Lea...</td>\n",
              "      <td>http://r.newsletters.analyticsvidhya.com/7w43t...</td>\n",
              "    </tr>\n",
              "    <tr>\n",
              "      <th>29</th>\n",
              "      <td>58</td>\n",
              "      <td>Hackathon</td>\n",
              "      <td>6</td>\n",
              "      <td>2</td>\n",
              "      <td>2</td>\n",
              "      <td>1</td>\n",
              "      <td>Analytics Vidhya Hiring Hackathon\\r\\n \\r\\n \\r\\...</td>\n",
              "      <td>[13 January] Get Hired with Analytics Vidhya H...</td>\n",
              "      <td>http://r.newsletters.analyticsvidhya.com/7w5y6...</td>\n",
              "    </tr>\n",
              "    <tr>\n",
              "      <th>30</th>\n",
              "      <td>59</td>\n",
              "      <td>Corporate</td>\n",
              "      <td>8</td>\n",
              "      <td>4</td>\n",
              "      <td>5</td>\n",
              "      <td>1</td>\n",
              "      <td>Do you know? You can identify and hire the bes...</td>\n",
              "      <td>Hire Top Talent From 1,00,000+ Data Scientists</td>\n",
              "      <td>http://r.newsletters.analyticsvidhya.com/7w6qm...</td>\n",
              "    </tr>\n",
              "    <tr>\n",
              "      <th>31</th>\n",
              "      <td>60</td>\n",
              "      <td>Corporate</td>\n",
              "      <td>11</td>\n",
              "      <td>7</td>\n",
              "      <td>3</td>\n",
              "      <td>3</td>\n",
              "      <td>Get Over 100,000 Data Scientists To Solve Your...</td>\n",
              "      <td>Get 1000+ Data-Driven Solutions For Your Busin...</td>\n",
              "      <td>http://r.newsletters.analyticsvidhya.com/7w704...</td>\n",
              "    </tr>\n",
              "    <tr>\n",
              "      <th>32</th>\n",
              "      <td>61</td>\n",
              "      <td>Corporate</td>\n",
              "      <td>8</td>\n",
              "      <td>4</td>\n",
              "      <td>9</td>\n",
              "      <td>1</td>\n",
              "      <td>Searching For Top Data Scientists To Join Your...</td>\n",
              "      <td>Recruit Top Data Science Professionals (Chief ...</td>\n",
              "      <td>http://r.newsletters.analyticsvidhya.com/7wghg...</td>\n",
              "    </tr>\n",
              "    <tr>\n",
              "      <th>33</th>\n",
              "      <td>62</td>\n",
              "      <td>Hackathon</td>\n",
              "      <td>7</td>\n",
              "      <td>3</td>\n",
              "      <td>2</td>\n",
              "      <td>1</td>\n",
              "      <td>\\r\\nFelicity'18 - Kings Of Machine Learning\\r\\...</td>\n",
              "      <td>[24 Jan] IIIT Hyderabad - Felicity'18 Machine ...</td>\n",
              "      <td>http://r.newsletters.analyticsvidhya.com/7wh9w...</td>\n",
              "    </tr>\n",
              "    <tr>\n",
              "      <th>34</th>\n",
              "      <td>63</td>\n",
              "      <td>Newsletter</td>\n",
              "      <td>68</td>\n",
              "      <td>64</td>\n",
              "      <td>15</td>\n",
              "      <td>5</td>\n",
              "      <td>\\r\\nFebruary 2018 Newsletter\\r\\n \\r\\nDear AVia...</td>\n",
              "      <td>AVbytes, Ultimate 2018 learning path and aweso...</td>\n",
              "      <td>http://r.newsletters.analyticsvidhya.com/7whsu...</td>\n",
              "    </tr>\n",
              "    <tr>\n",
              "      <th>35</th>\n",
              "      <td>64</td>\n",
              "      <td>Upcoming Events</td>\n",
              "      <td>49</td>\n",
              "      <td>45</td>\n",
              "      <td>14</td>\n",
              "      <td>4</td>\n",
              "      <td>[February - Hiring Hackathons, LearnUps, Conte...</td>\n",
              "      <td>[February 2018] Upcoming Hiring Hackathons, Da...</td>\n",
              "      <td>http://r.newsletters.analyticsvidhya.com/7wjn8...</td>\n",
              "    </tr>\n",
              "    <tr>\n",
              "      <th>36</th>\n",
              "      <td>65</td>\n",
              "      <td>Hackathon</td>\n",
              "      <td>7</td>\n",
              "      <td>3</td>\n",
              "      <td>1</td>\n",
              "      <td>1</td>\n",
              "      <td>IEOR @ IITB &amp; McKinsey Knowledge Centre India ...</td>\n",
              "      <td>[New Hackathon] The Young Optimization Cracker...</td>\n",
              "      <td>http://r.newsletters.analyticsvidhya.com/7wjwp...</td>\n",
              "    </tr>\n",
              "    <tr>\n",
              "      <th>37</th>\n",
              "      <td>66</td>\n",
              "      <td>Corporate</td>\n",
              "      <td>16</td>\n",
              "      <td>12</td>\n",
              "      <td>13</td>\n",
              "      <td>1</td>\n",
              "      <td>Not Able To Train Your Data Science Team On Ar...</td>\n",
              "      <td>4 Top Data Science Trainings For Your Team</td>\n",
              "      <td>http://r.newsletters.analyticsvidhya.com/7wkfo...</td>\n",
              "    </tr>\n",
              "    <tr>\n",
              "      <th>38</th>\n",
              "      <td>67</td>\n",
              "      <td>Hackathon</td>\n",
              "      <td>7</td>\n",
              "      <td>3</td>\n",
              "      <td>1</td>\n",
              "      <td>1</td>\n",
              "      <td>Anheuser Busch InBev: Data Engineering Talent ...</td>\n",
              "      <td>[New Hackathon] ABInBev : Data Engineering Tal...</td>\n",
              "      <td>http://r.newsletters.analyticsvidhya.com/7wnby...</td>\n",
              "    </tr>\n",
              "    <tr>\n",
              "      <th>39</th>\n",
              "      <td>68</td>\n",
              "      <td>Hackathon</td>\n",
              "      <td>7</td>\n",
              "      <td>3</td>\n",
              "      <td>1</td>\n",
              "      <td>1</td>\n",
              "      <td>Dear Hacker,\\r\\n\\r\\nAnheuser Busch InBev  The...</td>\n",
              "      <td>[Hiring Hackathon] ABInBev : Data Engineering ...</td>\n",
              "      <td>http://r.newsletters.analyticsvidhya.com/7wo4e...</td>\n",
              "    </tr>\n",
              "    <tr>\n",
              "      <th>40</th>\n",
              "      <td>69</td>\n",
              "      <td>Hackathon</td>\n",
              "      <td>12</td>\n",
              "      <td>8</td>\n",
              "      <td>4</td>\n",
              "      <td>2</td>\n",
              "      <td>Dear Hackers,\\r\\n\\r\\nHere is a great news. We ...</td>\n",
              "      <td>[Open To All] The Young Optimization Crackerja...</td>\n",
              "      <td>http://r.newsletters.analyticsvidhya.com/7wowu...</td>\n",
              "    </tr>\n",
              "    <tr>\n",
              "      <th>41</th>\n",
              "      <td>70</td>\n",
              "      <td>Corporate</td>\n",
              "      <td>16</td>\n",
              "      <td>12</td>\n",
              "      <td>13</td>\n",
              "      <td>1</td>\n",
              "      <td>\\r\\nNot Able To Train Your Data Science Team O...</td>\n",
              "      <td>Give Your Team The Edge In Machine Learning Wi...</td>\n",
              "      <td>http://r.newsletters.analyticsvidhya.com/7wppa...</td>\n",
              "    </tr>\n",
              "    <tr>\n",
              "      <th>42</th>\n",
              "      <td>71</td>\n",
              "      <td>Hackathon</td>\n",
              "      <td>8</td>\n",
              "      <td>4</td>\n",
              "      <td>4</td>\n",
              "      <td>2</td>\n",
              "      <td>Dear Hackers,\\r\\n \\r\\nGreat News for you all !...</td>\n",
              "      <td>[Hiring Hackathon] ABInBev is hiring Data Scie...</td>\n",
              "      <td>http://r.newsletters.analyticsvidhya.com/7wqhq...</td>\n",
              "    </tr>\n",
              "    <tr>\n",
              "      <th>43</th>\n",
              "      <td>72</td>\n",
              "      <td>Corporate</td>\n",
              "      <td>22</td>\n",
              "      <td>15</td>\n",
              "      <td>5</td>\n",
              "      <td>1</td>\n",
              "      <td>\\r\\nAVBytes: Top Stories On Analytics Vidhya T...</td>\n",
              "      <td>Missing out on the latest happenings in AI? Ch...</td>\n",
              "      <td>http://r.newsletters.analyticsvidhya.com/7wra6...</td>\n",
              "    </tr>\n",
              "    <tr>\n",
              "      <th>44</th>\n",
              "      <td>73</td>\n",
              "      <td>Corporate</td>\n",
              "      <td>18</td>\n",
              "      <td>11</td>\n",
              "      <td>5</td>\n",
              "      <td>1</td>\n",
              "      <td>AVBytes: Top Stories On Analytics Vidhya This ...</td>\n",
              "      <td>Missing out on the latest happenings in AI? Ch...</td>\n",
              "      <td>http://r.newsletters.analyticsvidhya.com/7wrjo...</td>\n",
              "    </tr>\n",
              "    <tr>\n",
              "      <th>45</th>\n",
              "      <td>74</td>\n",
              "      <td>Newsletter</td>\n",
              "      <td>140</td>\n",
              "      <td>130</td>\n",
              "      <td>15</td>\n",
              "      <td>4</td>\n",
              "      <td>March 2018 Newsletter\\r\\n \\r\\nDear Avian,\\r\\n\\...</td>\n",
              "      <td>[March Newsletter] AV Android App, DataHack Pr...</td>\n",
              "      <td>http://r.newsletters.analyticsvidhya.com/7ww0u...</td>\n",
              "    </tr>\n",
              "    <tr>\n",
              "      <th>46</th>\n",
              "      <td>75</td>\n",
              "      <td>Upcoming Events</td>\n",
              "      <td>39</td>\n",
              "      <td>35</td>\n",
              "      <td>15</td>\n",
              "      <td>6</td>\n",
              "      <td>[March 2018 - Hackathons, Competitions, Cash p...</td>\n",
              "      <td>[March 2018] It's Back: McKinsey Analytics Onl...</td>\n",
              "      <td>http://r.newsletters.analyticsvidhya.com/7wx2s...</td>\n",
              "    </tr>\n",
              "    <tr>\n",
              "      <th>47</th>\n",
              "      <td>76</td>\n",
              "      <td>Upcoming Events</td>\n",
              "      <td>35</td>\n",
              "      <td>31</td>\n",
              "      <td>15</td>\n",
              "      <td>6</td>\n",
              "      <td>[March 2018 - Hackathons, Competitions, Cash p...</td>\n",
              "      <td>[March 2018] It's Back: McKinsey Analytics Onl...</td>\n",
              "      <td>http://r.newsletters.analyticsvidhya.com/7wxlq...</td>\n",
              "    </tr>\n",
              "    <tr>\n",
              "      <th>48</th>\n",
              "      <td>77</td>\n",
              "      <td>Corporate</td>\n",
              "      <td>24</td>\n",
              "      <td>16</td>\n",
              "      <td>5</td>\n",
              "      <td>1</td>\n",
              "      <td>Hiring Data Scientists &amp; Data Engineers?\\r\\n \\...</td>\n",
              "      <td>Recruiting Data Scientists? Follow These 5 Bes...</td>\n",
              "      <td>http://r.newsletters.analyticsvidhya.com/7wxv8...</td>\n",
              "    </tr>\n",
              "    <tr>\n",
              "      <th>49</th>\n",
              "      <td>78</td>\n",
              "      <td>Hackathon</td>\n",
              "      <td>6</td>\n",
              "      <td>2</td>\n",
              "      <td>1</td>\n",
              "      <td>1</td>\n",
              "      <td>McKinsey Analytics Online Hackathon\\r\\nRecomme...</td>\n",
              "      <td>24 Hours To Go For McKinsey 24-hour Hackathon ...</td>\n",
              "      <td>http://r.newsletters.analyticsvidhya.com/7wz6m...</td>\n",
              "    </tr>\n",
              "    <tr>\n",
              "      <th>50</th>\n",
              "      <td>79</td>\n",
              "      <td>Hackathon</td>\n",
              "      <td>6</td>\n",
              "      <td>2</td>\n",
              "      <td>1</td>\n",
              "      <td>1</td>\n",
              "      <td>McKinsey Analytics Online Hackathon\\r\\nRecomme...</td>\n",
              "      <td>12 Hours To Go For McKinsey 24-hour Hackathon ...</td>\n",
              "      <td>http://r.newsletters.analyticsvidhya.com/7wzpl...</td>\n",
              "    </tr>\n",
              "    <tr>\n",
              "      <th>51</th>\n",
              "      <td>80</td>\n",
              "      <td>Corporate</td>\n",
              "      <td>12</td>\n",
              "      <td>8</td>\n",
              "      <td>5</td>\n",
              "      <td>1</td>\n",
              "      <td>Hiring Data Scientists &amp; Data Engineers?\\r\\n \\...</td>\n",
              "      <td>Do You Follow These 5 Best Practices For Recru...</td>\n",
              "      <td>http://r.newsletters.analyticsvidhya.com/7x08k...</td>\n",
              "    </tr>\n",
              "  </tbody>\n",
              "</table>\n",
              "</div>"
            ],
            "text/plain": [
              "    campaign_id  ...                                          email_url\n",
              "0            29  ...  http://r.newsletters.analyticsvidhya.com/7um44...\n",
              "1            30  ...  http://r.newsletters.analyticsvidhya.com/7up0e...\n",
              "2            31  ...  http://r.newsletters.analyticsvidhya.com/7usym...\n",
              "3            32  ...  http://r.newsletters.analyticsvidhya.com/7uthl...\n",
              "4            33  ...  http://r.newsletters.analyticsvidhya.com/7uvlg...\n",
              "5            34  ...  http://r.newsletters.analyticsvidhya.com/7uwwu...\n",
              "6            35  ...  http://r.newsletters.analyticsvidhya.com/7ux6c...\n",
              "7            36  ...  http://r.newsletters.analyticsvidhya.com/7uxpa...\n",
              "8            37  ...  http://r.newsletters.analyticsvidhya.com/7uyr8...\n",
              "9            38  ...  http://r.newsletters.analyticsvidhya.com/7uz0p...\n",
              "10           39  ...  http://r.newsletters.analyticsvidhya.com/7uza6...\n",
              "11           40  ...  http://r.newsletters.analyticsvidhya.com/7v1x0...\n",
              "12           41  ...  http://r.newsletters.analyticsvidhya.com/7v3hw...\n",
              "13           42  ...  http://r.newsletters.analyticsvidhya.com/7v3rd...\n",
              "14           43  ...  http://r.newsletters.analyticsvidhya.com/7v4ta...\n",
              "15           44  ...  http://r.newsletters.analyticsvidhya.com/7veam...\n",
              "16           45  ...  http://r.newsletters.analyticsvidhya.com/7vgeh...\n",
              "17           46  ...  http://r.newsletters.analyticsvidhya.com/7vj1a...\n",
              "18           47  ...  http://r.newsletters.analyticsvidhya.com/7vkvo...\n",
              "19           48  ...  http://r.newsletters.analyticsvidhya.com/7vlxl...\n",
              "20           49  ...  http://r.newsletters.analyticsvidhya.com/o7ohw...\n",
              "21           50  ...  http://r.newsletters.analyticsvidhya.com/7voke...\n",
              "22           51  ...  http://r.newsletters.analyticsvidhya.com/7vs95...\n",
              "23           52  ...  http://r.newsletters.analyticsvidhya.com/7vtb2...\n",
              "24           53  ...  http://r.newsletters.analyticsvidhya.com/7vv5g...\n",
              "25           54  ...  http://r.newsletters.analyticsvidhya.com/7vzmm...\n",
              "26           55  ...  http://r.newsletters.analyticsvidhya.com/7w2se...\n",
              "27           56  ...  http://r.newsletters.analyticsvidhya.com/7w3uc...\n",
              "28           57  ...  http://r.newsletters.analyticsvidhya.com/7w43t...\n",
              "29           58  ...  http://r.newsletters.analyticsvidhya.com/7w5y6...\n",
              "30           59  ...  http://r.newsletters.analyticsvidhya.com/7w6qm...\n",
              "31           60  ...  http://r.newsletters.analyticsvidhya.com/7w704...\n",
              "32           61  ...  http://r.newsletters.analyticsvidhya.com/7wghg...\n",
              "33           62  ...  http://r.newsletters.analyticsvidhya.com/7wh9w...\n",
              "34           63  ...  http://r.newsletters.analyticsvidhya.com/7whsu...\n",
              "35           64  ...  http://r.newsletters.analyticsvidhya.com/7wjn8...\n",
              "36           65  ...  http://r.newsletters.analyticsvidhya.com/7wjwp...\n",
              "37           66  ...  http://r.newsletters.analyticsvidhya.com/7wkfo...\n",
              "38           67  ...  http://r.newsletters.analyticsvidhya.com/7wnby...\n",
              "39           68  ...  http://r.newsletters.analyticsvidhya.com/7wo4e...\n",
              "40           69  ...  http://r.newsletters.analyticsvidhya.com/7wowu...\n",
              "41           70  ...  http://r.newsletters.analyticsvidhya.com/7wppa...\n",
              "42           71  ...  http://r.newsletters.analyticsvidhya.com/7wqhq...\n",
              "43           72  ...  http://r.newsletters.analyticsvidhya.com/7wra6...\n",
              "44           73  ...  http://r.newsletters.analyticsvidhya.com/7wrjo...\n",
              "45           74  ...  http://r.newsletters.analyticsvidhya.com/7ww0u...\n",
              "46           75  ...  http://r.newsletters.analyticsvidhya.com/7wx2s...\n",
              "47           76  ...  http://r.newsletters.analyticsvidhya.com/7wxlq...\n",
              "48           77  ...  http://r.newsletters.analyticsvidhya.com/7wxv8...\n",
              "49           78  ...  http://r.newsletters.analyticsvidhya.com/7wz6m...\n",
              "50           79  ...  http://r.newsletters.analyticsvidhya.com/7wzpl...\n",
              "51           80  ...  http://r.newsletters.analyticsvidhya.com/7x08k...\n",
              "\n",
              "[52 rows x 9 columns]"
            ]
          },
          "metadata": {
            "tags": []
          },
          "execution_count": 86
        }
      ]
    },
    {
      "cell_type": "markdown",
      "metadata": {
        "id": "sfkQyLNG_Yb8"
      },
      "source": [
        "Merge train with data"
      ]
    },
    {
      "cell_type": "code",
      "metadata": {
        "colab": {
          "base_uri": "https://localhost:8080/",
          "height": 1000
        },
        "id": "54v2DNx3_X_T",
        "outputId": "671c5bab-b462-4816-a1fc-62ac7fa5edd6"
      },
      "source": [
        "train = train.merge(data, on=\"campaign_id\", how='left' )\n",
        "train"
      ],
      "execution_count": 87,
      "outputs": [
        {
          "output_type": "execute_result",
          "data": {
            "text/html": [
              "<div>\n",
              "<style scoped>\n",
              "    .dataframe tbody tr th:only-of-type {\n",
              "        vertical-align: middle;\n",
              "    }\n",
              "\n",
              "    .dataframe tbody tr th {\n",
              "        vertical-align: top;\n",
              "    }\n",
              "\n",
              "    .dataframe thead th {\n",
              "        text-align: right;\n",
              "    }\n",
              "</style>\n",
              "<table border=\"1\" class=\"dataframe\">\n",
              "  <thead>\n",
              "    <tr style=\"text-align: right;\">\n",
              "      <th></th>\n",
              "      <th>id</th>\n",
              "      <th>user_id</th>\n",
              "      <th>campaign_id</th>\n",
              "      <th>send_date</th>\n",
              "      <th>is_open</th>\n",
              "      <th>is_click</th>\n",
              "      <th>communication_type</th>\n",
              "      <th>total_links</th>\n",
              "      <th>no_of_internal_links</th>\n",
              "      <th>no_of_images</th>\n",
              "      <th>no_of_sections</th>\n",
              "      <th>email_body</th>\n",
              "      <th>subject</th>\n",
              "      <th>email_url</th>\n",
              "    </tr>\n",
              "  </thead>\n",
              "  <tbody>\n",
              "    <tr>\n",
              "      <th>0</th>\n",
              "      <td>42_14051</td>\n",
              "      <td>14051</td>\n",
              "      <td>42</td>\n",
              "      <td>01-09-2017 19:55</td>\n",
              "      <td>0</td>\n",
              "      <td>0</td>\n",
              "      <td>Newsletter</td>\n",
              "      <td>88</td>\n",
              "      <td>79</td>\n",
              "      <td>13</td>\n",
              "      <td>4</td>\n",
              "      <td>September Newsletter\\r\\n \\r\\nDear AVians,\\r\\n ...</td>\n",
              "      <td>[September] Exciting days ahead with DataHack ...</td>\n",
              "      <td>http://r.newsletters.analyticsvidhya.com/7v3rd...</td>\n",
              "    </tr>\n",
              "    <tr>\n",
              "      <th>1</th>\n",
              "      <td>52_134438</td>\n",
              "      <td>134438</td>\n",
              "      <td>52</td>\n",
              "      <td>02-11-2017 12:53</td>\n",
              "      <td>0</td>\n",
              "      <td>0</td>\n",
              "      <td>Newsletter</td>\n",
              "      <td>67</td>\n",
              "      <td>62</td>\n",
              "      <td>10</td>\n",
              "      <td>4</td>\n",
              "      <td>November Newsletter\\r\\n \\r\\nDear AVians,\\r\\n \\...</td>\n",
              "      <td>[Newsletter] Stage for DataHack Summit 2017 is...</td>\n",
              "      <td>http://r.newsletters.analyticsvidhya.com/7vtb2...</td>\n",
              "    </tr>\n",
              "    <tr>\n",
              "      <th>2</th>\n",
              "      <td>33_181789</td>\n",
              "      <td>181789</td>\n",
              "      <td>33</td>\n",
              "      <td>24-07-2017 15:15</td>\n",
              "      <td>0</td>\n",
              "      <td>0</td>\n",
              "      <td>Others</td>\n",
              "      <td>7</td>\n",
              "      <td>3</td>\n",
              "      <td>1</td>\n",
              "      <td>1</td>\n",
              "      <td>Fireside Chat with DJ Patil - the master is he...</td>\n",
              "      <td>[Delhi NCR] Fireside Chat with DJ Patil, Forme...</td>\n",
              "      <td>http://r.newsletters.analyticsvidhya.com/7uvlg...</td>\n",
              "    </tr>\n",
              "    <tr>\n",
              "      <th>3</th>\n",
              "      <td>44_231448</td>\n",
              "      <td>231448</td>\n",
              "      <td>44</td>\n",
              "      <td>05-09-2017 11:36</td>\n",
              "      <td>0</td>\n",
              "      <td>0</td>\n",
              "      <td>Upcoming Events</td>\n",
              "      <td>60</td>\n",
              "      <td>56</td>\n",
              "      <td>19</td>\n",
              "      <td>6</td>\n",
              "      <td>[September Events]\\r\\n \\r\\nDear AVians,\\r\\n \\r...</td>\n",
              "      <td>[September] Data Science Hackathons, Meetups a...</td>\n",
              "      <td>http://r.newsletters.analyticsvidhya.com/7veam...</td>\n",
              "    </tr>\n",
              "    <tr>\n",
              "      <th>4</th>\n",
              "      <td>29_185580</td>\n",
              "      <td>185580</td>\n",
              "      <td>29</td>\n",
              "      <td>01-07-2017 18:01</td>\n",
              "      <td>0</td>\n",
              "      <td>0</td>\n",
              "      <td>Newsletter</td>\n",
              "      <td>67</td>\n",
              "      <td>61</td>\n",
              "      <td>12</td>\n",
              "      <td>3</td>\n",
              "      <td>Dear AVians,\\r\\n \\r\\nWe are shaping up a super...</td>\n",
              "      <td>Sneak Peek: A look at the emerging data scienc...</td>\n",
              "      <td>http://r.newsletters.analyticsvidhya.com/7um44...</td>\n",
              "    </tr>\n",
              "    <tr>\n",
              "      <th>...</th>\n",
              "      <td>...</td>\n",
              "      <td>...</td>\n",
              "      <td>...</td>\n",
              "      <td>...</td>\n",
              "      <td>...</td>\n",
              "      <td>...</td>\n",
              "      <td>...</td>\n",
              "      <td>...</td>\n",
              "      <td>...</td>\n",
              "      <td>...</td>\n",
              "      <td>...</td>\n",
              "      <td>...</td>\n",
              "      <td>...</td>\n",
              "      <td>...</td>\n",
              "    </tr>\n",
              "    <tr>\n",
              "      <th>1023186</th>\n",
              "      <td>29_232613</td>\n",
              "      <td>232613</td>\n",
              "      <td>29</td>\n",
              "      <td>01-07-2017 18:04</td>\n",
              "      <td>0</td>\n",
              "      <td>0</td>\n",
              "      <td>Newsletter</td>\n",
              "      <td>67</td>\n",
              "      <td>61</td>\n",
              "      <td>12</td>\n",
              "      <td>3</td>\n",
              "      <td>Dear AVians,\\r\\n \\r\\nWe are shaping up a super...</td>\n",
              "      <td>Sneak Peek: A look at the emerging data scienc...</td>\n",
              "      <td>http://r.newsletters.analyticsvidhya.com/7um44...</td>\n",
              "    </tr>\n",
              "    <tr>\n",
              "      <th>1023187</th>\n",
              "      <td>48_119204</td>\n",
              "      <td>119204</td>\n",
              "      <td>48</td>\n",
              "      <td>02-10-2017 10:23</td>\n",
              "      <td>1</td>\n",
              "      <td>0</td>\n",
              "      <td>Newsletter</td>\n",
              "      <td>203</td>\n",
              "      <td>191</td>\n",
              "      <td>12</td>\n",
              "      <td>4</td>\n",
              "      <td>\\r\\nOctober Newsletter\\r\\n \\r\\nDear AVians,\\r\\...</td>\n",
              "      <td>[October 2017] - Just a month to go! DataHack ...</td>\n",
              "      <td>http://r.newsletters.analyticsvidhya.com/7vlxl...</td>\n",
              "    </tr>\n",
              "    <tr>\n",
              "      <th>1023188</th>\n",
              "      <td>33_235406</td>\n",
              "      <td>235406</td>\n",
              "      <td>33</td>\n",
              "      <td>26-07-2017 09:37</td>\n",
              "      <td>1</td>\n",
              "      <td>1</td>\n",
              "      <td>Others</td>\n",
              "      <td>7</td>\n",
              "      <td>3</td>\n",
              "      <td>1</td>\n",
              "      <td>1</td>\n",
              "      <td>Fireside Chat with DJ Patil - the master is he...</td>\n",
              "      <td>[Delhi NCR] Fireside Chat with DJ Patil, Forme...</td>\n",
              "      <td>http://r.newsletters.analyticsvidhya.com/7uvlg...</td>\n",
              "    </tr>\n",
              "    <tr>\n",
              "      <th>1023189</th>\n",
              "      <td>53_183424</td>\n",
              "      <td>183424</td>\n",
              "      <td>53</td>\n",
              "      <td>06-11-2017 22:53</td>\n",
              "      <td>0</td>\n",
              "      <td>0</td>\n",
              "      <td>Conference</td>\n",
              "      <td>104</td>\n",
              "      <td>100</td>\n",
              "      <td>13</td>\n",
              "      <td>1</td>\n",
              "      <td>3 DAYS | 30 TALKS | 10 HACK SESSIONS | 6 WORKS...</td>\n",
              "      <td>[Register Now] Just 2 days to go for India's b...</td>\n",
              "      <td>http://r.newsletters.analyticsvidhya.com/7vv5g...</td>\n",
              "    </tr>\n",
              "    <tr>\n",
              "      <th>1023190</th>\n",
              "      <td>54_89219</td>\n",
              "      <td>89219</td>\n",
              "      <td>54</td>\n",
              "      <td>01-12-2017 20:20</td>\n",
              "      <td>0</td>\n",
              "      <td>0</td>\n",
              "      <td>Newsletter</td>\n",
              "      <td>63</td>\n",
              "      <td>58</td>\n",
              "      <td>8</td>\n",
              "      <td>4</td>\n",
              "      <td>December Newsletter\\r\\n \\r\\nDear AVians,\\r\\n \\...</td>\n",
              "      <td>[November Updates] - Announcing DataFest 2018,...</td>\n",
              "      <td>http://r.newsletters.analyticsvidhya.com/7vzmm...</td>\n",
              "    </tr>\n",
              "  </tbody>\n",
              "</table>\n",
              "<p>1023191 rows × 14 columns</p>\n",
              "</div>"
            ],
            "text/plain": [
              "                id  ...                                          email_url\n",
              "0         42_14051  ...  http://r.newsletters.analyticsvidhya.com/7v3rd...\n",
              "1        52_134438  ...  http://r.newsletters.analyticsvidhya.com/7vtb2...\n",
              "2        33_181789  ...  http://r.newsletters.analyticsvidhya.com/7uvlg...\n",
              "3        44_231448  ...  http://r.newsletters.analyticsvidhya.com/7veam...\n",
              "4        29_185580  ...  http://r.newsletters.analyticsvidhya.com/7um44...\n",
              "...            ...  ...                                                ...\n",
              "1023186  29_232613  ...  http://r.newsletters.analyticsvidhya.com/7um44...\n",
              "1023187  48_119204  ...  http://r.newsletters.analyticsvidhya.com/7vlxl...\n",
              "1023188  33_235406  ...  http://r.newsletters.analyticsvidhya.com/7uvlg...\n",
              "1023189  53_183424  ...  http://r.newsletters.analyticsvidhya.com/7vv5g...\n",
              "1023190   54_89219  ...  http://r.newsletters.analyticsvidhya.com/7vzmm...\n",
              "\n",
              "[1023191 rows x 14 columns]"
            ]
          },
          "metadata": {
            "tags": []
          },
          "execution_count": 87
        }
      ]
    },
    {
      "cell_type": "code",
      "metadata": {
        "colab": {
          "base_uri": "https://localhost:8080/",
          "height": 1000
        },
        "id": "UMvhUryFBFbg",
        "outputId": "54dbfc63-b07b-4e42-b4b6-c7f4850f1aef"
      },
      "source": [
        "test = test.merge(data, on=\"campaign_id\", how='left' )\n",
        "test"
      ],
      "execution_count": 88,
      "outputs": [
        {
          "output_type": "execute_result",
          "data": {
            "text/html": [
              "<div>\n",
              "<style scoped>\n",
              "    .dataframe tbody tr th:only-of-type {\n",
              "        vertical-align: middle;\n",
              "    }\n",
              "\n",
              "    .dataframe tbody tr th {\n",
              "        vertical-align: top;\n",
              "    }\n",
              "\n",
              "    .dataframe thead th {\n",
              "        text-align: right;\n",
              "    }\n",
              "</style>\n",
              "<table border=\"1\" class=\"dataframe\">\n",
              "  <thead>\n",
              "    <tr style=\"text-align: right;\">\n",
              "      <th></th>\n",
              "      <th>id</th>\n",
              "      <th>campaign_id</th>\n",
              "      <th>user_id</th>\n",
              "      <th>send_date</th>\n",
              "      <th>communication_type</th>\n",
              "      <th>total_links</th>\n",
              "      <th>no_of_internal_links</th>\n",
              "      <th>no_of_images</th>\n",
              "      <th>no_of_sections</th>\n",
              "      <th>email_body</th>\n",
              "      <th>subject</th>\n",
              "      <th>email_url</th>\n",
              "    </tr>\n",
              "  </thead>\n",
              "  <tbody>\n",
              "    <tr>\n",
              "      <th>0</th>\n",
              "      <td>63_122715</td>\n",
              "      <td>63</td>\n",
              "      <td>122715</td>\n",
              "      <td>01-02-2018 22:35</td>\n",
              "      <td>Newsletter</td>\n",
              "      <td>68</td>\n",
              "      <td>64</td>\n",
              "      <td>15</td>\n",
              "      <td>5</td>\n",
              "      <td>\\r\\nFebruary 2018 Newsletter\\r\\n \\r\\nDear AVia...</td>\n",
              "      <td>AVbytes, Ultimate 2018 learning path and aweso...</td>\n",
              "      <td>http://r.newsletters.analyticsvidhya.com/7whsu...</td>\n",
              "    </tr>\n",
              "    <tr>\n",
              "      <th>1</th>\n",
              "      <td>56_76206</td>\n",
              "      <td>56</td>\n",
              "      <td>76206</td>\n",
              "      <td>02-01-2018 08:15</td>\n",
              "      <td>Newsletter</td>\n",
              "      <td>42</td>\n",
              "      <td>38</td>\n",
              "      <td>10</td>\n",
              "      <td>4</td>\n",
              "      <td>\\r\\nJanuary 2018 Newsletter\\r\\n \\r\\nDear AVian...</td>\n",
              "      <td>[January] Year 2018 - Bigger &amp; Exciting challe...</td>\n",
              "      <td>http://r.newsletters.analyticsvidhya.com/7w3uc...</td>\n",
              "    </tr>\n",
              "    <tr>\n",
              "      <th>2</th>\n",
              "      <td>57_96189</td>\n",
              "      <td>57</td>\n",
              "      <td>96189</td>\n",
              "      <td>05-01-2018 18:25</td>\n",
              "      <td>Upcoming Events</td>\n",
              "      <td>40</td>\n",
              "      <td>36</td>\n",
              "      <td>15</td>\n",
              "      <td>4</td>\n",
              "      <td>[January - Hiring Hackathons, LearnUps, Contes...</td>\n",
              "      <td>[January 2018] Upcoming Hiring Hackathons, Lea...</td>\n",
              "      <td>http://r.newsletters.analyticsvidhya.com/7w43t...</td>\n",
              "    </tr>\n",
              "    <tr>\n",
              "      <th>3</th>\n",
              "      <td>56_166917</td>\n",
              "      <td>56</td>\n",
              "      <td>166917</td>\n",
              "      <td>02-01-2018 08:15</td>\n",
              "      <td>Newsletter</td>\n",
              "      <td>42</td>\n",
              "      <td>38</td>\n",
              "      <td>10</td>\n",
              "      <td>4</td>\n",
              "      <td>\\r\\nJanuary 2018 Newsletter\\r\\n \\r\\nDear AVian...</td>\n",
              "      <td>[January] Year 2018 - Bigger &amp; Exciting challe...</td>\n",
              "      <td>http://r.newsletters.analyticsvidhya.com/7w3uc...</td>\n",
              "    </tr>\n",
              "    <tr>\n",
              "      <th>4</th>\n",
              "      <td>56_172838</td>\n",
              "      <td>56</td>\n",
              "      <td>172838</td>\n",
              "      <td>02-01-2018 08:12</td>\n",
              "      <td>Newsletter</td>\n",
              "      <td>42</td>\n",
              "      <td>38</td>\n",
              "      <td>10</td>\n",
              "      <td>4</td>\n",
              "      <td>\\r\\nJanuary 2018 Newsletter\\r\\n \\r\\nDear AVian...</td>\n",
              "      <td>[January] Year 2018 - Bigger &amp; Exciting challe...</td>\n",
              "      <td>http://r.newsletters.analyticsvidhya.com/7w3uc...</td>\n",
              "    </tr>\n",
              "    <tr>\n",
              "      <th>...</th>\n",
              "      <td>...</td>\n",
              "      <td>...</td>\n",
              "      <td>...</td>\n",
              "      <td>...</td>\n",
              "      <td>...</td>\n",
              "      <td>...</td>\n",
              "      <td>...</td>\n",
              "      <td>...</td>\n",
              "      <td>...</td>\n",
              "      <td>...</td>\n",
              "      <td>...</td>\n",
              "      <td>...</td>\n",
              "    </tr>\n",
              "    <tr>\n",
              "      <th>773853</th>\n",
              "      <td>74_202929</td>\n",
              "      <td>74</td>\n",
              "      <td>202929</td>\n",
              "      <td>01-03-2018 21:19</td>\n",
              "      <td>Newsletter</td>\n",
              "      <td>140</td>\n",
              "      <td>130</td>\n",
              "      <td>15</td>\n",
              "      <td>4</td>\n",
              "      <td>March 2018 Newsletter\\r\\n \\r\\nDear Avian,\\r\\n\\...</td>\n",
              "      <td>[March Newsletter] AV Android App, DataHack Pr...</td>\n",
              "      <td>http://r.newsletters.analyticsvidhya.com/7ww0u...</td>\n",
              "    </tr>\n",
              "    <tr>\n",
              "      <th>773854</th>\n",
              "      <td>56_95437</td>\n",
              "      <td>56</td>\n",
              "      <td>95437</td>\n",
              "      <td>02-01-2018 08:10</td>\n",
              "      <td>Newsletter</td>\n",
              "      <td>42</td>\n",
              "      <td>38</td>\n",
              "      <td>10</td>\n",
              "      <td>4</td>\n",
              "      <td>\\r\\nJanuary 2018 Newsletter\\r\\n \\r\\nDear AVian...</td>\n",
              "      <td>[January] Year 2018 - Bigger &amp; Exciting challe...</td>\n",
              "      <td>http://r.newsletters.analyticsvidhya.com/7w3uc...</td>\n",
              "    </tr>\n",
              "    <tr>\n",
              "      <th>773855</th>\n",
              "      <td>63_11063</td>\n",
              "      <td>63</td>\n",
              "      <td>11063</td>\n",
              "      <td>01-02-2018 22:55</td>\n",
              "      <td>Newsletter</td>\n",
              "      <td>68</td>\n",
              "      <td>64</td>\n",
              "      <td>15</td>\n",
              "      <td>5</td>\n",
              "      <td>\\r\\nFebruary 2018 Newsletter\\r\\n \\r\\nDear AVia...</td>\n",
              "      <td>AVbytes, Ultimate 2018 learning path and aweso...</td>\n",
              "      <td>http://r.newsletters.analyticsvidhya.com/7whsu...</td>\n",
              "    </tr>\n",
              "    <tr>\n",
              "      <th>773856</th>\n",
              "      <td>72_144182</td>\n",
              "      <td>72</td>\n",
              "      <td>144182</td>\n",
              "      <td>22-02-2018 16:10</td>\n",
              "      <td>Corporate</td>\n",
              "      <td>22</td>\n",
              "      <td>15</td>\n",
              "      <td>5</td>\n",
              "      <td>1</td>\n",
              "      <td>\\r\\nAVBytes: Top Stories On Analytics Vidhya T...</td>\n",
              "      <td>Missing out on the latest happenings in AI? Ch...</td>\n",
              "      <td>http://r.newsletters.analyticsvidhya.com/7wra6...</td>\n",
              "    </tr>\n",
              "    <tr>\n",
              "      <th>773857</th>\n",
              "      <td>57_226299</td>\n",
              "      <td>57</td>\n",
              "      <td>226299</td>\n",
              "      <td>05-01-2018 18:03</td>\n",
              "      <td>Upcoming Events</td>\n",
              "      <td>40</td>\n",
              "      <td>36</td>\n",
              "      <td>15</td>\n",
              "      <td>4</td>\n",
              "      <td>[January - Hiring Hackathons, LearnUps, Contes...</td>\n",
              "      <td>[January 2018] Upcoming Hiring Hackathons, Lea...</td>\n",
              "      <td>http://r.newsletters.analyticsvidhya.com/7w43t...</td>\n",
              "    </tr>\n",
              "  </tbody>\n",
              "</table>\n",
              "<p>773858 rows × 12 columns</p>\n",
              "</div>"
            ],
            "text/plain": [
              "               id  ...                                          email_url\n",
              "0       63_122715  ...  http://r.newsletters.analyticsvidhya.com/7whsu...\n",
              "1        56_76206  ...  http://r.newsletters.analyticsvidhya.com/7w3uc...\n",
              "2        57_96189  ...  http://r.newsletters.analyticsvidhya.com/7w43t...\n",
              "3       56_166917  ...  http://r.newsletters.analyticsvidhya.com/7w3uc...\n",
              "4       56_172838  ...  http://r.newsletters.analyticsvidhya.com/7w3uc...\n",
              "...           ...  ...                                                ...\n",
              "773853  74_202929  ...  http://r.newsletters.analyticsvidhya.com/7ww0u...\n",
              "773854   56_95437  ...  http://r.newsletters.analyticsvidhya.com/7w3uc...\n",
              "773855   63_11063  ...  http://r.newsletters.analyticsvidhya.com/7whsu...\n",
              "773856  72_144182  ...  http://r.newsletters.analyticsvidhya.com/7wra6...\n",
              "773857  57_226299  ...  http://r.newsletters.analyticsvidhya.com/7w43t...\n",
              "\n",
              "[773858 rows x 12 columns]"
            ]
          },
          "metadata": {
            "tags": []
          },
          "execution_count": 88
        }
      ]
    },
    {
      "cell_type": "markdown",
      "metadata": {
        "id": "EkNh6QK0BU_-"
      },
      "source": [
        "Check for null values"
      ]
    },
    {
      "cell_type": "code",
      "metadata": {
        "colab": {
          "base_uri": "https://localhost:8080/"
        },
        "id": "WieR0IRNBYPj",
        "outputId": "1fe8dd75-ff7a-441f-812e-b01fa6594ba3"
      },
      "source": [
        "train.isnull().sum()"
      ],
      "execution_count": 89,
      "outputs": [
        {
          "output_type": "execute_result",
          "data": {
            "text/plain": [
              "id                      0\n",
              "user_id                 0\n",
              "campaign_id             0\n",
              "send_date               0\n",
              "is_open                 0\n",
              "is_click                0\n",
              "communication_type      0\n",
              "total_links             0\n",
              "no_of_internal_links    0\n",
              "no_of_images            0\n",
              "no_of_sections          0\n",
              "email_body              0\n",
              "subject                 0\n",
              "email_url               0\n",
              "dtype: int64"
            ]
          },
          "metadata": {
            "tags": []
          },
          "execution_count": 89
        }
      ]
    },
    {
      "cell_type": "code",
      "metadata": {
        "colab": {
          "base_uri": "https://localhost:8080/"
        },
        "id": "sv7v15Z8Bcy3",
        "outputId": "ae20ff92-f93a-4874-8f2d-325fa54effc8"
      },
      "source": [
        "test.isnull().sum()"
      ],
      "execution_count": 90,
      "outputs": [
        {
          "output_type": "execute_result",
          "data": {
            "text/plain": [
              "id                      0\n",
              "campaign_id             0\n",
              "user_id                 0\n",
              "send_date               0\n",
              "communication_type      0\n",
              "total_links             0\n",
              "no_of_internal_links    0\n",
              "no_of_images            0\n",
              "no_of_sections          0\n",
              "email_body              0\n",
              "subject                 0\n",
              "email_url               0\n",
              "dtype: int64"
            ]
          },
          "metadata": {
            "tags": []
          },
          "execution_count": 90
        }
      ]
    },
    {
      "cell_type": "code",
      "metadata": {
        "colab": {
          "base_uri": "https://localhost:8080/"
        },
        "id": "PQ0cZZtuBi6V",
        "outputId": "4c81fd72-80e8-4c85-cf90-016aa4f32ba9"
      },
      "source": [
        "train.info()"
      ],
      "execution_count": 91,
      "outputs": [
        {
          "output_type": "stream",
          "text": [
            "<class 'pandas.core.frame.DataFrame'>\n",
            "Int64Index: 1023191 entries, 0 to 1023190\n",
            "Data columns (total 14 columns):\n",
            " #   Column                Non-Null Count    Dtype \n",
            "---  ------                --------------    ----- \n",
            " 0   id                    1023191 non-null  object\n",
            " 1   user_id               1023191 non-null  int64 \n",
            " 2   campaign_id           1023191 non-null  int64 \n",
            " 3   send_date             1023191 non-null  object\n",
            " 4   is_open               1023191 non-null  int64 \n",
            " 5   is_click              1023191 non-null  int64 \n",
            " 6   communication_type    1023191 non-null  object\n",
            " 7   total_links           1023191 non-null  int64 \n",
            " 8   no_of_internal_links  1023191 non-null  int64 \n",
            " 9   no_of_images          1023191 non-null  int64 \n",
            " 10  no_of_sections        1023191 non-null  int64 \n",
            " 11  email_body            1023191 non-null  object\n",
            " 12  subject               1023191 non-null  object\n",
            " 13  email_url             1023191 non-null  object\n",
            "dtypes: int64(8), object(6)\n",
            "memory usage: 117.1+ MB\n"
          ],
          "name": "stdout"
        }
      ]
    },
    {
      "cell_type": "markdown",
      "metadata": {
        "id": "VKzP4GcmEz7g"
      },
      "source": [
        "Grapgical representation of data"
      ]
    },
    {
      "cell_type": "code",
      "metadata": {
        "colab": {
          "base_uri": "https://localhost:8080/"
        },
        "id": "TOzW1X70E5CQ",
        "outputId": "81830ad8-c5a2-41f5-c884-7808a6813ebe"
      },
      "source": [
        "open = train.groupby('is_open')['is_open'].count()\n",
        "open/len(train)*100"
      ],
      "execution_count": 92,
      "outputs": [
        {
          "output_type": "execute_result",
          "data": {
            "text/plain": [
              "is_open\n",
              "0    89.953977\n",
              "1    10.046023\n",
              "Name: is_open, dtype: float64"
            ]
          },
          "metadata": {
            "tags": []
          },
          "execution_count": 92
        }
      ]
    },
    {
      "cell_type": "code",
      "metadata": {
        "colab": {
          "base_uri": "https://localhost:8080/",
          "height": 276
        },
        "id": "vGD1JKPmFukS",
        "outputId": "931cec10-bb5b-49fe-cc6f-2839c5fa2788"
      },
      "source": [
        "train.groupby('is_open').is_open.count().plot.bar(ylim=0)\n",
        "plt.show()"
      ],
      "execution_count": 93,
      "outputs": [
        {
          "output_type": "display_data",
          "data": {
            "image/png": "[encoded data removed]",
            "text/plain": [
              "<Figure size 432x288 with 1 Axes>"
            ]
          },
          "metadata": {
            "tags": [],
            "needs_background": "light"
          }
        }
      ]
    },
    {
      "cell_type": "code",
      "metadata": {
        "colab": {
          "base_uri": "https://localhost:8080/"
        },
        "id": "AMCkH72hF_TV",
        "outputId": "6f52fd89-a9a3-43fa-8969-3a00cb1c8443"
      },
      "source": [
        "click = train.groupby('is_click')['is_click'].count()\n",
        "click/len(train)*100"
      ],
      "execution_count": 94,
      "outputs": [
        {
          "output_type": "execute_result",
          "data": {
            "text/plain": [
              "is_click\n",
              "0    98.750771\n",
              "1     1.249229\n",
              "Name: is_click, dtype: float64"
            ]
          },
          "metadata": {
            "tags": []
          },
          "execution_count": 94
        }
      ]
    },
    {
      "cell_type": "code",
      "metadata": {
        "colab": {
          "base_uri": "https://localhost:8080/",
          "height": 287
        },
        "id": "OifWJQC9Gjsj",
        "outputId": "9609a1aa-5d9d-4602-f092-02603ee480b6"
      },
      "source": [
        "train.groupby('is_click').is_click.count().plot.bar(ylim=0)\n",
        "plt.show()"
      ],
      "execution_count": 95,
      "outputs": [
        {
          "output_type": "display_data",
          "data": {
            "image/png": "[encoded data removed]",
            "text/plain": [
              "<Figure size 432x288 with 1 Axes>"
            ]
          },
          "metadata": {
            "tags": [],
            "needs_background": "light"
          }
        }
      ]
    },
    {
      "cell_type": "code",
      "metadata": {
        "colab": {
          "base_uri": "https://localhost:8080/"
        },
        "id": "tlDXnJv8G6MI",
        "outputId": "fce97561-6692-4754-9c53-bdaa3164ec3f"
      },
      "source": [
        "link = train.groupby('total_links')['total_links'].sum()\n",
        "link/len(train)*100"
      ],
      "execution_count": 96,
      "outputs": [
        {
          "output_type": "execute_result",
          "data": {
            "text/plain": [
              "total_links\n",
              "7        42.394431\n",
              "8        14.161188\n",
              "9        13.340911\n",
              "10        4.712708\n",
              "11        0.072030\n",
              "13       93.276329\n",
              "14        3.811996\n",
              "15        4.679478\n",
              "18      122.714918\n",
              "24      163.310271\n",
              "28       19.790635\n",
              "60      231.616580\n",
              "63      578.426609\n",
              "67      990.661861\n",
              "75      535.911672\n",
              "88      698.820064\n",
              "104     868.344620\n",
              "109     423.028545\n",
              "119     946.216493\n",
              "203    1020.881536\n",
              "Name: total_links, dtype: float64"
            ]
          },
          "metadata": {
            "tags": []
          },
          "execution_count": 96
        }
      ]
    },
    {
      "cell_type": "code",
      "metadata": {
        "colab": {
          "base_uri": "https://localhost:8080/",
          "height": 300
        },
        "id": "9DbBMas1HI6o",
        "outputId": "ab43e621-c899-4c44-ba15-c3c5919b86bf"
      },
      "source": [
        "train.groupby('total_links').total_links.sum().plot.bar(ylim=0)\n",
        "plt.show()"
      ],
      "execution_count": 97,
      "outputs": [
        {
          "output_type": "display_data",
          "data": {
            "image/png": "[encoded data removed]",
            "text/plain": [
              "<Figure size 432x288 with 1 Axes>"
            ]
          },
          "metadata": {
            "tags": [],
            "needs_background": "light"
          }
        }
      ]
    },
    {
      "cell_type": "code",
      "metadata": {
        "colab": {
          "base_uri": "https://localhost:8080/"
        },
        "id": "SHB4iCgGHkbG",
        "outputId": "6fbbfc5a-13ae-4aeb-adb0-534fb7c6d531"
      },
      "source": [
        "link1 = train.groupby('no_of_internal_links')['no_of_internal_links'].sum()\n",
        "link1/len(train)*100"
      ],
      "execution_count": 98,
      "outputs": [
        {
          "output_type": "execute_result",
          "data": {
            "text/plain": [
              "no_of_internal_links\n",
              "2        0.805519\n",
              "3       18.169042\n",
              "4        8.443780\n",
              "7        5.217208\n",
              "8        3.770166\n",
              "10       2.722854\n",
              "11      78.926124\n",
              "13       4.055548\n",
              "14      95.444936\n",
              "19     129.287298\n",
              "26      18.377019\n",
              "56     216.175475\n",
              "58     532.519735\n",
              "61     412.129211\n",
              "62     497.846443\n",
              "64     457.311294\n",
              "79     627.349830\n",
              "100    834.946750\n",
              "105    407.504562\n",
              "117    930.313695\n",
              "191    960.533859\n",
              "Name: no_of_internal_links, dtype: float64"
            ]
          },
          "metadata": {
            "tags": []
          },
          "execution_count": 98
        }
      ]
    },
    {
      "cell_type": "code",
      "metadata": {
        "colab": {
          "base_uri": "https://localhost:8080/",
          "height": 300
        },
        "id": "dW0e3ZdPHqTT",
        "outputId": "5894b9fc-5e85-43ee-bed8-0f6c16068ac0"
      },
      "source": [
        "train.groupby('no_of_internal_links').no_of_internal_links.sum().plot.bar(ylim=0)\n",
        "plt.show()"
      ],
      "execution_count": 99,
      "outputs": [
        {
          "output_type": "display_data",
          "data": {
            "image/png": "[encoded data removed]",
            "text/plain": [
              "<Figure size 432x288 with 1 Axes>"
            ]
          },
          "metadata": {
            "tags": [],
            "needs_background": "light"
          }
        }
      ]
    },
    {
      "cell_type": "code",
      "metadata": {
        "colab": {
          "base_uri": "https://localhost:8080/"
        },
        "id": "FcsEEDRSIO3C",
        "outputId": "0511530a-26c9-420f-f03b-9e42d187678c"
      },
      "source": [
        "image = train.groupby('no_of_images')['no_of_images'].sum()\n",
        "image/len(train)*100"
      ],
      "execution_count": 100,
      "outputs": [
        {
          "output_type": "execute_result",
          "data": {
            "text/plain": [
              "no_of_images\n",
              "1       4.978152\n",
              "2      23.021117\n",
              "3       2.235946\n",
              "5       1.559826\n",
              "7      95.354631\n",
              "8      73.450998\n",
              "10     80.297813\n",
              "12    235.649844\n",
              "13    211.777860\n",
              "16    127.222386\n",
              "17     65.976929\n",
              "19     73.345250\n",
              "Name: no_of_images, dtype: float64"
            ]
          },
          "metadata": {
            "tags": []
          },
          "execution_count": 100
        }
      ]
    },
    {
      "cell_type": "code",
      "metadata": {
        "colab": {
          "base_uri": "https://localhost:8080/",
          "height": 294
        },
        "id": "Jgj73CSdIfPt",
        "outputId": "080f8f7b-6d53-4c17-c880-fafcad3d85d7"
      },
      "source": [
        "train.groupby('no_of_images').no_of_images.sum().plot.bar(ylim=0)\n",
        "plt.show()"
      ],
      "execution_count": 101,
      "outputs": [
        {
          "output_type": "display_data",
          "data": {
            "image/png": "[encoded data removed]",
            "text/plain": [
              "<Figure size 432x288 with 1 Axes>"
            ]
          },
          "metadata": {
            "tags": [],
            "needs_background": "light"
          }
        }
      ]
    },
    {
      "cell_type": "code",
      "metadata": {
        "colab": {
          "base_uri": "https://localhost:8080/"
        },
        "id": "WQd46VUTIusS",
        "outputId": "45e87cce-eb6f-48ae-f014-02bf1afd5f71"
      },
      "source": [
        "section = train.groupby('no_of_sections')['no_of_sections'].sum()\n",
        "section/len(train)*100"
      ],
      "execution_count": 102,
      "outputs": [
        {
          "output_type": "execute_result",
          "data": {
            "text/plain": [
              "no_of_sections\n",
              "1     47.468948\n",
              "3     22.389075\n",
              "4    149.307021\n",
              "6     46.447633\n",
              "Name: no_of_sections, dtype: float64"
            ]
          },
          "metadata": {
            "tags": []
          },
          "execution_count": 102
        }
      ]
    },
    {
      "cell_type": "code",
      "metadata": {
        "colab": {
          "base_uri": "https://localhost:8080/",
          "height": 287
        },
        "id": "BsPgaJ8oJAoo",
        "outputId": "73f6760d-16ba-4ff3-a1ed-e37fe8f66ba0"
      },
      "source": [
        "train.groupby('no_of_sections').no_of_sections.sum().plot.bar(ylim=0)\n",
        "plt.show()"
      ],
      "execution_count": 103,
      "outputs": [
        {
          "output_type": "display_data",
          "data": {
            "image/png": "[encoded data removed]",
            "text/plain": [
              "<Figure size 432x288 with 1 Axes>"
            ]
          },
          "metadata": {
            "tags": [],
            "needs_background": "light"
          }
        }
      ]
    },
    {
      "cell_type": "markdown",
      "metadata": {
        "id": "ZUw_1QSAJKKY"
      },
      "source": [
        "Convert date to columns"
      ]
    },
    {
      "cell_type": "code",
      "metadata": {
        "colab": {
          "base_uri": "https://localhost:8080/",
          "height": 261
        },
        "id": "Jh64fBU1JPwk",
        "outputId": "929f94e0-c1c0-4562-ad64-757efd42ce10"
      },
      "source": [
        "train.head(2)"
      ],
      "execution_count": 104,
      "outputs": [
        {
          "output_type": "execute_result",
          "data": {
            "text/html": [
              "<div>\n",
              "<style scoped>\n",
              "    .dataframe tbody tr th:only-of-type {\n",
              "        vertical-align: middle;\n",
              "    }\n",
              "\n",
              "    .dataframe tbody tr th {\n",
              "        vertical-align: top;\n",
              "    }\n",
              "\n",
              "    .dataframe thead th {\n",
              "        text-align: right;\n",
              "    }\n",
              "</style>\n",
              "<table border=\"1\" class=\"dataframe\">\n",
              "  <thead>\n",
              "    <tr style=\"text-align: right;\">\n",
              "      <th></th>\n",
              "      <th>id</th>\n",
              "      <th>user_id</th>\n",
              "      <th>campaign_id</th>\n",
              "      <th>send_date</th>\n",
              "      <th>is_open</th>\n",
              "      <th>is_click</th>\n",
              "      <th>communication_type</th>\n",
              "      <th>total_links</th>\n",
              "      <th>no_of_internal_links</th>\n",
              "      <th>no_of_images</th>\n",
              "      <th>no_of_sections</th>\n",
              "      <th>email_body</th>\n",
              "      <th>subject</th>\n",
              "      <th>email_url</th>\n",
              "    </tr>\n",
              "  </thead>\n",
              "  <tbody>\n",
              "    <tr>\n",
              "      <th>0</th>\n",
              "      <td>42_14051</td>\n",
              "      <td>14051</td>\n",
              "      <td>42</td>\n",
              "      <td>01-09-2017 19:55</td>\n",
              "      <td>0</td>\n",
              "      <td>0</td>\n",
              "      <td>Newsletter</td>\n",
              "      <td>88</td>\n",
              "      <td>79</td>\n",
              "      <td>13</td>\n",
              "      <td>4</td>\n",
              "      <td>September Newsletter\\r\\n \\r\\nDear AVians,\\r\\n ...</td>\n",
              "      <td>[September] Exciting days ahead with DataHack ...</td>\n",
              "      <td>http://r.newsletters.analyticsvidhya.com/7v3rd...</td>\n",
              "    </tr>\n",
              "    <tr>\n",
              "      <th>1</th>\n",
              "      <td>52_134438</td>\n",
              "      <td>134438</td>\n",
              "      <td>52</td>\n",
              "      <td>02-11-2017 12:53</td>\n",
              "      <td>0</td>\n",
              "      <td>0</td>\n",
              "      <td>Newsletter</td>\n",
              "      <td>67</td>\n",
              "      <td>62</td>\n",
              "      <td>10</td>\n",
              "      <td>4</td>\n",
              "      <td>November Newsletter\\r\\n \\r\\nDear AVians,\\r\\n \\...</td>\n",
              "      <td>[Newsletter] Stage for DataHack Summit 2017 is...</td>\n",
              "      <td>http://r.newsletters.analyticsvidhya.com/7vtb2...</td>\n",
              "    </tr>\n",
              "  </tbody>\n",
              "</table>\n",
              "</div>"
            ],
            "text/plain": [
              "          id  ...                                          email_url\n",
              "0   42_14051  ...  http://r.newsletters.analyticsvidhya.com/7v3rd...\n",
              "1  52_134438  ...  http://r.newsletters.analyticsvidhya.com/7vtb2...\n",
              "\n",
              "[2 rows x 14 columns]"
            ]
          },
          "metadata": {
            "tags": []
          },
          "execution_count": 104
        }
      ]
    },
    {
      "cell_type": "code",
      "metadata": {
        "colab": {
          "base_uri": "https://localhost:8080/",
          "height": 357
        },
        "id": "_jTrTXrwJvAu",
        "outputId": "f664de06-ee1c-4867-afbb-e3d63c341752"
      },
      "source": [
        "train['day'] = train['send_date'].str[:2]\n",
        "test['day'] = test['send_date'].str[:2]\n",
        "\n",
        "train.day = train.day.astype(int)\n",
        "test.day = test.day.astype(int)\n",
        "\n",
        "train['month'] = train['send_date'].str[3:5]\n",
        "test['month'] = test['send_date'].str[3:5]\n",
        "\n",
        "train.month = train.month.astype(int)\n",
        "test.month = test.month.astype(int)\n",
        "\n",
        "#train['year'] = train['send_date'].str[6:11]\n",
        "#test['year'] = test['send_date'].str[6:11]\n",
        "\n",
        "#train.year = train.year.astype(int)\n",
        "#test.year = test.year.astype(int)\n",
        "\n",
        "train['hour'] = train['send_date'].str[11:13]\n",
        "test['hour'] = test['send_date'].str[11:13]\n",
        "\n",
        "train.hour = train.hour.astype(int)\n",
        "test.hour = test.hour.astype(int)\n",
        "\n",
        "train['minute'] = train['send_date'].str[14:16]\n",
        "test['minute'] = test['send_date'].str[14:16]\n",
        "\n",
        "train.minute = train.minute.astype(int)\n",
        "test.minute = test.minute.astype(int)\n",
        "\n",
        "#train['second'] = train['send_date'].str[17:19]\n",
        "#test['second'] = test['send_date'].str[17:19]\n",
        "\n",
        "#train.second = train.second.astype(int)\n",
        "#test.second = test.second.astype(int)\n",
        "\n",
        "train.head(3)"
      ],
      "execution_count": 105,
      "outputs": [
        {
          "output_type": "execute_result",
          "data": {
            "text/html": [
              "<div>\n",
              "<style scoped>\n",
              "    .dataframe tbody tr th:only-of-type {\n",
              "        vertical-align: middle;\n",
              "    }\n",
              "\n",
              "    .dataframe tbody tr th {\n",
              "        vertical-align: top;\n",
              "    }\n",
              "\n",
              "    .dataframe thead th {\n",
              "        text-align: right;\n",
              "    }\n",
              "</style>\n",
              "<table border=\"1\" class=\"dataframe\">\n",
              "  <thead>\n",
              "    <tr style=\"text-align: right;\">\n",
              "      <th></th>\n",
              "      <th>id</th>\n",
              "      <th>user_id</th>\n",
              "      <th>campaign_id</th>\n",
              "      <th>send_date</th>\n",
              "      <th>is_open</th>\n",
              "      <th>is_click</th>\n",
              "      <th>communication_type</th>\n",
              "      <th>total_links</th>\n",
              "      <th>no_of_internal_links</th>\n",
              "      <th>no_of_images</th>\n",
              "      <th>no_of_sections</th>\n",
              "      <th>email_body</th>\n",
              "      <th>subject</th>\n",
              "      <th>email_url</th>\n",
              "      <th>day</th>\n",
              "      <th>month</th>\n",
              "      <th>hour</th>\n",
              "      <th>minute</th>\n",
              "    </tr>\n",
              "  </thead>\n",
              "  <tbody>\n",
              "    <tr>\n",
              "      <th>0</th>\n",
              "      <td>42_14051</td>\n",
              "      <td>14051</td>\n",
              "      <td>42</td>\n",
              "      <td>01-09-2017 19:55</td>\n",
              "      <td>0</td>\n",
              "      <td>0</td>\n",
              "      <td>Newsletter</td>\n",
              "      <td>88</td>\n",
              "      <td>79</td>\n",
              "      <td>13</td>\n",
              "      <td>4</td>\n",
              "      <td>September Newsletter\\r\\n \\r\\nDear AVians,\\r\\n ...</td>\n",
              "      <td>[September] Exciting days ahead with DataHack ...</td>\n",
              "      <td>http://r.newsletters.analyticsvidhya.com/7v3rd...</td>\n",
              "      <td>1</td>\n",
              "      <td>9</td>\n",
              "      <td>19</td>\n",
              "      <td>55</td>\n",
              "    </tr>\n",
              "    <tr>\n",
              "      <th>1</th>\n",
              "      <td>52_134438</td>\n",
              "      <td>134438</td>\n",
              "      <td>52</td>\n",
              "      <td>02-11-2017 12:53</td>\n",
              "      <td>0</td>\n",
              "      <td>0</td>\n",
              "      <td>Newsletter</td>\n",
              "      <td>67</td>\n",
              "      <td>62</td>\n",
              "      <td>10</td>\n",
              "      <td>4</td>\n",
              "      <td>November Newsletter\\r\\n \\r\\nDear AVians,\\r\\n \\...</td>\n",
              "      <td>[Newsletter] Stage for DataHack Summit 2017 is...</td>\n",
              "      <td>http://r.newsletters.analyticsvidhya.com/7vtb2...</td>\n",
              "      <td>2</td>\n",
              "      <td>11</td>\n",
              "      <td>12</td>\n",
              "      <td>53</td>\n",
              "    </tr>\n",
              "    <tr>\n",
              "      <th>2</th>\n",
              "      <td>33_181789</td>\n",
              "      <td>181789</td>\n",
              "      <td>33</td>\n",
              "      <td>24-07-2017 15:15</td>\n",
              "      <td>0</td>\n",
              "      <td>0</td>\n",
              "      <td>Others</td>\n",
              "      <td>7</td>\n",
              "      <td>3</td>\n",
              "      <td>1</td>\n",
              "      <td>1</td>\n",
              "      <td>Fireside Chat with DJ Patil - the master is he...</td>\n",
              "      <td>[Delhi NCR] Fireside Chat with DJ Patil, Forme...</td>\n",
              "      <td>http://r.newsletters.analyticsvidhya.com/7uvlg...</td>\n",
              "      <td>24</td>\n",
              "      <td>7</td>\n",
              "      <td>15</td>\n",
              "      <td>15</td>\n",
              "    </tr>\n",
              "  </tbody>\n",
              "</table>\n",
              "</div>"
            ],
            "text/plain": [
              "          id  user_id  campaign_id         send_date  ...  day  month hour  minute\n",
              "0   42_14051    14051           42  01-09-2017 19:55  ...    1      9   19      55\n",
              "1  52_134438   134438           52  02-11-2017 12:53  ...    2     11   12      53\n",
              "2  33_181789   181789           33  24-07-2017 15:15  ...   24      7   15      15\n",
              "\n",
              "[3 rows x 18 columns]"
            ]
          },
          "metadata": {
            "tags": []
          },
          "execution_count": 105
        }
      ]
    },
    {
      "cell_type": "markdown",
      "metadata": {
        "id": "Cs-EDxi6O5h_"
      },
      "source": [
        "Define X1, y1, and X1_test variables"
      ]
    },
    {
      "cell_type": "code",
      "metadata": {
        "id": "GCu0lgw3PCB2"
      },
      "source": [
        "id = test.id\n",
        "\n",
        "open_train = train.is_open\n",
        "\n",
        "click_train = train.is_click\n",
        "\n",
        "features1 = ['communication_type','total_links','no_of_internal_links', 'no_of_images', 'no_of_sections', 'subject', 'day', 'month', 'hour', 'minute' ]\n",
        "\n",
        "y1 = train.is_open\n",
        "X1 = train[features1]\n",
        "X1_test = test[features1]"
      ],
      "execution_count": 106,
      "outputs": []
    },
    {
      "cell_type": "code",
      "metadata": {
        "colab": {
          "base_uri": "https://localhost:8080/"
        },
        "id": "XJo7PXHxRtod",
        "outputId": "f8d0317c-cb3c-4483-e279-ed9e23dde1e9"
      },
      "source": [
        "y1"
      ],
      "execution_count": 107,
      "outputs": [
        {
          "output_type": "execute_result",
          "data": {
            "text/plain": [
              "0          0\n",
              "1          0\n",
              "2          0\n",
              "3          0\n",
              "4          0\n",
              "          ..\n",
              "1023186    0\n",
              "1023187    1\n",
              "1023188    1\n",
              "1023189    0\n",
              "1023190    0\n",
              "Name: is_open, Length: 1023191, dtype: int64"
            ]
          },
          "metadata": {
            "tags": []
          },
          "execution_count": 107
        }
      ]
    },
    {
      "cell_type": "code",
      "metadata": {
        "colab": {
          "base_uri": "https://localhost:8080/",
          "height": 406
        },
        "id": "iZuPM7KeRvwQ",
        "outputId": "b210e523-0708-4e17-a64c-29661b0a693c"
      },
      "source": [
        "X1_test"
      ],
      "execution_count": 108,
      "outputs": [
        {
          "output_type": "execute_result",
          "data": {
            "text/html": [
              "<div>\n",
              "<style scoped>\n",
              "    .dataframe tbody tr th:only-of-type {\n",
              "        vertical-align: middle;\n",
              "    }\n",
              "\n",
              "    .dataframe tbody tr th {\n",
              "        vertical-align: top;\n",
              "    }\n",
              "\n",
              "    .dataframe thead th {\n",
              "        text-align: right;\n",
              "    }\n",
              "</style>\n",
              "<table border=\"1\" class=\"dataframe\">\n",
              "  <thead>\n",
              "    <tr style=\"text-align: right;\">\n",
              "      <th></th>\n",
              "      <th>communication_type</th>\n",
              "      <th>total_links</th>\n",
              "      <th>no_of_internal_links</th>\n",
              "      <th>no_of_images</th>\n",
              "      <th>no_of_sections</th>\n",
              "      <th>subject</th>\n",
              "      <th>day</th>\n",
              "      <th>month</th>\n",
              "      <th>hour</th>\n",
              "      <th>minute</th>\n",
              "    </tr>\n",
              "  </thead>\n",
              "  <tbody>\n",
              "    <tr>\n",
              "      <th>0</th>\n",
              "      <td>Newsletter</td>\n",
              "      <td>68</td>\n",
              "      <td>64</td>\n",
              "      <td>15</td>\n",
              "      <td>5</td>\n",
              "      <td>AVbytes, Ultimate 2018 learning path and aweso...</td>\n",
              "      <td>1</td>\n",
              "      <td>2</td>\n",
              "      <td>22</td>\n",
              "      <td>35</td>\n",
              "    </tr>\n",
              "    <tr>\n",
              "      <th>1</th>\n",
              "      <td>Newsletter</td>\n",
              "      <td>42</td>\n",
              "      <td>38</td>\n",
              "      <td>10</td>\n",
              "      <td>4</td>\n",
              "      <td>[January] Year 2018 - Bigger &amp; Exciting challe...</td>\n",
              "      <td>2</td>\n",
              "      <td>1</td>\n",
              "      <td>8</td>\n",
              "      <td>15</td>\n",
              "    </tr>\n",
              "    <tr>\n",
              "      <th>2</th>\n",
              "      <td>Upcoming Events</td>\n",
              "      <td>40</td>\n",
              "      <td>36</td>\n",
              "      <td>15</td>\n",
              "      <td>4</td>\n",
              "      <td>[January 2018] Upcoming Hiring Hackathons, Lea...</td>\n",
              "      <td>5</td>\n",
              "      <td>1</td>\n",
              "      <td>18</td>\n",
              "      <td>25</td>\n",
              "    </tr>\n",
              "    <tr>\n",
              "      <th>3</th>\n",
              "      <td>Newsletter</td>\n",
              "      <td>42</td>\n",
              "      <td>38</td>\n",
              "      <td>10</td>\n",
              "      <td>4</td>\n",
              "      <td>[January] Year 2018 - Bigger &amp; Exciting challe...</td>\n",
              "      <td>2</td>\n",
              "      <td>1</td>\n",
              "      <td>8</td>\n",
              "      <td>15</td>\n",
              "    </tr>\n",
              "    <tr>\n",
              "      <th>4</th>\n",
              "      <td>Newsletter</td>\n",
              "      <td>42</td>\n",
              "      <td>38</td>\n",
              "      <td>10</td>\n",
              "      <td>4</td>\n",
              "      <td>[January] Year 2018 - Bigger &amp; Exciting challe...</td>\n",
              "      <td>2</td>\n",
              "      <td>1</td>\n",
              "      <td>8</td>\n",
              "      <td>12</td>\n",
              "    </tr>\n",
              "    <tr>\n",
              "      <th>...</th>\n",
              "      <td>...</td>\n",
              "      <td>...</td>\n",
              "      <td>...</td>\n",
              "      <td>...</td>\n",
              "      <td>...</td>\n",
              "      <td>...</td>\n",
              "      <td>...</td>\n",
              "      <td>...</td>\n",
              "      <td>...</td>\n",
              "      <td>...</td>\n",
              "    </tr>\n",
              "    <tr>\n",
              "      <th>773853</th>\n",
              "      <td>Newsletter</td>\n",
              "      <td>140</td>\n",
              "      <td>130</td>\n",
              "      <td>15</td>\n",
              "      <td>4</td>\n",
              "      <td>[March Newsletter] AV Android App, DataHack Pr...</td>\n",
              "      <td>1</td>\n",
              "      <td>3</td>\n",
              "      <td>21</td>\n",
              "      <td>19</td>\n",
              "    </tr>\n",
              "    <tr>\n",
              "      <th>773854</th>\n",
              "      <td>Newsletter</td>\n",
              "      <td>42</td>\n",
              "      <td>38</td>\n",
              "      <td>10</td>\n",
              "      <td>4</td>\n",
              "      <td>[January] Year 2018 - Bigger &amp; Exciting challe...</td>\n",
              "      <td>2</td>\n",
              "      <td>1</td>\n",
              "      <td>8</td>\n",
              "      <td>10</td>\n",
              "    </tr>\n",
              "    <tr>\n",
              "      <th>773855</th>\n",
              "      <td>Newsletter</td>\n",
              "      <td>68</td>\n",
              "      <td>64</td>\n",
              "      <td>15</td>\n",
              "      <td>5</td>\n",
              "      <td>AVbytes, Ultimate 2018 learning path and aweso...</td>\n",
              "      <td>1</td>\n",
              "      <td>2</td>\n",
              "      <td>22</td>\n",
              "      <td>55</td>\n",
              "    </tr>\n",
              "    <tr>\n",
              "      <th>773856</th>\n",
              "      <td>Corporate</td>\n",
              "      <td>22</td>\n",
              "      <td>15</td>\n",
              "      <td>5</td>\n",
              "      <td>1</td>\n",
              "      <td>Missing out on the latest happenings in AI? Ch...</td>\n",
              "      <td>22</td>\n",
              "      <td>2</td>\n",
              "      <td>16</td>\n",
              "      <td>10</td>\n",
              "    </tr>\n",
              "    <tr>\n",
              "      <th>773857</th>\n",
              "      <td>Upcoming Events</td>\n",
              "      <td>40</td>\n",
              "      <td>36</td>\n",
              "      <td>15</td>\n",
              "      <td>4</td>\n",
              "      <td>[January 2018] Upcoming Hiring Hackathons, Lea...</td>\n",
              "      <td>5</td>\n",
              "      <td>1</td>\n",
              "      <td>18</td>\n",
              "      <td>3</td>\n",
              "    </tr>\n",
              "  </tbody>\n",
              "</table>\n",
              "<p>773858 rows × 10 columns</p>\n",
              "</div>"
            ],
            "text/plain": [
              "       communication_type  total_links  ...  hour  minute\n",
              "0              Newsletter           68  ...    22      35\n",
              "1              Newsletter           42  ...     8      15\n",
              "2         Upcoming Events           40  ...    18      25\n",
              "3              Newsletter           42  ...     8      15\n",
              "4              Newsletter           42  ...     8      12\n",
              "...                   ...          ...  ...   ...     ...\n",
              "773853         Newsletter          140  ...    21      19\n",
              "773854         Newsletter           42  ...     8      10\n",
              "773855         Newsletter           68  ...    22      55\n",
              "773856          Corporate           22  ...    16      10\n",
              "773857    Upcoming Events           40  ...    18       3\n",
              "\n",
              "[773858 rows x 10 columns]"
            ]
          },
          "metadata": {
            "tags": []
          },
          "execution_count": 108
        }
      ]
    },
    {
      "cell_type": "markdown",
      "metadata": {
        "id": "7o6AkNAjUK_e"
      },
      "source": [
        "Create column transformer"
      ]
    },
    {
      "cell_type": "code",
      "metadata": {
        "colab": {
          "base_uri": "https://localhost:8080/"
        },
        "id": "U5uLH5HdUXsD",
        "outputId": "d85b1c38-5fae-44e3-8be5-131ad268d977"
      },
      "source": [
        "X1.info()"
      ],
      "execution_count": 109,
      "outputs": [
        {
          "output_type": "stream",
          "text": [
            "<class 'pandas.core.frame.DataFrame'>\n",
            "Int64Index: 1023191 entries, 0 to 1023190\n",
            "Data columns (total 10 columns):\n",
            " #   Column                Non-Null Count    Dtype \n",
            "---  ------                --------------    ----- \n",
            " 0   communication_type    1023191 non-null  object\n",
            " 1   total_links           1023191 non-null  int64 \n",
            " 2   no_of_internal_links  1023191 non-null  int64 \n",
            " 3   no_of_images          1023191 non-null  int64 \n",
            " 4   no_of_sections        1023191 non-null  int64 \n",
            " 5   subject               1023191 non-null  object\n",
            " 6   day                   1023191 non-null  int64 \n",
            " 7   month                 1023191 non-null  int64 \n",
            " 8   hour                  1023191 non-null  int64 \n",
            " 9   minute                1023191 non-null  int64 \n",
            "dtypes: int64(8), object(2)\n",
            "memory usage: 85.9+ MB\n"
          ],
          "name": "stdout"
        }
      ]
    },
    {
      "cell_type": "code",
      "metadata": {
        "id": "hnSMEdmqUOjd"
      },
      "source": [
        "from sklearn.compose import ColumnTransformer\n",
        "from sklearn.datasets import fetch_openml\n",
        "from sklearn.pipeline import Pipeline\n",
        "from sklearn.impute import SimpleImputer\n",
        "from sklearn.preprocessing import StandardScaler, OneHotEncoder\n",
        "from sklearn.experimental import enable_iterative_imputer\n",
        "from sklearn.impute import IterativeImputer\n",
        "\n",
        "numeric_features = [1, 2, 3, 4, 6, 7, 8, 9]\n",
        "numeric_transformer = Pipeline(steps=[('imputer', IterativeImputer(random_state=1)),\n",
        "    ('scaler', StandardScaler())])\n",
        "\n",
        "categorical_features = [0, 5]\n",
        "categorical_transformer = Pipeline(steps=[('imputer', SimpleImputer(strategy='constant', fill_value='missing')),\n",
        "    ('onehot', OneHotEncoder(handle_unknown='ignore'))])\n",
        "\n",
        "preprocessor = ColumnTransformer(transformers=[\n",
        "        ('num', numeric_transformer, numeric_features),\n",
        "        ('cat', categorical_transformer, categorical_features)\n",
        "        ])"
      ],
      "execution_count": 110,
      "outputs": []
    },
    {
      "cell_type": "markdown",
      "metadata": {
        "id": "botKSDVRWYgd"
      },
      "source": [
        "Split X1 for training and validation"
      ]
    },
    {
      "cell_type": "code",
      "metadata": {
        "colab": {
          "base_uri": "https://localhost:8080/"
        },
        "id": "-sePbSAeWxO4",
        "outputId": "9a8ffd86-b487-4169-c624-746d86f80bf9"
      },
      "source": [
        "#split training set for training and testing\n",
        "from sklearn.model_selection import train_test_split\n",
        "\n",
        "X1_train, X1_val, y1_train, y1_val = train_test_split(X1, y1, random_state=1, test_size=0.10, shuffle=True)\n",
        "X1_train.shape, X1_val.shape, y1_train.shape, y1_val.shape, X1_test.shape"
      ],
      "execution_count": 111,
      "outputs": [
        {
          "output_type": "execute_result",
          "data": {
            "text/plain": [
              "((920871, 10), (102320, 10), (920871,), (102320,), (773858, 10))"
            ]
          },
          "metadata": {
            "tags": []
          },
          "execution_count": 111
        }
      ]
    },
    {
      "cell_type": "markdown",
      "metadata": {
        "id": "JdnCcIjYYVtq"
      },
      "source": [
        "Create first pipeline"
      ]
    },
    {
      "cell_type": "code",
      "metadata": {
        "colab": {
          "base_uri": "https://localhost:8080/"
        },
        "id": "W9KC2i6wYcNY",
        "outputId": "8e726f87-ee3a-4f74-dde3-acd36177360d"
      },
      "source": [
        "from sklearn.pipeline import make_pipeline, Pipeline\n",
        "from sklearn.linear_model import LogisticRegression\n",
        "\n",
        "model = Pipeline(steps=[('preprocessor', preprocessor),\n",
        "                      ('regressor', LogisticRegression(class_weight='balanced', max_iter=2000, random_state=1, solver='saga', C=100))])\n",
        "model.fit(X1_train, y1_train)\n",
        "print(model.score(X1_train, y1_train))"
      ],
      "execution_count": 112,
      "outputs": [
        {
          "output_type": "stream",
          "text": [
            "0.6377831422642259\n"
          ],
          "name": "stdout"
        }
      ]
    },
    {
      "cell_type": "markdown",
      "metadata": {
        "id": "dWFP0aKd3tp-"
      },
      "source": [
        "Predict on validation set"
      ]
    },
    {
      "cell_type": "code",
      "metadata": {
        "colab": {
          "base_uri": "https://localhost:8080/"
        },
        "id": "loR1OFcb3tIH",
        "outputId": "713dc6d7-a2e5-4259-a4d8-3d01a5951d43"
      },
      "source": [
        "y1_pred = model.predict(X1_val)\n",
        "print(model.score(X1_val, y1_val))"
      ],
      "execution_count": 113,
      "outputs": [
        {
          "output_type": "stream",
          "text": [
            "0.6374022673964035\n"
          ],
          "name": "stdout"
        }
      ]
    },
    {
      "cell_type": "code",
      "metadata": {
        "colab": {
          "base_uri": "https://localhost:8080/",
          "height": 337
        },
        "id": "2ogly5SH4NKg",
        "outputId": "511ccb96-021e-416a-a82b-1853a2529c7f"
      },
      "source": [
        "sns.distplot(y1_pred)"
      ],
      "execution_count": 114,
      "outputs": [
        {
          "output_type": "stream",
          "text": [
            "/usr/local/lib/python3.6/dist-packages/seaborn/distributions.py:2551: FutureWarning: `distplot` is a deprecated function and will be removed in a future version. Please adapt your code to use either `displot` (a figure-level function with similar flexibility) or `histplot` (an axes-level function for histograms).\n",
            "  warnings.warn(msg, FutureWarning)\n"
          ],
          "name": "stderr"
        },
        {
          "output_type": "execute_result",
          "data": {
            "text/plain": [
              "<matplotlib.axes._subplots.AxesSubplot at 0x7fbccdc84d68>"
            ]
          },
          "metadata": {
            "tags": []
          },
          "execution_count": 114
        },
        {
          "output_type": "display_data",
          "data": {
            "image/png": "[encoded data removed]",
            "text/plain": [
              "<Figure size 432x288 with 1 Axes>"
            ]
          },
          "metadata": {
            "tags": [],
            "needs_background": "light"
          }
        }
      ]
    },
    {
      "cell_type": "code",
      "metadata": {
        "colab": {
          "base_uri": "https://localhost:8080/"
        },
        "id": "Zo_fCAef4xGC",
        "outputId": "9b87fede-15b0-43e0-cfa7-91cfda942c6e"
      },
      "source": [
        "from collections import Counter\n",
        "\n",
        "print(Counter(y1_pred))"
      ],
      "execution_count": 115,
      "outputs": [
        {
          "output_type": "stream",
          "text": [
            "Counter({0: 61102, 1: 41218})\n"
          ],
          "name": "stdout"
        }
      ]
    },
    {
      "cell_type": "markdown",
      "metadata": {
        "id": "7S7UEHbx42fN"
      },
      "source": [
        "Predict on test set"
      ]
    },
    {
      "cell_type": "code",
      "metadata": {
        "colab": {
          "base_uri": "https://localhost:8080/"
        },
        "id": "cgcG26vT47X_",
        "outputId": "7b7022c7-8c2e-4fed-ad7e-d91f0626c951"
      },
      "source": [
        "prediction1 = model.predict(X1_test)\n",
        "prediction1"
      ],
      "execution_count": 116,
      "outputs": [
        {
          "output_type": "execute_result",
          "data": {
            "text/plain": [
              "array([1, 0, 0, ..., 1, 0, 0])"
            ]
          },
          "metadata": {
            "tags": []
          },
          "execution_count": 116
        }
      ]
    },
    {
      "cell_type": "code",
      "metadata": {
        "colab": {
          "base_uri": "https://localhost:8080/",
          "height": 337
        },
        "id": "ohbGlEBh5L2y",
        "outputId": "8c4fd958-5d47-4818-9485-591ecd6bc051"
      },
      "source": [
        "sns.distplot(prediction1)"
      ],
      "execution_count": 117,
      "outputs": [
        {
          "output_type": "stream",
          "text": [
            "/usr/local/lib/python3.6/dist-packages/seaborn/distributions.py:2551: FutureWarning: `distplot` is a deprecated function and will be removed in a future version. Please adapt your code to use either `displot` (a figure-level function with similar flexibility) or `histplot` (an axes-level function for histograms).\n",
            "  warnings.warn(msg, FutureWarning)\n"
          ],
          "name": "stderr"
        },
        {
          "output_type": "execute_result",
          "data": {
            "text/plain": [
              "<matplotlib.axes._subplots.AxesSubplot at 0x7fbccdc2a710>"
            ]
          },
          "metadata": {
            "tags": []
          },
          "execution_count": 117
        },
        {
          "output_type": "display_data",
          "data": {
            "image/png": "[encoded data removed]",
            "text/plain": [
              "<Figure size 432x288 with 1 Axes>"
            ]
          },
          "metadata": {
            "tags": [],
            "needs_background": "light"
          }
        }
      ]
    },
    {
      "cell_type": "code",
      "metadata": {
        "colab": {
          "base_uri": "https://localhost:8080/"
        },
        "id": "gKYAQpGP5UvQ",
        "outputId": "3c61ea6b-3ec4-49f7-f27a-12368fb3e57e"
      },
      "source": [
        "print(Counter(prediction1))"
      ],
      "execution_count": 118,
      "outputs": [
        {
          "output_type": "stream",
          "text": [
            "Counter({0: 441377, 1: 332481})\n"
          ],
          "name": "stdout"
        }
      ]
    },
    {
      "cell_type": "markdown",
      "metadata": {
        "id": "HYqiT6Cg5sKI"
      },
      "source": [
        "Create new column on test"
      ]
    },
    {
      "cell_type": "code",
      "metadata": {
        "colab": {
          "base_uri": "https://localhost:8080/",
          "height": 1000
        },
        "id": "s7SQMiaA5xfQ",
        "outputId": "4540084e-0883-4ae3-e99e-173a0221fd47"
      },
      "source": [
        "test['is_open'] = prediction1\n",
        "test"
      ],
      "execution_count": 119,
      "outputs": [
        {
          "output_type": "execute_result",
          "data": {
            "text/html": [
              "<div>\n",
              "<style scoped>\n",
              "    .dataframe tbody tr th:only-of-type {\n",
              "        vertical-align: middle;\n",
              "    }\n",
              "\n",
              "    .dataframe tbody tr th {\n",
              "        vertical-align: top;\n",
              "    }\n",
              "\n",
              "    .dataframe thead th {\n",
              "        text-align: right;\n",
              "    }\n",
              "</style>\n",
              "<table border=\"1\" class=\"dataframe\">\n",
              "  <thead>\n",
              "    <tr style=\"text-align: right;\">\n",
              "      <th></th>\n",
              "      <th>id</th>\n",
              "      <th>campaign_id</th>\n",
              "      <th>user_id</th>\n",
              "      <th>send_date</th>\n",
              "      <th>communication_type</th>\n",
              "      <th>total_links</th>\n",
              "      <th>no_of_internal_links</th>\n",
              "      <th>no_of_images</th>\n",
              "      <th>no_of_sections</th>\n",
              "      <th>email_body</th>\n",
              "      <th>subject</th>\n",
              "      <th>email_url</th>\n",
              "      <th>day</th>\n",
              "      <th>month</th>\n",
              "      <th>hour</th>\n",
              "      <th>minute</th>\n",
              "      <th>is_open</th>\n",
              "    </tr>\n",
              "  </thead>\n",
              "  <tbody>\n",
              "    <tr>\n",
              "      <th>0</th>\n",
              "      <td>63_122715</td>\n",
              "      <td>63</td>\n",
              "      <td>122715</td>\n",
              "      <td>01-02-2018 22:35</td>\n",
              "      <td>Newsletter</td>\n",
              "      <td>68</td>\n",
              "      <td>64</td>\n",
              "      <td>15</td>\n",
              "      <td>5</td>\n",
              "      <td>\\r\\nFebruary 2018 Newsletter\\r\\n \\r\\nDear AVia...</td>\n",
              "      <td>AVbytes, Ultimate 2018 learning path and aweso...</td>\n",
              "      <td>http://r.newsletters.analyticsvidhya.com/7whsu...</td>\n",
              "      <td>1</td>\n",
              "      <td>2</td>\n",
              "      <td>22</td>\n",
              "      <td>35</td>\n",
              "      <td>1</td>\n",
              "    </tr>\n",
              "    <tr>\n",
              "      <th>1</th>\n",
              "      <td>56_76206</td>\n",
              "      <td>56</td>\n",
              "      <td>76206</td>\n",
              "      <td>02-01-2018 08:15</td>\n",
              "      <td>Newsletter</td>\n",
              "      <td>42</td>\n",
              "      <td>38</td>\n",
              "      <td>10</td>\n",
              "      <td>4</td>\n",
              "      <td>\\r\\nJanuary 2018 Newsletter\\r\\n \\r\\nDear AVian...</td>\n",
              "      <td>[January] Year 2018 - Bigger &amp; Exciting challe...</td>\n",
              "      <td>http://r.newsletters.analyticsvidhya.com/7w3uc...</td>\n",
              "      <td>2</td>\n",
              "      <td>1</td>\n",
              "      <td>8</td>\n",
              "      <td>15</td>\n",
              "      <td>0</td>\n",
              "    </tr>\n",
              "    <tr>\n",
              "      <th>2</th>\n",
              "      <td>57_96189</td>\n",
              "      <td>57</td>\n",
              "      <td>96189</td>\n",
              "      <td>05-01-2018 18:25</td>\n",
              "      <td>Upcoming Events</td>\n",
              "      <td>40</td>\n",
              "      <td>36</td>\n",
              "      <td>15</td>\n",
              "      <td>4</td>\n",
              "      <td>[January - Hiring Hackathons, LearnUps, Contes...</td>\n",
              "      <td>[January 2018] Upcoming Hiring Hackathons, Lea...</td>\n",
              "      <td>http://r.newsletters.analyticsvidhya.com/7w43t...</td>\n",
              "      <td>5</td>\n",
              "      <td>1</td>\n",
              "      <td>18</td>\n",
              "      <td>25</td>\n",
              "      <td>0</td>\n",
              "    </tr>\n",
              "    <tr>\n",
              "      <th>3</th>\n",
              "      <td>56_166917</td>\n",
              "      <td>56</td>\n",
              "      <td>166917</td>\n",
              "      <td>02-01-2018 08:15</td>\n",
              "      <td>Newsletter</td>\n",
              "      <td>42</td>\n",
              "      <td>38</td>\n",
              "      <td>10</td>\n",
              "      <td>4</td>\n",
              "      <td>\\r\\nJanuary 2018 Newsletter\\r\\n \\r\\nDear AVian...</td>\n",
              "      <td>[January] Year 2018 - Bigger &amp; Exciting challe...</td>\n",
              "      <td>http://r.newsletters.analyticsvidhya.com/7w3uc...</td>\n",
              "      <td>2</td>\n",
              "      <td>1</td>\n",
              "      <td>8</td>\n",
              "      <td>15</td>\n",
              "      <td>0</td>\n",
              "    </tr>\n",
              "    <tr>\n",
              "      <th>4</th>\n",
              "      <td>56_172838</td>\n",
              "      <td>56</td>\n",
              "      <td>172838</td>\n",
              "      <td>02-01-2018 08:12</td>\n",
              "      <td>Newsletter</td>\n",
              "      <td>42</td>\n",
              "      <td>38</td>\n",
              "      <td>10</td>\n",
              "      <td>4</td>\n",
              "      <td>\\r\\nJanuary 2018 Newsletter\\r\\n \\r\\nDear AVian...</td>\n",
              "      <td>[January] Year 2018 - Bigger &amp; Exciting challe...</td>\n",
              "      <td>http://r.newsletters.analyticsvidhya.com/7w3uc...</td>\n",
              "      <td>2</td>\n",
              "      <td>1</td>\n",
              "      <td>8</td>\n",
              "      <td>12</td>\n",
              "      <td>0</td>\n",
              "    </tr>\n",
              "    <tr>\n",
              "      <th>...</th>\n",
              "      <td>...</td>\n",
              "      <td>...</td>\n",
              "      <td>...</td>\n",
              "      <td>...</td>\n",
              "      <td>...</td>\n",
              "      <td>...</td>\n",
              "      <td>...</td>\n",
              "      <td>...</td>\n",
              "      <td>...</td>\n",
              "      <td>...</td>\n",
              "      <td>...</td>\n",
              "      <td>...</td>\n",
              "      <td>...</td>\n",
              "      <td>...</td>\n",
              "      <td>...</td>\n",
              "      <td>...</td>\n",
              "      <td>...</td>\n",
              "    </tr>\n",
              "    <tr>\n",
              "      <th>773853</th>\n",
              "      <td>74_202929</td>\n",
              "      <td>74</td>\n",
              "      <td>202929</td>\n",
              "      <td>01-03-2018 21:19</td>\n",
              "      <td>Newsletter</td>\n",
              "      <td>140</td>\n",
              "      <td>130</td>\n",
              "      <td>15</td>\n",
              "      <td>4</td>\n",
              "      <td>March 2018 Newsletter\\r\\n \\r\\nDear Avian,\\r\\n\\...</td>\n",
              "      <td>[March Newsletter] AV Android App, DataHack Pr...</td>\n",
              "      <td>http://r.newsletters.analyticsvidhya.com/7ww0u...</td>\n",
              "      <td>1</td>\n",
              "      <td>3</td>\n",
              "      <td>21</td>\n",
              "      <td>19</td>\n",
              "      <td>0</td>\n",
              "    </tr>\n",
              "    <tr>\n",
              "      <th>773854</th>\n",
              "      <td>56_95437</td>\n",
              "      <td>56</td>\n",
              "      <td>95437</td>\n",
              "      <td>02-01-2018 08:10</td>\n",
              "      <td>Newsletter</td>\n",
              "      <td>42</td>\n",
              "      <td>38</td>\n",
              "      <td>10</td>\n",
              "      <td>4</td>\n",
              "      <td>\\r\\nJanuary 2018 Newsletter\\r\\n \\r\\nDear AVian...</td>\n",
              "      <td>[January] Year 2018 - Bigger &amp; Exciting challe...</td>\n",
              "      <td>http://r.newsletters.analyticsvidhya.com/7w3uc...</td>\n",
              "      <td>2</td>\n",
              "      <td>1</td>\n",
              "      <td>8</td>\n",
              "      <td>10</td>\n",
              "      <td>0</td>\n",
              "    </tr>\n",
              "    <tr>\n",
              "      <th>773855</th>\n",
              "      <td>63_11063</td>\n",
              "      <td>63</td>\n",
              "      <td>11063</td>\n",
              "      <td>01-02-2018 22:55</td>\n",
              "      <td>Newsletter</td>\n",
              "      <td>68</td>\n",
              "      <td>64</td>\n",
              "      <td>15</td>\n",
              "      <td>5</td>\n",
              "      <td>\\r\\nFebruary 2018 Newsletter\\r\\n \\r\\nDear AVia...</td>\n",
              "      <td>AVbytes, Ultimate 2018 learning path and aweso...</td>\n",
              "      <td>http://r.newsletters.analyticsvidhya.com/7whsu...</td>\n",
              "      <td>1</td>\n",
              "      <td>2</td>\n",
              "      <td>22</td>\n",
              "      <td>55</td>\n",
              "      <td>1</td>\n",
              "    </tr>\n",
              "    <tr>\n",
              "      <th>773856</th>\n",
              "      <td>72_144182</td>\n",
              "      <td>72</td>\n",
              "      <td>144182</td>\n",
              "      <td>22-02-2018 16:10</td>\n",
              "      <td>Corporate</td>\n",
              "      <td>22</td>\n",
              "      <td>15</td>\n",
              "      <td>5</td>\n",
              "      <td>1</td>\n",
              "      <td>\\r\\nAVBytes: Top Stories On Analytics Vidhya T...</td>\n",
              "      <td>Missing out on the latest happenings in AI? Ch...</td>\n",
              "      <td>http://r.newsletters.analyticsvidhya.com/7wra6...</td>\n",
              "      <td>22</td>\n",
              "      <td>2</td>\n",
              "      <td>16</td>\n",
              "      <td>10</td>\n",
              "      <td>0</td>\n",
              "    </tr>\n",
              "    <tr>\n",
              "      <th>773857</th>\n",
              "      <td>57_226299</td>\n",
              "      <td>57</td>\n",
              "      <td>226299</td>\n",
              "      <td>05-01-2018 18:03</td>\n",
              "      <td>Upcoming Events</td>\n",
              "      <td>40</td>\n",
              "      <td>36</td>\n",
              "      <td>15</td>\n",
              "      <td>4</td>\n",
              "      <td>[January - Hiring Hackathons, LearnUps, Contes...</td>\n",
              "      <td>[January 2018] Upcoming Hiring Hackathons, Lea...</td>\n",
              "      <td>http://r.newsletters.analyticsvidhya.com/7w43t...</td>\n",
              "      <td>5</td>\n",
              "      <td>1</td>\n",
              "      <td>18</td>\n",
              "      <td>3</td>\n",
              "      <td>0</td>\n",
              "    </tr>\n",
              "  </tbody>\n",
              "</table>\n",
              "<p>773858 rows × 17 columns</p>\n",
              "</div>"
            ],
            "text/plain": [
              "               id  campaign_id  user_id  ... hour minute  is_open\n",
              "0       63_122715           63   122715  ...   22     35        1\n",
              "1        56_76206           56    76206  ...    8     15        0\n",
              "2        57_96189           57    96189  ...   18     25        0\n",
              "3       56_166917           56   166917  ...    8     15        0\n",
              "4       56_172838           56   172838  ...    8     12        0\n",
              "...           ...          ...      ...  ...  ...    ...      ...\n",
              "773853  74_202929           74   202929  ...   21     19        0\n",
              "773854   56_95437           56    95437  ...    8     10        0\n",
              "773855   63_11063           63    11063  ...   22     55        1\n",
              "773856  72_144182           72   144182  ...   16     10        0\n",
              "773857  57_226299           57   226299  ...   18      3        0\n",
              "\n",
              "[773858 rows x 17 columns]"
            ]
          },
          "metadata": {
            "tags": []
          },
          "execution_count": 119
        }
      ]
    },
    {
      "cell_type": "markdown",
      "metadata": {
        "id": "jsHkph_66aoe"
      },
      "source": [
        "Define X2, y2 and X2_test"
      ]
    },
    {
      "cell_type": "code",
      "metadata": {
        "id": "ajhMlDM56bdz"
      },
      "source": [
        "features2 = ['communication_type','total_links','no_of_internal_links', 'no_of_images', 'no_of_sections', 'subject', 'day', 'month', 'hour', 'minute', 'is_open' ]\n",
        "\n",
        "y2 = train.is_click\n",
        "X2 = train[features2]\n",
        "X2_test = test[features2]"
      ],
      "execution_count": 120,
      "outputs": []
    },
    {
      "cell_type": "markdown",
      "metadata": {
        "id": "3bd5jmRg7DNz"
      },
      "source": [
        "Create column transformer"
      ]
    },
    {
      "cell_type": "code",
      "metadata": {
        "colab": {
          "base_uri": "https://localhost:8080/"
        },
        "id": "eZhxJKLE7Il0",
        "outputId": "331e1840-c445-4bf5-b6e5-ec8f52db977c"
      },
      "source": [
        "X2.info()"
      ],
      "execution_count": 121,
      "outputs": [
        {
          "output_type": "stream",
          "text": [
            "<class 'pandas.core.frame.DataFrame'>\n",
            "Int64Index: 1023191 entries, 0 to 1023190\n",
            "Data columns (total 11 columns):\n",
            " #   Column                Non-Null Count    Dtype \n",
            "---  ------                --------------    ----- \n",
            " 0   communication_type    1023191 non-null  object\n",
            " 1   total_links           1023191 non-null  int64 \n",
            " 2   no_of_internal_links  1023191 non-null  int64 \n",
            " 3   no_of_images          1023191 non-null  int64 \n",
            " 4   no_of_sections        1023191 non-null  int64 \n",
            " 5   subject               1023191 non-null  object\n",
            " 6   day                   1023191 non-null  int64 \n",
            " 7   month                 1023191 non-null  int64 \n",
            " 8   hour                  1023191 non-null  int64 \n",
            " 9   minute                1023191 non-null  int64 \n",
            " 10  is_open               1023191 non-null  int64 \n",
            "dtypes: int64(9), object(2)\n",
            "memory usage: 93.7+ MB\n"
          ],
          "name": "stdout"
        }
      ]
    },
    {
      "cell_type": "code",
      "metadata": {
        "id": "HYQ2H1Hh7Gv7"
      },
      "source": [
        "from sklearn.compose import ColumnTransformer\n",
        "from sklearn.datasets import fetch_openml\n",
        "from sklearn.pipeline import Pipeline\n",
        "from sklearn.impute import SimpleImputer\n",
        "from sklearn.preprocessing import StandardScaler, OneHotEncoder\n",
        "from sklearn.experimental import enable_iterative_imputer\n",
        "from sklearn.impute import IterativeImputer\n",
        "\n",
        "numeric_features = [1, 2, 3, 4, 6, 7, 8, 9, 10]\n",
        "numeric_transformer = Pipeline(steps=[('imputer', IterativeImputer(random_state=1)),\n",
        "    ('scaler', StandardScaler())])\n",
        "\n",
        "categorical_features = [0, 5]\n",
        "categorical_transformer = Pipeline(steps=[('imputer', SimpleImputer(strategy='constant', fill_value='missing')),\n",
        "    ('onehot', OneHotEncoder(handle_unknown='ignore'))])\n",
        "\n",
        "preprocessor = ColumnTransformer(transformers=[\n",
        "        ('num', numeric_transformer, numeric_features),\n",
        "        ('cat', categorical_transformer, categorical_features)\n",
        "        ])"
      ],
      "execution_count": 122,
      "outputs": []
    },
    {
      "cell_type": "markdown",
      "metadata": {
        "id": "8fvGC1CP7cjK"
      },
      "source": [
        "Split X2 for training and validation"
      ]
    },
    {
      "cell_type": "code",
      "metadata": {
        "colab": {
          "base_uri": "https://localhost:8080/"
        },
        "id": "IYJuN0zY7dLt",
        "outputId": "b2f64b18-74b1-4449-9680-c9692a712769"
      },
      "source": [
        "#split training set for training and testing\n",
        "from sklearn.model_selection import train_test_split\n",
        "\n",
        "X2_train, X2_val, y2_train, y2_val = train_test_split(X2, y2, random_state=1, test_size=0.10, shuffle=True)\n",
        "X2_train.shape, X2_val.shape, y2_train.shape, y2_val.shape, X2_test.shape"
      ],
      "execution_count": 123,
      "outputs": [
        {
          "output_type": "execute_result",
          "data": {
            "text/plain": [
              "((920871, 11), (102320, 11), (920871,), (102320,), (773858, 11))"
            ]
          },
          "metadata": {
            "tags": []
          },
          "execution_count": 123
        }
      ]
    },
    {
      "cell_type": "markdown",
      "metadata": {
        "id": "BgkP9OD474mH"
      },
      "source": [
        "Create second pipeline"
      ]
    },
    {
      "cell_type": "code",
      "metadata": {
        "colab": {
          "base_uri": "https://localhost:8080/"
        },
        "id": "wVsogAJl77tN",
        "outputId": "4df4f461-0729-4372-e75c-b69d1e3fefad"
      },
      "source": [
        "from sklearn.pipeline import make_pipeline, Pipeline\n",
        "from sklearn.linear_model import LogisticRegression\n",
        "\n",
        "model = Pipeline(steps=[('preprocessor', preprocessor),\n",
        "                      ('regressor', LogisticRegression(class_weight='balanced', max_iter=2000, random_state=1, solver='saga', C=100))])\n",
        "model.fit(X2_train, y2_train)\n",
        "print(model.score(X2_train, y2_train))"
      ],
      "execution_count": 124,
      "outputs": [
        {
          "output_type": "stream",
          "text": [
            "/usr/local/lib/python3.6/dist-packages/sklearn/linear_model/_sag.py:330: ConvergenceWarning: The max_iter was reached which means the coef_ did not converge\n",
            "  \"the coef_ did not converge\", ConvergenceWarning)\n"
          ],
          "name": "stderr"
        },
        {
          "output_type": "stream",
          "text": [
            "0.9118660485562039\n"
          ],
          "name": "stdout"
        }
      ]
    },
    {
      "cell_type": "markdown",
      "metadata": {
        "id": "mCvwZdHGeDvd"
      },
      "source": [
        "Predict on validation set"
      ]
    },
    {
      "cell_type": "code",
      "metadata": {
        "colab": {
          "base_uri": "https://localhost:8080/"
        },
        "id": "30zLMYr9dxMy",
        "outputId": "9e35c442-124c-4b0c-eb41-4fb6aa32e5f4"
      },
      "source": [
        "y2_pred = model.predict(X2_val)\n",
        "print(model.score(X2_val, y2_val))"
      ],
      "execution_count": 125,
      "outputs": [
        {
          "output_type": "stream",
          "text": [
            "0.9135261923377639\n"
          ],
          "name": "stdout"
        }
      ]
    },
    {
      "cell_type": "code",
      "metadata": {
        "colab": {
          "base_uri": "https://localhost:8080/",
          "height": 337
        },
        "id": "CmLxQ-M8dvLC",
        "outputId": "ecd126c0-299e-4043-d320-443ff9a957d3"
      },
      "source": [
        "sns.distplot(y2_pred)"
      ],
      "execution_count": 126,
      "outputs": [
        {
          "output_type": "stream",
          "text": [
            "/usr/local/lib/python3.6/dist-packages/seaborn/distributions.py:2551: FutureWarning: `distplot` is a deprecated function and will be removed in a future version. Please adapt your code to use either `displot` (a figure-level function with similar flexibility) or `histplot` (an axes-level function for histograms).\n",
            "  warnings.warn(msg, FutureWarning)\n"
          ],
          "name": "stderr"
        },
        {
          "output_type": "execute_result",
          "data": {
            "text/plain": [
              "<matplotlib.axes._subplots.AxesSubplot at 0x7fbccdb4dfd0>"
            ]
          },
          "metadata": {
            "tags": []
          },
          "execution_count": 126
        },
        {
          "output_type": "display_data",
          "data": {
            "image/png": "[encoded data removed]",
            "text/plain": [
              "<Figure size 432x288 with 1 Axes>"
            ]
          },
          "metadata": {
            "tags": [],
            "needs_background": "light"
          }
        }
      ]
    },
    {
      "cell_type": "code",
      "metadata": {
        "colab": {
          "base_uri": "https://localhost:8080/"
        },
        "id": "4rYW1tiNeV-g",
        "outputId": "b70c1bc2-3a03-425c-b3a8-11313b848a3b"
      },
      "source": [
        "print(Counter(y2_pred))"
      ],
      "execution_count": 127,
      "outputs": [
        {
          "output_type": "stream",
          "text": [
            "Counter({0: 92177, 1: 10143})\n"
          ],
          "name": "stdout"
        }
      ]
    },
    {
      "cell_type": "markdown",
      "metadata": {
        "id": "1CjxaA3OeYzC"
      },
      "source": [
        "Predict on Test set"
      ]
    },
    {
      "cell_type": "code",
      "metadata": {
        "colab": {
          "base_uri": "https://localhost:8080/"
        },
        "id": "MJ_QLcD9eaoS",
        "outputId": "3de9af1b-8edd-4b7a-bd1d-c7708442f57a"
      },
      "source": [
        "prediction2 = model.predict(X2_test)\n",
        "prediction2"
      ],
      "execution_count": 128,
      "outputs": [
        {
          "output_type": "execute_result",
          "data": {
            "text/plain": [
              "array([1, 0, 0, ..., 1, 0, 0])"
            ]
          },
          "metadata": {
            "tags": []
          },
          "execution_count": 128
        }
      ]
    },
    {
      "cell_type": "code",
      "metadata": {
        "colab": {
          "base_uri": "https://localhost:8080/",
          "height": 337
        },
        "id": "irQA_L8BemMk",
        "outputId": "65948c5c-7307-4344-840e-4d19bb1835d7"
      },
      "source": [
        "sns.distplot(prediction2)"
      ],
      "execution_count": 129,
      "outputs": [
        {
          "output_type": "stream",
          "text": [
            "/usr/local/lib/python3.6/dist-packages/seaborn/distributions.py:2551: FutureWarning: `distplot` is a deprecated function and will be removed in a future version. Please adapt your code to use either `displot` (a figure-level function with similar flexibility) or `histplot` (an axes-level function for histograms).\n",
            "  warnings.warn(msg, FutureWarning)\n"
          ],
          "name": "stderr"
        },
        {
          "output_type": "execute_result",
          "data": {
            "text/plain": [
              "<matplotlib.axes._subplots.AxesSubplot at 0x7fbccdc04ba8>"
            ]
          },
          "metadata": {
            "tags": []
          },
          "execution_count": 129
        },
        {
          "output_type": "display_data",
          "data": {
            "image/png": "[encoded data removed]",
            "text/plain": [
              "<Figure size 432x288 with 1 Axes>"
            ]
          },
          "metadata": {
            "tags": [],
            "needs_background": "light"
          }
        }
      ]
    },
    {
      "cell_type": "code",
      "metadata": {
        "colab": {
          "base_uri": "https://localhost:8080/"
        },
        "id": "lMMrKPU-etzI",
        "outputId": "4b629ef9-c397-40d3-d8d2-40f5d23e6e5c"
      },
      "source": [
        "print(Counter(prediction2))"
      ],
      "execution_count": 130,
      "outputs": [
        {
          "output_type": "stream",
          "text": [
            "Counter({0: 441377, 1: 332481})\n"
          ],
          "name": "stdout"
        }
      ]
    },
    {
      "cell_type": "markdown",
      "metadata": {
        "id": "YbVw_W7ffE-h"
      },
      "source": [
        "Prepare submission"
      ]
    },
    {
      "cell_type": "code",
      "metadata": {
        "colab": {
          "base_uri": "https://localhost:8080/",
          "height": 406
        },
        "id": "hr4L6p92fHk7",
        "outputId": "7392f88d-cd1d-44dd-d851-0fb7e270898f"
      },
      "source": [
        "sample"
      ],
      "execution_count": 131,
      "outputs": [
        {
          "output_type": "execute_result",
          "data": {
            "text/html": [
              "<div>\n",
              "<style scoped>\n",
              "    .dataframe tbody tr th:only-of-type {\n",
              "        vertical-align: middle;\n",
              "    }\n",
              "\n",
              "    .dataframe tbody tr th {\n",
              "        vertical-align: top;\n",
              "    }\n",
              "\n",
              "    .dataframe thead th {\n",
              "        text-align: right;\n",
              "    }\n",
              "</style>\n",
              "<table border=\"1\" class=\"dataframe\">\n",
              "  <thead>\n",
              "    <tr style=\"text-align: right;\">\n",
              "      <th></th>\n",
              "      <th>id</th>\n",
              "      <th>is_click</th>\n",
              "    </tr>\n",
              "  </thead>\n",
              "  <tbody>\n",
              "    <tr>\n",
              "      <th>0</th>\n",
              "      <td>63_122715</td>\n",
              "      <td>0</td>\n",
              "    </tr>\n",
              "    <tr>\n",
              "      <th>1</th>\n",
              "      <td>56_76206</td>\n",
              "      <td>0</td>\n",
              "    </tr>\n",
              "    <tr>\n",
              "      <th>2</th>\n",
              "      <td>57_96189</td>\n",
              "      <td>0</td>\n",
              "    </tr>\n",
              "    <tr>\n",
              "      <th>3</th>\n",
              "      <td>56_166917</td>\n",
              "      <td>0</td>\n",
              "    </tr>\n",
              "    <tr>\n",
              "      <th>4</th>\n",
              "      <td>56_172838</td>\n",
              "      <td>0</td>\n",
              "    </tr>\n",
              "    <tr>\n",
              "      <th>...</th>\n",
              "      <td>...</td>\n",
              "      <td>...</td>\n",
              "    </tr>\n",
              "    <tr>\n",
              "      <th>773853</th>\n",
              "      <td>74_202929</td>\n",
              "      <td>0</td>\n",
              "    </tr>\n",
              "    <tr>\n",
              "      <th>773854</th>\n",
              "      <td>56_95437</td>\n",
              "      <td>0</td>\n",
              "    </tr>\n",
              "    <tr>\n",
              "      <th>773855</th>\n",
              "      <td>63_11063</td>\n",
              "      <td>0</td>\n",
              "    </tr>\n",
              "    <tr>\n",
              "      <th>773856</th>\n",
              "      <td>72_144182</td>\n",
              "      <td>0</td>\n",
              "    </tr>\n",
              "    <tr>\n",
              "      <th>773857</th>\n",
              "      <td>57_226299</td>\n",
              "      <td>0</td>\n",
              "    </tr>\n",
              "  </tbody>\n",
              "</table>\n",
              "<p>773858 rows × 2 columns</p>\n",
              "</div>"
            ],
            "text/plain": [
              "               id  is_click\n",
              "0       63_122715         0\n",
              "1        56_76206         0\n",
              "2        57_96189         0\n",
              "3       56_166917         0\n",
              "4       56_172838         0\n",
              "...           ...       ...\n",
              "773853  74_202929         0\n",
              "773854   56_95437         0\n",
              "773855   63_11063         0\n",
              "773856  72_144182         0\n",
              "773857  57_226299         0\n",
              "\n",
              "[773858 rows x 2 columns]"
            ]
          },
          "metadata": {
            "tags": []
          },
          "execution_count": 131
        }
      ]
    },
    {
      "cell_type": "code",
      "metadata": {
        "colab": {
          "base_uri": "https://localhost:8080/"
        },
        "id": "k4MDHPnDe_Ql",
        "outputId": "22da9b2a-1c5b-4f4a-fb8c-e3ba0953c263"
      },
      "source": [
        "output = pd.DataFrame({'id': id, 'is_click': prediction2})\n",
        "output.to_csv('submission.csv', index=False)\n",
        "print(\"Your submission was successfully saved!\")"
      ],
      "execution_count": 133,
      "outputs": [
        {
          "output_type": "stream",
          "text": [
            "Your submission was successfully saved!\n"
          ],
          "name": "stdout"
        }
      ]
    },
    {
      "cell_type": "code",
      "metadata": {
        "colab": {
          "base_uri": "https://localhost:8080/",
          "height": 406
        },
        "id": "UkrdhuGmfC72",
        "outputId": "da7418ef-7800-4400-f660-99e991faa65d"
      },
      "source": [
        "#upload submission\n",
        "submission = pd.read_csv(\"submission.csv\")\n",
        "submission"
      ],
      "execution_count": 134,
      "outputs": [
        {
          "output_type": "execute_result",
          "data": {
            "text/html": [
              "<div>\n",
              "<style scoped>\n",
              "    .dataframe tbody tr th:only-of-type {\n",
              "        vertical-align: middle;\n",
              "    }\n",
              "\n",
              "    .dataframe tbody tr th {\n",
              "        vertical-align: top;\n",
              "    }\n",
              "\n",
              "    .dataframe thead th {\n",
              "        text-align: right;\n",
              "    }\n",
              "</style>\n",
              "<table border=\"1\" class=\"dataframe\">\n",
              "  <thead>\n",
              "    <tr style=\"text-align: right;\">\n",
              "      <th></th>\n",
              "      <th>id</th>\n",
              "      <th>is_click</th>\n",
              "    </tr>\n",
              "  </thead>\n",
              "  <tbody>\n",
              "    <tr>\n",
              "      <th>0</th>\n",
              "      <td>63_122715</td>\n",
              "      <td>1</td>\n",
              "    </tr>\n",
              "    <tr>\n",
              "      <th>1</th>\n",
              "      <td>56_76206</td>\n",
              "      <td>0</td>\n",
              "    </tr>\n",
              "    <tr>\n",
              "      <th>2</th>\n",
              "      <td>57_96189</td>\n",
              "      <td>0</td>\n",
              "    </tr>\n",
              "    <tr>\n",
              "      <th>3</th>\n",
              "      <td>56_166917</td>\n",
              "      <td>0</td>\n",
              "    </tr>\n",
              "    <tr>\n",
              "      <th>4</th>\n",
              "      <td>56_172838</td>\n",
              "      <td>0</td>\n",
              "    </tr>\n",
              "    <tr>\n",
              "      <th>...</th>\n",
              "      <td>...</td>\n",
              "      <td>...</td>\n",
              "    </tr>\n",
              "    <tr>\n",
              "      <th>773853</th>\n",
              "      <td>74_202929</td>\n",
              "      <td>0</td>\n",
              "    </tr>\n",
              "    <tr>\n",
              "      <th>773854</th>\n",
              "      <td>56_95437</td>\n",
              "      <td>0</td>\n",
              "    </tr>\n",
              "    <tr>\n",
              "      <th>773855</th>\n",
              "      <td>63_11063</td>\n",
              "      <td>1</td>\n",
              "    </tr>\n",
              "    <tr>\n",
              "      <th>773856</th>\n",
              "      <td>72_144182</td>\n",
              "      <td>0</td>\n",
              "    </tr>\n",
              "    <tr>\n",
              "      <th>773857</th>\n",
              "      <td>57_226299</td>\n",
              "      <td>0</td>\n",
              "    </tr>\n",
              "  </tbody>\n",
              "</table>\n",
              "<p>773858 rows × 2 columns</p>\n",
              "</div>"
            ],
            "text/plain": [
              "               id  is_click\n",
              "0       63_122715         1\n",
              "1        56_76206         0\n",
              "2        57_96189         0\n",
              "3       56_166917         0\n",
              "4       56_172838         0\n",
              "...           ...       ...\n",
              "773853  74_202929         0\n",
              "773854   56_95437         0\n",
              "773855   63_11063         1\n",
              "773856  72_144182         0\n",
              "773857  57_226299         0\n",
              "\n",
              "[773858 rows x 2 columns]"
            ]
          },
          "metadata": {
            "tags": []
          },
          "execution_count": 134
        }
      ]
    }
  ]
}