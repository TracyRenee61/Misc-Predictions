{
  "nbformat": 4,
  "nbformat_minor": 0,
  "metadata": {
    "colab": {
      "name": "German Credit - CatBoost v Log Reg.ipynb",
      "provenance": []
    },
    "kernelspec": {
      "name": "python3",
      "display_name": "Python 3"
    }
  },
  "cells": [
    {
      "cell_type": "markdown",
      "metadata": {
        "id": "2SZ3oeT3B7NI"
      },
      "source": [
        "This is an example of how to deal with a binary class imbalance problem in CatBoost and also Logistic Regression"
      ]
    },
    {
      "cell_type": "markdown",
      "metadata": {
        "id": "hvLiO20CCSwR"
      },
      "source": [
        "Import libraries"
      ]
    },
    {
      "cell_type": "code",
      "metadata": {
        "id": "boG1_W6PCfdt"
      },
      "source": [
        "import pandas as pd\n",
        "import numpy as np\n",
        "import matplotlib.pyplot as plt\n",
        "import seaborn as sns"
      ],
      "execution_count": 274,
      "outputs": []
    },
    {
      "cell_type": "markdown",
      "metadata": {
        "id": "QAtjKZ66C-Oo"
      },
      "source": [
        "Load datasets"
      ]
    },
    {
      "cell_type": "code",
      "metadata": {
        "colab": {
          "base_uri": "https://localhost:8080/",
          "height": 415
        },
        "id": "6VJcaibyBv1F",
        "outputId": "31db53eb-3ea8-40e2-e8e2-ca3595b3941f"
      },
      "source": [
        "#Reading train file:\n",
        "train = pd.read_csv('https://raw.githubusercontent.com/jbrownlee/Datasets/master/german.csv', header=None)\n",
        "train"
      ],
      "execution_count": 275,
      "outputs": [
        {
          "output_type": "execute_result",
          "data": {
            "text/html": [
              "<div>\n",
              "<style scoped>\n",
              "    .dataframe tbody tr th:only-of-type {\n",
              "        vertical-align: middle;\n",
              "    }\n",
              "\n",
              "    .dataframe tbody tr th {\n",
              "        vertical-align: top;\n",
              "    }\n",
              "\n",
              "    .dataframe thead th {\n",
              "        text-align: right;\n",
              "    }\n",
              "</style>\n",
              "<table border=\"1\" class=\"dataframe\">\n",
              "  <thead>\n",
              "    <tr style=\"text-align: right;\">\n",
              "      <th></th>\n",
              "      <th>0</th>\n",
              "      <th>1</th>\n",
              "      <th>2</th>\n",
              "      <th>3</th>\n",
              "      <th>4</th>\n",
              "      <th>5</th>\n",
              "      <th>6</th>\n",
              "      <th>7</th>\n",
              "      <th>8</th>\n",
              "      <th>9</th>\n",
              "      <th>10</th>\n",
              "      <th>11</th>\n",
              "      <th>12</th>\n",
              "      <th>13</th>\n",
              "      <th>14</th>\n",
              "      <th>15</th>\n",
              "      <th>16</th>\n",
              "      <th>17</th>\n",
              "      <th>18</th>\n",
              "      <th>19</th>\n",
              "      <th>20</th>\n",
              "    </tr>\n",
              "  </thead>\n",
              "  <tbody>\n",
              "    <tr>\n",
              "      <th>0</th>\n",
              "      <td>A11</td>\n",
              "      <td>6</td>\n",
              "      <td>A34</td>\n",
              "      <td>A43</td>\n",
              "      <td>1169</td>\n",
              "      <td>A65</td>\n",
              "      <td>A75</td>\n",
              "      <td>4</td>\n",
              "      <td>A93</td>\n",
              "      <td>A101</td>\n",
              "      <td>4</td>\n",
              "      <td>A121</td>\n",
              "      <td>67</td>\n",
              "      <td>A143</td>\n",
              "      <td>A152</td>\n",
              "      <td>2</td>\n",
              "      <td>A173</td>\n",
              "      <td>1</td>\n",
              "      <td>A192</td>\n",
              "      <td>A201</td>\n",
              "      <td>1</td>\n",
              "    </tr>\n",
              "    <tr>\n",
              "      <th>1</th>\n",
              "      <td>A12</td>\n",
              "      <td>48</td>\n",
              "      <td>A32</td>\n",
              "      <td>A43</td>\n",
              "      <td>5951</td>\n",
              "      <td>A61</td>\n",
              "      <td>A73</td>\n",
              "      <td>2</td>\n",
              "      <td>A92</td>\n",
              "      <td>A101</td>\n",
              "      <td>2</td>\n",
              "      <td>A121</td>\n",
              "      <td>22</td>\n",
              "      <td>A143</td>\n",
              "      <td>A152</td>\n",
              "      <td>1</td>\n",
              "      <td>A173</td>\n",
              "      <td>1</td>\n",
              "      <td>A191</td>\n",
              "      <td>A201</td>\n",
              "      <td>2</td>\n",
              "    </tr>\n",
              "    <tr>\n",
              "      <th>2</th>\n",
              "      <td>A14</td>\n",
              "      <td>12</td>\n",
              "      <td>A34</td>\n",
              "      <td>A46</td>\n",
              "      <td>2096</td>\n",
              "      <td>A61</td>\n",
              "      <td>A74</td>\n",
              "      <td>2</td>\n",
              "      <td>A93</td>\n",
              "      <td>A101</td>\n",
              "      <td>3</td>\n",
              "      <td>A121</td>\n",
              "      <td>49</td>\n",
              "      <td>A143</td>\n",
              "      <td>A152</td>\n",
              "      <td>1</td>\n",
              "      <td>A172</td>\n",
              "      <td>2</td>\n",
              "      <td>A191</td>\n",
              "      <td>A201</td>\n",
              "      <td>1</td>\n",
              "    </tr>\n",
              "    <tr>\n",
              "      <th>3</th>\n",
              "      <td>A11</td>\n",
              "      <td>42</td>\n",
              "      <td>A32</td>\n",
              "      <td>A42</td>\n",
              "      <td>7882</td>\n",
              "      <td>A61</td>\n",
              "      <td>A74</td>\n",
              "      <td>2</td>\n",
              "      <td>A93</td>\n",
              "      <td>A103</td>\n",
              "      <td>4</td>\n",
              "      <td>A122</td>\n",
              "      <td>45</td>\n",
              "      <td>A143</td>\n",
              "      <td>A153</td>\n",
              "      <td>1</td>\n",
              "      <td>A173</td>\n",
              "      <td>2</td>\n",
              "      <td>A191</td>\n",
              "      <td>A201</td>\n",
              "      <td>1</td>\n",
              "    </tr>\n",
              "    <tr>\n",
              "      <th>4</th>\n",
              "      <td>A11</td>\n",
              "      <td>24</td>\n",
              "      <td>A33</td>\n",
              "      <td>A40</td>\n",
              "      <td>4870</td>\n",
              "      <td>A61</td>\n",
              "      <td>A73</td>\n",
              "      <td>3</td>\n",
              "      <td>A93</td>\n",
              "      <td>A101</td>\n",
              "      <td>4</td>\n",
              "      <td>A124</td>\n",
              "      <td>53</td>\n",
              "      <td>A143</td>\n",
              "      <td>A153</td>\n",
              "      <td>2</td>\n",
              "      <td>A173</td>\n",
              "      <td>2</td>\n",
              "      <td>A191</td>\n",
              "      <td>A201</td>\n",
              "      <td>2</td>\n",
              "    </tr>\n",
              "    <tr>\n",
              "      <th>...</th>\n",
              "      <td>...</td>\n",
              "      <td>...</td>\n",
              "      <td>...</td>\n",
              "      <td>...</td>\n",
              "      <td>...</td>\n",
              "      <td>...</td>\n",
              "      <td>...</td>\n",
              "      <td>...</td>\n",
              "      <td>...</td>\n",
              "      <td>...</td>\n",
              "      <td>...</td>\n",
              "      <td>...</td>\n",
              "      <td>...</td>\n",
              "      <td>...</td>\n",
              "      <td>...</td>\n",
              "      <td>...</td>\n",
              "      <td>...</td>\n",
              "      <td>...</td>\n",
              "      <td>...</td>\n",
              "      <td>...</td>\n",
              "      <td>...</td>\n",
              "    </tr>\n",
              "    <tr>\n",
              "      <th>995</th>\n",
              "      <td>A14</td>\n",
              "      <td>12</td>\n",
              "      <td>A32</td>\n",
              "      <td>A42</td>\n",
              "      <td>1736</td>\n",
              "      <td>A61</td>\n",
              "      <td>A74</td>\n",
              "      <td>3</td>\n",
              "      <td>A92</td>\n",
              "      <td>A101</td>\n",
              "      <td>4</td>\n",
              "      <td>A121</td>\n",
              "      <td>31</td>\n",
              "      <td>A143</td>\n",
              "      <td>A152</td>\n",
              "      <td>1</td>\n",
              "      <td>A172</td>\n",
              "      <td>1</td>\n",
              "      <td>A191</td>\n",
              "      <td>A201</td>\n",
              "      <td>1</td>\n",
              "    </tr>\n",
              "    <tr>\n",
              "      <th>996</th>\n",
              "      <td>A11</td>\n",
              "      <td>30</td>\n",
              "      <td>A32</td>\n",
              "      <td>A41</td>\n",
              "      <td>3857</td>\n",
              "      <td>A61</td>\n",
              "      <td>A73</td>\n",
              "      <td>4</td>\n",
              "      <td>A91</td>\n",
              "      <td>A101</td>\n",
              "      <td>4</td>\n",
              "      <td>A122</td>\n",
              "      <td>40</td>\n",
              "      <td>A143</td>\n",
              "      <td>A152</td>\n",
              "      <td>1</td>\n",
              "      <td>A174</td>\n",
              "      <td>1</td>\n",
              "      <td>A192</td>\n",
              "      <td>A201</td>\n",
              "      <td>1</td>\n",
              "    </tr>\n",
              "    <tr>\n",
              "      <th>997</th>\n",
              "      <td>A14</td>\n",
              "      <td>12</td>\n",
              "      <td>A32</td>\n",
              "      <td>A43</td>\n",
              "      <td>804</td>\n",
              "      <td>A61</td>\n",
              "      <td>A75</td>\n",
              "      <td>4</td>\n",
              "      <td>A93</td>\n",
              "      <td>A101</td>\n",
              "      <td>4</td>\n",
              "      <td>A123</td>\n",
              "      <td>38</td>\n",
              "      <td>A143</td>\n",
              "      <td>A152</td>\n",
              "      <td>1</td>\n",
              "      <td>A173</td>\n",
              "      <td>1</td>\n",
              "      <td>A191</td>\n",
              "      <td>A201</td>\n",
              "      <td>1</td>\n",
              "    </tr>\n",
              "    <tr>\n",
              "      <th>998</th>\n",
              "      <td>A11</td>\n",
              "      <td>45</td>\n",
              "      <td>A32</td>\n",
              "      <td>A43</td>\n",
              "      <td>1845</td>\n",
              "      <td>A61</td>\n",
              "      <td>A73</td>\n",
              "      <td>4</td>\n",
              "      <td>A93</td>\n",
              "      <td>A101</td>\n",
              "      <td>4</td>\n",
              "      <td>A124</td>\n",
              "      <td>23</td>\n",
              "      <td>A143</td>\n",
              "      <td>A153</td>\n",
              "      <td>1</td>\n",
              "      <td>A173</td>\n",
              "      <td>1</td>\n",
              "      <td>A192</td>\n",
              "      <td>A201</td>\n",
              "      <td>2</td>\n",
              "    </tr>\n",
              "    <tr>\n",
              "      <th>999</th>\n",
              "      <td>A12</td>\n",
              "      <td>45</td>\n",
              "      <td>A34</td>\n",
              "      <td>A41</td>\n",
              "      <td>4576</td>\n",
              "      <td>A62</td>\n",
              "      <td>A71</td>\n",
              "      <td>3</td>\n",
              "      <td>A93</td>\n",
              "      <td>A101</td>\n",
              "      <td>4</td>\n",
              "      <td>A123</td>\n",
              "      <td>27</td>\n",
              "      <td>A143</td>\n",
              "      <td>A152</td>\n",
              "      <td>1</td>\n",
              "      <td>A173</td>\n",
              "      <td>1</td>\n",
              "      <td>A191</td>\n",
              "      <td>A201</td>\n",
              "      <td>1</td>\n",
              "    </tr>\n",
              "  </tbody>\n",
              "</table>\n",
              "<p>1000 rows × 21 columns</p>\n",
              "</div>"
            ],
            "text/plain": [
              "      0   1    2    3     4    5    6   ...    14 15    16  17    18    19 20\n",
              "0    A11   6  A34  A43  1169  A65  A75  ...  A152  2  A173   1  A192  A201  1\n",
              "1    A12  48  A32  A43  5951  A61  A73  ...  A152  1  A173   1  A191  A201  2\n",
              "2    A14  12  A34  A46  2096  A61  A74  ...  A152  1  A172   2  A191  A201  1\n",
              "3    A11  42  A32  A42  7882  A61  A74  ...  A153  1  A173   2  A191  A201  1\n",
              "4    A11  24  A33  A40  4870  A61  A73  ...  A153  2  A173   2  A191  A201  2\n",
              "..   ...  ..  ...  ...   ...  ...  ...  ...   ... ..   ...  ..   ...   ... ..\n",
              "995  A14  12  A32  A42  1736  A61  A74  ...  A152  1  A172   1  A191  A201  1\n",
              "996  A11  30  A32  A41  3857  A61  A73  ...  A152  1  A174   1  A192  A201  1\n",
              "997  A14  12  A32  A43   804  A61  A75  ...  A152  1  A173   1  A191  A201  1\n",
              "998  A11  45  A32  A43  1845  A61  A73  ...  A153  1  A173   1  A192  A201  2\n",
              "999  A12  45  A34  A41  4576  A62  A71  ...  A152  1  A173   1  A191  A201  1\n",
              "\n",
              "[1000 rows x 21 columns]"
            ]
          },
          "metadata": {
            "tags": []
          },
          "execution_count": 275
        }
      ]
    },
    {
      "cell_type": "code",
      "metadata": {
        "colab": {
          "base_uri": "https://localhost:8080/"
        },
        "id": "3q14AWAFD1Pz",
        "outputId": "564c90fc-915a-4775-9f17-d45b9dcc8412"
      },
      "source": [
        "train.info()"
      ],
      "execution_count": 276,
      "outputs": [
        {
          "output_type": "stream",
          "text": [
            "<class 'pandas.core.frame.DataFrame'>\n",
            "RangeIndex: 1000 entries, 0 to 999\n",
            "Data columns (total 21 columns):\n",
            " #   Column  Non-Null Count  Dtype \n",
            "---  ------  --------------  ----- \n",
            " 0   0       1000 non-null   object\n",
            " 1   1       1000 non-null   int64 \n",
            " 2   2       1000 non-null   object\n",
            " 3   3       1000 non-null   object\n",
            " 4   4       1000 non-null   int64 \n",
            " 5   5       1000 non-null   object\n",
            " 6   6       1000 non-null   object\n",
            " 7   7       1000 non-null   int64 \n",
            " 8   8       1000 non-null   object\n",
            " 9   9       1000 non-null   object\n",
            " 10  10      1000 non-null   int64 \n",
            " 11  11      1000 non-null   object\n",
            " 12  12      1000 non-null   int64 \n",
            " 13  13      1000 non-null   object\n",
            " 14  14      1000 non-null   object\n",
            " 15  15      1000 non-null   int64 \n",
            " 16  16      1000 non-null   object\n",
            " 17  17      1000 non-null   int64 \n",
            " 18  18      1000 non-null   object\n",
            " 19  19      1000 non-null   object\n",
            " 20  20      1000 non-null   int64 \n",
            "dtypes: int64(8), object(13)\n",
            "memory usage: 164.2+ KB\n"
          ],
          "name": "stdout"
        }
      ]
    },
    {
      "cell_type": "markdown",
      "metadata": {
        "id": "AhaU3GFSE-Lj"
      },
      "source": [
        "Check for null values"
      ]
    },
    {
      "cell_type": "code",
      "metadata": {
        "colab": {
          "base_uri": "https://localhost:8080/"
        },
        "id": "Winx7q87FCad",
        "outputId": "4d4d54aa-c6ad-4245-b9bc-51af66be99f2"
      },
      "source": [
        "train.isnull().sum()"
      ],
      "execution_count": 277,
      "outputs": [
        {
          "output_type": "execute_result",
          "data": {
            "text/plain": [
              "0     0\n",
              "1     0\n",
              "2     0\n",
              "3     0\n",
              "4     0\n",
              "5     0\n",
              "6     0\n",
              "7     0\n",
              "8     0\n",
              "9     0\n",
              "10    0\n",
              "11    0\n",
              "12    0\n",
              "13    0\n",
              "14    0\n",
              "15    0\n",
              "16    0\n",
              "17    0\n",
              "18    0\n",
              "19    0\n",
              "20    0\n",
              "dtype: int64"
            ]
          },
          "metadata": {
            "tags": []
          },
          "execution_count": 277
        }
      ]
    },
    {
      "cell_type": "markdown",
      "metadata": {
        "id": "p-9Wq4YfFKhB"
      },
      "source": [
        "Graphical representation"
      ]
    },
    {
      "cell_type": "code",
      "metadata": {
        "colab": {
          "base_uri": "https://localhost:8080/"
        },
        "id": "CAsUJw3jFQq7",
        "outputId": "41268821-1b8b-4aaf-afa8-c68c63950206"
      },
      "source": [
        "risk = train.groupby(20)[20].count()\n",
        "risk/len(train)*100"
      ],
      "execution_count": 278,
      "outputs": [
        {
          "output_type": "execute_result",
          "data": {
            "text/plain": [
              "20\n",
              "1    70.0\n",
              "2    30.0\n",
              "Name: 20, dtype: float64"
            ]
          },
          "metadata": {
            "tags": []
          },
          "execution_count": 278
        }
      ]
    },
    {
      "cell_type": "code",
      "metadata": {
        "colab": {
          "base_uri": "https://localhost:8080/",
          "height": 276
        },
        "id": "6Px8ldlFF82B",
        "outputId": "7a412c8d-3a3d-47f0-f346-8fece09cf83b"
      },
      "source": [
        "train.groupby(20)[20].count().plot.bar(ylim=0)\n",
        "plt.show()"
      ],
      "execution_count": 279,
      "outputs": [
        {
          "output_type": "display_data",
          "data": {
            "image/png": "[encoded data removed]",
            "text/plain": [
              "<Figure size 432x288 with 1 Axes>"
            ]
          },
          "metadata": {
            "tags": [],
            "needs_background": "light"
          }
        }
      ]
    },
    {
      "cell_type": "markdown",
      "metadata": {
        "id": "sKWcjy_9GsCy"
      },
      "source": [
        "Define X and y"
      ]
    },
    {
      "cell_type": "code",
      "metadata": {
        "id": "tABYZJeLGwJP"
      },
      "source": [
        "y = train[20]\n",
        "X = train.drop([20], axis = 1)"
      ],
      "execution_count": 280,
      "outputs": []
    },
    {
      "cell_type": "markdown",
      "metadata": {
        "id": "EvI-XRggGInP"
      },
      "source": [
        "Column transformer"
      ]
    },
    {
      "cell_type": "code",
      "metadata": {
        "colab": {
          "base_uri": "https://localhost:8080/"
        },
        "id": "bk_P4ZdNJ8oQ",
        "outputId": "c74c0abd-d81c-4786-97e8-d0280a22389d"
      },
      "source": [
        "X.info()"
      ],
      "execution_count": 281,
      "outputs": [
        {
          "output_type": "stream",
          "text": [
            "<class 'pandas.core.frame.DataFrame'>\n",
            "RangeIndex: 1000 entries, 0 to 999\n",
            "Data columns (total 20 columns):\n",
            " #   Column  Non-Null Count  Dtype \n",
            "---  ------  --------------  ----- \n",
            " 0   0       1000 non-null   object\n",
            " 1   1       1000 non-null   int64 \n",
            " 2   2       1000 non-null   object\n",
            " 3   3       1000 non-null   object\n",
            " 4   4       1000 non-null   int64 \n",
            " 5   5       1000 non-null   object\n",
            " 6   6       1000 non-null   object\n",
            " 7   7       1000 non-null   int64 \n",
            " 8   8       1000 non-null   object\n",
            " 9   9       1000 non-null   object\n",
            " 10  10      1000 non-null   int64 \n",
            " 11  11      1000 non-null   object\n",
            " 12  12      1000 non-null   int64 \n",
            " 13  13      1000 non-null   object\n",
            " 14  14      1000 non-null   object\n",
            " 15  15      1000 non-null   int64 \n",
            " 16  16      1000 non-null   object\n",
            " 17  17      1000 non-null   int64 \n",
            " 18  18      1000 non-null   object\n",
            " 19  19      1000 non-null   object\n",
            "dtypes: int64(7), object(13)\n",
            "memory usage: 156.4+ KB\n"
          ],
          "name": "stdout"
        }
      ]
    },
    {
      "cell_type": "code",
      "metadata": {
        "id": "h40GgXXwGNVI"
      },
      "source": [
        "from sklearn.compose import ColumnTransformer\n",
        "from sklearn.datasets import fetch_openml\n",
        "from sklearn.pipeline import Pipeline\n",
        "from sklearn.impute import SimpleImputer\n",
        "from sklearn.preprocessing import StandardScaler, OneHotEncoder\n",
        "from sklearn.experimental import enable_iterative_imputer\n",
        "from sklearn.impute import IterativeImputer\n",
        "\n",
        "numeric_features = [1, 4, 7, 10, 12, 15, 17]\n",
        "numeric_transformer = Pipeline(steps=[('imputer', IterativeImputer(random_state=1)),\n",
        "    ('scaler', StandardScaler())])\n",
        "\n",
        "categorical_features = [0, 2, 3, 5, 6, 8, 9, 11, 13, 14, 16, 18, 19]\n",
        "categorical_transformer = Pipeline(steps=[('imputer', SimpleImputer(strategy='constant', fill_value='missing')),\n",
        "    ('onehot', OneHotEncoder(handle_unknown='ignore'))])\n",
        "\n",
        "preprocessor = ColumnTransformer(transformers=[\n",
        "        ('num', numeric_transformer, numeric_features),\n",
        "        ('cat', categorical_transformer, categorical_features)\n",
        "        ])"
      ],
      "execution_count": 282,
      "outputs": []
    },
    {
      "cell_type": "markdown",
      "metadata": {
        "id": "64Csr9Z_IjcA"
      },
      "source": [
        "Split X for training and validation"
      ]
    },
    {
      "cell_type": "code",
      "metadata": {
        "colab": {
          "base_uri": "https://localhost:8080/"
        },
        "id": "REFaGSTGIo6f",
        "outputId": "03ce3176-c464-40ba-f561-900559b6f41a"
      },
      "source": [
        "#split training set for training and testing\n",
        "from sklearn.model_selection import train_test_split\n",
        "\n",
        "X_train, X_val, y_train, y_val = train_test_split(X, y, random_state=1, test_size=0.10, shuffle=True, stratify=y)\n",
        "X_train.shape, X_val.shape, y_train.shape, y_val.shape"
      ],
      "execution_count": 283,
      "outputs": [
        {
          "output_type": "execute_result",
          "data": {
            "text/plain": [
              "((900, 20), (100, 20), (900,), (100,))"
            ]
          },
          "metadata": {
            "tags": []
          },
          "execution_count": 283
        }
      ]
    },
    {
      "cell_type": "markdown",
      "metadata": {
        "id": "9E_bwCupJFCZ"
      },
      "source": [
        "Create Catboost pipeline"
      ]
    },
    {
      "cell_type": "code",
      "metadata": {
        "colab": {
          "base_uri": "https://localhost:8080/"
        },
        "id": "pv5uX3F1JJJe",
        "outputId": "8c45f21c-fce8-44a1-d682-dce05d330a6c"
      },
      "source": [
        "!pip install catboost"
      ],
      "execution_count": 284,
      "outputs": [
        {
          "output_type": "stream",
          "text": [
            "Requirement already satisfied: catboost in /usr/local/lib/python3.6/dist-packages (0.24.3)\n",
            "Requirement already satisfied: six in /usr/local/lib/python3.6/dist-packages (from catboost) (1.15.0)\n",
            "Requirement already satisfied: matplotlib in /usr/local/lib/python3.6/dist-packages (from catboost) (3.2.2)\n",
            "Requirement already satisfied: numpy>=1.16.0 in /usr/local/lib/python3.6/dist-packages (from catboost) (1.18.5)\n",
            "Requirement already satisfied: graphviz in /usr/local/lib/python3.6/dist-packages (from catboost) (0.10.1)\n",
            "Requirement already satisfied: pandas>=0.24.0 in /usr/local/lib/python3.6/dist-packages (from catboost) (1.1.4)\n",
            "Requirement already satisfied: plotly in /usr/local/lib/python3.6/dist-packages (from catboost) (4.4.1)\n",
            "Requirement already satisfied: scipy in /usr/local/lib/python3.6/dist-packages (from catboost) (1.4.1)\n",
            "Requirement already satisfied: cycler>=0.10 in /usr/local/lib/python3.6/dist-packages (from matplotlib->catboost) (0.10.0)\n",
            "Requirement already satisfied: python-dateutil>=2.1 in /usr/local/lib/python3.6/dist-packages (from matplotlib->catboost) (2.8.1)\n",
            "Requirement already satisfied: pyparsing!=2.0.4,!=2.1.2,!=2.1.6,>=2.0.1 in /usr/local/lib/python3.6/dist-packages (from matplotlib->catboost) (2.4.7)\n",
            "Requirement already satisfied: kiwisolver>=1.0.1 in /usr/local/lib/python3.6/dist-packages (from matplotlib->catboost) (1.3.1)\n",
            "Requirement already satisfied: pytz>=2017.2 in /usr/local/lib/python3.6/dist-packages (from pandas>=0.24.0->catboost) (2018.9)\n",
            "Requirement already satisfied: retrying>=1.3.3 in /usr/local/lib/python3.6/dist-packages (from plotly->catboost) (1.3.3)\n"
          ],
          "name": "stdout"
        }
      ]
    },
    {
      "cell_type": "code",
      "metadata": {
        "colab": {
          "base_uri": "https://localhost:8080/"
        },
        "id": "A1jDIxbdJPpC",
        "outputId": "67b56030-f2fa-4fb9-e54d-60d2e1cbc491"
      },
      "source": [
        "from sklearn.pipeline import make_pipeline, Pipeline\n",
        "from catboost import CatBoostClassifier\n",
        "\n",
        "model = Pipeline(steps=[('preprocessor', preprocessor),\n",
        "                      ('regressor', CatBoostClassifier(class_weights=[0.3, 0.7], iterations=500, learning_rate=0.1, depth=5, random_state=1))])\n",
        "model.fit(X_train, y_train)\n",
        "print(model.score(X_train, y_train))"
      ],
      "execution_count": 285,
      "outputs": [
        {
          "output_type": "stream",
          "text": [
            "0:\tlearn: 0.6697908\ttotal: 2.73ms\tremaining: 1.36s\n",
            "1:\tlearn: 0.6506452\ttotal: 4.53ms\tremaining: 1.13s\n",
            "2:\tlearn: 0.6294932\ttotal: 6.02ms\tremaining: 998ms\n",
            "3:\tlearn: 0.6159455\ttotal: 7.53ms\tremaining: 933ms\n",
            "4:\tlearn: 0.6018310\ttotal: 8.95ms\tremaining: 886ms\n",
            "5:\tlearn: 0.5922579\ttotal: 10.4ms\tremaining: 855ms\n",
            "6:\tlearn: 0.5812153\ttotal: 11.8ms\tremaining: 833ms\n",
            "7:\tlearn: 0.5721043\ttotal: 13.3ms\tremaining: 818ms\n",
            "8:\tlearn: 0.5632930\ttotal: 14.8ms\tremaining: 808ms\n",
            "9:\tlearn: 0.5526683\ttotal: 16.3ms\tremaining: 797ms\n",
            "10:\tlearn: 0.5421167\ttotal: 17.7ms\tremaining: 786ms\n",
            "11:\tlearn: 0.5350390\ttotal: 19.1ms\tremaining: 776ms\n",
            "12:\tlearn: 0.5278813\ttotal: 20.5ms\tremaining: 769ms\n",
            "13:\tlearn: 0.5230082\ttotal: 21.9ms\tremaining: 762ms\n",
            "14:\tlearn: 0.5154116\ttotal: 23.4ms\tremaining: 757ms\n",
            "15:\tlearn: 0.5093009\ttotal: 24.8ms\tremaining: 751ms\n",
            "16:\tlearn: 0.5020106\ttotal: 26.3ms\tremaining: 747ms\n",
            "17:\tlearn: 0.4972431\ttotal: 27.7ms\tremaining: 742ms\n",
            "18:\tlearn: 0.4908343\ttotal: 29.1ms\tremaining: 738ms\n",
            "19:\tlearn: 0.4852556\ttotal: 30.7ms\tremaining: 736ms\n",
            "20:\tlearn: 0.4804996\ttotal: 32.1ms\tremaining: 732ms\n",
            "21:\tlearn: 0.4770547\ttotal: 33.5ms\tremaining: 728ms\n",
            "22:\tlearn: 0.4722687\ttotal: 34.9ms\tremaining: 725ms\n",
            "23:\tlearn: 0.4680743\ttotal: 36.4ms\tremaining: 721ms\n",
            "24:\tlearn: 0.4624607\ttotal: 37.8ms\tremaining: 718ms\n",
            "25:\tlearn: 0.4575113\ttotal: 39.2ms\tremaining: 714ms\n",
            "26:\tlearn: 0.4523210\ttotal: 40.6ms\tremaining: 711ms\n",
            "27:\tlearn: 0.4486786\ttotal: 42ms\tremaining: 708ms\n",
            "28:\tlearn: 0.4436668\ttotal: 43.4ms\tremaining: 705ms\n",
            "29:\tlearn: 0.4393073\ttotal: 45ms\tremaining: 704ms\n",
            "30:\tlearn: 0.4352200\ttotal: 46.3ms\tremaining: 701ms\n",
            "31:\tlearn: 0.4306400\ttotal: 47.8ms\tremaining: 699ms\n",
            "32:\tlearn: 0.4271569\ttotal: 49.2ms\tremaining: 696ms\n",
            "33:\tlearn: 0.4241964\ttotal: 50.6ms\tremaining: 693ms\n",
            "34:\tlearn: 0.4209550\ttotal: 52ms\tremaining: 691ms\n",
            "35:\tlearn: 0.4172821\ttotal: 53.4ms\tremaining: 689ms\n",
            "36:\tlearn: 0.4146968\ttotal: 54.8ms\tremaining: 686ms\n",
            "37:\tlearn: 0.4112427\ttotal: 56.2ms\tremaining: 684ms\n",
            "38:\tlearn: 0.4089180\ttotal: 57.7ms\tremaining: 682ms\n",
            "39:\tlearn: 0.4076082\ttotal: 59.1ms\tremaining: 679ms\n",
            "40:\tlearn: 0.4054451\ttotal: 60.5ms\tremaining: 677ms\n",
            "41:\tlearn: 0.4011746\ttotal: 61.9ms\tremaining: 675ms\n",
            "42:\tlearn: 0.3986533\ttotal: 63.3ms\tremaining: 673ms\n",
            "43:\tlearn: 0.3962101\ttotal: 64.7ms\tremaining: 671ms\n",
            "44:\tlearn: 0.3936699\ttotal: 66.1ms\tremaining: 668ms\n",
            "45:\tlearn: 0.3906177\ttotal: 67.6ms\tremaining: 667ms\n",
            "46:\tlearn: 0.3875239\ttotal: 69ms\tremaining: 665ms\n",
            "47:\tlearn: 0.3832629\ttotal: 70.4ms\tremaining: 663ms\n",
            "48:\tlearn: 0.3801490\ttotal: 71.8ms\tremaining: 661ms\n",
            "49:\tlearn: 0.3773631\ttotal: 73.2ms\tremaining: 659ms\n",
            "50:\tlearn: 0.3748375\ttotal: 74.7ms\tremaining: 657ms\n",
            "51:\tlearn: 0.3726165\ttotal: 76.2ms\tremaining: 656ms\n",
            "52:\tlearn: 0.3708977\ttotal: 77.6ms\tremaining: 654ms\n",
            "53:\tlearn: 0.3680560\ttotal: 79ms\tremaining: 652ms\n",
            "54:\tlearn: 0.3644941\ttotal: 80.4ms\tremaining: 650ms\n",
            "55:\tlearn: 0.3617799\ttotal: 81.8ms\tremaining: 649ms\n",
            "56:\tlearn: 0.3585917\ttotal: 83.2ms\tremaining: 647ms\n",
            "57:\tlearn: 0.3553329\ttotal: 84.6ms\tremaining: 645ms\n",
            "58:\tlearn: 0.3523243\ttotal: 86ms\tremaining: 643ms\n",
            "59:\tlearn: 0.3496488\ttotal: 87.4ms\tremaining: 641ms\n",
            "60:\tlearn: 0.3465015\ttotal: 88.9ms\tremaining: 640ms\n",
            "61:\tlearn: 0.3429146\ttotal: 90.3ms\tremaining: 638ms\n",
            "62:\tlearn: 0.3406791\ttotal: 91.7ms\tremaining: 636ms\n",
            "63:\tlearn: 0.3373886\ttotal: 93.1ms\tremaining: 634ms\n",
            "64:\tlearn: 0.3342561\ttotal: 94.5ms\tremaining: 633ms\n",
            "65:\tlearn: 0.3311886\ttotal: 96ms\tremaining: 631ms\n",
            "66:\tlearn: 0.3286032\ttotal: 97.5ms\tremaining: 630ms\n",
            "67:\tlearn: 0.3267978\ttotal: 98.9ms\tremaining: 629ms\n",
            "68:\tlearn: 0.3257384\ttotal: 100ms\tremaining: 627ms\n",
            "69:\tlearn: 0.3241634\ttotal: 102ms\tremaining: 625ms\n",
            "70:\tlearn: 0.3217521\ttotal: 103ms\tremaining: 623ms\n",
            "71:\tlearn: 0.3199985\ttotal: 105ms\tremaining: 621ms\n",
            "72:\tlearn: 0.3177036\ttotal: 106ms\tremaining: 620ms\n",
            "73:\tlearn: 0.3154771\ttotal: 108ms\tremaining: 619ms\n",
            "74:\tlearn: 0.3132484\ttotal: 109ms\tremaining: 618ms\n",
            "75:\tlearn: 0.3121331\ttotal: 110ms\tremaining: 616ms\n",
            "76:\tlearn: 0.3091173\ttotal: 112ms\tremaining: 614ms\n",
            "77:\tlearn: 0.3077709\ttotal: 113ms\tremaining: 613ms\n",
            "78:\tlearn: 0.3037170\ttotal: 115ms\tremaining: 611ms\n",
            "79:\tlearn: 0.3020534\ttotal: 116ms\tremaining: 610ms\n",
            "80:\tlearn: 0.2987106\ttotal: 118ms\tremaining: 609ms\n",
            "81:\tlearn: 0.2960325\ttotal: 119ms\tremaining: 608ms\n",
            "82:\tlearn: 0.2935000\ttotal: 121ms\tremaining: 606ms\n",
            "83:\tlearn: 0.2900643\ttotal: 122ms\tremaining: 604ms\n",
            "84:\tlearn: 0.2880477\ttotal: 123ms\tremaining: 603ms\n",
            "85:\tlearn: 0.2855185\ttotal: 125ms\tremaining: 601ms\n",
            "86:\tlearn: 0.2821901\ttotal: 126ms\tremaining: 599ms\n",
            "87:\tlearn: 0.2803294\ttotal: 128ms\tremaining: 598ms\n",
            "88:\tlearn: 0.2781418\ttotal: 129ms\tremaining: 596ms\n",
            "89:\tlearn: 0.2770348\ttotal: 131ms\tremaining: 595ms\n",
            "90:\tlearn: 0.2744179\ttotal: 132ms\tremaining: 593ms\n",
            "91:\tlearn: 0.2722152\ttotal: 133ms\tremaining: 591ms\n",
            "92:\tlearn: 0.2699584\ttotal: 135ms\tremaining: 590ms\n",
            "93:\tlearn: 0.2669049\ttotal: 136ms\tremaining: 588ms\n",
            "94:\tlearn: 0.2648797\ttotal: 138ms\tremaining: 587ms\n",
            "95:\tlearn: 0.2639880\ttotal: 139ms\tremaining: 586ms\n",
            "96:\tlearn: 0.2619373\ttotal: 141ms\tremaining: 584ms\n",
            "97:\tlearn: 0.2609925\ttotal: 142ms\tremaining: 582ms\n",
            "98:\tlearn: 0.2577026\ttotal: 143ms\tremaining: 581ms\n",
            "99:\tlearn: 0.2536969\ttotal: 145ms\tremaining: 579ms\n",
            "100:\tlearn: 0.2522545\ttotal: 146ms\tremaining: 578ms\n",
            "101:\tlearn: 0.2497618\ttotal: 148ms\tremaining: 577ms\n",
            "102:\tlearn: 0.2477805\ttotal: 149ms\tremaining: 575ms\n",
            "103:\tlearn: 0.2461869\ttotal: 151ms\tremaining: 573ms\n",
            "104:\tlearn: 0.2439568\ttotal: 152ms\tremaining: 572ms\n",
            "105:\tlearn: 0.2413553\ttotal: 153ms\tremaining: 570ms\n",
            "106:\tlearn: 0.2401756\ttotal: 155ms\tremaining: 569ms\n",
            "107:\tlearn: 0.2385768\ttotal: 156ms\tremaining: 567ms\n",
            "108:\tlearn: 0.2371603\ttotal: 158ms\tremaining: 566ms\n",
            "109:\tlearn: 0.2354411\ttotal: 159ms\tremaining: 564ms\n",
            "110:\tlearn: 0.2339755\ttotal: 161ms\tremaining: 563ms\n",
            "111:\tlearn: 0.2323623\ttotal: 162ms\tremaining: 561ms\n",
            "112:\tlearn: 0.2309851\ttotal: 163ms\tremaining: 559ms\n",
            "113:\tlearn: 0.2289387\ttotal: 165ms\tremaining: 558ms\n",
            "114:\tlearn: 0.2277796\ttotal: 166ms\tremaining: 556ms\n",
            "115:\tlearn: 0.2263484\ttotal: 168ms\tremaining: 555ms\n",
            "116:\tlearn: 0.2244134\ttotal: 169ms\tremaining: 554ms\n",
            "117:\tlearn: 0.2224807\ttotal: 171ms\tremaining: 552ms\n",
            "118:\tlearn: 0.2201250\ttotal: 172ms\tremaining: 551ms\n",
            "119:\tlearn: 0.2187614\ttotal: 174ms\tremaining: 549ms\n",
            "120:\tlearn: 0.2165754\ttotal: 175ms\tremaining: 548ms\n",
            "121:\tlearn: 0.2151051\ttotal: 176ms\tremaining: 547ms\n",
            "122:\tlearn: 0.2139746\ttotal: 178ms\tremaining: 545ms\n",
            "123:\tlearn: 0.2118318\ttotal: 179ms\tremaining: 544ms\n",
            "124:\tlearn: 0.2100580\ttotal: 181ms\tremaining: 542ms\n",
            "125:\tlearn: 0.2082135\ttotal: 182ms\tremaining: 541ms\n",
            "126:\tlearn: 0.2070721\ttotal: 184ms\tremaining: 539ms\n",
            "127:\tlearn: 0.2056221\ttotal: 185ms\tremaining: 538ms\n",
            "128:\tlearn: 0.2040417\ttotal: 186ms\tremaining: 536ms\n",
            "129:\tlearn: 0.2023644\ttotal: 191ms\tremaining: 543ms\n",
            "130:\tlearn: 0.2010723\ttotal: 194ms\tremaining: 545ms\n",
            "131:\tlearn: 0.1996338\ttotal: 195ms\tremaining: 543ms\n",
            "132:\tlearn: 0.1979806\ttotal: 196ms\tremaining: 542ms\n",
            "133:\tlearn: 0.1962514\ttotal: 198ms\tremaining: 541ms\n",
            "134:\tlearn: 0.1950685\ttotal: 199ms\tremaining: 539ms\n",
            "135:\tlearn: 0.1932101\ttotal: 201ms\tremaining: 537ms\n",
            "136:\tlearn: 0.1919389\ttotal: 203ms\tremaining: 537ms\n",
            "137:\tlearn: 0.1905194\ttotal: 205ms\tremaining: 536ms\n",
            "138:\tlearn: 0.1895634\ttotal: 207ms\tremaining: 537ms\n",
            "139:\tlearn: 0.1889368\ttotal: 209ms\tremaining: 537ms\n",
            "140:\tlearn: 0.1878128\ttotal: 211ms\tremaining: 537ms\n",
            "141:\tlearn: 0.1866359\ttotal: 213ms\tremaining: 536ms\n",
            "142:\tlearn: 0.1856081\ttotal: 215ms\tremaining: 538ms\n",
            "143:\tlearn: 0.1844446\ttotal: 217ms\tremaining: 536ms\n",
            "144:\tlearn: 0.1828096\ttotal: 218ms\tremaining: 534ms\n",
            "145:\tlearn: 0.1812862\ttotal: 220ms\tremaining: 533ms\n",
            "146:\tlearn: 0.1803551\ttotal: 221ms\tremaining: 531ms\n",
            "147:\tlearn: 0.1791074\ttotal: 223ms\tremaining: 529ms\n",
            "148:\tlearn: 0.1781110\ttotal: 224ms\tremaining: 528ms\n",
            "149:\tlearn: 0.1774017\ttotal: 225ms\tremaining: 526ms\n",
            "150:\tlearn: 0.1765365\ttotal: 227ms\tremaining: 524ms\n",
            "151:\tlearn: 0.1751222\ttotal: 228ms\tremaining: 523ms\n",
            "152:\tlearn: 0.1745576\ttotal: 230ms\tremaining: 521ms\n",
            "153:\tlearn: 0.1735986\ttotal: 231ms\tremaining: 519ms\n",
            "154:\tlearn: 0.1727844\ttotal: 233ms\tremaining: 518ms\n",
            "155:\tlearn: 0.1709969\ttotal: 234ms\tremaining: 516ms\n",
            "156:\tlearn: 0.1705470\ttotal: 235ms\tremaining: 514ms\n",
            "157:\tlearn: 0.1698890\ttotal: 237ms\tremaining: 513ms\n",
            "158:\tlearn: 0.1686197\ttotal: 238ms\tremaining: 511ms\n",
            "159:\tlearn: 0.1671739\ttotal: 240ms\tremaining: 509ms\n",
            "160:\tlearn: 0.1664357\ttotal: 241ms\tremaining: 508ms\n",
            "161:\tlearn: 0.1649749\ttotal: 242ms\tremaining: 506ms\n",
            "162:\tlearn: 0.1642720\ttotal: 244ms\tremaining: 504ms\n",
            "163:\tlearn: 0.1635134\ttotal: 245ms\tremaining: 503ms\n",
            "164:\tlearn: 0.1626082\ttotal: 247ms\tremaining: 501ms\n",
            "165:\tlearn: 0.1619078\ttotal: 248ms\tremaining: 499ms\n",
            "166:\tlearn: 0.1607733\ttotal: 250ms\tremaining: 498ms\n",
            "167:\tlearn: 0.1594655\ttotal: 251ms\tremaining: 496ms\n",
            "168:\tlearn: 0.1585322\ttotal: 252ms\tremaining: 494ms\n",
            "169:\tlearn: 0.1576571\ttotal: 254ms\tremaining: 493ms\n",
            "170:\tlearn: 0.1563979\ttotal: 255ms\tremaining: 491ms\n",
            "171:\tlearn: 0.1553364\ttotal: 257ms\tremaining: 490ms\n",
            "172:\tlearn: 0.1548776\ttotal: 258ms\tremaining: 488ms\n",
            "173:\tlearn: 0.1542987\ttotal: 260ms\tremaining: 486ms\n",
            "174:\tlearn: 0.1533524\ttotal: 261ms\tremaining: 485ms\n",
            "175:\tlearn: 0.1521973\ttotal: 262ms\tremaining: 483ms\n",
            "176:\tlearn: 0.1510878\ttotal: 264ms\tremaining: 482ms\n",
            "177:\tlearn: 0.1493628\ttotal: 265ms\tremaining: 480ms\n",
            "178:\tlearn: 0.1487574\ttotal: 267ms\tremaining: 478ms\n",
            "179:\tlearn: 0.1480258\ttotal: 268ms\tremaining: 477ms\n",
            "180:\tlearn: 0.1465788\ttotal: 270ms\tremaining: 475ms\n",
            "181:\tlearn: 0.1457051\ttotal: 271ms\tremaining: 473ms\n",
            "182:\tlearn: 0.1448432\ttotal: 272ms\tremaining: 472ms\n",
            "183:\tlearn: 0.1438471\ttotal: 274ms\tremaining: 470ms\n",
            "184:\tlearn: 0.1434950\ttotal: 275ms\tremaining: 469ms\n",
            "185:\tlearn: 0.1426950\ttotal: 277ms\tremaining: 467ms\n",
            "186:\tlearn: 0.1421575\ttotal: 278ms\tremaining: 465ms\n",
            "187:\tlearn: 0.1417758\ttotal: 279ms\tremaining: 464ms\n",
            "188:\tlearn: 0.1410827\ttotal: 281ms\tremaining: 462ms\n",
            "189:\tlearn: 0.1402217\ttotal: 282ms\tremaining: 460ms\n",
            "190:\tlearn: 0.1393324\ttotal: 284ms\tremaining: 459ms\n",
            "191:\tlearn: 0.1380284\ttotal: 285ms\tremaining: 458ms\n",
            "192:\tlearn: 0.1369910\ttotal: 288ms\tremaining: 458ms\n",
            "193:\tlearn: 0.1361789\ttotal: 289ms\tremaining: 457ms\n",
            "194:\tlearn: 0.1354160\ttotal: 291ms\tremaining: 455ms\n",
            "195:\tlearn: 0.1348156\ttotal: 293ms\tremaining: 454ms\n",
            "196:\tlearn: 0.1342176\ttotal: 294ms\tremaining: 452ms\n",
            "197:\tlearn: 0.1334558\ttotal: 295ms\tremaining: 451ms\n",
            "198:\tlearn: 0.1325463\ttotal: 297ms\tremaining: 449ms\n",
            "199:\tlearn: 0.1319865\ttotal: 298ms\tremaining: 447ms\n",
            "200:\tlearn: 0.1311918\ttotal: 300ms\tremaining: 446ms\n",
            "201:\tlearn: 0.1304879\ttotal: 301ms\tremaining: 444ms\n",
            "202:\tlearn: 0.1296821\ttotal: 303ms\tremaining: 443ms\n",
            "203:\tlearn: 0.1288359\ttotal: 304ms\tremaining: 441ms\n",
            "204:\tlearn: 0.1280173\ttotal: 305ms\tremaining: 439ms\n",
            "205:\tlearn: 0.1270393\ttotal: 307ms\tremaining: 438ms\n",
            "206:\tlearn: 0.1263756\ttotal: 308ms\tremaining: 436ms\n",
            "207:\tlearn: 0.1260788\ttotal: 310ms\tremaining: 435ms\n",
            "208:\tlearn: 0.1254369\ttotal: 311ms\tremaining: 433ms\n",
            "209:\tlearn: 0.1250026\ttotal: 313ms\tremaining: 432ms\n",
            "210:\tlearn: 0.1245089\ttotal: 314ms\tremaining: 430ms\n",
            "211:\tlearn: 0.1237220\ttotal: 315ms\tremaining: 429ms\n",
            "212:\tlearn: 0.1232665\ttotal: 317ms\tremaining: 427ms\n",
            "213:\tlearn: 0.1224659\ttotal: 318ms\tremaining: 425ms\n",
            "214:\tlearn: 0.1222963\ttotal: 320ms\tremaining: 424ms\n",
            "215:\tlearn: 0.1217205\ttotal: 321ms\tremaining: 422ms\n",
            "216:\tlearn: 0.1212155\ttotal: 323ms\tremaining: 421ms\n",
            "217:\tlearn: 0.1206267\ttotal: 324ms\tremaining: 419ms\n",
            "218:\tlearn: 0.1200813\ttotal: 325ms\tremaining: 418ms\n",
            "219:\tlearn: 0.1189920\ttotal: 327ms\tremaining: 416ms\n",
            "220:\tlearn: 0.1179600\ttotal: 328ms\tremaining: 414ms\n",
            "221:\tlearn: 0.1175288\ttotal: 330ms\tremaining: 413ms\n",
            "222:\tlearn: 0.1166811\ttotal: 331ms\tremaining: 411ms\n",
            "223:\tlearn: 0.1162015\ttotal: 332ms\tremaining: 410ms\n",
            "224:\tlearn: 0.1149722\ttotal: 334ms\tremaining: 408ms\n",
            "225:\tlearn: 0.1143280\ttotal: 335ms\tremaining: 407ms\n",
            "226:\tlearn: 0.1132293\ttotal: 337ms\tremaining: 405ms\n",
            "227:\tlearn: 0.1124777\ttotal: 338ms\tremaining: 404ms\n",
            "228:\tlearn: 0.1120406\ttotal: 340ms\tremaining: 402ms\n",
            "229:\tlearn: 0.1114546\ttotal: 341ms\tremaining: 400ms\n",
            "230:\tlearn: 0.1108904\ttotal: 342ms\tremaining: 399ms\n",
            "231:\tlearn: 0.1102364\ttotal: 344ms\tremaining: 397ms\n",
            "232:\tlearn: 0.1097047\ttotal: 345ms\tremaining: 396ms\n",
            "233:\tlearn: 0.1091742\ttotal: 347ms\tremaining: 394ms\n",
            "234:\tlearn: 0.1085313\ttotal: 348ms\tremaining: 393ms\n",
            "235:\tlearn: 0.1082092\ttotal: 350ms\tremaining: 391ms\n",
            "236:\tlearn: 0.1077598\ttotal: 351ms\tremaining: 390ms\n",
            "237:\tlearn: 0.1070852\ttotal: 353ms\tremaining: 388ms\n",
            "238:\tlearn: 0.1060460\ttotal: 354ms\tremaining: 387ms\n",
            "239:\tlearn: 0.1056207\ttotal: 356ms\tremaining: 385ms\n",
            "240:\tlearn: 0.1050749\ttotal: 357ms\tremaining: 384ms\n",
            "241:\tlearn: 0.1045351\ttotal: 358ms\tremaining: 382ms\n",
            "242:\tlearn: 0.1037494\ttotal: 360ms\tremaining: 381ms\n",
            "243:\tlearn: 0.1025934\ttotal: 361ms\tremaining: 379ms\n",
            "244:\tlearn: 0.1022043\ttotal: 363ms\tremaining: 378ms\n",
            "245:\tlearn: 0.1020967\ttotal: 364ms\tremaining: 376ms\n",
            "246:\tlearn: 0.1019126\ttotal: 366ms\tremaining: 374ms\n",
            "247:\tlearn: 0.1016270\ttotal: 367ms\tremaining: 373ms\n",
            "248:\tlearn: 0.1009353\ttotal: 368ms\tremaining: 371ms\n",
            "249:\tlearn: 0.1006121\ttotal: 370ms\tremaining: 370ms\n",
            "250:\tlearn: 0.1002366\ttotal: 371ms\tremaining: 368ms\n",
            "251:\tlearn: 0.0995112\ttotal: 373ms\tremaining: 367ms\n",
            "252:\tlearn: 0.0987830\ttotal: 374ms\tremaining: 365ms\n",
            "253:\tlearn: 0.0978917\ttotal: 376ms\tremaining: 364ms\n",
            "254:\tlearn: 0.0973329\ttotal: 378ms\tremaining: 363ms\n",
            "255:\tlearn: 0.0967080\ttotal: 380ms\tremaining: 363ms\n",
            "256:\tlearn: 0.0963912\ttotal: 384ms\tremaining: 363ms\n",
            "257:\tlearn: 0.0959638\ttotal: 387ms\tremaining: 363ms\n",
            "258:\tlearn: 0.0952155\ttotal: 389ms\tremaining: 362ms\n",
            "259:\tlearn: 0.0948881\ttotal: 392ms\tremaining: 362ms\n",
            "260:\tlearn: 0.0944456\ttotal: 394ms\tremaining: 361ms\n",
            "261:\tlearn: 0.0938898\ttotal: 395ms\tremaining: 359ms\n",
            "262:\tlearn: 0.0936737\ttotal: 398ms\tremaining: 359ms\n",
            "263:\tlearn: 0.0935577\ttotal: 400ms\tremaining: 358ms\n",
            "264:\tlearn: 0.0931686\ttotal: 403ms\tremaining: 357ms\n",
            "265:\tlearn: 0.0926007\ttotal: 405ms\tremaining: 356ms\n",
            "266:\tlearn: 0.0920741\ttotal: 407ms\tremaining: 356ms\n",
            "267:\tlearn: 0.0915950\ttotal: 410ms\tremaining: 355ms\n",
            "268:\tlearn: 0.0911610\ttotal: 411ms\tremaining: 353ms\n",
            "269:\tlearn: 0.0910795\ttotal: 413ms\tremaining: 351ms\n",
            "270:\tlearn: 0.0904521\ttotal: 414ms\tremaining: 350ms\n",
            "271:\tlearn: 0.0900278\ttotal: 416ms\tremaining: 348ms\n",
            "272:\tlearn: 0.0895049\ttotal: 417ms\tremaining: 347ms\n",
            "273:\tlearn: 0.0888901\ttotal: 418ms\tremaining: 345ms\n",
            "274:\tlearn: 0.0881421\ttotal: 420ms\tremaining: 344ms\n",
            "275:\tlearn: 0.0875242\ttotal: 421ms\tremaining: 342ms\n",
            "276:\tlearn: 0.0871395\ttotal: 423ms\tremaining: 340ms\n",
            "277:\tlearn: 0.0866104\ttotal: 424ms\tremaining: 339ms\n",
            "278:\tlearn: 0.0861194\ttotal: 426ms\tremaining: 337ms\n",
            "279:\tlearn: 0.0853419\ttotal: 427ms\tremaining: 336ms\n",
            "280:\tlearn: 0.0848636\ttotal: 429ms\tremaining: 334ms\n",
            "281:\tlearn: 0.0846053\ttotal: 430ms\tremaining: 332ms\n",
            "282:\tlearn: 0.0841887\ttotal: 431ms\tremaining: 331ms\n",
            "283:\tlearn: 0.0838171\ttotal: 433ms\tremaining: 329ms\n",
            "284:\tlearn: 0.0830973\ttotal: 434ms\tremaining: 328ms\n",
            "285:\tlearn: 0.0827035\ttotal: 436ms\tremaining: 326ms\n",
            "286:\tlearn: 0.0823905\ttotal: 437ms\tremaining: 324ms\n",
            "287:\tlearn: 0.0820495\ttotal: 439ms\tremaining: 323ms\n",
            "288:\tlearn: 0.0815074\ttotal: 440ms\tremaining: 321ms\n",
            "289:\tlearn: 0.0812027\ttotal: 442ms\tremaining: 320ms\n",
            "290:\tlearn: 0.0810656\ttotal: 443ms\tremaining: 318ms\n",
            "291:\tlearn: 0.0806229\ttotal: 444ms\tremaining: 317ms\n",
            "292:\tlearn: 0.0803635\ttotal: 446ms\tremaining: 315ms\n",
            "293:\tlearn: 0.0798957\ttotal: 447ms\tremaining: 313ms\n",
            "294:\tlearn: 0.0792020\ttotal: 449ms\tremaining: 312ms\n",
            "295:\tlearn: 0.0788725\ttotal: 450ms\tremaining: 310ms\n",
            "296:\tlearn: 0.0784975\ttotal: 451ms\tremaining: 309ms\n",
            "297:\tlearn: 0.0782838\ttotal: 453ms\tremaining: 307ms\n",
            "298:\tlearn: 0.0777893\ttotal: 454ms\tremaining: 305ms\n",
            "299:\tlearn: 0.0774975\ttotal: 456ms\tremaining: 304ms\n",
            "300:\tlearn: 0.0772047\ttotal: 457ms\tremaining: 302ms\n",
            "301:\tlearn: 0.0769059\ttotal: 459ms\tremaining: 301ms\n",
            "302:\tlearn: 0.0766648\ttotal: 460ms\tremaining: 299ms\n",
            "303:\tlearn: 0.0765310\ttotal: 461ms\tremaining: 298ms\n",
            "304:\tlearn: 0.0759480\ttotal: 463ms\tremaining: 296ms\n",
            "305:\tlearn: 0.0757216\ttotal: 464ms\tremaining: 294ms\n",
            "306:\tlearn: 0.0753949\ttotal: 466ms\tremaining: 293ms\n",
            "307:\tlearn: 0.0750716\ttotal: 467ms\tremaining: 291ms\n",
            "308:\tlearn: 0.0748286\ttotal: 469ms\tremaining: 290ms\n",
            "309:\tlearn: 0.0745611\ttotal: 470ms\tremaining: 288ms\n",
            "310:\tlearn: 0.0742054\ttotal: 472ms\tremaining: 287ms\n",
            "311:\tlearn: 0.0737137\ttotal: 473ms\tremaining: 285ms\n",
            "312:\tlearn: 0.0735508\ttotal: 474ms\tremaining: 283ms\n",
            "313:\tlearn: 0.0731566\ttotal: 476ms\tremaining: 282ms\n",
            "314:\tlearn: 0.0730615\ttotal: 477ms\tremaining: 280ms\n",
            "315:\tlearn: 0.0728234\ttotal: 479ms\tremaining: 279ms\n",
            "316:\tlearn: 0.0726724\ttotal: 480ms\tremaining: 277ms\n",
            "317:\tlearn: 0.0723990\ttotal: 482ms\tremaining: 276ms\n",
            "318:\tlearn: 0.0720906\ttotal: 483ms\tremaining: 274ms\n",
            "319:\tlearn: 0.0718746\ttotal: 484ms\tremaining: 272ms\n",
            "320:\tlearn: 0.0715746\ttotal: 486ms\tremaining: 271ms\n",
            "321:\tlearn: 0.0711149\ttotal: 487ms\tremaining: 269ms\n",
            "322:\tlearn: 0.0708913\ttotal: 489ms\tremaining: 268ms\n",
            "323:\tlearn: 0.0705777\ttotal: 490ms\tremaining: 266ms\n",
            "324:\tlearn: 0.0699352\ttotal: 491ms\tremaining: 265ms\n",
            "325:\tlearn: 0.0696878\ttotal: 493ms\tremaining: 263ms\n",
            "326:\tlearn: 0.0694253\ttotal: 494ms\tremaining: 262ms\n",
            "327:\tlearn: 0.0690578\ttotal: 496ms\tremaining: 260ms\n",
            "328:\tlearn: 0.0685875\ttotal: 497ms\tremaining: 258ms\n",
            "329:\tlearn: 0.0684356\ttotal: 499ms\tremaining: 257ms\n",
            "330:\tlearn: 0.0684025\ttotal: 500ms\tremaining: 255ms\n",
            "331:\tlearn: 0.0681260\ttotal: 502ms\tremaining: 254ms\n",
            "332:\tlearn: 0.0679755\ttotal: 503ms\tremaining: 252ms\n",
            "333:\tlearn: 0.0676765\ttotal: 505ms\tremaining: 251ms\n",
            "334:\tlearn: 0.0675201\ttotal: 506ms\tremaining: 249ms\n",
            "335:\tlearn: 0.0670039\ttotal: 507ms\tremaining: 248ms\n",
            "336:\tlearn: 0.0667416\ttotal: 509ms\tremaining: 246ms\n",
            "337:\tlearn: 0.0665562\ttotal: 510ms\tremaining: 245ms\n",
            "338:\tlearn: 0.0663105\ttotal: 512ms\tremaining: 243ms\n",
            "339:\tlearn: 0.0660966\ttotal: 513ms\tremaining: 241ms\n",
            "340:\tlearn: 0.0660065\ttotal: 514ms\tremaining: 240ms\n",
            "341:\tlearn: 0.0656190\ttotal: 516ms\tremaining: 238ms\n",
            "342:\tlearn: 0.0654402\ttotal: 517ms\tremaining: 237ms\n",
            "343:\tlearn: 0.0650810\ttotal: 519ms\tremaining: 235ms\n",
            "344:\tlearn: 0.0650249\ttotal: 520ms\tremaining: 234ms\n",
            "345:\tlearn: 0.0648212\ttotal: 522ms\tremaining: 232ms\n",
            "346:\tlearn: 0.0646256\ttotal: 523ms\tremaining: 231ms\n",
            "347:\tlearn: 0.0642633\ttotal: 524ms\tremaining: 229ms\n",
            "348:\tlearn: 0.0638951\ttotal: 526ms\tremaining: 227ms\n",
            "349:\tlearn: 0.0637014\ttotal: 527ms\tremaining: 226ms\n",
            "350:\tlearn: 0.0634551\ttotal: 529ms\tremaining: 224ms\n",
            "351:\tlearn: 0.0631978\ttotal: 530ms\tremaining: 223ms\n",
            "352:\tlearn: 0.0627554\ttotal: 531ms\tremaining: 221ms\n",
            "353:\tlearn: 0.0626010\ttotal: 533ms\tremaining: 220ms\n",
            "354:\tlearn: 0.0623159\ttotal: 534ms\tremaining: 218ms\n",
            "355:\tlearn: 0.0618000\ttotal: 536ms\tremaining: 217ms\n",
            "356:\tlearn: 0.0616126\ttotal: 537ms\tremaining: 215ms\n",
            "357:\tlearn: 0.0613152\ttotal: 539ms\tremaining: 214ms\n",
            "358:\tlearn: 0.0610530\ttotal: 540ms\tremaining: 212ms\n",
            "359:\tlearn: 0.0609249\ttotal: 542ms\tremaining: 211ms\n",
            "360:\tlearn: 0.0608975\ttotal: 543ms\tremaining: 209ms\n",
            "361:\tlearn: 0.0605576\ttotal: 544ms\tremaining: 208ms\n",
            "362:\tlearn: 0.0602825\ttotal: 546ms\tremaining: 206ms\n",
            "363:\tlearn: 0.0600435\ttotal: 547ms\tremaining: 204ms\n",
            "364:\tlearn: 0.0596268\ttotal: 549ms\tremaining: 203ms\n",
            "365:\tlearn: 0.0592573\ttotal: 550ms\tremaining: 201ms\n",
            "366:\tlearn: 0.0588964\ttotal: 552ms\tremaining: 200ms\n",
            "367:\tlearn: 0.0587418\ttotal: 553ms\tremaining: 198ms\n",
            "368:\tlearn: 0.0585103\ttotal: 554ms\tremaining: 197ms\n",
            "369:\tlearn: 0.0583164\ttotal: 556ms\tremaining: 195ms\n",
            "370:\tlearn: 0.0580585\ttotal: 557ms\tremaining: 194ms\n",
            "371:\tlearn: 0.0579036\ttotal: 559ms\tremaining: 192ms\n",
            "372:\tlearn: 0.0577987\ttotal: 561ms\tremaining: 191ms\n",
            "373:\tlearn: 0.0574658\ttotal: 562ms\tremaining: 189ms\n",
            "374:\tlearn: 0.0571982\ttotal: 564ms\tremaining: 188ms\n",
            "375:\tlearn: 0.0570591\ttotal: 567ms\tremaining: 187ms\n",
            "376:\tlearn: 0.0568429\ttotal: 570ms\tremaining: 186ms\n",
            "377:\tlearn: 0.0566711\ttotal: 572ms\tremaining: 185ms\n",
            "378:\tlearn: 0.0565340\ttotal: 575ms\tremaining: 184ms\n",
            "379:\tlearn: 0.0563159\ttotal: 577ms\tremaining: 182ms\n",
            "380:\tlearn: 0.0561702\ttotal: 579ms\tremaining: 181ms\n",
            "381:\tlearn: 0.0557697\ttotal: 580ms\tremaining: 179ms\n",
            "382:\tlearn: 0.0555456\ttotal: 582ms\tremaining: 178ms\n",
            "383:\tlearn: 0.0552682\ttotal: 583ms\tremaining: 176ms\n",
            "384:\tlearn: 0.0547622\ttotal: 585ms\tremaining: 175ms\n",
            "385:\tlearn: 0.0546553\ttotal: 586ms\tremaining: 173ms\n",
            "386:\tlearn: 0.0544323\ttotal: 588ms\tremaining: 172ms\n",
            "387:\tlearn: 0.0542617\ttotal: 589ms\tremaining: 170ms\n",
            "388:\tlearn: 0.0539048\ttotal: 591ms\tremaining: 169ms\n",
            "389:\tlearn: 0.0537778\ttotal: 592ms\tremaining: 167ms\n",
            "390:\tlearn: 0.0536171\ttotal: 593ms\tremaining: 165ms\n",
            "391:\tlearn: 0.0534072\ttotal: 595ms\tremaining: 164ms\n",
            "392:\tlearn: 0.0531403\ttotal: 596ms\tremaining: 162ms\n",
            "393:\tlearn: 0.0529701\ttotal: 598ms\tremaining: 161ms\n",
            "394:\tlearn: 0.0528119\ttotal: 599ms\tremaining: 159ms\n",
            "395:\tlearn: 0.0522927\ttotal: 601ms\tremaining: 158ms\n",
            "396:\tlearn: 0.0521583\ttotal: 602ms\tremaining: 156ms\n",
            "397:\tlearn: 0.0521506\ttotal: 604ms\tremaining: 155ms\n",
            "398:\tlearn: 0.0519885\ttotal: 605ms\tremaining: 153ms\n",
            "399:\tlearn: 0.0517553\ttotal: 607ms\tremaining: 152ms\n",
            "400:\tlearn: 0.0517458\ttotal: 608ms\tremaining: 150ms\n",
            "401:\tlearn: 0.0515893\ttotal: 610ms\tremaining: 149ms\n",
            "402:\tlearn: 0.0513994\ttotal: 611ms\tremaining: 147ms\n",
            "403:\tlearn: 0.0511881\ttotal: 613ms\tremaining: 146ms\n",
            "404:\tlearn: 0.0510403\ttotal: 614ms\tremaining: 144ms\n",
            "405:\tlearn: 0.0506249\ttotal: 616ms\tremaining: 143ms\n",
            "406:\tlearn: 0.0502813\ttotal: 617ms\tremaining: 141ms\n",
            "407:\tlearn: 0.0499149\ttotal: 619ms\tremaining: 139ms\n",
            "408:\tlearn: 0.0496655\ttotal: 620ms\tremaining: 138ms\n",
            "409:\tlearn: 0.0493188\ttotal: 622ms\tremaining: 136ms\n",
            "410:\tlearn: 0.0493139\ttotal: 623ms\tremaining: 135ms\n",
            "411:\tlearn: 0.0492633\ttotal: 624ms\tremaining: 133ms\n",
            "412:\tlearn: 0.0489628\ttotal: 627ms\tremaining: 132ms\n",
            "413:\tlearn: 0.0487955\ttotal: 629ms\tremaining: 131ms\n",
            "414:\tlearn: 0.0486684\ttotal: 630ms\tremaining: 129ms\n",
            "415:\tlearn: 0.0484942\ttotal: 632ms\tremaining: 128ms\n",
            "416:\tlearn: 0.0483175\ttotal: 633ms\tremaining: 126ms\n",
            "417:\tlearn: 0.0480617\ttotal: 634ms\tremaining: 124ms\n",
            "418:\tlearn: 0.0478593\ttotal: 636ms\tremaining: 123ms\n",
            "419:\tlearn: 0.0476883\ttotal: 637ms\tremaining: 121ms\n",
            "420:\tlearn: 0.0474530\ttotal: 639ms\tremaining: 120ms\n",
            "421:\tlearn: 0.0473138\ttotal: 640ms\tremaining: 118ms\n",
            "422:\tlearn: 0.0470317\ttotal: 642ms\tremaining: 117ms\n",
            "423:\tlearn: 0.0468658\ttotal: 643ms\tremaining: 115ms\n",
            "424:\tlearn: 0.0467899\ttotal: 644ms\tremaining: 114ms\n",
            "425:\tlearn: 0.0465871\ttotal: 646ms\tremaining: 112ms\n",
            "426:\tlearn: 0.0462641\ttotal: 647ms\tremaining: 111ms\n",
            "427:\tlearn: 0.0460778\ttotal: 649ms\tremaining: 109ms\n",
            "428:\tlearn: 0.0459928\ttotal: 650ms\tremaining: 108ms\n",
            "429:\tlearn: 0.0456914\ttotal: 652ms\tremaining: 106ms\n",
            "430:\tlearn: 0.0455866\ttotal: 653ms\tremaining: 105ms\n",
            "431:\tlearn: 0.0455461\ttotal: 654ms\tremaining: 103ms\n",
            "432:\tlearn: 0.0453188\ttotal: 656ms\tremaining: 101ms\n",
            "433:\tlearn: 0.0452483\ttotal: 657ms\tremaining: 100ms\n",
            "434:\tlearn: 0.0450331\ttotal: 659ms\tremaining: 98.4ms\n",
            "435:\tlearn: 0.0449299\ttotal: 660ms\tremaining: 96.9ms\n",
            "436:\tlearn: 0.0446201\ttotal: 662ms\tremaining: 95.4ms\n",
            "437:\tlearn: 0.0444309\ttotal: 663ms\tremaining: 93.8ms\n",
            "438:\tlearn: 0.0443546\ttotal: 664ms\tremaining: 92.3ms\n",
            "439:\tlearn: 0.0442394\ttotal: 666ms\tremaining: 90.9ms\n",
            "440:\tlearn: 0.0440928\ttotal: 669ms\tremaining: 89.5ms\n",
            "441:\tlearn: 0.0439075\ttotal: 671ms\tremaining: 88ms\n",
            "442:\tlearn: 0.0439074\ttotal: 672ms\tremaining: 86.5ms\n",
            "443:\tlearn: 0.0437050\ttotal: 674ms\tremaining: 85ms\n",
            "444:\tlearn: 0.0435822\ttotal: 675ms\tremaining: 83.4ms\n",
            "445:\tlearn: 0.0432799\ttotal: 676ms\tremaining: 81.9ms\n",
            "446:\tlearn: 0.0432273\ttotal: 678ms\tremaining: 80.4ms\n",
            "447:\tlearn: 0.0430431\ttotal: 679ms\tremaining: 78.8ms\n",
            "448:\tlearn: 0.0429061\ttotal: 681ms\tremaining: 77.3ms\n",
            "449:\tlearn: 0.0427023\ttotal: 682ms\tremaining: 75.8ms\n",
            "450:\tlearn: 0.0423884\ttotal: 684ms\tremaining: 74.3ms\n",
            "451:\tlearn: 0.0421361\ttotal: 685ms\tremaining: 72.7ms\n",
            "452:\tlearn: 0.0419871\ttotal: 687ms\tremaining: 71.3ms\n",
            "453:\tlearn: 0.0418147\ttotal: 688ms\tremaining: 69.7ms\n",
            "454:\tlearn: 0.0415623\ttotal: 690ms\tremaining: 68.2ms\n",
            "455:\tlearn: 0.0413709\ttotal: 691ms\tremaining: 66.7ms\n",
            "456:\tlearn: 0.0411328\ttotal: 693ms\tremaining: 65.2ms\n",
            "457:\tlearn: 0.0410631\ttotal: 694ms\tremaining: 63.6ms\n",
            "458:\tlearn: 0.0410083\ttotal: 695ms\tremaining: 62.1ms\n",
            "459:\tlearn: 0.0408825\ttotal: 697ms\tremaining: 60.6ms\n",
            "460:\tlearn: 0.0406195\ttotal: 698ms\tremaining: 59.1ms\n",
            "461:\tlearn: 0.0403373\ttotal: 700ms\tremaining: 57.5ms\n",
            "462:\tlearn: 0.0402697\ttotal: 701ms\tremaining: 56ms\n",
            "463:\tlearn: 0.0400683\ttotal: 703ms\tremaining: 54.5ms\n",
            "464:\tlearn: 0.0399615\ttotal: 704ms\tremaining: 53ms\n",
            "465:\tlearn: 0.0397089\ttotal: 705ms\tremaining: 51.5ms\n",
            "466:\tlearn: 0.0395477\ttotal: 707ms\tremaining: 49.9ms\n",
            "467:\tlearn: 0.0393633\ttotal: 708ms\tremaining: 48.4ms\n",
            "468:\tlearn: 0.0392092\ttotal: 710ms\tremaining: 46.9ms\n",
            "469:\tlearn: 0.0392001\ttotal: 711ms\tremaining: 45.4ms\n",
            "470:\tlearn: 0.0391626\ttotal: 713ms\tremaining: 43.9ms\n",
            "471:\tlearn: 0.0390186\ttotal: 714ms\tremaining: 42.4ms\n",
            "472:\tlearn: 0.0389143\ttotal: 715ms\tremaining: 40.8ms\n",
            "473:\tlearn: 0.0386206\ttotal: 717ms\tremaining: 39.3ms\n",
            "474:\tlearn: 0.0385580\ttotal: 718ms\tremaining: 37.8ms\n",
            "475:\tlearn: 0.0384051\ttotal: 720ms\tremaining: 36.3ms\n",
            "476:\tlearn: 0.0383109\ttotal: 721ms\tremaining: 34.8ms\n",
            "477:\tlearn: 0.0381811\ttotal: 723ms\tremaining: 33.3ms\n",
            "478:\tlearn: 0.0380611\ttotal: 724ms\tremaining: 31.7ms\n",
            "479:\tlearn: 0.0379251\ttotal: 725ms\tremaining: 30.2ms\n",
            "480:\tlearn: 0.0377277\ttotal: 727ms\tremaining: 28.7ms\n",
            "481:\tlearn: 0.0375556\ttotal: 728ms\tremaining: 27.2ms\n",
            "482:\tlearn: 0.0374446\ttotal: 730ms\tremaining: 25.7ms\n",
            "483:\tlearn: 0.0372958\ttotal: 731ms\tremaining: 24.2ms\n",
            "484:\tlearn: 0.0372144\ttotal: 733ms\tremaining: 22.7ms\n",
            "485:\tlearn: 0.0370248\ttotal: 734ms\tremaining: 21.1ms\n",
            "486:\tlearn: 0.0368974\ttotal: 736ms\tremaining: 19.6ms\n",
            "487:\tlearn: 0.0368300\ttotal: 737ms\tremaining: 18.1ms\n",
            "488:\tlearn: 0.0366649\ttotal: 738ms\tremaining: 16.6ms\n",
            "489:\tlearn: 0.0365011\ttotal: 740ms\tremaining: 15.1ms\n",
            "490:\tlearn: 0.0363433\ttotal: 741ms\tremaining: 13.6ms\n",
            "491:\tlearn: 0.0362760\ttotal: 743ms\tremaining: 12.1ms\n",
            "492:\tlearn: 0.0362152\ttotal: 744ms\tremaining: 10.6ms\n",
            "493:\tlearn: 0.0360866\ttotal: 746ms\tremaining: 9.05ms\n",
            "494:\tlearn: 0.0358846\ttotal: 747ms\tremaining: 7.54ms\n",
            "495:\tlearn: 0.0357908\ttotal: 749ms\tremaining: 6.04ms\n",
            "496:\tlearn: 0.0357236\ttotal: 750ms\tremaining: 4.53ms\n",
            "497:\tlearn: 0.0356413\ttotal: 751ms\tremaining: 3.02ms\n",
            "498:\tlearn: 0.0355751\ttotal: 753ms\tremaining: 1.51ms\n",
            "499:\tlearn: 0.0354589\ttotal: 755ms\tremaining: 0us\n",
            "1.0\n"
          ],
          "name": "stdout"
        }
      ]
    },
    {
      "cell_type": "markdown",
      "metadata": {
        "id": "kq55A1jxNcDS"
      },
      "source": [
        "Predict on validation set"
      ]
    },
    {
      "cell_type": "code",
      "metadata": {
        "colab": {
          "base_uri": "https://localhost:8080/"
        },
        "id": "4dAUhMwENbuU",
        "outputId": "472255c9-55d7-4323-a5b8-50b023927bd9"
      },
      "source": [
        "y_pred = model.predict(X_val)\n",
        "print(model.score(X_val, y_val))"
      ],
      "execution_count": 286,
      "outputs": [
        {
          "output_type": "stream",
          "text": [
            "0.72\n"
          ],
          "name": "stdout"
        }
      ]
    },
    {
      "cell_type": "code",
      "metadata": {
        "colab": {
          "base_uri": "https://localhost:8080/",
          "height": 337
        },
        "id": "509yVgDKNsj8",
        "outputId": "df33779f-ec6d-4272-9e27-f83edf372a9b"
      },
      "source": [
        "sns.distplot(y_pred)"
      ],
      "execution_count": 287,
      "outputs": [
        {
          "output_type": "stream",
          "text": [
            "/usr/local/lib/python3.6/dist-packages/seaborn/distributions.py:2551: FutureWarning: `distplot` is a deprecated function and will be removed in a future version. Please adapt your code to use either `displot` (a figure-level function with similar flexibility) or `histplot` (an axes-level function for histograms).\n",
            "  warnings.warn(msg, FutureWarning)\n"
          ],
          "name": "stderr"
        },
        {
          "output_type": "execute_result",
          "data": {
            "text/plain": [
              "<matplotlib.axes._subplots.AxesSubplot at 0x7f640349c208>"
            ]
          },
          "metadata": {
            "tags": []
          },
          "execution_count": 287
        },
        {
          "output_type": "display_data",
          "data": {
            "image/png": "[encoded data removed]",
            "text/plain": [
              "<Figure size 432x288 with 1 Axes>"
            ]
          },
          "metadata": {
            "tags": [],
            "needs_background": "light"
          }
        }
      ]
    },
    {
      "cell_type": "code",
      "metadata": {
        "colab": {
          "base_uri": "https://localhost:8080/"
        },
        "id": "MHxNSyAIN9gq",
        "outputId": "dd14220a-9766-48d8-c03e-f2d394a24405"
      },
      "source": [
        "from collections import Counter\n",
        "\n",
        "print(Counter(y_pred))"
      ],
      "execution_count": 288,
      "outputs": [
        {
          "output_type": "stream",
          "text": [
            "Counter({1: 66, 2: 34})\n"
          ],
          "name": "stdout"
        }
      ]
    },
    {
      "cell_type": "code",
      "metadata": {
        "colab": {
          "base_uri": "https://localhost:8080/"
        },
        "id": "DsKFWF9uOG4O",
        "outputId": "67d33625-93f5-4973-e5c0-03a6525163bc"
      },
      "source": [
        "from sklearn.metrics import confusion_matrix\n",
        "\n",
        "confusion_matrix(y_val, y_pred)"
      ],
      "execution_count": 289,
      "outputs": [
        {
          "output_type": "execute_result",
          "data": {
            "text/plain": [
              "array([[54, 16],\n",
              "       [12, 18]])"
            ]
          },
          "metadata": {
            "tags": []
          },
          "execution_count": 289
        }
      ]
    },
    {
      "cell_type": "markdown",
      "metadata": {
        "id": "hva1DAXMOMcb"
      },
      "source": [
        "Create Logistic Regression Pipeline"
      ]
    },
    {
      "cell_type": "code",
      "metadata": {
        "colab": {
          "base_uri": "https://localhost:8080/"
        },
        "id": "mGvAO4cQOSry",
        "outputId": "d2532e65-88e3-4358-f7f9-c659afe612fb"
      },
      "source": [
        "from sklearn.pipeline import make_pipeline, Pipeline\n",
        "from sklearn.linear_model import LogisticRegression\n",
        "\n",
        "model = Pipeline(steps=[('preprocessor', preprocessor),\n",
        "                      ('regressor', LogisticRegression(class_weight='balanced', max_iter=500, random_state=1, solver='liblinear'))])\n",
        "model.fit(X_train, y_train)\n",
        "print(model.score(X_train, y_train))"
      ],
      "execution_count": 290,
      "outputs": [
        {
          "output_type": "stream",
          "text": [
            "0.75\n"
          ],
          "name": "stdout"
        }
      ]
    },
    {
      "cell_type": "markdown",
      "metadata": {
        "id": "BDlMTPQZO4eW"
      },
      "source": [
        "Predict on Validation set"
      ]
    },
    {
      "cell_type": "code",
      "metadata": {
        "colab": {
          "base_uri": "https://localhost:8080/"
        },
        "id": "Z3mqUzJQO3RQ",
        "outputId": "ecd1a07c-d2cd-4361-e8c4-e74f0ed1cd43"
      },
      "source": [
        "y_pred = model.predict(X_val)\n",
        "print(model.score(X_val, y_val))"
      ],
      "execution_count": 291,
      "outputs": [
        {
          "output_type": "stream",
          "text": [
            "0.71\n"
          ],
          "name": "stdout"
        }
      ]
    },
    {
      "cell_type": "code",
      "metadata": {
        "colab": {
          "base_uri": "https://localhost:8080/",
          "height": 337
        },
        "id": "nBe3ZGFETV5r",
        "outputId": "b7b40e56-a82b-4a55-9a11-eee26fe83c83"
      },
      "source": [
        "sns.distplot(y_pred)"
      ],
      "execution_count": 292,
      "outputs": [
        {
          "output_type": "stream",
          "text": [
            "/usr/local/lib/python3.6/dist-packages/seaborn/distributions.py:2551: FutureWarning: `distplot` is a deprecated function and will be removed in a future version. Please adapt your code to use either `displot` (a figure-level function with similar flexibility) or `histplot` (an axes-level function for histograms).\n",
            "  warnings.warn(msg, FutureWarning)\n"
          ],
          "name": "stderr"
        },
        {
          "output_type": "execute_result",
          "data": {
            "text/plain": [
              "<matplotlib.axes._subplots.AxesSubplot at 0x7f6406263518>"
            ]
          },
          "metadata": {
            "tags": []
          },
          "execution_count": 292
        },
        {
          "output_type": "display_data",
          "data": {
            "image/png": "[encoded data removed]",
            "text/plain": [
              "<Figure size 432x288 with 1 Axes>"
            ]
          },
          "metadata": {
            "tags": [],
            "needs_background": "light"
          }
        }
      ]
    },
    {
      "cell_type": "code",
      "metadata": {
        "colab": {
          "base_uri": "https://localhost:8080/"
        },
        "id": "hImZCHUuPLQw",
        "outputId": "982323c2-447b-4d85-db31-3457eb123799"
      },
      "source": [
        "from collections import Counter\n",
        "\n",
        "print(Counter(y_pred))"
      ],
      "execution_count": 293,
      "outputs": [
        {
          "output_type": "stream",
          "text": [
            "Counter({1: 53, 2: 47})\n"
          ],
          "name": "stdout"
        }
      ]
    },
    {
      "cell_type": "code",
      "metadata": {
        "colab": {
          "base_uri": "https://localhost:8080/"
        },
        "id": "TsUocikvPT3C",
        "outputId": "68c04c9a-c420-43ed-e41b-59f1eab0f7c8"
      },
      "source": [
        "from sklearn.metrics import confusion_matrix\n",
        "\n",
        "confusion_matrix(y_val, y_pred)"
      ],
      "execution_count": 294,
      "outputs": [
        {
          "output_type": "execute_result",
          "data": {
            "text/plain": [
              "array([[47, 23],\n",
              "       [ 6, 24]])"
            ]
          },
          "metadata": {
            "tags": []
          },
          "execution_count": 294
        }
      ]
    }
  ]
}