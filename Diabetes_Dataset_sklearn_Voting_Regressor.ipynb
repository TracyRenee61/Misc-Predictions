{
  "nbformat": 4,
  "nbformat_minor": 0,
  "metadata": {
    "colab": {
      "name": "Diabetes Dataset  - sklearn Voting Regressor.ipynb",
      "provenance": []
    },
    "kernelspec": {
      "name": "python3",
      "display_name": "Python 3"
    }
  },
  "cells": [
    {
      "cell_type": "markdown",
      "metadata": {
        "id": "Z3Kq6CHbRAEq"
      },
      "source": [
        "Ten baseline variables, age, sex, body mass index, average blood pressure, and six blood serum measurements were obtained for each of n = 442 diabetes patients, as well as the response of interest, a quantitative measure of disease progression one year after baseline."
      ]
    },
    {
      "cell_type": "code",
      "metadata": {
        "id": "o0EelaWJRDAh"
      },
      "source": [
        "#age age in years\r\n",
        "#sex\r\n",
        "#bmi body mass index\r\n",
        "#bp average blood pressure\r\n",
        "#s1 tc, T-Cells (a type of white blood cells)\r\n",
        "#s2 ldl, low-density lipoproteins\r\n",
        "#s3 hdl, high-density lipoproteins\r\n",
        "#s4 tch, thyroid stimulating hormone\r\n",
        "#s5 ltg, lamotrigine\r\n",
        "#s6 glu, blood sugar level\r\n",
        "#disease progression"
      ],
      "execution_count": 84,
      "outputs": []
    },
    {
      "cell_type": "markdown",
      "metadata": {
        "id": "7T81Vo4tYAPu"
      },
      "source": [
        "Import libraries"
      ]
    },
    {
      "cell_type": "code",
      "metadata": {
        "colab": {
          "base_uri": "https://localhost:8080/"
        },
        "id": "0m89F002YC9g",
        "outputId": "3893b06c-b861-4fe1-c41e-a61510c9e2c1"
      },
      "source": [
        "import pandas as pd\r\n",
        "import numpy as np\r\n",
        "import matplotlib.pyplot as plt\r\n",
        "import seaborn as sns\r\n",
        "import sklearn \r\n",
        "print(sklearn.__version__)"
      ],
      "execution_count": 85,
      "outputs": [
        {
          "output_type": "stream",
          "text": [
            "0.24.1\n"
          ],
          "name": "stdout"
        }
      ]
    },
    {
      "cell_type": "markdown",
      "metadata": {
        "id": "NbjUCxjrYIrB"
      },
      "source": [
        "Load file"
      ]
    },
    {
      "cell_type": "code",
      "metadata": {
        "id": "Js-FXc6yZAse"
      },
      "source": [
        "from sklearn.datasets import load_diabetes\r\n",
        "\r\n",
        "X, y = load_diabetes(return_X_y=True)"
      ],
      "execution_count": 86,
      "outputs": []
    },
    {
      "cell_type": "code",
      "metadata": {
        "colab": {
          "base_uri": "https://localhost:8080/"
        },
        "id": "f_41iqV7Z0xZ",
        "outputId": "36b7ee22-30af-435f-f198-0fe8a6e3fc43"
      },
      "source": [
        "X.shape"
      ],
      "execution_count": 87,
      "outputs": [
        {
          "output_type": "execute_result",
          "data": {
            "text/plain": [
              "(442, 10)"
            ]
          },
          "metadata": {
            "tags": []
          },
          "execution_count": 87
        }
      ]
    },
    {
      "cell_type": "code",
      "metadata": {
        "colab": {
          "base_uri": "https://localhost:8080/"
        },
        "id": "CwteUBjIaNAX",
        "outputId": "d4dbe42e-040d-42bb-81e3-2a3b3f436e57"
      },
      "source": [
        "y.shape"
      ],
      "execution_count": 88,
      "outputs": [
        {
          "output_type": "execute_result",
          "data": {
            "text/plain": [
              "(442,)"
            ]
          },
          "metadata": {
            "tags": []
          },
          "execution_count": 88
        }
      ]
    },
    {
      "cell_type": "code",
      "metadata": {
        "colab": {
          "base_uri": "https://localhost:8080/"
        },
        "id": "LBCrltOWaPqL",
        "outputId": "2a8a65fa-6703-4512-8d9a-ef984f6bb1a6"
      },
      "source": [
        "X"
      ],
      "execution_count": 89,
      "outputs": [
        {
          "output_type": "execute_result",
          "data": {
            "text/plain": [
              "array([[ 0.03807591,  0.05068012,  0.06169621, ..., -0.00259226,\n",
              "         0.01990842, -0.01764613],\n",
              "       [-0.00188202, -0.04464164, -0.05147406, ..., -0.03949338,\n",
              "        -0.06832974, -0.09220405],\n",
              "       [ 0.08529891,  0.05068012,  0.04445121, ..., -0.00259226,\n",
              "         0.00286377, -0.02593034],\n",
              "       ...,\n",
              "       [ 0.04170844,  0.05068012, -0.01590626, ..., -0.01107952,\n",
              "        -0.04687948,  0.01549073],\n",
              "       [-0.04547248, -0.04464164,  0.03906215, ...,  0.02655962,\n",
              "         0.04452837, -0.02593034],\n",
              "       [-0.04547248, -0.04464164, -0.0730303 , ..., -0.03949338,\n",
              "        -0.00421986,  0.00306441]])"
            ]
          },
          "metadata": {
            "tags": []
          },
          "execution_count": 89
        }
      ]
    },
    {
      "cell_type": "code",
      "metadata": {
        "colab": {
          "base_uri": "https://localhost:8080/"
        },
        "id": "I5Bb6Gh1aTY2",
        "outputId": "110f1599-29c2-4688-dac8-91fc379d865c"
      },
      "source": [
        "y"
      ],
      "execution_count": 90,
      "outputs": [
        {
          "output_type": "execute_result",
          "data": {
            "text/plain": [
              "array([151.,  75., 141., 206., 135.,  97., 138.,  63., 110., 310., 101.,\n",
              "        69., 179., 185., 118., 171., 166., 144.,  97., 168.,  68.,  49.,\n",
              "        68., 245., 184., 202., 137.,  85., 131., 283., 129.,  59., 341.,\n",
              "        87.,  65., 102., 265., 276., 252.,  90., 100.,  55.,  61.,  92.,\n",
              "       259.,  53., 190., 142.,  75., 142., 155., 225.,  59., 104., 182.,\n",
              "       128.,  52.,  37., 170., 170.,  61., 144.,  52., 128.,  71., 163.,\n",
              "       150.,  97., 160., 178.,  48., 270., 202., 111.,  85.,  42., 170.,\n",
              "       200., 252., 113., 143.,  51.,  52., 210.,  65., 141.,  55., 134.,\n",
              "        42., 111.,  98., 164.,  48.,  96.,  90., 162., 150., 279.,  92.,\n",
              "        83., 128., 102., 302., 198.,  95.,  53., 134., 144., 232.,  81.,\n",
              "       104.,  59., 246., 297., 258., 229., 275., 281., 179., 200., 200.,\n",
              "       173., 180.,  84., 121., 161.,  99., 109., 115., 268., 274., 158.,\n",
              "       107.,  83., 103., 272.,  85., 280., 336., 281., 118., 317., 235.,\n",
              "        60., 174., 259., 178., 128.,  96., 126., 288.,  88., 292.,  71.,\n",
              "       197., 186.,  25.,  84.,  96., 195.,  53., 217., 172., 131., 214.,\n",
              "        59.,  70., 220., 268., 152.,  47.,  74., 295., 101., 151., 127.,\n",
              "       237., 225.,  81., 151., 107.,  64., 138., 185., 265., 101., 137.,\n",
              "       143., 141.,  79., 292., 178.,  91., 116.,  86., 122.,  72., 129.,\n",
              "       142.,  90., 158.,  39., 196., 222., 277.,  99., 196., 202., 155.,\n",
              "        77., 191.,  70.,  73.,  49.,  65., 263., 248., 296., 214., 185.,\n",
              "        78.,  93., 252., 150.,  77., 208.,  77., 108., 160.,  53., 220.,\n",
              "       154., 259.,  90., 246., 124.,  67.,  72., 257., 262., 275., 177.,\n",
              "        71.,  47., 187., 125.,  78.,  51., 258., 215., 303., 243.,  91.,\n",
              "       150., 310., 153., 346.,  63.,  89.,  50.,  39., 103., 308., 116.,\n",
              "       145.,  74.,  45., 115., 264.,  87., 202., 127., 182., 241.,  66.,\n",
              "        94., 283.,  64., 102., 200., 265.,  94., 230., 181., 156., 233.,\n",
              "        60., 219.,  80.,  68., 332., 248.,  84., 200.,  55.,  85.,  89.,\n",
              "        31., 129.,  83., 275.,  65., 198., 236., 253., 124.,  44., 172.,\n",
              "       114., 142., 109., 180., 144., 163., 147.,  97., 220., 190., 109.,\n",
              "       191., 122., 230., 242., 248., 249., 192., 131., 237.,  78., 135.,\n",
              "       244., 199., 270., 164.,  72.,  96., 306.,  91., 214.,  95., 216.,\n",
              "       263., 178., 113., 200., 139., 139.,  88., 148.,  88., 243.,  71.,\n",
              "        77., 109., 272.,  60.,  54., 221.,  90., 311., 281., 182., 321.,\n",
              "        58., 262., 206., 233., 242., 123., 167.,  63., 197.,  71., 168.,\n",
              "       140., 217., 121., 235., 245.,  40.,  52., 104., 132.,  88.,  69.,\n",
              "       219.,  72., 201., 110.,  51., 277.,  63., 118.,  69., 273., 258.,\n",
              "        43., 198., 242., 232., 175.,  93., 168., 275., 293., 281.,  72.,\n",
              "       140., 189., 181., 209., 136., 261., 113., 131., 174., 257.,  55.,\n",
              "        84.,  42., 146., 212., 233.,  91., 111., 152., 120.,  67., 310.,\n",
              "        94., 183.,  66., 173.,  72.,  49.,  64.,  48., 178., 104., 132.,\n",
              "       220.,  57.])"
            ]
          },
          "metadata": {
            "tags": []
          },
          "execution_count": 90
        }
      ]
    },
    {
      "cell_type": "markdown",
      "metadata": {
        "id": "DUUQ8Kyj8klw"
      },
      "source": [
        "Create dataframe"
      ]
    },
    {
      "cell_type": "code",
      "metadata": {
        "colab": {
          "base_uri": "https://localhost:8080/"
        },
        "id": "oFoIJjoAaueJ",
        "outputId": "ade27cb3-e95e-449e-ef40-aa9527da383c"
      },
      "source": [
        "df1 = pd.DataFrame(X, columns=[\"age\",\"sex\",\"bmi\",\"bp\", \"tc\", \"ldl\", \"hdl\",\"tch\", \"ltg\", \"glu\"])\r\n",
        "print(df1)"
      ],
      "execution_count": 91,
      "outputs": [
        {
          "output_type": "stream",
          "text": [
            "          age       sex       bmi  ...       tch       ltg       glu\n",
            "0    0.038076  0.050680  0.061696  ... -0.002592  0.019908 -0.017646\n",
            "1   -0.001882 -0.044642 -0.051474  ... -0.039493 -0.068330 -0.092204\n",
            "2    0.085299  0.050680  0.044451  ... -0.002592  0.002864 -0.025930\n",
            "3   -0.089063 -0.044642 -0.011595  ...  0.034309  0.022692 -0.009362\n",
            "4    0.005383 -0.044642 -0.036385  ... -0.002592 -0.031991 -0.046641\n",
            "..        ...       ...       ...  ...       ...       ...       ...\n",
            "437  0.041708  0.050680  0.019662  ... -0.002592  0.031193  0.007207\n",
            "438 -0.005515  0.050680 -0.015906  ...  0.034309 -0.018118  0.044485\n",
            "439  0.041708  0.050680 -0.015906  ... -0.011080 -0.046879  0.015491\n",
            "440 -0.045472 -0.044642  0.039062  ...  0.026560  0.044528 -0.025930\n",
            "441 -0.045472 -0.044642 -0.073030  ... -0.039493 -0.004220  0.003064\n",
            "\n",
            "[442 rows x 10 columns]\n"
          ],
          "name": "stdout"
        }
      ]
    },
    {
      "cell_type": "code",
      "metadata": {
        "colab": {
          "base_uri": "https://localhost:8080/"
        },
        "id": "znfsw5O3dpHH",
        "outputId": "3ad78afc-b5dc-45b6-9d0a-8dc60b92a6da"
      },
      "source": [
        "df2 = pd.DataFrame(y, columns=[\"disease_progression\"])\r\n",
        "print(df2)"
      ],
      "execution_count": 92,
      "outputs": [
        {
          "output_type": "stream",
          "text": [
            "     disease_progression\n",
            "0                  151.0\n",
            "1                   75.0\n",
            "2                  141.0\n",
            "3                  206.0\n",
            "4                  135.0\n",
            "..                   ...\n",
            "437                178.0\n",
            "438                104.0\n",
            "439                132.0\n",
            "440                220.0\n",
            "441                 57.0\n",
            "\n",
            "[442 rows x 1 columns]\n"
          ],
          "name": "stdout"
        }
      ]
    },
    {
      "cell_type": "code",
      "metadata": {
        "colab": {
          "base_uri": "https://localhost:8080/",
          "height": 399
        },
        "id": "R-Hd7TiPd7Z_",
        "outputId": "6e8fd233-9ee8-485d-c24e-1152ed85f021"
      },
      "source": [
        "df = pd.merge(df1,df2, left_index=True, right_index=True)\r\n",
        "df"
      ],
      "execution_count": 93,
      "outputs": [
        {
          "output_type": "execute_result",
          "data": {
            "text/html": [
              "<div>\n",
              "<style scoped>\n",
              "    .dataframe tbody tr th:only-of-type {\n",
              "        vertical-align: middle;\n",
              "    }\n",
              "\n",
              "    .dataframe tbody tr th {\n",
              "        vertical-align: top;\n",
              "    }\n",
              "\n",
              "    .dataframe thead th {\n",
              "        text-align: right;\n",
              "    }\n",
              "</style>\n",
              "<table border=\"1\" class=\"dataframe\">\n",
              "  <thead>\n",
              "    <tr style=\"text-align: right;\">\n",
              "      <th></th>\n",
              "      <th>age</th>\n",
              "      <th>sex</th>\n",
              "      <th>bmi</th>\n",
              "      <th>bp</th>\n",
              "      <th>tc</th>\n",
              "      <th>ldl</th>\n",
              "      <th>hdl</th>\n",
              "      <th>tch</th>\n",
              "      <th>ltg</th>\n",
              "      <th>glu</th>\n",
              "      <th>disease_progression</th>\n",
              "    </tr>\n",
              "  </thead>\n",
              "  <tbody>\n",
              "    <tr>\n",
              "      <th>0</th>\n",
              "      <td>0.038076</td>\n",
              "      <td>0.050680</td>\n",
              "      <td>0.061696</td>\n",
              "      <td>0.021872</td>\n",
              "      <td>-0.044223</td>\n",
              "      <td>-0.034821</td>\n",
              "      <td>-0.043401</td>\n",
              "      <td>-0.002592</td>\n",
              "      <td>0.019908</td>\n",
              "      <td>-0.017646</td>\n",
              "      <td>151.0</td>\n",
              "    </tr>\n",
              "    <tr>\n",
              "      <th>1</th>\n",
              "      <td>-0.001882</td>\n",
              "      <td>-0.044642</td>\n",
              "      <td>-0.051474</td>\n",
              "      <td>-0.026328</td>\n",
              "      <td>-0.008449</td>\n",
              "      <td>-0.019163</td>\n",
              "      <td>0.074412</td>\n",
              "      <td>-0.039493</td>\n",
              "      <td>-0.068330</td>\n",
              "      <td>-0.092204</td>\n",
              "      <td>75.0</td>\n",
              "    </tr>\n",
              "    <tr>\n",
              "      <th>2</th>\n",
              "      <td>0.085299</td>\n",
              "      <td>0.050680</td>\n",
              "      <td>0.044451</td>\n",
              "      <td>-0.005671</td>\n",
              "      <td>-0.045599</td>\n",
              "      <td>-0.034194</td>\n",
              "      <td>-0.032356</td>\n",
              "      <td>-0.002592</td>\n",
              "      <td>0.002864</td>\n",
              "      <td>-0.025930</td>\n",
              "      <td>141.0</td>\n",
              "    </tr>\n",
              "    <tr>\n",
              "      <th>3</th>\n",
              "      <td>-0.089063</td>\n",
              "      <td>-0.044642</td>\n",
              "      <td>-0.011595</td>\n",
              "      <td>-0.036656</td>\n",
              "      <td>0.012191</td>\n",
              "      <td>0.024991</td>\n",
              "      <td>-0.036038</td>\n",
              "      <td>0.034309</td>\n",
              "      <td>0.022692</td>\n",
              "      <td>-0.009362</td>\n",
              "      <td>206.0</td>\n",
              "    </tr>\n",
              "    <tr>\n",
              "      <th>4</th>\n",
              "      <td>0.005383</td>\n",
              "      <td>-0.044642</td>\n",
              "      <td>-0.036385</td>\n",
              "      <td>0.021872</td>\n",
              "      <td>0.003935</td>\n",
              "      <td>0.015596</td>\n",
              "      <td>0.008142</td>\n",
              "      <td>-0.002592</td>\n",
              "      <td>-0.031991</td>\n",
              "      <td>-0.046641</td>\n",
              "      <td>135.0</td>\n",
              "    </tr>\n",
              "    <tr>\n",
              "      <th>...</th>\n",
              "      <td>...</td>\n",
              "      <td>...</td>\n",
              "      <td>...</td>\n",
              "      <td>...</td>\n",
              "      <td>...</td>\n",
              "      <td>...</td>\n",
              "      <td>...</td>\n",
              "      <td>...</td>\n",
              "      <td>...</td>\n",
              "      <td>...</td>\n",
              "      <td>...</td>\n",
              "    </tr>\n",
              "    <tr>\n",
              "      <th>437</th>\n",
              "      <td>0.041708</td>\n",
              "      <td>0.050680</td>\n",
              "      <td>0.019662</td>\n",
              "      <td>0.059744</td>\n",
              "      <td>-0.005697</td>\n",
              "      <td>-0.002566</td>\n",
              "      <td>-0.028674</td>\n",
              "      <td>-0.002592</td>\n",
              "      <td>0.031193</td>\n",
              "      <td>0.007207</td>\n",
              "      <td>178.0</td>\n",
              "    </tr>\n",
              "    <tr>\n",
              "      <th>438</th>\n",
              "      <td>-0.005515</td>\n",
              "      <td>0.050680</td>\n",
              "      <td>-0.015906</td>\n",
              "      <td>-0.067642</td>\n",
              "      <td>0.049341</td>\n",
              "      <td>0.079165</td>\n",
              "      <td>-0.028674</td>\n",
              "      <td>0.034309</td>\n",
              "      <td>-0.018118</td>\n",
              "      <td>0.044485</td>\n",
              "      <td>104.0</td>\n",
              "    </tr>\n",
              "    <tr>\n",
              "      <th>439</th>\n",
              "      <td>0.041708</td>\n",
              "      <td>0.050680</td>\n",
              "      <td>-0.015906</td>\n",
              "      <td>0.017282</td>\n",
              "      <td>-0.037344</td>\n",
              "      <td>-0.013840</td>\n",
              "      <td>-0.024993</td>\n",
              "      <td>-0.011080</td>\n",
              "      <td>-0.046879</td>\n",
              "      <td>0.015491</td>\n",
              "      <td>132.0</td>\n",
              "    </tr>\n",
              "    <tr>\n",
              "      <th>440</th>\n",
              "      <td>-0.045472</td>\n",
              "      <td>-0.044642</td>\n",
              "      <td>0.039062</td>\n",
              "      <td>0.001215</td>\n",
              "      <td>0.016318</td>\n",
              "      <td>0.015283</td>\n",
              "      <td>-0.028674</td>\n",
              "      <td>0.026560</td>\n",
              "      <td>0.044528</td>\n",
              "      <td>-0.025930</td>\n",
              "      <td>220.0</td>\n",
              "    </tr>\n",
              "    <tr>\n",
              "      <th>441</th>\n",
              "      <td>-0.045472</td>\n",
              "      <td>-0.044642</td>\n",
              "      <td>-0.073030</td>\n",
              "      <td>-0.081414</td>\n",
              "      <td>0.083740</td>\n",
              "      <td>0.027809</td>\n",
              "      <td>0.173816</td>\n",
              "      <td>-0.039493</td>\n",
              "      <td>-0.004220</td>\n",
              "      <td>0.003064</td>\n",
              "      <td>57.0</td>\n",
              "    </tr>\n",
              "  </tbody>\n",
              "</table>\n",
              "<p>442 rows × 11 columns</p>\n",
              "</div>"
            ],
            "text/plain": [
              "          age       sex       bmi  ...       ltg       glu  disease_progression\n",
              "0    0.038076  0.050680  0.061696  ...  0.019908 -0.017646                151.0\n",
              "1   -0.001882 -0.044642 -0.051474  ... -0.068330 -0.092204                 75.0\n",
              "2    0.085299  0.050680  0.044451  ...  0.002864 -0.025930                141.0\n",
              "3   -0.089063 -0.044642 -0.011595  ...  0.022692 -0.009362                206.0\n",
              "4    0.005383 -0.044642 -0.036385  ... -0.031991 -0.046641                135.0\n",
              "..        ...       ...       ...  ...       ...       ...                  ...\n",
              "437  0.041708  0.050680  0.019662  ...  0.031193  0.007207                178.0\n",
              "438 -0.005515  0.050680 -0.015906  ... -0.018118  0.044485                104.0\n",
              "439  0.041708  0.050680 -0.015906  ... -0.046879  0.015491                132.0\n",
              "440 -0.045472 -0.044642  0.039062  ...  0.044528 -0.025930                220.0\n",
              "441 -0.045472 -0.044642 -0.073030  ... -0.004220  0.003064                 57.0\n",
              "\n",
              "[442 rows x 11 columns]"
            ]
          },
          "metadata": {
            "tags": []
          },
          "execution_count": 93
        }
      ]
    },
    {
      "cell_type": "code",
      "metadata": {
        "colab": {
          "base_uri": "https://localhost:8080/"
        },
        "id": "GnWeFnCt9Ec3",
        "outputId": "9d146f4f-b409-4268-dbde-d858f7297a2e"
      },
      "source": [
        "df.info()"
      ],
      "execution_count": 94,
      "outputs": [
        {
          "output_type": "stream",
          "text": [
            "<class 'pandas.core.frame.DataFrame'>\n",
            "RangeIndex: 442 entries, 0 to 441\n",
            "Data columns (total 11 columns):\n",
            " #   Column               Non-Null Count  Dtype  \n",
            "---  ------               --------------  -----  \n",
            " 0   age                  442 non-null    float64\n",
            " 1   sex                  442 non-null    float64\n",
            " 2   bmi                  442 non-null    float64\n",
            " 3   bp                   442 non-null    float64\n",
            " 4   tc                   442 non-null    float64\n",
            " 5   ldl                  442 non-null    float64\n",
            " 6   hdl                  442 non-null    float64\n",
            " 7   tch                  442 non-null    float64\n",
            " 8   ltg                  442 non-null    float64\n",
            " 9   glu                  442 non-null    float64\n",
            " 10  disease_progression  442 non-null    float64\n",
            "dtypes: float64(11)\n",
            "memory usage: 38.1 KB\n"
          ],
          "name": "stdout"
        }
      ]
    },
    {
      "cell_type": "code",
      "metadata": {
        "colab": {
          "base_uri": "https://localhost:8080/",
          "height": 282
        },
        "id": "_WlOpQ3e9Ib9",
        "outputId": "74d53fc6-c404-4509-9777-bd31a7e889f1"
      },
      "source": [
        "df.describe()"
      ],
      "execution_count": 95,
      "outputs": [
        {
          "output_type": "execute_result",
          "data": {
            "text/html": [
              "<div>\n",
              "<style scoped>\n",
              "    .dataframe tbody tr th:only-of-type {\n",
              "        vertical-align: middle;\n",
              "    }\n",
              "\n",
              "    .dataframe tbody tr th {\n",
              "        vertical-align: top;\n",
              "    }\n",
              "\n",
              "    .dataframe thead th {\n",
              "        text-align: right;\n",
              "    }\n",
              "</style>\n",
              "<table border=\"1\" class=\"dataframe\">\n",
              "  <thead>\n",
              "    <tr style=\"text-align: right;\">\n",
              "      <th></th>\n",
              "      <th>age</th>\n",
              "      <th>sex</th>\n",
              "      <th>bmi</th>\n",
              "      <th>bp</th>\n",
              "      <th>tc</th>\n",
              "      <th>ldl</th>\n",
              "      <th>hdl</th>\n",
              "      <th>tch</th>\n",
              "      <th>ltg</th>\n",
              "      <th>glu</th>\n",
              "      <th>disease_progression</th>\n",
              "    </tr>\n",
              "  </thead>\n",
              "  <tbody>\n",
              "    <tr>\n",
              "      <th>count</th>\n",
              "      <td>4.420000e+02</td>\n",
              "      <td>4.420000e+02</td>\n",
              "      <td>4.420000e+02</td>\n",
              "      <td>4.420000e+02</td>\n",
              "      <td>4.420000e+02</td>\n",
              "      <td>4.420000e+02</td>\n",
              "      <td>4.420000e+02</td>\n",
              "      <td>4.420000e+02</td>\n",
              "      <td>4.420000e+02</td>\n",
              "      <td>4.420000e+02</td>\n",
              "      <td>442.000000</td>\n",
              "    </tr>\n",
              "    <tr>\n",
              "      <th>mean</th>\n",
              "      <td>-3.634285e-16</td>\n",
              "      <td>1.308343e-16</td>\n",
              "      <td>-8.045349e-16</td>\n",
              "      <td>1.281655e-16</td>\n",
              "      <td>-8.835316e-17</td>\n",
              "      <td>1.327024e-16</td>\n",
              "      <td>-4.574646e-16</td>\n",
              "      <td>3.777301e-16</td>\n",
              "      <td>-3.830854e-16</td>\n",
              "      <td>-3.412882e-16</td>\n",
              "      <td>152.133484</td>\n",
              "    </tr>\n",
              "    <tr>\n",
              "      <th>std</th>\n",
              "      <td>4.761905e-02</td>\n",
              "      <td>4.761905e-02</td>\n",
              "      <td>4.761905e-02</td>\n",
              "      <td>4.761905e-02</td>\n",
              "      <td>4.761905e-02</td>\n",
              "      <td>4.761905e-02</td>\n",
              "      <td>4.761905e-02</td>\n",
              "      <td>4.761905e-02</td>\n",
              "      <td>4.761905e-02</td>\n",
              "      <td>4.761905e-02</td>\n",
              "      <td>77.093005</td>\n",
              "    </tr>\n",
              "    <tr>\n",
              "      <th>min</th>\n",
              "      <td>-1.072256e-01</td>\n",
              "      <td>-4.464164e-02</td>\n",
              "      <td>-9.027530e-02</td>\n",
              "      <td>-1.123996e-01</td>\n",
              "      <td>-1.267807e-01</td>\n",
              "      <td>-1.156131e-01</td>\n",
              "      <td>-1.023071e-01</td>\n",
              "      <td>-7.639450e-02</td>\n",
              "      <td>-1.260974e-01</td>\n",
              "      <td>-1.377672e-01</td>\n",
              "      <td>25.000000</td>\n",
              "    </tr>\n",
              "    <tr>\n",
              "      <th>25%</th>\n",
              "      <td>-3.729927e-02</td>\n",
              "      <td>-4.464164e-02</td>\n",
              "      <td>-3.422907e-02</td>\n",
              "      <td>-3.665645e-02</td>\n",
              "      <td>-3.424784e-02</td>\n",
              "      <td>-3.035840e-02</td>\n",
              "      <td>-3.511716e-02</td>\n",
              "      <td>-3.949338e-02</td>\n",
              "      <td>-3.324879e-02</td>\n",
              "      <td>-3.317903e-02</td>\n",
              "      <td>87.000000</td>\n",
              "    </tr>\n",
              "    <tr>\n",
              "      <th>50%</th>\n",
              "      <td>5.383060e-03</td>\n",
              "      <td>-4.464164e-02</td>\n",
              "      <td>-7.283766e-03</td>\n",
              "      <td>-5.670611e-03</td>\n",
              "      <td>-4.320866e-03</td>\n",
              "      <td>-3.819065e-03</td>\n",
              "      <td>-6.584468e-03</td>\n",
              "      <td>-2.592262e-03</td>\n",
              "      <td>-1.947634e-03</td>\n",
              "      <td>-1.077698e-03</td>\n",
              "      <td>140.500000</td>\n",
              "    </tr>\n",
              "    <tr>\n",
              "      <th>75%</th>\n",
              "      <td>3.807591e-02</td>\n",
              "      <td>5.068012e-02</td>\n",
              "      <td>3.124802e-02</td>\n",
              "      <td>3.564384e-02</td>\n",
              "      <td>2.835801e-02</td>\n",
              "      <td>2.984439e-02</td>\n",
              "      <td>2.931150e-02</td>\n",
              "      <td>3.430886e-02</td>\n",
              "      <td>3.243323e-02</td>\n",
              "      <td>2.791705e-02</td>\n",
              "      <td>211.500000</td>\n",
              "    </tr>\n",
              "    <tr>\n",
              "      <th>max</th>\n",
              "      <td>1.107267e-01</td>\n",
              "      <td>5.068012e-02</td>\n",
              "      <td>1.705552e-01</td>\n",
              "      <td>1.320442e-01</td>\n",
              "      <td>1.539137e-01</td>\n",
              "      <td>1.987880e-01</td>\n",
              "      <td>1.811791e-01</td>\n",
              "      <td>1.852344e-01</td>\n",
              "      <td>1.335990e-01</td>\n",
              "      <td>1.356118e-01</td>\n",
              "      <td>346.000000</td>\n",
              "    </tr>\n",
              "  </tbody>\n",
              "</table>\n",
              "</div>"
            ],
            "text/plain": [
              "                age           sex  ...           glu  disease_progression\n",
              "count  4.420000e+02  4.420000e+02  ...  4.420000e+02           442.000000\n",
              "mean  -3.634285e-16  1.308343e-16  ... -3.412882e-16           152.133484\n",
              "std    4.761905e-02  4.761905e-02  ...  4.761905e-02            77.093005\n",
              "min   -1.072256e-01 -4.464164e-02  ... -1.377672e-01            25.000000\n",
              "25%   -3.729927e-02 -4.464164e-02  ... -3.317903e-02            87.000000\n",
              "50%    5.383060e-03 -4.464164e-02  ... -1.077698e-03           140.500000\n",
              "75%    3.807591e-02  5.068012e-02  ...  2.791705e-02           211.500000\n",
              "max    1.107267e-01  5.068012e-02  ...  1.356118e-01           346.000000\n",
              "\n",
              "[8 rows x 11 columns]"
            ]
          },
          "metadata": {
            "tags": []
          },
          "execution_count": 95
        }
      ]
    },
    {
      "cell_type": "markdown",
      "metadata": {
        "id": "FhRCKyNt8x9d"
      },
      "source": [
        "Check for null values"
      ]
    },
    {
      "cell_type": "code",
      "metadata": {
        "colab": {
          "base_uri": "https://localhost:8080/"
        },
        "id": "iaq8w9mu81ht",
        "outputId": "f02a76de-4afe-430f-ae58-d5c3507ec3e5"
      },
      "source": [
        "df.isnull().sum()"
      ],
      "execution_count": 96,
      "outputs": [
        {
          "output_type": "execute_result",
          "data": {
            "text/plain": [
              "age                    0\n",
              "sex                    0\n",
              "bmi                    0\n",
              "bp                     0\n",
              "tc                     0\n",
              "ldl                    0\n",
              "hdl                    0\n",
              "tch                    0\n",
              "ltg                    0\n",
              "glu                    0\n",
              "disease_progression    0\n",
              "dtype: int64"
            ]
          },
          "metadata": {
            "tags": []
          },
          "execution_count": 96
        }
      ]
    },
    {
      "cell_type": "markdown",
      "metadata": {
        "id": "XxKiyzMz9f8m"
      },
      "source": [
        "Graphics"
      ]
    },
    {
      "cell_type": "markdown",
      "metadata": {
        "id": "6vz78eXy9zTS"
      },
      "source": [
        "Heatmap"
      ]
    },
    {
      "cell_type": "code",
      "metadata": {
        "colab": {
          "base_uri": "https://localhost:8080/",
          "height": 633
        },
        "id": "vrNr333_9i0j",
        "outputId": "b40cf126-0abc-40ef-9212-39de21f2644c"
      },
      "source": [
        "corrmat = df.corr()\r\n",
        "f, ax = plt.subplots(figsize=(12, 9))\r\n",
        "sns.heatmap(corrmat, vmax=.8, square=True);"
      ],
      "execution_count": 97,
      "outputs": [
        {
          "output_type": "display_data",
          "data": {
            "image/png": "[encoded data removed]",
            "text/plain": [
              "<Figure size 864x648 with 2 Axes>"
            ]
          },
          "metadata": {
            "tags": [],
            "needs_background": "light"
          }
        }
      ]
    },
    {
      "cell_type": "markdown",
      "metadata": {
        "id": "ksO0hzqp-cbt"
      },
      "source": [
        "Analytics"
      ]
    },
    {
      "cell_type": "code",
      "metadata": {
        "colab": {
          "base_uri": "https://localhost:8080/",
          "height": 387
        },
        "id": "KzbrTlNC-e2M",
        "outputId": "cf7299c5-e20a-4e62-f883-9b686a5dc06b"
      },
      "source": [
        "sns.displot(df['disease_progression'])"
      ],
      "execution_count": 98,
      "outputs": [
        {
          "output_type": "execute_result",
          "data": {
            "text/plain": [
              "<seaborn.axisgrid.FacetGrid at 0x7f7ef50c1668>"
            ]
          },
          "metadata": {
            "tags": []
          },
          "execution_count": 98
        },
        {
          "output_type": "display_data",
          "data": {
            "image/png": "[encoded data removed]",
            "text/plain": [
              "<Figure size 360x360 with 1 Axes>"
            ]
          },
          "metadata": {
            "tags": [],
            "needs_background": "light"
          }
        }
      ]
    },
    {
      "cell_type": "markdown",
      "metadata": {
        "id": "TPTh-md1DRG_"
      },
      "source": [
        "Define X and y"
      ]
    },
    {
      "cell_type": "code",
      "metadata": {
        "id": "ADgd3rySDVGM"
      },
      "source": [
        "y = df.disease_progression\r\n",
        "X = df.drop(['disease_progression'], axis=1)"
      ],
      "execution_count": 99,
      "outputs": []
    },
    {
      "cell_type": "code",
      "metadata": {
        "colab": {
          "base_uri": "https://localhost:8080/",
          "height": 399
        },
        "id": "XMPkrQcjDmxQ",
        "outputId": "351728db-8b97-471e-d2f6-9d50aee5082b"
      },
      "source": [
        "X"
      ],
      "execution_count": 100,
      "outputs": [
        {
          "output_type": "execute_result",
          "data": {
            "text/html": [
              "<div>\n",
              "<style scoped>\n",
              "    .dataframe tbody tr th:only-of-type {\n",
              "        vertical-align: middle;\n",
              "    }\n",
              "\n",
              "    .dataframe tbody tr th {\n",
              "        vertical-align: top;\n",
              "    }\n",
              "\n",
              "    .dataframe thead th {\n",
              "        text-align: right;\n",
              "    }\n",
              "</style>\n",
              "<table border=\"1\" class=\"dataframe\">\n",
              "  <thead>\n",
              "    <tr style=\"text-align: right;\">\n",
              "      <th></th>\n",
              "      <th>age</th>\n",
              "      <th>sex</th>\n",
              "      <th>bmi</th>\n",
              "      <th>bp</th>\n",
              "      <th>tc</th>\n",
              "      <th>ldl</th>\n",
              "      <th>hdl</th>\n",
              "      <th>tch</th>\n",
              "      <th>ltg</th>\n",
              "      <th>glu</th>\n",
              "    </tr>\n",
              "  </thead>\n",
              "  <tbody>\n",
              "    <tr>\n",
              "      <th>0</th>\n",
              "      <td>0.038076</td>\n",
              "      <td>0.050680</td>\n",
              "      <td>0.061696</td>\n",
              "      <td>0.021872</td>\n",
              "      <td>-0.044223</td>\n",
              "      <td>-0.034821</td>\n",
              "      <td>-0.043401</td>\n",
              "      <td>-0.002592</td>\n",
              "      <td>0.019908</td>\n",
              "      <td>-0.017646</td>\n",
              "    </tr>\n",
              "    <tr>\n",
              "      <th>1</th>\n",
              "      <td>-0.001882</td>\n",
              "      <td>-0.044642</td>\n",
              "      <td>-0.051474</td>\n",
              "      <td>-0.026328</td>\n",
              "      <td>-0.008449</td>\n",
              "      <td>-0.019163</td>\n",
              "      <td>0.074412</td>\n",
              "      <td>-0.039493</td>\n",
              "      <td>-0.068330</td>\n",
              "      <td>-0.092204</td>\n",
              "    </tr>\n",
              "    <tr>\n",
              "      <th>2</th>\n",
              "      <td>0.085299</td>\n",
              "      <td>0.050680</td>\n",
              "      <td>0.044451</td>\n",
              "      <td>-0.005671</td>\n",
              "      <td>-0.045599</td>\n",
              "      <td>-0.034194</td>\n",
              "      <td>-0.032356</td>\n",
              "      <td>-0.002592</td>\n",
              "      <td>0.002864</td>\n",
              "      <td>-0.025930</td>\n",
              "    </tr>\n",
              "    <tr>\n",
              "      <th>3</th>\n",
              "      <td>-0.089063</td>\n",
              "      <td>-0.044642</td>\n",
              "      <td>-0.011595</td>\n",
              "      <td>-0.036656</td>\n",
              "      <td>0.012191</td>\n",
              "      <td>0.024991</td>\n",
              "      <td>-0.036038</td>\n",
              "      <td>0.034309</td>\n",
              "      <td>0.022692</td>\n",
              "      <td>-0.009362</td>\n",
              "    </tr>\n",
              "    <tr>\n",
              "      <th>4</th>\n",
              "      <td>0.005383</td>\n",
              "      <td>-0.044642</td>\n",
              "      <td>-0.036385</td>\n",
              "      <td>0.021872</td>\n",
              "      <td>0.003935</td>\n",
              "      <td>0.015596</td>\n",
              "      <td>0.008142</td>\n",
              "      <td>-0.002592</td>\n",
              "      <td>-0.031991</td>\n",
              "      <td>-0.046641</td>\n",
              "    </tr>\n",
              "    <tr>\n",
              "      <th>...</th>\n",
              "      <td>...</td>\n",
              "      <td>...</td>\n",
              "      <td>...</td>\n",
              "      <td>...</td>\n",
              "      <td>...</td>\n",
              "      <td>...</td>\n",
              "      <td>...</td>\n",
              "      <td>...</td>\n",
              "      <td>...</td>\n",
              "      <td>...</td>\n",
              "    </tr>\n",
              "    <tr>\n",
              "      <th>437</th>\n",
              "      <td>0.041708</td>\n",
              "      <td>0.050680</td>\n",
              "      <td>0.019662</td>\n",
              "      <td>0.059744</td>\n",
              "      <td>-0.005697</td>\n",
              "      <td>-0.002566</td>\n",
              "      <td>-0.028674</td>\n",
              "      <td>-0.002592</td>\n",
              "      <td>0.031193</td>\n",
              "      <td>0.007207</td>\n",
              "    </tr>\n",
              "    <tr>\n",
              "      <th>438</th>\n",
              "      <td>-0.005515</td>\n",
              "      <td>0.050680</td>\n",
              "      <td>-0.015906</td>\n",
              "      <td>-0.067642</td>\n",
              "      <td>0.049341</td>\n",
              "      <td>0.079165</td>\n",
              "      <td>-0.028674</td>\n",
              "      <td>0.034309</td>\n",
              "      <td>-0.018118</td>\n",
              "      <td>0.044485</td>\n",
              "    </tr>\n",
              "    <tr>\n",
              "      <th>439</th>\n",
              "      <td>0.041708</td>\n",
              "      <td>0.050680</td>\n",
              "      <td>-0.015906</td>\n",
              "      <td>0.017282</td>\n",
              "      <td>-0.037344</td>\n",
              "      <td>-0.013840</td>\n",
              "      <td>-0.024993</td>\n",
              "      <td>-0.011080</td>\n",
              "      <td>-0.046879</td>\n",
              "      <td>0.015491</td>\n",
              "    </tr>\n",
              "    <tr>\n",
              "      <th>440</th>\n",
              "      <td>-0.045472</td>\n",
              "      <td>-0.044642</td>\n",
              "      <td>0.039062</td>\n",
              "      <td>0.001215</td>\n",
              "      <td>0.016318</td>\n",
              "      <td>0.015283</td>\n",
              "      <td>-0.028674</td>\n",
              "      <td>0.026560</td>\n",
              "      <td>0.044528</td>\n",
              "      <td>-0.025930</td>\n",
              "    </tr>\n",
              "    <tr>\n",
              "      <th>441</th>\n",
              "      <td>-0.045472</td>\n",
              "      <td>-0.044642</td>\n",
              "      <td>-0.073030</td>\n",
              "      <td>-0.081414</td>\n",
              "      <td>0.083740</td>\n",
              "      <td>0.027809</td>\n",
              "      <td>0.173816</td>\n",
              "      <td>-0.039493</td>\n",
              "      <td>-0.004220</td>\n",
              "      <td>0.003064</td>\n",
              "    </tr>\n",
              "  </tbody>\n",
              "</table>\n",
              "<p>442 rows × 10 columns</p>\n",
              "</div>"
            ],
            "text/plain": [
              "          age       sex       bmi  ...       tch       ltg       glu\n",
              "0    0.038076  0.050680  0.061696  ... -0.002592  0.019908 -0.017646\n",
              "1   -0.001882 -0.044642 -0.051474  ... -0.039493 -0.068330 -0.092204\n",
              "2    0.085299  0.050680  0.044451  ... -0.002592  0.002864 -0.025930\n",
              "3   -0.089063 -0.044642 -0.011595  ...  0.034309  0.022692 -0.009362\n",
              "4    0.005383 -0.044642 -0.036385  ... -0.002592 -0.031991 -0.046641\n",
              "..        ...       ...       ...  ...       ...       ...       ...\n",
              "437  0.041708  0.050680  0.019662  ... -0.002592  0.031193  0.007207\n",
              "438 -0.005515  0.050680 -0.015906  ...  0.034309 -0.018118  0.044485\n",
              "439  0.041708  0.050680 -0.015906  ... -0.011080 -0.046879  0.015491\n",
              "440 -0.045472 -0.044642  0.039062  ...  0.026560  0.044528 -0.025930\n",
              "441 -0.045472 -0.044642 -0.073030  ... -0.039493 -0.004220  0.003064\n",
              "\n",
              "[442 rows x 10 columns]"
            ]
          },
          "metadata": {
            "tags": []
          },
          "execution_count": 100
        }
      ]
    },
    {
      "cell_type": "code",
      "metadata": {
        "colab": {
          "base_uri": "https://localhost:8080/"
        },
        "id": "D9VyiJDbDoyk",
        "outputId": "826b763d-2807-473b-9370-a77cd3c8441c"
      },
      "source": [
        "y"
      ],
      "execution_count": 101,
      "outputs": [
        {
          "output_type": "execute_result",
          "data": {
            "text/plain": [
              "0      151.0\n",
              "1       75.0\n",
              "2      141.0\n",
              "3      206.0\n",
              "4      135.0\n",
              "       ...  \n",
              "437    178.0\n",
              "438    104.0\n",
              "439    132.0\n",
              "440    220.0\n",
              "441     57.0\n",
              "Name: disease_progression, Length: 442, dtype: float64"
            ]
          },
          "metadata": {
            "tags": []
          },
          "execution_count": 101
        }
      ]
    },
    {
      "cell_type": "markdown",
      "metadata": {
        "id": "2iJDEjVkTqra"
      },
      "source": [
        "Split X"
      ]
    },
    {
      "cell_type": "code",
      "metadata": {
        "colab": {
          "base_uri": "https://localhost:8080/"
        },
        "id": "yPSlBRKaTs1h",
        "outputId": "5073ad81-ed07-4f31-8ff9-878989aa7bb2"
      },
      "source": [
        "from sklearn.model_selection import train_test_split\r\n",
        "\r\n",
        "# Split into validation and training data\r\n",
        "X_train, X_val, y_train, y_val = train_test_split(X, y, test_size=0.1, random_state=1)\r\n",
        "X_train.shape, X_val.shape, y_train.shape,y_val.shape"
      ],
      "execution_count": 102,
      "outputs": [
        {
          "output_type": "execute_result",
          "data": {
            "text/plain": [
              "((397, 10), (45, 10), (397,), (45,))"
            ]
          },
          "metadata": {
            "tags": []
          },
          "execution_count": 102
        }
      ]
    },
    {
      "cell_type": "markdown",
      "metadata": {
        "id": "NVJk174MT3R4"
      },
      "source": [
        "Define model"
      ]
    },
    {
      "cell_type": "code",
      "metadata": {
        "id": "lksRgYLTT7Z5"
      },
      "source": [
        "from sklearn.ensemble import GradientBoostingRegressor\r\n",
        "from sklearn.ensemble import RandomForestRegressor\r\n",
        "from sklearn.linear_model import LinearRegression\r\n",
        "from sklearn.ensemble import VotingRegressor"
      ],
      "execution_count": 103,
      "outputs": []
    },
    {
      "cell_type": "code",
      "metadata": {
        "colab": {
          "base_uri": "https://localhost:8080/"
        },
        "id": "Rx0_YDPTUHr9",
        "outputId": "2c0de9a6-acd1-46a5-b5ef-16d72976a69b"
      },
      "source": [
        "model1 = GradientBoostingRegressor(random_state=1, n_estimators=1000, max_depth=10).fit(X_train, y_train)\r\n",
        "print(model1.score(X_train, y_train))"
      ],
      "execution_count": 104,
      "outputs": [
        {
          "output_type": "stream",
          "text": [
            "1.0\n"
          ],
          "name": "stdout"
        }
      ]
    },
    {
      "cell_type": "code",
      "metadata": {
        "colab": {
          "base_uri": "https://localhost:8080/"
        },
        "id": "nKdE_S-AVEHb",
        "outputId": "dbae8d46-8365-43c3-eb16-6355bf975b4a"
      },
      "source": [
        "pred1 = model1.predict(X_val)\r\n",
        "pred1"
      ],
      "execution_count": 105,
      "outputs": [
        {
          "output_type": "execute_result",
          "data": {
            "text/plain": [
              "array([101.28541605,  95.61042295,  83.52632823,  71.67856742,\n",
              "        97.24171061, 279.83852864, 286.45413117,  56.24361101,\n",
              "       218.20100244, 104.02687071, 201.21764016, 199.18949142,\n",
              "       101.1537372 ,  88.76926527, 279.06620578, 278.08488792,\n",
              "       140.78749798,  80.2032293 , 180.76457931, 205.28149966,\n",
              "        93.62137652, 123.33349679, 118.13864486,  81.50358819,\n",
              "        98.50770544, 200.37745057, 123.95231225, 195.25944325,\n",
              "        91.31168752, 243.40002914, 102.40713573, 100.22839554,\n",
              "       169.06474146,  98.67368486, 147.66596123, 211.08443261,\n",
              "       144.44145689, 171.03583391, 165.16731415, 173.92692877,\n",
              "       221.43688601, 179.15267907, 195.80481671, 102.62443991,\n",
              "       122.48486993])"
            ]
          },
          "metadata": {
            "tags": []
          },
          "execution_count": 105
        }
      ]
    },
    {
      "cell_type": "code",
      "metadata": {
        "colab": {
          "base_uri": "https://localhost:8080/"
        },
        "id": "Ytwme0njVCcE",
        "outputId": "3a9a14ce-c28e-442e-dbec-5d5b3334c111"
      },
      "source": [
        "from sklearn.metrics import mean_squared_error\r\n",
        "\r\n",
        "rms = mean_squared_error(y_val, pred1, squared=True)\r\n",
        "rms"
      ],
      "execution_count": 106,
      "outputs": [
        {
          "output_type": "execute_result",
          "data": {
            "text/plain": [
              "6382.833736538118"
            ]
          },
          "metadata": {
            "tags": []
          },
          "execution_count": 106
        }
      ]
    },
    {
      "cell_type": "code",
      "metadata": {
        "colab": {
          "base_uri": "https://localhost:8080/",
          "height": 614
        },
        "id": "ohiv_hfXZId7",
        "outputId": "fa0ba8d5-7f1a-476b-8284-36e60a4c24d3"
      },
      "source": [
        "plt.figure(figsize=(10,10))\r\n",
        "plt.scatter(y_val, pred1, c='crimson')\r\n",
        "plt.yscale('log')\r\n",
        "plt.xscale('log')\r\n",
        "\r\n",
        "p1 = max(max(pred1), max(y_val))\r\n",
        "p2 = min(min(pred1), min(y_val))\r\n",
        "plt.plot([p1, p2], [p1, p2], 'b-')\r\n",
        "plt.xlabel('Actual Values', fontsize=15)\r\n",
        "plt.ylabel('Predictions', fontsize=15)\r\n",
        "plt.axis('equal')\r\n",
        "plt.show()"
      ],
      "execution_count": 107,
      "outputs": [
        {
          "output_type": "display_data",
          "data": {
            "image/png": "[encoded data removed]",
            "text/plain": [
              "<Figure size 720x720 with 1 Axes>"
            ]
          },
          "metadata": {
            "tags": [],
            "needs_background": "light"
          }
        }
      ]
    },
    {
      "cell_type": "code",
      "metadata": {
        "colab": {
          "base_uri": "https://localhost:8080/",
          "height": 265
        },
        "id": "8uY_4mlIYpJJ",
        "outputId": "731f851d-86ab-4550-d21b-52ba80f82d3f"
      },
      "source": [
        "plt.plot(y_val)\r\n",
        "plt.plot(pred1, 'o')\r\n",
        "plt.show()"
      ],
      "execution_count": 108,
      "outputs": [
        {
          "output_type": "display_data",
          "data": {
            "image/png": "[encoded data removed]",
            "text/plain": [
              "<Figure size 432x288 with 1 Axes>"
            ]
          },
          "metadata": {
            "tags": [],
            "needs_background": "light"
          }
        }
      ]
    },
    {
      "cell_type": "code",
      "metadata": {
        "colab": {
          "base_uri": "https://localhost:8080/"
        },
        "id": "GCAqBNmaVuK-",
        "outputId": "0b51b263-99c9-43e9-f57c-627626fcacfa"
      },
      "source": [
        "model2 = RandomForestRegressor(n_estimators=3000, max_depth=15, random_state=1).fit(X_train, y_train)\r\n",
        "print(model2.score(X_train, y_train))"
      ],
      "execution_count": 109,
      "outputs": [
        {
          "output_type": "stream",
          "text": [
            "0.9262076256681695\n"
          ],
          "name": "stdout"
        }
      ]
    },
    {
      "cell_type": "code",
      "metadata": {
        "colab": {
          "base_uri": "https://localhost:8080/"
        },
        "id": "_avV3twHWK5T",
        "outputId": "37d96997-f884-403f-fead-0fec6feb13c7"
      },
      "source": [
        "pred2 = model2.predict(X_val)\r\n",
        "pred2"
      ],
      "execution_count": 110,
      "outputs": [
        {
          "output_type": "execute_result",
          "data": {
            "text/plain": [
              "array([131.41474167, 100.81751844, 161.71874444,  73.59601057,\n",
              "       148.79690179, 257.40742178, 232.14133469,  92.9396904 ,\n",
              "       161.62161162,  97.25595909, 173.24592842, 190.42325   ,\n",
              "       108.81714497,  82.7793106 , 259.69344415, 210.61406544,\n",
              "       189.02121768,  90.71464261, 140.90855   , 192.04397353,\n",
              "       166.70263952,  79.62590238, 106.84594932, 113.55081   ,\n",
              "        94.19252129, 217.96134721,  88.32413092, 155.77606306,\n",
              "       116.792608  , 202.9441096 , 131.51574675, 158.52393706,\n",
              "       190.22584087, 107.13861609, 170.401     , 194.86226855,\n",
              "       123.32479769, 229.83411719, 145.35493358, 186.14921349,\n",
              "       185.95884054, 196.0271    , 136.5525766 , 114.4565416 ,\n",
              "       130.19560457])"
            ]
          },
          "metadata": {
            "tags": []
          },
          "execution_count": 110
        }
      ]
    },
    {
      "cell_type": "code",
      "metadata": {
        "colab": {
          "base_uri": "https://localhost:8080/"
        },
        "id": "RzdtafTUWTKX",
        "outputId": "540861aa-4298-482c-dfa0-9e2b838e073d"
      },
      "source": [
        "rms = mean_squared_error(y_val, pred2, squared=True)\r\n",
        "rms"
      ],
      "execution_count": 111,
      "outputs": [
        {
          "output_type": "execute_result",
          "data": {
            "text/plain": [
              "4173.437766060988"
            ]
          },
          "metadata": {
            "tags": []
          },
          "execution_count": 111
        }
      ]
    },
    {
      "cell_type": "code",
      "metadata": {
        "colab": {
          "base_uri": "https://localhost:8080/",
          "height": 614
        },
        "id": "bCUskarRZdRQ",
        "outputId": "dc2227ad-e995-4911-b2a6-ff20a785b44d"
      },
      "source": [
        "plt.figure(figsize=(10,10))\r\n",
        "plt.scatter(y_val, pred2, c='crimson')\r\n",
        "plt.yscale('log')\r\n",
        "plt.xscale('log')\r\n",
        "\r\n",
        "p1 = max(max(pred2), max(y_val))\r\n",
        "p2 = min(min(pred2), min(y_val))\r\n",
        "plt.plot([p1, p2], [p1, p2], 'b-')\r\n",
        "plt.xlabel('Actual Values', fontsize=15)\r\n",
        "plt.ylabel('Predictions', fontsize=15)\r\n",
        "plt.axis('equal')\r\n",
        "plt.show()"
      ],
      "execution_count": 112,
      "outputs": [
        {
          "output_type": "display_data",
          "data": {
            "image/png": "[encoded data removed]",
            "text/plain": [
              "<Figure size 720x720 with 1 Axes>"
            ]
          },
          "metadata": {
            "tags": [],
            "needs_background": "light"
          }
        }
      ]
    },
    {
      "cell_type": "code",
      "metadata": {
        "colab": {
          "base_uri": "https://localhost:8080/",
          "height": 265
        },
        "id": "aA2pyUTVZ1SP",
        "outputId": "8025941b-4f58-463a-985b-a56299843e44"
      },
      "source": [
        "plt.plot(y_val)\r\n",
        "plt.plot(pred2, 'o')\r\n",
        "plt.show()"
      ],
      "execution_count": 113,
      "outputs": [
        {
          "output_type": "display_data",
          "data": {
            "image/png": "[encoded data removed]",
            "text/plain": [
              "<Figure size 432x288 with 1 Axes>"
            ]
          },
          "metadata": {
            "tags": [],
            "needs_background": "light"
          }
        }
      ]
    },
    {
      "cell_type": "code",
      "metadata": {
        "colab": {
          "base_uri": "https://localhost:8080/"
        },
        "id": "-viqh8coWbW4",
        "outputId": "e04560d8-222d-44e0-9709-64365d90f463"
      },
      "source": [
        "model3 = LinearRegression().fit(X_train, y_train)\r\n",
        "print(model3.score(X_train, y_train))"
      ],
      "execution_count": 114,
      "outputs": [
        {
          "output_type": "stream",
          "text": [
            "0.5344510439633885\n"
          ],
          "name": "stdout"
        }
      ]
    },
    {
      "cell_type": "code",
      "metadata": {
        "colab": {
          "base_uri": "https://localhost:8080/"
        },
        "id": "BNpKAe49W0XJ",
        "outputId": "e6d62bf9-ec3a-45d2-d7b6-9be0397986d9"
      },
      "source": [
        "pred3 = model3.predict(X_val)\r\n",
        "pred3"
      ],
      "execution_count": 115,
      "outputs": [
        {
          "output_type": "execute_result",
          "data": {
            "text/plain": [
              "array([122.41932407, 111.48365055, 184.18558652,  68.52087272,\n",
              "       171.44221745, 191.06463336, 220.61738089, 117.98679452,\n",
              "       156.5524466 , 126.49478122, 213.88062061, 199.98328703,\n",
              "        90.87507124,  79.36223511, 234.96537061, 204.19340103,\n",
              "       176.94030006, 101.88594035, 111.86181655, 170.60381844,\n",
              "       185.83614993,  82.11394798, 140.77629148, 106.88120017,\n",
              "        92.28592319, 212.31820792,  92.21122242, 176.92601402,\n",
              "       119.67674197, 181.00300506, 156.75743341, 138.82248129,\n",
              "       197.06334156,  98.33667675, 163.42298972, 190.93523247,\n",
              "       107.61370587, 246.79405   , 172.97198996, 186.61704933,\n",
              "       162.58918571, 180.1143173 , 118.5461696 , 121.61931807,\n",
              "       145.27196886])"
            ]
          },
          "metadata": {
            "tags": []
          },
          "execution_count": 115
        }
      ]
    },
    {
      "cell_type": "code",
      "metadata": {
        "colab": {
          "base_uri": "https://localhost:8080/"
        },
        "id": "CTbol6rKXCVv",
        "outputId": "da258dd5-a388-4077-95f2-2c5467d129ae"
      },
      "source": [
        "rms = mean_squared_error(y_val, pred3, squared=True)\r\n",
        "rms"
      ],
      "execution_count": 116,
      "outputs": [
        {
          "output_type": "execute_result",
          "data": {
            "text/plain": [
              "3319.692587139559"
            ]
          },
          "metadata": {
            "tags": []
          },
          "execution_count": 116
        }
      ]
    },
    {
      "cell_type": "code",
      "metadata": {
        "colab": {
          "base_uri": "https://localhost:8080/",
          "height": 614
        },
        "id": "WCFlXL3YaDE6",
        "outputId": "b0f4803c-d2d8-4fea-b136-886e7c34d0fc"
      },
      "source": [
        "plt.figure(figsize=(10,10))\r\n",
        "plt.scatter(y_val, pred3, c='crimson')\r\n",
        "plt.yscale('log')\r\n",
        "plt.xscale('log')\r\n",
        "\r\n",
        "p1 = max(max(pred3), max(y_val))\r\n",
        "p2 = min(min(pred3), min(y_val))\r\n",
        "plt.plot([p1, p2], [p1, p2], 'b-')\r\n",
        "plt.xlabel('Actual Values', fontsize=15)\r\n",
        "plt.ylabel('Predictions', fontsize=15)\r\n",
        "plt.axis('equal')\r\n",
        "plt.show()"
      ],
      "execution_count": 117,
      "outputs": [
        {
          "output_type": "display_data",
          "data": {
            "image/png": "[encoded data removed]",
            "text/plain": [
              "<Figure size 720x720 with 1 Axes>"
            ]
          },
          "metadata": {
            "tags": [],
            "needs_background": "light"
          }
        }
      ]
    },
    {
      "cell_type": "code",
      "metadata": {
        "colab": {
          "base_uri": "https://localhost:8080/",
          "height": 265
        },
        "id": "9HkrPliAaSV-",
        "outputId": "e4c3063a-fff4-4a2c-d2f8-de99bdc131a1"
      },
      "source": [
        "plt.plot(y_val)\r\n",
        "plt.plot(pred3, 'o')\r\n",
        "plt.show()"
      ],
      "execution_count": 118,
      "outputs": [
        {
          "output_type": "display_data",
          "data": {
            "image/png": "[encoded data removed]",
            "text/plain": [
              "<Figure size 432x288 with 1 Axes>"
            ]
          },
          "metadata": {
            "tags": [],
            "needs_background": "light"
          }
        }
      ]
    },
    {
      "cell_type": "code",
      "metadata": {
        "colab": {
          "base_uri": "https://localhost:8080/"
        },
        "id": "CUWGu8UvXKWO",
        "outputId": "980a61df-2389-4a85-f0d5-e1d920fc0e5c"
      },
      "source": [
        "model_vote = VotingRegressor([('gb', model1), ('rf', model2), ('lr', model3)]).fit(X_train, y_train)\r\n",
        "print(model_vote.score(X_train, y_train))"
      ],
      "execution_count": 119,
      "outputs": [
        {
          "output_type": "stream",
          "text": [
            "0.9028386563766272\n"
          ],
          "name": "stdout"
        }
      ]
    },
    {
      "cell_type": "code",
      "metadata": {
        "colab": {
          "base_uri": "https://localhost:8080/"
        },
        "id": "SyevYC3tX4UV",
        "outputId": "89b6fc96-1ec8-4353-c49f-cfa10dd7d0e9"
      },
      "source": [
        "pred_vote = model_vote.predict(X_val)\r\n",
        "pred_vote"
      ],
      "execution_count": 120,
      "outputs": [
        {
          "output_type": "execute_result",
          "data": {
            "text/plain": [
              "array([118.37316059, 102.63719731, 143.14355306,  71.26515024,\n",
              "       139.16027662, 242.77019459, 246.40428225,  89.05669864,\n",
              "       178.79168689, 109.25920367, 196.11472973, 196.53200948,\n",
              "       100.28198447,  83.63693699, 257.90834018, 230.96411813,\n",
              "       168.91633857,  90.93460409, 144.51164862, 189.30976388,\n",
              "       148.72005532,  95.02444905, 121.92029522, 100.64519945,\n",
              "        94.99538331, 210.2190019 , 101.49588853, 175.98717345,\n",
              "       109.26034583, 209.1157146 , 130.22677196, 132.52493796,\n",
              "       185.45130796, 101.38299257, 160.49665032, 198.96064454,\n",
              "       125.12665348, 215.88800037, 161.1647459 , 182.23106387,\n",
              "       189.99497076, 185.09803213, 150.30118764, 112.90009986,\n",
              "       132.65081445])"
            ]
          },
          "metadata": {
            "tags": []
          },
          "execution_count": 120
        }
      ]
    },
    {
      "cell_type": "code",
      "metadata": {
        "colab": {
          "base_uri": "https://localhost:8080/"
        },
        "id": "gTIyNFX4XzP8",
        "outputId": "4b9425ea-51e8-406a-8bc6-c3a46b0d0f19"
      },
      "source": [
        "rms = mean_squared_error(y_val, pred_vote, squared=True)\r\n",
        "rms"
      ],
      "execution_count": 121,
      "outputs": [
        {
          "output_type": "execute_result",
          "data": {
            "text/plain": [
              "4209.90354103684"
            ]
          },
          "metadata": {
            "tags": []
          },
          "execution_count": 121
        }
      ]
    },
    {
      "cell_type": "code",
      "metadata": {
        "colab": {
          "base_uri": "https://localhost:8080/",
          "height": 614
        },
        "id": "jWT6f7EBadjA",
        "outputId": "b150db0e-fe48-41b1-8bee-67b72d68fa00"
      },
      "source": [
        "plt.figure(figsize=(10,10))\r\n",
        "plt.scatter(y_val, pred_vote, c='crimson')\r\n",
        "plt.yscale('log')\r\n",
        "plt.xscale('log')\r\n",
        "\r\n",
        "p1 = max(max(pred_vote), max(y_val))\r\n",
        "p2 = min(min(pred_vote), min(y_val))\r\n",
        "plt.plot([p1, p2], [p1, p2], 'b-')\r\n",
        "plt.xlabel('Actual Values', fontsize=15)\r\n",
        "plt.ylabel('Predictions', fontsize=15)\r\n",
        "plt.axis('equal')\r\n",
        "plt.show()"
      ],
      "execution_count": 122,
      "outputs": [
        {
          "output_type": "display_data",
          "data": {
            "image/png": "[encoded data removed]",
            "text/plain": [
              "<Figure size 720x720 with 1 Axes>"
            ]
          },
          "metadata": {
            "tags": [],
            "needs_background": "light"
          }
        }
      ]
    }
  ]
}