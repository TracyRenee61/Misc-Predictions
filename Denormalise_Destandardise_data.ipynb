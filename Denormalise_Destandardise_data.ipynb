{
  "nbformat": 4,
  "nbformat_minor": 0,
  "metadata": {
    "colab": {
      "name": "Denormalise - Destandardise data.ipynb",
      "provenance": []
    },
    "kernelspec": {
      "name": "python3",
      "display_name": "Python 3"
    }
  },
  "cells": [
    {
      "cell_type": "markdown",
      "metadata": {
        "id": "0ZrtEx6mMUSO"
      },
      "source": [
        "taken from:-\r\n",
        "https://martinfournier.com/how-to-normalize-and-denormalize-data-between-0-and-1/"
      ]
    },
    {
      "cell_type": "markdown",
      "metadata": {
        "id": "DNtzvNeFPRvE"
      },
      "source": [
        "Import libraries"
      ]
    },
    {
      "cell_type": "code",
      "metadata": {
        "id": "mFX4jh3sJowq"
      },
      "source": [
        "import numpy as np\r\n",
        "import pandas as pd"
      ],
      "execution_count": null,
      "outputs": []
    },
    {
      "cell_type": "markdown",
      "metadata": {
        "id": "QiJ9GkcrPUH0"
      },
      "source": [
        "Create dataframe"
      ]
    },
    {
      "cell_type": "code",
      "metadata": {
        "colab": {
          "base_uri": "https://localhost:8080/"
        },
        "id": "eQOCo1FzJuzk",
        "outputId": "04ff0b31-028c-4f3a-aa6c-12f4882cd7d6"
      },
      "source": [
        "data = np.array([1,2,3,4,5,6,7,8,9,10,11,12,13,14,15,16,17,18,19,20,21,22,23,24,25])\r\n",
        "data"
      ],
      "execution_count": null,
      "outputs": [
        {
          "output_type": "execute_result",
          "data": {
            "text/plain": [
              "array([ 1,  2,  3,  4,  5,  6,  7,  8,  9, 10, 11, 12, 13, 14, 15, 16, 17,\n",
              "       18, 19, 20, 21, 22, 23, 24, 25])"
            ]
          },
          "metadata": {
            "tags": []
          },
          "execution_count": 98
        }
      ]
    },
    {
      "cell_type": "code",
      "metadata": {
        "colab": {
          "base_uri": "https://localhost:8080/"
        },
        "id": "VWj57_yLKT_f",
        "outputId": "4e6aa0d4-fde7-4482-86f5-80afe3838114"
      },
      "source": [
        "d_min = min(data)\r\n",
        "d_min"
      ],
      "execution_count": null,
      "outputs": [
        {
          "output_type": "execute_result",
          "data": {
            "text/plain": [
              "1"
            ]
          },
          "metadata": {
            "tags": []
          },
          "execution_count": 99
        }
      ]
    },
    {
      "cell_type": "code",
      "metadata": {
        "colab": {
          "base_uri": "https://localhost:8080/"
        },
        "id": "k8QSq7nxKhaf",
        "outputId": "bed72250-9a88-4ef9-b74b-447cd93fd0c5"
      },
      "source": [
        "d_max = max(data)\r\n",
        "d_max"
      ],
      "execution_count": null,
      "outputs": [
        {
          "output_type": "execute_result",
          "data": {
            "text/plain": [
              "25"
            ]
          },
          "metadata": {
            "tags": []
          },
          "execution_count": 100
        }
      ]
    },
    {
      "cell_type": "code",
      "metadata": {
        "colab": {
          "base_uri": "https://localhost:8080/"
        },
        "id": "izgiyzHhPsD3",
        "outputId": "432026e0-dee9-439d-e53c-1fc25f8d8e90"
      },
      "source": [
        "d_mean = sum(data) / len(data)\r\n",
        "d_mean"
      ],
      "execution_count": null,
      "outputs": [
        {
          "output_type": "execute_result",
          "data": {
            "text/plain": [
              "13.0"
            ]
          },
          "metadata": {
            "tags": []
          },
          "execution_count": 101
        }
      ]
    },
    {
      "cell_type": "code",
      "metadata": {
        "colab": {
          "base_uri": "https://localhost:8080/"
        },
        "id": "6pucDkSPPwje",
        "outputId": "a82fad74-db81-431f-85c2-cd9feaece77b"
      },
      "source": [
        "d_std = np.std(data)\r\n",
        "d_std"
      ],
      "execution_count": null,
      "outputs": [
        {
          "output_type": "execute_result",
          "data": {
            "text/plain": [
              "7.211102550927978"
            ]
          },
          "metadata": {
            "tags": []
          },
          "execution_count": 102
        }
      ]
    },
    {
      "cell_type": "markdown",
      "metadata": {
        "id": "UwKQdDctPYQT"
      },
      "source": [
        "Normalise"
      ]
    },
    {
      "cell_type": "code",
      "metadata": {
        "colab": {
          "base_uri": "https://localhost:8080/"
        },
        "id": "tVi3ppzJJ4Cq",
        "outputId": "bf9cc870-18fd-4274-d163-9bb33c2e64be"
      },
      "source": [
        "norm = (data - d_min) / (d_max - d_min)\r\n",
        "norm"
      ],
      "execution_count": null,
      "outputs": [
        {
          "output_type": "execute_result",
          "data": {
            "text/plain": [
              "array([0.        , 0.04166667, 0.08333333, 0.125     , 0.16666667,\n",
              "       0.20833333, 0.25      , 0.29166667, 0.33333333, 0.375     ,\n",
              "       0.41666667, 0.45833333, 0.5       , 0.54166667, 0.58333333,\n",
              "       0.625     , 0.66666667, 0.70833333, 0.75      , 0.79166667,\n",
              "       0.83333333, 0.875     , 0.91666667, 0.95833333, 1.        ])"
            ]
          },
          "metadata": {
            "tags": []
          },
          "execution_count": 103
        }
      ]
    },
    {
      "cell_type": "markdown",
      "metadata": {
        "id": "UXqHvi2TPbtD"
      },
      "source": [
        "Denormalise"
      ]
    },
    {
      "cell_type": "code",
      "metadata": {
        "colab": {
          "base_uri": "https://localhost:8080/"
        },
        "id": "ubN9Y7efLvhJ",
        "outputId": "6ac433f7-9125-433b-f564-b3a5ff26bb8c"
      },
      "source": [
        "denorm = (norm * (d_max - d_min) + d_min)\r\n",
        "denorm"
      ],
      "execution_count": null,
      "outputs": [
        {
          "output_type": "execute_result",
          "data": {
            "text/plain": [
              "array([ 1.,  2.,  3.,  4.,  5.,  6.,  7.,  8.,  9., 10., 11., 12., 13.,\n",
              "       14., 15., 16., 17., 18., 19., 20., 21., 22., 23., 24., 25.])"
            ]
          },
          "metadata": {
            "tags": []
          },
          "execution_count": 104
        }
      ]
    },
    {
      "cell_type": "markdown",
      "metadata": {
        "id": "vobu8ALAPfFy"
      },
      "source": [
        "Standardise"
      ]
    },
    {
      "cell_type": "code",
      "metadata": {
        "colab": {
          "base_uri": "https://localhost:8080/"
        },
        "id": "jzAyEAefPhUZ",
        "outputId": "27fa867c-6da1-4b25-f97e-593d322b1264"
      },
      "source": [
        "stan = (data - d_mean) / d_std\r\n",
        "stan"
      ],
      "execution_count": null,
      "outputs": [
        {
          "output_type": "execute_result",
          "data": {
            "text/plain": [
              "array([-1.66410059, -1.52542554, -1.38675049, -1.24807544, -1.10940039,\n",
              "       -0.97072534, -0.83205029, -0.69337525, -0.5547002 , -0.41602515,\n",
              "       -0.2773501 , -0.13867505,  0.        ,  0.13867505,  0.2773501 ,\n",
              "        0.41602515,  0.5547002 ,  0.69337525,  0.83205029,  0.97072534,\n",
              "        1.10940039,  1.24807544,  1.38675049,  1.52542554,  1.66410059])"
            ]
          },
          "metadata": {
            "tags": []
          },
          "execution_count": 105
        }
      ]
    },
    {
      "cell_type": "markdown",
      "metadata": {
        "id": "DwB4ks7mRGI3"
      },
      "source": [
        "Destandardise"
      ]
    },
    {
      "cell_type": "code",
      "metadata": {
        "colab": {
          "base_uri": "https://localhost:8080/"
        },
        "id": "hsDHVR5FRJR-",
        "outputId": "172cf8e8-c0e3-48fd-b4f7-222f8e2b11f6"
      },
      "source": [
        "destan = stan * d_std + d_mean\r\n",
        "destan"
      ],
      "execution_count": null,
      "outputs": [
        {
          "output_type": "execute_result",
          "data": {
            "text/plain": [
              "array([ 1.,  2.,  3.,  4.,  5.,  6.,  7.,  8.,  9., 10., 11., 12., 13.,\n",
              "       14., 15., 16., 17., 18., 19., 20., 21., 22., 23., 24., 25.])"
            ]
          },
          "metadata": {
            "tags": []
          },
          "execution_count": 106
        }
      ]
    }
  ]
}