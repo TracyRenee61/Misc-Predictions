{
  "nbformat": 4,
  "nbformat_minor": 0,
  "metadata": {
    "colab": {
      "name": "Linnerrud dataset.ipynb",
      "provenance": []
    },
    "kernelspec": {
      "name": "python3",
      "display_name": "Python 3"
    }
  },
  "cells": [
    {
      "cell_type": "markdown",
      "metadata": {
        "id": "AyRAL0eXpKuK"
      },
      "source": [
        "Import libraries"
      ]
    },
    {
      "cell_type": "markdown",
      "metadata": {
        "id": "e1UDWj3fqy7h"
      },
      "source": [
        "The Linnerud dataset is a multi-output regression dataset. It consists of three excercise (data) and three physiological (target) variables collected from twenty middle-aged men in a fitness club:\r\n",
        "\r\n",
        "physiological - CSV containing 20 observations on 3 physiological variables:\r\n",
        "Weight, Waist and Pulse.\r\n",
        "\r\n",
        "exercise - CSV containing 20 observations on 3 exercise variables:\r\n",
        "Chins, Situps and Jumps.\r\n",
        "\r\n"
      ]
    },
    {
      "cell_type": "code",
      "metadata": {
        "id": "ZOunDYtXpAZ2"
      },
      "source": [
        "import pandas as pd\r\n",
        "import numpy as np\r\n",
        "import matplotlib.pyplot as plt\r\n",
        "import seaborn as sns"
      ],
      "execution_count": 440,
      "outputs": []
    },
    {
      "cell_type": "markdown",
      "metadata": {
        "id": "FVsvujoqpV5T"
      },
      "source": [
        "Read file"
      ]
    },
    {
      "cell_type": "code",
      "metadata": {
        "id": "80GcFSnLpU02"
      },
      "source": [
        "from sklearn.datasets import load_linnerud\r\n",
        "\r\n",
        "X, y = load_linnerud(return_X_y=True)"
      ],
      "execution_count": 441,
      "outputs": []
    },
    {
      "cell_type": "code",
      "metadata": {
        "colab": {
          "base_uri": "https://localhost:8080/"
        },
        "id": "dWhBAWazp59n",
        "outputId": "be318911-1c3b-4df6-eba0-b53f3660cbaa"
      },
      "source": [
        "X"
      ],
      "execution_count": 442,
      "outputs": [
        {
          "output_type": "execute_result",
          "data": {
            "text/plain": [
              "array([[  5., 162.,  60.],\n",
              "       [  2., 110.,  60.],\n",
              "       [ 12., 101., 101.],\n",
              "       [ 12., 105.,  37.],\n",
              "       [ 13., 155.,  58.],\n",
              "       [  4., 101.,  42.],\n",
              "       [  8., 101.,  38.],\n",
              "       [  6., 125.,  40.],\n",
              "       [ 15., 200.,  40.],\n",
              "       [ 17., 251., 250.],\n",
              "       [ 17., 120.,  38.],\n",
              "       [ 13., 210., 115.],\n",
              "       [ 14., 215., 105.],\n",
              "       [  1.,  50.,  50.],\n",
              "       [  6.,  70.,  31.],\n",
              "       [ 12., 210., 120.],\n",
              "       [  4.,  60.,  25.],\n",
              "       [ 11., 230.,  80.],\n",
              "       [ 15., 225.,  73.],\n",
              "       [  2., 110.,  43.]])"
            ]
          },
          "metadata": {
            "tags": []
          },
          "execution_count": 442
        }
      ]
    },
    {
      "cell_type": "code",
      "metadata": {
        "colab": {
          "base_uri": "https://localhost:8080/"
        },
        "id": "0jrOm885p8Tr",
        "outputId": "9dfbb7c7-57b4-4725-d5a9-2b75d7bc6a31"
      },
      "source": [
        "y"
      ],
      "execution_count": 443,
      "outputs": [
        {
          "output_type": "execute_result",
          "data": {
            "text/plain": [
              "array([[191.,  36.,  50.],\n",
              "       [189.,  37.,  52.],\n",
              "       [193.,  38.,  58.],\n",
              "       [162.,  35.,  62.],\n",
              "       [189.,  35.,  46.],\n",
              "       [182.,  36.,  56.],\n",
              "       [211.,  38.,  56.],\n",
              "       [167.,  34.,  60.],\n",
              "       [176.,  31.,  74.],\n",
              "       [154.,  33.,  56.],\n",
              "       [169.,  34.,  50.],\n",
              "       [166.,  33.,  52.],\n",
              "       [154.,  34.,  64.],\n",
              "       [247.,  46.,  50.],\n",
              "       [193.,  36.,  46.],\n",
              "       [202.,  37.,  62.],\n",
              "       [176.,  37.,  54.],\n",
              "       [157.,  32.,  52.],\n",
              "       [156.,  33.,  54.],\n",
              "       [138.,  33.,  68.]])"
            ]
          },
          "metadata": {
            "tags": []
          },
          "execution_count": 443
        }
      ]
    },
    {
      "cell_type": "markdown",
      "metadata": {
        "id": "P0iYjFSirvYq"
      },
      "source": [
        "Create dataframe"
      ]
    },
    {
      "cell_type": "code",
      "metadata": {
        "colab": {
          "base_uri": "https://localhost:8080/"
        },
        "id": "n_IxwdJUryuP",
        "outputId": "b7f2db86-20e1-4dca-a6a2-3d8dfba860d3"
      },
      "source": [
        "df1 = pd.DataFrame(X, columns=[\"weight\",\"waist\",\"pulse\"])\r\n",
        "print(df1)"
      ],
      "execution_count": 444,
      "outputs": [
        {
          "output_type": "stream",
          "text": [
            "    weight  waist  pulse\n",
            "0      5.0  162.0   60.0\n",
            "1      2.0  110.0   60.0\n",
            "2     12.0  101.0  101.0\n",
            "3     12.0  105.0   37.0\n",
            "4     13.0  155.0   58.0\n",
            "5      4.0  101.0   42.0\n",
            "6      8.0  101.0   38.0\n",
            "7      6.0  125.0   40.0\n",
            "8     15.0  200.0   40.0\n",
            "9     17.0  251.0  250.0\n",
            "10    17.0  120.0   38.0\n",
            "11    13.0  210.0  115.0\n",
            "12    14.0  215.0  105.0\n",
            "13     1.0   50.0   50.0\n",
            "14     6.0   70.0   31.0\n",
            "15    12.0  210.0  120.0\n",
            "16     4.0   60.0   25.0\n",
            "17    11.0  230.0   80.0\n",
            "18    15.0  225.0   73.0\n",
            "19     2.0  110.0   43.0\n"
          ],
          "name": "stdout"
        }
      ]
    },
    {
      "cell_type": "code",
      "metadata": {
        "colab": {
          "base_uri": "https://localhost:8080/"
        },
        "id": "QPIzJtszsGpj",
        "outputId": "969ab2a5-c9e6-4b76-d7e4-fbd3b0648a60"
      },
      "source": [
        "df2 = pd.DataFrame(y, columns=[\"chins\", \"sit_ups\", \"jumps\"])\r\n",
        "print(df2)"
      ],
      "execution_count": 445,
      "outputs": [
        {
          "output_type": "stream",
          "text": [
            "    chins  sit_ups  jumps\n",
            "0   191.0     36.0   50.0\n",
            "1   189.0     37.0   52.0\n",
            "2   193.0     38.0   58.0\n",
            "3   162.0     35.0   62.0\n",
            "4   189.0     35.0   46.0\n",
            "5   182.0     36.0   56.0\n",
            "6   211.0     38.0   56.0\n",
            "7   167.0     34.0   60.0\n",
            "8   176.0     31.0   74.0\n",
            "9   154.0     33.0   56.0\n",
            "10  169.0     34.0   50.0\n",
            "11  166.0     33.0   52.0\n",
            "12  154.0     34.0   64.0\n",
            "13  247.0     46.0   50.0\n",
            "14  193.0     36.0   46.0\n",
            "15  202.0     37.0   62.0\n",
            "16  176.0     37.0   54.0\n",
            "17  157.0     32.0   52.0\n",
            "18  156.0     33.0   54.0\n",
            "19  138.0     33.0   68.0\n"
          ],
          "name": "stdout"
        }
      ]
    },
    {
      "cell_type": "code",
      "metadata": {
        "colab": {
          "base_uri": "https://localhost:8080/",
          "height": 647
        },
        "id": "g59Xt88isgY-",
        "outputId": "6e2345f4-f4e0-4f43-c897-0be0081f014b"
      },
      "source": [
        "df = pd.merge(df1,df2, left_index=True, right_index=True)\r\n",
        "df"
      ],
      "execution_count": 446,
      "outputs": [
        {
          "output_type": "execute_result",
          "data": {
            "text/html": [
              "<div>\n",
              "<style scoped>\n",
              "    .dataframe tbody tr th:only-of-type {\n",
              "        vertical-align: middle;\n",
              "    }\n",
              "\n",
              "    .dataframe tbody tr th {\n",
              "        vertical-align: top;\n",
              "    }\n",
              "\n",
              "    .dataframe thead th {\n",
              "        text-align: right;\n",
              "    }\n",
              "</style>\n",
              "<table border=\"1\" class=\"dataframe\">\n",
              "  <thead>\n",
              "    <tr style=\"text-align: right;\">\n",
              "      <th></th>\n",
              "      <th>weight</th>\n",
              "      <th>waist</th>\n",
              "      <th>pulse</th>\n",
              "      <th>chins</th>\n",
              "      <th>sit_ups</th>\n",
              "      <th>jumps</th>\n",
              "    </tr>\n",
              "  </thead>\n",
              "  <tbody>\n",
              "    <tr>\n",
              "      <th>0</th>\n",
              "      <td>5.0</td>\n",
              "      <td>162.0</td>\n",
              "      <td>60.0</td>\n",
              "      <td>191.0</td>\n",
              "      <td>36.0</td>\n",
              "      <td>50.0</td>\n",
              "    </tr>\n",
              "    <tr>\n",
              "      <th>1</th>\n",
              "      <td>2.0</td>\n",
              "      <td>110.0</td>\n",
              "      <td>60.0</td>\n",
              "      <td>189.0</td>\n",
              "      <td>37.0</td>\n",
              "      <td>52.0</td>\n",
              "    </tr>\n",
              "    <tr>\n",
              "      <th>2</th>\n",
              "      <td>12.0</td>\n",
              "      <td>101.0</td>\n",
              "      <td>101.0</td>\n",
              "      <td>193.0</td>\n",
              "      <td>38.0</td>\n",
              "      <td>58.0</td>\n",
              "    </tr>\n",
              "    <tr>\n",
              "      <th>3</th>\n",
              "      <td>12.0</td>\n",
              "      <td>105.0</td>\n",
              "      <td>37.0</td>\n",
              "      <td>162.0</td>\n",
              "      <td>35.0</td>\n",
              "      <td>62.0</td>\n",
              "    </tr>\n",
              "    <tr>\n",
              "      <th>4</th>\n",
              "      <td>13.0</td>\n",
              "      <td>155.0</td>\n",
              "      <td>58.0</td>\n",
              "      <td>189.0</td>\n",
              "      <td>35.0</td>\n",
              "      <td>46.0</td>\n",
              "    </tr>\n",
              "    <tr>\n",
              "      <th>5</th>\n",
              "      <td>4.0</td>\n",
              "      <td>101.0</td>\n",
              "      <td>42.0</td>\n",
              "      <td>182.0</td>\n",
              "      <td>36.0</td>\n",
              "      <td>56.0</td>\n",
              "    </tr>\n",
              "    <tr>\n",
              "      <th>6</th>\n",
              "      <td>8.0</td>\n",
              "      <td>101.0</td>\n",
              "      <td>38.0</td>\n",
              "      <td>211.0</td>\n",
              "      <td>38.0</td>\n",
              "      <td>56.0</td>\n",
              "    </tr>\n",
              "    <tr>\n",
              "      <th>7</th>\n",
              "      <td>6.0</td>\n",
              "      <td>125.0</td>\n",
              "      <td>40.0</td>\n",
              "      <td>167.0</td>\n",
              "      <td>34.0</td>\n",
              "      <td>60.0</td>\n",
              "    </tr>\n",
              "    <tr>\n",
              "      <th>8</th>\n",
              "      <td>15.0</td>\n",
              "      <td>200.0</td>\n",
              "      <td>40.0</td>\n",
              "      <td>176.0</td>\n",
              "      <td>31.0</td>\n",
              "      <td>74.0</td>\n",
              "    </tr>\n",
              "    <tr>\n",
              "      <th>9</th>\n",
              "      <td>17.0</td>\n",
              "      <td>251.0</td>\n",
              "      <td>250.0</td>\n",
              "      <td>154.0</td>\n",
              "      <td>33.0</td>\n",
              "      <td>56.0</td>\n",
              "    </tr>\n",
              "    <tr>\n",
              "      <th>10</th>\n",
              "      <td>17.0</td>\n",
              "      <td>120.0</td>\n",
              "      <td>38.0</td>\n",
              "      <td>169.0</td>\n",
              "      <td>34.0</td>\n",
              "      <td>50.0</td>\n",
              "    </tr>\n",
              "    <tr>\n",
              "      <th>11</th>\n",
              "      <td>13.0</td>\n",
              "      <td>210.0</td>\n",
              "      <td>115.0</td>\n",
              "      <td>166.0</td>\n",
              "      <td>33.0</td>\n",
              "      <td>52.0</td>\n",
              "    </tr>\n",
              "    <tr>\n",
              "      <th>12</th>\n",
              "      <td>14.0</td>\n",
              "      <td>215.0</td>\n",
              "      <td>105.0</td>\n",
              "      <td>154.0</td>\n",
              "      <td>34.0</td>\n",
              "      <td>64.0</td>\n",
              "    </tr>\n",
              "    <tr>\n",
              "      <th>13</th>\n",
              "      <td>1.0</td>\n",
              "      <td>50.0</td>\n",
              "      <td>50.0</td>\n",
              "      <td>247.0</td>\n",
              "      <td>46.0</td>\n",
              "      <td>50.0</td>\n",
              "    </tr>\n",
              "    <tr>\n",
              "      <th>14</th>\n",
              "      <td>6.0</td>\n",
              "      <td>70.0</td>\n",
              "      <td>31.0</td>\n",
              "      <td>193.0</td>\n",
              "      <td>36.0</td>\n",
              "      <td>46.0</td>\n",
              "    </tr>\n",
              "    <tr>\n",
              "      <th>15</th>\n",
              "      <td>12.0</td>\n",
              "      <td>210.0</td>\n",
              "      <td>120.0</td>\n",
              "      <td>202.0</td>\n",
              "      <td>37.0</td>\n",
              "      <td>62.0</td>\n",
              "    </tr>\n",
              "    <tr>\n",
              "      <th>16</th>\n",
              "      <td>4.0</td>\n",
              "      <td>60.0</td>\n",
              "      <td>25.0</td>\n",
              "      <td>176.0</td>\n",
              "      <td>37.0</td>\n",
              "      <td>54.0</td>\n",
              "    </tr>\n",
              "    <tr>\n",
              "      <th>17</th>\n",
              "      <td>11.0</td>\n",
              "      <td>230.0</td>\n",
              "      <td>80.0</td>\n",
              "      <td>157.0</td>\n",
              "      <td>32.0</td>\n",
              "      <td>52.0</td>\n",
              "    </tr>\n",
              "    <tr>\n",
              "      <th>18</th>\n",
              "      <td>15.0</td>\n",
              "      <td>225.0</td>\n",
              "      <td>73.0</td>\n",
              "      <td>156.0</td>\n",
              "      <td>33.0</td>\n",
              "      <td>54.0</td>\n",
              "    </tr>\n",
              "    <tr>\n",
              "      <th>19</th>\n",
              "      <td>2.0</td>\n",
              "      <td>110.0</td>\n",
              "      <td>43.0</td>\n",
              "      <td>138.0</td>\n",
              "      <td>33.0</td>\n",
              "      <td>68.0</td>\n",
              "    </tr>\n",
              "  </tbody>\n",
              "</table>\n",
              "</div>"
            ],
            "text/plain": [
              "    weight  waist  pulse  chins  sit_ups  jumps\n",
              "0      5.0  162.0   60.0  191.0     36.0   50.0\n",
              "1      2.0  110.0   60.0  189.0     37.0   52.0\n",
              "2     12.0  101.0  101.0  193.0     38.0   58.0\n",
              "3     12.0  105.0   37.0  162.0     35.0   62.0\n",
              "4     13.0  155.0   58.0  189.0     35.0   46.0\n",
              "5      4.0  101.0   42.0  182.0     36.0   56.0\n",
              "6      8.0  101.0   38.0  211.0     38.0   56.0\n",
              "7      6.0  125.0   40.0  167.0     34.0   60.0\n",
              "8     15.0  200.0   40.0  176.0     31.0   74.0\n",
              "9     17.0  251.0  250.0  154.0     33.0   56.0\n",
              "10    17.0  120.0   38.0  169.0     34.0   50.0\n",
              "11    13.0  210.0  115.0  166.0     33.0   52.0\n",
              "12    14.0  215.0  105.0  154.0     34.0   64.0\n",
              "13     1.0   50.0   50.0  247.0     46.0   50.0\n",
              "14     6.0   70.0   31.0  193.0     36.0   46.0\n",
              "15    12.0  210.0  120.0  202.0     37.0   62.0\n",
              "16     4.0   60.0   25.0  176.0     37.0   54.0\n",
              "17    11.0  230.0   80.0  157.0     32.0   52.0\n",
              "18    15.0  225.0   73.0  156.0     33.0   54.0\n",
              "19     2.0  110.0   43.0  138.0     33.0   68.0"
            ]
          },
          "metadata": {
            "tags": []
          },
          "execution_count": 446
        }
      ]
    },
    {
      "cell_type": "code",
      "metadata": {
        "colab": {
          "base_uri": "https://localhost:8080/"
        },
        "id": "lDwmez_atNfD",
        "outputId": "b5d48fd2-37c5-492a-b23c-c9e4ac8f9b0c"
      },
      "source": [
        "df.info()"
      ],
      "execution_count": 447,
      "outputs": [
        {
          "output_type": "stream",
          "text": [
            "<class 'pandas.core.frame.DataFrame'>\n",
            "RangeIndex: 20 entries, 0 to 19\n",
            "Data columns (total 6 columns):\n",
            " #   Column   Non-Null Count  Dtype  \n",
            "---  ------   --------------  -----  \n",
            " 0   weight   20 non-null     float64\n",
            " 1   waist    20 non-null     float64\n",
            " 2   pulse    20 non-null     float64\n",
            " 3   chins    20 non-null     float64\n",
            " 4   sit_ups  20 non-null     float64\n",
            " 5   jumps    20 non-null     float64\n",
            "dtypes: float64(6)\n",
            "memory usage: 1.1 KB\n"
          ],
          "name": "stdout"
        }
      ]
    },
    {
      "cell_type": "code",
      "metadata": {
        "colab": {
          "base_uri": "https://localhost:8080/",
          "height": 287
        },
        "id": "4bBv3FL7tZNT",
        "outputId": "46e4a4b3-e0df-439a-8cf0-d261afe3193a"
      },
      "source": [
        "df.describe()"
      ],
      "execution_count": 448,
      "outputs": [
        {
          "output_type": "execute_result",
          "data": {
            "text/html": [
              "<div>\n",
              "<style scoped>\n",
              "    .dataframe tbody tr th:only-of-type {\n",
              "        vertical-align: middle;\n",
              "    }\n",
              "\n",
              "    .dataframe tbody tr th {\n",
              "        vertical-align: top;\n",
              "    }\n",
              "\n",
              "    .dataframe thead th {\n",
              "        text-align: right;\n",
              "    }\n",
              "</style>\n",
              "<table border=\"1\" class=\"dataframe\">\n",
              "  <thead>\n",
              "    <tr style=\"text-align: right;\">\n",
              "      <th></th>\n",
              "      <th>weight</th>\n",
              "      <th>waist</th>\n",
              "      <th>pulse</th>\n",
              "      <th>chins</th>\n",
              "      <th>sit_ups</th>\n",
              "      <th>jumps</th>\n",
              "    </tr>\n",
              "  </thead>\n",
              "  <tbody>\n",
              "    <tr>\n",
              "      <th>count</th>\n",
              "      <td>20.000000</td>\n",
              "      <td>20.000000</td>\n",
              "      <td>20.00000</td>\n",
              "      <td>20.000000</td>\n",
              "      <td>20.000000</td>\n",
              "      <td>20.000000</td>\n",
              "    </tr>\n",
              "    <tr>\n",
              "      <th>mean</th>\n",
              "      <td>9.450000</td>\n",
              "      <td>145.550000</td>\n",
              "      <td>70.30000</td>\n",
              "      <td>178.600000</td>\n",
              "      <td>35.400000</td>\n",
              "      <td>56.100000</td>\n",
              "    </tr>\n",
              "    <tr>\n",
              "      <th>std</th>\n",
              "      <td>5.286278</td>\n",
              "      <td>62.566575</td>\n",
              "      <td>51.27747</td>\n",
              "      <td>24.690505</td>\n",
              "      <td>3.201973</td>\n",
              "      <td>7.210373</td>\n",
              "    </tr>\n",
              "    <tr>\n",
              "      <th>min</th>\n",
              "      <td>1.000000</td>\n",
              "      <td>50.000000</td>\n",
              "      <td>25.00000</td>\n",
              "      <td>138.000000</td>\n",
              "      <td>31.000000</td>\n",
              "      <td>46.000000</td>\n",
              "    </tr>\n",
              "    <tr>\n",
              "      <th>25%</th>\n",
              "      <td>4.750000</td>\n",
              "      <td>101.000000</td>\n",
              "      <td>39.50000</td>\n",
              "      <td>160.750000</td>\n",
              "      <td>33.000000</td>\n",
              "      <td>51.500000</td>\n",
              "    </tr>\n",
              "    <tr>\n",
              "      <th>50%</th>\n",
              "      <td>11.500000</td>\n",
              "      <td>122.500000</td>\n",
              "      <td>54.00000</td>\n",
              "      <td>176.000000</td>\n",
              "      <td>35.000000</td>\n",
              "      <td>55.000000</td>\n",
              "    </tr>\n",
              "    <tr>\n",
              "      <th>75%</th>\n",
              "      <td>13.250000</td>\n",
              "      <td>210.000000</td>\n",
              "      <td>85.25000</td>\n",
              "      <td>191.500000</td>\n",
              "      <td>37.000000</td>\n",
              "      <td>60.500000</td>\n",
              "    </tr>\n",
              "    <tr>\n",
              "      <th>max</th>\n",
              "      <td>17.000000</td>\n",
              "      <td>251.000000</td>\n",
              "      <td>250.00000</td>\n",
              "      <td>247.000000</td>\n",
              "      <td>46.000000</td>\n",
              "      <td>74.000000</td>\n",
              "    </tr>\n",
              "  </tbody>\n",
              "</table>\n",
              "</div>"
            ],
            "text/plain": [
              "          weight       waist      pulse       chins    sit_ups      jumps\n",
              "count  20.000000   20.000000   20.00000   20.000000  20.000000  20.000000\n",
              "mean    9.450000  145.550000   70.30000  178.600000  35.400000  56.100000\n",
              "std     5.286278   62.566575   51.27747   24.690505   3.201973   7.210373\n",
              "min     1.000000   50.000000   25.00000  138.000000  31.000000  46.000000\n",
              "25%     4.750000  101.000000   39.50000  160.750000  33.000000  51.500000\n",
              "50%    11.500000  122.500000   54.00000  176.000000  35.000000  55.000000\n",
              "75%    13.250000  210.000000   85.25000  191.500000  37.000000  60.500000\n",
              "max    17.000000  251.000000  250.00000  247.000000  46.000000  74.000000"
            ]
          },
          "metadata": {
            "tags": []
          },
          "execution_count": 448
        }
      ]
    },
    {
      "cell_type": "markdown",
      "metadata": {
        "id": "eWetloMktloB"
      },
      "source": [
        "Check for null values"
      ]
    },
    {
      "cell_type": "code",
      "metadata": {
        "colab": {
          "base_uri": "https://localhost:8080/"
        },
        "id": "QjqQOWj-to2-",
        "outputId": "c2685868-1ee1-47c8-d892-87dcd58aae47"
      },
      "source": [
        "df.isnull().sum()"
      ],
      "execution_count": 449,
      "outputs": [
        {
          "output_type": "execute_result",
          "data": {
            "text/plain": [
              "weight     0\n",
              "waist      0\n",
              "pulse      0\n",
              "chins      0\n",
              "sit_ups    0\n",
              "jumps      0\n",
              "dtype: int64"
            ]
          },
          "metadata": {
            "tags": []
          },
          "execution_count": 449
        }
      ]
    },
    {
      "cell_type": "markdown",
      "metadata": {
        "id": "mXY4ePYIuF_7"
      },
      "source": [
        "Graphics"
      ]
    },
    {
      "cell_type": "code",
      "metadata": {
        "colab": {
          "base_uri": "https://localhost:8080/",
          "height": 542
        },
        "id": "MjPUV8vVuJmM",
        "outputId": "fafb14e9-130e-4d55-e3e5-9062235895f8"
      },
      "source": [
        "corrmat = df.corr()\r\n",
        "f, ax = plt.subplots(figsize=(12, 9))\r\n",
        "sns.heatmap(corrmat, vmax=.8, square=True);"
      ],
      "execution_count": 450,
      "outputs": [
        {
          "output_type": "display_data",
          "data": {
            "image/png": "[encoded data removed]",
            "text/plain": [
              "<Figure size 864x648 with 2 Axes>"
            ]
          },
          "metadata": {
            "tags": [],
            "needs_background": "light"
          }
        }
      ]
    },
    {
      "cell_type": "markdown",
      "metadata": {
        "id": "XfApX7wtu_Jj"
      },
      "source": [
        "Analytics"
      ]
    },
    {
      "cell_type": "markdown",
      "metadata": {
        "id": "2m8lV3Ezw3au"
      },
      "source": [
        "Chins"
      ]
    },
    {
      "cell_type": "code",
      "metadata": {
        "colab": {
          "base_uri": "https://localhost:8080/",
          "height": 386
        },
        "id": "oDEtU5z2vBnE",
        "outputId": "9de4715b-4b34-43b2-d179-9fc2ac8734cb"
      },
      "source": [
        "sns.displot(df['chins'])"
      ],
      "execution_count": 451,
      "outputs": [
        {
          "output_type": "execute_result",
          "data": {
            "text/plain": [
              "<seaborn.axisgrid.FacetGrid at 0x7f13de2c09b0>"
            ]
          },
          "metadata": {
            "tags": []
          },
          "execution_count": 451
        },
        {
          "output_type": "display_data",
          "data": {
            "image/png": "[encoded data removed]",
            "text/plain": [
              "<Figure size 360x360 with 1 Axes>"
            ]
          },
          "metadata": {
            "tags": [],
            "needs_background": "light"
          }
        }
      ]
    },
    {
      "cell_type": "code",
      "metadata": {
        "colab": {
          "base_uri": "https://localhost:8080/"
        },
        "id": "O2uiaKxRv4R3",
        "outputId": "a80e38e3-ecae-4709-dd48-be40cfadfe69"
      },
      "source": [
        "print(\"Max chins: \", df.chins.max(), \" Min chins: \", df.chins.min(), \" Median chins: \", df.chins.median())"
      ],
      "execution_count": 452,
      "outputs": [
        {
          "output_type": "stream",
          "text": [
            "Max chins:  247.0  Min chins:  138.0  Median chins:  176.0\n"
          ],
          "name": "stdout"
        }
      ]
    },
    {
      "cell_type": "code",
      "metadata": {
        "colab": {
          "base_uri": "https://localhost:8080/"
        },
        "id": "JxOcGBzywVCb",
        "outputId": "d6f26339-0bc3-42e0-f54b-1cc1407a554c"
      },
      "source": [
        "chin = df.chins.value_counts()\r\n",
        "print(\"highest: \", chin.index[0], \", lowest: \", chin.index[-1])"
      ],
      "execution_count": 453,
      "outputs": [
        {
          "output_type": "stream",
          "text": [
            "highest:  154.0 , lowest:  191.0\n"
          ],
          "name": "stdout"
        }
      ]
    },
    {
      "cell_type": "markdown",
      "metadata": {
        "id": "t1CkDW0SxEwO"
      },
      "source": [
        "Sit-Ups"
      ]
    },
    {
      "cell_type": "code",
      "metadata": {
        "colab": {
          "base_uri": "https://localhost:8080/",
          "height": 386
        },
        "id": "4ah1GAkOxHGK",
        "outputId": "21c7ecc5-d9fe-4d3a-cd6e-4084c36665c9"
      },
      "source": [
        "sns.displot(df['sit_ups'])"
      ],
      "execution_count": 454,
      "outputs": [
        {
          "output_type": "execute_result",
          "data": {
            "text/plain": [
              "<seaborn.axisgrid.FacetGrid at 0x7f13de255c88>"
            ]
          },
          "metadata": {
            "tags": []
          },
          "execution_count": 454
        },
        {
          "output_type": "display_data",
          "data": {
            "image/png": "[encoded data removed]",
            "text/plain": [
              "<Figure size 360x360 with 1 Axes>"
            ]
          },
          "metadata": {
            "tags": [],
            "needs_background": "light"
          }
        }
      ]
    },
    {
      "cell_type": "code",
      "metadata": {
        "colab": {
          "base_uri": "https://localhost:8080/"
        },
        "id": "Fg_8PUfLxXRv",
        "outputId": "2d6b04b1-6714-4ea2-9555-3ce0516e881f"
      },
      "source": [
        "print(\"Max sit-ups: \", df.sit_ups.max(), \" Min sit-ups: \", df.sit_ups.min(), \" Median sit-ups: \", df.sit_ups.median())"
      ],
      "execution_count": 455,
      "outputs": [
        {
          "output_type": "stream",
          "text": [
            "Max sit-ups:  46.0  Min sit-ups:  31.0  Median sit-ups:  35.0\n"
          ],
          "name": "stdout"
        }
      ]
    },
    {
      "cell_type": "code",
      "metadata": {
        "colab": {
          "base_uri": "https://localhost:8080/"
        },
        "id": "Hqbj_BTNyz7Q",
        "outputId": "a13d0a53-20cb-481b-8dc1-fb8e79d5129d"
      },
      "source": [
        "sits = df.sit_ups.value_counts()\r\n",
        "print(\"highest: \", sits.index[0], \", lowest: \", sits.index[-1])"
      ],
      "execution_count": 456,
      "outputs": [
        {
          "output_type": "stream",
          "text": [
            "highest:  33.0 , lowest:  31.0\n"
          ],
          "name": "stdout"
        }
      ]
    },
    {
      "cell_type": "markdown",
      "metadata": {
        "id": "ZGx-1Iw7zVZS"
      },
      "source": [
        "Jumps"
      ]
    },
    {
      "cell_type": "code",
      "metadata": {
        "colab": {
          "base_uri": "https://localhost:8080/",
          "height": 386
        },
        "id": "_m4Iou5jzXJt",
        "outputId": "b2ad763e-138e-4563-9c49-5e7cd5ad6fff"
      },
      "source": [
        "sns.displot(df['jumps'])"
      ],
      "execution_count": 457,
      "outputs": [
        {
          "output_type": "execute_result",
          "data": {
            "text/plain": [
              "<seaborn.axisgrid.FacetGrid at 0x7f13de0aaf98>"
            ]
          },
          "metadata": {
            "tags": []
          },
          "execution_count": 457
        },
        {
          "output_type": "display_data",
          "data": {
            "image/png": "[encoded data removed]",
            "text/plain": [
              "<Figure size 360x360 with 1 Axes>"
            ]
          },
          "metadata": {
            "tags": [],
            "needs_background": "light"
          }
        }
      ]
    },
    {
      "cell_type": "code",
      "metadata": {
        "colab": {
          "base_uri": "https://localhost:8080/"
        },
        "id": "TNIkoe-tzcXL",
        "outputId": "8b818940-6eb9-499a-ee63-0282e9905ee9"
      },
      "source": [
        "print(\"Max jumps: \", df.jumps.max(), \" Min jumps: \", df.jumps.min(), \" Median jumps: \", df.jumps.median())"
      ],
      "execution_count": 458,
      "outputs": [
        {
          "output_type": "stream",
          "text": [
            "Max jumps:  74.0  Min jumps:  46.0  Median jumps:  55.0\n"
          ],
          "name": "stdout"
        }
      ]
    },
    {
      "cell_type": "code",
      "metadata": {
        "colab": {
          "base_uri": "https://localhost:8080/"
        },
        "id": "i2IobLDqz6JL",
        "outputId": "32718107-1ac2-4dff-f3b2-57240f64b7cd"
      },
      "source": [
        "jumps = df.jumps.value_counts()\r\n",
        "print(\"highest: \", jumps.index[0], \", lowest: \", jumps.index[-1])"
      ],
      "execution_count": 459,
      "outputs": [
        {
          "output_type": "stream",
          "text": [
            "highest:  56.0 , lowest:  58.0\n"
          ],
          "name": "stdout"
        }
      ]
    },
    {
      "cell_type": "code",
      "metadata": {
        "colab": {
          "base_uri": "https://localhost:8080/",
          "height": 386
        },
        "id": "yoHwUGL03SHZ",
        "outputId": "34aa19eb-8ca3-4893-b3e0-08fd4c869f9e"
      },
      "source": [
        "sns.displot(df['weight'])"
      ],
      "execution_count": 460,
      "outputs": [
        {
          "output_type": "execute_result",
          "data": {
            "text/plain": [
              "<seaborn.axisgrid.FacetGrid at 0x7f13de17ea90>"
            ]
          },
          "metadata": {
            "tags": []
          },
          "execution_count": 460
        },
        {
          "output_type": "display_data",
          "data": {
            "image/png": "[encoded data removed]",
            "text/plain": [
              "<Figure size 360x360 with 1 Axes>"
            ]
          },
          "metadata": {
            "tags": [],
            "needs_background": "light"
          }
        }
      ]
    },
    {
      "cell_type": "code",
      "metadata": {
        "colab": {
          "base_uri": "https://localhost:8080/"
        },
        "id": "gFHoxRim3Z8L",
        "outputId": "6ed1b82f-e2cd-4a03-b488-f42ccc063b2a"
      },
      "source": [
        "print(\"Max weight: \", df.weight.max(), \" Min weight: \", df.weight.min(), \" Median weight: \", df.weight.median())"
      ],
      "execution_count": 461,
      "outputs": [
        {
          "output_type": "stream",
          "text": [
            "Max weight:  17.0  Min weight:  1.0  Median weight:  11.5\n"
          ],
          "name": "stdout"
        }
      ]
    },
    {
      "cell_type": "code",
      "metadata": {
        "colab": {
          "base_uri": "https://localhost:8080/"
        },
        "id": "h3StAQtO3pxj",
        "outputId": "addaa97f-1031-470d-cdf9-c180e842a336"
      },
      "source": [
        "weight = df.weight.value_counts()\r\n",
        "print(\"highest: \", weight.index[0], \", lowest: \", weight.index[-1])"
      ],
      "execution_count": 462,
      "outputs": [
        {
          "output_type": "stream",
          "text": [
            "highest:  12.0 , lowest:  5.0\n"
          ],
          "name": "stdout"
        }
      ]
    },
    {
      "cell_type": "code",
      "metadata": {
        "colab": {
          "base_uri": "https://localhost:8080/",
          "height": 386
        },
        "id": "FKyLfpIX4JWL",
        "outputId": "567c887c-4acb-4afa-d99d-03c3f084c825"
      },
      "source": [
        "sns.displot(df['waist'])"
      ],
      "execution_count": 463,
      "outputs": [
        {
          "output_type": "execute_result",
          "data": {
            "text/plain": [
              "<seaborn.axisgrid.FacetGrid at 0x7f13de002d68>"
            ]
          },
          "metadata": {
            "tags": []
          },
          "execution_count": 463
        },
        {
          "output_type": "display_data",
          "data": {
            "image/png": "[encoded data removed]",
            "text/plain": [
              "<Figure size 360x360 with 1 Axes>"
            ]
          },
          "metadata": {
            "tags": [],
            "needs_background": "light"
          }
        }
      ]
    },
    {
      "cell_type": "code",
      "metadata": {
        "colab": {
          "base_uri": "https://localhost:8080/"
        },
        "id": "f1XXE7SD4OIp",
        "outputId": "2f07dc22-71f3-42ac-8a71-fa0f235bbbde"
      },
      "source": [
        "print(\"Max waist: \", df.waist.max(), \" Min waist: \", df.waist.min(), \" Median waist: \", df.waist.median())"
      ],
      "execution_count": 464,
      "outputs": [
        {
          "output_type": "stream",
          "text": [
            "Max waist:  251.0  Min waist:  50.0  Median waist:  122.5\n"
          ],
          "name": "stdout"
        }
      ]
    },
    {
      "cell_type": "code",
      "metadata": {
        "colab": {
          "base_uri": "https://localhost:8080/"
        },
        "id": "o7XGtRN34Ybl",
        "outputId": "fe78530e-6f9d-4cbf-81fd-c0f7377540ec"
      },
      "source": [
        "waist = df.waist.value_counts()\r\n",
        "print(\"highest: \", waist.index[0], \", lowest: \", waist.index[-1])"
      ],
      "execution_count": 465,
      "outputs": [
        {
          "output_type": "stream",
          "text": [
            "highest:  101.0 , lowest:  162.0\n"
          ],
          "name": "stdout"
        }
      ]
    },
    {
      "cell_type": "code",
      "metadata": {
        "colab": {
          "base_uri": "https://localhost:8080/",
          "height": 386
        },
        "id": "1OIStclS4lKX",
        "outputId": "1f8503b8-ac05-4da8-d729-70039e9d1a1e"
      },
      "source": [
        "sns.displot(df['pulse'])"
      ],
      "execution_count": 466,
      "outputs": [
        {
          "output_type": "execute_result",
          "data": {
            "text/plain": [
              "<seaborn.axisgrid.FacetGrid at 0x7f13de241c18>"
            ]
          },
          "metadata": {
            "tags": []
          },
          "execution_count": 466
        },
        {
          "output_type": "display_data",
          "data": {
            "image/png": "[encoded data removed]",
            "text/plain": [
              "<Figure size 360x360 with 1 Axes>"
            ]
          },
          "metadata": {
            "tags": [],
            "needs_background": "light"
          }
        }
      ]
    },
    {
      "cell_type": "code",
      "metadata": {
        "colab": {
          "base_uri": "https://localhost:8080/"
        },
        "id": "omzuFJRY4ooP",
        "outputId": "fc9ad0bf-dc4e-442c-dc90-2c5fedef9740"
      },
      "source": [
        "print(\"Max pulse: \", df.pulse.max(), \" Min pulse: \", df.pulse.min(), \" Median pulse: \", df.pulse.median())"
      ],
      "execution_count": 467,
      "outputs": [
        {
          "output_type": "stream",
          "text": [
            "Max pulse:  250.0  Min pulse:  25.0  Median pulse:  54.0\n"
          ],
          "name": "stdout"
        }
      ]
    },
    {
      "cell_type": "code",
      "metadata": {
        "colab": {
          "base_uri": "https://localhost:8080/"
        },
        "id": "w41KsrcU4yXZ",
        "outputId": "9d9c07f1-4def-40d2-84c0-223471925777"
      },
      "source": [
        "pulse = df.pulse.value_counts()\r\n",
        "print(\"highest: \", pulse.index[0], \", lowest: \", pulse.index[-1])"
      ],
      "execution_count": 468,
      "outputs": [
        {
          "output_type": "stream",
          "text": [
            "highest:  60.0 , lowest:  115.0\n"
          ],
          "name": "stdout"
        }
      ]
    },
    {
      "cell_type": "markdown",
      "metadata": {
        "id": "A9moN0W24_af"
      },
      "source": [
        "Define X and y"
      ]
    },
    {
      "cell_type": "code",
      "metadata": {
        "id": "cHLJA6s-5BrO"
      },
      "source": [
        "y = df[['chins', 'sit_ups', 'jumps']]\r\n",
        "X = df[['weight', 'waist', 'pulse']]"
      ],
      "execution_count": 469,
      "outputs": []
    },
    {
      "cell_type": "code",
      "metadata": {
        "colab": {
          "base_uri": "https://localhost:8080/",
          "height": 647
        },
        "id": "wCX02LeY5YV_",
        "outputId": "9551cf33-08f0-4dd5-831f-e24250ba2d17"
      },
      "source": [
        "X"
      ],
      "execution_count": 470,
      "outputs": [
        {
          "output_type": "execute_result",
          "data": {
            "text/html": [
              "<div>\n",
              "<style scoped>\n",
              "    .dataframe tbody tr th:only-of-type {\n",
              "        vertical-align: middle;\n",
              "    }\n",
              "\n",
              "    .dataframe tbody tr th {\n",
              "        vertical-align: top;\n",
              "    }\n",
              "\n",
              "    .dataframe thead th {\n",
              "        text-align: right;\n",
              "    }\n",
              "</style>\n",
              "<table border=\"1\" class=\"dataframe\">\n",
              "  <thead>\n",
              "    <tr style=\"text-align: right;\">\n",
              "      <th></th>\n",
              "      <th>weight</th>\n",
              "      <th>waist</th>\n",
              "      <th>pulse</th>\n",
              "    </tr>\n",
              "  </thead>\n",
              "  <tbody>\n",
              "    <tr>\n",
              "      <th>0</th>\n",
              "      <td>5.0</td>\n",
              "      <td>162.0</td>\n",
              "      <td>60.0</td>\n",
              "    </tr>\n",
              "    <tr>\n",
              "      <th>1</th>\n",
              "      <td>2.0</td>\n",
              "      <td>110.0</td>\n",
              "      <td>60.0</td>\n",
              "    </tr>\n",
              "    <tr>\n",
              "      <th>2</th>\n",
              "      <td>12.0</td>\n",
              "      <td>101.0</td>\n",
              "      <td>101.0</td>\n",
              "    </tr>\n",
              "    <tr>\n",
              "      <th>3</th>\n",
              "      <td>12.0</td>\n",
              "      <td>105.0</td>\n",
              "      <td>37.0</td>\n",
              "    </tr>\n",
              "    <tr>\n",
              "      <th>4</th>\n",
              "      <td>13.0</td>\n",
              "      <td>155.0</td>\n",
              "      <td>58.0</td>\n",
              "    </tr>\n",
              "    <tr>\n",
              "      <th>5</th>\n",
              "      <td>4.0</td>\n",
              "      <td>101.0</td>\n",
              "      <td>42.0</td>\n",
              "    </tr>\n",
              "    <tr>\n",
              "      <th>6</th>\n",
              "      <td>8.0</td>\n",
              "      <td>101.0</td>\n",
              "      <td>38.0</td>\n",
              "    </tr>\n",
              "    <tr>\n",
              "      <th>7</th>\n",
              "      <td>6.0</td>\n",
              "      <td>125.0</td>\n",
              "      <td>40.0</td>\n",
              "    </tr>\n",
              "    <tr>\n",
              "      <th>8</th>\n",
              "      <td>15.0</td>\n",
              "      <td>200.0</td>\n",
              "      <td>40.0</td>\n",
              "    </tr>\n",
              "    <tr>\n",
              "      <th>9</th>\n",
              "      <td>17.0</td>\n",
              "      <td>251.0</td>\n",
              "      <td>250.0</td>\n",
              "    </tr>\n",
              "    <tr>\n",
              "      <th>10</th>\n",
              "      <td>17.0</td>\n",
              "      <td>120.0</td>\n",
              "      <td>38.0</td>\n",
              "    </tr>\n",
              "    <tr>\n",
              "      <th>11</th>\n",
              "      <td>13.0</td>\n",
              "      <td>210.0</td>\n",
              "      <td>115.0</td>\n",
              "    </tr>\n",
              "    <tr>\n",
              "      <th>12</th>\n",
              "      <td>14.0</td>\n",
              "      <td>215.0</td>\n",
              "      <td>105.0</td>\n",
              "    </tr>\n",
              "    <tr>\n",
              "      <th>13</th>\n",
              "      <td>1.0</td>\n",
              "      <td>50.0</td>\n",
              "      <td>50.0</td>\n",
              "    </tr>\n",
              "    <tr>\n",
              "      <th>14</th>\n",
              "      <td>6.0</td>\n",
              "      <td>70.0</td>\n",
              "      <td>31.0</td>\n",
              "    </tr>\n",
              "    <tr>\n",
              "      <th>15</th>\n",
              "      <td>12.0</td>\n",
              "      <td>210.0</td>\n",
              "      <td>120.0</td>\n",
              "    </tr>\n",
              "    <tr>\n",
              "      <th>16</th>\n",
              "      <td>4.0</td>\n",
              "      <td>60.0</td>\n",
              "      <td>25.0</td>\n",
              "    </tr>\n",
              "    <tr>\n",
              "      <th>17</th>\n",
              "      <td>11.0</td>\n",
              "      <td>230.0</td>\n",
              "      <td>80.0</td>\n",
              "    </tr>\n",
              "    <tr>\n",
              "      <th>18</th>\n",
              "      <td>15.0</td>\n",
              "      <td>225.0</td>\n",
              "      <td>73.0</td>\n",
              "    </tr>\n",
              "    <tr>\n",
              "      <th>19</th>\n",
              "      <td>2.0</td>\n",
              "      <td>110.0</td>\n",
              "      <td>43.0</td>\n",
              "    </tr>\n",
              "  </tbody>\n",
              "</table>\n",
              "</div>"
            ],
            "text/plain": [
              "    weight  waist  pulse\n",
              "0      5.0  162.0   60.0\n",
              "1      2.0  110.0   60.0\n",
              "2     12.0  101.0  101.0\n",
              "3     12.0  105.0   37.0\n",
              "4     13.0  155.0   58.0\n",
              "5      4.0  101.0   42.0\n",
              "6      8.0  101.0   38.0\n",
              "7      6.0  125.0   40.0\n",
              "8     15.0  200.0   40.0\n",
              "9     17.0  251.0  250.0\n",
              "10    17.0  120.0   38.0\n",
              "11    13.0  210.0  115.0\n",
              "12    14.0  215.0  105.0\n",
              "13     1.0   50.0   50.0\n",
              "14     6.0   70.0   31.0\n",
              "15    12.0  210.0  120.0\n",
              "16     4.0   60.0   25.0\n",
              "17    11.0  230.0   80.0\n",
              "18    15.0  225.0   73.0\n",
              "19     2.0  110.0   43.0"
            ]
          },
          "metadata": {
            "tags": []
          },
          "execution_count": 470
        }
      ]
    },
    {
      "cell_type": "code",
      "metadata": {
        "colab": {
          "base_uri": "https://localhost:8080/",
          "height": 647
        },
        "id": "xXLfNZrj5wOs",
        "outputId": "559f3b60-f957-4c65-a750-ef883638fab7"
      },
      "source": [
        "y"
      ],
      "execution_count": 471,
      "outputs": [
        {
          "output_type": "execute_result",
          "data": {
            "text/html": [
              "<div>\n",
              "<style scoped>\n",
              "    .dataframe tbody tr th:only-of-type {\n",
              "        vertical-align: middle;\n",
              "    }\n",
              "\n",
              "    .dataframe tbody tr th {\n",
              "        vertical-align: top;\n",
              "    }\n",
              "\n",
              "    .dataframe thead th {\n",
              "        text-align: right;\n",
              "    }\n",
              "</style>\n",
              "<table border=\"1\" class=\"dataframe\">\n",
              "  <thead>\n",
              "    <tr style=\"text-align: right;\">\n",
              "      <th></th>\n",
              "      <th>chins</th>\n",
              "      <th>sit_ups</th>\n",
              "      <th>jumps</th>\n",
              "    </tr>\n",
              "  </thead>\n",
              "  <tbody>\n",
              "    <tr>\n",
              "      <th>0</th>\n",
              "      <td>191.0</td>\n",
              "      <td>36.0</td>\n",
              "      <td>50.0</td>\n",
              "    </tr>\n",
              "    <tr>\n",
              "      <th>1</th>\n",
              "      <td>189.0</td>\n",
              "      <td>37.0</td>\n",
              "      <td>52.0</td>\n",
              "    </tr>\n",
              "    <tr>\n",
              "      <th>2</th>\n",
              "      <td>193.0</td>\n",
              "      <td>38.0</td>\n",
              "      <td>58.0</td>\n",
              "    </tr>\n",
              "    <tr>\n",
              "      <th>3</th>\n",
              "      <td>162.0</td>\n",
              "      <td>35.0</td>\n",
              "      <td>62.0</td>\n",
              "    </tr>\n",
              "    <tr>\n",
              "      <th>4</th>\n",
              "      <td>189.0</td>\n",
              "      <td>35.0</td>\n",
              "      <td>46.0</td>\n",
              "    </tr>\n",
              "    <tr>\n",
              "      <th>5</th>\n",
              "      <td>182.0</td>\n",
              "      <td>36.0</td>\n",
              "      <td>56.0</td>\n",
              "    </tr>\n",
              "    <tr>\n",
              "      <th>6</th>\n",
              "      <td>211.0</td>\n",
              "      <td>38.0</td>\n",
              "      <td>56.0</td>\n",
              "    </tr>\n",
              "    <tr>\n",
              "      <th>7</th>\n",
              "      <td>167.0</td>\n",
              "      <td>34.0</td>\n",
              "      <td>60.0</td>\n",
              "    </tr>\n",
              "    <tr>\n",
              "      <th>8</th>\n",
              "      <td>176.0</td>\n",
              "      <td>31.0</td>\n",
              "      <td>74.0</td>\n",
              "    </tr>\n",
              "    <tr>\n",
              "      <th>9</th>\n",
              "      <td>154.0</td>\n",
              "      <td>33.0</td>\n",
              "      <td>56.0</td>\n",
              "    </tr>\n",
              "    <tr>\n",
              "      <th>10</th>\n",
              "      <td>169.0</td>\n",
              "      <td>34.0</td>\n",
              "      <td>50.0</td>\n",
              "    </tr>\n",
              "    <tr>\n",
              "      <th>11</th>\n",
              "      <td>166.0</td>\n",
              "      <td>33.0</td>\n",
              "      <td>52.0</td>\n",
              "    </tr>\n",
              "    <tr>\n",
              "      <th>12</th>\n",
              "      <td>154.0</td>\n",
              "      <td>34.0</td>\n",
              "      <td>64.0</td>\n",
              "    </tr>\n",
              "    <tr>\n",
              "      <th>13</th>\n",
              "      <td>247.0</td>\n",
              "      <td>46.0</td>\n",
              "      <td>50.0</td>\n",
              "    </tr>\n",
              "    <tr>\n",
              "      <th>14</th>\n",
              "      <td>193.0</td>\n",
              "      <td>36.0</td>\n",
              "      <td>46.0</td>\n",
              "    </tr>\n",
              "    <tr>\n",
              "      <th>15</th>\n",
              "      <td>202.0</td>\n",
              "      <td>37.0</td>\n",
              "      <td>62.0</td>\n",
              "    </tr>\n",
              "    <tr>\n",
              "      <th>16</th>\n",
              "      <td>176.0</td>\n",
              "      <td>37.0</td>\n",
              "      <td>54.0</td>\n",
              "    </tr>\n",
              "    <tr>\n",
              "      <th>17</th>\n",
              "      <td>157.0</td>\n",
              "      <td>32.0</td>\n",
              "      <td>52.0</td>\n",
              "    </tr>\n",
              "    <tr>\n",
              "      <th>18</th>\n",
              "      <td>156.0</td>\n",
              "      <td>33.0</td>\n",
              "      <td>54.0</td>\n",
              "    </tr>\n",
              "    <tr>\n",
              "      <th>19</th>\n",
              "      <td>138.0</td>\n",
              "      <td>33.0</td>\n",
              "      <td>68.0</td>\n",
              "    </tr>\n",
              "  </tbody>\n",
              "</table>\n",
              "</div>"
            ],
            "text/plain": [
              "    chins  sit_ups  jumps\n",
              "0   191.0     36.0   50.0\n",
              "1   189.0     37.0   52.0\n",
              "2   193.0     38.0   58.0\n",
              "3   162.0     35.0   62.0\n",
              "4   189.0     35.0   46.0\n",
              "5   182.0     36.0   56.0\n",
              "6   211.0     38.0   56.0\n",
              "7   167.0     34.0   60.0\n",
              "8   176.0     31.0   74.0\n",
              "9   154.0     33.0   56.0\n",
              "10  169.0     34.0   50.0\n",
              "11  166.0     33.0   52.0\n",
              "12  154.0     34.0   64.0\n",
              "13  247.0     46.0   50.0\n",
              "14  193.0     36.0   46.0\n",
              "15  202.0     37.0   62.0\n",
              "16  176.0     37.0   54.0\n",
              "17  157.0     32.0   52.0\n",
              "18  156.0     33.0   54.0\n",
              "19  138.0     33.0   68.0"
            ]
          },
          "metadata": {
            "tags": []
          },
          "execution_count": 471
        }
      ]
    },
    {
      "cell_type": "markdown",
      "metadata": {
        "id": "_R9lwRJI6SlQ"
      },
      "source": [
        "Normalize data"
      ]
    },
    {
      "cell_type": "code",
      "metadata": {
        "colab": {
          "base_uri": "https://localhost:8080/",
          "height": 647
        },
        "id": "IXxh2bwK6SNw",
        "outputId": "509475ac-303d-4309-8b23-5a3d4b4cb08c"
      },
      "source": [
        "X = (X - X.min()) / (X.max() - X.min())\r\n",
        "X"
      ],
      "execution_count": 472,
      "outputs": [
        {
          "output_type": "execute_result",
          "data": {
            "text/html": [
              "<div>\n",
              "<style scoped>\n",
              "    .dataframe tbody tr th:only-of-type {\n",
              "        vertical-align: middle;\n",
              "    }\n",
              "\n",
              "    .dataframe tbody tr th {\n",
              "        vertical-align: top;\n",
              "    }\n",
              "\n",
              "    .dataframe thead th {\n",
              "        text-align: right;\n",
              "    }\n",
              "</style>\n",
              "<table border=\"1\" class=\"dataframe\">\n",
              "  <thead>\n",
              "    <tr style=\"text-align: right;\">\n",
              "      <th></th>\n",
              "      <th>weight</th>\n",
              "      <th>waist</th>\n",
              "      <th>pulse</th>\n",
              "    </tr>\n",
              "  </thead>\n",
              "  <tbody>\n",
              "    <tr>\n",
              "      <th>0</th>\n",
              "      <td>0.2500</td>\n",
              "      <td>0.557214</td>\n",
              "      <td>0.155556</td>\n",
              "    </tr>\n",
              "    <tr>\n",
              "      <th>1</th>\n",
              "      <td>0.0625</td>\n",
              "      <td>0.298507</td>\n",
              "      <td>0.155556</td>\n",
              "    </tr>\n",
              "    <tr>\n",
              "      <th>2</th>\n",
              "      <td>0.6875</td>\n",
              "      <td>0.253731</td>\n",
              "      <td>0.337778</td>\n",
              "    </tr>\n",
              "    <tr>\n",
              "      <th>3</th>\n",
              "      <td>0.6875</td>\n",
              "      <td>0.273632</td>\n",
              "      <td>0.053333</td>\n",
              "    </tr>\n",
              "    <tr>\n",
              "      <th>4</th>\n",
              "      <td>0.7500</td>\n",
              "      <td>0.522388</td>\n",
              "      <td>0.146667</td>\n",
              "    </tr>\n",
              "    <tr>\n",
              "      <th>5</th>\n",
              "      <td>0.1875</td>\n",
              "      <td>0.253731</td>\n",
              "      <td>0.075556</td>\n",
              "    </tr>\n",
              "    <tr>\n",
              "      <th>6</th>\n",
              "      <td>0.4375</td>\n",
              "      <td>0.253731</td>\n",
              "      <td>0.057778</td>\n",
              "    </tr>\n",
              "    <tr>\n",
              "      <th>7</th>\n",
              "      <td>0.3125</td>\n",
              "      <td>0.373134</td>\n",
              "      <td>0.066667</td>\n",
              "    </tr>\n",
              "    <tr>\n",
              "      <th>8</th>\n",
              "      <td>0.8750</td>\n",
              "      <td>0.746269</td>\n",
              "      <td>0.066667</td>\n",
              "    </tr>\n",
              "    <tr>\n",
              "      <th>9</th>\n",
              "      <td>1.0000</td>\n",
              "      <td>1.000000</td>\n",
              "      <td>1.000000</td>\n",
              "    </tr>\n",
              "    <tr>\n",
              "      <th>10</th>\n",
              "      <td>1.0000</td>\n",
              "      <td>0.348259</td>\n",
              "      <td>0.057778</td>\n",
              "    </tr>\n",
              "    <tr>\n",
              "      <th>11</th>\n",
              "      <td>0.7500</td>\n",
              "      <td>0.796020</td>\n",
              "      <td>0.400000</td>\n",
              "    </tr>\n",
              "    <tr>\n",
              "      <th>12</th>\n",
              "      <td>0.8125</td>\n",
              "      <td>0.820896</td>\n",
              "      <td>0.355556</td>\n",
              "    </tr>\n",
              "    <tr>\n",
              "      <th>13</th>\n",
              "      <td>0.0000</td>\n",
              "      <td>0.000000</td>\n",
              "      <td>0.111111</td>\n",
              "    </tr>\n",
              "    <tr>\n",
              "      <th>14</th>\n",
              "      <td>0.3125</td>\n",
              "      <td>0.099502</td>\n",
              "      <td>0.026667</td>\n",
              "    </tr>\n",
              "    <tr>\n",
              "      <th>15</th>\n",
              "      <td>0.6875</td>\n",
              "      <td>0.796020</td>\n",
              "      <td>0.422222</td>\n",
              "    </tr>\n",
              "    <tr>\n",
              "      <th>16</th>\n",
              "      <td>0.1875</td>\n",
              "      <td>0.049751</td>\n",
              "      <td>0.000000</td>\n",
              "    </tr>\n",
              "    <tr>\n",
              "      <th>17</th>\n",
              "      <td>0.6250</td>\n",
              "      <td>0.895522</td>\n",
              "      <td>0.244444</td>\n",
              "    </tr>\n",
              "    <tr>\n",
              "      <th>18</th>\n",
              "      <td>0.8750</td>\n",
              "      <td>0.870647</td>\n",
              "      <td>0.213333</td>\n",
              "    </tr>\n",
              "    <tr>\n",
              "      <th>19</th>\n",
              "      <td>0.0625</td>\n",
              "      <td>0.298507</td>\n",
              "      <td>0.080000</td>\n",
              "    </tr>\n",
              "  </tbody>\n",
              "</table>\n",
              "</div>"
            ],
            "text/plain": [
              "    weight     waist     pulse\n",
              "0   0.2500  0.557214  0.155556\n",
              "1   0.0625  0.298507  0.155556\n",
              "2   0.6875  0.253731  0.337778\n",
              "3   0.6875  0.273632  0.053333\n",
              "4   0.7500  0.522388  0.146667\n",
              "5   0.1875  0.253731  0.075556\n",
              "6   0.4375  0.253731  0.057778\n",
              "7   0.3125  0.373134  0.066667\n",
              "8   0.8750  0.746269  0.066667\n",
              "9   1.0000  1.000000  1.000000\n",
              "10  1.0000  0.348259  0.057778\n",
              "11  0.7500  0.796020  0.400000\n",
              "12  0.8125  0.820896  0.355556\n",
              "13  0.0000  0.000000  0.111111\n",
              "14  0.3125  0.099502  0.026667\n",
              "15  0.6875  0.796020  0.422222\n",
              "16  0.1875  0.049751  0.000000\n",
              "17  0.6250  0.895522  0.244444\n",
              "18  0.8750  0.870647  0.213333\n",
              "19  0.0625  0.298507  0.080000"
            ]
          },
          "metadata": {
            "tags": []
          },
          "execution_count": 472
        }
      ]
    },
    {
      "cell_type": "markdown",
      "metadata": {
        "id": "E5oPia81Dep5"
      },
      "source": [
        "Standardize data"
      ]
    },
    {
      "cell_type": "code",
      "metadata": {
        "id": "EHew5Bf8Dgol"
      },
      "source": [
        "#x_sum = X.sum().values\r\n",
        "#x_len = len(X)\r\n",
        "#x_mean = x_sum / x_len\r\n",
        "#x_std = np.std(X)\r\n",
        "\r\n",
        "#X = (X - x_mean) / x_std\r\n",
        "#X"
      ],
      "execution_count": 473,
      "outputs": []
    },
    {
      "cell_type": "markdown",
      "metadata": {
        "id": "Kt0vLNYB52TC"
      },
      "source": [
        "Split X up for training and validating"
      ]
    },
    {
      "cell_type": "code",
      "metadata": {
        "colab": {
          "base_uri": "https://localhost:8080/"
        },
        "id": "DOsailXd6Cop",
        "outputId": "f4f271f0-00a1-43b9-826c-277898c55e90"
      },
      "source": [
        "from sklearn.model_selection import train_test_split\r\n",
        "\r\n",
        "# Split into validation and training data\r\n",
        "X_train, X_val, y_train, y_val = train_test_split(X, y, test_size=0.20, random_state=1)\r\n",
        "X_train.shape, X_val.shape, y_train.shape,y_val.shape"
      ],
      "execution_count": 474,
      "outputs": [
        {
          "output_type": "execute_result",
          "data": {
            "text/plain": [
              "((16, 3), (4, 3), (16, 3), (4, 3))"
            ]
          },
          "metadata": {
            "tags": []
          },
          "execution_count": 474
        }
      ]
    },
    {
      "cell_type": "markdown",
      "metadata": {
        "id": "lxXjih6J6gCl"
      },
      "source": [
        "Define model"
      ]
    },
    {
      "cell_type": "code",
      "metadata": {
        "colab": {
          "base_uri": "https://localhost:8080/"
        },
        "id": "vNAZaEo46jM8",
        "outputId": "31f4f620-a7fd-4d86-a998-e00fefed983b"
      },
      "source": [
        "from sklearn.multioutput import MultiOutputRegressor\r\n",
        "from sklearn.linear_model import Ridge\r\n",
        "\r\n",
        "model = MultiOutputRegressor(Ridge(random_state=1)).fit(X_train, y_train)\r\n",
        "print(model.score(X_train, y_train))"
      ],
      "execution_count": 475,
      "outputs": [
        {
          "output_type": "stream",
          "text": [
            "0.2508382384061478\n"
          ],
          "name": "stdout"
        }
      ]
    },
    {
      "cell_type": "markdown",
      "metadata": {
        "id": "GJ65VOPK7p4p"
      },
      "source": [
        "Predict on validation set"
      ]
    },
    {
      "cell_type": "code",
      "metadata": {
        "colab": {
          "base_uri": "https://localhost:8080/"
        },
        "id": "Sn4PEUQx7sGP",
        "outputId": "d8230329-eb38-46ce-89b7-648a46ca6f2a"
      },
      "source": [
        "y_pred = model.predict(X_val)\r\n",
        "y_pred"
      ],
      "execution_count": 476,
      "outputs": [
        {
          "output_type": "execute_result",
          "data": {
            "text/plain": [
              "array([[183.70305459,  35.65171046,  56.09856434],\n",
              "       [192.71099243,  37.45868631,  54.52505193],\n",
              "       [185.94731813,  36.25224697,  55.53900758],\n",
              "       [179.68255327,  34.73016568,  56.93174121]])"
            ]
          },
          "metadata": {
            "tags": []
          },
          "execution_count": 476
        }
      ]
    },
    {
      "cell_type": "code",
      "metadata": {
        "colab": {
          "base_uri": "https://localhost:8080/"
        },
        "id": "yMTka7TA8Aet",
        "outputId": "21017ffe-05c6-4b9b-ba5c-59a27dc7d594"
      },
      "source": [
        "from sklearn.metrics import mean_squared_error\r\n",
        "\r\n",
        "rms = mean_squared_error(y_val, y_pred, squared=True)\r\n",
        "rms"
      ],
      "execution_count": 477,
      "outputs": [
        {
          "output_type": "execute_result",
          "data": {
            "text/plain": [
              "131.6350612207492"
            ]
          },
          "metadata": {
            "tags": []
          },
          "execution_count": 477
        }
      ]
    },
    {
      "cell_type": "markdown",
      "metadata": {
        "id": "6T-c2CoX8U-A"
      },
      "source": [
        "Graphics"
      ]
    },
    {
      "cell_type": "code",
      "metadata": {
        "colab": {
          "base_uri": "https://localhost:8080/",
          "height": 613
        },
        "id": "hH1b-JaU8T2B",
        "outputId": "3c417189-c828-40a2-f1a3-2fff68d03bc9"
      },
      "source": [
        "plt.figure(figsize=(10,10))\r\n",
        "plt.scatter(y_val.iloc[:,0], y_pred[:,0], c='crimson')\r\n",
        "plt.yscale('log')\r\n",
        "plt.xscale('log')\r\n",
        "\r\n",
        "p1 = max(max(y_pred[:,0]), max(y_val.iloc[:,0]))\r\n",
        "p2 = min(min(y_pred[:,0]), min(y_val.iloc[:,0]))\r\n",
        "plt.plot([p1, p2], [p1, p2], 'b-')\r\n",
        "plt.xlabel('Actual Values', fontsize=15)\r\n",
        "plt.ylabel('Predictions', fontsize=15)\r\n",
        "plt.axis('equal')\r\n",
        "plt.show()"
      ],
      "execution_count": 478,
      "outputs": [
        {
          "output_type": "display_data",
          "data": {
            "image/png": "[encoded data removed]",
            "text/plain": [
              "<Figure size 720x720 with 1 Axes>"
            ]
          },
          "metadata": {
            "tags": [],
            "needs_background": "light"
          }
        }
      ]
    },
    {
      "cell_type": "code",
      "metadata": {
        "colab": {
          "base_uri": "https://localhost:8080/",
          "height": 264
        },
        "id": "4217k6GGBs9O",
        "outputId": "471bc7ea-db23-4ca2-ed3d-48c0e5d12659"
      },
      "source": [
        "plt.plot(y_val.iloc[:,0])\r\n",
        "plt.plot(y_pred[:,0], 'o')\r\n",
        "plt.show()"
      ],
      "execution_count": 479,
      "outputs": [
        {
          "output_type": "display_data",
          "data": {
            "image/png": "[encoded data removed]",
            "text/plain": [
              "<Figure size 432x288 with 1 Axes>"
            ]
          },
          "metadata": {
            "tags": [],
            "needs_background": "light"
          }
        }
      ]
    },
    {
      "cell_type": "code",
      "metadata": {
        "colab": {
          "base_uri": "https://localhost:8080/",
          "height": 613
        },
        "id": "SgKce0e5CfIS",
        "outputId": "b22b2510-42ea-4b2d-b5b5-3a01df99f0ef"
      },
      "source": [
        "plt.figure(figsize=(10,10))\r\n",
        "plt.scatter(y_val.iloc[:,1], y_pred[:,1], c='crimson')\r\n",
        "plt.yscale('log')\r\n",
        "plt.xscale('log')\r\n",
        "\r\n",
        "p1 = max(max(y_pred[:,1]), max(y_val.iloc[:,1]))\r\n",
        "p2 = min(min(y_pred[:,1]), min(y_val.iloc[:,1]))\r\n",
        "plt.plot([p1, p2], [p1, p2], 'b-')\r\n",
        "plt.xlabel('Actual Values', fontsize=15)\r\n",
        "plt.ylabel('Predictions', fontsize=15)\r\n",
        "plt.axis('equal')\r\n",
        "plt.show()"
      ],
      "execution_count": 480,
      "outputs": [
        {
          "output_type": "display_data",
          "data": {
            "image/png": "[encoded data removed]",
            "text/plain": [
              "<Figure size 720x720 with 1 Axes>"
            ]
          },
          "metadata": {
            "tags": [],
            "needs_background": "light"
          }
        }
      ]
    },
    {
      "cell_type": "code",
      "metadata": {
        "colab": {
          "base_uri": "https://localhost:8080/",
          "height": 264
        },
        "id": "6BD1DdkUCpq_",
        "outputId": "5a62a062-4079-49a8-9af2-3676bd0e06db"
      },
      "source": [
        "plt.plot(y_val.iloc[:,1])\r\n",
        "plt.plot(y_pred[:,1], 'o')\r\n",
        "plt.show()"
      ],
      "execution_count": 481,
      "outputs": [
        {
          "output_type": "display_data",
          "data": {
            "image/png": "[encoded data removed]",
            "text/plain": [
              "<Figure size 432x288 with 1 Axes>"
            ]
          },
          "metadata": {
            "tags": [],
            "needs_background": "light"
          }
        }
      ]
    },
    {
      "cell_type": "code",
      "metadata": {
        "colab": {
          "base_uri": "https://localhost:8080/",
          "height": 613
        },
        "id": "POSr2_XGCxRw",
        "outputId": "75a51bbd-6aca-4af3-bca5-53ca8f604d05"
      },
      "source": [
        "plt.figure(figsize=(10,10))\r\n",
        "plt.scatter(y_val.iloc[:,2], y_pred[:,2], c='crimson')\r\n",
        "plt.yscale('log')\r\n",
        "plt.xscale('log')\r\n",
        "\r\n",
        "p1 = max(max(y_pred[:,2]), max(y_val.iloc[:,2]))\r\n",
        "p2 = min(min(y_pred[:,2]), min(y_val.iloc[:,2]))\r\n",
        "plt.plot([p1, p2], [p1, p2], 'b-')\r\n",
        "plt.xlabel('Actual Values', fontsize=15)\r\n",
        "plt.ylabel('Predictions', fontsize=15)\r\n",
        "plt.axis('equal')\r\n",
        "plt.show()"
      ],
      "execution_count": 482,
      "outputs": [
        {
          "output_type": "display_data",
          "data": {
            "image/png": "[encoded data removed]",
            "text/plain": [
              "<Figure size 720x720 with 1 Axes>"
            ]
          },
          "metadata": {
            "tags": [],
            "needs_background": "light"
          }
        }
      ]
    },
    {
      "cell_type": "code",
      "metadata": {
        "colab": {
          "base_uri": "https://localhost:8080/",
          "height": 264
        },
        "id": "mtNpsTNXC8Dy",
        "outputId": "0bdc4af3-a6f0-49c3-c7eb-c61853608451"
      },
      "source": [
        "plt.plot(y_val.iloc[:,2])\r\n",
        "plt.plot(y_pred[:,2], 'o')\r\n",
        "plt.show()"
      ],
      "execution_count": 483,
      "outputs": [
        {
          "output_type": "display_data",
          "data": {
            "image/png": "[encoded data removed]",
            "text/plain": [
              "<Figure size 432x288 with 1 Axes>"
            ]
          },
          "metadata": {
            "tags": [],
            "needs_background": "light"
          }
        }
      ]
    }
  ]
}