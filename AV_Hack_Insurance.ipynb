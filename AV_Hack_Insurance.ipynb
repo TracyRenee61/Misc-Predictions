{
  "nbformat": 4,
  "nbformat_minor": 0,
  "metadata": {
    "colab": {
      "name": "AV Hack Insurance.ipynb",
      "provenance": []
    },
    "kernelspec": {
      "name": "python3",
      "display_name": "Python 3"
    }
  },
  "cells": [
    {
      "cell_type": "markdown",
      "metadata": {
        "id": "PhlRpH1c0Wcx"
      },
      "source": [
        "Problem statement\r\n",
        "\r\n",
        "Your client is an Insurance company and they need your help in building a model to predict the propensity to pay renewal premium and build an incentive plan for its agents to maximise the net revenue (i.e. renewals - incentives given to collect the renewals) collected from the policies post their issuance.\r\n",
        "\r\n",
        "You have information about past transactions from the policy holders along with their demographics. The client has provided aggregated historical transactional data like number of premiums delayed by 3/ 6/ 12 months across all the products, number of premiums paid, customer sourcing channel and customer demographics like age, monthly income and area type.\r\n",
        "\r\n",
        "In addition to the information above, the client has provided the following relationships:\r\n",
        "\r\n",
        "Expected effort in hours put in by an agent for incentives provided; and\r\n",
        "Expected increase in chances of renewal, given the effort from the agent.\r\n",
        " \r\n",
        "Given the information, the client wants you to predict the propensity of renewal collection and create an incentive plan for agents (at policy level) to maximise the net revenues from these policies.\r\n",
        "\r\n"
      ]
    },
    {
      "cell_type": "markdown",
      "metadata": {
        "id": "ncwJKEr-PxGH"
      },
      "source": [
        "![image.png](data:image/png;base64,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)"
      ]
    },
    {
      "cell_type": "markdown",
      "metadata": {
        "id": "FeONfSfKQMzC"
      },
      "source": [
        "Equation for the effort-incentives curve: Y = 10\\*(1-exp(-X/400))"
      ]
    },
    {
      "cell_type": "markdown",
      "metadata": {
        "id": "__2xe2nBQKm5"
      },
      "source": [
        "Equation for the % improvement in renewal prob vs effort curve: Y = 20\\*(1-exp(-X/5))"
      ]
    },
    {
      "cell_type": "markdown",
      "metadata": {
        "id": "1KWFaa0o0w7q"
      },
      "source": [
        "Import libraries"
      ]
    },
    {
      "cell_type": "code",
      "metadata": {
        "id": "V2p4e1EI0UVP"
      },
      "source": [
        "import pandas as pd\r\n",
        "import numpy as np"
      ],
      "execution_count": 416,
      "outputs": []
    },
    {
      "cell_type": "markdown",
      "metadata": {
        "id": "OtyKLCLf094z"
      },
      "source": [
        "Load and read files"
      ]
    },
    {
      "cell_type": "code",
      "metadata": {
        "id": "ugKieBnX1BPi"
      },
      "source": [
        "# load datasets\r\n",
        "train = pd.read_csv('/content/drive/MyDrive/ins_train.csv')\r\n",
        "test = pd.read_csv('/content/drive/MyDrive/ins_test.csv')\r\n",
        "sample = pd.read_csv('/content/drive/MyDrive/ins_sample.csv')"
      ],
      "execution_count": 417,
      "outputs": []
    },
    {
      "cell_type": "code",
      "metadata": {
        "id": "YKexVcdg1-Xn",
        "colab": {
          "base_uri": "https://localhost:8080/",
          "height": 443
        },
        "outputId": "56c201b7-cf0e-4eeb-e042-889e4491effa"
      },
      "source": [
        "train"
      ],
      "execution_count": 418,
      "outputs": [
        {
          "output_type": "execute_result",
          "data": {
            "text/html": [
              "<div>\n",
              "<style scoped>\n",
              "    .dataframe tbody tr th:only-of-type {\n",
              "        vertical-align: middle;\n",
              "    }\n",
              "\n",
              "    .dataframe tbody tr th {\n",
              "        vertical-align: top;\n",
              "    }\n",
              "\n",
              "    .dataframe thead th {\n",
              "        text-align: right;\n",
              "    }\n",
              "</style>\n",
              "<table border=\"1\" class=\"dataframe\">\n",
              "  <thead>\n",
              "    <tr style=\"text-align: right;\">\n",
              "      <th></th>\n",
              "      <th>id</th>\n",
              "      <th>perc_premium_paid_by_cash_credit</th>\n",
              "      <th>age_in_days</th>\n",
              "      <th>Income</th>\n",
              "      <th>Count_3-6_months_late</th>\n",
              "      <th>Count_6-12_months_late</th>\n",
              "      <th>Count_more_than_12_months_late</th>\n",
              "      <th>application_underwriting_score</th>\n",
              "      <th>no_of_premiums_paid</th>\n",
              "      <th>sourcing_channel</th>\n",
              "      <th>residence_area_type</th>\n",
              "      <th>premium</th>\n",
              "      <th>renewal</th>\n",
              "    </tr>\n",
              "  </thead>\n",
              "  <tbody>\n",
              "    <tr>\n",
              "      <th>0</th>\n",
              "      <td>110936</td>\n",
              "      <td>0.429</td>\n",
              "      <td>12058</td>\n",
              "      <td>355060</td>\n",
              "      <td>0.0</td>\n",
              "      <td>0.0</td>\n",
              "      <td>0.0</td>\n",
              "      <td>99.02</td>\n",
              "      <td>13</td>\n",
              "      <td>C</td>\n",
              "      <td>Urban</td>\n",
              "      <td>3300</td>\n",
              "      <td>1</td>\n",
              "    </tr>\n",
              "    <tr>\n",
              "      <th>1</th>\n",
              "      <td>41492</td>\n",
              "      <td>0.010</td>\n",
              "      <td>21546</td>\n",
              "      <td>315150</td>\n",
              "      <td>0.0</td>\n",
              "      <td>0.0</td>\n",
              "      <td>0.0</td>\n",
              "      <td>99.89</td>\n",
              "      <td>21</td>\n",
              "      <td>A</td>\n",
              "      <td>Urban</td>\n",
              "      <td>18000</td>\n",
              "      <td>1</td>\n",
              "    </tr>\n",
              "    <tr>\n",
              "      <th>2</th>\n",
              "      <td>31300</td>\n",
              "      <td>0.917</td>\n",
              "      <td>17531</td>\n",
              "      <td>84140</td>\n",
              "      <td>2.0</td>\n",
              "      <td>3.0</td>\n",
              "      <td>1.0</td>\n",
              "      <td>98.69</td>\n",
              "      <td>7</td>\n",
              "      <td>C</td>\n",
              "      <td>Rural</td>\n",
              "      <td>3300</td>\n",
              "      <td>0</td>\n",
              "    </tr>\n",
              "    <tr>\n",
              "      <th>3</th>\n",
              "      <td>19415</td>\n",
              "      <td>0.049</td>\n",
              "      <td>15341</td>\n",
              "      <td>250510</td>\n",
              "      <td>0.0</td>\n",
              "      <td>0.0</td>\n",
              "      <td>0.0</td>\n",
              "      <td>99.57</td>\n",
              "      <td>9</td>\n",
              "      <td>A</td>\n",
              "      <td>Urban</td>\n",
              "      <td>9600</td>\n",
              "      <td>1</td>\n",
              "    </tr>\n",
              "    <tr>\n",
              "      <th>4</th>\n",
              "      <td>99379</td>\n",
              "      <td>0.052</td>\n",
              "      <td>31400</td>\n",
              "      <td>198680</td>\n",
              "      <td>0.0</td>\n",
              "      <td>0.0</td>\n",
              "      <td>0.0</td>\n",
              "      <td>99.87</td>\n",
              "      <td>12</td>\n",
              "      <td>B</td>\n",
              "      <td>Urban</td>\n",
              "      <td>9600</td>\n",
              "      <td>1</td>\n",
              "    </tr>\n",
              "    <tr>\n",
              "      <th>...</th>\n",
              "      <td>...</td>\n",
              "      <td>...</td>\n",
              "      <td>...</td>\n",
              "      <td>...</td>\n",
              "      <td>...</td>\n",
              "      <td>...</td>\n",
              "      <td>...</td>\n",
              "      <td>...</td>\n",
              "      <td>...</td>\n",
              "      <td>...</td>\n",
              "      <td>...</td>\n",
              "      <td>...</td>\n",
              "      <td>...</td>\n",
              "    </tr>\n",
              "    <tr>\n",
              "      <th>79848</th>\n",
              "      <td>48057</td>\n",
              "      <td>0.425</td>\n",
              "      <td>23367</td>\n",
              "      <td>224550</td>\n",
              "      <td>1.0</td>\n",
              "      <td>0.0</td>\n",
              "      <td>0.0</td>\n",
              "      <td>98.70</td>\n",
              "      <td>19</td>\n",
              "      <td>B</td>\n",
              "      <td>Urban</td>\n",
              "      <td>13800</td>\n",
              "      <td>1</td>\n",
              "    </tr>\n",
              "    <tr>\n",
              "      <th>79849</th>\n",
              "      <td>59012</td>\n",
              "      <td>0.704</td>\n",
              "      <td>19356</td>\n",
              "      <td>279150</td>\n",
              "      <td>1.0</td>\n",
              "      <td>0.0</td>\n",
              "      <td>1.0</td>\n",
              "      <td>99.42</td>\n",
              "      <td>12</td>\n",
              "      <td>A</td>\n",
              "      <td>Rural</td>\n",
              "      <td>28500</td>\n",
              "      <td>1</td>\n",
              "    </tr>\n",
              "    <tr>\n",
              "      <th>79850</th>\n",
              "      <td>77050</td>\n",
              "      <td>0.000</td>\n",
              "      <td>23372</td>\n",
              "      <td>305020</td>\n",
              "      <td>0.0</td>\n",
              "      <td>0.0</td>\n",
              "      <td>0.0</td>\n",
              "      <td>98.89</td>\n",
              "      <td>12</td>\n",
              "      <td>A</td>\n",
              "      <td>Rural</td>\n",
              "      <td>9600</td>\n",
              "      <td>1</td>\n",
              "    </tr>\n",
              "    <tr>\n",
              "      <th>79851</th>\n",
              "      <td>67225</td>\n",
              "      <td>0.398</td>\n",
              "      <td>22641</td>\n",
              "      <td>39330</td>\n",
              "      <td>0.0</td>\n",
              "      <td>0.0</td>\n",
              "      <td>0.0</td>\n",
              "      <td>98.68</td>\n",
              "      <td>8</td>\n",
              "      <td>A</td>\n",
              "      <td>Rural</td>\n",
              "      <td>5700</td>\n",
              "      <td>1</td>\n",
              "    </tr>\n",
              "    <tr>\n",
              "      <th>79852</th>\n",
              "      <td>71531</td>\n",
              "      <td>0.550</td>\n",
              "      <td>15709</td>\n",
              "      <td>280140</td>\n",
              "      <td>1.0</td>\n",
              "      <td>0.0</td>\n",
              "      <td>1.0</td>\n",
              "      <td>99.84</td>\n",
              "      <td>8</td>\n",
              "      <td>A</td>\n",
              "      <td>Urban</td>\n",
              "      <td>9600</td>\n",
              "      <td>0</td>\n",
              "    </tr>\n",
              "  </tbody>\n",
              "</table>\n",
              "<p>79853 rows × 13 columns</p>\n",
              "</div>"
            ],
            "text/plain": [
              "           id  perc_premium_paid_by_cash_credit  ...  premium  renewal\n",
              "0      110936                             0.429  ...     3300        1\n",
              "1       41492                             0.010  ...    18000        1\n",
              "2       31300                             0.917  ...     3300        0\n",
              "3       19415                             0.049  ...     9600        1\n",
              "4       99379                             0.052  ...     9600        1\n",
              "...       ...                               ...  ...      ...      ...\n",
              "79848   48057                             0.425  ...    13800        1\n",
              "79849   59012                             0.704  ...    28500        1\n",
              "79850   77050                             0.000  ...     9600        1\n",
              "79851   67225                             0.398  ...     5700        1\n",
              "79852   71531                             0.550  ...     9600        0\n",
              "\n",
              "[79853 rows x 13 columns]"
            ]
          },
          "metadata": {
            "tags": []
          },
          "execution_count": 418
        }
      ]
    },
    {
      "cell_type": "code",
      "metadata": {
        "id": "BVYRIJCz1_ui",
        "colab": {
          "base_uri": "https://localhost:8080/",
          "height": 443
        },
        "outputId": "b64fbae3-e78a-409a-c79e-77ead54b09dd"
      },
      "source": [
        "test"
      ],
      "execution_count": 419,
      "outputs": [
        {
          "output_type": "execute_result",
          "data": {
            "text/html": [
              "<div>\n",
              "<style scoped>\n",
              "    .dataframe tbody tr th:only-of-type {\n",
              "        vertical-align: middle;\n",
              "    }\n",
              "\n",
              "    .dataframe tbody tr th {\n",
              "        vertical-align: top;\n",
              "    }\n",
              "\n",
              "    .dataframe thead th {\n",
              "        text-align: right;\n",
              "    }\n",
              "</style>\n",
              "<table border=\"1\" class=\"dataframe\">\n",
              "  <thead>\n",
              "    <tr style=\"text-align: right;\">\n",
              "      <th></th>\n",
              "      <th>id</th>\n",
              "      <th>perc_premium_paid_by_cash_credit</th>\n",
              "      <th>age_in_days</th>\n",
              "      <th>Income</th>\n",
              "      <th>Count_3-6_months_late</th>\n",
              "      <th>Count_6-12_months_late</th>\n",
              "      <th>Count_more_than_12_months_late</th>\n",
              "      <th>application_underwriting_score</th>\n",
              "      <th>no_of_premiums_paid</th>\n",
              "      <th>sourcing_channel</th>\n",
              "      <th>residence_area_type</th>\n",
              "      <th>premium</th>\n",
              "    </tr>\n",
              "  </thead>\n",
              "  <tbody>\n",
              "    <tr>\n",
              "      <th>0</th>\n",
              "      <td>649</td>\n",
              "      <td>0.001</td>\n",
              "      <td>27384</td>\n",
              "      <td>51150</td>\n",
              "      <td>0.0</td>\n",
              "      <td>0.0</td>\n",
              "      <td>0.0</td>\n",
              "      <td>99.89</td>\n",
              "      <td>7</td>\n",
              "      <td>A</td>\n",
              "      <td>Rural</td>\n",
              "      <td>3300</td>\n",
              "    </tr>\n",
              "    <tr>\n",
              "      <th>1</th>\n",
              "      <td>81136</td>\n",
              "      <td>0.124</td>\n",
              "      <td>23735</td>\n",
              "      <td>285140</td>\n",
              "      <td>0.0</td>\n",
              "      <td>0.0</td>\n",
              "      <td>0.0</td>\n",
              "      <td>98.93</td>\n",
              "      <td>19</td>\n",
              "      <td>A</td>\n",
              "      <td>Urban</td>\n",
              "      <td>11700</td>\n",
              "    </tr>\n",
              "    <tr>\n",
              "      <th>2</th>\n",
              "      <td>70762</td>\n",
              "      <td>1.000</td>\n",
              "      <td>17170</td>\n",
              "      <td>186030</td>\n",
              "      <td>0.0</td>\n",
              "      <td>0.0</td>\n",
              "      <td>0.0</td>\n",
              "      <td>NaN</td>\n",
              "      <td>2</td>\n",
              "      <td>B</td>\n",
              "      <td>Urban</td>\n",
              "      <td>11700</td>\n",
              "    </tr>\n",
              "    <tr>\n",
              "      <th>3</th>\n",
              "      <td>53935</td>\n",
              "      <td>0.198</td>\n",
              "      <td>16068</td>\n",
              "      <td>123540</td>\n",
              "      <td>0.0</td>\n",
              "      <td>0.0</td>\n",
              "      <td>0.0</td>\n",
              "      <td>99.00</td>\n",
              "      <td>11</td>\n",
              "      <td>B</td>\n",
              "      <td>Rural</td>\n",
              "      <td>5400</td>\n",
              "    </tr>\n",
              "    <tr>\n",
              "      <th>4</th>\n",
              "      <td>15476</td>\n",
              "      <td>0.041</td>\n",
              "      <td>10591</td>\n",
              "      <td>200020</td>\n",
              "      <td>1.0</td>\n",
              "      <td>0.0</td>\n",
              "      <td>0.0</td>\n",
              "      <td>99.17</td>\n",
              "      <td>14</td>\n",
              "      <td>A</td>\n",
              "      <td>Rural</td>\n",
              "      <td>9600</td>\n",
              "    </tr>\n",
              "    <tr>\n",
              "      <th>...</th>\n",
              "      <td>...</td>\n",
              "      <td>...</td>\n",
              "      <td>...</td>\n",
              "      <td>...</td>\n",
              "      <td>...</td>\n",
              "      <td>...</td>\n",
              "      <td>...</td>\n",
              "      <td>...</td>\n",
              "      <td>...</td>\n",
              "      <td>...</td>\n",
              "      <td>...</td>\n",
              "      <td>...</td>\n",
              "    </tr>\n",
              "    <tr>\n",
              "      <th>34219</th>\n",
              "      <td>81988</td>\n",
              "      <td>0.227</td>\n",
              "      <td>20810</td>\n",
              "      <td>110240</td>\n",
              "      <td>0.0</td>\n",
              "      <td>0.0</td>\n",
              "      <td>0.0</td>\n",
              "      <td>97.52</td>\n",
              "      <td>9</td>\n",
              "      <td>A</td>\n",
              "      <td>Urban</td>\n",
              "      <td>5400</td>\n",
              "    </tr>\n",
              "    <tr>\n",
              "      <th>34220</th>\n",
              "      <td>30326</td>\n",
              "      <td>0.157</td>\n",
              "      <td>19353</td>\n",
              "      <td>125090</td>\n",
              "      <td>0.0</td>\n",
              "      <td>0.0</td>\n",
              "      <td>0.0</td>\n",
              "      <td>99.62</td>\n",
              "      <td>7</td>\n",
              "      <td>A</td>\n",
              "      <td>Rural</td>\n",
              "      <td>1200</td>\n",
              "    </tr>\n",
              "    <tr>\n",
              "      <th>34221</th>\n",
              "      <td>65749</td>\n",
              "      <td>0.325</td>\n",
              "      <td>18264</td>\n",
              "      <td>196570</td>\n",
              "      <td>0.0</td>\n",
              "      <td>0.0</td>\n",
              "      <td>0.0</td>\n",
              "      <td>98.58</td>\n",
              "      <td>14</td>\n",
              "      <td>B</td>\n",
              "      <td>Rural</td>\n",
              "      <td>1200</td>\n",
              "    </tr>\n",
              "    <tr>\n",
              "      <th>34222</th>\n",
              "      <td>65686</td>\n",
              "      <td>0.983</td>\n",
              "      <td>16798</td>\n",
              "      <td>212150</td>\n",
              "      <td>1.0</td>\n",
              "      <td>0.0</td>\n",
              "      <td>1.0</td>\n",
              "      <td>98.88</td>\n",
              "      <td>10</td>\n",
              "      <td>A</td>\n",
              "      <td>Urban</td>\n",
              "      <td>13800</td>\n",
              "    </tr>\n",
              "    <tr>\n",
              "      <th>34223</th>\n",
              "      <td>93826</td>\n",
              "      <td>0.005</td>\n",
              "      <td>24467</td>\n",
              "      <td>89190</td>\n",
              "      <td>1.0</td>\n",
              "      <td>0.0</td>\n",
              "      <td>0.0</td>\n",
              "      <td>98.00</td>\n",
              "      <td>11</td>\n",
              "      <td>A</td>\n",
              "      <td>Urban</td>\n",
              "      <td>5400</td>\n",
              "    </tr>\n",
              "  </tbody>\n",
              "</table>\n",
              "<p>34224 rows × 12 columns</p>\n",
              "</div>"
            ],
            "text/plain": [
              "          id  perc_premium_paid_by_cash_credit  ...  residence_area_type  premium\n",
              "0        649                             0.001  ...                Rural     3300\n",
              "1      81136                             0.124  ...                Urban    11700\n",
              "2      70762                             1.000  ...                Urban    11700\n",
              "3      53935                             0.198  ...                Rural     5400\n",
              "4      15476                             0.041  ...                Rural     9600\n",
              "...      ...                               ...  ...                  ...      ...\n",
              "34219  81988                             0.227  ...                Urban     5400\n",
              "34220  30326                             0.157  ...                Rural     1200\n",
              "34221  65749                             0.325  ...                Rural     1200\n",
              "34222  65686                             0.983  ...                Urban    13800\n",
              "34223  93826                             0.005  ...                Urban     5400\n",
              "\n",
              "[34224 rows x 12 columns]"
            ]
          },
          "metadata": {
            "tags": []
          },
          "execution_count": 419
        }
      ]
    },
    {
      "cell_type": "code",
      "metadata": {
        "id": "76c7mQa_2A6U",
        "colab": {
          "base_uri": "https://localhost:8080/",
          "height": 407
        },
        "outputId": "0b3c0426-0b5d-46f6-c977-640c04afc419"
      },
      "source": [
        "sample"
      ],
      "execution_count": 420,
      "outputs": [
        {
          "output_type": "execute_result",
          "data": {
            "text/html": [
              "<div>\n",
              "<style scoped>\n",
              "    .dataframe tbody tr th:only-of-type {\n",
              "        vertical-align: middle;\n",
              "    }\n",
              "\n",
              "    .dataframe tbody tr th {\n",
              "        vertical-align: top;\n",
              "    }\n",
              "\n",
              "    .dataframe thead th {\n",
              "        text-align: right;\n",
              "    }\n",
              "</style>\n",
              "<table border=\"1\" class=\"dataframe\">\n",
              "  <thead>\n",
              "    <tr style=\"text-align: right;\">\n",
              "      <th></th>\n",
              "      <th>id</th>\n",
              "      <th>renewal</th>\n",
              "      <th>incentives</th>\n",
              "    </tr>\n",
              "  </thead>\n",
              "  <tbody>\n",
              "    <tr>\n",
              "      <th>0</th>\n",
              "      <td>649</td>\n",
              "      <td>0.5</td>\n",
              "      <td>1650</td>\n",
              "    </tr>\n",
              "    <tr>\n",
              "      <th>1</th>\n",
              "      <td>81136</td>\n",
              "      <td>0.5</td>\n",
              "      <td>1650</td>\n",
              "    </tr>\n",
              "    <tr>\n",
              "      <th>2</th>\n",
              "      <td>70762</td>\n",
              "      <td>0.5</td>\n",
              "      <td>1650</td>\n",
              "    </tr>\n",
              "    <tr>\n",
              "      <th>3</th>\n",
              "      <td>53935</td>\n",
              "      <td>0.5</td>\n",
              "      <td>1650</td>\n",
              "    </tr>\n",
              "    <tr>\n",
              "      <th>4</th>\n",
              "      <td>15476</td>\n",
              "      <td>0.5</td>\n",
              "      <td>1650</td>\n",
              "    </tr>\n",
              "    <tr>\n",
              "      <th>...</th>\n",
              "      <td>...</td>\n",
              "      <td>...</td>\n",
              "      <td>...</td>\n",
              "    </tr>\n",
              "    <tr>\n",
              "      <th>34219</th>\n",
              "      <td>81988</td>\n",
              "      <td>0.5</td>\n",
              "      <td>1650</td>\n",
              "    </tr>\n",
              "    <tr>\n",
              "      <th>34220</th>\n",
              "      <td>30326</td>\n",
              "      <td>0.5</td>\n",
              "      <td>1650</td>\n",
              "    </tr>\n",
              "    <tr>\n",
              "      <th>34221</th>\n",
              "      <td>65749</td>\n",
              "      <td>0.5</td>\n",
              "      <td>1650</td>\n",
              "    </tr>\n",
              "    <tr>\n",
              "      <th>34222</th>\n",
              "      <td>65686</td>\n",
              "      <td>0.5</td>\n",
              "      <td>1650</td>\n",
              "    </tr>\n",
              "    <tr>\n",
              "      <th>34223</th>\n",
              "      <td>93826</td>\n",
              "      <td>0.5</td>\n",
              "      <td>1650</td>\n",
              "    </tr>\n",
              "  </tbody>\n",
              "</table>\n",
              "<p>34224 rows × 3 columns</p>\n",
              "</div>"
            ],
            "text/plain": [
              "          id  renewal  incentives\n",
              "0        649      0.5        1650\n",
              "1      81136      0.5        1650\n",
              "2      70762      0.5        1650\n",
              "3      53935      0.5        1650\n",
              "4      15476      0.5        1650\n",
              "...      ...      ...         ...\n",
              "34219  81988      0.5        1650\n",
              "34220  30326      0.5        1650\n",
              "34221  65749      0.5        1650\n",
              "34222  65686      0.5        1650\n",
              "34223  93826      0.5        1650\n",
              "\n",
              "[34224 rows x 3 columns]"
            ]
          },
          "metadata": {
            "tags": []
          },
          "execution_count": 420
        }
      ]
    },
    {
      "cell_type": "code",
      "metadata": {
        "colab": {
          "base_uri": "https://localhost:8080/"
        },
        "id": "qgxEaynyGw9l",
        "outputId": "225dfe3e-9c4e-47b2-8085-dc83e8ac4335"
      },
      "source": [
        "train.info()"
      ],
      "execution_count": 421,
      "outputs": [
        {
          "output_type": "stream",
          "text": [
            "<class 'pandas.core.frame.DataFrame'>\n",
            "RangeIndex: 79853 entries, 0 to 79852\n",
            "Data columns (total 13 columns):\n",
            " #   Column                            Non-Null Count  Dtype  \n",
            "---  ------                            --------------  -----  \n",
            " 0   id                                79853 non-null  int64  \n",
            " 1   perc_premium_paid_by_cash_credit  79853 non-null  float64\n",
            " 2   age_in_days                       79853 non-null  int64  \n",
            " 3   Income                            79853 non-null  int64  \n",
            " 4   Count_3-6_months_late             79756 non-null  float64\n",
            " 5   Count_6-12_months_late            79756 non-null  float64\n",
            " 6   Count_more_than_12_months_late    79756 non-null  float64\n",
            " 7   application_underwriting_score    76879 non-null  float64\n",
            " 8   no_of_premiums_paid               79853 non-null  int64  \n",
            " 9   sourcing_channel                  79853 non-null  object \n",
            " 10  residence_area_type               79853 non-null  object \n",
            " 11  premium                           79853 non-null  int64  \n",
            " 12  renewal                           79853 non-null  int64  \n",
            "dtypes: float64(5), int64(6), object(2)\n",
            "memory usage: 7.9+ MB\n"
          ],
          "name": "stdout"
        }
      ]
    },
    {
      "cell_type": "code",
      "metadata": {
        "colab": {
          "base_uri": "https://localhost:8080/"
        },
        "id": "n8_MoWTJGzC9",
        "outputId": "9d7a520f-1de0-4d6d-a31b-d081d1145a42"
      },
      "source": [
        "test.info()"
      ],
      "execution_count": 422,
      "outputs": [
        {
          "output_type": "stream",
          "text": [
            "<class 'pandas.core.frame.DataFrame'>\n",
            "RangeIndex: 34224 entries, 0 to 34223\n",
            "Data columns (total 12 columns):\n",
            " #   Column                            Non-Null Count  Dtype  \n",
            "---  ------                            --------------  -----  \n",
            " 0   id                                34224 non-null  int64  \n",
            " 1   perc_premium_paid_by_cash_credit  34224 non-null  float64\n",
            " 2   age_in_days                       34224 non-null  int64  \n",
            " 3   Income                            34224 non-null  int64  \n",
            " 4   Count_3-6_months_late             34193 non-null  float64\n",
            " 5   Count_6-12_months_late            34193 non-null  float64\n",
            " 6   Count_more_than_12_months_late    34193 non-null  float64\n",
            " 7   application_underwriting_score    32901 non-null  float64\n",
            " 8   no_of_premiums_paid               34224 non-null  int64  \n",
            " 9   sourcing_channel                  34224 non-null  object \n",
            " 10  residence_area_type               34224 non-null  object \n",
            " 11  premium                           34224 non-null  int64  \n",
            "dtypes: float64(5), int64(5), object(2)\n",
            "memory usage: 3.1+ MB\n"
          ],
          "name": "stdout"
        }
      ]
    },
    {
      "cell_type": "markdown",
      "metadata": {
        "id": "gSevZgDgilca"
      },
      "source": [
        "Check for null values"
      ]
    },
    {
      "cell_type": "code",
      "metadata": {
        "colab": {
          "base_uri": "https://localhost:8080/"
        },
        "id": "2_Y2Tqurik5g",
        "outputId": "6e05d010-9342-4e26-c1de-d9caa380d7f0"
      },
      "source": [
        "train.isnull().sum()"
      ],
      "execution_count": 423,
      "outputs": [
        {
          "output_type": "execute_result",
          "data": {
            "text/plain": [
              "id                                     0\n",
              "perc_premium_paid_by_cash_credit       0\n",
              "age_in_days                            0\n",
              "Income                                 0\n",
              "Count_3-6_months_late                 97\n",
              "Count_6-12_months_late                97\n",
              "Count_more_than_12_months_late        97\n",
              "application_underwriting_score      2974\n",
              "no_of_premiums_paid                    0\n",
              "sourcing_channel                       0\n",
              "residence_area_type                    0\n",
              "premium                                0\n",
              "renewal                                0\n",
              "dtype: int64"
            ]
          },
          "metadata": {
            "tags": []
          },
          "execution_count": 423
        }
      ]
    },
    {
      "cell_type": "code",
      "metadata": {
        "colab": {
          "base_uri": "https://localhost:8080/"
        },
        "id": "66cSZAC-irpJ",
        "outputId": "480d434c-ede7-4315-aecd-464440742126"
      },
      "source": [
        "test.isnull().sum()"
      ],
      "execution_count": 424,
      "outputs": [
        {
          "output_type": "execute_result",
          "data": {
            "text/plain": [
              "id                                     0\n",
              "perc_premium_paid_by_cash_credit       0\n",
              "age_in_days                            0\n",
              "Income                                 0\n",
              "Count_3-6_months_late                 31\n",
              "Count_6-12_months_late                31\n",
              "Count_more_than_12_months_late        31\n",
              "application_underwriting_score      1323\n",
              "no_of_premiums_paid                    0\n",
              "sourcing_channel                       0\n",
              "residence_area_type                    0\n",
              "premium                                0\n",
              "dtype: int64"
            ]
          },
          "metadata": {
            "tags": []
          },
          "execution_count": 424
        }
      ]
    },
    {
      "cell_type": "markdown",
      "metadata": {
        "id": "01798e5fi9k8"
      },
      "source": [
        "Impute missing values"
      ]
    },
    {
      "cell_type": "code",
      "metadata": {
        "id": "EAtmygfbi_Zn"
      },
      "source": [
        "train[\"Count_3-6_months_late\"] = train[\"Count_3-6_months_late\"].fillna(train['Count_3-6_months_late'].median())\r\n",
        "train[\"Count_6-12_months_late\"] = train[\"Count_6-12_months_late\"].fillna(train['Count_6-12_months_late'].median())\r\n",
        "train[\"Count_more_than_12_months_late\"] = train[\"Count_more_than_12_months_late\"].fillna(train['Count_more_than_12_months_late'].median())\r\n",
        "train[\"application_underwriting_score\"] = train[\"application_underwriting_score\"].fillna(train['application_underwriting_score'].median())\r\n",
        "\r\n",
        "test[\"Count_3-6_months_late\"] = test[\"Count_3-6_months_late\"].fillna(train['Count_3-6_months_late'].median())\r\n",
        "test[\"Count_6-12_months_late\"] = test[\"Count_6-12_months_late\"].fillna(train['Count_6-12_months_late'].median())\r\n",
        "test[\"Count_more_than_12_months_late\"] = test[\"Count_more_than_12_months_late\"].fillna(test['Count_more_than_12_months_late'].median())\r\n",
        "test[\"application_underwriting_score\"] = test[\"application_underwriting_score\"].fillna(test['application_underwriting_score'].median())"
      ],
      "execution_count": 425,
      "outputs": []
    },
    {
      "cell_type": "markdown",
      "metadata": {
        "id": "3F3NOYiroLT0"
      },
      "source": [
        "Create new column"
      ]
    },
    {
      "cell_type": "code",
      "metadata": {
        "id": "e4t_Lo3koNhh"
      },
      "source": [
        "train['age_in_years'] = train['age_in_days'] / 365.25\r\n",
        "test['age_in_years'] = test['age_in_days'] / 365.25\r\n",
        "\r\n",
        "train['age_in_years'] = train['age_in_years'].astype(int)\r\n",
        "test['age_in_years'] = test['age_in_years'].astype(int)"
      ],
      "execution_count": 426,
      "outputs": []
    },
    {
      "cell_type": "markdown",
      "metadata": {
        "id": "Ohbol3I6kwyn"
      },
      "source": [
        "Graph of target variable"
      ]
    },
    {
      "cell_type": "code",
      "metadata": {
        "colab": {
          "base_uri": "https://localhost:8080/",
          "height": 349
        },
        "id": "XiecIT0Akz0Z",
        "outputId": "95a811d5-80a8-460e-9366-7d2d411c1613"
      },
      "source": [
        "import seaborn as sns\r\n",
        "\r\n",
        "sns.distplot(train['renewal'])"
      ],
      "execution_count": 427,
      "outputs": [
        {
          "output_type": "stream",
          "text": [
            "/usr/local/lib/python3.6/dist-packages/seaborn/distributions.py:2551: FutureWarning: `distplot` is a deprecated function and will be removed in a future version. Please adapt your code to use either `displot` (a figure-level function with similar flexibility) or `histplot` (an axes-level function for histograms).\n",
            "  warnings.warn(msg, FutureWarning)\n"
          ],
          "name": "stderr"
        },
        {
          "output_type": "execute_result",
          "data": {
            "text/plain": [
              "<matplotlib.axes._subplots.AxesSubplot at 0x7f2d5d1e7198>"
            ]
          },
          "metadata": {
            "tags": []
          },
          "execution_count": 427
        },
        {
          "output_type": "display_data",
          "data": {
            "image/png": "[encoded data removed]",
            "text/plain": [
              "<Figure size 432x288 with 1 Axes>"
            ]
          },
          "metadata": {
            "tags": [],
            "needs_background": "light"
          }
        }
      ]
    },
    {
      "cell_type": "markdown",
      "metadata": {
        "id": "eZYz1PMGlMkk"
      },
      "source": [
        "Count target variable"
      ]
    },
    {
      "cell_type": "code",
      "metadata": {
        "colab": {
          "base_uri": "https://localhost:8080/"
        },
        "id": "Nlk4B2JllUH8",
        "outputId": "8e5b860e-084e-4772-aae4-d0d64e4bc5c3"
      },
      "source": [
        "import collections\r\n",
        "from collections import Counter\r\n",
        "\r\n",
        "counter = Counter(train.renewal)\r\n",
        "for k,v in counter.items():\r\n",
        "\tper = v / len(train.renewal) * 100\r\n",
        "\tprint('Class=%s, Count=%d, Percentage=%.3f%%' % (k, v, per))"
      ],
      "execution_count": 428,
      "outputs": [
        {
          "output_type": "stream",
          "text": [
            "Class=1, Count=74855, Percentage=93.741%\n",
            "Class=0, Count=4998, Percentage=6.259%\n"
          ],
          "name": "stdout"
        }
      ]
    },
    {
      "cell_type": "markdown",
      "metadata": {
        "id": "w31905qulmi6"
      },
      "source": [
        "Graph independant variables"
      ]
    },
    {
      "cell_type": "code",
      "metadata": {
        "colab": {
          "base_uri": "https://localhost:8080/",
          "height": 281
        },
        "id": "6omYnQVllpV6",
        "outputId": "03c3b634-2937-4a87-ae54-988e2b062c2a"
      },
      "source": [
        "from matplotlib import pyplot as plt\r\n",
        "\r\n",
        "# create a histogram plot of each variable\r\n",
        "train.hist(bins=25)\r\n",
        "# show the plot\r\n",
        "plt.show()"
      ],
      "execution_count": 429,
      "outputs": [
        {
          "output_type": "display_data",
          "data": {
            "image/png": "[encoded data removed]",
            "text/plain": [
              "<Figure size 432x288 with 12 Axes>"
            ]
          },
          "metadata": {
            "tags": [],
            "needs_background": "light"
          }
        }
      ]
    },
    {
      "cell_type": "markdown",
      "metadata": {
        "id": "7L0QCh1Mu5fK"
      },
      "source": [
        "Heatmap"
      ]
    },
    {
      "cell_type": "code",
      "metadata": {
        "colab": {
          "base_uri": "https://localhost:8080/",
          "height": 562
        },
        "id": "YBEHSSE1u7Bk",
        "outputId": "340191b6-74d0-4ca4-e2be-48279ac1d0d6"
      },
      "source": [
        "#create a heatmap to correlate promotion\r\n",
        "plt.figure(figsize=(10,6))\r\n",
        "cmap=train.corr()\r\n",
        "sns.heatmap(cmap)"
      ],
      "execution_count": 430,
      "outputs": [
        {
          "output_type": "execute_result",
          "data": {
            "text/plain": [
              "<matplotlib.axes._subplots.AxesSubplot at 0x7f2d5d50e3c8>"
            ]
          },
          "metadata": {
            "tags": []
          },
          "execution_count": 430
        },
        {
          "output_type": "display_data",
          "data": {
            "image/png": "[encoded data removed]",
            "text/plain": [
              "<Figure size 720x432 with 2 Axes>"
            ]
          },
          "metadata": {
            "tags": [],
            "needs_background": "light"
          }
        }
      ]
    },
    {
      "cell_type": "markdown",
      "metadata": {
        "id": "mZWGUCD1nHbz"
      },
      "source": [
        "Print off categorial columns"
      ]
    },
    {
      "cell_type": "code",
      "metadata": {
        "colab": {
          "base_uri": "https://localhost:8080/"
        },
        "id": "PyWq4nUtnKNj",
        "outputId": "366dba9b-9f90-49f4-f738-b0c6dcb5fd29"
      },
      "source": [
        "train.dtypes[train.dtypes != 'int64'][train.dtypes != 'float64']"
      ],
      "execution_count": 431,
      "outputs": [
        {
          "output_type": "execute_result",
          "data": {
            "text/plain": [
              "sourcing_channel       object\n",
              "residence_area_type    object\n",
              "dtype: object"
            ]
          },
          "metadata": {
            "tags": []
          },
          "execution_count": 431
        }
      ]
    },
    {
      "cell_type": "markdown",
      "metadata": {
        "id": "CqCOfrnLnQBH"
      },
      "source": [
        "Ordinal encoder"
      ]
    },
    {
      "cell_type": "code",
      "metadata": {
        "id": "WYxLO8B5nSdR"
      },
      "source": [
        "#ordinal encoder\r\n",
        "from sklearn import preprocessing\r\n",
        "from sklearn.preprocessing import OrdinalEncoder\r\n",
        "\r\n",
        "enc = OrdinalEncoder()\r\n",
        "\r\n",
        "train.sourcing_channel = enc.fit_transform(train.sourcing_channel.values.reshape(-1,1))\r\n",
        "train.residence_area_type = enc.fit_transform(train.residence_area_type.values.reshape(-1,1))\r\n",
        "\r\n",
        "test.sourcing_channel = enc.fit_transform(test.sourcing_channel.values.reshape(-1,1))\r\n",
        "test.residence_area_type = enc.fit_transform(test.residence_area_type.values.reshape(-1,1))"
      ],
      "execution_count": 432,
      "outputs": []
    },
    {
      "cell_type": "code",
      "metadata": {
        "colab": {
          "base_uri": "https://localhost:8080/",
          "height": 443
        },
        "id": "3l42cdoBn-cD",
        "outputId": "c303aaac-c60f-472d-91a7-f2fb89722d72"
      },
      "source": [
        "train"
      ],
      "execution_count": 433,
      "outputs": [
        {
          "output_type": "execute_result",
          "data": {
            "text/html": [
              "<div>\n",
              "<style scoped>\n",
              "    .dataframe tbody tr th:only-of-type {\n",
              "        vertical-align: middle;\n",
              "    }\n",
              "\n",
              "    .dataframe tbody tr th {\n",
              "        vertical-align: top;\n",
              "    }\n",
              "\n",
              "    .dataframe thead th {\n",
              "        text-align: right;\n",
              "    }\n",
              "</style>\n",
              "<table border=\"1\" class=\"dataframe\">\n",
              "  <thead>\n",
              "    <tr style=\"text-align: right;\">\n",
              "      <th></th>\n",
              "      <th>id</th>\n",
              "      <th>perc_premium_paid_by_cash_credit</th>\n",
              "      <th>age_in_days</th>\n",
              "      <th>Income</th>\n",
              "      <th>Count_3-6_months_late</th>\n",
              "      <th>Count_6-12_months_late</th>\n",
              "      <th>Count_more_than_12_months_late</th>\n",
              "      <th>application_underwriting_score</th>\n",
              "      <th>no_of_premiums_paid</th>\n",
              "      <th>sourcing_channel</th>\n",
              "      <th>residence_area_type</th>\n",
              "      <th>premium</th>\n",
              "      <th>renewal</th>\n",
              "      <th>age_in_years</th>\n",
              "    </tr>\n",
              "  </thead>\n",
              "  <tbody>\n",
              "    <tr>\n",
              "      <th>0</th>\n",
              "      <td>110936</td>\n",
              "      <td>0.429</td>\n",
              "      <td>12058</td>\n",
              "      <td>355060</td>\n",
              "      <td>0.0</td>\n",
              "      <td>0.0</td>\n",
              "      <td>0.0</td>\n",
              "      <td>99.02</td>\n",
              "      <td>13</td>\n",
              "      <td>2.0</td>\n",
              "      <td>1.0</td>\n",
              "      <td>3300</td>\n",
              "      <td>1</td>\n",
              "      <td>33</td>\n",
              "    </tr>\n",
              "    <tr>\n",
              "      <th>1</th>\n",
              "      <td>41492</td>\n",
              "      <td>0.010</td>\n",
              "      <td>21546</td>\n",
              "      <td>315150</td>\n",
              "      <td>0.0</td>\n",
              "      <td>0.0</td>\n",
              "      <td>0.0</td>\n",
              "      <td>99.89</td>\n",
              "      <td>21</td>\n",
              "      <td>0.0</td>\n",
              "      <td>1.0</td>\n",
              "      <td>18000</td>\n",
              "      <td>1</td>\n",
              "      <td>58</td>\n",
              "    </tr>\n",
              "    <tr>\n",
              "      <th>2</th>\n",
              "      <td>31300</td>\n",
              "      <td>0.917</td>\n",
              "      <td>17531</td>\n",
              "      <td>84140</td>\n",
              "      <td>2.0</td>\n",
              "      <td>3.0</td>\n",
              "      <td>1.0</td>\n",
              "      <td>98.69</td>\n",
              "      <td>7</td>\n",
              "      <td>2.0</td>\n",
              "      <td>0.0</td>\n",
              "      <td>3300</td>\n",
              "      <td>0</td>\n",
              "      <td>47</td>\n",
              "    </tr>\n",
              "    <tr>\n",
              "      <th>3</th>\n",
              "      <td>19415</td>\n",
              "      <td>0.049</td>\n",
              "      <td>15341</td>\n",
              "      <td>250510</td>\n",
              "      <td>0.0</td>\n",
              "      <td>0.0</td>\n",
              "      <td>0.0</td>\n",
              "      <td>99.57</td>\n",
              "      <td>9</td>\n",
              "      <td>0.0</td>\n",
              "      <td>1.0</td>\n",
              "      <td>9600</td>\n",
              "      <td>1</td>\n",
              "      <td>42</td>\n",
              "    </tr>\n",
              "    <tr>\n",
              "      <th>4</th>\n",
              "      <td>99379</td>\n",
              "      <td>0.052</td>\n",
              "      <td>31400</td>\n",
              "      <td>198680</td>\n",
              "      <td>0.0</td>\n",
              "      <td>0.0</td>\n",
              "      <td>0.0</td>\n",
              "      <td>99.87</td>\n",
              "      <td>12</td>\n",
              "      <td>1.0</td>\n",
              "      <td>1.0</td>\n",
              "      <td>9600</td>\n",
              "      <td>1</td>\n",
              "      <td>85</td>\n",
              "    </tr>\n",
              "    <tr>\n",
              "      <th>...</th>\n",
              "      <td>...</td>\n",
              "      <td>...</td>\n",
              "      <td>...</td>\n",
              "      <td>...</td>\n",
              "      <td>...</td>\n",
              "      <td>...</td>\n",
              "      <td>...</td>\n",
              "      <td>...</td>\n",
              "      <td>...</td>\n",
              "      <td>...</td>\n",
              "      <td>...</td>\n",
              "      <td>...</td>\n",
              "      <td>...</td>\n",
              "      <td>...</td>\n",
              "    </tr>\n",
              "    <tr>\n",
              "      <th>79848</th>\n",
              "      <td>48057</td>\n",
              "      <td>0.425</td>\n",
              "      <td>23367</td>\n",
              "      <td>224550</td>\n",
              "      <td>1.0</td>\n",
              "      <td>0.0</td>\n",
              "      <td>0.0</td>\n",
              "      <td>98.70</td>\n",
              "      <td>19</td>\n",
              "      <td>1.0</td>\n",
              "      <td>1.0</td>\n",
              "      <td>13800</td>\n",
              "      <td>1</td>\n",
              "      <td>63</td>\n",
              "    </tr>\n",
              "    <tr>\n",
              "      <th>79849</th>\n",
              "      <td>59012</td>\n",
              "      <td>0.704</td>\n",
              "      <td>19356</td>\n",
              "      <td>279150</td>\n",
              "      <td>1.0</td>\n",
              "      <td>0.0</td>\n",
              "      <td>1.0</td>\n",
              "      <td>99.42</td>\n",
              "      <td>12</td>\n",
              "      <td>0.0</td>\n",
              "      <td>0.0</td>\n",
              "      <td>28500</td>\n",
              "      <td>1</td>\n",
              "      <td>52</td>\n",
              "    </tr>\n",
              "    <tr>\n",
              "      <th>79850</th>\n",
              "      <td>77050</td>\n",
              "      <td>0.000</td>\n",
              "      <td>23372</td>\n",
              "      <td>305020</td>\n",
              "      <td>0.0</td>\n",
              "      <td>0.0</td>\n",
              "      <td>0.0</td>\n",
              "      <td>98.89</td>\n",
              "      <td>12</td>\n",
              "      <td>0.0</td>\n",
              "      <td>0.0</td>\n",
              "      <td>9600</td>\n",
              "      <td>1</td>\n",
              "      <td>63</td>\n",
              "    </tr>\n",
              "    <tr>\n",
              "      <th>79851</th>\n",
              "      <td>67225</td>\n",
              "      <td>0.398</td>\n",
              "      <td>22641</td>\n",
              "      <td>39330</td>\n",
              "      <td>0.0</td>\n",
              "      <td>0.0</td>\n",
              "      <td>0.0</td>\n",
              "      <td>98.68</td>\n",
              "      <td>8</td>\n",
              "      <td>0.0</td>\n",
              "      <td>0.0</td>\n",
              "      <td>5700</td>\n",
              "      <td>1</td>\n",
              "      <td>61</td>\n",
              "    </tr>\n",
              "    <tr>\n",
              "      <th>79852</th>\n",
              "      <td>71531</td>\n",
              "      <td>0.550</td>\n",
              "      <td>15709</td>\n",
              "      <td>280140</td>\n",
              "      <td>1.0</td>\n",
              "      <td>0.0</td>\n",
              "      <td>1.0</td>\n",
              "      <td>99.84</td>\n",
              "      <td>8</td>\n",
              "      <td>0.0</td>\n",
              "      <td>1.0</td>\n",
              "      <td>9600</td>\n",
              "      <td>0</td>\n",
              "      <td>43</td>\n",
              "    </tr>\n",
              "  </tbody>\n",
              "</table>\n",
              "<p>79853 rows × 14 columns</p>\n",
              "</div>"
            ],
            "text/plain": [
              "           id  perc_premium_paid_by_cash_credit  ...  renewal  age_in_years\n",
              "0      110936                             0.429  ...        1            33\n",
              "1       41492                             0.010  ...        1            58\n",
              "2       31300                             0.917  ...        0            47\n",
              "3       19415                             0.049  ...        1            42\n",
              "4       99379                             0.052  ...        1            85\n",
              "...       ...                               ...  ...      ...           ...\n",
              "79848   48057                             0.425  ...        1            63\n",
              "79849   59012                             0.704  ...        1            52\n",
              "79850   77050                             0.000  ...        1            63\n",
              "79851   67225                             0.398  ...        1            61\n",
              "79852   71531                             0.550  ...        0            43\n",
              "\n",
              "[79853 rows x 14 columns]"
            ]
          },
          "metadata": {
            "tags": []
          },
          "execution_count": 433
        }
      ]
    },
    {
      "cell_type": "code",
      "metadata": {
        "colab": {
          "base_uri": "https://localhost:8080/",
          "height": 443
        },
        "id": "e9vwZngQoAUN",
        "outputId": "723f1a12-65ad-43fb-e1ee-ffdeefd73683"
      },
      "source": [
        "test"
      ],
      "execution_count": 434,
      "outputs": [
        {
          "output_type": "execute_result",
          "data": {
            "text/html": [
              "<div>\n",
              "<style scoped>\n",
              "    .dataframe tbody tr th:only-of-type {\n",
              "        vertical-align: middle;\n",
              "    }\n",
              "\n",
              "    .dataframe tbody tr th {\n",
              "        vertical-align: top;\n",
              "    }\n",
              "\n",
              "    .dataframe thead th {\n",
              "        text-align: right;\n",
              "    }\n",
              "</style>\n",
              "<table border=\"1\" class=\"dataframe\">\n",
              "  <thead>\n",
              "    <tr style=\"text-align: right;\">\n",
              "      <th></th>\n",
              "      <th>id</th>\n",
              "      <th>perc_premium_paid_by_cash_credit</th>\n",
              "      <th>age_in_days</th>\n",
              "      <th>Income</th>\n",
              "      <th>Count_3-6_months_late</th>\n",
              "      <th>Count_6-12_months_late</th>\n",
              "      <th>Count_more_than_12_months_late</th>\n",
              "      <th>application_underwriting_score</th>\n",
              "      <th>no_of_premiums_paid</th>\n",
              "      <th>sourcing_channel</th>\n",
              "      <th>residence_area_type</th>\n",
              "      <th>premium</th>\n",
              "      <th>age_in_years</th>\n",
              "    </tr>\n",
              "  </thead>\n",
              "  <tbody>\n",
              "    <tr>\n",
              "      <th>0</th>\n",
              "      <td>649</td>\n",
              "      <td>0.001</td>\n",
              "      <td>27384</td>\n",
              "      <td>51150</td>\n",
              "      <td>0.0</td>\n",
              "      <td>0.0</td>\n",
              "      <td>0.0</td>\n",
              "      <td>99.89</td>\n",
              "      <td>7</td>\n",
              "      <td>0.0</td>\n",
              "      <td>0.0</td>\n",
              "      <td>3300</td>\n",
              "      <td>74</td>\n",
              "    </tr>\n",
              "    <tr>\n",
              "      <th>1</th>\n",
              "      <td>81136</td>\n",
              "      <td>0.124</td>\n",
              "      <td>23735</td>\n",
              "      <td>285140</td>\n",
              "      <td>0.0</td>\n",
              "      <td>0.0</td>\n",
              "      <td>0.0</td>\n",
              "      <td>98.93</td>\n",
              "      <td>19</td>\n",
              "      <td>0.0</td>\n",
              "      <td>1.0</td>\n",
              "      <td>11700</td>\n",
              "      <td>64</td>\n",
              "    </tr>\n",
              "    <tr>\n",
              "      <th>2</th>\n",
              "      <td>70762</td>\n",
              "      <td>1.000</td>\n",
              "      <td>17170</td>\n",
              "      <td>186030</td>\n",
              "      <td>0.0</td>\n",
              "      <td>0.0</td>\n",
              "      <td>0.0</td>\n",
              "      <td>99.21</td>\n",
              "      <td>2</td>\n",
              "      <td>1.0</td>\n",
              "      <td>1.0</td>\n",
              "      <td>11700</td>\n",
              "      <td>47</td>\n",
              "    </tr>\n",
              "    <tr>\n",
              "      <th>3</th>\n",
              "      <td>53935</td>\n",
              "      <td>0.198</td>\n",
              "      <td>16068</td>\n",
              "      <td>123540</td>\n",
              "      <td>0.0</td>\n",
              "      <td>0.0</td>\n",
              "      <td>0.0</td>\n",
              "      <td>99.00</td>\n",
              "      <td>11</td>\n",
              "      <td>1.0</td>\n",
              "      <td>0.0</td>\n",
              "      <td>5400</td>\n",
              "      <td>43</td>\n",
              "    </tr>\n",
              "    <tr>\n",
              "      <th>4</th>\n",
              "      <td>15476</td>\n",
              "      <td>0.041</td>\n",
              "      <td>10591</td>\n",
              "      <td>200020</td>\n",
              "      <td>1.0</td>\n",
              "      <td>0.0</td>\n",
              "      <td>0.0</td>\n",
              "      <td>99.17</td>\n",
              "      <td>14</td>\n",
              "      <td>0.0</td>\n",
              "      <td>0.0</td>\n",
              "      <td>9600</td>\n",
              "      <td>28</td>\n",
              "    </tr>\n",
              "    <tr>\n",
              "      <th>...</th>\n",
              "      <td>...</td>\n",
              "      <td>...</td>\n",
              "      <td>...</td>\n",
              "      <td>...</td>\n",
              "      <td>...</td>\n",
              "      <td>...</td>\n",
              "      <td>...</td>\n",
              "      <td>...</td>\n",
              "      <td>...</td>\n",
              "      <td>...</td>\n",
              "      <td>...</td>\n",
              "      <td>...</td>\n",
              "      <td>...</td>\n",
              "    </tr>\n",
              "    <tr>\n",
              "      <th>34219</th>\n",
              "      <td>81988</td>\n",
              "      <td>0.227</td>\n",
              "      <td>20810</td>\n",
              "      <td>110240</td>\n",
              "      <td>0.0</td>\n",
              "      <td>0.0</td>\n",
              "      <td>0.0</td>\n",
              "      <td>97.52</td>\n",
              "      <td>9</td>\n",
              "      <td>0.0</td>\n",
              "      <td>1.0</td>\n",
              "      <td>5400</td>\n",
              "      <td>56</td>\n",
              "    </tr>\n",
              "    <tr>\n",
              "      <th>34220</th>\n",
              "      <td>30326</td>\n",
              "      <td>0.157</td>\n",
              "      <td>19353</td>\n",
              "      <td>125090</td>\n",
              "      <td>0.0</td>\n",
              "      <td>0.0</td>\n",
              "      <td>0.0</td>\n",
              "      <td>99.62</td>\n",
              "      <td>7</td>\n",
              "      <td>0.0</td>\n",
              "      <td>0.0</td>\n",
              "      <td>1200</td>\n",
              "      <td>52</td>\n",
              "    </tr>\n",
              "    <tr>\n",
              "      <th>34221</th>\n",
              "      <td>65749</td>\n",
              "      <td>0.325</td>\n",
              "      <td>18264</td>\n",
              "      <td>196570</td>\n",
              "      <td>0.0</td>\n",
              "      <td>0.0</td>\n",
              "      <td>0.0</td>\n",
              "      <td>98.58</td>\n",
              "      <td>14</td>\n",
              "      <td>1.0</td>\n",
              "      <td>0.0</td>\n",
              "      <td>1200</td>\n",
              "      <td>50</td>\n",
              "    </tr>\n",
              "    <tr>\n",
              "      <th>34222</th>\n",
              "      <td>65686</td>\n",
              "      <td>0.983</td>\n",
              "      <td>16798</td>\n",
              "      <td>212150</td>\n",
              "      <td>1.0</td>\n",
              "      <td>0.0</td>\n",
              "      <td>1.0</td>\n",
              "      <td>98.88</td>\n",
              "      <td>10</td>\n",
              "      <td>0.0</td>\n",
              "      <td>1.0</td>\n",
              "      <td>13800</td>\n",
              "      <td>45</td>\n",
              "    </tr>\n",
              "    <tr>\n",
              "      <th>34223</th>\n",
              "      <td>93826</td>\n",
              "      <td>0.005</td>\n",
              "      <td>24467</td>\n",
              "      <td>89190</td>\n",
              "      <td>1.0</td>\n",
              "      <td>0.0</td>\n",
              "      <td>0.0</td>\n",
              "      <td>98.00</td>\n",
              "      <td>11</td>\n",
              "      <td>0.0</td>\n",
              "      <td>1.0</td>\n",
              "      <td>5400</td>\n",
              "      <td>66</td>\n",
              "    </tr>\n",
              "  </tbody>\n",
              "</table>\n",
              "<p>34224 rows × 13 columns</p>\n",
              "</div>"
            ],
            "text/plain": [
              "          id  perc_premium_paid_by_cash_credit  ...  premium  age_in_years\n",
              "0        649                             0.001  ...     3300            74\n",
              "1      81136                             0.124  ...    11700            64\n",
              "2      70762                             1.000  ...    11700            47\n",
              "3      53935                             0.198  ...     5400            43\n",
              "4      15476                             0.041  ...     9600            28\n",
              "...      ...                               ...  ...      ...           ...\n",
              "34219  81988                             0.227  ...     5400            56\n",
              "34220  30326                             0.157  ...     1200            52\n",
              "34221  65749                             0.325  ...     1200            50\n",
              "34222  65686                             0.983  ...    13800            45\n",
              "34223  93826                             0.005  ...     5400            66\n",
              "\n",
              "[34224 rows x 13 columns]"
            ]
          },
          "metadata": {
            "tags": []
          },
          "execution_count": 434
        }
      ]
    },
    {
      "cell_type": "markdown",
      "metadata": {
        "id": "aVI77j5MooWT"
      },
      "source": [
        "Define X, y and X_test"
      ]
    },
    {
      "cell_type": "code",
      "metadata": {
        "id": "LWiZ2_j1ovbq"
      },
      "source": [
        "train_id = train.id\r\n",
        "test_id = test.id\r\n",
        "\r\n",
        "y = train.renewal\r\n",
        "X = train.drop(['renewal', 'age_in_days', 'id'], axis = 1)\r\n",
        "X_test = test.drop(['age_in_days', 'id'], axis = 1)"
      ],
      "execution_count": 435,
      "outputs": []
    },
    {
      "cell_type": "code",
      "metadata": {
        "colab": {
          "base_uri": "https://localhost:8080/"
        },
        "id": "knMLS6r3xLVA",
        "outputId": "905c6430-749d-4257-9d3f-1fd583ddc150"
      },
      "source": [
        "from sklearn.preprocessing import StandardScaler\r\n",
        "scaler = StandardScaler()\r\n",
        "\r\n",
        "X = scaler.fit_transform(X) # normalizing the features\r\n",
        "# Scale the test set\r\n",
        "X_test = scaler.transform(X_test)\r\n",
        "X.shape, X_test.shape"
      ],
      "execution_count": 436,
      "outputs": [
        {
          "output_type": "execute_result",
          "data": {
            "text/plain": [
              "((79853, 11), (34224, 11))"
            ]
          },
          "metadata": {
            "tags": []
          },
          "execution_count": 436
        }
      ]
    },
    {
      "cell_type": "code",
      "metadata": {
        "colab": {
          "base_uri": "https://localhost:8080/"
        },
        "id": "Fl5vAWgLHybO",
        "outputId": "6ba16977-1332-4059-aaa7-b6a69f002e78"
      },
      "source": [
        "X"
      ],
      "execution_count": 437,
      "outputs": [
        {
          "output_type": "execute_result",
          "data": {
            "text/plain": [
              "array([[ 0.34251415,  0.29443993, -0.35938304, ...,  0.81073162,\n",
              "        -0.81097826, -1.27573452],\n",
              "       [-0.90855901,  0.21407012, -0.35938304, ...,  0.81073162,\n",
              "         0.75258245,  0.50614563],\n",
              "       [ 1.79961129, -0.25113234,  2.53456277, ..., -1.2334538 ,\n",
              "        -0.81097826, -0.27788164],\n",
              "       ...,\n",
              "       [-0.93841756,  0.19367056, -0.35938304, ..., -1.2334538 ,\n",
              "        -0.14088081,  0.86252166],\n",
              "       [ 0.24995265, -0.34136966, -0.35938304, ..., -1.2334538 ,\n",
              "        -0.55570304,  0.71997125],\n",
              "       [ 0.70380258,  0.14356781,  1.08758987, ...,  0.81073162,\n",
              "        -0.14088081, -0.56298246]])"
            ]
          },
          "metadata": {
            "tags": []
          },
          "execution_count": 437
        }
      ]
    },
    {
      "cell_type": "markdown",
      "metadata": {
        "id": "BOXt8Fd9xzTe"
      },
      "source": [
        "Graph 2D"
      ]
    },
    {
      "cell_type": "code",
      "metadata": {
        "id": "GmPIjQQgwpQc",
        "colab": {
          "base_uri": "https://localhost:8080/"
        },
        "outputId": "0b45982e-7e83-4f28-c897-fbdc4d53d837"
      },
      "source": [
        "np.mean(X),np.std(X)"
      ],
      "execution_count": 438,
      "outputs": [
        {
          "output_type": "execute_result",
          "data": {
            "text/plain": [
              "(8.305761436598819e-16, 0.9999999999999999)"
            ]
          },
          "metadata": {
            "tags": []
          },
          "execution_count": 438
        }
      ]
    },
    {
      "cell_type": "code",
      "metadata": {
        "id": "j1RJGPxgwtVt",
        "colab": {
          "base_uri": "https://localhost:8080/"
        },
        "outputId": "19b3cf0a-0a3d-402e-99e5-475bc143ddb6"
      },
      "source": [
        "feat_cols = ['feature'+str(i) for i in range(X.shape[1])]\r\n",
        "feat_cols"
      ],
      "execution_count": 439,
      "outputs": [
        {
          "output_type": "execute_result",
          "data": {
            "text/plain": [
              "['feature0',\n",
              " 'feature1',\n",
              " 'feature2',\n",
              " 'feature3',\n",
              " 'feature4',\n",
              " 'feature5',\n",
              " 'feature6',\n",
              " 'feature7',\n",
              " 'feature8',\n",
              " 'feature9',\n",
              " 'feature10']"
            ]
          },
          "metadata": {
            "tags": []
          },
          "execution_count": 439
        }
      ]
    },
    {
      "cell_type": "code",
      "metadata": {
        "id": "s4dt2SIIw6sk",
        "colab": {
          "base_uri": "https://localhost:8080/",
          "height": 407
        },
        "outputId": "2e129b14-ea11-4520-f3c1-1045b12bcc6c"
      },
      "source": [
        "normalised = pd.DataFrame(X,columns=feat_cols)\r\n",
        "normalised"
      ],
      "execution_count": 440,
      "outputs": [
        {
          "output_type": "execute_result",
          "data": {
            "text/html": [
              "<div>\n",
              "<style scoped>\n",
              "    .dataframe tbody tr th:only-of-type {\n",
              "        vertical-align: middle;\n",
              "    }\n",
              "\n",
              "    .dataframe tbody tr th {\n",
              "        vertical-align: top;\n",
              "    }\n",
              "\n",
              "    .dataframe thead th {\n",
              "        text-align: right;\n",
              "    }\n",
              "</style>\n",
              "<table border=\"1\" class=\"dataframe\">\n",
              "  <thead>\n",
              "    <tr style=\"text-align: right;\">\n",
              "      <th></th>\n",
              "      <th>feature0</th>\n",
              "      <th>feature1</th>\n",
              "      <th>feature2</th>\n",
              "      <th>feature3</th>\n",
              "      <th>feature4</th>\n",
              "      <th>feature5</th>\n",
              "      <th>feature6</th>\n",
              "      <th>feature7</th>\n",
              "      <th>feature8</th>\n",
              "      <th>feature9</th>\n",
              "      <th>feature10</th>\n",
              "    </tr>\n",
              "  </thead>\n",
              "  <tbody>\n",
              "    <tr>\n",
              "      <th>0</th>\n",
              "      <td>0.342514</td>\n",
              "      <td>0.294440</td>\n",
              "      <td>-0.359383</td>\n",
              "      <td>-0.179012</td>\n",
              "      <td>-0.192199</td>\n",
              "      <td>-0.072421</td>\n",
              "      <td>0.413122</td>\n",
              "      <td>1.118955</td>\n",
              "      <td>0.810732</td>\n",
              "      <td>-0.810978</td>\n",
              "      <td>-1.275735</td>\n",
              "    </tr>\n",
              "    <tr>\n",
              "      <th>1</th>\n",
              "      <td>-0.908559</td>\n",
              "      <td>0.214070</td>\n",
              "      <td>-0.359383</td>\n",
              "      <td>-0.179012</td>\n",
              "      <td>-0.192199</td>\n",
              "      <td>1.125282</td>\n",
              "      <td>1.960315</td>\n",
              "      <td>-0.782089</td>\n",
              "      <td>0.810732</td>\n",
              "      <td>0.752582</td>\n",
              "      <td>0.506146</td>\n",
              "    </tr>\n",
              "    <tr>\n",
              "      <th>2</th>\n",
              "      <td>1.799611</td>\n",
              "      <td>-0.251132</td>\n",
              "      <td>2.534563</td>\n",
              "      <td>6.697811</td>\n",
              "      <td>3.014592</td>\n",
              "      <td>-0.526723</td>\n",
              "      <td>-0.747272</td>\n",
              "      <td>1.118955</td>\n",
              "      <td>-1.233454</td>\n",
              "      <td>-0.810978</td>\n",
              "      <td>-0.277882</td>\n",
              "    </tr>\n",
              "    <tr>\n",
              "      <th>3</th>\n",
              "      <td>-0.792111</td>\n",
              "      <td>0.083900</td>\n",
              "      <td>-0.359383</td>\n",
              "      <td>-0.179012</td>\n",
              "      <td>-0.192199</td>\n",
              "      <td>0.684748</td>\n",
              "      <td>-0.360474</td>\n",
              "      <td>-0.782089</td>\n",
              "      <td>0.810732</td>\n",
              "      <td>-0.140881</td>\n",
              "      <td>-0.634258</td>\n",
              "    </tr>\n",
              "    <tr>\n",
              "      <th>4</th>\n",
              "      <td>-0.783153</td>\n",
              "      <td>-0.020474</td>\n",
              "      <td>-0.359383</td>\n",
              "      <td>-0.179012</td>\n",
              "      <td>-0.192199</td>\n",
              "      <td>1.097749</td>\n",
              "      <td>0.219723</td>\n",
              "      <td>0.168433</td>\n",
              "      <td>0.810732</td>\n",
              "      <td>-0.140881</td>\n",
              "      <td>2.430576</td>\n",
              "    </tr>\n",
              "    <tr>\n",
              "      <th>...</th>\n",
              "      <td>...</td>\n",
              "      <td>...</td>\n",
              "      <td>...</td>\n",
              "      <td>...</td>\n",
              "      <td>...</td>\n",
              "      <td>...</td>\n",
              "      <td>...</td>\n",
              "      <td>...</td>\n",
              "      <td>...</td>\n",
              "      <td>...</td>\n",
              "      <td>...</td>\n",
              "    </tr>\n",
              "    <tr>\n",
              "      <th>79848</th>\n",
              "      <td>0.330571</td>\n",
              "      <td>0.031622</td>\n",
              "      <td>1.087590</td>\n",
              "      <td>-0.179012</td>\n",
              "      <td>-0.192199</td>\n",
              "      <td>-0.512956</td>\n",
              "      <td>1.573517</td>\n",
              "      <td>0.168433</td>\n",
              "      <td>0.810732</td>\n",
              "      <td>0.305851</td>\n",
              "      <td>0.862522</td>\n",
              "    </tr>\n",
              "    <tr>\n",
              "      <th>79849</th>\n",
              "      <td>1.163624</td>\n",
              "      <td>0.141574</td>\n",
              "      <td>1.087590</td>\n",
              "      <td>-0.179012</td>\n",
              "      <td>3.014592</td>\n",
              "      <td>0.478247</td>\n",
              "      <td>0.219723</td>\n",
              "      <td>-0.782089</td>\n",
              "      <td>-1.233454</td>\n",
              "      <td>1.869412</td>\n",
              "      <td>0.078494</td>\n",
              "    </tr>\n",
              "    <tr>\n",
              "      <th>79850</th>\n",
              "      <td>-0.938418</td>\n",
              "      <td>0.193671</td>\n",
              "      <td>-0.359383</td>\n",
              "      <td>-0.179012</td>\n",
              "      <td>-0.192199</td>\n",
              "      <td>-0.251389</td>\n",
              "      <td>0.219723</td>\n",
              "      <td>-0.782089</td>\n",
              "      <td>-1.233454</td>\n",
              "      <td>-0.140881</td>\n",
              "      <td>0.862522</td>\n",
              "    </tr>\n",
              "    <tr>\n",
              "      <th>79851</th>\n",
              "      <td>0.249953</td>\n",
              "      <td>-0.341370</td>\n",
              "      <td>-0.359383</td>\n",
              "      <td>-0.179012</td>\n",
              "      <td>-0.192199</td>\n",
              "      <td>-0.540489</td>\n",
              "      <td>-0.553873</td>\n",
              "      <td>-0.782089</td>\n",
              "      <td>-1.233454</td>\n",
              "      <td>-0.555703</td>\n",
              "      <td>0.719971</td>\n",
              "    </tr>\n",
              "    <tr>\n",
              "      <th>79852</th>\n",
              "      <td>0.703803</td>\n",
              "      <td>0.143568</td>\n",
              "      <td>1.087590</td>\n",
              "      <td>-0.179012</td>\n",
              "      <td>3.014592</td>\n",
              "      <td>1.056449</td>\n",
              "      <td>-0.553873</td>\n",
              "      <td>-0.782089</td>\n",
              "      <td>0.810732</td>\n",
              "      <td>-0.140881</td>\n",
              "      <td>-0.562982</td>\n",
              "    </tr>\n",
              "  </tbody>\n",
              "</table>\n",
              "<p>79853 rows × 11 columns</p>\n",
              "</div>"
            ],
            "text/plain": [
              "       feature0  feature1  feature2  ...  feature8  feature9  feature10\n",
              "0      0.342514  0.294440 -0.359383  ...  0.810732 -0.810978  -1.275735\n",
              "1     -0.908559  0.214070 -0.359383  ...  0.810732  0.752582   0.506146\n",
              "2      1.799611 -0.251132  2.534563  ... -1.233454 -0.810978  -0.277882\n",
              "3     -0.792111  0.083900 -0.359383  ...  0.810732 -0.140881  -0.634258\n",
              "4     -0.783153 -0.020474 -0.359383  ...  0.810732 -0.140881   2.430576\n",
              "...         ...       ...       ...  ...       ...       ...        ...\n",
              "79848  0.330571  0.031622  1.087590  ...  0.810732  0.305851   0.862522\n",
              "79849  1.163624  0.141574  1.087590  ... -1.233454  1.869412   0.078494\n",
              "79850 -0.938418  0.193671 -0.359383  ... -1.233454 -0.140881   0.862522\n",
              "79851  0.249953 -0.341370 -0.359383  ... -1.233454 -0.555703   0.719971\n",
              "79852  0.703803  0.143568  1.087590  ...  0.810732 -0.140881  -0.562982\n",
              "\n",
              "[79853 rows x 11 columns]"
            ]
          },
          "metadata": {
            "tags": []
          },
          "execution_count": 440
        }
      ]
    },
    {
      "cell_type": "code",
      "metadata": {
        "id": "2Z3DKbpIvV9A"
      },
      "source": [
        "from sklearn.decomposition import PCA\r\n",
        "\r\n",
        "pca_insurance = PCA(n_components=2)\r\n",
        "principalComponents_insurance = pca_insurance.fit_transform(X)"
      ],
      "execution_count": 441,
      "outputs": []
    },
    {
      "cell_type": "code",
      "metadata": {
        "colab": {
          "base_uri": "https://localhost:8080/",
          "height": 500
        },
        "id": "ss5iE0hoJxLL",
        "outputId": "514b4a91-412e-48fd-fbc0-e6a10bb6e75e"
      },
      "source": [
        "plt.figure(figsize=(12,8))\r\n",
        "plt.scatter(principalComponents_insurance[:, 0], principalComponents_insurance[:, 1], c = y, alpha = 1)"
      ],
      "execution_count": 442,
      "outputs": [
        {
          "output_type": "execute_result",
          "data": {
            "text/plain": [
              "<matplotlib.collections.PathCollection at 0x7f2d5d8d8940>"
            ]
          },
          "metadata": {
            "tags": []
          },
          "execution_count": 442
        },
        {
          "output_type": "display_data",
          "data": {
            "image/png": "[encoded data removed]",
            "text/plain": [
              "<Figure size 864x576 with 1 Axes>"
            ]
          },
          "metadata": {
            "tags": [],
            "needs_background": "light"
          }
        }
      ]
    },
    {
      "cell_type": "code",
      "metadata": {
        "id": "iFhf6_v8KByK"
      },
      "source": [
        "pca_insurance = PCA(n_components=11)"
      ],
      "execution_count": 443,
      "outputs": []
    },
    {
      "cell_type": "markdown",
      "metadata": {
        "id": "OHeOVqt_LYzW"
      },
      "source": [
        "Split X dataset"
      ]
    },
    {
      "cell_type": "code",
      "metadata": {
        "colab": {
          "base_uri": "https://localhost:8080/"
        },
        "id": "3Gzy9uOBLbH7",
        "outputId": "2198fe43-c9e7-45c1-e89a-a5f067921a1a"
      },
      "source": [
        "#split train set for testing\r\n",
        "from sklearn.model_selection import train_test_split\r\n",
        "\r\n",
        "X_train, X_val, y_train, y_val = train_test_split(X, y, test_size=0.10, random_state=1, stratify=y, shuffle=True)\r\n",
        "X_train.shape, X_val.shape, y_train.shape, y_val.shape"
      ],
      "execution_count": 444,
      "outputs": [
        {
          "output_type": "execute_result",
          "data": {
            "text/plain": [
              "((71867, 11), (7986, 11), (71867,), (7986,))"
            ]
          },
          "metadata": {
            "tags": []
          },
          "execution_count": 444
        }
      ]
    },
    {
      "cell_type": "markdown",
      "metadata": {
        "id": "Z80od2NxSVbx"
      },
      "source": [
        "Count values in validation set"
      ]
    },
    {
      "cell_type": "code",
      "metadata": {
        "colab": {
          "base_uri": "https://localhost:8080/"
        },
        "id": "sQW_BlBRSYuH",
        "outputId": "bbe6b751-9521-4a27-d30f-3b8986c8e4d8"
      },
      "source": [
        "from collections import Counter\r\n",
        "\r\n",
        "print(Counter(y_val))"
      ],
      "execution_count": 445,
      "outputs": [
        {
          "output_type": "stream",
          "text": [
            "Counter({1: 7486, 0: 500})\n"
          ],
          "name": "stdout"
        }
      ]
    },
    {
      "cell_type": "markdown",
      "metadata": {
        "id": "E3ncuzevTb_Q"
      },
      "source": [
        "Class weights"
      ]
    },
    {
      "cell_type": "code",
      "metadata": {
        "id": "NPyWbToNTeK2"
      },
      "source": [
        "from sklearn.utils import class_weight\r\n",
        "class_weights = dict(zip(np.unique(y_train), class_weight.compute_class_weight('balanced',np.unique(y_train), y_train))) "
      ],
      "execution_count": 446,
      "outputs": []
    },
    {
      "cell_type": "markdown",
      "metadata": {
        "id": "HrcnDx2tTitV"
      },
      "source": [
        "Define model"
      ]
    },
    {
      "cell_type": "code",
      "metadata": {
        "colab": {
          "base_uri": "https://localhost:8080/"
        },
        "id": "k02adWMAUI20",
        "outputId": "27cf6e32-f18e-4e1a-b083-e02eabb089ad"
      },
      "source": [
        "from sklearn.svm import LinearSVC\r\n",
        "\r\n",
        "model = LinearSVC(class_weight='balanced', dual=True, max_iter=850, C=20).fit(X_train, y_train)\r\n",
        "print(model.score(X_train, y_train))\r\n"
      ],
      "execution_count": 447,
      "outputs": [
        {
          "output_type": "stream",
          "text": [
            "0.8153533610697539\n"
          ],
          "name": "stdout"
        },
        {
          "output_type": "stream",
          "text": [
            "/usr/local/lib/python3.6/dist-packages/sklearn/svm/_base.py:947: ConvergenceWarning: Liblinear failed to converge, increase the number of iterations.\n",
            "  \"the number of iterations.\", ConvergenceWarning)\n"
          ],
          "name": "stderr"
        }
      ]
    },
    {
      "cell_type": "code",
      "metadata": {
        "colab": {
          "base_uri": "https://localhost:8080/"
        },
        "id": "bopWRHaDXQnD",
        "outputId": "b704d280-9810-4940-90f0-22bcc217f5da"
      },
      "source": [
        "#print the tunable parameters (They were not tuned in this example, everything kept as default)\r\n",
        "params = model.get_params()\r\n",
        "print(params)"
      ],
      "execution_count": 448,
      "outputs": [
        {
          "output_type": "stream",
          "text": [
            "{'C': 20, 'class_weight': 'balanced', 'dual': True, 'fit_intercept': True, 'intercept_scaling': 1, 'loss': 'squared_hinge', 'max_iter': 850, 'multi_class': 'ovr', 'penalty': 'l2', 'random_state': None, 'tol': 0.0001, 'verbose': 0}\n"
          ],
          "name": "stdout"
        }
      ]
    },
    {
      "cell_type": "markdown",
      "metadata": {
        "id": "LLC_9NIYXf9G"
      },
      "source": [
        "Prediction on validation set"
      ]
    },
    {
      "cell_type": "code",
      "metadata": {
        "colab": {
          "base_uri": "https://localhost:8080/"
        },
        "id": "nlX2BfOLXjG2",
        "outputId": "eddc0ee8-7d1d-4cea-94ee-045188186758"
      },
      "source": [
        "y_pred = model.predict(X_val)\r\n",
        "print(model.score(X_val, y_val))"
      ],
      "execution_count": 449,
      "outputs": [
        {
          "output_type": "stream",
          "text": [
            "0.8195592286501377\n"
          ],
          "name": "stdout"
        }
      ]
    },
    {
      "cell_type": "code",
      "metadata": {
        "colab": {
          "base_uri": "https://localhost:8080/"
        },
        "id": "t0HluC6pYXdZ",
        "outputId": "85d2c7c6-5b9e-40ec-f9f8-d2240fedd5cf"
      },
      "source": [
        "# confusion matrix \r\n",
        "from sklearn.metrics import confusion_matrix\r\n",
        "\r\n",
        "cm = confusion_matrix(y_val, y_pred)  \r\n",
        "print (\"Confusion Matrix : \\n\", cm)"
      ],
      "execution_count": 450,
      "outputs": [
        {
          "output_type": "stream",
          "text": [
            "Confusion Matrix : \n",
            " [[ 314  186]\n",
            " [1255 6231]]\n"
          ],
          "name": "stdout"
        }
      ]
    },
    {
      "cell_type": "code",
      "metadata": {
        "colab": {
          "base_uri": "https://localhost:8080/"
        },
        "id": "_bv7RdYJY9OB",
        "outputId": "ff1e0cee-f53b-4ca8-c39b-2351b1945ee3"
      },
      "source": [
        "print(Counter(y_val))"
      ],
      "execution_count": 451,
      "outputs": [
        {
          "output_type": "stream",
          "text": [
            "Counter({1: 7486, 0: 500})\n"
          ],
          "name": "stdout"
        }
      ]
    },
    {
      "cell_type": "code",
      "metadata": {
        "colab": {
          "base_uri": "https://localhost:8080/"
        },
        "id": "3pDyHzqAZB-B",
        "outputId": "f405ae5a-8af4-421a-b4ca-9f83a1df4d1b"
      },
      "source": [
        "print(Counter(y_pred))"
      ],
      "execution_count": 452,
      "outputs": [
        {
          "output_type": "stream",
          "text": [
            "Counter({1: 6417, 0: 1569})\n"
          ],
          "name": "stdout"
        }
      ]
    },
    {
      "cell_type": "code",
      "metadata": {
        "colab": {
          "base_uri": "https://localhost:8080/",
          "height": 407
        },
        "id": "m641-0Atbg5l",
        "outputId": "552b58f3-1334-414f-f594-8fc7c1f023d7"
      },
      "source": [
        "df=pd.DataFrame({'Actual': y_val, 'Predicted':y_pred})\r\n",
        "df"
      ],
      "execution_count": 453,
      "outputs": [
        {
          "output_type": "execute_result",
          "data": {
            "text/html": [
              "<div>\n",
              "<style scoped>\n",
              "    .dataframe tbody tr th:only-of-type {\n",
              "        vertical-align: middle;\n",
              "    }\n",
              "\n",
              "    .dataframe tbody tr th {\n",
              "        vertical-align: top;\n",
              "    }\n",
              "\n",
              "    .dataframe thead th {\n",
              "        text-align: right;\n",
              "    }\n",
              "</style>\n",
              "<table border=\"1\" class=\"dataframe\">\n",
              "  <thead>\n",
              "    <tr style=\"text-align: right;\">\n",
              "      <th></th>\n",
              "      <th>Actual</th>\n",
              "      <th>Predicted</th>\n",
              "    </tr>\n",
              "  </thead>\n",
              "  <tbody>\n",
              "    <tr>\n",
              "      <th>41021</th>\n",
              "      <td>1</td>\n",
              "      <td>1</td>\n",
              "    </tr>\n",
              "    <tr>\n",
              "      <th>23814</th>\n",
              "      <td>1</td>\n",
              "      <td>1</td>\n",
              "    </tr>\n",
              "    <tr>\n",
              "      <th>30306</th>\n",
              "      <td>1</td>\n",
              "      <td>1</td>\n",
              "    </tr>\n",
              "    <tr>\n",
              "      <th>27997</th>\n",
              "      <td>1</td>\n",
              "      <td>1</td>\n",
              "    </tr>\n",
              "    <tr>\n",
              "      <th>3701</th>\n",
              "      <td>1</td>\n",
              "      <td>1</td>\n",
              "    </tr>\n",
              "    <tr>\n",
              "      <th>...</th>\n",
              "      <td>...</td>\n",
              "      <td>...</td>\n",
              "    </tr>\n",
              "    <tr>\n",
              "      <th>613</th>\n",
              "      <td>1</td>\n",
              "      <td>1</td>\n",
              "    </tr>\n",
              "    <tr>\n",
              "      <th>15498</th>\n",
              "      <td>1</td>\n",
              "      <td>1</td>\n",
              "    </tr>\n",
              "    <tr>\n",
              "      <th>34715</th>\n",
              "      <td>1</td>\n",
              "      <td>1</td>\n",
              "    </tr>\n",
              "    <tr>\n",
              "      <th>26722</th>\n",
              "      <td>1</td>\n",
              "      <td>1</td>\n",
              "    </tr>\n",
              "    <tr>\n",
              "      <th>52505</th>\n",
              "      <td>1</td>\n",
              "      <td>1</td>\n",
              "    </tr>\n",
              "  </tbody>\n",
              "</table>\n",
              "<p>7986 rows × 2 columns</p>\n",
              "</div>"
            ],
            "text/plain": [
              "       Actual  Predicted\n",
              "41021       1          1\n",
              "23814       1          1\n",
              "30306       1          1\n",
              "27997       1          1\n",
              "3701        1          1\n",
              "...       ...        ...\n",
              "613         1          1\n",
              "15498       1          1\n",
              "34715       1          1\n",
              "26722       1          1\n",
              "52505       1          1\n",
              "\n",
              "[7986 rows x 2 columns]"
            ]
          },
          "metadata": {
            "tags": []
          },
          "execution_count": 453
        }
      ]
    },
    {
      "cell_type": "markdown",
      "metadata": {
        "id": "HHRbs2GHbo3F"
      },
      "source": [
        "Plot errors"
      ]
    },
    {
      "cell_type": "code",
      "metadata": {
        "id": "WoBE3_jzbwxU"
      },
      "source": [
        "pca_val = PCA(n_components=2)\r\n",
        "principalComponents_val = pca_val.fit_transform(X_val)"
      ],
      "execution_count": 454,
      "outputs": []
    },
    {
      "cell_type": "code",
      "metadata": {
        "colab": {
          "base_uri": "https://localhost:8080/",
          "height": 500
        },
        "id": "n4Czjtu0b2tj",
        "outputId": "f9d7cc08-e2fa-4170-ad96-391764d59f4a"
      },
      "source": [
        "plt.figure(figsize = (12, 8))\r\n",
        "plt.scatter(principalComponents_val[:, 0], principalComponents_val[:,1], c = y_pred == y_val - 1, alpha = .8, s = 50)"
      ],
      "execution_count": 455,
      "outputs": [
        {
          "output_type": "execute_result",
          "data": {
            "text/plain": [
              "<matplotlib.collections.PathCollection at 0x7f2d5d8fc8d0>"
            ]
          },
          "metadata": {
            "tags": []
          },
          "execution_count": 455
        },
        {
          "output_type": "display_data",
          "data": {
            "image/png": "[encoded data removed]",
            "text/plain": [
              "<Figure size 864x576 with 1 Axes>"
            ]
          },
          "metadata": {
            "tags": [],
            "needs_background": "light"
          }
        }
      ]
    },
    {
      "cell_type": "markdown",
      "metadata": {
        "id": "a4s93dCFcccC"
      },
      "source": [
        "Predict on test set"
      ]
    },
    {
      "cell_type": "code",
      "metadata": {
        "colab": {
          "base_uri": "https://localhost:8080/"
        },
        "id": "_Qgww4KnchcT",
        "outputId": "c417fe65-57d0-453a-cbac-f4258d2b8b6c"
      },
      "source": [
        "predictions = model.predict(X_test)\r\n",
        "predictions"
      ],
      "execution_count": 456,
      "outputs": [
        {
          "output_type": "execute_result",
          "data": {
            "text/plain": [
              "array([1, 1, 1, ..., 1, 0, 1])"
            ]
          },
          "metadata": {
            "tags": []
          },
          "execution_count": 456
        }
      ]
    },
    {
      "cell_type": "markdown",
      "metadata": {
        "id": "TnnfZdLcMoWK"
      },
      "source": [
        "Prepare incentives"
      ]
    },
    {
      "cell_type": "code",
      "metadata": {
        "colab": {
          "base_uri": "https://localhost:8080/"
        },
        "id": "eLbt3DJ8IVzU",
        "outputId": "43248598-ac9f-4b35-82db-94b7856adeae"
      },
      "source": [
        "incentives = test['premium'] * .03\r\n",
        "incentives"
      ],
      "execution_count": 457,
      "outputs": [
        {
          "output_type": "execute_result",
          "data": {
            "text/plain": [
              "0         99.0\n",
              "1        351.0\n",
              "2        351.0\n",
              "3        162.0\n",
              "4        288.0\n",
              "         ...  \n",
              "34219    162.0\n",
              "34220     36.0\n",
              "34221     36.0\n",
              "34222    414.0\n",
              "34223    162.0\n",
              "Name: premium, Length: 34224, dtype: float64"
            ]
          },
          "metadata": {
            "tags": []
          },
          "execution_count": 457
        }
      ]
    },
    {
      "cell_type": "markdown",
      "metadata": {
        "id": "pWtuH-hTJ8LA"
      },
      "source": [
        "Prepare submission"
      ]
    },
    {
      "cell_type": "code",
      "metadata": {
        "colab": {
          "base_uri": "https://localhost:8080/"
        },
        "id": "cDeq2W17J-2z",
        "outputId": "64796668-5ac0-42cd-dd77-82a7464a4e5d"
      },
      "source": [
        "output = pd.DataFrame({'id': test_id, 'renewal': predictions, 'incentives': incentives})\r\n",
        "output.to_csv('submission.csv', index=False)\r\n",
        "print(\"Your submission was successfully saved!\")"
      ],
      "execution_count": 458,
      "outputs": [
        {
          "output_type": "stream",
          "text": [
            "Your submission was successfully saved!\n"
          ],
          "name": "stdout"
        }
      ]
    },
    {
      "cell_type": "markdown",
      "metadata": {
        "id": "uGDtBtr6K7Ai"
      },
      "source": [
        "Submit predictions"
      ]
    },
    {
      "cell_type": "code",
      "metadata": {
        "colab": {
          "base_uri": "https://localhost:8080/",
          "height": 407
        },
        "id": "UK7WkcsiK9oy",
        "outputId": "5852d33a-c6e8-4544-cccb-1df653e5abb5"
      },
      "source": [
        "#upload submission\r\n",
        "submission = pd.read_csv(\"submission.csv\")\r\n",
        "submission"
      ],
      "execution_count": 459,
      "outputs": [
        {
          "output_type": "execute_result",
          "data": {
            "text/html": [
              "<div>\n",
              "<style scoped>\n",
              "    .dataframe tbody tr th:only-of-type {\n",
              "        vertical-align: middle;\n",
              "    }\n",
              "\n",
              "    .dataframe tbody tr th {\n",
              "        vertical-align: top;\n",
              "    }\n",
              "\n",
              "    .dataframe thead th {\n",
              "        text-align: right;\n",
              "    }\n",
              "</style>\n",
              "<table border=\"1\" class=\"dataframe\">\n",
              "  <thead>\n",
              "    <tr style=\"text-align: right;\">\n",
              "      <th></th>\n",
              "      <th>id</th>\n",
              "      <th>renewal</th>\n",
              "      <th>incentives</th>\n",
              "    </tr>\n",
              "  </thead>\n",
              "  <tbody>\n",
              "    <tr>\n",
              "      <th>0</th>\n",
              "      <td>649</td>\n",
              "      <td>1</td>\n",
              "      <td>99.0</td>\n",
              "    </tr>\n",
              "    <tr>\n",
              "      <th>1</th>\n",
              "      <td>81136</td>\n",
              "      <td>1</td>\n",
              "      <td>351.0</td>\n",
              "    </tr>\n",
              "    <tr>\n",
              "      <th>2</th>\n",
              "      <td>70762</td>\n",
              "      <td>1</td>\n",
              "      <td>351.0</td>\n",
              "    </tr>\n",
              "    <tr>\n",
              "      <th>3</th>\n",
              "      <td>53935</td>\n",
              "      <td>1</td>\n",
              "      <td>162.0</td>\n",
              "    </tr>\n",
              "    <tr>\n",
              "      <th>4</th>\n",
              "      <td>15476</td>\n",
              "      <td>1</td>\n",
              "      <td>288.0</td>\n",
              "    </tr>\n",
              "    <tr>\n",
              "      <th>...</th>\n",
              "      <td>...</td>\n",
              "      <td>...</td>\n",
              "      <td>...</td>\n",
              "    </tr>\n",
              "    <tr>\n",
              "      <th>34219</th>\n",
              "      <td>81988</td>\n",
              "      <td>1</td>\n",
              "      <td>162.0</td>\n",
              "    </tr>\n",
              "    <tr>\n",
              "      <th>34220</th>\n",
              "      <td>30326</td>\n",
              "      <td>1</td>\n",
              "      <td>36.0</td>\n",
              "    </tr>\n",
              "    <tr>\n",
              "      <th>34221</th>\n",
              "      <td>65749</td>\n",
              "      <td>1</td>\n",
              "      <td>36.0</td>\n",
              "    </tr>\n",
              "    <tr>\n",
              "      <th>34222</th>\n",
              "      <td>65686</td>\n",
              "      <td>0</td>\n",
              "      <td>414.0</td>\n",
              "    </tr>\n",
              "    <tr>\n",
              "      <th>34223</th>\n",
              "      <td>93826</td>\n",
              "      <td>1</td>\n",
              "      <td>162.0</td>\n",
              "    </tr>\n",
              "  </tbody>\n",
              "</table>\n",
              "<p>34224 rows × 3 columns</p>\n",
              "</div>"
            ],
            "text/plain": [
              "          id  renewal  incentives\n",
              "0        649        1        99.0\n",
              "1      81136        1       351.0\n",
              "2      70762        1       351.0\n",
              "3      53935        1       162.0\n",
              "4      15476        1       288.0\n",
              "...      ...      ...         ...\n",
              "34219  81988        1       162.0\n",
              "34220  30326        1        36.0\n",
              "34221  65749        1        36.0\n",
              "34222  65686        0       414.0\n",
              "34223  93826        1       162.0\n",
              "\n",
              "[34224 rows x 3 columns]"
            ]
          },
          "metadata": {
            "tags": []
          },
          "execution_count": 459
        }
      ]
    }
  ]
}